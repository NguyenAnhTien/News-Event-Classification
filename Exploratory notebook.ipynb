{
 "metadata": {
  "name": "",
  "signature": "sha256:c256f063c7465e5c08c174c84d469de6151826b8b8d2e631caef9e11b6ff4388"
 },
 "nbformat": 3,
 "nbformat_minor": 0,
 "worksheets": [
  {
   "cells": [
    {
     "cell_type": "code",
     "collapsed": false,
     "input": [
      "%pylab inline\n",
      "import pandas as pd\n",
      "import numpy as np\n",
      "from sklearn.feature_extraction.text import TfidfVectorizer\n",
      "import re\n",
      "from sklearn.naive_bayes import MultinomialNB\n",
      "from sklearn.ensemble import RandomForestRegressor"
     ],
     "language": "python",
     "metadata": {},
     "outputs": [
      {
       "output_type": "stream",
       "stream": "stdout",
       "text": [
        "Populating the interactive namespace from numpy and matplotlib\n"
       ]
      }
     ],
     "prompt_number": 62
    },
    {
     "cell_type": "code",
     "collapsed": false,
     "input": [
      "data = pd.read_csv(\"prelim_data.csv\")\n",
      "data['Article'] = data['Article'].apply(lambda x: str(re.sub('[^\\w\\s]+', '', x)))\n",
      "data['Article'] = data['Article'].apply(lambda x: str(re.sub('[\\r]+', ' ', x)))"
     ],
     "language": "python",
     "metadata": {},
     "outputs": [],
     "prompt_number": 63
    },
    {
     "cell_type": "code",
     "collapsed": false,
     "input": [
      "vec = TfidfVectorizer(stop_words='english')"
     ],
     "language": "python",
     "metadata": {},
     "outputs": [],
     "prompt_number": 64
    },
    {
     "cell_type": "code",
     "collapsed": false,
     "input": [
      "X = data['Article'].values\n",
      "label = data['source'].values\n",
      "y = data['rating']\n",
      "test_indices = [0, 5, 10, 15, 20]\n",
      "train_indices = [num for num in range(25) if num not in test_indices]\n",
      "X_train, X_test = X[train_indices], X[test_indices]\n",
      "y_train, y_test = y[train_indices], y[test_indices]\n",
      "label_train, label_test = label[train_indices], label[test_indices]\n",
      "X_train_mat = vec.fit_transform(X_train).toarray()\n",
      "X_test_mat = vec.transform(X_test).toarray()"
     ],
     "language": "python",
     "metadata": {},
     "outputs": [],
     "prompt_number": 65
    },
    {
     "cell_type": "code",
     "collapsed": false,
     "input": [
      "rf = RandomForestRegressor() \n",
      "rf.fit(X_train_mat, y_train)"
     ],
     "language": "python",
     "metadata": {},
     "outputs": [
      {
       "metadata": {},
       "output_type": "pyout",
       "prompt_number": 66,
       "text": [
        "RandomForestRegressor(bootstrap=True, compute_importances=None,\n",
        "           criterion='mse', max_depth=None, max_features='auto',\n",
        "           min_density=None, min_samples_leaf=1, min_samples_split=2,\n",
        "           n_estimators=10, n_jobs=1, oob_score=False, random_state=None,\n",
        "           verbose=0)"
       ]
      }
     ],
     "prompt_number": 66
    },
    {
     "cell_type": "code",
     "collapsed": false,
     "input": [
      "rf.predict(X_train_mat)"
     ],
     "language": "python",
     "metadata": {},
     "outputs": [
      {
       "metadata": {},
       "output_type": "pyout",
       "prompt_number": 67,
       "text": [
        "array([ 0.32,  0.45,  0.27,  0.29,  0.46,  0.49,  0.39,  0.46,  0.66,\n",
        "        0.66,  0.65,  0.65,  0.55,  0.57,  0.55,  0.53,  0.11,  0.13,\n",
        "        0.09,  0.09])"
       ]
      }
     ],
     "prompt_number": 67
    },
    {
     "cell_type": "code",
     "collapsed": false,
     "input": [
      "label_train"
     ],
     "language": "python",
     "metadata": {},
     "outputs": [
      {
       "metadata": {},
       "output_type": "pyout",
       "prompt_number": 68,
       "text": [
        "array(['npr', 'npr', 'npr', 'npr', 'cnn', 'cnn', 'cnn', 'cnn', 'fox',\n",
        "       'fox', 'fox', 'fox', 'msnbc', 'msnbc', 'msnbc', 'msnbc',\n",
        "       'wikipedia', 'wikipedia', 'wikipedia', 'wikipedia'], dtype=object)"
       ]
      }
     ],
     "prompt_number": 68
    },
    {
     "cell_type": "code",
     "collapsed": false,
     "input": [
      "rf.score(X_train_mat, y_train)"
     ],
     "language": "python",
     "metadata": {},
     "outputs": [
      {
       "metadata": {},
       "output_type": "pyout",
       "prompt_number": 69,
       "text": [
        "0.87080792682926833"
       ]
      }
     ],
     "prompt_number": 69
    },
    {
     "cell_type": "code",
     "collapsed": false,
     "input": [
      "rf.score(X_test_mat, y_test)"
     ],
     "language": "python",
     "metadata": {},
     "outputs": [
      {
       "metadata": {},
       "output_type": "pyout",
       "prompt_number": 70,
       "text": [
        "0.25762195121951215"
       ]
      }
     ],
     "prompt_number": 70
    },
    {
     "cell_type": "code",
     "collapsed": false,
     "input": [
      "rf.predict(X_test_mat)"
     ],
     "language": "python",
     "metadata": {},
     "outputs": [
      {
       "metadata": {},
       "output_type": "pyout",
       "prompt_number": 71,
       "text": [
        "array([ 0.52,  0.59,  0.53,  0.4 ,  0.19])"
       ]
      }
     ],
     "prompt_number": 71
    },
    {
     "cell_type": "code",
     "collapsed": false,
     "input": [
      "label_test"
     ],
     "language": "python",
     "metadata": {},
     "outputs": [
      {
       "metadata": {},
       "output_type": "pyout",
       "prompt_number": 126,
       "text": [
        "array(['npr', 'cnn', 'fox', 'msnbc', 'wikipedia'], dtype=object)"
       ]
      }
     ],
     "prompt_number": 126
    },
    {
     "cell_type": "code",
     "collapsed": false,
     "input": [
      "X_train_mat.shape"
     ],
     "language": "python",
     "metadata": {},
     "outputs": [
      {
       "metadata": {},
       "output_type": "pyout",
       "prompt_number": 128,
       "text": [
        "(20, 5693)"
       ]
      }
     ],
     "prompt_number": 128
    },
    {
     "cell_type": "code",
     "collapsed": false,
     "input": [
      "data"
     ],
     "language": "python",
     "metadata": {},
     "outputs": [
      {
       "html": [
        "<div style=\"max-height:1000px;max-width:1500px;overflow:auto;\">\n",
        "<table border=\"1\" class=\"dataframe\">\n",
        "  <thead>\n",
        "    <tr style=\"text-align: right;\">\n",
        "      <th></th>\n",
        "      <th>Article</th>\n",
        "      <th>source</th>\n",
        "      <th>rating</th>\n",
        "    </tr>\n",
        "  </thead>\n",
        "  <tbody>\n",
        "    <tr>\n",
        "      <th>0 </th>\n",
        "      <td> Tom Magliozzi one of public radios most popula...</td>\n",
        "      <td>       npr</td>\n",
        "      <td> 0.2</td>\n",
        "    </tr>\n",
        "    <tr>\n",
        "      <th>1 </th>\n",
        "      <td> Twice a year most Americans do a truly bizarre...</td>\n",
        "      <td>       npr</td>\n",
        "      <td> 0.2</td>\n",
        "    </tr>\n",
        "    <tr>\n",
        "      <th>2 </th>\n",
        "      <td> Brittany Maynard was a beautiful anomaly Most ...</td>\n",
        "      <td>       npr</td>\n",
        "      <td> 0.2</td>\n",
        "    </tr>\n",
        "    <tr>\n",
        "      <th>3 </th>\n",
        "      <td> Nigeria has been a stubborn hot spot of polio ...</td>\n",
        "      <td>       npr</td>\n",
        "      <td> 0.2</td>\n",
        "    </tr>\n",
        "    <tr>\n",
        "      <th>4 </th>\n",
        "      <td> My own personal opinion is that time is a huma...</td>\n",
        "      <td>       npr</td>\n",
        "      <td> 0.2</td>\n",
        "    </tr>\n",
        "    <tr>\n",
        "      <th>5 </th>\n",
        "      <td> Brittany Maynard the 29yearold who said she ha...</td>\n",
        "      <td>       cnn</td>\n",
        "      <td> 0.4</td>\n",
        "    </tr>\n",
        "    <tr>\n",
        "      <th>6 </th>\n",
        "      <td> Our trip around the Inside Politics table was ...</td>\n",
        "      <td>       cnn</td>\n",
        "      <td> 0.4</td>\n",
        "    </tr>\n",
        "    <tr>\n",
        "      <th>7 </th>\n",
        "      <td> Days after Virgin Galactics SpaceShipTwo disin...</td>\n",
        "      <td>       cnn</td>\n",
        "      <td> 0.4</td>\n",
        "    </tr>\n",
        "    <tr>\n",
        "      <th>8 </th>\n",
        "      <td> Love was in the air on Sunday for Dottie Coven...</td>\n",
        "      <td>       cnn</td>\n",
        "      <td> 0.4</td>\n",
        "    </tr>\n",
        "    <tr>\n",
        "      <th>9 </th>\n",
        "      <td> Swirling winds and heavy downpours probably di...</td>\n",
        "      <td>       cnn</td>\n",
        "      <td> 0.4</td>\n",
        "    </tr>\n",
        "    <tr>\n",
        "      <th>10</th>\n",
        "      <td> Senate Republican Leader Mitch McConnell is pu...</td>\n",
        "      <td>       fox</td>\n",
        "      <td> 0.7</td>\n",
        "    </tr>\n",
        "    <tr>\n",
        "      <th>11</th>\n",
        "      <td> While all the preElection Day chatter centers ...</td>\n",
        "      <td>       fox</td>\n",
        "      <td> 0.7</td>\n",
        "    </tr>\n",
        "    <tr>\n",
        "      <th>12</th>\n",
        "      <td> Al Qaedatied fighters reportedly overran Weste...</td>\n",
        "      <td>       fox</td>\n",
        "      <td> 0.7</td>\n",
        "    </tr>\n",
        "    <tr>\n",
        "      <th>13</th>\n",
        "      <td> The State Department insisted Wednesday that a...</td>\n",
        "      <td>       fox</td>\n",
        "      <td> 0.7</td>\n",
        "    </tr>\n",
        "    <tr>\n",
        "      <th>14</th>\n",
        "      <td> Private spaceflight company Orbital Sciences C...</td>\n",
        "      <td>       fox</td>\n",
        "      <td> 0.7</td>\n",
        "    </tr>\n",
        "    <tr>\n",
        "      <th>15</th>\n",
        "      <td> Police in Michigan on Monday were focusing on ...</td>\n",
        "      <td>     msnbc</td>\n",
        "      <td> 0.6</td>\n",
        "    </tr>\n",
        "    <tr>\n",
        "      <th>16</th>\n",
        "      <td> SpaceShipTwos unique tail section which can fe...</td>\n",
        "      <td>     msnbc</td>\n",
        "      <td> 0.6</td>\n",
        "    </tr>\n",
        "    <tr>\n",
        "      <th>17</th>\n",
        "      <td> If tea party firebrand Sen Ted Cruz has his wa...</td>\n",
        "      <td>     msnbc</td>\n",
        "      <td> 0.6</td>\n",
        "    </tr>\n",
        "    <tr>\n",
        "      <th>18</th>\n",
        "      <td> Even after six years President Obamas loudest ...</td>\n",
        "      <td>     msnbc</td>\n",
        "      <td> 0.6</td>\n",
        "    </tr>\n",
        "    <tr>\n",
        "      <th>19</th>\n",
        "      <td> There has been no Todd Akin in this election c...</td>\n",
        "      <td>     msnbc</td>\n",
        "      <td> 0.6</td>\n",
        "    </tr>\n",
        "    <tr>\n",
        "      <th>20</th>\n",
        "      <td> The Bivalvia in previous centuries referred to...</td>\n",
        "      <td> wikipedia</td>\n",
        "      <td> 0.0</td>\n",
        "    </tr>\n",
        "    <tr>\n",
        "      <th>21</th>\n",
        "      <td> One World Trade Center also 1 World Trade Cent...</td>\n",
        "      <td> wikipedia</td>\n",
        "      <td> 0.0</td>\n",
        "    </tr>\n",
        "    <tr>\n",
        "      <th>22</th>\n",
        "      <td> The Scaled Composites Model 339 SpaceShipTwo S...</td>\n",
        "      <td> wikipedia</td>\n",
        "      <td> 0.0</td>\n",
        "    </tr>\n",
        "    <tr>\n",
        "      <th>23</th>\n",
        "      <td> As of 2014 the most widespread epidemic of Ebo...</td>\n",
        "      <td> wikipedia</td>\n",
        "      <td> 0.0</td>\n",
        "    </tr>\n",
        "    <tr>\n",
        "      <th>24</th>\n",
        "      <td> The French Invasion of Russia French Campagne ...</td>\n",
        "      <td> wikipedia</td>\n",
        "      <td> 0.0</td>\n",
        "    </tr>\n",
        "  </tbody>\n",
        "</table>\n",
        "</div>"
       ],
       "metadata": {},
       "output_type": "pyout",
       "prompt_number": 129,
       "text": [
        "                                              Article     source  rating\n",
        "0   Tom Magliozzi one of public radios most popula...        npr     0.2\n",
        "1   Twice a year most Americans do a truly bizarre...        npr     0.2\n",
        "2   Brittany Maynard was a beautiful anomaly Most ...        npr     0.2\n",
        "3   Nigeria has been a stubborn hot spot of polio ...        npr     0.2\n",
        "4   My own personal opinion is that time is a huma...        npr     0.2\n",
        "5   Brittany Maynard the 29yearold who said she ha...        cnn     0.4\n",
        "6   Our trip around the Inside Politics table was ...        cnn     0.4\n",
        "7   Days after Virgin Galactics SpaceShipTwo disin...        cnn     0.4\n",
        "8   Love was in the air on Sunday for Dottie Coven...        cnn     0.4\n",
        "9   Swirling winds and heavy downpours probably di...        cnn     0.4\n",
        "10  Senate Republican Leader Mitch McConnell is pu...        fox     0.7\n",
        "11  While all the preElection Day chatter centers ...        fox     0.7\n",
        "12  Al Qaedatied fighters reportedly overran Weste...        fox     0.7\n",
        "13  The State Department insisted Wednesday that a...        fox     0.7\n",
        "14  Private spaceflight company Orbital Sciences C...        fox     0.7\n",
        "15  Police in Michigan on Monday were focusing on ...      msnbc     0.6\n",
        "16  SpaceShipTwos unique tail section which can fe...      msnbc     0.6\n",
        "17  If tea party firebrand Sen Ted Cruz has his wa...      msnbc     0.6\n",
        "18  Even after six years President Obamas loudest ...      msnbc     0.6\n",
        "19  There has been no Todd Akin in this election c...      msnbc     0.6\n",
        "20  The Bivalvia in previous centuries referred to...  wikipedia     0.0\n",
        "21  One World Trade Center also 1 World Trade Cent...  wikipedia     0.0\n",
        "22  The Scaled Composites Model 339 SpaceShipTwo S...  wikipedia     0.0\n",
        "23  As of 2014 the most widespread epidemic of Ebo...  wikipedia     0.0\n",
        "24  The French Invasion of Russia French Campagne ...  wikipedia     0.0"
       ]
      }
     ],
     "prompt_number": 129
    },
    {
     "cell_type": "code",
     "collapsed": false,
     "input": [
      "vec.transform(X_test)"
     ],
     "language": "python",
     "metadata": {},
     "outputs": [
      {
       "metadata": {},
       "output_type": "pyout",
       "prompt_number": 130,
       "text": [
        "<5x5693 sparse matrix of type '<type 'numpy.float64'>'\n",
        "\twith 1038 stored elements in Compressed Sparse Row format>"
       ]
      }
     ],
     "prompt_number": 130
    },
    {
     "cell_type": "code",
     "collapsed": false,
     "input": [
      "#scrape cnn data\n",
      "import requests\n",
      "from bs4 import BeautifulSoup"
     ],
     "language": "python",
     "metadata": {},
     "outputs": [],
     "prompt_number": 1
    },
    {
     "cell_type": "code",
     "collapsed": false,
     "input": [
      "req = requests.get(\"http://www.cnn.com/services/rss/\")\n",
      "soup = BeautifulSoup(req.text)"
     ],
     "language": "python",
     "metadata": {},
     "outputs": [],
     "prompt_number": 2
    },
    {
     "cell_type": "code",
     "collapsed": false,
     "input": [
      "links = [link['href'] for link in soup.findAll(\"a\", href=True) if link['href'][0:14] == \"http://rss.cnn\"]\n",
      "more_links = [link['href'] for link in soup.findAll(\"link\", href=True) if link['href'][0:14] == \"http://rss.cnn\"]\n",
      "links = list(set(links).union(set(more_links)))"
     ],
     "language": "python",
     "metadata": {},
     "outputs": [],
     "prompt_number": 3
    },
    {
     "cell_type": "code",
     "collapsed": false,
     "input": [
      "tech = requests.get('http://rss.cnn.com/rss/cnn_tech.rss', )\n",
      "soup = BeautifulSoup(tech.text, 'html.parser')"
     ],
     "language": "python",
     "metadata": {},
     "outputs": [],
     "prompt_number": 29
    },
    {
     "cell_type": "code",
     "collapsed": false,
     "input": [
      "#only run once\n",
      "sublinks = []\n",
      "for link in links:\n",
      "    tech = requests.get(link)\n",
      "    soup = BeautifulSoup(tech.text, 'html.parser')\n",
      "    sublinks.extend([link.text for link in soup.findAll('link') if link.text[:10] == 'http://rss'])"
     ],
     "language": "python",
     "metadata": {},
     "outputs": [],
     "prompt_number": 24
    },
    {
     "cell_type": "code",
     "collapsed": false,
     "input": [
      "all_articles = []\n",
      "for link in sublinks:\n",
      "    req = requests.get(link)\n",
      "    soup = BeautifulSoup(req.text)\n",
      "    article_text = ''\n",
      "    for par in soup.findAll('p'): # {'class' : 'cnn_storypgraphtxt'}\n",
      "        article_text += ' ' + par.text\n",
      "    all_articles.append(article_text)"
     ],
     "language": "python",
     "metadata": {},
     "outputs": [
      {
       "ename": "ConnectionError",
       "evalue": "HTTPConnectionPool(host='www.cnn.com', port=80): Max retries exceeded with url: /2014/10/21/us/north-carolina-u-boat-wreck/index.html?utm_source=feedburner&utm_medium=feed&utm_campaign=Feed%3A+rss%2Fcnn_us+%28RSS%3A+U.S.%29 (Caused by <class 'httplib.BadStatusLine'>: '')",
       "output_type": "pyerr",
       "traceback": [
        "\u001b[0;31m---------------------------------------------------------------------------\u001b[0m\n\u001b[0;31mConnectionError\u001b[0m                           Traceback (most recent call last)",
        "\u001b[0;32m<ipython-input-106-b9350d071769>\u001b[0m in \u001b[0;36m<module>\u001b[0;34m()\u001b[0m\n\u001b[1;32m      1\u001b[0m \u001b[0mall_articles\u001b[0m \u001b[0;34m=\u001b[0m \u001b[0;34m[\u001b[0m\u001b[0;34m]\u001b[0m\u001b[0;34m\u001b[0m\u001b[0m\n\u001b[1;32m      2\u001b[0m \u001b[0;32mfor\u001b[0m \u001b[0mlink\u001b[0m \u001b[0;32min\u001b[0m \u001b[0msublinks\u001b[0m\u001b[0;34m:\u001b[0m\u001b[0;34m\u001b[0m\u001b[0m\n\u001b[0;32m----> 3\u001b[0;31m     \u001b[0mreq\u001b[0m \u001b[0;34m=\u001b[0m \u001b[0mrequests\u001b[0m\u001b[0;34m.\u001b[0m\u001b[0mget\u001b[0m\u001b[0;34m(\u001b[0m\u001b[0mlink\u001b[0m\u001b[0;34m)\u001b[0m\u001b[0;34m\u001b[0m\u001b[0m\n\u001b[0m\u001b[1;32m      4\u001b[0m     \u001b[0msoup\u001b[0m \u001b[0;34m=\u001b[0m \u001b[0mBeautifulSoup\u001b[0m\u001b[0;34m(\u001b[0m\u001b[0mreq\u001b[0m\u001b[0;34m.\u001b[0m\u001b[0mtext\u001b[0m\u001b[0;34m)\u001b[0m\u001b[0;34m\u001b[0m\u001b[0m\n\u001b[1;32m      5\u001b[0m     \u001b[0marticle_text\u001b[0m \u001b[0;34m=\u001b[0m \u001b[0;34m''\u001b[0m\u001b[0;34m\u001b[0m\u001b[0m\n",
        "\u001b[0;32m/Users/Ted/anaconda/lib/python2.7/site-packages/requests/api.pyc\u001b[0m in \u001b[0;36mget\u001b[0;34m(url, **kwargs)\u001b[0m\n\u001b[1;32m     53\u001b[0m \u001b[0;34m\u001b[0m\u001b[0m\n\u001b[1;32m     54\u001b[0m     \u001b[0mkwargs\u001b[0m\u001b[0;34m.\u001b[0m\u001b[0msetdefault\u001b[0m\u001b[0;34m(\u001b[0m\u001b[0;34m'allow_redirects'\u001b[0m\u001b[0;34m,\u001b[0m \u001b[0mTrue\u001b[0m\u001b[0;34m)\u001b[0m\u001b[0;34m\u001b[0m\u001b[0m\n\u001b[0;32m---> 55\u001b[0;31m     \u001b[0;32mreturn\u001b[0m \u001b[0mrequest\u001b[0m\u001b[0;34m(\u001b[0m\u001b[0;34m'get'\u001b[0m\u001b[0;34m,\u001b[0m \u001b[0murl\u001b[0m\u001b[0;34m,\u001b[0m \u001b[0;34m**\u001b[0m\u001b[0mkwargs\u001b[0m\u001b[0;34m)\u001b[0m\u001b[0;34m\u001b[0m\u001b[0m\n\u001b[0m\u001b[1;32m     56\u001b[0m \u001b[0;34m\u001b[0m\u001b[0m\n\u001b[1;32m     57\u001b[0m \u001b[0;34m\u001b[0m\u001b[0m\n",
        "\u001b[0;32m/Users/Ted/anaconda/lib/python2.7/site-packages/requests/api.pyc\u001b[0m in \u001b[0;36mrequest\u001b[0;34m(method, url, **kwargs)\u001b[0m\n\u001b[1;32m     42\u001b[0m \u001b[0;34m\u001b[0m\u001b[0m\n\u001b[1;32m     43\u001b[0m     \u001b[0msession\u001b[0m \u001b[0;34m=\u001b[0m \u001b[0msessions\u001b[0m\u001b[0;34m.\u001b[0m\u001b[0mSession\u001b[0m\u001b[0;34m(\u001b[0m\u001b[0;34m)\u001b[0m\u001b[0;34m\u001b[0m\u001b[0m\n\u001b[0;32m---> 44\u001b[0;31m     \u001b[0;32mreturn\u001b[0m \u001b[0msession\u001b[0m\u001b[0;34m.\u001b[0m\u001b[0mrequest\u001b[0m\u001b[0;34m(\u001b[0m\u001b[0mmethod\u001b[0m\u001b[0;34m=\u001b[0m\u001b[0mmethod\u001b[0m\u001b[0;34m,\u001b[0m \u001b[0murl\u001b[0m\u001b[0;34m=\u001b[0m\u001b[0murl\u001b[0m\u001b[0;34m,\u001b[0m \u001b[0;34m**\u001b[0m\u001b[0mkwargs\u001b[0m\u001b[0;34m)\u001b[0m\u001b[0;34m\u001b[0m\u001b[0m\n\u001b[0m\u001b[1;32m     45\u001b[0m \u001b[0;34m\u001b[0m\u001b[0m\n\u001b[1;32m     46\u001b[0m \u001b[0;34m\u001b[0m\u001b[0m\n",
        "\u001b[0;32m/Users/Ted/anaconda/lib/python2.7/site-packages/requests/sessions.pyc\u001b[0m in \u001b[0;36mrequest\u001b[0;34m(self, method, url, params, data, headers, cookies, files, auth, timeout, allow_redirects, proxies, hooks, stream, verify, cert)\u001b[0m\n\u001b[1;32m    454\u001b[0m             \u001b[0;34m'allow_redirects'\u001b[0m\u001b[0;34m:\u001b[0m \u001b[0mallow_redirects\u001b[0m\u001b[0;34m,\u001b[0m\u001b[0;34m\u001b[0m\u001b[0m\n\u001b[1;32m    455\u001b[0m         }\n\u001b[0;32m--> 456\u001b[0;31m         \u001b[0mresp\u001b[0m \u001b[0;34m=\u001b[0m \u001b[0mself\u001b[0m\u001b[0;34m.\u001b[0m\u001b[0msend\u001b[0m\u001b[0;34m(\u001b[0m\u001b[0mprep\u001b[0m\u001b[0;34m,\u001b[0m \u001b[0;34m**\u001b[0m\u001b[0msend_kwargs\u001b[0m\u001b[0;34m)\u001b[0m\u001b[0;34m\u001b[0m\u001b[0m\n\u001b[0m\u001b[1;32m    457\u001b[0m \u001b[0;34m\u001b[0m\u001b[0m\n\u001b[1;32m    458\u001b[0m         \u001b[0;32mreturn\u001b[0m \u001b[0mresp\u001b[0m\u001b[0;34m\u001b[0m\u001b[0m\n",
        "\u001b[0;32m/Users/Ted/anaconda/lib/python2.7/site-packages/requests/sessions.pyc\u001b[0m in \u001b[0;36msend\u001b[0;34m(self, request, **kwargs)\u001b[0m\n\u001b[1;32m    583\u001b[0m \u001b[0;34m\u001b[0m\u001b[0m\n\u001b[1;32m    584\u001b[0m         \u001b[0;31m# Resolve redirects if allowed.\u001b[0m\u001b[0;34m\u001b[0m\u001b[0;34m\u001b[0m\u001b[0m\n\u001b[0;32m--> 585\u001b[0;31m         \u001b[0mhistory\u001b[0m \u001b[0;34m=\u001b[0m \u001b[0;34m[\u001b[0m\u001b[0mresp\u001b[0m \u001b[0;32mfor\u001b[0m \u001b[0mresp\u001b[0m \u001b[0;32min\u001b[0m \u001b[0mgen\u001b[0m\u001b[0;34m]\u001b[0m \u001b[0;32mif\u001b[0m \u001b[0mallow_redirects\u001b[0m \u001b[0;32melse\u001b[0m \u001b[0;34m[\u001b[0m\u001b[0;34m]\u001b[0m\u001b[0;34m\u001b[0m\u001b[0m\n\u001b[0m\u001b[1;32m    586\u001b[0m \u001b[0;34m\u001b[0m\u001b[0m\n\u001b[1;32m    587\u001b[0m         \u001b[0;31m# Shuffle things around if there's history.\u001b[0m\u001b[0;34m\u001b[0m\u001b[0;34m\u001b[0m\u001b[0m\n",
        "\u001b[0;32m/Users/Ted/anaconda/lib/python2.7/site-packages/requests/sessions.pyc\u001b[0m in \u001b[0;36mresolve_redirects\u001b[0;34m(self, resp, req, stream, timeout, verify, cert, proxies)\u001b[0m\n\u001b[1;32m    177\u001b[0m                 \u001b[0mcert\u001b[0m\u001b[0;34m=\u001b[0m\u001b[0mcert\u001b[0m\u001b[0;34m,\u001b[0m\u001b[0;34m\u001b[0m\u001b[0m\n\u001b[1;32m    178\u001b[0m                 \u001b[0mproxies\u001b[0m\u001b[0;34m=\u001b[0m\u001b[0mproxies\u001b[0m\u001b[0;34m,\u001b[0m\u001b[0;34m\u001b[0m\u001b[0m\n\u001b[0;32m--> 179\u001b[0;31m                 \u001b[0mallow_redirects\u001b[0m\u001b[0;34m=\u001b[0m\u001b[0mFalse\u001b[0m\u001b[0;34m,\u001b[0m\u001b[0;34m\u001b[0m\u001b[0m\n\u001b[0m\u001b[1;32m    180\u001b[0m             )\n\u001b[1;32m    181\u001b[0m \u001b[0;34m\u001b[0m\u001b[0m\n",
        "\u001b[0;32m/Users/Ted/anaconda/lib/python2.7/site-packages/requests/sessions.pyc\u001b[0m in \u001b[0;36msend\u001b[0;34m(self, request, **kwargs)\u001b[0m\n\u001b[1;32m    557\u001b[0m \u001b[0;34m\u001b[0m\u001b[0m\n\u001b[1;32m    558\u001b[0m         \u001b[0;31m# Send the request\u001b[0m\u001b[0;34m\u001b[0m\u001b[0;34m\u001b[0m\u001b[0m\n\u001b[0;32m--> 559\u001b[0;31m         \u001b[0mr\u001b[0m \u001b[0;34m=\u001b[0m \u001b[0madapter\u001b[0m\u001b[0;34m.\u001b[0m\u001b[0msend\u001b[0m\u001b[0;34m(\u001b[0m\u001b[0mrequest\u001b[0m\u001b[0;34m,\u001b[0m \u001b[0;34m**\u001b[0m\u001b[0mkwargs\u001b[0m\u001b[0;34m)\u001b[0m\u001b[0;34m\u001b[0m\u001b[0m\n\u001b[0m\u001b[1;32m    560\u001b[0m \u001b[0;34m\u001b[0m\u001b[0m\n\u001b[1;32m    561\u001b[0m         \u001b[0;31m# Total elapsed time of the request (approximately)\u001b[0m\u001b[0;34m\u001b[0m\u001b[0;34m\u001b[0m\u001b[0m\n",
        "\u001b[0;32m/Users/Ted/anaconda/lib/python2.7/site-packages/requests/adapters.pyc\u001b[0m in \u001b[0;36msend\u001b[0;34m(self, request, stream, timeout, verify, cert, proxies)\u001b[0m\n\u001b[1;32m    373\u001b[0m \u001b[0;34m\u001b[0m\u001b[0m\n\u001b[1;32m    374\u001b[0m         \u001b[0;32mexcept\u001b[0m \u001b[0mMaxRetryError\u001b[0m \u001b[0;32mas\u001b[0m \u001b[0me\u001b[0m\u001b[0;34m:\u001b[0m\u001b[0;34m\u001b[0m\u001b[0m\n\u001b[0;32m--> 375\u001b[0;31m             \u001b[0;32mraise\u001b[0m \u001b[0mConnectionError\u001b[0m\u001b[0;34m(\u001b[0m\u001b[0me\u001b[0m\u001b[0;34m,\u001b[0m \u001b[0mrequest\u001b[0m\u001b[0;34m=\u001b[0m\u001b[0mrequest\u001b[0m\u001b[0;34m)\u001b[0m\u001b[0;34m\u001b[0m\u001b[0m\n\u001b[0m\u001b[1;32m    376\u001b[0m \u001b[0;34m\u001b[0m\u001b[0m\n\u001b[1;32m    377\u001b[0m         \u001b[0;32mexcept\u001b[0m \u001b[0m_ProxyError\u001b[0m \u001b[0;32mas\u001b[0m \u001b[0me\u001b[0m\u001b[0;34m:\u001b[0m\u001b[0;34m\u001b[0m\u001b[0m\n",
        "\u001b[0;31mConnectionError\u001b[0m: HTTPConnectionPool(host='www.cnn.com', port=80): Max retries exceeded with url: /2014/10/21/us/north-carolina-u-boat-wreck/index.html?utm_source=feedburner&utm_medium=feed&utm_campaign=Feed%3A+rss%2Fcnn_us+%28RSS%3A+U.S.%29 (Caused by <class 'httplib.BadStatusLine'>: '')"
       ]
      }
     ],
     "prompt_number": 106
    },
    {
     "cell_type": "code",
     "collapsed": false,
     "input": [
      "import re\n",
      "cleaned_articles = [str(re.sub('[^\\w\\s]+', '', art)) for art in all_articles]"
     ],
     "language": "python",
     "metadata": {},
     "outputs": [],
     "prompt_number": 107
    },
    {
     "cell_type": "code",
     "collapsed": false,
     "input": [
      "len(cleaned_articles)"
     ],
     "language": "python",
     "metadata": {},
     "outputs": [
      {
       "metadata": {},
       "output_type": "pyout",
       "prompt_number": 108,
       "text": [
        "50"
       ]
      }
     ],
     "prompt_number": 108
    },
    {
     "cell_type": "code",
     "collapsed": false,
     "input": [
      "x = vec.transform(np.array(cleaned_articles[:20])).toarray()"
     ],
     "language": "python",
     "metadata": {},
     "outputs": [],
     "prompt_number": 104
    },
    {
     "cell_type": "code",
     "collapsed": false,
     "input": [
      "rf.predict(x)"
     ],
     "language": "python",
     "metadata": {},
     "outputs": [
      {
       "metadata": {},
       "output_type": "pyout",
       "prompt_number": 105,
       "text": [
        "array([ 0.49,  0.64,  0.35,  0.64,  0.52,  0.4 ,  0.4 ,  0.4 ,  0.38,  0.4 ])"
       ]
      }
     ],
     "prompt_number": 105
    },
    {
     "cell_type": "code",
     "collapsed": false,
     "input": [
      "np.array(cleaned_articles[:5]).shape"
     ],
     "language": "python",
     "metadata": {},
     "outputs": [
      {
       "metadata": {},
       "output_type": "pyout",
       "prompt_number": 77,
       "text": [
        "(5,)"
       ]
      }
     ],
     "prompt_number": 77
    },
    {
     "cell_type": "code",
     "collapsed": false,
     "input": [
      "vec.transform('hello how are you')"
     ],
     "language": "python",
     "metadata": {},
     "outputs": [
      {
       "metadata": {},
       "output_type": "pyout",
       "prompt_number": 57,
       "text": [
        "<17x5693 sparse matrix of type '<type 'numpy.float64'>'\n",
        "\twith 0 stored elements in Compressed Sparse Row format>"
       ]
      }
     ],
     "prompt_number": 57
    },
    {
     "cell_type": "code",
     "collapsed": false,
     "input": [
      "X_test.shape"
     ],
     "language": "python",
     "metadata": {},
     "outputs": [
      {
       "metadata": {},
       "output_type": "pyout",
       "prompt_number": 74,
       "text": [
        "(5,)"
       ]
      }
     ],
     "prompt_number": 74
    },
    {
     "cell_type": "code",
     "collapsed": false,
     "input": [
      "cleaned_articles[0]"
     ],
     "language": "python",
     "metadata": {},
     "outputs": [
      {
       "metadata": {},
       "output_type": "pyout",
       "prompt_number": 85,
       "text": [
        "' Editors note Smart Business explores the ways companies are thinking smart to thrive in our digitized world  CNN  In the narrow winding lanes of Old Delhi the knotted masses of electrical wiring hanging across the streets are sometimes so thickly entwined they blot out the sun In the streets of Bangkok electricity wires loop and run in chaotic bundles from concrete power poles In the slums of Mumbai to the townships of South Africa electricity infrastructure is a triumph of make and mend For power utilities in emerging markets collecting the bills from this tangled skein of wiring is a nightmare and slow payment  even outright energy theft  remains a powerful disincentive for new investment in the sector Smart solutions One company however says smart meters may hold the answers to the power problems of the worlds emerging markets While smart meters have been in use in the United States and Europe for more than a decade in markets such as Africa they are set to encourage muchneeded investment in the sector The devices not only record electricity consumption but relay information back to the utility for monitoring and billing purposes Critically they also require prepayment which means that utilities that produce the power can be sure they will be paid for it Alain Bollack director at the Global Power  Utilities Centre of Ernst and Young said the company worked with the city of Tshwane outside Johannesburg in South Africa to install prepaid smart meters to solve endemic problems of late payment longterm debtors and electricity theft The city had two major problems Bollack told CNN The first was they couldnt collect the cash from customers  either businesses or individuals They had 800000 customers that were an average 500 days in arrears The second was that a lot of clients were stealing electricity and thats very common in emerging markets Chaotic infrastructure He said the chaotic nature of the electricity infrastructure in places like Africa or India means that stealing energy is easy Often its as easy as hooking onto a line bypassing the meter and getting free energy The first major problem of energy in emerging markets is getting access to it i the first place the second problem is that when there is access it gets stolen He said cities such as Mumbai had worked hard over the past 10 years to reduce the opportunity for consumers to steal electricity Over ten years ago some 65 of the energy produced in Mumbai was not paid for Bollack said Smart meters he said require customers to pay before they consume and also relay information back to the utilities if the meters are tampered with in any way Legislation is key So far some 3000 smart meters have been rolled out in Tshwane particularly among high consumers of energy At the core of the solution however is legislation and Bollack said that the city government passed laws to enforce the new rule That might not be very pleasant for many consumers but at the end of the day if you provide a service its quite normal to pay for it Bollack said If you have asked nicely for many many years and people still wont pay then you have a right to enforce that by law He said the value proposition extended to consumers in that they also gained a better picture through smart metering of what and how they consumed electricity Ultimately however energy theft is not a sustainable business model leading to underinvestment more costly production and higher prices Bollack said that Tshwanes foray into smart meters was now being viewed with interest from countries throughout the region including Ghana Zimbabwe Mozambique and parts of Nigeria They are looking at it as a possible way of resolving the financing problem of energy infrastructure in Africa Bollack said If you are lucky if youve got investors from China or the US or Europe who are happy to put billions on the table but dont have any guarantee of return on investment Holy grail He said that smart meters in Africa are fast becoming the holy grail for energy sector investors and ultimately could accelerate investment that would provide power for millions more people in the region While critics might argue that consumers have gone from free albeit stolen electricity to electricity they now cant afford Bollack said smart meters for the first time could reverse the vicious circle created by energy theft The business case for the city of Tshwane is interesting he said Energy is one of the citys main sources of revenue and what they are saying is that smart meters are not being introduced to balance the books but to collect the cash to reinvest it into the community Even though theres a lag between when you collect the cash and reinvest what you ultimately create is a virtuous circle Read this Is this the end of the 95 working day Read this Driverless vehicles The end of the road for the trucker '"
       ]
      }
     ],
     "prompt_number": 85
    },
    {
     "cell_type": "code",
     "collapsed": false,
     "input": [
      "topics = [link.split('/')[5][4:] for link in sublinks]\n"
     ],
     "language": "python",
     "metadata": {},
     "outputs": [],
     "prompt_number": 98
    },
    {
     "cell_type": "code",
     "collapsed": false,
     "input": [
      "len(topics)"
     ],
     "language": "python",
     "metadata": {},
     "outputs": [
      {
       "metadata": {},
       "output_type": "pyout",
       "prompt_number": 100,
       "text": [
        "743"
       ]
      }
     ],
     "prompt_number": 100
    },
    {
     "cell_type": "code",
     "collapsed": false,
     "input": [
      "frame = pd.DataFrame({'text' : cleaned_articles, 'topic' : topics[:50], 'source' : 'CNN', 'rating' : .4}, \\\n",
      "             columns = ['source', 'topic', 'text', 'rating'])"
     ],
     "language": "python",
     "metadata": {},
     "outputs": [],
     "prompt_number": 114
    },
    {
     "cell_type": "code",
     "collapsed": false,
     "input": [
      "frame.to_csv('test_frame.csv', index=False)"
     ],
     "language": "python",
     "metadata": {},
     "outputs": [],
     "prompt_number": 116
    },
    {
     "cell_type": "code",
     "collapsed": false,
     "input": [
      "#get npr articles"
     ],
     "language": "python",
     "metadata": {},
     "outputs": [],
     "prompt_number": 117
    },
    {
     "cell_type": "code",
     "collapsed": false,
     "input": [
      "key = 'MDE3MzEyOTEwMDE0MTUxMjU4MjczNTcwMw001'\n",
      "base = 'http://api.npr.org/query'\n",
      "params = {'apiKey' : key, 'output': 'JSON', 'startDate' : '2014-01-01', 'startNum' : 50}"
     ],
     "language": "python",
     "metadata": {},
     "outputs": [],
     "prompt_number": 190
    },
    {
     "cell_type": "code",
     "collapsed": false,
     "input": [
      "r = requests.get(base, params=params)"
     ],
     "language": "python",
     "metadata": {},
     "outputs": [],
     "prompt_number": 191
    },
    {
     "cell_type": "code",
     "collapsed": false,
     "input": [
      "j = r.json()"
     ],
     "language": "python",
     "metadata": {},
     "outputs": [],
     "prompt_number": 192
    },
    {
     "cell_type": "code",
     "collapsed": false,
     "input": [
      "a = BeautifulSoup(j['list']['story'][1]['fullText']['$text'])\n",
      "str(re.sub('[^\\w\\s]+', '', a.text))"
     ],
     "language": "python",
     "metadata": {},
     "outputs": [
      {
       "metadata": {},
       "output_type": "pyout",
       "prompt_number": 199,
       "text": [
        "' Army Eyes 3D Printed Food for Soldiers     November 04 2014 325 AM ET              Aarti Shahani                   Listen to the Story  Morning Edition   4 min 15 sec         Playlist Download Transcript                                    Army researchers will try to find ways to 3D print nutritious food with less heavy packaging than the current military meals                               Aarti ShahaniNPR              Army scientists have spent decades concocting meals that last without refrigeration and survive highaltitude airdrops And now the Army is eyeing a new form of cooking 3D printing Yes food that comes fresh out of a printer for our troops Lauren Oleksyk a food technologist leading the team at the Armys Natick research center lays out the vision Imagine soldiers who are strapped head to toe with sensors that measure if theyre high or low in potassium or cholesterol We envision to have a 3D printer that is interfaced with the soldier And that sensor can deliver information to the computer software Oleksyk says And then they would be able to have either powdered or liquid matrices that are very nutrient dense that they have on demand that they can take and eat immediately to fill that need Liquid matrices that are nutrient dense And you print them You read that right The Army is turning to 3D printers for many purposes including a nutrition project  to stamp out the equivalent of PowerBars but personalized for the battlefield The Department of Defense has just approved research funding And its going to take a lot of research While regular printers put ink on paper 3D printers blast liquids and powders into complex shapes But its not clear if printers could mold a solid like carrots  and what would happen to the foods nutritional value  Theres synthetic types of meats theres real beef theres real meat Oleksyk says And we would see what that does in the printing process to that protein whether its animal based or plant based Shes talking about this research with the MIT Lincoln Lab and NASA too  Additional Information      The Salt   Spinach Dinosaurs To Sugar Diamonds 3D Printers Hit The Kitchen           The Salt   How The Army Made A Sandwich That Stays Fresh For Two Years         Of course the 3D food will have to pass a taste test just like the current rations  which are called MREs or meals ready to eat Oleksyk mailed me a bunch to sample I try a jalapeno pepper jackflavored patty It is full of flavor and also very processed like someone had to jam a lot into a little patty The kitchens that make this patty use flaming hot ovens and extreme heat to sterilize it Oleksyk says if 3D printers could use less heat the patty could also taste better  less like a compact muscle and more like fresh ground meat  We hope so Its not being done so its something that we will investigate in our project she says In the food world 3D printing is just getting started  and its a sweet start literally Liz von Hasseln is giving me an online video tour of The Sugar Lab a 3D printing outfit in Los Angeles that turns sugar into sweet candy sculptures for wedding cakes and fancy cocktails The startup was acquired by 3D Systems which is sharing its technology with the military in informal talks She points to a printer thats the size of an industrial photocopier and explains What the printer does is a lot like making frosting in a bowl it basically adds the wet ingredients of the frosting to the dry ingredients very very precisely in very fine layers Von Hasseln sent me some samples to try  and theyre very different from the military food I unwrap a delicate sphere thats a little bigger than a lollipop It tastes like Sweet Tarts Its hard for me to imagine this technology producing anything nutritious or durable But von Hasseln husband Kyle cofounder of The Sugar Lab says the printers ability to vary textures  to make food soft or hard  would be critical for soldiers who are injured or on the move  Dialing in the exact density of food could mean that they could eat more easily and because of that as a consequence they might even eat more or be healthier he says  3D printed food sounds scifi But according to military scientists and 3D experts these meals for soldiers are on track to be ready by 2025Copyright 2014 NPR To see more visit httpwwwnprorg'"
       ]
      }
     ],
     "prompt_number": 199
    },
    {
     "cell_type": "code",
     "collapsed": false,
     "input": [
      "j['list']['story'][0].keys()"
     ],
     "language": "python",
     "metadata": {},
     "outputs": [
      {
       "metadata": {},
       "output_type": "pyout",
       "prompt_number": 200,
       "text": [
        "[u'miniTeaser',\n",
        " u'subtitle',\n",
        " u'show',\n",
        " u'text',\n",
        " u'storyDate',\n",
        " u'keywords',\n",
        " u'textWithHtml',\n",
        " u'id',\n",
        " u'relatedLink',\n",
        " u'byline',\n",
        " u'pubDate',\n",
        " u'title',\n",
        " u'audioRunByDate',\n",
        " u'image',\n",
        " u'parent',\n",
        " u'priorityKeywords',\n",
        " u'lastModifiedDate',\n",
        " u'teaser',\n",
        " u'link',\n",
        " u'slug',\n",
        " u'shortTitle',\n",
        " u'organization',\n",
        " u'audio']"
       ]
      }
     ],
     "prompt_number": 200
    },
    {
     "cell_type": "code",
     "collapsed": false,
     "input": [
      "j['list']['story'][0]['link'][0]"
     ],
     "language": "python",
     "metadata": {},
     "outputs": [
      {
       "metadata": {},
       "output_type": "pyout",
       "prompt_number": 201,
       "text": [
        "{u'$text': u'http://www.npr.org/2014/11/04/361217134/sherlock-star-benedict-cumberbatch-shows-last-season-really-freudian?ft=3&f=',\n",
        " u'type': u'html'}"
       ]
      }
     ],
     "prompt_number": 201
    },
    {
     "cell_type": "code",
     "collapsed": false,
     "input": [
      "full_article = []\n",
      "links = []\n",
      "for i in range(200):\n",
      "    params = {'apiKey' : key, 'output': 'JSON', 'startDate' : '2014-01-01', 'startNum' : i * 10 + 1}\n",
      "    req = requests.get(base, params=params)\n",
      "    j = r.json()\n",
      "    \n",
      "    for story in j['list']['story']:\n",
      "        try:\n",
      "            text = ' '.join([par['$text'] for par in story['text']['paragraph']])\n",
      "        except KeyError:\n",
      "            text = ''\n",
      "            for par in story['text']['paragraph']:\n",
      "                text += par.get('$text', '')\n",
      "        full_article.append(str(re.sub('[^\\w\\s]+', '', text)))\n",
      "        links.append(story['link'][0]['$text'])"
     ],
     "language": "python",
     "metadata": {},
     "outputs": [],
     "prompt_number": 264
    },
    {
     "cell_type": "code",
     "collapsed": false,
     "input": [
      "len(links)"
     ],
     "language": "python",
     "metadata": {},
     "outputs": [
      {
       "metadata": {},
       "output_type": "pyout",
       "prompt_number": 266,
       "text": [
        "2000"
       ]
      }
     ],
     "prompt_number": 266
    },
    {
     "cell_type": "code",
     "collapsed": false,
     "input": [
      "j['list']['story'][5]['link'][0]['$text']"
     ],
     "language": "python",
     "metadata": {},
     "outputs": [
      {
       "metadata": {},
       "output_type": "pyout",
       "prompt_number": 256,
       "text": [
        "u'http://www.npr.org/blogs/alltechconsidered/2014/11/04/360430620/from-silicon-valley-to-white-house-new-u-s-tech-chief-makes-change?ft=3&f='"
       ]
      }
     ],
     "prompt_number": 256
    },
    {
     "cell_type": "code",
     "collapsed": false,
     "input": [
      "j['list']['story'][5].keys()"
     ],
     "language": "python",
     "metadata": {},
     "outputs": [
      {
       "metadata": {},
       "output_type": "pyout",
       "prompt_number": 263,
       "text": [
        "{u'audio': [{u'description': {},\n",
        "   u'duration': {u'$text': u'290'},\n",
        "   u'format': {u'mediastream': {u'$text': u'rtmp://flash.npr.org/ondemand/mp3:anon.npr-mp3/npr/me/2014/11/20141104_me_from_silicon_valley_to_white_house_new_us_tech_chief_makes_change.mp3'},\n",
        "    u'mp3': [{u'$text': u'http://api.npr.org/m3u/1361320161-6b55d7.m3u?orgId=1&topicId=1019&aggIds=177622347&ft=3&f=',\n",
        "      u'type': u'm3u'}],\n",
        "    u'mp4': {u'$text': u'http://pd.npr.org/npr-mp4/npr/me/2014/11/20141104_me_from_silicon_valley_to_white_house_new_us_tech_chief_makes_change.mp4?orgId=1&topicId=1019&aggIds=177622347&ft=3&f='},\n",
        "    u'wm': {u'$text': u'http://www.npr.org/templates/dmg/dmg_wmref_em.php?id=361320161&type=1&mtype=WM&orgId=1&topicId=1019&aggIds=177622347&ft=3&f='}},\n",
        "   u'id': u'361320161',\n",
        "   u'permissions': {u'download': {u'allow': u'true'},\n",
        "    u'embed': {u'allow': u'true'},\n",
        "    u'stream': {u'allow': u'true'}},\n",
        "   u'rightsHolder': {},\n",
        "   u'stream': {u'active': u'false'},\n",
        "   u'title': {},\n",
        "   u'type': u'primary'}],\n",
        " u'audioRunByDate': {u'$text': u'Wed, 19 Nov 2014 01:00:00 -0500'},\n",
        " u'byline': [{u'id': u'360431284',\n",
        "   u'link': [{u'$text': u'http://www.npr.org/people/144449221/elise-hu?ft=3&f=',\n",
        "     u'type': u'html'},\n",
        "    {u'$text': u'http://api.npr.org/query?id=144449221&apiKey=MDE3MzEyOTEwMDE0MTUxMjU4MjczNTcwMw001',\n",
        "     u'type': u'api'}],\n",
        "   u'name': {u'$text': u'Elise Hu', u'personId': u'144449221'}}],\n",
        " u'externalAsset': [{u'caption': {u'$text': u'Smith in 1992, demonstrating what would become touchscreen technology.'},\n",
        "   u'credit': {},\n",
        "   u'externalId': {u'$text': u'n-R-L2rqbpQ'},\n",
        "   u'id': u'361129407',\n",
        "   u'oEmbed': {u'$text': u'http://www.youtube.com/oembed?url=http%3A//www.youtube.com/watch%3Fv%3Dn-R-L2rqbpQ'},\n",
        "   u'parameters': {},\n",
        "   u'type': u'YouTube',\n",
        "   u'url': {u'$text': u'http://www.youtube.com/watch?v=n-R-L2rqbpQ'}}],\n",
        " u'fullText': {u'$text': u'<div class=\"storytitle\">      <h1>From Silicon Valley To White House, New U.S. Tech Chief Makes Change</h1>   <input type=\"hidden\" id=\"title360430620\" value=\"From Silicon Valley To White House, New U.S. Tech Chief Makes Change\"></input>   <input type=\"hidden\" id=\"modelShortUrl360430620\" value=\"http://n.pr/1q8TkdM\"></input>   <input type=\"hidden\" id=\"modelFullUrl360430620\" value=\"http://www.npr.org/blogs/alltechconsidered/2014/11/04/360430620/from-silicon-valley-to-white-house-new-u-s-tech-chief-makes-change\"></input></div><!-- END CLASS=\"STORYTITLE\" --><div id=\"story-meta\">      <div class=\"dateblock\">            <time datetime=\"2014-11-04\"><span class=\"date\">November 04, 2014</span><span class=\"time\"> 3:17 AM ET</span></time>   </div>   <div id=\"storybyline\" class=\"  linkLocation\">            <div class=\"bucketwrap byline\" id=\"res360431285\" previewTitle=\"bylines\">                  <div class=\"blockBylines\">                        <div class=\"blockByline linked hasImage\">      <div class=\"bioImageWrap\">            <a class=\"\" rel=\"author\" href=\"http://www.npr.org/people/144449221/elise-hu\"  data-metrics=\\'{\"action\":\"Click Byline\",\"category\":\"Story Metadata\"}\\' ><img src=\"http://media.npr.org/assets/img/2013/05/14/19_sq-966e35d6ee02999d5ffd0f1c89c1c2469e738273-s2.jpg\" title=\"Elise Hu\" alt=\"Elise Hu\" /></a>   </div>   <!-- END CLASS=\"BIOIMAGEWRAP\" -->   <div class=\"rightContainer\">            <a class=\"nameWrap\" rel=\"author\" href=\"http://www.npr.org/people/144449221/elise-hu\"  data-metrics=\\'{\"action\":\"Click Byline\",\"category\":\"Story Metadata\"}\\' ><div class=\"nameOuter\">      <div class=\"nameInner\">      Elise Hu   </div></div></a>      <div id=\"socialHandleLoc\" class=\" linkLocation\">                  <a class=\"bylineSocialHandle bylineSocialHandle-1\" href=\"https://www.facebook.com/officialelisehu\"  data-metrics=\\'{\"action\":\"Click Social Handle\",\"category\":\"Story Metadata\"}\\' >Facebook</a>         <a class=\"bylineSocialHandle bylineSocialHandle-5\" href=\"http://www.twitter.com/elisewho\"  data-metrics=\\'{\"action\":\"Click Social Handle\",\"category\":\"Story Metadata\"}\\' >Twitter</a>         <a class=\"bylineSocialHandle bylineSocialHandle-4\" href=\"http://elisehu.tumblr.com/\"  data-metrics=\\'{\"action\":\"Click Social Handle\",\"category\":\"Story Metadata\"}\\' >Tumblr</a>         <a class=\"bylineSocialHandle bylineSocialHandle-3\" href=\"http://www.pinterest.com/elisehu\"  data-metrics=\\'{\"action\":\"Click Social Handle\",\"category\":\"Story Metadata\"}\\' >Pinterest</a>         <a class=\"bylineSocialHandle bylineSocialHandle-2\" href=\"http://instagram.com/elisewho\"  data-metrics=\\'{\"action\":\"Click Social Handle\",\"category\":\"Story Metadata\"}\\' >Instagram</a>      </div>      <!-- END ID=\"SOCIALHANDLELOC\" CLASS=\" LINKLOCATION\" -->   </div>   <!-- END CLASS=\"RIGHTCONTAINER\" --></div>         </div>      </div>      <!-- END CLASS=\"BUCKETWRAP BYLINE\" ID=\"RES360431285\" PREVIEWTITLE=\"BYLINES\" -->   </div>   <!-- END ID=\"STORYBYLINE\" CLASS=\"  LINKLOCATION\" --></div><!-- END ID=\"STORY-META\" --><div id=\"primaryaudio\" class=\"storylocation linkLocation\">      <div id=\"res361320161\" class=\"bucketwrap primary resaudio  clearfix medium\">            <div class=\"player-core\">                  <div class=\"listenicon\">                        <a class=\"listen\" href=\"http://www.npr.org/templates/player/mediaPlayer.html?action=1&t=1&islist=false&id=360430620&m=361320161&d=null\" data-metrics=\\'{\"category\":\"Secondary Audio\",\"action\":\"Play Audio\",\"label\":\"20141104_me_from_silicon_valley_to_white_house_new_us_tech_chief_makes_change.mp3\"}\\' ></a>         </div>         <!-- END CLASS=\"LISTENICON\" -->         <div id=\"avcontent361320161\" class=\"avcontent listen shorttitle\">                        <span id=\"mediaTimeTotal361320161\" class=\"media-time-total\"><span id=\"mediaTimeCurrent361320161\" class=\"media-time-current\"></span></span>            <h3><a href=\"http://www.npr.org/templates/player/mediaPlayer.html?action=1&t=1&islist=false&id=360430620&m=361320161&d=null\" data-metrics=\\'{\"category\":\"Secondary Audio\",\"action\":\"Play Audio\",\"label\":\"20141104_me_from_silicon_valley_to_white_house_new_us_tech_chief_makes_change.mp3\"}\\' >Listen to the Story</a></h3>            <div class=\"inner\">                              <p class=\"byline\"><a class=\"program\" href=\"http://www.npr.org/programs/morning-edition/\">Morning Edition</a></p>               <div class=\"duration\">                                    <span id=\"durationCurrent361320161\" class=\"current\"></span>                  <span class=\"total\">4 min 50 sec</span>               </div>            </div>            <!-- END CLASS=\"INNER\" -->         </div>         <!-- END ID=\"AVCONTENT361320161\" CLASS=\"AVCONTENT LISTEN SHORTTITLE\" -->      </div>      <!-- END CLASS=\"PLAYER-CORE\" -->      <ul class=\"audiotools\">                  <li><a class=\"add\" href=\"http://www.npr.org/templates/player/mediaPlayer.html?action=2&t=1&islist=false&id=360430620&m=361320161&d=null\" data-metrics=\\'{\"category\":\"Secondary Audio\",\"action\":\"Playlist\",\"label\":\"20141104_me_from_silicon_valley_to_white_house_new_us_tech_chief_makes_change.mp3\"}\\' ><span>Playlist</span></a></li>         <li><a class=\"download\" href=\"http://pd.npr.org/anon.npr-mp3/npr/me/2014/11/20141104_me_from_silicon_valley_to_white_house_new_us_tech_chief_makes_change.mp3\" data-metrics=\\'{\"category\":\"Secondary Audio\",\"action\":\"Download\",\"label\":\"20141104_me_from_silicon_valley_to_white_house_new_us_tech_chief_makes_change.mp3\"}\\' ><span>Download</span></a></li>         <li><a class=\"pending\" title=\"Transcript Pending\" href=\"#\" data-metrics=\\'{\"category\":\"Segment Audio\",\"action\":\"Click transcript\",\"label\":\"360430620\"}\\' ><span>Transcript</span></a></li>      </ul>      <div class=\"spacer\">         &nbsp;      </div>   </div>   <!-- END ID=\"RES361320161\" CLASS=\"BUCKETWRAP PRIMARY RESAUDIO  CLEARFIX MEDIUM\" --></div><!-- END ID=\"PRIMARYAUDIO\" CLASS=\"STORYLOCATION LINKLOCATION\" --><div id=\"storytext\" class=\"storytext storylocation linkLocation\">      <div id=\"res360457806\" class=\"bucketwrap image large\" previewTitle=\"Megan Smith is the new U.S. chief technology officer.\">            <div class=\"imagewrap\" data-crop-type=\"\">                <img src=\"http://media.npr.org/assets/img/2014/10/31/20141027-megan-smith-white-house-056edit_wide-6c73760151f447359b6c70056bbed3fe29854c51-s6.jpg\" title=\"Megan Smith is the new U.S. chief technology officer.\" alt=\"Megan Smith is the new U.S. chief technology officer.\" /></div><div class=\"credit-caption\">    <div class=\"caption\">        <p><i>            Megan Smith is the new U.S. chief technology officer.            </i>        </p>    </div>        <span class=\"credit\">                Ariel Zambelich/NPR            </span></div>   </div>   <p>This fall, we\\'ve been exploring <a href=\"http://www.npr.org/series/177622347/the-changing-lives-of-women\">the Changing Lives of Women</a>, and Megan Smith is one woman who\\'s gone through a number of changes in recent months. She just moved from a top job at Google in Silicon Valley, where she was vice president of Google X, <a href=\"http://www.whitehouse.gov/blog/2014/09/04/president-obama-names-megan-smith-us-cto-alexander-macgillivray-deputy-us-cto\">to the White House</a>, where\\'s she\\'s now the country\\'s chief technology officer. She\\'s so new to the halls of the White House complex that she\\'s wearing a temporary badge.</p>   <p>\"I just have to fill out all my security clearance forms. I\\'m almost done,\" she says.</p>   <p>Smith started only two months ago as U.S. chief technology officer, a role created at the start of President Obama\\'s administration. The CTO\\'s charge is to find ways to unleash technology to improve government, and federal government is notoriously slow to change.</p>   <p>But just by coming to work in Washington, Smith is already making one change: Her look. At Google, she would be wearing jeans. In the White House, it\\'s a little more buttoned up.</p>   <p>\"Yes, I\\'m wearing a suit. It\\'s comfortable. It\\'s from J.Crew,\" she says.</p>   <p>Smith doesn\\'t actually like talking about external image much, as she\\'s been focused on changing tech from the inside \\u2014 pushing for more women in science and technology fields and keeping them there. We caught up with the mother-of-two as she kicked off a documentary screening for Washington, D.C.-area middle and high-schoolers.</p>   <div id=\"res361159004\" class=\"bucketwrap internallink insettwocolumn inset2col \">            <div class=\"bucket img\">                  <a id=\"featuredStackSquareImage177622347\" href=\"http://www.npr.org/series/177622347/the-changing-lives-of-women\"  data-metrics=\\'{\"category\":\"Story to Story\",\"action\":\"Click Internal Link\",\"label\":\"http:\\\\/\\\\/www.npr.org\\\\/series\\\\/177622347\\\\/the-changing-lives-of-women\"}\\' ><img src=\"http://media.npr.org/assets/img/2014/10/03/singleladies-v51_sq-4cb9ce392808e2ed169b8ed0cc714efcd7f0ce6b-s11.jpg\" class=\"img90\" title=\"All the single ladies\" alt=\"All the single ladies\" /></a>         <div class=\"bucketblock\">                        <h3><a href=\"http://www.npr.org/series/177622347/the-changing-lives-of-women\"  data-metrics=\\'{\"category\":\"Story to Story\",\"action\":\"Click Internal Link\",\"label\":\"http:\\\\/\\\\/www.npr.org\\\\/series\\\\/177622347\\\\/the-changing-lives-of-women\"}\\' > The Changing Lives Of Women</a></h3>         </div>         <!-- END CLASS=\"BUCKETBLOCK\" -->      </div>      <!-- END CLASS=\"BUCKET IMG\" -->   </div>   <!-- END ID=\"RES361159004\" CLASS=\"BUCKETWRAP INTERNALLINK INSETTWOCOLUMN INSET2COL \" -->   <p>\"It will be interesting for you guys to see the media talk about the women scientists versus the men scientists, how they hyper-focused on what they looked [like], what they wore,\" Smith said to a roomful of about 70 school kids. \"All this sort of gender bias \\u2014 I want you guys to notice that and observe that, because it\\'s an important thing.\"</p>   <p>The topic of <a href=\"http://www.npr.org/tags/221437017/women-in-tech\">women in tech</a> is on many minds lately. There were <a href=\"http://www.npr.org/blogs/money/2014/10/21/357629765/when-women-stopped-coding\">more women graduating with computer science degrees in in 1984</a> \\u2014 than 2014. Every other industry that was once dominated by men \\u2014 finance, law, medicine \\u2014 has come closer to parity. Tech, meanwhile, seems to be going backwards. <br /> <br />\"I almost call it death by a thousand cuts,\" Smith says. \"There are always these little biases that hit people. Every individual situation \\u2014 oh, this person doesn\\'t have a VP job, or this person doesn\\'t have this for this or that reason but when you look at an aggregate, it\\'s really a lot of unconscious bias.\"</p>   <p>Smith, a lesbian who started Gay.com, says she got past people\\'s biases to wind up running Google X, the division of Google that rolled out self-driving cars, and becoming U.S. CTO by doing what she calls \"bringing her passion.\" Her former boss, Google Chairman Eric Schmidt, remembers it well.</p>   <div id=\"res360459092\" class=\"bucketwrap image large\" previewTitle=\"Megan Smith, left, meets with middle school students Mikaelle, from Howard University Middle School; Shayna, from Chavez Prep; and Hannah, from School Without Walls after her presentation.\">            <div class=\"imagewrap\" data-crop-type=\"\">                <img src=\"http://media.npr.org/assets/img/2014/10/31/20141027-megan-smith-white-house-044edit_custom-f114d1097e99db7b27c10265cc263496a5525fdb-s6.jpg\" title=\"Megan Smith, left, meets with middle school students Mikaelle, from Howard University Middle School; Shayna, from Chavez Prep; and Hannah, from School Without Walls after her presentation.\" alt=\"Megan Smith, left, meets with middle school students Mikaelle, from Howard University Middle School; Shayna, from Chavez Prep; and Hannah, from School Without Walls after her presentation.\" /></div><div class=\"credit-caption\">    <div class=\"caption\">        <p><i>            Megan Smith, left, meets with middle school students Mikaelle, from Howard University Middle School; Shayna, from Chavez Prep; and Hannah, from School Without Walls after her presentation.            </i>        </p>    </div>        <span class=\"credit\">                Ariel Zambelich/NPR            </span></div>   </div>   <p>\"She has an energy, and an enthusiasm, that is addictive,\" Schmidt says.</p>   <p>When you meet her, Smith\\'s youthful energy shows. She bounces when she walks. Her eyes twinkle when she talks about old tech projects and her love of science, which dates back to her childhood.</p>   <p>\"I went to an inner-city school in Buffalo. We had no money, but the teachers were really motivated. They made science fair mandatory. And I think that was one of the key things for all the kids. Many kids went on the STEM related careers because as kids we got to try it. It got me to learn that it was fun, it mattered,\" she says.</p>   <p>She took that thinking with her to MIT. And went on to help develop futuristic products at a place called General Magic. We found her 28-year-old self in an archive video, demonstrating a prototype for what would become touchscreens.</p>   <p>\"We\\'re trying to make somethin\\' that people love,\" she said, back then.</p>   <p>Back then, she loved making prototypes and products. Two decades later, she\\'s changed her focus from products to people.</p>   <div id=\"res361129407\" class=\"bucketwrap video youtube-video medium graphic300\">            <div class=\"video-wrap\">                  <iframe width=\"300\" height=\"168\" type=\"text/html\" src=\"http://www.youtube.com/embed/n-R-L2rqbpQ?rel=0\" frameborder=\"0\"></iframe>      </div>      <!-- END CLASS=\"VIDEO-WRAP\" -->      <div class=\"credit-caption externalasset\">                  <span class=\"credit\"><span class=\"source\">YouTube</span></span>         <p>Smith in 1992, demonstrating what would become touchscreen technology.</p>      </div>      <!-- END CLASS=\"CREDIT-CAPTION EXTERNALASSET\" -->   </div>   <!-- END ID=\"RES361129407\" CLASS=\"BUCKETWRAP VIDEO YOUTUBE-VIDEO MEDIUM GRAPHIC300\" -->   <p>\"I think maybe I was doing specific projects and enabling them, and now I\\'m looking for other people,\" she says. \"You know, people who are like the kid I was.\"</p>   <p>Which brings us back to the White House film screening, and the girls Smith is trying to encourage into STEM careers. Hannah Docter-Loeb is a 9th grader.</p>   <p>\"It\\'s definitely important to see women in power,\" Docter-Loeb says. \"Because you can see like, you can do that, too.\"</p>   <p>Smith will have to call on all her powers to turn government agencies into more tech startup-type cultures. One agency still <a href=\"http://www.nytimes.com/2013/12/07/us/politics/slowly-they-modernize-a-federal-agency-that-still-uses-floppy-disks.html?_r=0\">saves data on floppy disks</a>.</p>   <p>Fitting with her changing perspective \\u2014 her priority is on people.</p>   <p>\"One thing I hope, five years from now, is more tech colleagues of mine like the <em>elite</em> elite teams, are flowing in and out of government. We want to create an environment where, in addition to amazing policy groups ... tech teams feel comfortable, included, and are in leadership positions here,\" Smith says.</p>   <p>She\\'s a gay woman scientist, which could make her a potential outsider on a few levels. Instead, she\\'s as inside as a tech leader can be, even bounding around the White House with ease, once those security credentials are all set.</p></div><div class=\"fullattribution\">Copyright 2014 NPR. To see more, visit <a href=\"http://www.npr.org/\">http://www.npr.org/</a>.<img src=\"http://www.google-analytics.com/__utm.gif?utmac=UA-5828686-4&utmdt=From+Silicon+Valley+To+White+House%2C+New+U.S.+Tech+Chief+Makes+Change&utme=8(APIKey)9(MDE3MzEyOTEwMDE0MTUxMjU4MjczNTcwMw001)\"/></div>'},\n",
        " u'id': u'360430620',\n",
        " u'image': [{u'caption': {u'$text': u'Megan Smith is the new U.S. chief technology officer.'},\n",
        "   u'copyright': {},\n",
        "   u'crop': [{u'height': u'971',\n",
        "     u'src': u'http://media.npr.org/assets/img/2014/10/31/20141027-megan-smith-white-house-056edit-8e66a921e099c0ca1352cb722197d9539328fa89.jpg',\n",
        "     u'type': u'standard',\n",
        "     u'width': u'1295'},\n",
        "    {u'height': u'655',\n",
        "     u'src': u'http://media.npr.org/assets/img/2014/10/31/20141027-megan-smith-white-house-056edit_sq-6ed1f588253bdaa6482fdb9ede95dcc831b5373d.jpg',\n",
        "     u'type': u'square',\n",
        "     u'width': u'655'},\n",
        "    {u'height': u'750',\n",
        "     u'primary': u'true',\n",
        "     u'src': u'http://media.npr.org/assets/img/2014/10/31/20141027-megan-smith-white-house-056edit_wide-6c73760151f447359b6c70056bbed3fe29854c51.jpg',\n",
        "     u'type': u'wide',\n",
        "     u'width': u'1335'},\n",
        "    {u'height': u'750',\n",
        "     u'src': u'http://media.npr.org/assets/img/2014/10/31/20141027-megan-smith-white-house-056edit_wide-6c73760151f447359b6c70056bbed3fe29854c51.jpg',\n",
        "     u'type': u'enlargement',\n",
        "     u'width': u'1335'},\n",
        "    {u'height': u'2260',\n",
        "     u'src': u'http://media.npr.org/assets/img/2014/10/31/20141027-megan-smith-white-house-056edit_custom-7bae9e8048c70becf8cf93cc6f5022955a008da7.jpg',\n",
        "     u'type': u'custom',\n",
        "     u'width': u'1875'}],\n",
        "   u'enlargement': {u'caption': {},\n",
        "    u'src': u'http://media.npr.org/assets/img/2014/10/31/20141027-megan-smith-white-house-056edit_wide-6c73760151f447359b6c70056bbed3fe29854c51.jpg'},\n",
        "   u'hasBorder': u'false',\n",
        "   u'id': u'360457806',\n",
        "   u'link': {u'url': u''},\n",
        "   u'producer': {u'$text': u'Ariel Zambelich'},\n",
        "   u'provider': {u'$text': u'NPR', u'url': u''},\n",
        "   u'src': u'http://media.npr.org/assets/img/2014/10/31/20141027-megan-smith-white-house-056edit_wide-6c73760151f447359b6c70056bbed3fe29854c51.jpg?s=12',\n",
        "   u'title': {u'$text': u'Megan Smith is the new U.S. chief technology officer.'},\n",
        "   u'type': u'primary',\n",
        "   u'width': u'200'},\n",
        "  {u'caption': {u'$text': u'Megan Smith, left, meets with middle school students Mikaelle, from Howard University Middle School; Shayna, from Chavez Prep; and Hannah, from School Without Walls after her presentation.'},\n",
        "   u'copyright': {},\n",
        "   u'crop': [{u'height': u'1478',\n",
        "     u'primary': u'true',\n",
        "     u'src': u'http://media.npr.org/assets/img/2014/10/31/20141027-megan-smith-white-house-044edit_custom-f114d1097e99db7b27c10265cc263496a5525fdb.jpg',\n",
        "     u'type': u'custom',\n",
        "     u'width': u'2430'}],\n",
        "   u'hasBorder': u'false',\n",
        "   u'id': u'360459092',\n",
        "   u'link': {u'url': u''},\n",
        "   u'producer': {u'$text': u'Ariel Zambelich'},\n",
        "   u'provider': {u'$text': u'NPR', u'url': u''},\n",
        "   u'src': u'http://media.npr.org/assets/img/2014/10/31/20141027-megan-smith-white-house-044edit_custom-f114d1097e99db7b27c10265cc263496a5525fdb.jpg?s=12',\n",
        "   u'title': {u'$text': u'Megan Smith, left, meets with middle school students Mikaelle, from Howard University Middle School; Shayna, from Chavez Prep; and Hannah, from School Without Walls after her presentation.'},\n",
        "   u'type': u'standard',\n",
        "   u'width': u'200'}],\n",
        " u'keywords': {},\n",
        " u'lastModifiedDate': {u'$text': u'Tue, 04 Nov 2014 13:54:44 -0500'},\n",
        " u'link': [{u'$text': u'http://www.npr.org/blogs/alltechconsidered/2014/11/04/360430620/from-silicon-valley-to-white-house-new-u-s-tech-chief-makes-change?ft=3&f=',\n",
        "   u'type': u'html'},\n",
        "  {u'$text': u'http://api.npr.org/query?id=360430620&apiKey=MDE3MzEyOTEwMDE0MTUxMjU4MjczNTcwMw001',\n",
        "   u'type': u'api'},\n",
        "  {u'$text': u'http://n.pr/1q8TkdK', u'type': u'short'}],\n",
        " u'miniTeaser': {},\n",
        " u'organization': [{u'name': {u'$text': u'NPR'},\n",
        "   u'orgAbbr': u'NPR',\n",
        "   u'orgId': u'1',\n",
        "   u'website': {u'$text': u'http://www.npr.org/'}}],\n",
        " u'parent': [{u'id': u'361320061',\n",
        "   u'link': [{u'$text': u'http://www.npr.org/programs/morning-edition/2014/11/04/361320061/morning-edition-for-november-4-2014?ft=3&f=',\n",
        "     u'type': u'html'},\n",
        "    {u'$text': u'http://api.npr.org/query?id=361320061&apiKey=MDE3MzEyOTEwMDE0MTUxMjU4MjczNTcwMw001',\n",
        "     u'type': u'api'}],\n",
        "   u'title': {u'$text': u'Morning Edition for November 4, 2014'},\n",
        "   u'type': u'programEpisode'},\n",
        "  {u'id': u'360431834',\n",
        "   u'link': [{u'$text': u'http://www.npr.org/tags/360431834/chief-technology-officer?ft=3&f=',\n",
        "     u'type': u'html'},\n",
        "    {u'$text': u'http://api.npr.org/query?id=360431834&apiKey=MDE3MzEyOTEwMDE0MTUxMjU4MjczNTcwMw001',\n",
        "     u'type': u'api'}],\n",
        "   u'title': {u'$text': u'chief technology officer'},\n",
        "   u'type': u'tag'},\n",
        "  {u'id': u'360431832',\n",
        "   u'link': [{u'$text': u'http://www.npr.org/tags/360431832/megan-smith?ft=3&f=',\n",
        "     u'type': u'html'},\n",
        "    {u'$text': u'http://api.npr.org/query?id=360431832&apiKey=MDE3MzEyOTEwMDE0MTUxMjU4MjczNTcwMw001',\n",
        "     u'type': u'api'}],\n",
        "   u'title': {u'$text': u'megan smith'},\n",
        "   u'type': u'tag'},\n",
        "  {u'id': u'262472261',\n",
        "   u'link': [{u'$text': u'http://www.npr.org/series/262472261/mpx-lead?ft=3&f=',\n",
        "     u'type': u'html'},\n",
        "    {u'$text': u'http://api.npr.org/query?id=262472261&apiKey=MDE3MzEyOTEwMDE0MTUxMjU4MjczNTcwMw001',\n",
        "     u'type': u'api'}],\n",
        "   u'title': {u'$text': u'MPX Lead'},\n",
        "   u'type': u'collection'},\n",
        "  {u'id': u'227560721',\n",
        "   u'link': [{u'$text': u'http://www.npr.org/tags/227560721/women-in-government?ft=3&f=',\n",
        "     u'type': u'html'},\n",
        "    {u'$text': u'http://api.npr.org/query?id=227560721&apiKey=MDE3MzEyOTEwMDE0MTUxMjU4MjczNTcwMw001',\n",
        "     u'type': u'api'}],\n",
        "   u'title': {u'$text': u'women in government'},\n",
        "   u'type': u'tag'},\n",
        "  {u'id': u'221437017',\n",
        "   u'link': [{u'$text': u'http://www.npr.org/tags/221437017/women-in-tech?ft=3&f=',\n",
        "     u'type': u'html'},\n",
        "    {u'$text': u'http://api.npr.org/query?id=221437017&apiKey=MDE3MzEyOTEwMDE0MTUxMjU4MjczNTcwMw001',\n",
        "     u'type': u'api'}],\n",
        "   u'title': {u'$text': u'women in tech'},\n",
        "   u'type': u'tag'},\n",
        "  {u'id': u'194329909',\n",
        "   u'link': [{u'$text': u'http://www.npr.org/blogs/alltechconsidered/194329909/society?ft=3&f=',\n",
        "     u'type': u'html'},\n",
        "    {u'$text': u'http://api.npr.org/query?id=194329909&apiKey=MDE3MzEyOTEwMDE0MTUxMjU4MjczNTcwMw001',\n",
        "     u'type': u'api'}],\n",
        "   u'title': {u'$text': u'Society'},\n",
        "   u'type': u'category'},\n",
        "  {u'id': u'191676894',\n",
        "   u'link': [{u'$text': u'http://www.npr.org/series/191676894/most-popular?ft=3&f=',\n",
        "     u'type': u'html'},\n",
        "    {u'$text': u'http://api.npr.org/query?id=191676894&apiKey=MDE3MzEyOTEwMDE0MTUxMjU4MjczNTcwMw001',\n",
        "     u'type': u'api'}],\n",
        "   u'title': {u'$text': u'Most Popular'},\n",
        "   u'type': u'collection'},\n",
        "  {u'id': u'177622347',\n",
        "   u'link': [{u'$text': u'http://www.npr.org/series/177622347/the-changing-lives-of-women?ft=3&f=',\n",
        "     u'type': u'html'},\n",
        "    {u'$text': u'http://api.npr.org/query?id=177622347&apiKey=MDE3MzEyOTEwMDE0MTUxMjU4MjczNTcwMw001',\n",
        "     u'type': u'api'}],\n",
        "   u'title': {u'$text': u'The Changing Lives Of Women'},\n",
        "   u'type': u'series'},\n",
        "  {u'id': u'127909460',\n",
        "   u'link': [{u'$text': u'http://www.npr.org/tags/127909460/white-house?ft=3&f=',\n",
        "     u'type': u'html'},\n",
        "    {u'$text': u'http://api.npr.org/query?id=127909460&apiKey=MDE3MzEyOTEwMDE0MTUxMjU4MjczNTcwMw001',\n",
        "     u'type': u'api'}],\n",
        "   u'title': {u'$text': u'White House'},\n",
        "   u'type': u'tag'},\n",
        "  {u'id': u'127578438',\n",
        "   u'link': [{u'$text': u'http://www.npr.org/tags/127578438/women?ft=3&f=',\n",
        "     u'type': u'html'},\n",
        "    {u'$text': u'http://api.npr.org/query?id=127578438&apiKey=MDE3MzEyOTEwMDE0MTUxMjU4MjczNTcwMw001',\n",
        "     u'type': u'api'}],\n",
        "   u'title': {u'$text': u'women'},\n",
        "   u'type': u'tag'},\n",
        "  {u'id': u'125107390',\n",
        "   u'link': [{u'$text': u'http://www.npr.org/blogs/alltechconsidered/125107390/policy/?ft=3&f=',\n",
        "     u'type': u'html'},\n",
        "    {u'$text': u'http://api.npr.org/query?id=125107390&apiKey=MDE3MzEyOTEwMDE0MTUxMjU4MjczNTcwMw001',\n",
        "     u'type': u'api'}],\n",
        "   u'title': {u'$text': u'Policy'},\n",
        "   u'type': u'category'},\n",
        "  {u'id': u'102920358',\n",
        "   u'link': [{u'$text': u'http://www.npr.org/blogs/alltechconsidered/?ft=3&f=',\n",
        "     u'type': u'html'},\n",
        "    {u'$text': u'http://api.npr.org/query?id=102920358&apiKey=MDE3MzEyOTEwMDE0MTUxMjU4MjczNTcwMw001',\n",
        "     u'type': u'api'}],\n",
        "   u'slug': u'true',\n",
        "   u'title': {u'$text': u'All Tech Considered'},\n",
        "   u'type': u'blog'},\n",
        "  {u'id': u'1123',\n",
        "   u'link': [{u'$text': u'http://www.npr.org/sections/governing/?ft=3&f=',\n",
        "     u'type': u'html'},\n",
        "    {u'$text': u'http://api.npr.org/query?id=1123&apiKey=MDE3MzEyOTEwMDE0MTUxMjU4MjczNTcwMw001',\n",
        "     u'type': u'api'}],\n",
        "   u'title': {u'$text': u'Governing'},\n",
        "   u'type': u'topic'},\n",
        "  {u'id': u'1049',\n",
        "   u'link': [{u'$text': u'http://www.npr.org/sections/digital-life/?ft=3&f=',\n",
        "     u'type': u'html'},\n",
        "    {u'$text': u'http://api.npr.org/query?id=1049&apiKey=MDE3MzEyOTEwMDE0MTUxMjU4MjczNTcwMw001',\n",
        "     u'type': u'api'}],\n",
        "   u'title': {u'$text': u'Digital Life'},\n",
        "   u'type': u'topic'},\n",
        "  {u'id': u'1019',\n",
        "   u'link': [{u'$text': u'http://www.npr.org/sections/technology/?ft=3&f=',\n",
        "     u'type': u'html'},\n",
        "    {u'$text': u'http://api.npr.org/query?id=1019&apiKey=MDE3MzEyOTEwMDE0MTUxMjU4MjczNTcwMw001',\n",
        "     u'type': u'api'}],\n",
        "   u'title': {u'$text': u'Technology'},\n",
        "   u'type': u'primaryTopic'},\n",
        "  {u'id': u'1019',\n",
        "   u'link': [{u'$text': u'http://www.npr.org/sections/technology/?ft=3&f=',\n",
        "     u'type': u'html'},\n",
        "    {u'$text': u'http://api.npr.org/query?id=1019&apiKey=MDE3MzEyOTEwMDE0MTUxMjU4MjczNTcwMw001',\n",
        "     u'type': u'api'}],\n",
        "   u'title': {u'$text': u'Technology'},\n",
        "   u'type': u'topic'},\n",
        "  {u'id': u'1003',\n",
        "   u'link': [{u'$text': u'http://www.npr.org/sections/us/?ft=3&f=',\n",
        "     u'type': u'html'},\n",
        "    {u'$text': u'http://api.npr.org/query?id=1003&apiKey=MDE3MzEyOTEwMDE0MTUxMjU4MjczNTcwMw001',\n",
        "     u'type': u'api'}],\n",
        "   u'title': {u'$text': u'U.S.'},\n",
        "   u'type': u'topic'},\n",
        "  {u'id': u'1002',\n",
        "   u'link': [{u'$text': u'http://www.npr.org/?ft=3&f=', u'type': u'html'},\n",
        "    {u'$text': u'http://api.npr.org/query?id=1002&apiKey=MDE3MzEyOTEwMDE0MTUxMjU4MjczNTcwMw001',\n",
        "     u'type': u'api'}],\n",
        "   u'title': {u'$text': u'Home Page Top Stories'},\n",
        "   u'type': u'topic'},\n",
        "  {u'id': u'1001',\n",
        "   u'link': [{u'$text': u'http://www.npr.org/sections/news/?ft=3&f=',\n",
        "     u'type': u'html'},\n",
        "    {u'$text': u'http://api.npr.org/query?id=1001&apiKey=MDE3MzEyOTEwMDE0MTUxMjU4MjczNTcwMw001',\n",
        "     u'type': u'api'}],\n",
        "   u'title': {u'$text': u'News'},\n",
        "   u'type': u'topic'},\n",
        "  {u'id': u'3',\n",
        "   u'link': [{u'$text': u'http://www.npr.org/programs/morning-edition/?ft=3&f=',\n",
        "     u'type': u'html'},\n",
        "    {u'$text': u'http://api.npr.org/query?id=3&apiKey=MDE3MzEyOTEwMDE0MTUxMjU4MjczNTcwMw001',\n",
        "     u'type': u'api'}],\n",
        "   u'title': {u'$text': u'Morning Edition'},\n",
        "   u'type': u'program'}],\n",
        " u'priorityKeywords': {},\n",
        " u'pubDate': {u'$text': u'Tue, 04 Nov 2014 13:54:00 -0500'},\n",
        " u'relatedLink': [{u'caption': {u'$text': u' The Changing Lives Of Women'},\n",
        "   u'id': u'361159004',\n",
        "   u'link': [{u'$text': u'http://www.npr.org/series/177622347/the-changing-lives-of-women?ft=3&f=',\n",
        "     u'type': u'html'},\n",
        "    {u'$text': u'http://api.npr.org/query?id=177622347&apiKey=MDE3MzEyOTEwMDE0MTUxMjU4MjczNTcwMw001',\n",
        "     u'type': u'api'}],\n",
        "   u'type': u'internal'}],\n",
        " u'shortTitle': {},\n",
        " u'show': [{u'program': {u'$text': u'Morning Edition',\n",
        "    u'code': u'ME',\n",
        "    u'id': u'3'},\n",
        "   u'segNum': {u'$text': u'3'},\n",
        "   u'showDate': {u'$text': u'Tue, 04 Nov 2014 05:00:00 -0500'}}],\n",
        " u'slug': {u'$text': u'All Tech Considered'},\n",
        " u'storyDate': {u'$text': u'Tue, 04 Nov 2014 03:17:00 -0500'},\n",
        " u'subtitle': {},\n",
        " u'teaser': {u'$text': u\"Former Google X top executive Megan Smith started this month as the U.S. chief technology officer. She's only the third person to have the job.\"},\n",
        " u'text': {u'paragraph': [{u'$text': u\"This fall, we've been exploring the Changing Lives of Women, and Megan Smith is one woman who's gone through a number of changes in recent months. She just moved from a top job at Google in Silicon Valley, where she was vice president of Google X, to the White House, where's she's now the country's chief technology officer. She's so new to the halls of the White House complex that she's wearing a temporary badge.\",\n",
        "    u'num': u'1'},\n",
        "   {u'$text': u'\"I just have to fill out all my security clearance forms. I\\'m almost done,\" she says.',\n",
        "    u'num': u'2'},\n",
        "   {u'$text': u\"Smith started only two months ago as U.S. chief technology officer, a role created at the start of President Obama's administration. The CTO's charge is to find ways to unleash technology to improve government, and federal government is notoriously slow to change.\",\n",
        "    u'num': u'3'},\n",
        "   {u'$text': u\"But just by coming to work in Washington, Smith is already making one change: Her look. At Google, she would be wearing jeans. In the White House, it's a little more buttoned up.\",\n",
        "    u'num': u'4'},\n",
        "   {u'$text': u'\"Yes, I\\'m wearing a suit. It\\'s comfortable. It\\'s from J.Crew,\" she says.',\n",
        "    u'num': u'5'},\n",
        "   {u'$text': u\"Smith doesn't actually like talking about external image much, as she's been focused on changing tech from the inside \\u2014 pushing for more women in science and technology fields and keeping them there. We caught up with the mother-of-two as she kicked off a documentary screening for Washington, D.C.-area middle and high-schoolers.\",\n",
        "    u'num': u'6'},\n",
        "   {u'$text': u'\"It will be interesting for you guys to see the media talk about the women scientists versus the men scientists, how they hyper-focused on what they looked [like], what they wore,\" Smith said to a roomful of about 70 school kids. \"All this sort of gender bias \\u2014 I want you guys to notice that and observe that, because it\\'s an important thing.\"',\n",
        "    u'num': u'7'},\n",
        "   {u'$text': u'The topic of women in tech is on many minds lately. There were more women graduating with computer science degrees in in 1984 \\u2014 than 2014. Every other industry that was once dominated by men \\u2014 finance, law, medicine \\u2014 has come closer to parity. Tech, meanwhile, seems to be going backwards.  \"I almost call it death by a thousand cuts,\" Smith says. \"There are always these little biases that hit people. Every individual situation \\u2014 oh, this person doesn\\'t have a VP job, or this person doesn\\'t have this for this or that reason but when you look at an aggregate, it\\'s really a lot of unconscious bias.\"',\n",
        "    u'num': u'8'},\n",
        "   {u'$text': u'Smith, a lesbian who started Gay.com, says she got past people\\'s biases to wind up running Google X, the division of Google that rolled out self-driving cars, and becoming U.S. CTO by doing what she calls \"bringing her passion.\" Her former boss, Google Chairman Eric Schmidt, remembers it well.',\n",
        "    u'num': u'9'},\n",
        "   {u'$text': u'\"She has an energy, and an enthusiasm, that is addictive,\" Schmidt says.',\n",
        "    u'num': u'10'},\n",
        "   {u'$text': u\"When you meet her, Smith's youthful energy shows. She bounces when she walks. Her eyes twinkle when she talks about old tech projects and her love of science, which dates back to her childhood.\",\n",
        "    u'num': u'11'},\n",
        "   {u'$text': u'\"I went to an inner-city school in Buffalo. We had no money, but the teachers were really motivated. They made science fair mandatory. And I think that was one of the key things for all the kids. Many kids went on the STEM related careers because as kids we got to try it. It got me to learn that it was fun, it mattered,\" she says.',\n",
        "    u'num': u'12'},\n",
        "   {u'$text': u'She took that thinking with her to MIT. And went on to help develop futuristic products at a place called General Magic. We found her 28-year-old self in an archive video, demonstrating a prototype for what would become touchscreens.',\n",
        "    u'num': u'13'},\n",
        "   {u'$text': u'\"We\\'re trying to make somethin\\' that people love,\" she said, back then.',\n",
        "    u'num': u'14'},\n",
        "   {u'$text': u\"Back then, she loved making prototypes and products. Two decades later, she's changed her focus from products to people.\",\n",
        "    u'num': u'15'},\n",
        "   {u'$text': u'\"I think maybe I was doing specific projects and enabling them, and now I\\'m looking for other people,\" she says. \"You know, people who are like the kid I was.\"',\n",
        "    u'num': u'16'},\n",
        "   {u'$text': u'Which brings us back to the White House film screening, and the girls Smith is trying to encourage into STEM careers. Hannah Docter-Loeb is a 9th grader.',\n",
        "    u'num': u'17'},\n",
        "   {u'$text': u'\"It\\'s definitely important to see women in power,\" Docter-Loeb says. \"Because you can see like, you can do that, too.\"',\n",
        "    u'num': u'18'},\n",
        "   {u'$text': u'Smith will have to call on all her powers to turn government agencies into more tech startup-type cultures. One agency still saves data on floppy disks.',\n",
        "    u'num': u'19'},\n",
        "   {u'$text': u'Fitting with her changing perspective \\u2014 her priority is on people.',\n",
        "    u'num': u'20'},\n",
        "   {u'$text': u'\"One thing I hope, five years from now, is more tech colleagues of mine like the elite elite teams, are flowing in and out of government. We want to create an environment where, in addition to amazing policy groups ... tech teams feel comfortable, included, and are in leadership positions here,\" Smith says.',\n",
        "    u'num': u'21'},\n",
        "   {u'$text': u\"She's a gay woman scientist, which could make her a potential outsider on a few levels. Instead, she's as inside as a tech leader can be, even bounding around the White House with ease, once those security credentials are all set. [Copyright 2014 NPR]\",\n",
        "    u'num': u'22'}]},\n",
        " u'textWithHtml': {u'paragraph': [{u'$text': u'This fall, we\\'ve been exploring <a href=\"http://www.npr.org/series/177622347/the-changing-lives-of-women\">the Changing Lives of Women</a>, and Megan Smith is one woman who\\'s gone through a number of changes in recent months. She just moved from a top job at Google in Silicon Valley, where she was vice president of Google X, <a href=\"http://www.whitehouse.gov/blog/2014/09/04/president-obama-names-megan-smith-us-cto-alexander-macgillivray-deputy-us-cto\">to the White House</a>, where\\'s she\\'s now the country\\'s chief technology officer. She\\'s so new to the halls of the White House complex that she\\'s wearing a temporary badge.',\n",
        "    u'num': u'1'},\n",
        "   {u'$text': u'\"I just have to fill out all my security clearance forms. I\\'m almost done,\" she says.',\n",
        "    u'num': u'2'},\n",
        "   {u'$text': u\"Smith started only two months ago as U.S. chief technology officer, a role created at the start of President Obama's administration. The CTO's charge is to find ways to unleash technology to improve government, and federal government is notoriously slow to change.\",\n",
        "    u'num': u'3'},\n",
        "   {u'$text': u\"But just by coming to work in Washington, Smith is already making one change: Her look. At Google, she would be wearing jeans. In the White House, it's a little more buttoned up.\",\n",
        "    u'num': u'4'},\n",
        "   {u'$text': u'\"Yes, I\\'m wearing a suit. It\\'s comfortable. It\\'s from J.Crew,\" she says.',\n",
        "    u'num': u'5'},\n",
        "   {u'$text': u\"Smith doesn't actually like talking about external image much, as she's been focused on changing tech from the inside \\u2014 pushing for more women in science and technology fields and keeping them there. We caught up with the mother-of-two as she kicked off a documentary screening for Washington, D.C.-area middle and high-schoolers.\",\n",
        "    u'num': u'6'},\n",
        "   {u'$text': u'\"It will be interesting for you guys to see the media talk about the women scientists versus the men scientists, how they hyper-focused on what they looked [like], what they wore,\" Smith said to a roomful of about 70 school kids. \"All this sort of gender bias \\u2014 I want you guys to notice that and observe that, because it\\'s an important thing.\"',\n",
        "    u'num': u'7'},\n",
        "   {u'$text': u'The topic of <a href=\"http://www.npr.org/tags/221437017/women-in-tech\">women in tech</a> is on many minds lately. There were <a href=\"http://www.npr.org/blogs/money/2014/10/21/357629765/when-women-stopped-coding\">more women graduating with computer science degrees in in 1984</a> \\u2014 than 2014. Every other industry that was once dominated by men \\u2014 finance, law, medicine \\u2014 has come closer to parity. Tech, meanwhile, seems to be going backwards. <br /> <br />\"I almost call it death by a thousand cuts,\" Smith says. \"There are always these little biases that hit people. Every individual situation \\u2014 oh, this person doesn\\'t have a VP job, or this person doesn\\'t have this for this or that reason but when you look at an aggregate, it\\'s really a lot of unconscious bias.\"',\n",
        "    u'num': u'8'},\n",
        "   {u'$text': u'Smith, a lesbian who started Gay.com, says she got past people\\'s biases to wind up running Google X, the division of Google that rolled out self-driving cars, and becoming U.S. CTO by doing what she calls \"bringing her passion.\" Her former boss, Google Chairman Eric Schmidt, remembers it well.',\n",
        "    u'num': u'9'},\n",
        "   {u'$text': u'\"She has an energy, and an enthusiasm, that is addictive,\" Schmidt says.',\n",
        "    u'num': u'10'},\n",
        "   {u'$text': u\"When you meet her, Smith's youthful energy shows. She bounces when she walks. Her eyes twinkle when she talks about old tech projects and her love of science, which dates back to her childhood.\",\n",
        "    u'num': u'11'},\n",
        "   {u'$text': u'\"I went to an inner-city school in Buffalo. We had no money, but the teachers were really motivated. They made science fair mandatory. And I think that was one of the key things for all the kids. Many kids went on the STEM related careers because as kids we got to try it. It got me to learn that it was fun, it mattered,\" she says.',\n",
        "    u'num': u'12'},\n",
        "   {u'$text': u'She took that thinking with her to MIT. And went on to help develop futuristic products at a place called General Magic. We found her 28-year-old self in an archive video, demonstrating a prototype for what would become touchscreens.',\n",
        "    u'num': u'13'},\n",
        "   {u'$text': u'\"We\\'re trying to make somethin\\' that people love,\" she said, back then.',\n",
        "    u'num': u'14'},\n",
        "   {u'$text': u\"Back then, she loved making prototypes and products. Two decades later, she's changed her focus from products to people.\",\n",
        "    u'num': u'15'},\n",
        "   {u'$text': u'\"I think maybe I was doing specific projects and enabling them, and now I\\'m looking for other people,\" she says. \"You know, people who are like the kid I was.\"',\n",
        "    u'num': u'16'},\n",
        "   {u'$text': u'Which brings us back to the White House film screening, and the girls Smith is trying to encourage into STEM careers. Hannah Docter-Loeb is a 9th grader.',\n",
        "    u'num': u'17'},\n",
        "   {u'$text': u'\"It\\'s definitely important to see women in power,\" Docter-Loeb says. \"Because you can see like, you can do that, too.\"',\n",
        "    u'num': u'18'},\n",
        "   {u'$text': u'Smith will have to call on all her powers to turn government agencies into more tech startup-type cultures. One agency still <a href=\"http://www.nytimes.com/2013/12/07/us/politics/slowly-they-modernize-a-federal-agency-that-still-uses-floppy-disks.html?_r=0\">saves data on floppy disks</a>.',\n",
        "    u'num': u'19'},\n",
        "   {u'$text': u'Fitting with her changing perspective \\u2014 her priority is on people.',\n",
        "    u'num': u'20'},\n",
        "   {u'$text': u'\"One thing I hope, five years from now, is more tech colleagues of mine like the <em>elite</em> elite teams, are flowing in and out of government. We want to create an environment where, in addition to amazing policy groups ... tech teams feel comfortable, included, and are in leadership positions here,\" Smith says.',\n",
        "    u'num': u'21'},\n",
        "   {u'$text': u'She\\'s a gay woman scientist, which could make her a potential outsider on a few levels. Instead, she\\'s as inside as a tech leader can be, even bounding around the White House with ease, once those security credentials are all set.  <div class=\"fullattribution\">Copyright 2014 NPR. To see more, visit <a href=\"http://www.npr.org/\">http://www.npr.org/</a>.<img src=\"http://www.google-analytics.com/__utm.gif?utmac=UA-5828686-4&utmdt=From+Silicon+Valley+To+White+House%2C+New+U.S.+Tech+Chief+Makes+Change&utme=8(APIKey)9(MDE3MzEyOTEwMDE0MTUxMjU4MjczNTcwMw001)\"/></div>',\n",
        "    u'num': u'22'}]},\n",
        " u'thumbnail': {u'large': {u'$text': u'http://media.npr.org/assets/img/2014/10/31/20141027-megan-smith-white-house-056edit_sq-6ed1f588253bdaa6482fdb9ede95dcc831b5373d.jpg?s=11'},\n",
        "  u'medium': {u'$text': u'http://media.npr.org/assets/img/2014/10/31/20141027-megan-smith-white-house-056edit_sq-6ed1f588253bdaa6482fdb9ede95dcc831b5373d.jpg?s=13'},\n",
        "  u'provider': {u'$text': u'NPR'}},\n",
        " u'title': {u'$text': u'From Silicon Valley To White House, New U.S. Tech Chief Makes Change'}}"
       ]
      }
     ],
     "prompt_number": 263
    },
    {
     "cell_type": "code",
     "collapsed": false,
     "input": [
      "frame = pd.DataFrame({'text' : full_article, 'url' : links, 'source' : 'NPR', 'rating' : .2}, \\\n",
      "             columns = ['source', 'url', 'text', 'rating'])"
     ],
     "language": "python",
     "metadata": {},
     "outputs": [],
     "prompt_number": 267
    },
    {
     "cell_type": "code",
     "collapsed": false,
     "input": [
      "frame.to_csv('npr_data.csv')"
     ],
     "language": "python",
     "metadata": {},
     "outputs": [],
     "prompt_number": 269
    },
    {
     "cell_type": "code",
     "collapsed": false,
     "input": [
      "#get wiki data\n",
      "req = requests.get('https://en.wikipedia.org/wiki/Special:Random')"
     ],
     "language": "python",
     "metadata": {},
     "outputs": [],
     "prompt_number": 270
    },
    {
     "cell_type": "code",
     "collapsed": false,
     "input": [
      "soup = BeautifulSoup(req.text)"
     ],
     "language": "python",
     "metadata": {},
     "outputs": [],
     "prompt_number": 272
    },
    {
     "cell_type": "code",
     "collapsed": false,
     "input": [
      "soup"
     ],
     "language": "python",
     "metadata": {},
     "outputs": [
      {
       "metadata": {},
       "output_type": "pyout",
       "prompt_number": 273,
       "text": [
        "<!DOCTYPE html>\n",
        "<html class=\"client-nojs\" dir=\"ltr\" lang=\"en\">\n",
        "<head>\n",
        "<meta charset=\"utf-8\"/>\n",
        "<title>List of National Natural Landmarks in Georgia - Wikipedia, the free encyclopedia</title>\n",
        "<meta content=\"MediaWiki 1.25wmf5\" name=\"generator\"/>\n",
        "<link href=\"android-app://org.wikipedia/http/en.m.wikipedia.org/wiki/List_of_National_Natural_Landmarks_in_Georgia\" rel=\"alternate\"/>\n",
        "<link href=\"/w/index.php?title=List_of_National_Natural_Landmarks_in_Georgia&amp;action=edit\" rel=\"alternate\" title=\"Edit this page\" type=\"application/x-wiki\"/>\n",
        "<link href=\"/w/index.php?title=List_of_National_Natural_Landmarks_in_Georgia&amp;action=edit\" rel=\"edit\" title=\"Edit this page\"/>\n",
        "<link href=\"//bits.wikimedia.org/apple-touch/wikipedia.png\" rel=\"apple-touch-icon\"/>\n",
        "<link href=\"//bits.wikimedia.org/favicon/wikipedia.ico\" rel=\"shortcut icon\"/>\n",
        "<link href=\"/w/opensearch_desc.php\" rel=\"search\" title=\"Wikipedia (en)\" type=\"application/opensearchdescription+xml\"/>\n",
        "<link href=\"//en.wikipedia.org/w/api.php?action=rsd\" rel=\"EditURI\" type=\"application/rsd+xml\"/>\n",
        "<link href=\"/wiki/List_of_National_Natural_Landmarks_in_Georgia\" hreflang=\"x-default\" rel=\"alternate\"/>\n",
        "<link href=\"//creativecommons.org/licenses/by-sa/3.0/\" rel=\"copyright\"/>\n",
        "<link href=\"/w/index.php?title=Special:RecentChanges&amp;feed=atom\" rel=\"alternate\" title=\"Wikipedia Atom feed\" type=\"application/atom+xml\"/>\n",
        "<link href=\"http://en.wikipedia.org/wiki/List_of_National_Natural_Landmarks_in_Georgia\" rel=\"canonical\"/>\n",
        "<link href=\"//bits.wikimedia.org/en.wikipedia.org/load.php?debug=false&amp;lang=en&amp;modules=ext.gadget.DRN-wizard%2CReferenceTooltips%2Ccharinsert%2Cfeatured-articles-links%2CrefToolbar%2Cteahouse%7Cext.uls.nojs%7Cext.visualEditor.viewPageTarget.noscript%7Cext.wikihiero%2CwikimediaBadges%7Cmediawiki.legacy.commonPrint%2Cshared%7Cmediawiki.skinning.interface%7Cmediawiki.ui.button%7Cskins.vector.styles%7Cwikibase.client.init%2Cnolanglinks&amp;only=styles&amp;skin=vector&amp;*\" rel=\"stylesheet\"/>\n",
        "<meta content=\"\" name=\"ResourceLoaderDynamicStyles\"/>\n",
        "<link href=\"//bits.wikimedia.org/en.wikipedia.org/load.php?debug=false&amp;lang=en&amp;modules=site&amp;only=styles&amp;skin=vector&amp;*\" rel=\"stylesheet\"/>\n",
        "<style>a:lang(ar),a:lang(kk-arab),a:lang(mzn),a:lang(ps),a:lang(ur){text-decoration:none}\n",
        "/* cache key: enwiki:resourceloader:filter:minify-css:7:3904d24a08aa08f6a68dc338f9be277e */</style>\n",
        "<script src=\"//bits.wikimedia.org/en.wikipedia.org/load.php?debug=false&amp;lang=en&amp;modules=startup&amp;only=scripts&amp;skin=vector&amp;*\"></script>\n",
        "<script>if(window.mw){\n",
        "mw.config.set({\"wgCanonicalNamespace\":\"\",\"wgCanonicalSpecialPageName\":false,\"wgNamespaceNumber\":0,\"wgPageName\":\"List_of_National_Natural_Landmarks_in_Georgia\",\"wgTitle\":\"List of National Natural Landmarks in Georgia\",\"wgCurRevisionId\":546870493,\"wgRevisionId\":546870493,\"wgArticleId\":20675749,\"wgIsArticle\":true,\"wgIsRedirect\":false,\"wgAction\":\"view\",\"wgUserName\":null,\"wgUserGroups\":[\"*\"],\"wgCategories\":[\"Lists of coordinates\",\"Geographic coordinate lists\",\"Articles with Geo\",\"National Natural Landmarks in Georgia (U.S. state)\",\"Georgia (U.S. state)-related lists\",\"Lists of National Natural Landmarks\"],\"wgBreakFrames\":false,\"wgPageContentLanguage\":\"en\",\"wgPageContentModel\":\"wikitext\",\"wgSeparatorTransformTable\":[\"\",\"\"],\"wgDigitTransformTable\":[\"\",\"\"],\"wgDefaultDateFormat\":\"dmy\",\"wgMonthNames\":[\"\",\"January\",\"February\",\"March\",\"April\",\"May\",\"June\",\"July\",\"August\",\"September\",\"October\",\"November\",\"December\"],\"wgMonthNamesShort\":[\"\",\"Jan\",\"Feb\",\"Mar\",\"Apr\",\"May\",\"Jun\",\"Jul\",\"Aug\",\"Sep\",\"Oct\",\"Nov\",\"Dec\"],\"wgRelevantPageName\":\"List_of_National_Natural_Landmarks_in_Georgia\",\"wgIsProbablyEditable\":true,\"wgRestrictionEdit\":[],\"wgRestrictionMove\":[],\"wgWikiEditorEnabledModules\":{\"toolbar\":true,\"dialogs\":true,\"hidesig\":true,\"preview\":false,\"previewDialog\":false,\"publish\":false},\"wgBetaFeaturesFeatures\":[],\"wgMediaViewerOnClick\":true,\"wgMediaViewerEnabledByDefault\":true,\"wgVisualEditor\":{\"isPageWatched\":false,\"pageLanguageCode\":\"en\",\"pageLanguageDir\":\"ltr\",\"svgMaxSize\":4096,\"namespacesWithSubpages\":{\"6\":0,\"8\":0,\"1\":true,\"2\":true,\"3\":true,\"4\":true,\"5\":true,\"7\":true,\"9\":true,\"10\":true,\"11\":true,\"12\":true,\"13\":true,\"14\":true,\"15\":true,\"100\":true,\"101\":true,\"102\":true,\"103\":true,\"104\":true,\"105\":true,\"106\":true,\"107\":true,\"108\":true,\"109\":true,\"110\":true,\"111\":true,\"830\":true,\"831\":true,\"447\":true,\"2600\":false,\"828\":true,\"829\":true}},\"wikilove-recipient\":\"\",\"wikilove-anon\":0,\"wgHHVMStart\":1412726400000,\"wgULSAcceptLanguageList\":[],\"wgULSCurrentAutonym\":\"English\",\"wgFlaggedRevsParams\":{\"tags\":{\"status\":{\"levels\":1,\"quality\":2,\"pristine\":3}}},\"wgStableRevisionId\":null,\"wgCategoryTreePageCategoryOptions\":\"{\\\"mode\\\":0,\\\"hideprefix\\\":20,\\\"showcount\\\":true,\\\"namespaces\\\":false}\",\"wgNoticeProject\":\"wikipedia\",\"wgWikibaseItemId\":\"Q6591509\"});\n",
        "}</script><script>if(window.mw){\n",
        "mw.loader.implement(\"user.options\",function($,jQuery){mw.user.options.set({\"ccmeonemails\":0,\"cols\":80,\"date\":\"default\",\"diffonly\":0,\"disablemail\":0,\"editfont\":\"default\",\"editondblclick\":0,\"editsectiononrightclick\":0,\"enotifminoredits\":0,\"enotifrevealaddr\":0,\"enotifusertalkpages\":1,\"enotifwatchlistpages\":0,\"extendwatchlist\":0,\"fancysig\":0,\"forceeditsummary\":0,\"gender\":\"unknown\",\"hideminor\":0,\"hidepatrolled\":0,\"imagesize\":2,\"math\":0,\"minordefault\":0,\"newpageshidepatrolled\":0,\"nickname\":\"\",\"norollbackdiff\":0,\"numberheadings\":0,\"previewonfirst\":0,\"previewontop\":1,\"rcdays\":7,\"rclimit\":50,\"rows\":25,\"showhiddencats\":false,\"shownumberswatching\":1,\"showtoolbar\":1,\"skin\":\"vector\",\"stubthreshold\":0,\"thumbsize\":4,\"underline\":2,\"uselivepreview\":0,\"usenewrc\":0,\"watchcreations\":1,\"watchdefault\":0,\"watchdeletion\":0,\"watchlistdays\":3,\"watchlisthideanons\":0,\"watchlisthidebots\":0,\"watchlisthideliu\":0,\"watchlisthideminor\":0,\"watchlisthideown\":0,\"watchlisthidepatrolled\":0,\"watchmoves\":0,\"watchrollback\":0,\n",
        "\"wllimit\":250,\"useeditwarning\":1,\"prefershttps\":1,\"flaggedrevssimpleui\":1,\"flaggedrevsstable\":0,\"flaggedrevseditdiffs\":true,\"flaggedrevsviewdiffs\":false,\"usebetatoolbar\":1,\"usebetatoolbar-cgd\":1,\"visualeditor-enable\":0,\"visualeditor-betatempdisable\":0,\"visualeditor-enable-experimental\":0,\"visualeditor-enable-language\":0,\"visualeditor-hidebetawelcome\":0,\"wikilove-enabled\":1,\"echo-subscriptions-web-page-review\":true,\"echo-subscriptions-email-page-review\":false,\"ep_showtoplink\":false,\"ep_bulkdelorgs\":false,\"ep_bulkdelcourses\":true,\"ep_showdyk\":true,\"echo-subscriptions-web-education-program\":true,\"echo-subscriptions-email-education-program\":false,\"echo-notify-show-link\":true,\"echo-show-alert\":true,\"echo-email-frequency\":0,\"echo-email-format\":\"html\",\"echo-subscriptions-email-system\":true,\"echo-subscriptions-web-system\":true,\"echo-subscriptions-email-user-rights\":true,\"echo-subscriptions-web-user-rights\":true,\"echo-subscriptions-email-other\":false,\"echo-subscriptions-web-other\":true,\n",
        "\"echo-subscriptions-email-edit-user-talk\":false,\"echo-subscriptions-web-edit-user-talk\":true,\"echo-subscriptions-email-reverted\":false,\"echo-subscriptions-web-reverted\":true,\"echo-subscriptions-email-article-linked\":false,\"echo-subscriptions-web-article-linked\":false,\"echo-subscriptions-email-mention\":false,\"echo-subscriptions-web-mention\":true,\"echo-subscriptions-web-edit-thank\":true,\"echo-subscriptions-email-edit-thank\":false,\"echo-subscriptions-web-flow-discussion\":true,\"echo-subscriptions-email-flow-discussion\":false,\"gettingstarted-task-toolbar-show-intro\":true,\"uls-preferences\":\"\",\"multimediaviewer-enable\":true,\"language\":\"en\",\"variant-gan\":\"gan\",\"variant-iu\":\"iu\",\"variant-kk\":\"kk\",\"variant-ku\":\"ku\",\"variant-shi\":\"shi\",\"variant-sr\":\"sr\",\"variant-tg\":\"tg\",\"variant-uz\":\"uz\",\"variant-zh\":\"zh\",\"searchNs0\":true,\"searchNs1\":false,\"searchNs2\":false,\"searchNs3\":false,\"searchNs4\":false,\"searchNs5\":false,\"searchNs6\":false,\"searchNs7\":false,\"searchNs8\":false,\"searchNs9\":false,\"searchNs10\":\n",
        "false,\"searchNs11\":false,\"searchNs12\":false,\"searchNs13\":false,\"searchNs14\":false,\"searchNs15\":false,\"searchNs100\":false,\"searchNs101\":false,\"searchNs108\":false,\"searchNs109\":false,\"searchNs118\":false,\"searchNs119\":false,\"searchNs446\":false,\"searchNs447\":false,\"searchNs710\":false,\"searchNs711\":false,\"searchNs828\":false,\"searchNs829\":false,\"searchNs2600\":false,\"gadget-teahouse\":1,\"gadget-ReferenceTooltips\":1,\"gadget-geonotice\":1,\"gadget-DRN-wizard\":1,\"gadget-charinsert\":1,\"gadget-refToolbar\":1,\"gadget-mySandbox\":1,\"gadget-featured-articles-links\":1,\"variant\":\"en\"});},{},{});mw.loader.implement(\"user.tokens\",function($,jQuery){mw.user.tokens.set({\"editToken\":\"+\\\\\",\"patrolToken\":\"+\\\\\",\"watchToken\":\"+\\\\\"});},{},{});\n",
        "/* cache key: enwiki:resourceloader:filter:minify-js:7:fb6d33a792758dc6c0c50bd882524047 */\n",
        "}</script>\n",
        "<script>if(window.mw){\n",
        "mw.loader.load([\"mediawiki.page.startup\",\"mediawiki.legacy.wikibits\",\"mediawiki.legacy.ajax\",\"ext.centralauth.centralautologin\",\"mmv.head\",\"ext.visualEditor.viewPageTarget.init\",\"ext.uls.init\",\"ext.uls.interface\",\"ext.centralNotice.bannerController\",\"skins.vector.js\"]);\n",
        "}</script>\n",
        "<link href=\"//meta.wikimedia.org\" rel=\"dns-prefetch\"/>\n",
        "<!--[if lt IE 7]><style type=\"text/css\">body{behavior:url(\"/w/static-1.25wmf5/skins/Vector/csshover.min.htc\")}</style><![endif]-->\n",
        "</head>\n",
        "<body class=\"mediawiki ltr sitedir-ltr ns-0 ns-subject page-List_of_National_Natural_Landmarks_in_Georgia skin-vector action-view vector-animateLayout\">\n",
        "<div class=\"noprint\" id=\"mw-page-base\"></div>\n",
        "<div class=\"noprint\" id=\"mw-head-base\"></div>\n",
        "<div class=\"mw-body\" id=\"content\" role=\"main\">\n",
        "<a id=\"top\"></a>\n",
        "<div id=\"siteNotice\"><!-- CentralNotice --></div>\n",
        "<h1 class=\"firstHeading\" id=\"firstHeading\" lang=\"en\"><span dir=\"auto\">List of National Natural Landmarks in Georgia</span></h1>\n",
        "<div class=\"mw-body-content\" id=\"bodyContent\">\n",
        "<div id=\"siteSub\">From Wikipedia, the free encyclopedia</div>\n",
        "<div id=\"contentSub\"></div>\n",
        "<div class=\"mw-jump\" id=\"jump-to-nav\">\n",
        "\t\t\t\t\tJump to:\t\t\t\t\t<a href=\"#mw-navigation\">navigation</a>, \t\t\t\t\t<a href=\"#p-search\">search</a>\n",
        "</div>\n",
        "<div class=\"mw-content-ltr\" dir=\"ltr\" id=\"mw-content-text\" lang=\"en\"><table class=\"collapsible collapsed noprint infobox\" id=\"GeoGroup\" style=\"width: 23em; font-size: 88%; line-height: 1.5em\">\n",
        "<tr>\n",
        "<th style=\"text-align:left;\"><a class=\"external text\" href=\"http://tools.wmflabs.org/kmlexport?article=List_of_National_Natural_Landmarks_in_Georgia&amp;redir=google\">Map of all coordinates from Google</a><br/>\n",
        "<a class=\"external text\" href=\"http://tools.wmflabs.org/kmlexport?article=List_of_National_Natural_Landmarks_in_Georgia&amp;redir=bing\">Map of up to 200 coordinates from Bing</a></th>\n",
        "</tr>\n",
        "<tr>\n",
        "<td><a class=\"external text\" href=\"http://tools.wmflabs.org/kmlexport?article=List_of_National_Natural_Landmarks_in_Georgia\">Export all coordinates</a> as <a href=\"/wiki/Keyhole_Markup_Language\" title=\"Keyhole Markup Language\">KML</a></td>\n",
        "</tr>\n",
        "<tr>\n",
        "<td><a class=\"external text\" href=\"http://maps.bing.com/GeoCommunity.asjx?action=retrieverss&amp;mkt=en&amp;mapurl=http%3A%2F%2Ftools.wmflabs.org%2Fkmlexport%3Farticle%3DList_of_National_Natural_Landmarks_in_Georgia\" rel=\"nofollow\">Export all coordinates</a> as <a href=\"/wiki/GeoRSS\" title=\"GeoRSS\">GeoRSS</a></td>\n",
        "</tr>\n",
        "<tr>\n",
        "<td><a class=\"external text\" href=\"http://tools.tripgang.com/kml2gpx/http%3A%2F%2Ftools.wmflabs.org%2Fkmlexport%3Farticle%3DList_of_National_Natural_Landmarks_in_Georgia?gpx=1\" rel=\"nofollow\">Export all coordinates</a> as <a class=\"mw-redirect\" href=\"/wiki/GPS_eXchange_Format\" title=\"GPS eXchange Format\">GPX</a></td>\n",
        "</tr>\n",
        "<tr>\n",
        "<td><a class=\"external text\" href=\"http://maps.google.com/maps?q=http%3A%2F%2Fmicroform.at%2Fgeo%2Fhttp%3A%2F%2Fen.wikipedia.org%2Fwiki%2FList_of_National_Natural_Landmarks_in_Georgia\" rel=\"nofollow\">Map of all microformatted coordinates</a></td>\n",
        "</tr>\n",
        "<tr>\n",
        "<td><a class=\"external text\" href=\"http://microform.at/?type=hcard-rdf&amp;url=http://en.wikipedia.org/wiki/List_of_National_Natural_Landmarks_in_Georgia\" rel=\"nofollow\">Place data as RDF</a></td>\n",
        "</tr>\n",
        "</table>\n",
        "<p>There are ten <b><a href=\"/wiki/National_Natural_Landmark\" title=\"National Natural Landmark\">National Natural Landmarks</a></b> in the U.S. state of <b><a href=\"/wiki/Georgia_(U.S._state)\" title=\"Georgia (U.S. state)\">Georgia</a></b>.</p>\n",
        "<div style=\"clear:both;\"></div>\n",
        "<table align=\"center\" class=\"wikitable sortable\">\n",
        "<tr>\n",
        "<th style=\"background-color: #ACE1AF\"></th>\n",
        "<th style=\"background-color: #ACE1AF\">Name</th>\n",
        "<th class=\"unsortable\" style=\"background-color: #ACE1AF\">Image</th>\n",
        "<th style=\"background-color: #ACE1AF\">Date</th>\n",
        "<th style=\"background-color: #ACE1AF\">Location</th>\n",
        "<th style=\"background-color: #ACE1AF\">County</th>\n",
        "<th class=\"unsortable\" style=\"background-color: #ACE1AF\">Description</th>\n",
        "</tr>\n",
        "<tr>\n",
        "<td><small>1</small></td>\n",
        "<td><a class=\"new\" href=\"/w/index.php?title=Big_Hammock_Natural_Area&amp;action=edit&amp;redlink=1\" title=\"Big Hammock Natural Area (page does not exist)\">Big Hammock Natural Area</a></td>\n",
        "<td></td>\n",
        "<td><span class=\"sortkey\" style=\"display:none; speak:none\">01976-01-01-0000</span><span style=\"white-space:nowrap;\">1976</span></td>\n",
        "<td></td>\n",
        "<td><a href=\"/wiki/Tattnall_County,_Georgia\" title=\"Tattnall County, Georgia\">Tattnall</a></td>\n",
        "<td>Relatively undisturbed broadleaf evergreen hammock forest.</td>\n",
        "</tr>\n",
        "<tr>\n",
        "<td><small>2</small></td>\n",
        "<td><a class=\"new\" href=\"/w/index.php?title=Camp_E.F._Boyd_Natural_Area&amp;action=edit&amp;redlink=1\" title=\"Camp E.F. Boyd Natural Area (page does not exist)\">Camp E.F. Boyd Natural Area</a></td>\n",
        "<td></td>\n",
        "<td><span class=\"sortkey\" style=\"display:none; speak:none\">01974-01-01-0000</span><span style=\"white-space:nowrap;\">1974</span></td>\n",
        "<td></td>\n",
        "<td><a href=\"/wiki/Emanuel_County,_Georgia\" title=\"Emanuel County, Georgia\">Emanuel</a></td>\n",
        "<td>One of the best representatives of the upland sand ridge ecosystem of the Coastal Plain</td>\n",
        "</tr>\n",
        "<tr>\n",
        "<td><small>3</small></td>\n",
        "<td><a class=\"new\" href=\"/w/index.php?title=Cason_J._Calloway_Memorial_Forest&amp;action=edit&amp;redlink=1\" title=\"Cason J. Calloway Memorial Forest (page does not exist)\">Cason J. Calloway Memorial Forest</a></td>\n",
        "<td></td>\n",
        "<td><span class=\"sortkey\" style=\"display:none; speak:none\">01972-01-01-0000</span><span style=\"white-space:nowrap;\">1972</span></td>\n",
        "<td></td>\n",
        "<td><a href=\"/wiki/Harris_County,_Georgia\" title=\"Harris County, Georgia\">Harris</a></td>\n",
        "<td>An outstanding example of transitional conditions between eastern deciduous and southern coniferous forest types.</td>\n",
        "</tr>\n",
        "<tr>\n",
        "<td><small>4</small></td>\n",
        "<td><a class=\"new\" href=\"/w/index.php?title=Ebenezer_Creek_Swamp&amp;action=edit&amp;redlink=1\" title=\"Ebenezer Creek Swamp (page does not exist)\">Ebenezer Creek Swamp</a></td>\n",
        "<td></td>\n",
        "<td><span class=\"sortkey\" style=\"display:none; speak:none\">01976-01-01-0000</span><span style=\"white-space:nowrap;\">1976</span></td>\n",
        "<td></td>\n",
        "<td><a href=\"/wiki/Effingham_County,_Georgia\" title=\"Effingham County, Georgia\">Effingham</a></td>\n",
        "<td>The best remaining cypress-gum swamp forest in the Savannah River basin.</td>\n",
        "</tr>\n",
        "<tr>\n",
        "<td><small>5</small></td>\n",
        "<td><a class=\"new\" href=\"/w/index.php?title=Heggie%27s_Rock&amp;action=edit&amp;redlink=1\" title=\"Heggie's Rock (page does not exist)\">Heggie's Rock</a></td>\n",
        "<td></td>\n",
        "<td><span class=\"sortkey\" style=\"display:none; speak:none\">01980-01-01-0000</span><span style=\"white-space:nowrap;\">1980</span></td>\n",
        "<td></td>\n",
        "<td><a href=\"/wiki/Columbia_County,_Georgia\" title=\"Columbia County, Georgia\">Columbia</a></td>\n",
        "<td>The best example in eastern North America of the remarkable endemic flora restricted to granite outcrops.</td>\n",
        "</tr>\n",
        "<tr>\n",
        "<td><small>6</small></td>\n",
        "<td><a class=\"new\" href=\"/w/index.php?title=Lewis_Island_Tract&amp;action=edit&amp;redlink=1\" title=\"Lewis Island Tract (page does not exist)\">Lewis Island Tract</a></td>\n",
        "<td></td>\n",
        "<td><span class=\"sortkey\" style=\"display:none; speak:none\">01974-01-01-0000</span><span style=\"white-space:nowrap;\">1974</span></td>\n",
        "<td></td>\n",
        "<td><a href=\"/wiki/McIntosh_County,_Georgia\" title=\"McIntosh County, Georgia\">McIntosh</a></td>\n",
        "<td>One of the most extensive bottomland hardwood swamps in Georgia.</td>\n",
        "</tr>\n",
        "<tr>\n",
        "<td><small>7</small></td>\n",
        "<td><a href=\"/wiki/Marshall_Forest\" title=\"Marshall Forest\">Marshall Forest</a></td>\n",
        "<td><a class=\"image\" href=\"/wiki/File:Marshall_forest1.jpg\"><img alt=\"Marshall forest1.jpg\" data-file-height=\"300\" data-file-width=\"400\" height=\"150\" src=\"//upload.wikimedia.org/wikipedia/commons/thumb/3/39/Marshall_forest1.jpg/200px-Marshall_forest1.jpg\" srcset=\"//upload.wikimedia.org/wikipedia/commons/thumb/3/39/Marshall_forest1.jpg/300px-Marshall_forest1.jpg 1.5x, //upload.wikimedia.org/wikipedia/commons/3/39/Marshall_forest1.jpg 2x\" width=\"200\"/></a></td>\n",
        "<td><span class=\"sortkey\" style=\"display:none; speak:none\">01966-01-01-0000</span><span style=\"white-space:nowrap;\">1966</span></td>\n",
        "<td><a href=\"/wiki/Rome,_Georgia\" title=\"Rome, Georgia\">Rome</a><small><span class=\"plainlinks nourlexpansion\"><a class=\"external text\" href=\"//tools.wmflabs.org/geohack/geohack.php?pagename=List_of_National_Natural_Landmarks_in_Georgia&amp;params=34.250898_N_-85.195375_E_type:landmark&amp;title=Marshall+Forest\"><span class=\"geo-nondefault\"><span class=\"geo-dms\" title=\"Maps, aerial photos, and other data for this location\"><span class=\"latitude\">34\u00b015\u203203\u2033N</span> <span class=\"longitude\">85\u00b011\u203243\u2033W</span></span></span><span class=\"geo-multi-punct\">\ufeff / \ufeff</span><span class=\"geo-default\"><span class=\"vcard\"><span class=\"geo-dec\" title=\"Maps, aerial photos, and other data for this location\">34.250898\u00b0N 85.195375\u00b0W</span><span style=\"display:none\">\ufeff / <span class=\"geo\">34.250898; -85.195375</span></span><span style=\"display:none\">\ufeff (<span class=\"fn org\">Marshall Forest</span>)</span></span></span></a></span></small></td>\n",
        "<td><a href=\"/wiki/Floyd_County,_Georgia\" title=\"Floyd County, Georgia\">Floyd</a></td>\n",
        "<td>A loblolly pine-shortleaf pine forest believed to have originated following an intense fire at about the time the Cherokee Indians were forcibly removed to Oklahoma.</td>\n",
        "</tr>\n",
        "<tr>\n",
        "<td><small>8</small></td>\n",
        "<td><a href=\"/wiki/Okefenokee_Swamp\" title=\"Okefenokee Swamp\">Okefenokee Swamp</a></td>\n",
        "<td><a class=\"image\" href=\"/wiki/File:OkefenokeeCanalDiggersTrail.wmg.jpg\"><img alt=\"OkefenokeeCanalDiggersTrail.wmg.jpg\" data-file-height=\"600\" data-file-width=\"800\" height=\"150\" src=\"//upload.wikimedia.org/wikipedia/commons/thumb/4/40/OkefenokeeCanalDiggersTrail.wmg.jpg/200px-OkefenokeeCanalDiggersTrail.wmg.jpg\" srcset=\"//upload.wikimedia.org/wikipedia/commons/thumb/4/40/OkefenokeeCanalDiggersTrail.wmg.jpg/300px-OkefenokeeCanalDiggersTrail.wmg.jpg 1.5x, //upload.wikimedia.org/wikipedia/commons/thumb/4/40/OkefenokeeCanalDiggersTrail.wmg.jpg/400px-OkefenokeeCanalDiggersTrail.wmg.jpg 2x\" width=\"200\"/></a></td>\n",
        "<td><span class=\"sortkey\" style=\"display:none; speak:none\">01974-01-01-0000</span><span style=\"white-space:nowrap;\">1974</span></td>\n",
        "<td></td>\n",
        "<td><a href=\"/wiki/Charlton_County,_Georgia\" title=\"Charlton County, Georgia\">Charlton</a>, <a href=\"/wiki/Clinch_County,_Georgia\" title=\"Clinch County, Georgia\">Clinch</a>, <a href=\"/wiki/Ware_County,_Georgia\" title=\"Ware County, Georgia\">Ware</a></td>\n",
        "<td>One of the largest and most primitive swamps in the country.</td>\n",
        "</tr>\n",
        "<tr>\n",
        "<td><small>9</small></td>\n",
        "<td><a href=\"/wiki/Panola_Mountain\" title=\"Panola Mountain\">Panola Mountain</a></td>\n",
        "<td><a class=\"image\" href=\"/wiki/File:Panola.JPG\"><img alt=\"Panola.JPG\" data-file-height=\"2320\" data-file-width=\"3088\" height=\"150\" src=\"//upload.wikimedia.org/wikipedia/commons/thumb/3/30/Panola.JPG/200px-Panola.JPG\" srcset=\"//upload.wikimedia.org/wikipedia/commons/thumb/3/30/Panola.JPG/300px-Panola.JPG 1.5x, //upload.wikimedia.org/wikipedia/commons/thumb/3/30/Panola.JPG/400px-Panola.JPG 2x\" width=\"200\"/></a></td>\n",
        "<td><span class=\"sortkey\" style=\"display:none; speak:none\">01980-01-01-0000</span><span style=\"white-space:nowrap;\">1980</span></td>\n",
        "<td></td>\n",
        "<td><a href=\"/wiki/Rockdale_County,_Georgia\" title=\"Rockdale County, Georgia\">Rockdale</a></td>\n",
        "<td>The most natural and undisturbed monadnock of exposed granitic rock in the Piedmont biophysiograpic province.</td>\n",
        "</tr>\n",
        "<tr>\n",
        "<td><small>10</small></td>\n",
        "<td><a href=\"/wiki/Wassaw_Island\" title=\"Wassaw Island\">Wassaw Island</a></td>\n",
        "<td></td>\n",
        "<td><span class=\"sortkey\" style=\"display:none; speak:none\">01967-01-01-0000</span><span style=\"white-space:nowrap;\">1967</span></td>\n",
        "<td></td>\n",
        "<td><a href=\"/wiki/Chatham_County,_Georgia\" title=\"Chatham County, Georgia\">Chatham</a></td>\n",
        "<td>Only island of the Golden Isles with an undisturbed forest cover.</td>\n",
        "</tr>\n",
        "</table>\n",
        "<table cellspacing=\"0\" class=\"navbox\" style=\"border-spacing:0;\">\n",
        "<tr>\n",
        "<td style=\"padding:2px;\">\n",
        "<table cellspacing=\"0\" class=\"nowraplinks collapsible autocollapse navbox-inner\" style=\"border-spacing:0;background:transparent;color:inherit;\">\n",
        "<tr>\n",
        "<th class=\"navbox-title\" colspan=\"2\" scope=\"col\">\n",
        "<div class=\"plainlinks hlist navbar mini\">\n",
        "<ul>\n",
        "<li class=\"nv-view\"><a href=\"/wiki/Template:NatNaturalLand\" title=\"Template:NatNaturalLand\"><span style=\";;background:none transparent;border:none;;\" title=\"View this template\">v</span></a></li>\n",
        "<li class=\"nv-talk\"><a class=\"new\" href=\"/w/index.php?title=Template_talk:NatNaturalLand&amp;action=edit&amp;redlink=1\" title=\"Template talk:NatNaturalLand (page does not exist)\"><span style=\";;background:none transparent;border:none;;\" title=\"Discuss this template\">t</span></a></li>\n",
        "<li class=\"nv-edit\"><a class=\"external text\" href=\"//en.wikipedia.org/w/index.php?title=Template:NatNaturalLand&amp;action=edit\"><span style=\";;background:none transparent;border:none;;\" title=\"Edit this template\">e</span></a></li>\n",
        "</ul>\n",
        "</div>\n",
        "<div style=\"font-size:110%;\"><a href=\"/wiki/National_Natural_Landmark\" title=\"National Natural Landmark\">National Natural Landmarks</a> in the <a href=\"/wiki/United_States\" title=\"United States\">United States</a></div>\n",
        "</th>\n",
        "</tr>\n",
        "<tr style=\"height:2px;\">\n",
        "<td colspan=\"2\"></td>\n",
        "</tr>\n",
        "<tr>\n",
        "<td class=\"navbox-list navbox-odd hlist\" colspan=\"2\" style=\"width:100%;padding:0px;\">\n",
        "<div style=\"padding:0em 0.25em;\">\n",
        "<ul>\n",
        "<li><a href=\"/wiki/List_of_National_Natural_Landmarks_in_Alabama\" title=\"List of National Natural Landmarks in Alabama\">Alabama</a></li>\n",
        "<li><a href=\"/wiki/List_of_National_Natural_Landmarks_in_Alaska\" title=\"List of National Natural Landmarks in Alaska\">Alaska</a></li>\n",
        "<li><a href=\"/wiki/List_of_National_Natural_Landmarks_in_Arizona\" title=\"List of National Natural Landmarks in Arizona\">Arizona</a></li>\n",
        "<li><a href=\"/wiki/List_of_National_Natural_Landmarks_in_Arkansas\" title=\"List of National Natural Landmarks in Arkansas\">Arkansas</a></li>\n",
        "<li><a href=\"/wiki/List_of_National_Natural_Landmarks_in_California\" title=\"List of National Natural Landmarks in California\">California</a></li>\n",
        "<li><a href=\"/wiki/List_of_National_Natural_Landmarks_in_Colorado\" title=\"List of National Natural Landmarks in Colorado\">Colorado</a></li>\n",
        "<li><a href=\"/wiki/List_of_National_Natural_Landmarks_in_Connecticut\" title=\"List of National Natural Landmarks in Connecticut\">Connecticut</a></li>\n",
        "<li><a class=\"mw-redirect\" href=\"/wiki/List_of_National_Natural_Landmarks_in_Delaware\" title=\"List of National Natural Landmarks in Delaware\">Delaware</a></li>\n",
        "<li><a href=\"/wiki/List_of_National_Natural_Landmarks_in_Florida\" title=\"List of National Natural Landmarks in Florida\">Florida</a></li>\n",
        "<li><strong class=\"selflink\">Georgia</strong></li>\n",
        "<li><a href=\"/wiki/List_of_National_Natural_Landmarks_in_Hawaii\" title=\"List of National Natural Landmarks in Hawaii\">Hawaii</a></li>\n",
        "<li><a href=\"/wiki/List_of_National_Natural_Landmarks_in_Idaho\" title=\"List of National Natural Landmarks in Idaho\">Idaho</a></li>\n",
        "<li><a href=\"/wiki/List_of_National_Natural_Landmarks_in_Illinois\" title=\"List of National Natural Landmarks in Illinois\">Illinois</a></li>\n",
        "<li><a href=\"/wiki/List_of_National_Natural_Landmarks_in_Indiana\" title=\"List of National Natural Landmarks in Indiana\">Indiana</a></li>\n",
        "<li><a href=\"/wiki/List_of_National_Natural_Landmarks_in_Iowa\" title=\"List of National Natural Landmarks in Iowa\">Iowa</a></li>\n",
        "<li><a href=\"/wiki/List_of_National_Natural_Landmarks_in_Kansas\" title=\"List of National Natural Landmarks in Kansas\">Kansas</a></li>\n",
        "<li><a href=\"/wiki/List_of_National_Natural_Landmarks_in_Kentucky\" title=\"List of National Natural Landmarks in Kentucky\">Kentucky</a></li>\n",
        "<li><a class=\"mw-redirect\" href=\"/wiki/List_of_National_Natural_Landmarks_in_Louisiana\" title=\"List of National Natural Landmarks in Louisiana\">Louisiana</a></li>\n",
        "<li><a href=\"/wiki/List_of_National_Natural_Landmarks_in_Maine\" title=\"List of National Natural Landmarks in Maine\">Maine</a></li>\n",
        "<li><a href=\"/wiki/List_of_National_Natural_Landmarks_in_Maryland\" title=\"List of National Natural Landmarks in Maryland\">Maryland</a></li>\n",
        "<li><a href=\"/wiki/List_of_National_Natural_Landmarks_in_Massachusetts\" title=\"List of National Natural Landmarks in Massachusetts\">Massachusetts</a></li>\n",
        "<li><a href=\"/wiki/List_of_National_Natural_Landmarks_in_Michigan\" title=\"List of National Natural Landmarks in Michigan\">Michigan</a></li>\n",
        "<li><a href=\"/wiki/List_of_National_Natural_Landmarks_in_Minnesota\" title=\"List of National Natural Landmarks in Minnesota\">Minnesota</a></li>\n",
        "<li><a href=\"/wiki/List_of_National_Natural_Landmarks_in_Mississippi\" title=\"List of National Natural Landmarks in Mississippi\">Mississippi</a></li>\n",
        "<li><a href=\"/wiki/List_of_National_Natural_Landmarks_in_Missouri\" title=\"List of National Natural Landmarks in Missouri\">Missouri</a></li>\n",
        "<li><a href=\"/wiki/List_of_National_Natural_Landmarks_in_Montana\" title=\"List of National Natural Landmarks in Montana\">Montana</a></li>\n",
        "<li><a href=\"/wiki/List_of_National_Natural_Landmarks_in_Nebraska\" title=\"List of National Natural Landmarks in Nebraska\">Nebraska</a></li>\n",
        "<li><a href=\"/wiki/List_of_National_Natural_Landmarks_in_Nevada\" title=\"List of National Natural Landmarks in Nevada\">Nevada</a></li>\n",
        "<li><a href=\"/wiki/List_of_National_Natural_Landmarks_in_New_Hampshire\" title=\"List of National Natural Landmarks in New Hampshire\">New Hampshire</a></li>\n",
        "<li><a href=\"/wiki/List_of_National_Natural_Landmarks_in_New_Jersey\" title=\"List of National Natural Landmarks in New Jersey\">New Jersey</a></li>\n",
        "<li><a href=\"/wiki/List_of_National_Natural_Landmarks_in_New_Mexico\" title=\"List of National Natural Landmarks in New Mexico\">New Mexico</a></li>\n",
        "<li><a href=\"/wiki/List_of_National_Natural_Landmarks_in_New_York\" title=\"List of National Natural Landmarks in New York\">New York</a></li>\n",
        "<li><a href=\"/wiki/List_of_National_Natural_Landmarks_in_North_Carolina\" title=\"List of National Natural Landmarks in North Carolina\">North Carolina</a></li>\n",
        "<li><a href=\"/wiki/List_of_National_Natural_Landmarks_in_North_Dakota\" title=\"List of National Natural Landmarks in North Dakota\">North Dakota</a></li>\n",
        "<li><a href=\"/wiki/List_of_National_Natural_Landmarks_in_Ohio\" title=\"List of National Natural Landmarks in Ohio\">Ohio</a></li>\n",
        "<li><a href=\"/wiki/List_of_National_Natural_Landmarks_in_Oklahoma\" title=\"List of National Natural Landmarks in Oklahoma\">Oklahoma</a></li>\n",
        "<li><a href=\"/wiki/List_of_National_Natural_Landmarks_in_Oregon\" title=\"List of National Natural Landmarks in Oregon\">Oregon</a></li>\n",
        "<li><a href=\"/wiki/List_of_National_Natural_Landmarks_in_Pennsylvania\" title=\"List of National Natural Landmarks in Pennsylvania\">Pennsylvania</a></li>\n",
        "<li><a href=\"/wiki/List_of_National_Natural_Landmarks_in_Rhode_Island\" title=\"List of National Natural Landmarks in Rhode Island\">Rhode Island</a></li>\n",
        "<li><a href=\"/wiki/List_of_National_Natural_Landmarks_in_South_Carolina\" title=\"List of National Natural Landmarks in South Carolina\">South Carolina</a></li>\n",
        "<li><a href=\"/wiki/List_of_National_Natural_Landmarks_in_South_Dakota\" title=\"List of National Natural Landmarks in South Dakota\">South Dakota</a></li>\n",
        "<li><a href=\"/wiki/List_of_National_Natural_Landmarks_in_Tennessee\" title=\"List of National Natural Landmarks in Tennessee\">Tennessee</a></li>\n",
        "<li><a href=\"/wiki/List_of_National_Natural_Landmarks_in_Texas\" title=\"List of National Natural Landmarks in Texas\">Texas</a></li>\n",
        "<li><a href=\"/wiki/List_of_National_Natural_Landmarks_in_Utah\" title=\"List of National Natural Landmarks in Utah\">Utah</a></li>\n",
        "<li><a href=\"/wiki/List_of_National_Natural_Landmarks_in_Vermont\" title=\"List of National Natural Landmarks in Vermont\">Vermont</a></li>\n",
        "<li><a href=\"/wiki/List_of_National_Natural_Landmarks_in_Virginia\" title=\"List of National Natural Landmarks in Virginia\">Virginia</a></li>\n",
        "<li><a href=\"/wiki/List_of_National_Natural_Landmarks_in_Washington\" title=\"List of National Natural Landmarks in Washington\">Washington</a></li>\n",
        "<li><a href=\"/wiki/List_of_National_Natural_Landmarks_in_West_Virginia\" title=\"List of National Natural Landmarks in West Virginia\">West Virginia</a></li>\n",
        "<li><a href=\"/wiki/List_of_National_Natural_Landmarks_in_Wisconsin\" title=\"List of National Natural Landmarks in Wisconsin\">Wisconsin</a></li>\n",
        "<li><a href=\"/wiki/List_of_National_Natural_Landmarks_in_Wyoming\" title=\"List of National Natural Landmarks in Wyoming\">Wyoming</a></li>\n",
        "</ul>\n",
        "</div>\n",
        "</td>\n",
        "</tr>\n",
        "<tr style=\"height:2px;\">\n",
        "<td colspan=\"2\"></td>\n",
        "</tr>\n",
        "<tr>\n",
        "<td class=\"navbox-list navbox-even hlist\" colspan=\"2\" style=\"width:100%;padding:0px;\">\n",
        "<div style=\"padding:0em 0.25em;\">\n",
        "<ul>\n",
        "<li><a href=\"/wiki/List_of_National_Natural_Landmarks_in_American_Samoa\" title=\"List of National Natural Landmarks in American Samoa\">American Samoa</a></li>\n",
        "<li><a href=\"/wiki/List_of_National_Natural_Landmarks_in_Guam\" title=\"List of National Natural Landmarks in Guam\">Guam</a></li>\n",
        "<li><a href=\"/wiki/List_of_National_Natural_Landmarks_in_Puerto_Rico\" title=\"List of National Natural Landmarks in Puerto Rico\">Puerto Rico</a></li>\n",
        "<li><a href=\"/wiki/List_of_National_Natural_Landmarks_in_Virgin_Islands\" title=\"List of National Natural Landmarks in Virgin Islands\">Virgin Islands</a></li>\n",
        "</ul>\n",
        "</div>\n",
        "</td>\n",
        "</tr>\n",
        "</table>\n",
        "</td>\n",
        "</tr>\n",
        "</table>\n",
        "<!-- \n",
        "NewPP limit report\n",
        "Parsed by mw1150\n",
        "CPU time usage: 0.504 seconds\n",
        "Real time usage: 0.560 seconds\n",
        "Preprocessor visited node count: 1421/1000000\n",
        "Preprocessor generated node count: 5165/1500000\n",
        "Post\u2010expand include size: 24978/2048000 bytes\n",
        "Template argument size: 498/2048000 bytes\n",
        "Highest expansion depth: 9/40\n",
        "Expensive parser function count: 2/500\n",
        "Lua time usage: 0.021/10.000 seconds\n",
        "Lua memory usage: 748 KB/50 MB\n",
        "-->\n",
        "<!-- Saved in parser cache with key enwiki:pcache:idhash:20675749-0!*!0!*!*!4!* and timestamp 20141018172250 and revision id 546870493\n",
        " -->\n",
        "<noscript><img alt=\"\" height=\"1\" src=\"//en.wikipedia.org/wiki/Special:CentralAutoLogin/start?type=1x1\" style=\"border: none; position: absolute;\" title=\"\" width=\"1\"/></noscript></div> <div class=\"printfooter\">\n",
        "\t\t\t\t\t\tRetrieved from \"<a dir=\"ltr\" href=\"http://en.wikipedia.org/w/index.php?title=List_of_National_Natural_Landmarks_in_Georgia&amp;oldid=546870493\">http://en.wikipedia.org/w/index.php?title=List_of_National_Natural_Landmarks_in_Georgia&amp;oldid=546870493</a>\"\t\t\t\t\t</div>\n",
        "<div class=\"catlinks\" id=\"catlinks\"><div class=\"mw-normal-catlinks\" id=\"mw-normal-catlinks\"><a href=\"/wiki/Help:Category\" title=\"Help:Category\">Categories</a>: <ul><li><a href=\"/wiki/Category:National_Natural_Landmarks_in_Georgia_(U.S._state)\" title=\"Category:National Natural Landmarks in Georgia (U.S. state)\">National Natural Landmarks in Georgia (U.S. state)</a></li><li><a href=\"/wiki/Category:Georgia_(U.S._state)-related_lists\" title=\"Category:Georgia (U.S. state)-related lists\">Georgia (U.S. state)-related lists</a></li><li><a href=\"/wiki/Category:Lists_of_National_Natural_Landmarks\" title=\"Category:Lists of National Natural Landmarks\">Lists of National Natural Landmarks</a></li></ul></div><div class=\"mw-hidden-catlinks mw-hidden-cats-hidden\" id=\"mw-hidden-catlinks\">Hidden categories: <ul><li><a href=\"/wiki/Category:Lists_of_coordinates\" title=\"Category:Lists of coordinates\">Lists of coordinates</a></li><li><a href=\"/wiki/Category:Geographic_coordinate_lists\" title=\"Category:Geographic coordinate lists\">Geographic coordinate lists</a></li><li><a href=\"/wiki/Category:Articles_with_Geo\" title=\"Category:Articles with Geo\">Articles with Geo</a></li></ul></div></div> <div class=\"visualClear\"></div>\n",
        "</div>\n",
        "</div>\n",
        "<div id=\"mw-navigation\">\n",
        "<h2>Navigation menu</h2>\n",
        "<div id=\"mw-head\">\n",
        "<div aria-labelledby=\"p-personal-label\" class=\"\" id=\"p-personal\" role=\"navigation\">\n",
        "<h3 id=\"p-personal-label\">Personal tools</h3>\n",
        "<ul>\n",
        "<li id=\"pt-createaccount\"><a href=\"/w/index.php?title=Special:UserLogin&amp;returnto=List+of+National+Natural+Landmarks+in+Georgia&amp;type=signup\" title=\"You are encouraged to create an account and log in; however, it is not mandatory\">Create account</a></li><li id=\"pt-login\"><a accesskey=\"o\" href=\"/w/index.php?title=Special:UserLogin&amp;returnto=List+of+National+Natural+Landmarks+in+Georgia\" title=\"You're encouraged to log in; however, it's not mandatory. [o]\">Log in</a></li> </ul>\n",
        "</div>\n",
        "<div id=\"left-navigation\">\n",
        "<div aria-labelledby=\"p-namespaces-label\" class=\"vectorTabs\" id=\"p-namespaces\" role=\"navigation\">\n",
        "<h3 id=\"p-namespaces-label\">Namespaces</h3>\n",
        "<ul>\n",
        "<li class=\"selected\" id=\"ca-nstab-main\"><span><a accesskey=\"c\" href=\"/wiki/List_of_National_Natural_Landmarks_in_Georgia\" title=\"View the content page [c]\">Article</a></span></li>\n",
        "<li id=\"ca-talk\"><span><a accesskey=\"t\" href=\"/wiki/Talk:List_of_National_Natural_Landmarks_in_Georgia\" title=\"Discussion about the content page [t]\">Talk</a></span></li>\n",
        "</ul>\n",
        "</div>\n",
        "<div aria-labelledby=\"p-variants-label\" class=\"vectorMenu emptyPortlet\" id=\"p-variants\" role=\"navigation\">\n",
        "<h3 id=\"p-variants-label\"><span>Variants</span><a href=\"#\"></a></h3>\n",
        "<div class=\"menu\">\n",
        "<ul>\n",
        "</ul>\n",
        "</div>\n",
        "</div>\n",
        "</div>\n",
        "<div id=\"right-navigation\">\n",
        "<div aria-labelledby=\"p-views-label\" class=\"vectorTabs\" id=\"p-views\" role=\"navigation\">\n",
        "<h3 id=\"p-views-label\">Views</h3>\n",
        "<ul>\n",
        "<li class=\"selected\" id=\"ca-view\"><span><a href=\"/wiki/List_of_National_Natural_Landmarks_in_Georgia\">Read</a></span></li>\n",
        "<li id=\"ca-edit\"><span><a accesskey=\"e\" href=\"/w/index.php?title=List_of_National_Natural_Landmarks_in_Georgia&amp;action=edit\" title=\"You can edit this page. Please use the preview button before saving [e]\">Edit</a></span></li>\n",
        "<li class=\"collapsible\" id=\"ca-history\"><span><a accesskey=\"h\" href=\"/w/index.php?title=List_of_National_Natural_Landmarks_in_Georgia&amp;action=history\" title=\"Past versions of this page [h]\">View history</a></span></li>\n",
        "</ul>\n",
        "</div>\n",
        "<div aria-labelledby=\"p-cactions-label\" class=\"vectorMenu emptyPortlet\" id=\"p-cactions\" role=\"navigation\">\n",
        "<h3 id=\"p-cactions-label\"><span>More</span><a href=\"#\"></a></h3>\n",
        "<div class=\"menu\">\n",
        "<ul>\n",
        "</ul>\n",
        "</div>\n",
        "</div>\n",
        "<div id=\"p-search\" role=\"search\">\n",
        "<h3>\n",
        "<label for=\"searchInput\">Search</label>\n",
        "</h3>\n",
        "<form action=\"/w/index.php\" id=\"searchform\">\n",
        "<div id=\"simpleSearch\">\n",
        "<input accesskey=\"f\" id=\"searchInput\" name=\"search\" placeholder=\"Search\" title=\"Search Wikipedia [f]\" type=\"search\"/><input name=\"title\" type=\"hidden\" value=\"Special:Search\"/><input class=\"searchButton mw-fallbackSearchButton\" id=\"mw-searchButton\" name=\"fulltext\" title=\"Search Wikipedia for this text\" type=\"submit\" value=\"Search\"/><input class=\"searchButton\" id=\"searchButton\" name=\"go\" title=\"Go to a page with this exact name if one exists\" type=\"submit\" value=\"Go\"/> </div>\n",
        "</form>\n",
        "</div>\n",
        "</div>\n",
        "</div>\n",
        "<div id=\"mw-panel\">\n",
        "<div id=\"p-logo\" role=\"banner\"><a class=\"mw-wiki-logo\" href=\"/wiki/Main_Page\" title=\"Visit the main page\"></a></div>\n",
        "<div aria-labelledby=\"p-navigation-label\" class=\"portal\" id=\"p-navigation\" role=\"navigation\">\n",
        "<h3 id=\"p-navigation-label\">Navigation</h3>\n",
        "<div class=\"body\">\n",
        "<ul>\n",
        "<li id=\"n-mainpage-description\"><a accesskey=\"z\" href=\"/wiki/Main_Page\" title=\"Visit the main page [z]\">Main page</a></li>\n",
        "<li id=\"n-contents\"><a href=\"/wiki/Portal:Contents\" title=\"Guides to browsing Wikipedia\">Contents</a></li>\n",
        "<li id=\"n-featuredcontent\"><a href=\"/wiki/Portal:Featured_content\" title=\"Featured content \u2013 the best of Wikipedia\">Featured content</a></li>\n",
        "<li id=\"n-currentevents\"><a href=\"/wiki/Portal:Current_events\" title=\"Find background information on current events\">Current events</a></li>\n",
        "<li id=\"n-randompage\"><a accesskey=\"x\" href=\"/wiki/Special:Random\" title=\"Load a random article [x]\">Random article</a></li>\n",
        "<li id=\"n-sitesupport\"><a href=\"https://donate.wikimedia.org/wiki/Special:FundraiserRedirector?utm_source=donate&amp;utm_medium=sidebar&amp;utm_campaign=C13_en.wikipedia.org&amp;uselang=en\" title=\"Support us\">Donate to Wikipedia</a></li>\n",
        "<li id=\"n-shoplink\"><a href=\"//shop.wikimedia.org\" title=\"Visit the Wikimedia Shop\">Wikimedia Shop</a></li>\n",
        "</ul>\n",
        "</div>\n",
        "</div>\n",
        "<div aria-labelledby=\"p-interaction-label\" class=\"portal\" id=\"p-interaction\" role=\"navigation\">\n",
        "<h3 id=\"p-interaction-label\">Interaction</h3>\n",
        "<div class=\"body\">\n",
        "<ul>\n",
        "<li id=\"n-help\"><a href=\"/wiki/Help:Contents\" title=\"Guidance on how to use and edit Wikipedia\">Help</a></li>\n",
        "<li id=\"n-aboutsite\"><a href=\"/wiki/Wikipedia:About\" title=\"Find out about Wikipedia\">About Wikipedia</a></li>\n",
        "<li id=\"n-portal\"><a href=\"/wiki/Wikipedia:Community_portal\" title=\"About the project, what you can do, where to find things\">Community portal</a></li>\n",
        "<li id=\"n-recentchanges\"><a accesskey=\"r\" href=\"/wiki/Special:RecentChanges\" title=\"A list of recent changes in the wiki [r]\">Recent changes</a></li>\n",
        "<li id=\"n-contactpage\"><a href=\"//en.wikipedia.org/wiki/Wikipedia:Contact_us\">Contact page</a></li>\n",
        "</ul>\n",
        "</div>\n",
        "</div>\n",
        "<div aria-labelledby=\"p-tb-label\" class=\"portal\" id=\"p-tb\" role=\"navigation\">\n",
        "<h3 id=\"p-tb-label\">Tools</h3>\n",
        "<div class=\"body\">\n",
        "<ul>\n",
        "<li id=\"t-whatlinkshere\"><a accesskey=\"j\" href=\"/wiki/Special:WhatLinksHere/List_of_National_Natural_Landmarks_in_Georgia\" title=\"List of all English Wikipedia pages containing links to this page [j]\">What links here</a></li>\n",
        "<li id=\"t-recentchangeslinked\"><a accesskey=\"k\" href=\"/wiki/Special:RecentChangesLinked/List_of_National_Natural_Landmarks_in_Georgia\" title=\"Recent changes in pages linked from this page [k]\">Related changes</a></li>\n",
        "<li id=\"t-upload\"><a accesskey=\"u\" href=\"/wiki/Wikipedia:File_Upload_Wizard\" title=\"Upload files [u]\">Upload file</a></li>\n",
        "<li id=\"t-specialpages\"><a accesskey=\"q\" href=\"/wiki/Special:SpecialPages\" title=\"A list of all special pages [q]\">Special pages</a></li>\n",
        "<li id=\"t-permalink\"><a href=\"/w/index.php?title=List_of_National_Natural_Landmarks_in_Georgia&amp;oldid=546870493\" title=\"Permanent link to this revision of the page\">Permanent link</a></li>\n",
        "<li id=\"t-info\"><a href=\"/w/index.php?title=List_of_National_Natural_Landmarks_in_Georgia&amp;action=info\" title=\"More information about this page\">Page information</a></li>\n",
        "<li id=\"t-wikibase\"><a accesskey=\"g\" href=\"//www.wikidata.org/wiki/Q6591509\" title=\"Link to connected data repository item [g]\">Wikidata item</a></li>\n",
        "<li id=\"t-cite\"><a href=\"/w/index.php?title=Special:CiteThisPage&amp;page=List_of_National_Natural_Landmarks_in_Georgia&amp;id=546870493\" title=\"Information on how to cite this page\">Cite this page</a></li> </ul>\n",
        "</div>\n",
        "</div>\n",
        "<div aria-labelledby=\"p-coll-print_export-label\" class=\"portal\" id=\"p-coll-print_export\" role=\"navigation\">\n",
        "<h3 id=\"p-coll-print_export-label\">Print/export</h3>\n",
        "<div class=\"body\">\n",
        "<ul>\n",
        "<li id=\"coll-create_a_book\"><a href=\"/w/index.php?title=Special:Book&amp;bookcmd=book_creator&amp;referer=List+of+National+Natural+Landmarks+in+Georgia\">Create a book</a></li>\n",
        "<li id=\"coll-download-as-rdf2latex\"><a href=\"/w/index.php?title=Special:Book&amp;bookcmd=render_article&amp;arttitle=List+of+National+Natural+Landmarks+in+Georgia&amp;oldid=546870493&amp;writer=rdf2latex\">Download as PDF</a></li>\n",
        "<li id=\"t-print\"><a accesskey=\"p\" href=\"/w/index.php?title=List_of_National_Natural_Landmarks_in_Georgia&amp;printable=yes\" title=\"Printable version of this page [p]\">Printable version</a></li>\n",
        "</ul>\n",
        "</div>\n",
        "</div>\n",
        "<div aria-labelledby=\"p-lang-label\" class=\"portal\" id=\"p-lang\" role=\"navigation\">\n",
        "<h3 id=\"p-lang-label\">Languages</h3>\n",
        "<div class=\"body\">\n",
        "<ul>\n",
        "<li class=\"uls-p-lang-dummy\"><a href=\"#\"></a></li>\n",
        "</ul>\n",
        "<div class=\"after-portlet after-portlet-lang\"><span class=\"wb-langlinks-edit wb-langlinks-link\"><a action=\"edit\" class=\"wbc-editpage\" href=\"//www.wikidata.org/wiki/Q6591509#sitelinks-wikipedia\" text=\"Edit links\" title=\"Edit interlanguage links\">Edit links</a></span></div> </div>\n",
        "</div>\n",
        "</div>\n",
        "</div>\n",
        "<div id=\"footer\" role=\"contentinfo\">\n",
        "<ul id=\"footer-info\">\n",
        "<li id=\"footer-info-lastmod\"> This page was last modified on 25 March 2013 at 07:40.<br/></li>\n",
        "<li id=\"footer-info-copyright\">Text is available under the <a href=\"//en.wikipedia.org/wiki/Wikipedia:Text_of_Creative_Commons_Attribution-ShareAlike_3.0_Unported_License\" rel=\"license\">Creative Commons Attribution-ShareAlike License</a><a href=\"//creativecommons.org/licenses/by-sa/3.0/\" rel=\"license\" style=\"display:none;\"></a>;\n",
        "additional terms may apply.  By using this site, you agree to the <a href=\"//wikimediafoundation.org/wiki/Terms_of_Use\">Terms of Use</a> and <a href=\"//wikimediafoundation.org/wiki/Privacy_policy\">Privacy Policy</a>. Wikipedia\u00ae is a registered trademark of the <a href=\"//www.wikimediafoundation.org/\">Wikimedia Foundation, Inc.</a>, a non-profit organization.</li>\n",
        "</ul>\n",
        "<ul id=\"footer-places\">\n",
        "<li id=\"footer-places-privacy\"><a href=\"//wikimediafoundation.org/wiki/Privacy_policy\" title=\"wikimedia:Privacy policy\">Privacy policy</a></li>\n",
        "<li id=\"footer-places-about\"><a href=\"/wiki/Wikipedia:About\" title=\"Wikipedia:About\">About Wikipedia</a></li>\n",
        "<li id=\"footer-places-disclaimer\"><a href=\"/wiki/Wikipedia:General_disclaimer\" title=\"Wikipedia:General disclaimer\">Disclaimers</a></li>\n",
        "<li id=\"footer-places-contact\"><a href=\"//en.wikipedia.org/wiki/Wikipedia:Contact_us\">Contact Wikipedia</a></li>\n",
        "<li id=\"footer-places-developers\"><a href=\"https://www.mediawiki.org/wiki/Special:MyLanguage/How_to_contribute\">Developers</a></li>\n",
        "<li id=\"footer-places-mobileview\"><a class=\"noprint stopMobileRedirectToggle\" href=\"//en.m.wikipedia.org/w/index.php?title=List_of_National_Natural_Landmarks_in_Georgia&amp;mobileaction=toggle_view_mobile\">Mobile view</a></li>\n",
        "</ul>\n",
        "<ul class=\"noprint\" id=\"footer-icons\">\n",
        "<li id=\"footer-copyrightico\">\n",
        "<a href=\"//wikimediafoundation.org/\"><img alt=\"Wikimedia Foundation\" height=\"31\" src=\"//bits.wikimedia.org/images/wikimedia-button.png\" srcset=\"//bits.wikimedia.org/images/wikimedia-button-1.5x.png 1.5x, //bits.wikimedia.org/images/wikimedia-button-2x.png 2x\" width=\"88\"/></a>\n",
        "</li>\n",
        "<li id=\"footer-poweredbyico\">\n",
        "<a href=\"//www.mediawiki.org/\"><img alt=\"Powered by MediaWiki\" height=\"31\" src=\"//bits.wikimedia.org/static-1.25wmf5/resources/assets/poweredby_mediawiki_88x31.png\" width=\"88\"/></a>\n",
        "</li>\n",
        "</ul>\n",
        "<div style=\"clear:both\"></div>\n",
        "</div>\n",
        "<script>/*<![CDATA[*/window.jQuery && jQuery.ready();/*]]>*/</script><script>if(window.mw){\n",
        "mw.loader.state({\"ext.globalCssJs.site\":\"ready\",\"ext.globalCssJs.user\":\"ready\",\"site\":\"loading\",\"user\":\"ready\",\"user.groups\":\"ready\"});\n",
        "}</script>\n",
        "<script>if(window.mw){\n",
        "mw.loader.load([\"mediawiki.action.view.postEdit\",\"mediawiki.user\",\"mediawiki.hidpi\",\"mediawiki.page.ready\",\"mediawiki.searchSuggest\",\"ext.gadget.teahouse\",\"ext.gadget.ReferenceTooltips\",\"ext.gadget.DRN-wizard\",\"ext.gadget.charinsert\",\"ext.gadget.refToolbar\",\"ext.gadget.featured-articles-links\",\"mmv.bootstrap.autostart\",\"ext.eventLogging.subscriber\",\"ext.navigationTiming\",\"schema.UniversalLanguageSelector\",\"ext.uls.eventlogger\",\"ext.uls.interlanguage\"],null,true);\n",
        "}</script>\n",
        "<script>if(window.mw){\n",
        "document.write(\"\\u003Cscript src=\\\"//bits.wikimedia.org/en.wikipedia.org/load.php?debug=false\\u0026amp;lang=en\\u0026amp;modules=site\\u0026amp;only=scripts\\u0026amp;skin=vector\\u0026amp;*\\\"\\u003E\\u003C/script\\u003E\");\n",
        "}</script>\n",
        "<script>if(window.mw){\n",
        "mw.config.set({\"wgBackendResponseTime\":275,\"wgHostname\":\"mw1099\"});\n",
        "}</script>\n",
        "</body>\n",
        "</html>"
       ]
      }
     ],
     "prompt_number": 273
    },
    {
     "cell_type": "code",
     "collapsed": false,
     "input": [
      "#req = requests.get('https://en.wikipedia.org/wiki/Visual_acuity')\n",
      "urls = []\n",
      "articles = []\n",
      "for i in range(5):\n",
      "    req = requests.get('https://en.wikipedia.org/wiki/Special:Random')\n",
      "    soup = BeautifulSoup(req.text)\n",
      "    paragraphs =  soup.findAll(\"div\", {\"id\" : \"mw-content-text\"})[0].findAll('p')\n",
      "    text = ' '.join([par.text for par in paragraphs] )\n",
      "    text = str(re.sub('[^\\w\\s\\[\\]+]', '', text))\n",
      "    text = str(re.sub(\"\\[.*\\]\", '', text))\n",
      "    articles.append(text)\n",
      "    urls.append(req.url)"
     ],
     "language": "python",
     "metadata": {},
     "outputs": [],
     "prompt_number": 353
    },
    {
     "cell_type": "code",
     "collapsed": false,
     "input": [
      "articles"
     ],
     "language": "python",
     "metadata": {},
     "outputs": [
      {
       "metadata": {},
       "output_type": "pyout",
       "prompt_number": 354,
       "text": [
        "['Carposina scierotoxa is a moth in the Carposinidae family It is found in Uganda ',\n",
        " 'The Guitares Drive duo was formed in Paris in 1974 by Vincent Le Masne and Bertrand Porquet cocomposers and interpreters of their own original music on two classical guitars Rapidly classified into the American repetitive category of that same period their music nonetheless stands out by virtue of its writing which avoids all systematisation in the repetition of musical phrases but on the contrary constantly unfolds in the form of works entirely written and of quite long duration In the newspaper le Monde Jacques Lonchampt spoke of the exhilarating character of this music in which two expressions the one rhythmical and obsessive the other melodic and symbolic merge and drift according to a principle of infinitesimal variations to take us eventually quite far from where we started out These variations testify to great rigour yet also to a keen sense of harmonic sequence that is both highly daring and acoustically dynamic Discovered by Daniel Caux journalist and radio presenter specializing in this kind of music they performed numerous concerts before recording the 1976 album Guitares Drive for Shandar a cult label par excellence set up in 1971 by gallery owner Chantal Darcy in collaboration with Daniel Caux as artistic director whose catalogue includes amongst others albums by American minimalists like Terry Riley Steve Reich La Monte Young Phil Glass as well as jazz musicians Albert Ayler Sun Ra and Cecil Taylor The album Guitares Drive is a studio album recorded live by two 22 yearold musicians The acoustic instrument at its purest yet imbued with great modernity A pointillist music made up of a surge of interwoven notes which seem to multiply although no rerecording was used in the words of JeanMarc Bailleux of Rock  Folk magazine Vincent Le Masne et Bertrand Porquet do not as some tend to do place complexity in the foreground in the guise of quality as an alibi as a mere cover for vacuity Their approach is the very opposite to present us with simplicity in which complexity lies hidden Daniel Caux The album Guitares Drive has been reissued by Fractal Records in May 2010 now available for the first time on CD in a Digipack edition',\n",
        " 'Macrocnemum jamaicense is a species of plant in the Rubiaceae family It is endemic to Jamaica ',\n",
        " 'The first USS Leyden was a screw steamer that operated as a tug in the US Navy from 1866 to 1903 and saw combat service in the SpanishAmerican War in 1898 Leyden was launched in 1865 by James Tetlow Chelsea Massachusetts From 1866 to 1879 she operated as a yard tug at the Boston Navy Yard performing various harbor duties out of Boston Massachusetts until reassigned to Portsmouth New Hampshire in 1879 Leyden served there until 1897 when she was assigned to Newport Rhode Island While the ship was near Boston on 26 August 1881 Seaman Michael Thornton jumped overboard and rescued a fellow sailor from drowning for which he was awarded the Medal of Honor From 1898 to 1903 Leyden alternated her services between the Caribbean and Newport Rhode Island While on a return passage from Puerto Rico on 21 January 1903 the tug foundered in heavy fog off Block Island ending her long useful career Ordinary Seaman Ernest H Bjorkman Fireman First Class Loddie Stupka Quartermaster Third Class August P Teytand and Chief Machinist Michael Walsh received the Medal of Honor for heroism at the time of the wreck of that vessel ',\n",
        " 'The Variable Room Acoustics System is an acoustic enhancement system for controlling room acoustics electronically In addition VRAS uses a number of microphones close to the stage area to detect early energy from the performers which is used to generate early reflections Such systems are termed inline or nonregenerative Inline systems aim to minimise the effects of regeneration by detecting stage sound at a high level and may then be used to generate early reflections or late reverberation VRAS is thus a hybrid system that uses both regenerative and nonregenerative approaches VRAS was developed by Mark Poletti at Industrial Research Limited New Zealand and commercialized by LCS Audio VRAS is now a part of the Meyer Sound Laboratories Constellation System  ']"
       ]
      }
     ],
     "prompt_number": 354
    },
    {
     "cell_type": "code",
     "collapsed": false,
     "input": [
      "urls"
     ],
     "language": "python",
     "metadata": {},
     "outputs": [
      {
       "metadata": {},
       "output_type": "pyout",
       "prompt_number": 356,
       "text": [
        "[u'https://en.wikipedia.org/wiki/Carposina_scierotoxa',\n",
        " u'https://en.wikipedia.org/wiki/Guitares_D%C3%A9rive',\n",
        " u'https://en.wikipedia.org/wiki/Macrocnemum_jamaicense',\n",
        " u'https://en.wikipedia.org/wiki/USS_Leyden_(1865)',\n",
        " u'https://en.wikipedia.org/wiki/VRAS']"
       ]
      }
     ],
     "prompt_number": 356
    },
    {
     "cell_type": "code",
     "collapsed": false,
     "input": [
      "params = {'apiKey' : key, 'output': 'JSON', 'startDate' : '2014-01-01', 'endDate' : '2014-08-01'}"
     ],
     "language": "python",
     "metadata": {},
     "outputs": [],
     "prompt_number": 385
    },
    {
     "cell_type": "code",
     "collapsed": false,
     "input": [
      "r = requests.get(base, params=params)\n",
      "a = r.json()"
     ],
     "language": "python",
     "metadata": {},
     "outputs": [],
     "prompt_number": 386
    },
    {
     "cell_type": "code",
     "collapsed": false,
     "input": [
      "for story in a['list']['story']:\n",
      "    print story['text']"
     ],
     "language": "python",
     "metadata": {},
     "outputs": [
      {
       "output_type": "stream",
       "stream": "stdout",
       "text": [
        "{u'paragraph': [{u'num': u'1', u'$text': u'This post was updated at 11 p.m. ET. '}, {u'num': u'2', u'$text': u'In an attempt to weigh in on an immigration issue before Congress leaves Washington for a five-week break, the House has voted 223-189 to approve a $694 million emergency funding bill. The Republican-backed legislation is a response to the rising number of minors who have crossed the U.S. border unaccompanied and without going through the necessary legal steps.'}, {u'num': u'3', u'$text': u\"The Border Security Supplemental Spending Bill was endorsed one day after the House Republican leadership canceled its plan to hold a vote on the legislation. The bill is not expected to have a chance of passage in the Senate, which didn't approve a different version of similar legislation before it left for an end-of-summer break.\"}, {u'num': u'4', u'$text': u'As we reported Thursday, the bill would boost \"funding for overwhelmed border agencies, add immigration judges and detention space, send National Guard troops to the border, and change the law so that the youths can be sent home quickly without deportation hearings that are now guaranteed, according to The Associated Press.\"'}, {u'num': u'5', u'$text': u\"Also on Friday, the House voted 216-192 to end the president's deportation relief program. The Deferred Action for Child Arrivals program gives officials discretion to defer the deportation of people who entered the U.S. illegally before they turned 16.\"}, {u'num': u'6', u'$text': u\"The votes came hours after President Obama criticized Congress for not acting on immigration and other issues he said need to be dealt with to help America's economy continue to improve. [Copyright 2014 NPR]\"}]}\n",
        "{u'paragraph': [{u'num': u'1', u'$text': u'After police in Salinas, Calif., shot and killed four Latino men since March, local authorities are rejecting demands for a federal investigation. Salinas Police Chief Kelly McMillin told NPR member station KQED that even though his department \"has nothing to hide,\" a federal review would be premature since internal investigations of the shootings are still pending.'}, {u'num': u'2', u'$text': u'But the killings, including one captured on video on May 20, have soured police-community relations in a city that bills itself as the \"Salad Bowl of the World.\" In that incident, 44-year-old Carlos Mejia was waving a pair of garden shears at officers before he was fatally shot.'}, {u'num': u'3', u'$text': u'More recently, 39 year old parolee Frank Alvarado, was shot and killed on July 11 after authorities said he approached officers pointing a cellphone. The police apparently thought it was a weapon.'}, {u'num': u'4', u'$text': u'Two other men, 26 year old Osman Hernandez and 42 year old Angel Ruiz were killed by Salinas police on May 9 and March 20 respectively.'}, {u'num': u'5', u'$text': u'The series of fatal shootings have sparked angry protests and demonstrations in a community of about 150,000 people. Salinas is also 75 percent Latino.'}, {u'num': u'6', u'$text': u\"Calls for a federal inquiry into the killings began in May, but they were amplified recently when Oakland-based civil rights attorney John Burris announced that he has requested action by the Justice Department's Civil Rights Division.\"}, {u'num': u'7', u'$text': u'\"We want to find out whether these shootings were a pattern of discriminatory law enforcement or four isolated incidents,\" said Burris. The shootings are \"uncalled for, questionable, and alarming,\" he added.'}, {u'num': u'8', u'$text': u\"The Justice Department had no comment on Burris' request.\"}, {u'num': u'9', u'$text': u'Burris issued his call for an investigation on the steps of the federal courthouse in San Francisco, not Salinas. He was joined by relatives and supporters of the slain men, including community activist Margaret Bonetti.'}, {u'num': u'10', u'$text': u'\"The community is not trusting the local police department. We\\'re here in San Francisco because we feel we\\'ll get more justice here then we will out of Salinas,\" said Bonetti.'}, {u'num': u'11', u'$text': u'Salinas Police Chief McMillin defends his officers and rejects accusations of racism.'}, {u'num': u'12', u'$text': u'\"We weren\\'t racially profiling anyone. We were responding in every case to calls for service because of the actions of these individuals. They identified themselves by acting violently and frightening, terrorizing the people around them,\" he said.'}, {u'num': u'13', u'$text': u'Update at 12:45 p.m. ET. on Aug. 6: Response From Salinas PD:'}, {u'num': u'14', u'$text': u'A spokesman for the Salinas Police Department, Spencer Critchley, responded:'}, {u'num': u'15'}, {u'num': u'16', u'$text': u'\"The headline of your story, and what follows from that headline, is based on the assumption that it\\'s significant that the four people shot by Salinas police this year were Latinos.'}, {u'num': u'17', u'$text': u'\"In Salinas, nearly eight out of 10 people are Latinos. And for socio-economic reasons, more than nine out of 10 of the small number of people who commit violent crimes are Latinos. So anyone who does anything in Salinas, including all the good things, is likely to be Latino, and so is anyone who has an interaction with the police.\"'}, {u'num': u'18'}, {u'num': u'19', u'$text': u'Regarding our statement that Chief Kelly McMillin rejects a federal investigation of the shooting incidents, Critchley said:'}, {u'num': u'20'}, {u'num': u'21', u'$text': u'\"I don\\'t think that\\'s the meaning intended by the KQED story your piece is based on. The Chief requested that both the FBI and the Civil Rights Division of the Department of Justice review the investigations of two of the recent shootings. He has not rejected an investigation of the department, he has said he believes it\\'s unlikely that the DOJ will follow up on Mr. Burris\\' call for one. He believes that if it did, it would find a department of highly trained, compassionate officers.\"'}, {u'num': u'22', u'$text': u' [Copyright 2014 NPR]'}]}\n",
        "{u'paragraph': [{u'num': u'1', u'$text': u'A medical transport plane was en route to pick up two Americans sick with Ebola in Liberia, doctors in Atlanta said Friday.'}, {u'num': u'2', u'$text': u'This will be the first time doctors will treat somebody for Ebola outbreak in the U.S, they said.'}, {u'num': u'3', u'$text': u'Both people caught the virus while treating patients in the largest and deadliest Ebola outbreak in history. More than 700 people have died in West Africa from Ebola since March.'}, {u'num': u'4', u'$text': u'The aid workers will fly to Atlanta in planes equipped with isolation tents, called Aeromedical Biological Containment Systems. Then they will be treated in a special unit at the Emory University Hospital.'}, {u'num': u'5', u'$text': u'\"The first one [patient] will come in the next several days,\" Dr. Bruce Ribner, who directs the hospital\\'s infectious diseases unit, said at a press conference. \"A second patient will be coming a few days after that.\"'}, {u'num': u'6', u'$text': u\"Both patients are in stable condition, Ribner said. He wouldn't give out their names, but he said the Christian aid group Samaritan's Purse had reached out to the hospital for help.\"}, {u'num': u'7', u'$text': u\"Last weekend, Samaritan's Purse said that two of their aid workers had caught Ebola while helping patients in Monrovia, Liberia. Dr. Kent Brantly, 33, is a general physician trained in Forth Worth, Texas, while Nancy Writebol, 59, is a missionary from Charlotte, N.C.\"}, {u'num': u'8', u'$text': u'Writebol also works for the charity group SIM. \"SIM\\'s understanding is that they\\'re both going to Emory,\" a spokesperson for the charity told NPR about Writebol and Brantly.'}, {u'num': u'9', u'$text': u'So why bring these people back to the U.S. when they can get treatment in Liberia?'}, {u'num': u'10', u'$text': u'\"We feel they deserve to have the highest level of care offered for their treatment,\" Ribner said. \"They have gone on a humanitarian mission. They have become infected through medical care. ... We have the environment and expertise to safely care for these patients and offer them the maximum opportunity for recovery from these infections.\"'}, {u'num': u'11', u'$text': u'Many hospitals in the U.S. have wards for isolating patients with Ebola. The Emory hospital is one of only four with a ward that can give these patients any and all treatment they need, including full intensive care.'}, {u'num': u'12', u'$text': u'The special clinic was last used during the SARS outbreak in 2003.'}, {u'num': u'13', u'$text': u\"So what's the risk of Ebola spreading during the transport of these patients? Very low, Ribner said.\"}, {u'num': u'14', u'$text': u'\"Ebola is not spread by some magic mechanism,\" he said. Like HIV and hepatitis C, Ebola is not transmitted through the air. People have to contact bodily fluids, such as blood, vomit and saliva of an infected person.'}, {u'num': u'15', u'$text': u'\"Ebola does not spread by casual contact,\" the director of the Centers for Disease Control and Prevention, Tom Frieden, told CNN on Friday.'}, {u'num': u'16', u'$text': u'\"I know that it [Ebola] creates fear in people,\" he said. \"I really hope that people\\'s fear won\\'t outweigh their compassion.'}, {u'num': u'17', u'$text': u'\"We have to focus on stopping the outbreak [in West Africa],\" he added. \"That means if people who are working on that response get sick, we take care of them.\" [Copyright 2014 NPR]'}]}\n",
        "{u'paragraph': [{u'num': u'1', u'$text': u\"When Leanne Brown moved to New York from Canada to earn a master's in food studies at New York University, she couldn't help noticing that Americans on a tight budget were eating a lot of processed foods heavy in carbs.\"}, {u'num': u'2', u'$text': u'\"It really bothered me,\" she says. \"The 47 million people on food stamps \\u2014 and that\\'s a big chunk of the population \\u2014 don\\'t have the same choices everyone else does.\"'}, {u'num': u'3', u'$text': u\"Brown guessed that she could help people in SNAP, the federal government's Supplemental Nutrition Assistance Program, find ways to cook filling, nourishing and flavorful meals. So she set out to write a cookbook full of recipes anyone could make on a budget of just $4 a day.\"}, {u'num': u'4', u'$text': u'The result is Good and Cheap, which is free online and has been downloaded over 200,000 times since she posted it on her website in early June. A July Kickstarter campaign also helped Brown raise $145,000 to print copies for people without computer access.'}, {u'num': u'5', u'$text': u\"So what are Brown's secrets to eating well on $4 a day? It's about stocking the pantry with cheap basics to build meals from: things like garlic, canned vegetables, dried beans and butter.\"}, {u'num': u'6', u'$text': u'She also emphasizes flexibility, and avoids prescribing strict meals and methods. That means lots of options for substitutions, especially when it comes to the produce aisle, where prices can fluctuate based on season and availability. Each meal is priced out by serving.'}, {u'num': u'7', u'$text': u'Earlier this week, Deborahmichelle Sanders, 63, of San Francisco turned to the cookbook and found an intriguing recipe: cornmeal crusted vegetables with an Asian-inspired peanut sauce for dipping.'}, {u'num': u'8', u'$text': u'Since she couldn\\'t afford the suggested beans or peppers, she tried carrots. The result? \"It\\'s so wonderful,\" she tells The Salt.'}, {u'num': u'9', u'$text': u'SNAP currently provides 46.2 million low-income people like Sanders with a monthly average stipend for food of $126 in the form of a debit card. They can take it to the grocery store, pick out their food and swipe the card at the register.'}, {u'num': u'10', u'$text': u\"SNAP has no equivalent in Brown's home country of Canada; its public assistance programs are more flexible, she says. And she wasn't impressed with what she found when she went looking for resources for people in the U.S. program on how to cook well with the benefits.\"}, {u'num': u'11', u'$text': u'\"Tons of organizations are doing amazing, useful work, but usually their recipes can sound sort of preachy, or else they\\'re very governmental,\" she says. Brown thinks the cookbooks that exist try to tell people the right way to live their lives \\u2014 explaining what exactly they should eat and how exactly they should prepare it \\u2014 and that often turns them off to the recipes.'}, {u'num': u'12', u'$text': u'\"As much as a recipe book, [Brown\\'s book] is an idea book,\" says Brenda Mahoney of Dallas, another woman in SNAP who\\'s using the book. In fact, some of Good and Cheap\\'s pages come with exactly that label: \"ideas.\"'}, {u'num': u'13', u'$text': u'One page, titled \"Leftovers,\" offers tips on the myriad ways to make good use of old meals, like putting the fixings you originally used to top toast in a wrap or on a pizza, or turning almost anything into a sandwich. Another called \"Popcorn!\" recommends livening up the familiar snack by adding spices.'}, {u'num': u'14', u'$text': u'Good and Cheap is also filled with beautiful photos \\u2014 a visual feast, especially compared with the other recipe books tailored to people in SNAP.'}, {u'num': u'15', u'$text': u\"Take the U.S. Department of Agriculture's Tips for Healthy, Thrifty Meals. Orange lines and black bullet points fill up entire pages, with equally uninspiring sketches on the side.\"}, {u'num': u'16', u'$text': u\"And compare their Turkey Cabbage Casserole to Brown's Savory Summer Cobbler, which both Sanders and Mahoney cite as their favorite dish. Even the name draws a reader to the recipe, which features seasonal vegetables under a peppery biscuit crust. The lush photo that accompanies it on the page doesn't hurt.\"}, {u'num': u'17', u'$text': u'\"You choose what vegetables you want, so I used tomato and a green-striped crookneck squash, which was the cheapest I could find,\" says Sanders. \"It is so, so good.\"'}, {u'num': u'18', u'$text': u'Mahoney agrees.'}, {u'num': u'19', u'$text': u'\"My kids loved the recipe,\" she says.'}, {u'num': u'20', u'$text': u\"Mahoney cooks for her two children and herself, much like Mia Pickering, who lives in Seattle with her two teenagers. Sanders, Mahoney and Pickering have all been on SNAP for a number of years, and they say Good and Cheap, which they discovered online, works better for them than anything else they've been able to find. And that's important when what they can cook determines how well they and their families can eat.\"}, {u'num': u'21', u'$text': u'\"Cooking is definitely more economical and healthier than buying premade foods,\" says Mahoney.'}, {u'num': u'22', u'$text': u\"Pickering thinks so, too. For her, it's easier to cook fresh than heat up frozen meals. It means she and her children throw less food away and exercise better portion control.\"}, {u'num': u'23', u'$text': u'\"Many authors have tried hard to come up with cheap meals, but they taste so bad. Leanne is so gifted. It\\'s just incredible,\" says Sanders.'}, {u'num': u'24', u'$text': u\"Sanders has been cooking since the eighth grade, so that's not a snap judgment.\"}, {u'num': u'25', u'$text': u\"Molly Roberts is an intern with NPR's Washington Desk. [Copyright 2014 NPR]\"}]}\n",
        "{u'paragraph': [{u'num': u'1', u'$text': u'Sales incentives helped U.S. auto sales rise in July, as major auto companies reported selling more than 120,000 more vehicles than the same month last year. GM retained its spot as the U.S. sales leader.'}, {u'num': u'2', u'$text': u'Sales of passenger cars rose by nearly 5 percent this July compared to last year, with sales of light trucks even higher, at 13.4 percent, according to data released Friday by research firm Autodata Corp.'}, {u'num': u'3', u'$text': u\"GM sold 256,160 vehicles last month, beating Toyota's 215,802 and Ford's 211,467.\"}, {u'num': u'4', u'$text': u\"NPR's Sonari Glinton reports:\"}, {u'num': u'5'}, {u'num': u'6', u'$text': u'\"Toyota, Ford, Nissan and Chrysler all saw their sales go up by double digits. And despite troubles at General Motors, sales at the Detroit car giant were up 9 percent over the same time last year.'}, {u'num': u'7', u'$text': u\"Jessica Caldwell is a senior analyst at Edmunds.com. She says GM's recent spate of recalls may be helping it.\"}, {u'num': u'8', u'$text': u'\"\\'You have all these people coming back with these older cars into dealerships with these brand-new cars that are much nicer,\\' she says, \\'and I think a lot of these people are leaving with new vehicles.\\''}, {u'num': u'9', u'$text': u'\"Meanwhile this month, victims of the GM ignition switch defect can begin filing claims for compensation. The company has set aside $400 million to cover the cost.\"'}, {u'num': u'10'}, {u'num': u'11', u'$text': u\"Sales of GM's cars slid by 3.8 percent from July 1013, but its light trucks and SUVs more than made up for it, spiking 17.5 percent, according to Autodata. In the calendar year to date, the company has sold 3.5 percent more cars.\"}, {u'num': u'12', u'$text': u'Other automakers struggled. Some of the steepest sales declines were at Volvo, which sold 17 percent fewer vehicles compared to July of 2013, and Volkswagen, where sales were down 7.5 percent.'}, {u'num': u'13', u'$text': u'Honda also slumped, with a drop of nearly 4 percent from last July. [Copyright 2014 NPR]'}]}\n",
        "{u'paragraph': [{u'num': u'1', u'$text': u'Super PACs let rich people, corporations and unions spend as much money as they want to try to influence the outcome of elections.'}, {u'num': u'2', u'$text': u\"On today's show: How a Harvard professor created a super PAC to attack super PACs. He's raised millions of dollars \\u2014 in part from really rich people \\u2014 to reduce the political influence of really rich people.\"}, {u'num': u'3', u'$text': u\"For more on campaign finance, listen to Episode 358: I'm Calling To Ask For Your Contribution.\"}, {u'num': u'4', u'$text': u'Music: Major Lazer (feat. Amber of Dirty Projectors)\\'s \"Get Free.\" Find us: Twitter/ Facebook/ Spotify. Download the Planet Money iPhone App. [Copyright 2014 NPR]'}]}\n",
        "{u'paragraph': [{u'num': u'1', u'$text': u\"Think opera plots are tough to follow? Try wading through the complicated drama playing out offstage at the Metropolitan Opera. At its most basic, it's the story of management and labor unions fighting over a supposedly dwindling pot of money. The deadline to solve the squabble before a lockout, midnight Thursday, was met with little resolution but a 72-hour extension.\"}, {u'num': u'2', u'$text': u\"Nothing about the Met's labor imbroglio is elementary, including its large cast of characters. On one side you have Peter Gelb, the Met's general manager since 2006, and his counsel, Howard Z. Robbins, the attorney who represented the National Hockey League in its 2012-13 lockout.\"}, {u'num': u'3', u'$text': u\"Negotiating with Gelb are hordes of workers. About 2,400 of the Met's 3,400 employees are union members. They cover a broad swath of activities ranging from singing in the chorus, playing in the orchestra, dancing, painting sets, running the box office, singing solo roles, working in the call center, posting bills (advertising posters), running cameras and taking tickets. Three of these unions (Local 32BJ, Local 30 and Local 210) reached agreements Thursday. Here is a list of the unions involved:\"}, {u'num': u'4'}, {u'num': u'5', u'$text': u'AGMA (American Guild of Musical Artists) \\u2014 chorus, soloists, dancers, stage directors, choreographers AFM Local 802 (American Federation of Musicians) \\u2014 orchestra, librarians, music staff Directors Guild of America \\u2014 directors and stage managers IATSE Local One (International Alliance of Theatrical Stage Employees) \\u2014 carpenters, electricians IATSE Local 4 \\u2014 parks crew IATSE Local 751 \\u2014 box office treasurers IATSE Local 764 \\u2014 wardrobe, costumers IATSE Local 794 \\u2014 camera crew IATSE Local 798 \\u2014 wig/hair and makeup artists IATSE Local 829 \\u2014 scenic artists, scenic, costume, lighting, sound, projection designers IATSE Local 829BP \\u2014 bill poster IBT Local 210 (International Brotherhood of Teamsters) \\u2014 call center IUOE Local 30 (International Union of Operating Engineers) \\u2014 building engineers IUPAT Local 1456 (International Union Of Painters And Allied Trades) \\u2014 painter SEIU Local 32BJ (Service Employees International Union) \\u2014 ushers, ticket takers, cleaners, porters, security, office services'}, {u'num': u'6'}, {u'num': u'7', u'$text': u'The negotiations are now being conducted with the help of two officials from the U.S. Federal Mediation and Conciliation Service (FMCS), Deputy Director Allison Beck and Commissioner Kathleen Murray-Cannon.'}, {u'num': u'8', u'$text': u\"The workers aren't always exactly unified. Each union has its own concerns and strategies. If one of the largest three unions \\u2014 AGMA, IATSE Local 1 or AFM Local 802 \\u2014 strikes a deal, it could greatly influence the negotiations for the remaining parties.\"}, {u'num': u'9', u'$text': u\"There have been many pronouncements about Gelb's artistic vision, the ups and downs of his tenure, the successful productions, the innovative Live HD movie theater broadcasts, the critical failures \\u2014 even his attitudes about the viability of the art form.\"}, {u'num': u'10', u'$text': u'Gelb\\'s bottom line is that there\\'s not enough money to sustain the Met as is. \"No matter how you slice it,\" he told NPR, \"opera is incredibly expensive.\" Gelb, who claims that two-thirds of the company\\'s costs are labor related, would like to cut some of the unions\\' benefits, especially when it comes to the convoluted structure of overtime pay.'}, {u'num': u'11', u'$text': u\"The unions say Gelb is simply spending too much and that the company's $2.8 million deficit doesn't warrant the nearly $30 million in cuts he seeks. The Wall Street Journal recently took a look at Met expenses on specific productions and box office potential. Plenty of hand-wringing can also be found over the high salaries of both Gelb and some of the union members.\"}, {u'num': u'12', u'$text': u\"The debate seems particularly acrimonious this time, due partly to the fact that so much of the drama has played out in our 21st-century media \\u2014 something you couldn't say about previous Met labor disputes, which date back to 1885.\"}, {u'num': u'13', u'$text': u'Among the most debilitating in recent times were the disputes of 1969 and 1980. President Carter had to intervene in 1980, sending a telegram to the unions and management pleading for a resolution to save the season, which had been indefinitely postponed. In 1969, failed contract talks forced the Met to open its season three and a half months late.'}, {u'num': u'14', u'$text': u\"How this season will be affected is still anyone's guess. It's a positive sign that three of the unions have already settled and the chorus showed up Friday for a rehearsal of The Merry Widow. Still, they are among the smaller groups.\"}, {u'num': u'15', u'$text': u'Gelb released a statement Friday, saying, \"We want to work together with union representatives, and do everything we can to achieve new contracts, which is why we\\'ve agreed to an extension.\" The president of AFM Local 802, Tino Gagliardi, also weighed in, saying that while Gelb\\'s move to postpone the lockout was constructive, \"Settling this dispute in three days is highly unrealistic.\" [Copyright 2014 NPR]'}]}\n",
        "{u'paragraph': [{u'num': u'1', u'$text': u\"In Detroit, protests continue over the city's massive effort to shut off water to thousands of customers who aren't paying their bills. Activists call the move a violation of a basic human need, while city officials call it an economic reality.\"}, {u'num': u'2', u'$text': u\"Detroit's Water and Sewerage Department has been accruing a massive debt for decades \\u2014 in part because officials say there was only a token attempt to collect past-due bills. By this year, about half of all water customers were behind on payments, owing a combined $90 million.\"}, {u'num': u'3', u'$text': u'So officials here launched an aggressive campaign targeting back payments, using the time-honored utility tactic of shutting off water service until payment arrangements were made.'}, {u'num': u'4', u'$text': u'Some Detroiters are split on the move.'}, {u'num': u'5', u'$text': u\"Along the city's busy Woodward Avenue, longtime residents like Clifford Durham say water customers should have known what was coming.\"}, {u'num': u'6', u'$text': u'\"It\\'s a shame that it\\'s happening, but they had options and budget plans like, 10, 15 years ago,\" Durham says. \"Tell \\'em your situation. Don\\'t wait \\'til your bill is $300 or $400 and get a shut-off notice,\" he says. \"The protesting that\\'s gonna go on for the water I think is ridiculous.\"'}, {u'num': u'7', u'$text': u'A Cause Celebre'}, {u'num': u'8', u'$text': u\"The sheer number of people shut off \\u2014 17,000 \\u2014 has led to frequent demonstrations and some international attention. The United Nations declared it a human rights violation. Activists, a federal judge, even movie stars like actor Mark Ruffalo \\u2014 who portrays the alter ego of The Hulk in the Avengers films \\u2014 joined in what's truly become a cause celebre.\"}, {u'num': u'9', u'$text': u'\"There\\'s no reason that this city and this state, with all of its wealth, can\\'t come up with some sort of a program to keep this water from being turned off. I mean, it\\'s insane,\" Ruffalo said.'}, {u'num': u'10', u'$text': u'City officials say they are setting up payment plans for residents, and add that more than half of those who had their water shut off subsequently paid their bills and had service quickly restored.'}, {u'num': u'11', u'$text': u'But others have tried to block the shut-offs, pouring concrete over water mains tagged by the city with blue paint \\u2014 a kind of scarlet letter indicating the pipes there should be closed.'}, {u'num': u'12', u'$text': u\"Tutorials have also spread on Facebook describing how to get water flowing again. Detroiter Nita O'Neal says it's relatively easy to find someone with the kind of long metal keys that open closed water valves \\u2014 even though only city workers are supposed to have them.\"}, {u'num': u'13', u'$text': u'\"People gonna turn that water back on. Somebody has a water key, trust me. You give \\'em $5, you gonna get your water back on,\" O\\'Neal says. \"People have to have shelter, food and water.\"'}, {u'num': u'14', u'$text': u\"Turning the water back on that way is, in fact, a crime \\u2014 it's stealing water. But for families with little or no income, O'Neal says, the stakes are too high to worry about that.\"}, {u'num': u'15', u'$text': u'\"You got babies that\\'s probably not taking baths. That\\'s opening up the door for protective services to come in, say that you are unfit parent,\" she says. \"This is a game that they\\'re playing, and it\\'s a serious, dangerous game.\"'}, {u'num': u'16', u'$text': u'City officials counter that water rates are going up in part because people game the system. Paying customers, they say, have to cover the costs for those not paying their bills.'}, {u'num': u'17', u'$text': u'But Water and Sewerage Deputy Director Darryl Latimer says the department wants to cooperate with customers, even those who argue water should be a right, not a privilege.'}, {u'num': u'18', u'$text': u'\"I think water is a right. However, if all of our customers took that stand \\u2014 that it\\'s a human right and we\\'re not gonna pay \\u2014 then no one would have water,\" Latimer says.'}, {u'num': u'19', u'$text': u'It remains very much an evolving situation in the city. The water and sewerage department recently began targeting past-due commercial and residential customers, then declared a two-week moratorium on all shut-offs.'}, {u'num': u'20', u'$text': u\"Detroit's emergency manager put Mayor Mike Duggan in charge of the formerly autonomous water system. But the department itself remains a bargaining chip in Detroit's ongoing bankruptcy proceedings. The city wants out of the water business and the debt it carries and is pushing to either regionalize or privatize the system. [Copyright 2014 WDET-FM]\"}]}\n",
        "{u'paragraph': [{u'num': u'1', u'$text': u\"A Pentagon plan to cut tens of thousands of soldiers from the U.S. Army's ranks in coming years goes too far given the growing global threats, including Russian aggression in Ukraine and unrest in Syria and Iraq, a bipartisan review panel says.\"}, {u'num': u'2', u'$text': u\"In an advance copy of a report, Ensuring a Strong U.S. Defense for the Future, that was obtained by NPR's Tom Bowman, a panel that includes former Defense Secretary William Perry and retired Gen. John Abizaid, who was the top U.S. commander in the Middle East, warns that the proposed cuts are too deep.\"}, {u'num': u'3', u'$text': u'\"Since World War II, no matter which party has controlled the White House or Congress, America\\'s global military capability and commitment has been the strategic foundation undergirding our global leadership,\" the report\\'s authors write. \"Given that reality, the defense budget cuts mandated by the Budget Control Act (BCA) of 2011, coupled with the additional cuts and constraints on defense management under the law\\'s sequestration provision, constitute a serious strategic misstep on the part of the United States.\"'}, {u'num': u'4', u'$text': u'\"The effectiveness of America\\'s other tools for global influence, such as diplomacy and economic engagement, are critically intertwined with and dependent upon the perceived strength, presence and commitment of U.S. armed forces,\" they write.'}, {u'num': u'5', u'$text': u'But Defense Secretary Chuck Hagel disagrees with the panel, according to Pentagon spokesman Rear Adm. John Kirby.'}, {u'num': u'6', u'$text': u\"The panel endorses the Pentagon's plans in some areas, such as trimming pay and medical benefits, but it says the recommendation to draw down the Army to 450,000 goes too far. Instead, the panel says the Army should not go below 490,000 \\u2014 the same figure that Army leaders had wanted. [Copyright 2014 NPR]\"}]}\n",
        "{u'paragraph': [{u'num': u'1', u'$text': u'[Copyright 2014 NPR]'}]}\n"
       ]
      }
     ],
     "prompt_number": 387
    },
    {
     "cell_type": "code",
     "collapsed": false,
     "input": [
      "if not a.has_key('list'):\n",
      "    print 5"
     ],
     "language": "python",
     "metadata": {},
     "outputs": [],
     "prompt_number": 380
    },
    {
     "cell_type": "code",
     "collapsed": false,
     "input": [
      "a['list']['story'][0]['storyDate']"
     ],
     "language": "python",
     "metadata": {},
     "outputs": [
      {
       "metadata": {},
       "output_type": "pyout",
       "prompt_number": 390,
       "text": [
        "{u'$text': u'Fri, 01 Aug 2014 20:48:00 -0400'}"
       ]
      }
     ],
     "prompt_number": 390
    },
    {
     "cell_type": "code",
     "collapsed": false,
     "input": [
      "#fox\n",
      "req = requests.get('http://www.foxnews.com/about/rss/')\n",
      "soup = BeautifulSoup(req.text)"
     ],
     "language": "python",
     "metadata": {},
     "outputs": [],
     "prompt_number": 391
    },
    {
     "cell_type": "code",
     "collapsed": false,
     "input": [
      "div = soup.findAll('div', {'class': 'section-mod'})[0]\n",
      "a = div.findAll('a')"
     ],
     "language": "python",
     "metadata": {},
     "outputs": [],
     "prompt_number": 404
    },
    {
     "cell_type": "code",
     "collapsed": false,
     "input": [
      "topic_links = [url.attrs['data-url'] for url in a]\n",
      "topics = [link.split('/')[-1] for link in topic_links]"
     ],
     "language": "python",
     "metadata": {},
     "outputs": [],
     "prompt_number": 452
    },
    {
     "cell_type": "code",
     "collapsed": false,
     "input": [
      "all_articles = []\n",
      "topics = []\n",
      "urls = []\n",
      "for link in topic_links[:5]:\n",
      "    req = requests.get(link)\n",
      "    soup = BeautifulSoup(req.text, 'html.parser')\n",
      "    sublinks =  [link.text for link in soup.findAll('link') if link.text.count('/') > 3]\n",
      "    for sublink in sublinks[:2]:\n",
      "        req = requests.get(sublink)\n",
      "        soup = BeautifulSoup(req.text, 'html.parser')\n",
      "        text_soup = soup.findAll('div', {'itemprop': 'articleBody'})\n",
      "        if not text_soup:\n",
      "            print 'nothing here'\n",
      "            continue\n",
      "        \n",
      "        text = ' '.join([par.text for par in soup.findAll('div', {'itemprop': 'articleBody'})[0].findAll('p')])\n",
      "        text = str(re.sub('[^\\w\\s+]', '', text))\n",
      "        urls.append(req.url)\n",
      "        topics.append(urls[-1].split('/')[3])\n",
      "        all_articles.append(text)\n",
      "frame = pd.DataFrame({'text' : all_articles, 'url' : urls, 'source' : 'Fox', 'topic':topics, 'rating' : .7}, \\\n",
      "             columns = ['source', 'url', 'topic', 'text', 'rating'])\n",
      "frame.to_csv('fox_data.csv')"
     ],
     "language": "python",
     "metadata": {},
     "outputs": [
      {
       "output_type": "stream",
       "stream": "stdout",
       "text": [
        "nothing here\n"
       ]
      }
     ],
     "prompt_number": 490
    },
    {
     "cell_type": "code",
     "collapsed": false,
     "input": [
      "frame"
     ],
     "language": "python",
     "metadata": {},
     "outputs": [
      {
       "html": [
        "<div style=\"max-height:1000px;max-width:1500px;overflow:auto;\">\n",
        "<table border=\"1\" class=\"dataframe\">\n",
        "  <thead>\n",
        "    <tr style=\"text-align: right;\">\n",
        "      <th></th>\n",
        "      <th>source</th>\n",
        "      <th>url</th>\n",
        "      <th>topic</th>\n",
        "      <th>text</th>\n",
        "      <th>rating</th>\n",
        "    </tr>\n",
        "  </thead>\n",
        "  <tbody>\n",
        "    <tr>\n",
        "      <th>0</th>\n",
        "      <td> Fox</td>\n",
        "      <td> http://www.foxnews.com/us/2014/11/04/murder-su...</td>\n",
        "      <td>            us</td>\n",
        "      <td>  A man accused of killing four people in two s...</td>\n",
        "      <td> 0.7</td>\n",
        "    </tr>\n",
        "    <tr>\n",
        "      <th>1</th>\n",
        "      <td> Fox</td>\n",
        "      <td> http://www.foxnews.com/world/2014/11/04/kurds-...</td>\n",
        "      <td>         world</td>\n",
        "      <td> This undated image posted on a militant websit...</td>\n",
        "      <td> 0.7</td>\n",
        "    </tr>\n",
        "    <tr>\n",
        "      <th>2</th>\n",
        "      <td> Fox</td>\n",
        "      <td> http://www.foxnews.com/politics/2014/11/04/rep...</td>\n",
        "      <td>      politics</td>\n",
        "      <td>  Fox News projects that Senate Republican Lead...</td>\n",
        "      <td> 0.7</td>\n",
        "    </tr>\n",
        "    <tr>\n",
        "      <th>3</th>\n",
        "      <td> Fox</td>\n",
        "      <td> http://www.foxnews.com/politics/2014/11/04/mid...</td>\n",
        "      <td>      politics</td>\n",
        "      <td>  Voting irregularities reported in multiple st...</td>\n",
        "      <td> 0.7</td>\n",
        "    </tr>\n",
        "    <tr>\n",
        "      <th>4</th>\n",
        "      <td> Fox</td>\n",
        "      <td> http://www.foxnews.com/entertainment/2014/11/0...</td>\n",
        "      <td> entertainment</td>\n",
        "      <td>  NEW YORK  Vanderpump Rules star Kristen Doute...</td>\n",
        "      <td> 0.7</td>\n",
        "    </tr>\n",
        "    <tr>\n",
        "      <th>5</th>\n",
        "      <td> Fox</td>\n",
        "      <td> http://www.foxnews.com/health/2014/11/04/tonsi...</td>\n",
        "      <td>        health</td>\n",
        "      <td>  The surgical removal of tonsils and adenoids ...</td>\n",
        "      <td> 0.7</td>\n",
        "    </tr>\n",
        "    <tr>\n",
        "      <th>6</th>\n",
        "      <td> Fox</td>\n",
        "      <td> http://www.foxnews.com/health/2014/11/04/seizu...</td>\n",
        "      <td>        health</td>\n",
        "      <td> A mans fear of spiders was gone after surgeryA...</td>\n",
        "      <td> 0.7</td>\n",
        "    </tr>\n",
        "    <tr>\n",
        "      <th>7</th>\n",
        "      <td> Fox</td>\n",
        "      <td> http://www.foxnews.com/leisure/2014/11/04/ken-...</td>\n",
        "      <td>       leisure</td>\n",
        "      <td> Hoonigan Division Hoonigan Division Ken Block ...</td>\n",
        "      <td> 0.7</td>\n",
        "    </tr>\n",
        "    <tr>\n",
        "      <th>8</th>\n",
        "      <td> Fox</td>\n",
        "      <td> http://www.foxnews.com/leisure/2014/11/04/thin...</td>\n",
        "      <td>       leisure</td>\n",
        "      <td> iStock iStock iStock iStock iStock iStock Thin...</td>\n",
        "      <td> 0.7</td>\n",
        "    </tr>\n",
        "  </tbody>\n",
        "</table>\n",
        "</div>"
       ],
       "metadata": {},
       "output_type": "pyout",
       "prompt_number": 491,
       "text": [
        "  source                                                url          topic  \\\n",
        "0    Fox  http://www.foxnews.com/us/2014/11/04/murder-su...             us   \n",
        "1    Fox  http://www.foxnews.com/world/2014/11/04/kurds-...          world   \n",
        "2    Fox  http://www.foxnews.com/politics/2014/11/04/rep...       politics   \n",
        "3    Fox  http://www.foxnews.com/politics/2014/11/04/mid...       politics   \n",
        "4    Fox  http://www.foxnews.com/entertainment/2014/11/0...  entertainment   \n",
        "5    Fox  http://www.foxnews.com/health/2014/11/04/tonsi...         health   \n",
        "6    Fox  http://www.foxnews.com/health/2014/11/04/seizu...         health   \n",
        "7    Fox  http://www.foxnews.com/leisure/2014/11/04/ken-...        leisure   \n",
        "8    Fox  http://www.foxnews.com/leisure/2014/11/04/thin...        leisure   \n",
        "\n",
        "                                                text  rating  \n",
        "0   A man accused of killing four people in two s...     0.7  \n",
        "1  This undated image posted on a militant websit...     0.7  \n",
        "2   Fox News projects that Senate Republican Lead...     0.7  \n",
        "3   Voting irregularities reported in multiple st...     0.7  \n",
        "4   NEW YORK  Vanderpump Rules star Kristen Doute...     0.7  \n",
        "5   The surgical removal of tonsils and adenoids ...     0.7  \n",
        "6  A mans fear of spiders was gone after surgeryA...     0.7  \n",
        "7  Hoonigan Division Hoonigan Division Ken Block ...     0.7  \n",
        "8  iStock iStock iStock iStock iStock iStock Thin...     0.7  "
       ]
      }
     ],
     "prompt_number": 491
    },
    {
     "cell_type": "code",
     "collapsed": false,
     "input": [
      "#msnbc\n",
      "req = requests.get('http://api.nbcnews.com/documents/getdocuments')"
     ],
     "language": "python",
     "metadata": {},
     "outputs": [],
     "prompt_number": 493
    },
    {
     "cell_type": "code",
     "collapsed": false,
     "input": [
      "req.text"
     ],
     "language": "python",
     "metadata": {},
     "outputs": []
    },
    {
     "cell_type": "code",
     "collapsed": false,
     "input": [
      "%pylab inline"
     ],
     "language": "python",
     "metadata": {},
     "outputs": [
      {
       "output_type": "stream",
       "stream": "stdout",
       "text": [
        "Populating the interactive namespace from numpy and matplotlib\n"
       ]
      }
     ],
     "prompt_number": 500
    },
    {
     "cell_type": "code",
     "collapsed": false,
     "input": [
      "#combine all data\n",
      "wiki = pd.read_csv(\"wikipedia_data.csv\")\n",
      "fox = pd.read_csv(\"fox_data.csv\")\n",
      "npr = pd.read_csv(\"npr_data.csv\")\n",
      "cnn = pd.read_csv(\"cnn_data.csv\")\n",
      "cnn = cnn[cnn['text'].apply(str) != 'nan']"
     ],
     "language": "python",
     "metadata": {},
     "outputs": [],
     "prompt_number": 555
    },
    {
     "cell_type": "code",
     "collapsed": false,
     "input": [
      "data = pd.concat((wiki[['source', 'text', 'rating']], fox[['source', 'text', 'rating']], npr[['source', 'text', 'rating']], cnn[['source', 'text', 'rating']] ), ignore_index=True)"
     ],
     "language": "python",
     "metadata": {},
     "outputs": [],
     "prompt_number": 567
    },
    {
     "cell_type": "code",
     "collapsed": false,
     "input": [
      "sum(data['text'].apply(len) < 1000)"
     ],
     "language": "python",
     "metadata": {},
     "outputs": [
      {
       "metadata": {},
       "output_type": "pyout",
       "prompt_number": 568,
       "text": [
        "1842"
       ]
      }
     ],
     "prompt_number": 568
    },
    {
     "cell_type": "code",
     "collapsed": false,
     "input": [
      "from sklearn.cross_validation import train_test_split\n",
      "vec = TfidfVectorizer(stop_words='english', max_features=200)\n",
      "X = data['text'].values\n",
      "label = data['source'].values\n",
      "y = data['rating']\n",
      "X_train, X_test, y_train, y_test = train_test_split(X, y)\n",
      "#label_train, label_test = label[train_indices], label[test_indices]\n",
      "X_train_mat = vec.fit_transform(X_train).toarray()\n",
      "X_test_mat = vec.transform(X_test).toarray()"
     ],
     "language": "python",
     "metadata": {},
     "outputs": [],
     "prompt_number": 571
    },
    {
     "cell_type": "code",
     "collapsed": false,
     "input": [
      "rf = RandomForestRegressor()\n",
      "rf.fit(X_train_mat, y_train)"
     ],
     "language": "python",
     "metadata": {},
     "outputs": [
      {
       "metadata": {},
       "output_type": "pyout",
       "prompt_number": 572,
       "text": [
        "RandomForestRegressor(bootstrap=True, compute_importances=None,\n",
        "           criterion='mse', max_depth=None, max_features='auto',\n",
        "           min_density=None, min_samples_leaf=1, min_samples_split=2,\n",
        "           n_estimators=10, n_jobs=1, oob_score=False, random_state=None,\n",
        "           verbose=0)"
       ]
      }
     ],
     "prompt_number": 572
    },
    {
     "cell_type": "code",
     "collapsed": false,
     "input": [
      "min(rf.predict(X_test_mat))"
     ],
     "language": "python",
     "metadata": {},
     "outputs": [
      {
       "metadata": {},
       "output_type": "pyout",
       "prompt_number": 575,
       "text": [
        "0.0"
       ]
      }
     ],
     "prompt_number": 575
    },
    {
     "cell_type": "code",
     "collapsed": false,
     "input": [
      "rf.score(X_train_mat, y_train)"
     ],
     "language": "python",
     "metadata": {},
     "outputs": [
      {
       "metadata": {},
       "output_type": "pyout",
       "prompt_number": 576,
       "text": [
        "0.92951393996698761"
       ]
      }
     ],
     "prompt_number": 576
    },
    {
     "cell_type": "code",
     "collapsed": false,
     "input": [
      "rf.score(X_test_mat, y_test)"
     ],
     "language": "python",
     "metadata": {},
     "outputs": [
      {
       "metadata": {},
       "output_type": "pyout",
       "prompt_number": 577,
       "text": [
        "0.70770783005541893"
       ]
      }
     ],
     "prompt_number": 577
    },
    {
     "cell_type": "code",
     "collapsed": false,
     "input": [
      "from alchemyapi import AlchemyAPI"
     ],
     "language": "python",
     "metadata": {},
     "outputs": [],
     "prompt_number": 580
    },
    {
     "cell_type": "code",
     "collapsed": false,
     "input": [
      "alchemyapi = AlchemyAPI()"
     ],
     "language": "python",
     "metadata": {},
     "outputs": [],
     "prompt_number": 581
    },
    {
     "cell_type": "code",
     "collapsed": false,
     "input": [
      "alc = alchemyapi.text('url', 'http://www.foxnews.com/tech/2014/11/04/pirate-bay-co-founder-arrested-at-thai-lao-border/')"
     ],
     "language": "python",
     "metadata": {},
     "outputs": [],
     "prompt_number": 583
    },
    {
     "cell_type": "code",
     "collapsed": false,
     "input": [
      "text = str(re.sub('[^\\w\\s]+', '', alc['text']))\n",
      "str(re.sub('\\n+', '', text))"
     ],
     "language": "python",
     "metadata": {},
     "outputs": [
      {
       "metadata": {},
       "output_type": "pyout",
       "prompt_number": 596,
       "text": [
        "'BANGKOK  One of the founders of popular filesharing website The Pirate Bay has been arrested under an Interpol warrant as he was crossing into Thailand from Laos police said TuesdayHans Fredrik Lennart Neij who uses the alias TiAMO was detained Monday by Thai immigration police at a checkpoint in Thailands Nong Khai province about 310 miles northeast of BangkokNeij along with other Pirate Bay cofounders was convicted of aiding copyright infringement by a court in Sweden in 2009 He fled the country after being released on bailRegional Immigration Police Commissioner Maj Gen Chartchai Eimsaeng said a USbased movie association had hired a Thai lawyer to search for Neij and his photo had been given to immigration police in Nong KhaiThe US movie and music industries have for years pursued strong legal action against sites such as The Pirate Bay which they say aid the illegal distribution of copyrighted material depriving its makers of profits due themIt might have been a coincidence but he was wearing the same gray Tshirt that was in the photo The immigration police officer who spotted him in the car recognized him so he pulled his car over Chartchai told The Associated Press by phoneChartchai said the 36yearold Swede had lived in Laos since 2012 and traveled nearly 30 times to Thailand where he has a house on the resort island of Phuket and 5 million baht 153000 in a savings account Neijs wife was in the car with him He was being sent to Bangkok later Tuesday and was expected to be returned to Sweden the police officer saidJonas Nilsson Neijs lawyer in Sweden said his client had called him Monday and told him Thai authorities had said he would be transported to Sweden However Nilsson said no decision had been made about a possible extraditionNeij is the second Pirate Bay founder to be arrested in Southeast Asia after a Swedish court in 2009 gave him and three Pirate Bay associates oneyear sentences for copyright violation They also were ordered to pay 46 million kronor 65 million in damages to the entertainment industry Their appeals were denied by Swedens high courtGottfrid Svartholm Warg who used the alias Anakata on the Internet was arrested in Cambodia in 2012 and sent back to Sweden after an international arrest warrant was issued against himSvartholm Warg served his sentence for copyright infringement before he was extradited to neighboring Denmark where he faced prosecution for hacking On Friday a Danish court sentenced him to 3 years in prison after he was found guilty of hacking into a private company handling sensitive information for Danish authoritiesAssociated Press writer Jan M Olsen in Copenhagen contributed to this story'"
       ]
      }
     ],
     "prompt_number": 596
    },
    {
     "cell_type": "code",
     "collapsed": false,
     "input": [
      "str(re.sub('\\n+', '', alc['text']))"
     ],
     "language": "python",
     "metadata": {},
     "outputs": [
      {
       "ename": "UnicodeEncodeError",
       "evalue": "'ascii' codec can't encode character u'\\u2014' in position 8: ordinal not in range(128)",
       "output_type": "pyerr",
       "traceback": [
        "\u001b[0;31m---------------------------------------------------------------------------\u001b[0m\n\u001b[0;31mUnicodeEncodeError\u001b[0m                        Traceback (most recent call last)",
        "\u001b[0;32m<ipython-input-593-0bcb5a2a6e3e>\u001b[0m in \u001b[0;36m<module>\u001b[0;34m()\u001b[0m\n\u001b[0;32m----> 1\u001b[0;31m \u001b[0mstr\u001b[0m\u001b[0;34m(\u001b[0m\u001b[0mre\u001b[0m\u001b[0;34m.\u001b[0m\u001b[0msub\u001b[0m\u001b[0;34m(\u001b[0m\u001b[0;34m'\\n+'\u001b[0m\u001b[0;34m,\u001b[0m \u001b[0;34m''\u001b[0m\u001b[0;34m,\u001b[0m \u001b[0malc\u001b[0m\u001b[0;34m[\u001b[0m\u001b[0;34m'text'\u001b[0m\u001b[0;34m]\u001b[0m\u001b[0;34m)\u001b[0m\u001b[0;34m)\u001b[0m\u001b[0;34m\u001b[0m\u001b[0m\n\u001b[0m",
        "\u001b[0;31mUnicodeEncodeError\u001b[0m: 'ascii' codec can't encode character u'\\u2014' in position 8: ordinal not in range(128)"
       ]
      }
     ],
     "prompt_number": 593
    },
    {
     "cell_type": "code",
     "collapsed": false,
     "input": [
      "alchemyapi.sentiment('text', 'i hate you')"
     ],
     "language": "python",
     "metadata": {},
     "outputs": [
      {
       "metadata": {},
       "output_type": "pyout",
       "prompt_number": 597,
       "text": [
        "{u'docSentiment': {u'score': u'-0.869125', u'type': u'negative'},\n",
        " u'language': u'english',\n",
        " u'status': u'OK',\n",
        " u'url': u'',\n",
        " u'usage': u'By accessing AlchemyAPI or using information generated by AlchemyAPI, you are agreeing to be bound by the AlchemyAPI Terms of Use: http://www.alchemyapi.com/company/terms.html'}"
       ]
      }
     ],
     "prompt_number": 597
    },
    {
     "cell_type": "code",
     "collapsed": false,
     "input": [
      "cd .."
     ],
     "language": "python",
     "metadata": {},
     "outputs": [
      {
       "output_type": "stream",
       "stream": "stdout",
       "text": [
        "/Users/Ted/Dropbox\n"
       ]
      }
     ],
     "prompt_number": 598
    },
    {
     "cell_type": "code",
     "collapsed": false,
     "input": [
      "sys.path.insert(0, 'News-Bias/')\n",
      "from alchemyapi import AlchemyAPI"
     ],
     "language": "python",
     "metadata": {},
     "outputs": [],
     "prompt_number": 601
    },
    {
     "cell_type": "code",
     "collapsed": false,
     "input": [
      "from alchemyapi import AlchemyAPI"
     ],
     "language": "python",
     "metadata": {},
     "outputs": [],
     "prompt_number": 602
    },
    {
     "cell_type": "code",
     "collapsed": false,
     "input": [
      "cd News-Bias/"
     ],
     "language": "python",
     "metadata": {},
     "outputs": [
      {
       "output_type": "stream",
       "stream": "stdout",
       "text": [
        "/Users/Ted/Dropbox/News-Bias\n"
       ]
      }
     ],
     "prompt_number": 604
    },
    {
     "cell_type": "code",
     "collapsed": false,
     "input": [
      "from build_model import get_features"
     ],
     "language": "python",
     "metadata": {},
     "outputs": [],
     "prompt_number": 605
    },
    {
     "cell_type": "code",
     "collapsed": false,
     "input": [
      "sys.path"
     ],
     "language": "python",
     "metadata": {},
     "outputs": [
      {
       "metadata": {},
       "output_type": "pyout",
       "prompt_number": 606,
       "text": [
        "['News-Bias/',\n",
        " '',\n",
        " '/Users/Ted/anaconda/lib/python2.7/site-packages/ipdb-0.8-py2.7.egg',\n",
        " '/Users/Ted/anaconda/python.app/Contents/lib/python27.zip',\n",
        " '/Users/Ted/anaconda/python.app/Contents/lib/python2.7',\n",
        " '/Users/Ted/anaconda/python.app/Contents/lib/python2.7/plat-darwin',\n",
        " '/Users/Ted/anaconda/python.app/Contents/lib/python2.7/plat-mac',\n",
        " '/Users/Ted/anaconda/python.app/Contents/lib/python2.7/plat-mac/lib-scriptpackages',\n",
        " '/Users/Ted/anaconda/python.app/Contents/lib/python2.7/lib-tk',\n",
        " '/Users/Ted/anaconda/python.app/Contents/lib/python2.7/lib-old',\n",
        " '/Users/Ted/anaconda/python.app/Contents/lib/python2.7/lib-dynload',\n",
        " '/Users/Ted/anaconda/lib/python2.7/site-packages/runipy-0.1.0-py2.7.egg',\n",
        " '/Users/Ted/anaconda/lib/python2.7/site-packages/setuptools-3.6-py2.7.egg',\n",
        " '/Users/Ted/anaconda/lib/python2.7/site-packages',\n",
        " '/Users/Ted/anaconda/lib/python2.7/site-packages/PIL',\n",
        " '/Users/Ted/anaconda/lib/python2.7/site-packages/IPython/extensions']"
       ]
      }
     ],
     "prompt_number": 606
    },
    {
     "cell_type": "code",
     "collapsed": false,
     "input": [
      "imp = np.argsort(rf.feature_importances_)[::-1]"
     ],
     "language": "python",
     "metadata": {},
     "outputs": [],
     "prompt_number": 614
    },
    {
     "cell_type": "code",
     "collapsed": false,
     "input": [
      "np.array(vec.get_feature_names())[imp]"
     ],
     "language": "python",
     "metadata": {},
     "outputs": [
      {
       "metadata": {},
       "output_type": "pyout",
       "prompt_number": 617,
       "text": [
        "array([u'copyright', u'said', u'2014', u'know', u'known', u'10', u'play',\n",
        "       u'second', u'says', u'later', u'american', u'thats', u'school',\n",
        "       u'just', u'reports', u'government', u'war', u'percent', u'news',\n",
        "       u'early', u'work', u'used', u'united', u'press', u'number',\n",
        "       u'family', u'washington', u'like', u'year', u'got', u'company',\n",
        "       u'far', u'say', u'head', u'come', u'federal', u'job', u'making',\n",
        "       u'city', u'children', u'best', u'did', u'week', u'group',\n",
        "       u'including', u'able', u'getting', u'members', u'university',\n",
        "       u'reported', u'problem', u'team', u'think', u'came', u'old',\n",
        "       u'time', u'music', u'according', u'long', u'having', u'president',\n",
        "       u'history', u'use', u'business', u'state', u'national', u'years',\n",
        "       u'dont', u'people', u'law', u'asked', u'ago', u'states', u'started',\n",
        "       u'called', u'local', u'story', u'men', u'month', u'went', u'want',\n",
        "       u'released', u'day', u'new', u'really', u'theres', u'big',\n",
        "       u'important', u'told', u'world', u'live', u'john', u'great',\n",
        "       u'didnt', u'set', u'point', u'support', u'home', u'means', u'need',\n",
        "       u'look', u'comes', u'white', u'house', u'night', u'make', u'past',\n",
        "       u'case', u'york', u'tell', u'weeks', u'million', u'looking',\n",
        "       u'left', u'working', u'trying', u'public', u'feel', u'months',\n",
        "       u'took', u'course', u'good', u'life', u'morning', u'fact', u'place',\n",
        "       u'away', u'days', u'things', u'today', u'money', u'recent',\n",
        "       u'start', u'man', u'sure', u'doesnt', u'right', u'lot', u'women',\n",
        "       u'does', u'young', u'book', u'idea', u'wasnt', u'im', u'different',\n",
        "       u'end', u'hes', u'instead', u'believe', u'recently', u'help',\n",
        "       u'youre', u'political', u'way', u'little', u'hard', u'actually',\n",
        "       u'control', u'doing', u'love', u'report', u'nearly', u'theyre',\n",
        "       u'real', u'thought', u'using', u'times', u'seen', u'country',\n",
        "       u'isnt', u'try', u'going', u'small', u'makes', u'taking', u'read',\n",
        "       u'center', u'kind', u'person', u'wanted', u'hear', u'health',\n",
        "       u'better', u'officials', u'now8217s', u'saying', u'npr', u'nprs',\n",
        "       u'director', u'likely', u'question', u'change', u'high', u'thing',\n",
        "       u'tells', u'coming', u'talk', u'taken', u'care'], \n",
        "      dtype='<U10')"
       ]
      }
     ],
     "prompt_number": 617
    },
    {
     "cell_type": "code",
     "collapsed": false,
     "input": [
      "a = alchemyapi.text('url', 'http://dailydigestnews.com/2014/11/researchers-reveal-the-secret-to-fending-off-kidney-stones/')"
     ],
     "language": "python",
     "metadata": {},
     "outputs": [],
     "prompt_number": 619
    },
    {
     "cell_type": "code",
     "collapsed": false,
     "input": [
      "a.keys()"
     ],
     "language": "python",
     "metadata": {},
     "outputs": [
      {
       "metadata": {},
       "output_type": "pyout",
       "prompt_number": 621,
       "text": [
        "[u'status', u'usage', u'url', u'text']"
       ]
      }
     ],
     "prompt_number": 621
    },
    {
     "cell_type": "code",
     "collapsed": false,
     "input": [
      "r = requests.get(\"http://news.google.com\")\n",
      "soup = BeautifulSoup(r.text, \"html.parser\")\n",
      "divs = [div for div in soup.findAll('div', 'esc-lead-article-title-wrapper')]"
     ],
     "language": "python",
     "metadata": {},
     "outputs": [],
     "prompt_number": 623
    },
    {
     "cell_type": "code",
     "collapsed": false,
     "input": [
      "links = []\n",
      "for div in divs:\n",
      "    link = div.find_all('a', href=True)\n",
      "    links.append(link[0]['href'])"
     ],
     "language": "python",
     "metadata": {},
     "outputs": [],
     "prompt_number": 624
    },
    {
     "cell_type": "code",
     "collapsed": false,
     "input": [
      "link[0].findAll('span')[0].text"
     ],
     "language": "python",
     "metadata": {},
     "outputs": [
      {
       "metadata": {},
       "output_type": "pyout",
       "prompt_number": 632,
       "text": [
        "u'WHO veteran elected as head of Africa office amid Ebola criticism'"
       ]
      }
     ],
     "prompt_number": 632
    },
    {
     "cell_type": "code",
     "collapsed": false,
     "input": [
      "sources = [source.text for source in soup.findAll('span', {'class': 'al-attribution-source'})]"
     ],
     "language": "python",
     "metadata": {},
     "outputs": [],
     "prompt_number": 647
    },
    {
     "cell_type": "code",
     "collapsed": false,
     "input": [
      "div"
     ],
     "language": "python",
     "metadata": {},
     "outputs": [
      {
       "metadata": {},
       "output_type": "pyout",
       "prompt_number": 639,
       "text": [
        "<div class=\"esc-lead-article-title-wrapper\"><h2 class=\"esc-lead-article-title\"><a class=\"article usg-AFQjCNFgfVSA5RvbOBonREcbYGxyRosScQ did--4979908044258905467\" href=\"http://www.reuters.com/article/2014/11/05/health-ebola-who-idUSL6N0SV3TB20141105?feedType=RSS&amp;feedName=rbssHealthcareNews\" id=\"MAA4CEgDUABgAWoCdXM\" rel=\"noreferrer\" ssid=\"m\" target=\"_blank\" url=\"http://www.reuters.com/article/2014/11/05/health-ebola-who-idUSL6N0SV3TB20141105?feedType=RSS&amp;feedName=rbssHealthcareNews\"><span class=\"titletext\">WHO veteran elected as head of Africa office amid Ebola criticism</span></a></h2></div>"
       ]
      }
     ],
     "prompt_number": 639
    },
    {
     "cell_type": "code",
     "collapsed": false,
     "input": [
      "len(divs), len(sources)"
     ],
     "language": "python",
     "metadata": {},
     "outputs": [
      {
       "metadata": {},
       "output_type": "pyout",
       "prompt_number": 643,
       "text": [
        "(31, 31)"
       ]
      }
     ],
     "prompt_number": 643
    },
    {
     "cell_type": "code",
     "collapsed": false,
     "input": [],
     "language": "python",
     "metadata": {},
     "outputs": []
    }
   ],
   "metadata": {}
  }
 ]
}