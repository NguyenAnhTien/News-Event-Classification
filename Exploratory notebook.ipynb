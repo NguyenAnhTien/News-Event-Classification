{
 "metadata": {
  "name": "",
  "signature": "sha256:3e770cddd6488cea13d5e9e6097f8632f0fa7049dee9c4b248e31a14bab28259"
 },
 "nbformat": 3,
 "nbformat_minor": 0,
 "worksheets": [
  {
   "cells": [
    {
     "cell_type": "code",
     "collapsed": false,
     "input": [
      "%pylab inline\n",
      "import pandas as pd\n",
      "import numpy as np\n",
      "from sklearn.feature_extraction.text import TfidfVectorizer\n",
      "import re\n",
      "from sklearn.naive_bayes import MultinomialNB\n",
      "from sklearn.ensemble import RandomForestRegressor"
     ],
     "language": "python",
     "metadata": {},
     "outputs": [
      {
       "output_type": "stream",
       "stream": "stdout",
       "text": [
        "Populating the interactive namespace from numpy and matplotlib\n"
       ]
      }
     ],
     "prompt_number": 83
    },
    {
     "cell_type": "code",
     "collapsed": false,
     "input": [
      "data = pd.read_csv(\"prelim_data.csv\")\n",
      "data['Article'] = data['Article'].apply(lambda x: str(re.sub('[^\\w\\s]+', '', x)))\n",
      "data['Article'] = data['Article'].apply(lambda x: str(re.sub('[\\r]+', ' ', x)))"
     ],
     "language": "python",
     "metadata": {},
     "outputs": [],
     "prompt_number": 63
    },
    {
     "cell_type": "code",
     "collapsed": false,
     "input": [
      "vec = TfidfVectorizer(stop_words='english')"
     ],
     "language": "python",
     "metadata": {},
     "outputs": [],
     "prompt_number": 64
    },
    {
     "cell_type": "code",
     "collapsed": false,
     "input": [
      "X = data['Article'].values\n",
      "label = data['source'].values\n",
      "y = data['rating']\n",
      "test_indices = [0, 5, 10, 15, 20]\n",
      "train_indices = [num for num in range(25) if num not in test_indices]\n",
      "X_train, X_test = X[train_indices], X[test_indices]\n",
      "y_train, y_test = y[train_indices], y[test_indices]\n",
      "label_train, label_test = label[train_indices], label[test_indices]\n",
      "X_train_mat = vec.fit_transform(X_train).toarray()\n",
      "X_test_mat = vec.transform(X_test).toarray()"
     ],
     "language": "python",
     "metadata": {},
     "outputs": [],
     "prompt_number": 109
    },
    {
     "cell_type": "code",
     "collapsed": false,
     "input": [
      "rf = RandomForestRegressor() \n",
      "rf.fit(X_train_mat, y_train)"
     ],
     "language": "python",
     "metadata": {},
     "outputs": [
      {
       "metadata": {},
       "output_type": "pyout",
       "prompt_number": 120,
       "text": [
        "RandomForestRegressor(bootstrap=True, compute_importances=None,\n",
        "           criterion='mse', max_depth=None, max_features='auto',\n",
        "           min_density=None, min_samples_leaf=1, min_samples_split=2,\n",
        "           n_estimators=10, n_jobs=1, oob_score=False, random_state=None,\n",
        "           verbose=0)"
       ]
      }
     ],
     "prompt_number": 120
    },
    {
     "cell_type": "code",
     "collapsed": false,
     "input": [
      "rf.predict(X_train_mat)"
     ],
     "language": "python",
     "metadata": {},
     "outputs": [
      {
       "metadata": {},
       "output_type": "pyout",
       "prompt_number": 121,
       "text": [
        "array([ 0.38,  0.24,  0.27,  0.29,  0.42,  0.43,  0.32,  0.47,  0.64,\n",
        "        0.65,  0.63,  0.62,  0.62,  0.59,  0.55,  0.47,  0.16,  0.13,\n",
        "        0.13,  0.15])"
       ]
      }
     ],
     "prompt_number": 121
    },
    {
     "cell_type": "code",
     "collapsed": false,
     "input": [
      "label_train"
     ],
     "language": "python",
     "metadata": {},
     "outputs": [
      {
       "metadata": {},
       "output_type": "pyout",
       "prompt_number": 122,
       "text": [
        "array(['npr', 'npr', 'npr', 'npr', 'cnn', 'cnn', 'cnn', 'cnn', 'fox',\n",
        "       'fox', 'fox', 'fox', 'msnbc', 'msnbc', 'msnbc', 'msnbc',\n",
        "       'wikipedia', 'wikipedia', 'wikipedia', 'wikipedia'], dtype=object)"
       ]
      }
     ],
     "prompt_number": 122
    },
    {
     "cell_type": "code",
     "collapsed": false,
     "input": [
      "rf.score(X_train_mat, y_train)"
     ],
     "language": "python",
     "metadata": {},
     "outputs": [
      {
       "metadata": {},
       "output_type": "pyout",
       "prompt_number": 123,
       "text": [
        "0.863719512195122"
       ]
      }
     ],
     "prompt_number": 123
    },
    {
     "cell_type": "code",
     "collapsed": false,
     "input": [
      "rf.score(X_test_mat, y_test)"
     ],
     "language": "python",
     "metadata": {},
     "outputs": [
      {
       "metadata": {},
       "output_type": "pyout",
       "prompt_number": 124,
       "text": [
        "0.16097560975609748"
       ]
      }
     ],
     "prompt_number": 124
    },
    {
     "cell_type": "code",
     "collapsed": false,
     "input": [
      "rf.predict(X_test_mat)"
     ],
     "language": "python",
     "metadata": {},
     "outputs": [
      {
       "metadata": {},
       "output_type": "pyout",
       "prompt_number": 125,
       "text": [
        "array([ 0.42,  0.5 ,  0.5 ,  0.42,  0.38])"
       ]
      }
     ],
     "prompt_number": 125
    },
    {
     "cell_type": "code",
     "collapsed": false,
     "input": [
      "label_test"
     ],
     "language": "python",
     "metadata": {},
     "outputs": [
      {
       "metadata": {},
       "output_type": "pyout",
       "prompt_number": 126,
       "text": [
        "array(['npr', 'cnn', 'fox', 'msnbc', 'wikipedia'], dtype=object)"
       ]
      }
     ],
     "prompt_number": 126
    },
    {
     "cell_type": "code",
     "collapsed": false,
     "input": [
      "X_train_mat.shape"
     ],
     "language": "python",
     "metadata": {},
     "outputs": [
      {
       "metadata": {},
       "output_type": "pyout",
       "prompt_number": 128,
       "text": [
        "(20, 5693)"
       ]
      }
     ],
     "prompt_number": 128
    },
    {
     "cell_type": "code",
     "collapsed": false,
     "input": [
      "data"
     ],
     "language": "python",
     "metadata": {},
     "outputs": [
      {
       "html": [
        "<div style=\"max-height:1000px;max-width:1500px;overflow:auto;\">\n",
        "<table border=\"1\" class=\"dataframe\">\n",
        "  <thead>\n",
        "    <tr style=\"text-align: right;\">\n",
        "      <th></th>\n",
        "      <th>Article</th>\n",
        "      <th>source</th>\n",
        "      <th>rating</th>\n",
        "    </tr>\n",
        "  </thead>\n",
        "  <tbody>\n",
        "    <tr>\n",
        "      <th>0 </th>\n",
        "      <td> Tom Magliozzi one of public radios most popula...</td>\n",
        "      <td>       npr</td>\n",
        "      <td> 0.2</td>\n",
        "    </tr>\n",
        "    <tr>\n",
        "      <th>1 </th>\n",
        "      <td> Twice a year most Americans do a truly bizarre...</td>\n",
        "      <td>       npr</td>\n",
        "      <td> 0.2</td>\n",
        "    </tr>\n",
        "    <tr>\n",
        "      <th>2 </th>\n",
        "      <td> Brittany Maynard was a beautiful anomaly Most ...</td>\n",
        "      <td>       npr</td>\n",
        "      <td> 0.2</td>\n",
        "    </tr>\n",
        "    <tr>\n",
        "      <th>3 </th>\n",
        "      <td> Nigeria has been a stubborn hot spot of polio ...</td>\n",
        "      <td>       npr</td>\n",
        "      <td> 0.2</td>\n",
        "    </tr>\n",
        "    <tr>\n",
        "      <th>4 </th>\n",
        "      <td> My own personal opinion is that time is a huma...</td>\n",
        "      <td>       npr</td>\n",
        "      <td> 0.2</td>\n",
        "    </tr>\n",
        "    <tr>\n",
        "      <th>5 </th>\n",
        "      <td> Brittany Maynard the 29yearold who said she ha...</td>\n",
        "      <td>       cnn</td>\n",
        "      <td> 0.4</td>\n",
        "    </tr>\n",
        "    <tr>\n",
        "      <th>6 </th>\n",
        "      <td> Our trip around the Inside Politics table was ...</td>\n",
        "      <td>       cnn</td>\n",
        "      <td> 0.4</td>\n",
        "    </tr>\n",
        "    <tr>\n",
        "      <th>7 </th>\n",
        "      <td> Days after Virgin Galactics SpaceShipTwo disin...</td>\n",
        "      <td>       cnn</td>\n",
        "      <td> 0.4</td>\n",
        "    </tr>\n",
        "    <tr>\n",
        "      <th>8 </th>\n",
        "      <td> Love was in the air on Sunday for Dottie Coven...</td>\n",
        "      <td>       cnn</td>\n",
        "      <td> 0.4</td>\n",
        "    </tr>\n",
        "    <tr>\n",
        "      <th>9 </th>\n",
        "      <td> Swirling winds and heavy downpours probably di...</td>\n",
        "      <td>       cnn</td>\n",
        "      <td> 0.4</td>\n",
        "    </tr>\n",
        "    <tr>\n",
        "      <th>10</th>\n",
        "      <td> Senate Republican Leader Mitch McConnell is pu...</td>\n",
        "      <td>       fox</td>\n",
        "      <td> 0.7</td>\n",
        "    </tr>\n",
        "    <tr>\n",
        "      <th>11</th>\n",
        "      <td> While all the preElection Day chatter centers ...</td>\n",
        "      <td>       fox</td>\n",
        "      <td> 0.7</td>\n",
        "    </tr>\n",
        "    <tr>\n",
        "      <th>12</th>\n",
        "      <td> Al Qaedatied fighters reportedly overran Weste...</td>\n",
        "      <td>       fox</td>\n",
        "      <td> 0.7</td>\n",
        "    </tr>\n",
        "    <tr>\n",
        "      <th>13</th>\n",
        "      <td> The State Department insisted Wednesday that a...</td>\n",
        "      <td>       fox</td>\n",
        "      <td> 0.7</td>\n",
        "    </tr>\n",
        "    <tr>\n",
        "      <th>14</th>\n",
        "      <td> Private spaceflight company Orbital Sciences C...</td>\n",
        "      <td>       fox</td>\n",
        "      <td> 0.7</td>\n",
        "    </tr>\n",
        "    <tr>\n",
        "      <th>15</th>\n",
        "      <td> Police in Michigan on Monday were focusing on ...</td>\n",
        "      <td>     msnbc</td>\n",
        "      <td> 0.6</td>\n",
        "    </tr>\n",
        "    <tr>\n",
        "      <th>16</th>\n",
        "      <td> SpaceShipTwos unique tail section which can fe...</td>\n",
        "      <td>     msnbc</td>\n",
        "      <td> 0.6</td>\n",
        "    </tr>\n",
        "    <tr>\n",
        "      <th>17</th>\n",
        "      <td> If tea party firebrand Sen Ted Cruz has his wa...</td>\n",
        "      <td>     msnbc</td>\n",
        "      <td> 0.6</td>\n",
        "    </tr>\n",
        "    <tr>\n",
        "      <th>18</th>\n",
        "      <td> Even after six years President Obamas loudest ...</td>\n",
        "      <td>     msnbc</td>\n",
        "      <td> 0.6</td>\n",
        "    </tr>\n",
        "    <tr>\n",
        "      <th>19</th>\n",
        "      <td> There has been no Todd Akin in this election c...</td>\n",
        "      <td>     msnbc</td>\n",
        "      <td> 0.6</td>\n",
        "    </tr>\n",
        "    <tr>\n",
        "      <th>20</th>\n",
        "      <td> The Bivalvia in previous centuries referred to...</td>\n",
        "      <td> wikipedia</td>\n",
        "      <td> 0.0</td>\n",
        "    </tr>\n",
        "    <tr>\n",
        "      <th>21</th>\n",
        "      <td> One World Trade Center also 1 World Trade Cent...</td>\n",
        "      <td> wikipedia</td>\n",
        "      <td> 0.0</td>\n",
        "    </tr>\n",
        "    <tr>\n",
        "      <th>22</th>\n",
        "      <td> The Scaled Composites Model 339 SpaceShipTwo S...</td>\n",
        "      <td> wikipedia</td>\n",
        "      <td> 0.0</td>\n",
        "    </tr>\n",
        "    <tr>\n",
        "      <th>23</th>\n",
        "      <td> As of 2014 the most widespread epidemic of Ebo...</td>\n",
        "      <td> wikipedia</td>\n",
        "      <td> 0.0</td>\n",
        "    </tr>\n",
        "    <tr>\n",
        "      <th>24</th>\n",
        "      <td> The French Invasion of Russia French Campagne ...</td>\n",
        "      <td> wikipedia</td>\n",
        "      <td> 0.0</td>\n",
        "    </tr>\n",
        "  </tbody>\n",
        "</table>\n",
        "</div>"
       ],
       "metadata": {},
       "output_type": "pyout",
       "prompt_number": 129,
       "text": [
        "                                              Article     source  rating\n",
        "0   Tom Magliozzi one of public radios most popula...        npr     0.2\n",
        "1   Twice a year most Americans do a truly bizarre...        npr     0.2\n",
        "2   Brittany Maynard was a beautiful anomaly Most ...        npr     0.2\n",
        "3   Nigeria has been a stubborn hot spot of polio ...        npr     0.2\n",
        "4   My own personal opinion is that time is a huma...        npr     0.2\n",
        "5   Brittany Maynard the 29yearold who said she ha...        cnn     0.4\n",
        "6   Our trip around the Inside Politics table was ...        cnn     0.4\n",
        "7   Days after Virgin Galactics SpaceShipTwo disin...        cnn     0.4\n",
        "8   Love was in the air on Sunday for Dottie Coven...        cnn     0.4\n",
        "9   Swirling winds and heavy downpours probably di...        cnn     0.4\n",
        "10  Senate Republican Leader Mitch McConnell is pu...        fox     0.7\n",
        "11  While all the preElection Day chatter centers ...        fox     0.7\n",
        "12  Al Qaedatied fighters reportedly overran Weste...        fox     0.7\n",
        "13  The State Department insisted Wednesday that a...        fox     0.7\n",
        "14  Private spaceflight company Orbital Sciences C...        fox     0.7\n",
        "15  Police in Michigan on Monday were focusing on ...      msnbc     0.6\n",
        "16  SpaceShipTwos unique tail section which can fe...      msnbc     0.6\n",
        "17  If tea party firebrand Sen Ted Cruz has his wa...      msnbc     0.6\n",
        "18  Even after six years President Obamas loudest ...      msnbc     0.6\n",
        "19  There has been no Todd Akin in this election c...      msnbc     0.6\n",
        "20  The Bivalvia in previous centuries referred to...  wikipedia     0.0\n",
        "21  One World Trade Center also 1 World Trade Cent...  wikipedia     0.0\n",
        "22  The Scaled Composites Model 339 SpaceShipTwo S...  wikipedia     0.0\n",
        "23  As of 2014 the most widespread epidemic of Ebo...  wikipedia     0.0\n",
        "24  The French Invasion of Russia French Campagne ...  wikipedia     0.0"
       ]
      }
     ],
     "prompt_number": 129
    },
    {
     "cell_type": "code",
     "collapsed": false,
     "input": [
      "vec.transform(X_test)"
     ],
     "language": "python",
     "metadata": {},
     "outputs": [
      {
       "metadata": {},
       "output_type": "pyout",
       "prompt_number": 130,
       "text": [
        "<5x5693 sparse matrix of type '<type 'numpy.float64'>'\n",
        "\twith 1038 stored elements in Compressed Sparse Row format>"
       ]
      }
     ],
     "prompt_number": 130
    },
    {
     "cell_type": "code",
     "collapsed": false,
     "input": [
      "rf."
     ],
     "language": "python",
     "metadata": {},
     "outputs": []
    }
   ],
   "metadata": {}
  }
 ]
}