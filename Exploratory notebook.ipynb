{
 "metadata": {
  "name": "",
  "signature": "sha256:62a8076bfe18b2b3476801d083522e74c1db696dac9ee7380445115df323839e"
 },
 "nbformat": 3,
 "nbformat_minor": 0,
 "worksheets": [
  {
   "cells": [
    {
     "cell_type": "code",
     "collapsed": false,
     "input": [
      "%pylab inline\n",
      "import pandas as pd\n",
      "import numpy as np\n",
      "from sklearn.feature_extraction.text import TfidfVectorizer\n",
      "import re\n",
      "from sklearn.naive_bayes import MultinomialNB\n",
      "from sklearn.ensemble import RandomForestRegressor, RandomForestClassifier\n",
      "from sklearn.cross_validation import cross_val_score"
     ],
     "language": "python",
     "metadata": {},
     "outputs": [
      {
       "output_type": "stream",
       "stream": "stdout",
       "text": [
        "Populating the interactive namespace from numpy and matplotlib\n"
       ]
      }
     ],
     "prompt_number": 92
    },
    {
     "cell_type": "code",
     "collapsed": false,
     "input": [
      "data = pd.read_csv(\"prelim_data.csv\")\n",
      "data['Article'] = data['Article'].apply(lambda x: str(re.sub('[^\\w\\s]+', '', x)))\n",
      "data['Article'] = data['Article'].apply(lambda x: str(re.sub('[\\r]+', ' ', x)))"
     ],
     "language": "python",
     "metadata": {},
     "outputs": [],
     "prompt_number": 63
    },
    {
     "cell_type": "code",
     "collapsed": false,
     "input": [
      "vec = TfidfVectorizer(stop_words='english')"
     ],
     "language": "python",
     "metadata": {},
     "outputs": [],
     "prompt_number": 64
    },
    {
     "cell_type": "code",
     "collapsed": false,
     "input": [
      "X = data['Article'].values\n",
      "label = data['source'].values\n",
      "y = data['rating']\n",
      "test_indices = [0, 5, 10, 15, 20]\n",
      "train_indices = [num for num in range(25) if num not in test_indices]\n",
      "X_train, X_test = X[train_indices], X[test_indices]\n",
      "y_train, y_test = y[train_indices], y[test_indices]\n",
      "label_train, label_test = label[train_indices], label[test_indices]\n",
      "X_train_mat = vec.fit_transform(X_train).toarray()\n",
      "X_test_mat = vec.transform(X_test).toarray()"
     ],
     "language": "python",
     "metadata": {},
     "outputs": [],
     "prompt_number": 65
    },
    {
     "cell_type": "code",
     "collapsed": false,
     "input": [
      "rf = RandomForestRegressor() \n",
      "rf.fit(X_train_mat, y_train)"
     ],
     "language": "python",
     "metadata": {},
     "outputs": [
      {
       "metadata": {},
       "output_type": "pyout",
       "prompt_number": 66,
       "text": [
        "RandomForestRegressor(bootstrap=True, compute_importances=None,\n",
        "           criterion='mse', max_depth=None, max_features='auto',\n",
        "           min_density=None, min_samples_leaf=1, min_samples_split=2,\n",
        "           n_estimators=10, n_jobs=1, oob_score=False, random_state=None,\n",
        "           verbose=0)"
       ]
      }
     ],
     "prompt_number": 66
    },
    {
     "cell_type": "code",
     "collapsed": false,
     "input": [
      "rf.predict(X_train_mat)"
     ],
     "language": "python",
     "metadata": {},
     "outputs": [
      {
       "metadata": {},
       "output_type": "pyout",
       "prompt_number": 67,
       "text": [
        "array([ 0.32,  0.45,  0.27,  0.29,  0.46,  0.49,  0.39,  0.46,  0.66,\n",
        "        0.66,  0.65,  0.65,  0.55,  0.57,  0.55,  0.53,  0.11,  0.13,\n",
        "        0.09,  0.09])"
       ]
      }
     ],
     "prompt_number": 67
    },
    {
     "cell_type": "code",
     "collapsed": false,
     "input": [
      "label_train"
     ],
     "language": "python",
     "metadata": {},
     "outputs": [
      {
       "metadata": {},
       "output_type": "pyout",
       "prompt_number": 68,
       "text": [
        "array(['npr', 'npr', 'npr', 'npr', 'cnn', 'cnn', 'cnn', 'cnn', 'fox',\n",
        "       'fox', 'fox', 'fox', 'msnbc', 'msnbc', 'msnbc', 'msnbc',\n",
        "       'wikipedia', 'wikipedia', 'wikipedia', 'wikipedia'], dtype=object)"
       ]
      }
     ],
     "prompt_number": 68
    },
    {
     "cell_type": "code",
     "collapsed": false,
     "input": [
      "rf.score(X_train_mat, y_train)"
     ],
     "language": "python",
     "metadata": {},
     "outputs": [
      {
       "metadata": {},
       "output_type": "pyout",
       "prompt_number": 69,
       "text": [
        "0.87080792682926833"
       ]
      }
     ],
     "prompt_number": 69
    },
    {
     "cell_type": "code",
     "collapsed": false,
     "input": [
      "rf.score(X_test_mat, y_test)"
     ],
     "language": "python",
     "metadata": {},
     "outputs": [
      {
       "metadata": {},
       "output_type": "pyout",
       "prompt_number": 70,
       "text": [
        "0.25762195121951215"
       ]
      }
     ],
     "prompt_number": 70
    },
    {
     "cell_type": "code",
     "collapsed": false,
     "input": [
      "rf.predict(X_test_mat)"
     ],
     "language": "python",
     "metadata": {},
     "outputs": [
      {
       "metadata": {},
       "output_type": "pyout",
       "prompt_number": 71,
       "text": [
        "array([ 0.52,  0.59,  0.53,  0.4 ,  0.19])"
       ]
      }
     ],
     "prompt_number": 71
    },
    {
     "cell_type": "code",
     "collapsed": false,
     "input": [
      "label_test"
     ],
     "language": "python",
     "metadata": {},
     "outputs": [
      {
       "metadata": {},
       "output_type": "pyout",
       "prompt_number": 126,
       "text": [
        "array(['npr', 'cnn', 'fox', 'msnbc', 'wikipedia'], dtype=object)"
       ]
      }
     ],
     "prompt_number": 126
    },
    {
     "cell_type": "code",
     "collapsed": false,
     "input": [
      "X_train_mat.shape"
     ],
     "language": "python",
     "metadata": {},
     "outputs": [
      {
       "metadata": {},
       "output_type": "pyout",
       "prompt_number": 128,
       "text": [
        "(20, 5693)"
       ]
      }
     ],
     "prompt_number": 128
    },
    {
     "cell_type": "code",
     "collapsed": false,
     "input": [
      "data"
     ],
     "language": "python",
     "metadata": {},
     "outputs": [
      {
       "html": [
        "<div style=\"max-height:1000px;max-width:1500px;overflow:auto;\">\n",
        "<table border=\"1\" class=\"dataframe\">\n",
        "  <thead>\n",
        "    <tr style=\"text-align: right;\">\n",
        "      <th></th>\n",
        "      <th>Article</th>\n",
        "      <th>source</th>\n",
        "      <th>rating</th>\n",
        "    </tr>\n",
        "  </thead>\n",
        "  <tbody>\n",
        "    <tr>\n",
        "      <th>0 </th>\n",
        "      <td> Tom Magliozzi one of public radios most popula...</td>\n",
        "      <td>       npr</td>\n",
        "      <td> 0.2</td>\n",
        "    </tr>\n",
        "    <tr>\n",
        "      <th>1 </th>\n",
        "      <td> Twice a year most Americans do a truly bizarre...</td>\n",
        "      <td>       npr</td>\n",
        "      <td> 0.2</td>\n",
        "    </tr>\n",
        "    <tr>\n",
        "      <th>2 </th>\n",
        "      <td> Brittany Maynard was a beautiful anomaly Most ...</td>\n",
        "      <td>       npr</td>\n",
        "      <td> 0.2</td>\n",
        "    </tr>\n",
        "    <tr>\n",
        "      <th>3 </th>\n",
        "      <td> Nigeria has been a stubborn hot spot of polio ...</td>\n",
        "      <td>       npr</td>\n",
        "      <td> 0.2</td>\n",
        "    </tr>\n",
        "    <tr>\n",
        "      <th>4 </th>\n",
        "      <td> My own personal opinion is that time is a huma...</td>\n",
        "      <td>       npr</td>\n",
        "      <td> 0.2</td>\n",
        "    </tr>\n",
        "    <tr>\n",
        "      <th>5 </th>\n",
        "      <td> Brittany Maynard the 29yearold who said she ha...</td>\n",
        "      <td>       cnn</td>\n",
        "      <td> 0.4</td>\n",
        "    </tr>\n",
        "    <tr>\n",
        "      <th>6 </th>\n",
        "      <td> Our trip around the Inside Politics table was ...</td>\n",
        "      <td>       cnn</td>\n",
        "      <td> 0.4</td>\n",
        "    </tr>\n",
        "    <tr>\n",
        "      <th>7 </th>\n",
        "      <td> Days after Virgin Galactics SpaceShipTwo disin...</td>\n",
        "      <td>       cnn</td>\n",
        "      <td> 0.4</td>\n",
        "    </tr>\n",
        "    <tr>\n",
        "      <th>8 </th>\n",
        "      <td> Love was in the air on Sunday for Dottie Coven...</td>\n",
        "      <td>       cnn</td>\n",
        "      <td> 0.4</td>\n",
        "    </tr>\n",
        "    <tr>\n",
        "      <th>9 </th>\n",
        "      <td> Swirling winds and heavy downpours probably di...</td>\n",
        "      <td>       cnn</td>\n",
        "      <td> 0.4</td>\n",
        "    </tr>\n",
        "    <tr>\n",
        "      <th>10</th>\n",
        "      <td> Senate Republican Leader Mitch McConnell is pu...</td>\n",
        "      <td>       fox</td>\n",
        "      <td> 0.7</td>\n",
        "    </tr>\n",
        "    <tr>\n",
        "      <th>11</th>\n",
        "      <td> While all the preElection Day chatter centers ...</td>\n",
        "      <td>       fox</td>\n",
        "      <td> 0.7</td>\n",
        "    </tr>\n",
        "    <tr>\n",
        "      <th>12</th>\n",
        "      <td> Al Qaedatied fighters reportedly overran Weste...</td>\n",
        "      <td>       fox</td>\n",
        "      <td> 0.7</td>\n",
        "    </tr>\n",
        "    <tr>\n",
        "      <th>13</th>\n",
        "      <td> The State Department insisted Wednesday that a...</td>\n",
        "      <td>       fox</td>\n",
        "      <td> 0.7</td>\n",
        "    </tr>\n",
        "    <tr>\n",
        "      <th>14</th>\n",
        "      <td> Private spaceflight company Orbital Sciences C...</td>\n",
        "      <td>       fox</td>\n",
        "      <td> 0.7</td>\n",
        "    </tr>\n",
        "    <tr>\n",
        "      <th>15</th>\n",
        "      <td> Police in Michigan on Monday were focusing on ...</td>\n",
        "      <td>     msnbc</td>\n",
        "      <td> 0.6</td>\n",
        "    </tr>\n",
        "    <tr>\n",
        "      <th>16</th>\n",
        "      <td> SpaceShipTwos unique tail section which can fe...</td>\n",
        "      <td>     msnbc</td>\n",
        "      <td> 0.6</td>\n",
        "    </tr>\n",
        "    <tr>\n",
        "      <th>17</th>\n",
        "      <td> If tea party firebrand Sen Ted Cruz has his wa...</td>\n",
        "      <td>     msnbc</td>\n",
        "      <td> 0.6</td>\n",
        "    </tr>\n",
        "    <tr>\n",
        "      <th>18</th>\n",
        "      <td> Even after six years President Obamas loudest ...</td>\n",
        "      <td>     msnbc</td>\n",
        "      <td> 0.6</td>\n",
        "    </tr>\n",
        "    <tr>\n",
        "      <th>19</th>\n",
        "      <td> There has been no Todd Akin in this election c...</td>\n",
        "      <td>     msnbc</td>\n",
        "      <td> 0.6</td>\n",
        "    </tr>\n",
        "    <tr>\n",
        "      <th>20</th>\n",
        "      <td> The Bivalvia in previous centuries referred to...</td>\n",
        "      <td> wikipedia</td>\n",
        "      <td> 0.0</td>\n",
        "    </tr>\n",
        "    <tr>\n",
        "      <th>21</th>\n",
        "      <td> One World Trade Center also 1 World Trade Cent...</td>\n",
        "      <td> wikipedia</td>\n",
        "      <td> 0.0</td>\n",
        "    </tr>\n",
        "    <tr>\n",
        "      <th>22</th>\n",
        "      <td> The Scaled Composites Model 339 SpaceShipTwo S...</td>\n",
        "      <td> wikipedia</td>\n",
        "      <td> 0.0</td>\n",
        "    </tr>\n",
        "    <tr>\n",
        "      <th>23</th>\n",
        "      <td> As of 2014 the most widespread epidemic of Ebo...</td>\n",
        "      <td> wikipedia</td>\n",
        "      <td> 0.0</td>\n",
        "    </tr>\n",
        "    <tr>\n",
        "      <th>24</th>\n",
        "      <td> The French Invasion of Russia French Campagne ...</td>\n",
        "      <td> wikipedia</td>\n",
        "      <td> 0.0</td>\n",
        "    </tr>\n",
        "  </tbody>\n",
        "</table>\n",
        "</div>"
       ],
       "metadata": {},
       "output_type": "pyout",
       "prompt_number": 129,
       "text": [
        "                                              Article     source  rating\n",
        "0   Tom Magliozzi one of public radios most popula...        npr     0.2\n",
        "1   Twice a year most Americans do a truly bizarre...        npr     0.2\n",
        "2   Brittany Maynard was a beautiful anomaly Most ...        npr     0.2\n",
        "3   Nigeria has been a stubborn hot spot of polio ...        npr     0.2\n",
        "4   My own personal opinion is that time is a huma...        npr     0.2\n",
        "5   Brittany Maynard the 29yearold who said she ha...        cnn     0.4\n",
        "6   Our trip around the Inside Politics table was ...        cnn     0.4\n",
        "7   Days after Virgin Galactics SpaceShipTwo disin...        cnn     0.4\n",
        "8   Love was in the air on Sunday for Dottie Coven...        cnn     0.4\n",
        "9   Swirling winds and heavy downpours probably di...        cnn     0.4\n",
        "10  Senate Republican Leader Mitch McConnell is pu...        fox     0.7\n",
        "11  While all the preElection Day chatter centers ...        fox     0.7\n",
        "12  Al Qaedatied fighters reportedly overran Weste...        fox     0.7\n",
        "13  The State Department insisted Wednesday that a...        fox     0.7\n",
        "14  Private spaceflight company Orbital Sciences C...        fox     0.7\n",
        "15  Police in Michigan on Monday were focusing on ...      msnbc     0.6\n",
        "16  SpaceShipTwos unique tail section which can fe...      msnbc     0.6\n",
        "17  If tea party firebrand Sen Ted Cruz has his wa...      msnbc     0.6\n",
        "18  Even after six years President Obamas loudest ...      msnbc     0.6\n",
        "19  There has been no Todd Akin in this election c...      msnbc     0.6\n",
        "20  The Bivalvia in previous centuries referred to...  wikipedia     0.0\n",
        "21  One World Trade Center also 1 World Trade Cent...  wikipedia     0.0\n",
        "22  The Scaled Composites Model 339 SpaceShipTwo S...  wikipedia     0.0\n",
        "23  As of 2014 the most widespread epidemic of Ebo...  wikipedia     0.0\n",
        "24  The French Invasion of Russia French Campagne ...  wikipedia     0.0"
       ]
      }
     ],
     "prompt_number": 129
    },
    {
     "cell_type": "code",
     "collapsed": false,
     "input": [
      "vec.transform(X_test)"
     ],
     "language": "python",
     "metadata": {},
     "outputs": [
      {
       "metadata": {},
       "output_type": "pyout",
       "prompt_number": 130,
       "text": [
        "<5x5693 sparse matrix of type '<type 'numpy.float64'>'\n",
        "\twith 1038 stored elements in Compressed Sparse Row format>"
       ]
      }
     ],
     "prompt_number": 130
    },
    {
     "cell_type": "code",
     "collapsed": false,
     "input": [
      "#scrape cnn data\n",
      "import requests\n",
      "from bs4 import BeautifulSoup"
     ],
     "language": "python",
     "metadata": {},
     "outputs": [],
     "prompt_number": 2
    },
    {
     "cell_type": "code",
     "collapsed": false,
     "input": [
      "req = requests.get(\"http://www.cnn.com/services/rss/\")\n",
      "soup = BeautifulSoup(req.text)"
     ],
     "language": "python",
     "metadata": {},
     "outputs": [],
     "prompt_number": 2
    },
    {
     "cell_type": "code",
     "collapsed": false,
     "input": [
      "links = [link['href'] for link in soup.findAll(\"a\", href=True) if link['href'][0:14] == \"http://rss.cnn\"]\n",
      "more_links = [link['href'] for link in soup.findAll(\"link\", href=True) if link['href'][0:14] == \"http://rss.cnn\"]\n",
      "links = list(set(links).union(set(more_links)))"
     ],
     "language": "python",
     "metadata": {},
     "outputs": [],
     "prompt_number": 3
    },
    {
     "cell_type": "code",
     "collapsed": false,
     "input": [
      "tech = requests.get('http://rss.cnn.com/rss/cnn_tech.rss', )\n",
      "soup = BeautifulSoup(tech.text, 'html.parser')"
     ],
     "language": "python",
     "metadata": {},
     "outputs": [],
     "prompt_number": 29
    },
    {
     "cell_type": "code",
     "collapsed": false,
     "input": [
      "#only run once\n",
      "sublinks = []\n",
      "for link in links:\n",
      "    tech = requests.get(link)\n",
      "    soup = BeautifulSoup(tech.text, 'html.parser')\n",
      "    sublinks.extend([link.text for link in soup.findAll('link') if link.text[:10] == 'http://rss'])"
     ],
     "language": "python",
     "metadata": {},
     "outputs": [],
     "prompt_number": 24
    },
    {
     "cell_type": "code",
     "collapsed": false,
     "input": [
      "all_articles = []\n",
      "for link in sublinks:\n",
      "    req = requests.get(link)\n",
      "    soup = BeautifulSoup(req.text)\n",
      "    article_text = ''\n",
      "    for par in soup.findAll('p'): # {'class' : 'cnn_storypgraphtxt'}\n",
      "        article_text += ' ' + par.text\n",
      "    all_articles.append(article_text)"
     ],
     "language": "python",
     "metadata": {},
     "outputs": [
      {
       "ename": "ConnectionError",
       "evalue": "HTTPConnectionPool(host='www.cnn.com', port=80): Max retries exceeded with url: /2014/10/21/us/north-carolina-u-boat-wreck/index.html?utm_source=feedburner&utm_medium=feed&utm_campaign=Feed%3A+rss%2Fcnn_us+%28RSS%3A+U.S.%29 (Caused by <class 'httplib.BadStatusLine'>: '')",
       "output_type": "pyerr",
       "traceback": [
        "\u001b[0;31m---------------------------------------------------------------------------\u001b[0m\n\u001b[0;31mConnectionError\u001b[0m                           Traceback (most recent call last)",
        "\u001b[0;32m<ipython-input-106-b9350d071769>\u001b[0m in \u001b[0;36m<module>\u001b[0;34m()\u001b[0m\n\u001b[1;32m      1\u001b[0m \u001b[0mall_articles\u001b[0m \u001b[0;34m=\u001b[0m \u001b[0;34m[\u001b[0m\u001b[0;34m]\u001b[0m\u001b[0;34m\u001b[0m\u001b[0m\n\u001b[1;32m      2\u001b[0m \u001b[0;32mfor\u001b[0m \u001b[0mlink\u001b[0m \u001b[0;32min\u001b[0m \u001b[0msublinks\u001b[0m\u001b[0;34m:\u001b[0m\u001b[0;34m\u001b[0m\u001b[0m\n\u001b[0;32m----> 3\u001b[0;31m     \u001b[0mreq\u001b[0m \u001b[0;34m=\u001b[0m \u001b[0mrequests\u001b[0m\u001b[0;34m.\u001b[0m\u001b[0mget\u001b[0m\u001b[0;34m(\u001b[0m\u001b[0mlink\u001b[0m\u001b[0;34m)\u001b[0m\u001b[0;34m\u001b[0m\u001b[0m\n\u001b[0m\u001b[1;32m      4\u001b[0m     \u001b[0msoup\u001b[0m \u001b[0;34m=\u001b[0m \u001b[0mBeautifulSoup\u001b[0m\u001b[0;34m(\u001b[0m\u001b[0mreq\u001b[0m\u001b[0;34m.\u001b[0m\u001b[0mtext\u001b[0m\u001b[0;34m)\u001b[0m\u001b[0;34m\u001b[0m\u001b[0m\n\u001b[1;32m      5\u001b[0m     \u001b[0marticle_text\u001b[0m \u001b[0;34m=\u001b[0m \u001b[0;34m''\u001b[0m\u001b[0;34m\u001b[0m\u001b[0m\n",
        "\u001b[0;32m/Users/Ted/anaconda/lib/python2.7/site-packages/requests/api.pyc\u001b[0m in \u001b[0;36mget\u001b[0;34m(url, **kwargs)\u001b[0m\n\u001b[1;32m     53\u001b[0m \u001b[0;34m\u001b[0m\u001b[0m\n\u001b[1;32m     54\u001b[0m     \u001b[0mkwargs\u001b[0m\u001b[0;34m.\u001b[0m\u001b[0msetdefault\u001b[0m\u001b[0;34m(\u001b[0m\u001b[0;34m'allow_redirects'\u001b[0m\u001b[0;34m,\u001b[0m \u001b[0mTrue\u001b[0m\u001b[0;34m)\u001b[0m\u001b[0;34m\u001b[0m\u001b[0m\n\u001b[0;32m---> 55\u001b[0;31m     \u001b[0;32mreturn\u001b[0m \u001b[0mrequest\u001b[0m\u001b[0;34m(\u001b[0m\u001b[0;34m'get'\u001b[0m\u001b[0;34m,\u001b[0m \u001b[0murl\u001b[0m\u001b[0;34m,\u001b[0m \u001b[0;34m**\u001b[0m\u001b[0mkwargs\u001b[0m\u001b[0;34m)\u001b[0m\u001b[0;34m\u001b[0m\u001b[0m\n\u001b[0m\u001b[1;32m     56\u001b[0m \u001b[0;34m\u001b[0m\u001b[0m\n\u001b[1;32m     57\u001b[0m \u001b[0;34m\u001b[0m\u001b[0m\n",
        "\u001b[0;32m/Users/Ted/anaconda/lib/python2.7/site-packages/requests/api.pyc\u001b[0m in \u001b[0;36mrequest\u001b[0;34m(method, url, **kwargs)\u001b[0m\n\u001b[1;32m     42\u001b[0m \u001b[0;34m\u001b[0m\u001b[0m\n\u001b[1;32m     43\u001b[0m     \u001b[0msession\u001b[0m \u001b[0;34m=\u001b[0m \u001b[0msessions\u001b[0m\u001b[0;34m.\u001b[0m\u001b[0mSession\u001b[0m\u001b[0;34m(\u001b[0m\u001b[0;34m)\u001b[0m\u001b[0;34m\u001b[0m\u001b[0m\n\u001b[0;32m---> 44\u001b[0;31m     \u001b[0;32mreturn\u001b[0m \u001b[0msession\u001b[0m\u001b[0;34m.\u001b[0m\u001b[0mrequest\u001b[0m\u001b[0;34m(\u001b[0m\u001b[0mmethod\u001b[0m\u001b[0;34m=\u001b[0m\u001b[0mmethod\u001b[0m\u001b[0;34m,\u001b[0m \u001b[0murl\u001b[0m\u001b[0;34m=\u001b[0m\u001b[0murl\u001b[0m\u001b[0;34m,\u001b[0m \u001b[0;34m**\u001b[0m\u001b[0mkwargs\u001b[0m\u001b[0;34m)\u001b[0m\u001b[0;34m\u001b[0m\u001b[0m\n\u001b[0m\u001b[1;32m     45\u001b[0m \u001b[0;34m\u001b[0m\u001b[0m\n\u001b[1;32m     46\u001b[0m \u001b[0;34m\u001b[0m\u001b[0m\n",
        "\u001b[0;32m/Users/Ted/anaconda/lib/python2.7/site-packages/requests/sessions.pyc\u001b[0m in \u001b[0;36mrequest\u001b[0;34m(self, method, url, params, data, headers, cookies, files, auth, timeout, allow_redirects, proxies, hooks, stream, verify, cert)\u001b[0m\n\u001b[1;32m    454\u001b[0m             \u001b[0;34m'allow_redirects'\u001b[0m\u001b[0;34m:\u001b[0m \u001b[0mallow_redirects\u001b[0m\u001b[0;34m,\u001b[0m\u001b[0;34m\u001b[0m\u001b[0m\n\u001b[1;32m    455\u001b[0m         }\n\u001b[0;32m--> 456\u001b[0;31m         \u001b[0mresp\u001b[0m \u001b[0;34m=\u001b[0m \u001b[0mself\u001b[0m\u001b[0;34m.\u001b[0m\u001b[0msend\u001b[0m\u001b[0;34m(\u001b[0m\u001b[0mprep\u001b[0m\u001b[0;34m,\u001b[0m \u001b[0;34m**\u001b[0m\u001b[0msend_kwargs\u001b[0m\u001b[0;34m)\u001b[0m\u001b[0;34m\u001b[0m\u001b[0m\n\u001b[0m\u001b[1;32m    457\u001b[0m \u001b[0;34m\u001b[0m\u001b[0m\n\u001b[1;32m    458\u001b[0m         \u001b[0;32mreturn\u001b[0m \u001b[0mresp\u001b[0m\u001b[0;34m\u001b[0m\u001b[0m\n",
        "\u001b[0;32m/Users/Ted/anaconda/lib/python2.7/site-packages/requests/sessions.pyc\u001b[0m in \u001b[0;36msend\u001b[0;34m(self, request, **kwargs)\u001b[0m\n\u001b[1;32m    583\u001b[0m \u001b[0;34m\u001b[0m\u001b[0m\n\u001b[1;32m    584\u001b[0m         \u001b[0;31m# Resolve redirects if allowed.\u001b[0m\u001b[0;34m\u001b[0m\u001b[0;34m\u001b[0m\u001b[0m\n\u001b[0;32m--> 585\u001b[0;31m         \u001b[0mhistory\u001b[0m \u001b[0;34m=\u001b[0m \u001b[0;34m[\u001b[0m\u001b[0mresp\u001b[0m \u001b[0;32mfor\u001b[0m \u001b[0mresp\u001b[0m \u001b[0;32min\u001b[0m \u001b[0mgen\u001b[0m\u001b[0;34m]\u001b[0m \u001b[0;32mif\u001b[0m \u001b[0mallow_redirects\u001b[0m \u001b[0;32melse\u001b[0m \u001b[0;34m[\u001b[0m\u001b[0;34m]\u001b[0m\u001b[0;34m\u001b[0m\u001b[0m\n\u001b[0m\u001b[1;32m    586\u001b[0m \u001b[0;34m\u001b[0m\u001b[0m\n\u001b[1;32m    587\u001b[0m         \u001b[0;31m# Shuffle things around if there's history.\u001b[0m\u001b[0;34m\u001b[0m\u001b[0;34m\u001b[0m\u001b[0m\n",
        "\u001b[0;32m/Users/Ted/anaconda/lib/python2.7/site-packages/requests/sessions.pyc\u001b[0m in \u001b[0;36mresolve_redirects\u001b[0;34m(self, resp, req, stream, timeout, verify, cert, proxies)\u001b[0m\n\u001b[1;32m    177\u001b[0m                 \u001b[0mcert\u001b[0m\u001b[0;34m=\u001b[0m\u001b[0mcert\u001b[0m\u001b[0;34m,\u001b[0m\u001b[0;34m\u001b[0m\u001b[0m\n\u001b[1;32m    178\u001b[0m                 \u001b[0mproxies\u001b[0m\u001b[0;34m=\u001b[0m\u001b[0mproxies\u001b[0m\u001b[0;34m,\u001b[0m\u001b[0;34m\u001b[0m\u001b[0m\n\u001b[0;32m--> 179\u001b[0;31m                 \u001b[0mallow_redirects\u001b[0m\u001b[0;34m=\u001b[0m\u001b[0mFalse\u001b[0m\u001b[0;34m,\u001b[0m\u001b[0;34m\u001b[0m\u001b[0m\n\u001b[0m\u001b[1;32m    180\u001b[0m             )\n\u001b[1;32m    181\u001b[0m \u001b[0;34m\u001b[0m\u001b[0m\n",
        "\u001b[0;32m/Users/Ted/anaconda/lib/python2.7/site-packages/requests/sessions.pyc\u001b[0m in \u001b[0;36msend\u001b[0;34m(self, request, **kwargs)\u001b[0m\n\u001b[1;32m    557\u001b[0m \u001b[0;34m\u001b[0m\u001b[0m\n\u001b[1;32m    558\u001b[0m         \u001b[0;31m# Send the request\u001b[0m\u001b[0;34m\u001b[0m\u001b[0;34m\u001b[0m\u001b[0m\n\u001b[0;32m--> 559\u001b[0;31m         \u001b[0mr\u001b[0m \u001b[0;34m=\u001b[0m \u001b[0madapter\u001b[0m\u001b[0;34m.\u001b[0m\u001b[0msend\u001b[0m\u001b[0;34m(\u001b[0m\u001b[0mrequest\u001b[0m\u001b[0;34m,\u001b[0m \u001b[0;34m**\u001b[0m\u001b[0mkwargs\u001b[0m\u001b[0;34m)\u001b[0m\u001b[0;34m\u001b[0m\u001b[0m\n\u001b[0m\u001b[1;32m    560\u001b[0m \u001b[0;34m\u001b[0m\u001b[0m\n\u001b[1;32m    561\u001b[0m         \u001b[0;31m# Total elapsed time of the request (approximately)\u001b[0m\u001b[0;34m\u001b[0m\u001b[0;34m\u001b[0m\u001b[0m\n",
        "\u001b[0;32m/Users/Ted/anaconda/lib/python2.7/site-packages/requests/adapters.pyc\u001b[0m in \u001b[0;36msend\u001b[0;34m(self, request, stream, timeout, verify, cert, proxies)\u001b[0m\n\u001b[1;32m    373\u001b[0m \u001b[0;34m\u001b[0m\u001b[0m\n\u001b[1;32m    374\u001b[0m         \u001b[0;32mexcept\u001b[0m \u001b[0mMaxRetryError\u001b[0m \u001b[0;32mas\u001b[0m \u001b[0me\u001b[0m\u001b[0;34m:\u001b[0m\u001b[0;34m\u001b[0m\u001b[0m\n\u001b[0;32m--> 375\u001b[0;31m             \u001b[0;32mraise\u001b[0m \u001b[0mConnectionError\u001b[0m\u001b[0;34m(\u001b[0m\u001b[0me\u001b[0m\u001b[0;34m,\u001b[0m \u001b[0mrequest\u001b[0m\u001b[0;34m=\u001b[0m\u001b[0mrequest\u001b[0m\u001b[0;34m)\u001b[0m\u001b[0;34m\u001b[0m\u001b[0m\n\u001b[0m\u001b[1;32m    376\u001b[0m \u001b[0;34m\u001b[0m\u001b[0m\n\u001b[1;32m    377\u001b[0m         \u001b[0;32mexcept\u001b[0m \u001b[0m_ProxyError\u001b[0m \u001b[0;32mas\u001b[0m \u001b[0me\u001b[0m\u001b[0;34m:\u001b[0m\u001b[0;34m\u001b[0m\u001b[0m\n",
        "\u001b[0;31mConnectionError\u001b[0m: HTTPConnectionPool(host='www.cnn.com', port=80): Max retries exceeded with url: /2014/10/21/us/north-carolina-u-boat-wreck/index.html?utm_source=feedburner&utm_medium=feed&utm_campaign=Feed%3A+rss%2Fcnn_us+%28RSS%3A+U.S.%29 (Caused by <class 'httplib.BadStatusLine'>: '')"
       ]
      }
     ],
     "prompt_number": 106
    },
    {
     "cell_type": "code",
     "collapsed": false,
     "input": [
      "import re\n",
      "cleaned_articles = [str(re.sub('[^\\w\\s]+', '', art)) for art in all_articles]"
     ],
     "language": "python",
     "metadata": {},
     "outputs": [],
     "prompt_number": 107
    },
    {
     "cell_type": "code",
     "collapsed": false,
     "input": [
      "len(cleaned_articles)"
     ],
     "language": "python",
     "metadata": {},
     "outputs": [
      {
       "metadata": {},
       "output_type": "pyout",
       "prompt_number": 108,
       "text": [
        "50"
       ]
      }
     ],
     "prompt_number": 108
    },
    {
     "cell_type": "code",
     "collapsed": false,
     "input": [
      "x = vec.transform(np.array(cleaned_articles[:20])).toarray()"
     ],
     "language": "python",
     "metadata": {},
     "outputs": [],
     "prompt_number": 104
    },
    {
     "cell_type": "code",
     "collapsed": false,
     "input": [
      "rf.predict(x)"
     ],
     "language": "python",
     "metadata": {},
     "outputs": [
      {
       "metadata": {},
       "output_type": "pyout",
       "prompt_number": 105,
       "text": [
        "array([ 0.49,  0.64,  0.35,  0.64,  0.52,  0.4 ,  0.4 ,  0.4 ,  0.38,  0.4 ])"
       ]
      }
     ],
     "prompt_number": 105
    },
    {
     "cell_type": "code",
     "collapsed": false,
     "input": [
      "np.array(cleaned_articles[:5]).shape"
     ],
     "language": "python",
     "metadata": {},
     "outputs": [
      {
       "metadata": {},
       "output_type": "pyout",
       "prompt_number": 77,
       "text": [
        "(5,)"
       ]
      }
     ],
     "prompt_number": 77
    },
    {
     "cell_type": "code",
     "collapsed": false,
     "input": [
      "vec.transform('hello how are you')"
     ],
     "language": "python",
     "metadata": {},
     "outputs": [
      {
       "metadata": {},
       "output_type": "pyout",
       "prompt_number": 57,
       "text": [
        "<17x5693 sparse matrix of type '<type 'numpy.float64'>'\n",
        "\twith 0 stored elements in Compressed Sparse Row format>"
       ]
      }
     ],
     "prompt_number": 57
    },
    {
     "cell_type": "code",
     "collapsed": false,
     "input": [
      "X_test.shape"
     ],
     "language": "python",
     "metadata": {},
     "outputs": [
      {
       "metadata": {},
       "output_type": "pyout",
       "prompt_number": 74,
       "text": [
        "(5,)"
       ]
      }
     ],
     "prompt_number": 74
    },
    {
     "cell_type": "code",
     "collapsed": false,
     "input": [
      "cleaned_articles[0]"
     ],
     "language": "python",
     "metadata": {},
     "outputs": [
      {
       "metadata": {},
       "output_type": "pyout",
       "prompt_number": 85,
       "text": [
        "' Editors note Smart Business explores the ways companies are thinking smart to thrive in our digitized world  CNN  In the narrow winding lanes of Old Delhi the knotted masses of electrical wiring hanging across the streets are sometimes so thickly entwined they blot out the sun In the streets of Bangkok electricity wires loop and run in chaotic bundles from concrete power poles In the slums of Mumbai to the townships of South Africa electricity infrastructure is a triumph of make and mend For power utilities in emerging markets collecting the bills from this tangled skein of wiring is a nightmare and slow payment  even outright energy theft  remains a powerful disincentive for new investment in the sector Smart solutions One company however says smart meters may hold the answers to the power problems of the worlds emerging markets While smart meters have been in use in the United States and Europe for more than a decade in markets such as Africa they are set to encourage muchneeded investment in the sector The devices not only record electricity consumption but relay information back to the utility for monitoring and billing purposes Critically they also require prepayment which means that utilities that produce the power can be sure they will be paid for it Alain Bollack director at the Global Power  Utilities Centre of Ernst and Young said the company worked with the city of Tshwane outside Johannesburg in South Africa to install prepaid smart meters to solve endemic problems of late payment longterm debtors and electricity theft The city had two major problems Bollack told CNN The first was they couldnt collect the cash from customers  either businesses or individuals They had 800000 customers that were an average 500 days in arrears The second was that a lot of clients were stealing electricity and thats very common in emerging markets Chaotic infrastructure He said the chaotic nature of the electricity infrastructure in places like Africa or India means that stealing energy is easy Often its as easy as hooking onto a line bypassing the meter and getting free energy The first major problem of energy in emerging markets is getting access to it i the first place the second problem is that when there is access it gets stolen He said cities such as Mumbai had worked hard over the past 10 years to reduce the opportunity for consumers to steal electricity Over ten years ago some 65 of the energy produced in Mumbai was not paid for Bollack said Smart meters he said require customers to pay before they consume and also relay information back to the utilities if the meters are tampered with in any way Legislation is key So far some 3000 smart meters have been rolled out in Tshwane particularly among high consumers of energy At the core of the solution however is legislation and Bollack said that the city government passed laws to enforce the new rule That might not be very pleasant for many consumers but at the end of the day if you provide a service its quite normal to pay for it Bollack said If you have asked nicely for many many years and people still wont pay then you have a right to enforce that by law He said the value proposition extended to consumers in that they also gained a better picture through smart metering of what and how they consumed electricity Ultimately however energy theft is not a sustainable business model leading to underinvestment more costly production and higher prices Bollack said that Tshwanes foray into smart meters was now being viewed with interest from countries throughout the region including Ghana Zimbabwe Mozambique and parts of Nigeria They are looking at it as a possible way of resolving the financing problem of energy infrastructure in Africa Bollack said If you are lucky if youve got investors from China or the US or Europe who are happy to put billions on the table but dont have any guarantee of return on investment Holy grail He said that smart meters in Africa are fast becoming the holy grail for energy sector investors and ultimately could accelerate investment that would provide power for millions more people in the region While critics might argue that consumers have gone from free albeit stolen electricity to electricity they now cant afford Bollack said smart meters for the first time could reverse the vicious circle created by energy theft The business case for the city of Tshwane is interesting he said Energy is one of the citys main sources of revenue and what they are saying is that smart meters are not being introduced to balance the books but to collect the cash to reinvest it into the community Even though theres a lag between when you collect the cash and reinvest what you ultimately create is a virtuous circle Read this Is this the end of the 95 working day Read this Driverless vehicles The end of the road for the trucker '"
       ]
      }
     ],
     "prompt_number": 85
    },
    {
     "cell_type": "code",
     "collapsed": false,
     "input": [
      "topics = [link.split('/')[5][4:] for link in sublinks]\n"
     ],
     "language": "python",
     "metadata": {},
     "outputs": [],
     "prompt_number": 98
    },
    {
     "cell_type": "code",
     "collapsed": false,
     "input": [
      "len(topics)"
     ],
     "language": "python",
     "metadata": {},
     "outputs": [
      {
       "metadata": {},
       "output_type": "pyout",
       "prompt_number": 100,
       "text": [
        "743"
       ]
      }
     ],
     "prompt_number": 100
    },
    {
     "cell_type": "code",
     "collapsed": false,
     "input": [
      "frame = pd.DataFrame({'text' : cleaned_articles, 'topic' : topics[:50], 'source' : 'CNN', 'rating' : .4}, \\\n",
      "             columns = ['source', 'topic', 'text', 'rating'])"
     ],
     "language": "python",
     "metadata": {},
     "outputs": [],
     "prompt_number": 114
    },
    {
     "cell_type": "code",
     "collapsed": false,
     "input": [
      "frame.to_csv('test_frame.csv', index=False)"
     ],
     "language": "python",
     "metadata": {},
     "outputs": [],
     "prompt_number": 116
    },
    {
     "cell_type": "code",
     "collapsed": false,
     "input": [
      "#get npr articles"
     ],
     "language": "python",
     "metadata": {},
     "outputs": [],
     "prompt_number": 117
    },
    {
     "cell_type": "code",
     "collapsed": false,
     "input": [
      "key = 'MDE3MzEyOTEwMDE0MTUxMjU4MjczNTcwMw001'\n",
      "base = 'http://api.npr.org/query'\n",
      "params = {'apiKey' : key, 'output': 'JSON', 'startDate' : '2014-01-01', 'startNum' : 50}"
     ],
     "language": "python",
     "metadata": {},
     "outputs": [],
     "prompt_number": 190
    },
    {
     "cell_type": "code",
     "collapsed": false,
     "input": [
      "r = requests.get(base, params=params)"
     ],
     "language": "python",
     "metadata": {},
     "outputs": [],
     "prompt_number": 191
    },
    {
     "cell_type": "code",
     "collapsed": false,
     "input": [
      "j = r.json()"
     ],
     "language": "python",
     "metadata": {},
     "outputs": [],
     "prompt_number": 192
    },
    {
     "cell_type": "code",
     "collapsed": false,
     "input": [
      "a = BeautifulSoup(j['list']['story'][1]['fullText']['$text'])\n",
      "str(re.sub('[^\\w\\s]+', '', a.text))"
     ],
     "language": "python",
     "metadata": {},
     "outputs": [
      {
       "metadata": {},
       "output_type": "pyout",
       "prompt_number": 199,
       "text": [
        "' Army Eyes 3D Printed Food for Soldiers     November 04 2014 325 AM ET              Aarti Shahani                   Listen to the Story  Morning Edition   4 min 15 sec         Playlist Download Transcript                                    Army researchers will try to find ways to 3D print nutritious food with less heavy packaging than the current military meals                               Aarti ShahaniNPR              Army scientists have spent decades concocting meals that last without refrigeration and survive highaltitude airdrops And now the Army is eyeing a new form of cooking 3D printing Yes food that comes fresh out of a printer for our troops Lauren Oleksyk a food technologist leading the team at the Armys Natick research center lays out the vision Imagine soldiers who are strapped head to toe with sensors that measure if theyre high or low in potassium or cholesterol We envision to have a 3D printer that is interfaced with the soldier And that sensor can deliver information to the computer software Oleksyk says And then they would be able to have either powdered or liquid matrices that are very nutrient dense that they have on demand that they can take and eat immediately to fill that need Liquid matrices that are nutrient dense And you print them You read that right The Army is turning to 3D printers for many purposes including a nutrition project  to stamp out the equivalent of PowerBars but personalized for the battlefield The Department of Defense has just approved research funding And its going to take a lot of research While regular printers put ink on paper 3D printers blast liquids and powders into complex shapes But its not clear if printers could mold a solid like carrots  and what would happen to the foods nutritional value  Theres synthetic types of meats theres real beef theres real meat Oleksyk says And we would see what that does in the printing process to that protein whether its animal based or plant based Shes talking about this research with the MIT Lincoln Lab and NASA too  Additional Information      The Salt   Spinach Dinosaurs To Sugar Diamonds 3D Printers Hit The Kitchen           The Salt   How The Army Made A Sandwich That Stays Fresh For Two Years         Of course the 3D food will have to pass a taste test just like the current rations  which are called MREs or meals ready to eat Oleksyk mailed me a bunch to sample I try a jalapeno pepper jackflavored patty It is full of flavor and also very processed like someone had to jam a lot into a little patty The kitchens that make this patty use flaming hot ovens and extreme heat to sterilize it Oleksyk says if 3D printers could use less heat the patty could also taste better  less like a compact muscle and more like fresh ground meat  We hope so Its not being done so its something that we will investigate in our project she says In the food world 3D printing is just getting started  and its a sweet start literally Liz von Hasseln is giving me an online video tour of The Sugar Lab a 3D printing outfit in Los Angeles that turns sugar into sweet candy sculptures for wedding cakes and fancy cocktails The startup was acquired by 3D Systems which is sharing its technology with the military in informal talks She points to a printer thats the size of an industrial photocopier and explains What the printer does is a lot like making frosting in a bowl it basically adds the wet ingredients of the frosting to the dry ingredients very very precisely in very fine layers Von Hasseln sent me some samples to try  and theyre very different from the military food I unwrap a delicate sphere thats a little bigger than a lollipop It tastes like Sweet Tarts Its hard for me to imagine this technology producing anything nutritious or durable But von Hasseln husband Kyle cofounder of The Sugar Lab says the printers ability to vary textures  to make food soft or hard  would be critical for soldiers who are injured or on the move  Dialing in the exact density of food could mean that they could eat more easily and because of that as a consequence they might even eat more or be healthier he says  3D printed food sounds scifi But according to military scientists and 3D experts these meals for soldiers are on track to be ready by 2025Copyright 2014 NPR To see more visit httpwwwnprorg'"
       ]
      }
     ],
     "prompt_number": 199
    },
    {
     "cell_type": "code",
     "collapsed": false,
     "input": [
      "j['list']['story'][0].keys()"
     ],
     "language": "python",
     "metadata": {},
     "outputs": [
      {
       "metadata": {},
       "output_type": "pyout",
       "prompt_number": 200,
       "text": [
        "[u'miniTeaser',\n",
        " u'subtitle',\n",
        " u'show',\n",
        " u'text',\n",
        " u'storyDate',\n",
        " u'keywords',\n",
        " u'textWithHtml',\n",
        " u'id',\n",
        " u'relatedLink',\n",
        " u'byline',\n",
        " u'pubDate',\n",
        " u'title',\n",
        " u'audioRunByDate',\n",
        " u'image',\n",
        " u'parent',\n",
        " u'priorityKeywords',\n",
        " u'lastModifiedDate',\n",
        " u'teaser',\n",
        " u'link',\n",
        " u'slug',\n",
        " u'shortTitle',\n",
        " u'organization',\n",
        " u'audio']"
       ]
      }
     ],
     "prompt_number": 200
    },
    {
     "cell_type": "code",
     "collapsed": false,
     "input": [
      "j['list']['story'][0]['link'][0]"
     ],
     "language": "python",
     "metadata": {},
     "outputs": [
      {
       "metadata": {},
       "output_type": "pyout",
       "prompt_number": 201,
       "text": [
        "{u'$text': u'http://www.npr.org/2014/11/04/361217134/sherlock-star-benedict-cumberbatch-shows-last-season-really-freudian?ft=3&f=',\n",
        " u'type': u'html'}"
       ]
      }
     ],
     "prompt_number": 201
    },
    {
     "cell_type": "code",
     "collapsed": false,
     "input": [
      "full_article = []\n",
      "links = []\n",
      "for i in range(200):\n",
      "    params = {'apiKey' : key, 'output': 'JSON', 'startDate' : '2014-01-01', 'startNum' : i * 10 + 1}\n",
      "    req = requests.get(base, params=params)\n",
      "    j = r.json()\n",
      "    \n",
      "    for story in j['list']['story']:\n",
      "        try:\n",
      "            text = ' '.join([par['$text'] for par in story['text']['paragraph']])\n",
      "        except KeyError:\n",
      "            text = ''\n",
      "            for par in story['text']['paragraph']:\n",
      "                text += par.get('$text', '')\n",
      "        full_article.append(str(re.sub('[^\\w\\s]+', '', text)))\n",
      "        links.append(story['link'][0]['$text'])"
     ],
     "language": "python",
     "metadata": {},
     "outputs": [],
     "prompt_number": 264
    },
    {
     "cell_type": "code",
     "collapsed": false,
     "input": [
      "len(links)"
     ],
     "language": "python",
     "metadata": {},
     "outputs": [
      {
       "metadata": {},
       "output_type": "pyout",
       "prompt_number": 266,
       "text": [
        "2000"
       ]
      }
     ],
     "prompt_number": 266
    },
    {
     "cell_type": "code",
     "collapsed": false,
     "input": [
      "j['list']['story'][5]['link'][0]['$text']"
     ],
     "language": "python",
     "metadata": {},
     "outputs": [
      {
       "metadata": {},
       "output_type": "pyout",
       "prompt_number": 256,
       "text": [
        "u'http://www.npr.org/blogs/alltechconsidered/2014/11/04/360430620/from-silicon-valley-to-white-house-new-u-s-tech-chief-makes-change?ft=3&f='"
       ]
      }
     ],
     "prompt_number": 256
    },
    {
     "cell_type": "code",
     "collapsed": false,
     "input": [
      "j['list']['story'][5].keys()"
     ],
     "language": "python",
     "metadata": {},
     "outputs": [
      {
       "metadata": {},
       "output_type": "pyout",
       "prompt_number": 263,
       "text": [
        "{u'audio': [{u'description': {},\n",
        "   u'duration': {u'$text': u'290'},\n",
        "   u'format': {u'mediastream': {u'$text': u'rtmp://flash.npr.org/ondemand/mp3:anon.npr-mp3/npr/me/2014/11/20141104_me_from_silicon_valley_to_white_house_new_us_tech_chief_makes_change.mp3'},\n",
        "    u'mp3': [{u'$text': u'http://api.npr.org/m3u/1361320161-6b55d7.m3u?orgId=1&topicId=1019&aggIds=177622347&ft=3&f=',\n",
        "      u'type': u'm3u'}],\n",
        "    u'mp4': {u'$text': u'http://pd.npr.org/npr-mp4/npr/me/2014/11/20141104_me_from_silicon_valley_to_white_house_new_us_tech_chief_makes_change.mp4?orgId=1&topicId=1019&aggIds=177622347&ft=3&f='},\n",
        "    u'wm': {u'$text': u'http://www.npr.org/templates/dmg/dmg_wmref_em.php?id=361320161&type=1&mtype=WM&orgId=1&topicId=1019&aggIds=177622347&ft=3&f='}},\n",
        "   u'id': u'361320161',\n",
        "   u'permissions': {u'download': {u'allow': u'true'},\n",
        "    u'embed': {u'allow': u'true'},\n",
        "    u'stream': {u'allow': u'true'}},\n",
        "   u'rightsHolder': {},\n",
        "   u'stream': {u'active': u'false'},\n",
        "   u'title': {},\n",
        "   u'type': u'primary'}],\n",
        " u'audioRunByDate': {u'$text': u'Wed, 19 Nov 2014 01:00:00 -0500'},\n",
        " u'byline': [{u'id': u'360431284',\n",
        "   u'link': [{u'$text': u'http://www.npr.org/people/144449221/elise-hu?ft=3&f=',\n",
        "     u'type': u'html'},\n",
        "    {u'$text': u'http://api.npr.org/query?id=144449221&apiKey=MDE3MzEyOTEwMDE0MTUxMjU4MjczNTcwMw001',\n",
        "     u'type': u'api'}],\n",
        "   u'name': {u'$text': u'Elise Hu', u'personId': u'144449221'}}],\n",
        " u'externalAsset': [{u'caption': {u'$text': u'Smith in 1992, demonstrating what would become touchscreen technology.'},\n",
        "   u'credit': {},\n",
        "   u'externalId': {u'$text': u'n-R-L2rqbpQ'},\n",
        "   u'id': u'361129407',\n",
        "   u'oEmbed': {u'$text': u'http://www.youtube.com/oembed?url=http%3A//www.youtube.com/watch%3Fv%3Dn-R-L2rqbpQ'},\n",
        "   u'parameters': {},\n",
        "   u'type': u'YouTube',\n",
        "   u'url': {u'$text': u'http://www.youtube.com/watch?v=n-R-L2rqbpQ'}}],\n",
        " u'fullText': {u'$text': u'<div class=\"storytitle\">      <h1>From Silicon Valley To White House, New U.S. Tech Chief Makes Change</h1>   <input type=\"hidden\" id=\"title360430620\" value=\"From Silicon Valley To White House, New U.S. Tech Chief Makes Change\"></input>   <input type=\"hidden\" id=\"modelShortUrl360430620\" value=\"http://n.pr/1q8TkdM\"></input>   <input type=\"hidden\" id=\"modelFullUrl360430620\" value=\"http://www.npr.org/blogs/alltechconsidered/2014/11/04/360430620/from-silicon-valley-to-white-house-new-u-s-tech-chief-makes-change\"></input></div><!-- END CLASS=\"STORYTITLE\" --><div id=\"story-meta\">      <div class=\"dateblock\">            <time datetime=\"2014-11-04\"><span class=\"date\">November 04, 2014</span><span class=\"time\"> 3:17 AM ET</span></time>   </div>   <div id=\"storybyline\" class=\"  linkLocation\">            <div class=\"bucketwrap byline\" id=\"res360431285\" previewTitle=\"bylines\">                  <div class=\"blockBylines\">                        <div class=\"blockByline linked hasImage\">      <div class=\"bioImageWrap\">            <a class=\"\" rel=\"author\" href=\"http://www.npr.org/people/144449221/elise-hu\"  data-metrics=\\'{\"action\":\"Click Byline\",\"category\":\"Story Metadata\"}\\' ><img src=\"http://media.npr.org/assets/img/2013/05/14/19_sq-966e35d6ee02999d5ffd0f1c89c1c2469e738273-s2.jpg\" title=\"Elise Hu\" alt=\"Elise Hu\" /></a>   </div>   <!-- END CLASS=\"BIOIMAGEWRAP\" -->   <div class=\"rightContainer\">            <a class=\"nameWrap\" rel=\"author\" href=\"http://www.npr.org/people/144449221/elise-hu\"  data-metrics=\\'{\"action\":\"Click Byline\",\"category\":\"Story Metadata\"}\\' ><div class=\"nameOuter\">      <div class=\"nameInner\">      Elise Hu   </div></div></a>      <div id=\"socialHandleLoc\" class=\" linkLocation\">                  <a class=\"bylineSocialHandle bylineSocialHandle-1\" href=\"https://www.facebook.com/officialelisehu\"  data-metrics=\\'{\"action\":\"Click Social Handle\",\"category\":\"Story Metadata\"}\\' >Facebook</a>         <a class=\"bylineSocialHandle bylineSocialHandle-5\" href=\"http://www.twitter.com/elisewho\"  data-metrics=\\'{\"action\":\"Click Social Handle\",\"category\":\"Story Metadata\"}\\' >Twitter</a>         <a class=\"bylineSocialHandle bylineSocialHandle-4\" href=\"http://elisehu.tumblr.com/\"  data-metrics=\\'{\"action\":\"Click Social Handle\",\"category\":\"Story Metadata\"}\\' >Tumblr</a>         <a class=\"bylineSocialHandle bylineSocialHandle-3\" href=\"http://www.pinterest.com/elisehu\"  data-metrics=\\'{\"action\":\"Click Social Handle\",\"category\":\"Story Metadata\"}\\' >Pinterest</a>         <a class=\"bylineSocialHandle bylineSocialHandle-2\" href=\"http://instagram.com/elisewho\"  data-metrics=\\'{\"action\":\"Click Social Handle\",\"category\":\"Story Metadata\"}\\' >Instagram</a>      </div>      <!-- END ID=\"SOCIALHANDLELOC\" CLASS=\" LINKLOCATION\" -->   </div>   <!-- END CLASS=\"RIGHTCONTAINER\" --></div>         </div>      </div>      <!-- END CLASS=\"BUCKETWRAP BYLINE\" ID=\"RES360431285\" PREVIEWTITLE=\"BYLINES\" -->   </div>   <!-- END ID=\"STORYBYLINE\" CLASS=\"  LINKLOCATION\" --></div><!-- END ID=\"STORY-META\" --><div id=\"primaryaudio\" class=\"storylocation linkLocation\">      <div id=\"res361320161\" class=\"bucketwrap primary resaudio  clearfix medium\">            <div class=\"player-core\">                  <div class=\"listenicon\">                        <a class=\"listen\" href=\"http://www.npr.org/templates/player/mediaPlayer.html?action=1&t=1&islist=false&id=360430620&m=361320161&d=null\" data-metrics=\\'{\"category\":\"Secondary Audio\",\"action\":\"Play Audio\",\"label\":\"20141104_me_from_silicon_valley_to_white_house_new_us_tech_chief_makes_change.mp3\"}\\' ></a>         </div>         <!-- END CLASS=\"LISTENICON\" -->         <div id=\"avcontent361320161\" class=\"avcontent listen shorttitle\">                        <span id=\"mediaTimeTotal361320161\" class=\"media-time-total\"><span id=\"mediaTimeCurrent361320161\" class=\"media-time-current\"></span></span>            <h3><a href=\"http://www.npr.org/templates/player/mediaPlayer.html?action=1&t=1&islist=false&id=360430620&m=361320161&d=null\" data-metrics=\\'{\"category\":\"Secondary Audio\",\"action\":\"Play Audio\",\"label\":\"20141104_me_from_silicon_valley_to_white_house_new_us_tech_chief_makes_change.mp3\"}\\' >Listen to the Story</a></h3>            <div class=\"inner\">                              <p class=\"byline\"><a class=\"program\" href=\"http://www.npr.org/programs/morning-edition/\">Morning Edition</a></p>               <div class=\"duration\">                                    <span id=\"durationCurrent361320161\" class=\"current\"></span>                  <span class=\"total\">4 min 50 sec</span>               </div>            </div>            <!-- END CLASS=\"INNER\" -->         </div>         <!-- END ID=\"AVCONTENT361320161\" CLASS=\"AVCONTENT LISTEN SHORTTITLE\" -->      </div>      <!-- END CLASS=\"PLAYER-CORE\" -->      <ul class=\"audiotools\">                  <li><a class=\"add\" href=\"http://www.npr.org/templates/player/mediaPlayer.html?action=2&t=1&islist=false&id=360430620&m=361320161&d=null\" data-metrics=\\'{\"category\":\"Secondary Audio\",\"action\":\"Playlist\",\"label\":\"20141104_me_from_silicon_valley_to_white_house_new_us_tech_chief_makes_change.mp3\"}\\' ><span>Playlist</span></a></li>         <li><a class=\"download\" href=\"http://pd.npr.org/anon.npr-mp3/npr/me/2014/11/20141104_me_from_silicon_valley_to_white_house_new_us_tech_chief_makes_change.mp3\" data-metrics=\\'{\"category\":\"Secondary Audio\",\"action\":\"Download\",\"label\":\"20141104_me_from_silicon_valley_to_white_house_new_us_tech_chief_makes_change.mp3\"}\\' ><span>Download</span></a></li>         <li><a class=\"pending\" title=\"Transcript Pending\" href=\"#\" data-metrics=\\'{\"category\":\"Segment Audio\",\"action\":\"Click transcript\",\"label\":\"360430620\"}\\' ><span>Transcript</span></a></li>      </ul>      <div class=\"spacer\">         &nbsp;      </div>   </div>   <!-- END ID=\"RES361320161\" CLASS=\"BUCKETWRAP PRIMARY RESAUDIO  CLEARFIX MEDIUM\" --></div><!-- END ID=\"PRIMARYAUDIO\" CLASS=\"STORYLOCATION LINKLOCATION\" --><div id=\"storytext\" class=\"storytext storylocation linkLocation\">      <div id=\"res360457806\" class=\"bucketwrap image large\" previewTitle=\"Megan Smith is the new U.S. chief technology officer.\">            <div class=\"imagewrap\" data-crop-type=\"\">                <img src=\"http://media.npr.org/assets/img/2014/10/31/20141027-megan-smith-white-house-056edit_wide-6c73760151f447359b6c70056bbed3fe29854c51-s6.jpg\" title=\"Megan Smith is the new U.S. chief technology officer.\" alt=\"Megan Smith is the new U.S. chief technology officer.\" /></div><div class=\"credit-caption\">    <div class=\"caption\">        <p><i>            Megan Smith is the new U.S. chief technology officer.            </i>        </p>    </div>        <span class=\"credit\">                Ariel Zambelich/NPR            </span></div>   </div>   <p>This fall, we\\'ve been exploring <a href=\"http://www.npr.org/series/177622347/the-changing-lives-of-women\">the Changing Lives of Women</a>, and Megan Smith is one woman who\\'s gone through a number of changes in recent months. She just moved from a top job at Google in Silicon Valley, where she was vice president of Google X, <a href=\"http://www.whitehouse.gov/blog/2014/09/04/president-obama-names-megan-smith-us-cto-alexander-macgillivray-deputy-us-cto\">to the White House</a>, where\\'s she\\'s now the country\\'s chief technology officer. She\\'s so new to the halls of the White House complex that she\\'s wearing a temporary badge.</p>   <p>\"I just have to fill out all my security clearance forms. I\\'m almost done,\" she says.</p>   <p>Smith started only two months ago as U.S. chief technology officer, a role created at the start of President Obama\\'s administration. The CTO\\'s charge is to find ways to unleash technology to improve government, and federal government is notoriously slow to change.</p>   <p>But just by coming to work in Washington, Smith is already making one change: Her look. At Google, she would be wearing jeans. In the White House, it\\'s a little more buttoned up.</p>   <p>\"Yes, I\\'m wearing a suit. It\\'s comfortable. It\\'s from J.Crew,\" she says.</p>   <p>Smith doesn\\'t actually like talking about external image much, as she\\'s been focused on changing tech from the inside \\u2014 pushing for more women in science and technology fields and keeping them there. We caught up with the mother-of-two as she kicked off a documentary screening for Washington, D.C.-area middle and high-schoolers.</p>   <div id=\"res361159004\" class=\"bucketwrap internallink insettwocolumn inset2col \">            <div class=\"bucket img\">                  <a id=\"featuredStackSquareImage177622347\" href=\"http://www.npr.org/series/177622347/the-changing-lives-of-women\"  data-metrics=\\'{\"category\":\"Story to Story\",\"action\":\"Click Internal Link\",\"label\":\"http:\\\\/\\\\/www.npr.org\\\\/series\\\\/177622347\\\\/the-changing-lives-of-women\"}\\' ><img src=\"http://media.npr.org/assets/img/2014/10/03/singleladies-v51_sq-4cb9ce392808e2ed169b8ed0cc714efcd7f0ce6b-s11.jpg\" class=\"img90\" title=\"All the single ladies\" alt=\"All the single ladies\" /></a>         <div class=\"bucketblock\">                        <h3><a href=\"http://www.npr.org/series/177622347/the-changing-lives-of-women\"  data-metrics=\\'{\"category\":\"Story to Story\",\"action\":\"Click Internal Link\",\"label\":\"http:\\\\/\\\\/www.npr.org\\\\/series\\\\/177622347\\\\/the-changing-lives-of-women\"}\\' > The Changing Lives Of Women</a></h3>         </div>         <!-- END CLASS=\"BUCKETBLOCK\" -->      </div>      <!-- END CLASS=\"BUCKET IMG\" -->   </div>   <!-- END ID=\"RES361159004\" CLASS=\"BUCKETWRAP INTERNALLINK INSETTWOCOLUMN INSET2COL \" -->   <p>\"It will be interesting for you guys to see the media talk about the women scientists versus the men scientists, how they hyper-focused on what they looked [like], what they wore,\" Smith said to a roomful of about 70 school kids. \"All this sort of gender bias \\u2014 I want you guys to notice that and observe that, because it\\'s an important thing.\"</p>   <p>The topic of <a href=\"http://www.npr.org/tags/221437017/women-in-tech\">women in tech</a> is on many minds lately. There were <a href=\"http://www.npr.org/blogs/money/2014/10/21/357629765/when-women-stopped-coding\">more women graduating with computer science degrees in in 1984</a> \\u2014 than 2014. Every other industry that was once dominated by men \\u2014 finance, law, medicine \\u2014 has come closer to parity. Tech, meanwhile, seems to be going backwards. <br /> <br />\"I almost call it death by a thousand cuts,\" Smith says. \"There are always these little biases that hit people. Every individual situation \\u2014 oh, this person doesn\\'t have a VP job, or this person doesn\\'t have this for this or that reason but when you look at an aggregate, it\\'s really a lot of unconscious bias.\"</p>   <p>Smith, a lesbian who started Gay.com, says she got past people\\'s biases to wind up running Google X, the division of Google that rolled out self-driving cars, and becoming U.S. CTO by doing what she calls \"bringing her passion.\" Her former boss, Google Chairman Eric Schmidt, remembers it well.</p>   <div id=\"res360459092\" class=\"bucketwrap image large\" previewTitle=\"Megan Smith, left, meets with middle school students Mikaelle, from Howard University Middle School; Shayna, from Chavez Prep; and Hannah, from School Without Walls after her presentation.\">            <div class=\"imagewrap\" data-crop-type=\"\">                <img src=\"http://media.npr.org/assets/img/2014/10/31/20141027-megan-smith-white-house-044edit_custom-f114d1097e99db7b27c10265cc263496a5525fdb-s6.jpg\" title=\"Megan Smith, left, meets with middle school students Mikaelle, from Howard University Middle School; Shayna, from Chavez Prep; and Hannah, from School Without Walls after her presentation.\" alt=\"Megan Smith, left, meets with middle school students Mikaelle, from Howard University Middle School; Shayna, from Chavez Prep; and Hannah, from School Without Walls after her presentation.\" /></div><div class=\"credit-caption\">    <div class=\"caption\">        <p><i>            Megan Smith, left, meets with middle school students Mikaelle, from Howard University Middle School; Shayna, from Chavez Prep; and Hannah, from School Without Walls after her presentation.            </i>        </p>    </div>        <span class=\"credit\">                Ariel Zambelich/NPR            </span></div>   </div>   <p>\"She has an energy, and an enthusiasm, that is addictive,\" Schmidt says.</p>   <p>When you meet her, Smith\\'s youthful energy shows. She bounces when she walks. Her eyes twinkle when she talks about old tech projects and her love of science, which dates back to her childhood.</p>   <p>\"I went to an inner-city school in Buffalo. We had no money, but the teachers were really motivated. They made science fair mandatory. And I think that was one of the key things for all the kids. Many kids went on the STEM related careers because as kids we got to try it. It got me to learn that it was fun, it mattered,\" she says.</p>   <p>She took that thinking with her to MIT. And went on to help develop futuristic products at a place called General Magic. We found her 28-year-old self in an archive video, demonstrating a prototype for what would become touchscreens.</p>   <p>\"We\\'re trying to make somethin\\' that people love,\" she said, back then.</p>   <p>Back then, she loved making prototypes and products. Two decades later, she\\'s changed her focus from products to people.</p>   <div id=\"res361129407\" class=\"bucketwrap video youtube-video medium graphic300\">            <div class=\"video-wrap\">                  <iframe width=\"300\" height=\"168\" type=\"text/html\" src=\"http://www.youtube.com/embed/n-R-L2rqbpQ?rel=0\" frameborder=\"0\"></iframe>      </div>      <!-- END CLASS=\"VIDEO-WRAP\" -->      <div class=\"credit-caption externalasset\">                  <span class=\"credit\"><span class=\"source\">YouTube</span></span>         <p>Smith in 1992, demonstrating what would become touchscreen technology.</p>      </div>      <!-- END CLASS=\"CREDIT-CAPTION EXTERNALASSET\" -->   </div>   <!-- END ID=\"RES361129407\" CLASS=\"BUCKETWRAP VIDEO YOUTUBE-VIDEO MEDIUM GRAPHIC300\" -->   <p>\"I think maybe I was doing specific projects and enabling them, and now I\\'m looking for other people,\" she says. \"You know, people who are like the kid I was.\"</p>   <p>Which brings us back to the White House film screening, and the girls Smith is trying to encourage into STEM careers. Hannah Docter-Loeb is a 9th grader.</p>   <p>\"It\\'s definitely important to see women in power,\" Docter-Loeb says. \"Because you can see like, you can do that, too.\"</p>   <p>Smith will have to call on all her powers to turn government agencies into more tech startup-type cultures. One agency still <a href=\"http://www.nytimes.com/2013/12/07/us/politics/slowly-they-modernize-a-federal-agency-that-still-uses-floppy-disks.html?_r=0\">saves data on floppy disks</a>.</p>   <p>Fitting with her changing perspective \\u2014 her priority is on people.</p>   <p>\"One thing I hope, five years from now, is more tech colleagues of mine like the <em>elite</em> elite teams, are flowing in and out of government. We want to create an environment where, in addition to amazing policy groups ... tech teams feel comfortable, included, and are in leadership positions here,\" Smith says.</p>   <p>She\\'s a gay woman scientist, which could make her a potential outsider on a few levels. Instead, she\\'s as inside as a tech leader can be, even bounding around the White House with ease, once those security credentials are all set.</p></div><div class=\"fullattribution\">Copyright 2014 NPR. To see more, visit <a href=\"http://www.npr.org/\">http://www.npr.org/</a>.<img src=\"http://www.google-analytics.com/__utm.gif?utmac=UA-5828686-4&utmdt=From+Silicon+Valley+To+White+House%2C+New+U.S.+Tech+Chief+Makes+Change&utme=8(APIKey)9(MDE3MzEyOTEwMDE0MTUxMjU4MjczNTcwMw001)\"/></div>'},\n",
        " u'id': u'360430620',\n",
        " u'image': [{u'caption': {u'$text': u'Megan Smith is the new U.S. chief technology officer.'},\n",
        "   u'copyright': {},\n",
        "   u'crop': [{u'height': u'971',\n",
        "     u'src': u'http://media.npr.org/assets/img/2014/10/31/20141027-megan-smith-white-house-056edit-8e66a921e099c0ca1352cb722197d9539328fa89.jpg',\n",
        "     u'type': u'standard',\n",
        "     u'width': u'1295'},\n",
        "    {u'height': u'655',\n",
        "     u'src': u'http://media.npr.org/assets/img/2014/10/31/20141027-megan-smith-white-house-056edit_sq-6ed1f588253bdaa6482fdb9ede95dcc831b5373d.jpg',\n",
        "     u'type': u'square',\n",
        "     u'width': u'655'},\n",
        "    {u'height': u'750',\n",
        "     u'primary': u'true',\n",
        "     u'src': u'http://media.npr.org/assets/img/2014/10/31/20141027-megan-smith-white-house-056edit_wide-6c73760151f447359b6c70056bbed3fe29854c51.jpg',\n",
        "     u'type': u'wide',\n",
        "     u'width': u'1335'},\n",
        "    {u'height': u'750',\n",
        "     u'src': u'http://media.npr.org/assets/img/2014/10/31/20141027-megan-smith-white-house-056edit_wide-6c73760151f447359b6c70056bbed3fe29854c51.jpg',\n",
        "     u'type': u'enlargement',\n",
        "     u'width': u'1335'},\n",
        "    {u'height': u'2260',\n",
        "     u'src': u'http://media.npr.org/assets/img/2014/10/31/20141027-megan-smith-white-house-056edit_custom-7bae9e8048c70becf8cf93cc6f5022955a008da7.jpg',\n",
        "     u'type': u'custom',\n",
        "     u'width': u'1875'}],\n",
        "   u'enlargement': {u'caption': {},\n",
        "    u'src': u'http://media.npr.org/assets/img/2014/10/31/20141027-megan-smith-white-house-056edit_wide-6c73760151f447359b6c70056bbed3fe29854c51.jpg'},\n",
        "   u'hasBorder': u'false',\n",
        "   u'id': u'360457806',\n",
        "   u'link': {u'url': u''},\n",
        "   u'producer': {u'$text': u'Ariel Zambelich'},\n",
        "   u'provider': {u'$text': u'NPR', u'url': u''},\n",
        "   u'src': u'http://media.npr.org/assets/img/2014/10/31/20141027-megan-smith-white-house-056edit_wide-6c73760151f447359b6c70056bbed3fe29854c51.jpg?s=12',\n",
        "   u'title': {u'$text': u'Megan Smith is the new U.S. chief technology officer.'},\n",
        "   u'type': u'primary',\n",
        "   u'width': u'200'},\n",
        "  {u'caption': {u'$text': u'Megan Smith, left, meets with middle school students Mikaelle, from Howard University Middle School; Shayna, from Chavez Prep; and Hannah, from School Without Walls after her presentation.'},\n",
        "   u'copyright': {},\n",
        "   u'crop': [{u'height': u'1478',\n",
        "     u'primary': u'true',\n",
        "     u'src': u'http://media.npr.org/assets/img/2014/10/31/20141027-megan-smith-white-house-044edit_custom-f114d1097e99db7b27c10265cc263496a5525fdb.jpg',\n",
        "     u'type': u'custom',\n",
        "     u'width': u'2430'}],\n",
        "   u'hasBorder': u'false',\n",
        "   u'id': u'360459092',\n",
        "   u'link': {u'url': u''},\n",
        "   u'producer': {u'$text': u'Ariel Zambelich'},\n",
        "   u'provider': {u'$text': u'NPR', u'url': u''},\n",
        "   u'src': u'http://media.npr.org/assets/img/2014/10/31/20141027-megan-smith-white-house-044edit_custom-f114d1097e99db7b27c10265cc263496a5525fdb.jpg?s=12',\n",
        "   u'title': {u'$text': u'Megan Smith, left, meets with middle school students Mikaelle, from Howard University Middle School; Shayna, from Chavez Prep; and Hannah, from School Without Walls after her presentation.'},\n",
        "   u'type': u'standard',\n",
        "   u'width': u'200'}],\n",
        " u'keywords': {},\n",
        " u'lastModifiedDate': {u'$text': u'Tue, 04 Nov 2014 13:54:44 -0500'},\n",
        " u'link': [{u'$text': u'http://www.npr.org/blogs/alltechconsidered/2014/11/04/360430620/from-silicon-valley-to-white-house-new-u-s-tech-chief-makes-change?ft=3&f=',\n",
        "   u'type': u'html'},\n",
        "  {u'$text': u'http://api.npr.org/query?id=360430620&apiKey=MDE3MzEyOTEwMDE0MTUxMjU4MjczNTcwMw001',\n",
        "   u'type': u'api'},\n",
        "  {u'$text': u'http://n.pr/1q8TkdK', u'type': u'short'}],\n",
        " u'miniTeaser': {},\n",
        " u'organization': [{u'name': {u'$text': u'NPR'},\n",
        "   u'orgAbbr': u'NPR',\n",
        "   u'orgId': u'1',\n",
        "   u'website': {u'$text': u'http://www.npr.org/'}}],\n",
        " u'parent': [{u'id': u'361320061',\n",
        "   u'link': [{u'$text': u'http://www.npr.org/programs/morning-edition/2014/11/04/361320061/morning-edition-for-november-4-2014?ft=3&f=',\n",
        "     u'type': u'html'},\n",
        "    {u'$text': u'http://api.npr.org/query?id=361320061&apiKey=MDE3MzEyOTEwMDE0MTUxMjU4MjczNTcwMw001',\n",
        "     u'type': u'api'}],\n",
        "   u'title': {u'$text': u'Morning Edition for November 4, 2014'},\n",
        "   u'type': u'programEpisode'},\n",
        "  {u'id': u'360431834',\n",
        "   u'link': [{u'$text': u'http://www.npr.org/tags/360431834/chief-technology-officer?ft=3&f=',\n",
        "     u'type': u'html'},\n",
        "    {u'$text': u'http://api.npr.org/query?id=360431834&apiKey=MDE3MzEyOTEwMDE0MTUxMjU4MjczNTcwMw001',\n",
        "     u'type': u'api'}],\n",
        "   u'title': {u'$text': u'chief technology officer'},\n",
        "   u'type': u'tag'},\n",
        "  {u'id': u'360431832',\n",
        "   u'link': [{u'$text': u'http://www.npr.org/tags/360431832/megan-smith?ft=3&f=',\n",
        "     u'type': u'html'},\n",
        "    {u'$text': u'http://api.npr.org/query?id=360431832&apiKey=MDE3MzEyOTEwMDE0MTUxMjU4MjczNTcwMw001',\n",
        "     u'type': u'api'}],\n",
        "   u'title': {u'$text': u'megan smith'},\n",
        "   u'type': u'tag'},\n",
        "  {u'id': u'262472261',\n",
        "   u'link': [{u'$text': u'http://www.npr.org/series/262472261/mpx-lead?ft=3&f=',\n",
        "     u'type': u'html'},\n",
        "    {u'$text': u'http://api.npr.org/query?id=262472261&apiKey=MDE3MzEyOTEwMDE0MTUxMjU4MjczNTcwMw001',\n",
        "     u'type': u'api'}],\n",
        "   u'title': {u'$text': u'MPX Lead'},\n",
        "   u'type': u'collection'},\n",
        "  {u'id': u'227560721',\n",
        "   u'link': [{u'$text': u'http://www.npr.org/tags/227560721/women-in-government?ft=3&f=',\n",
        "     u'type': u'html'},\n",
        "    {u'$text': u'http://api.npr.org/query?id=227560721&apiKey=MDE3MzEyOTEwMDE0MTUxMjU4MjczNTcwMw001',\n",
        "     u'type': u'api'}],\n",
        "   u'title': {u'$text': u'women in government'},\n",
        "   u'type': u'tag'},\n",
        "  {u'id': u'221437017',\n",
        "   u'link': [{u'$text': u'http://www.npr.org/tags/221437017/women-in-tech?ft=3&f=',\n",
        "     u'type': u'html'},\n",
        "    {u'$text': u'http://api.npr.org/query?id=221437017&apiKey=MDE3MzEyOTEwMDE0MTUxMjU4MjczNTcwMw001',\n",
        "     u'type': u'api'}],\n",
        "   u'title': {u'$text': u'women in tech'},\n",
        "   u'type': u'tag'},\n",
        "  {u'id': u'194329909',\n",
        "   u'link': [{u'$text': u'http://www.npr.org/blogs/alltechconsidered/194329909/society?ft=3&f=',\n",
        "     u'type': u'html'},\n",
        "    {u'$text': u'http://api.npr.org/query?id=194329909&apiKey=MDE3MzEyOTEwMDE0MTUxMjU4MjczNTcwMw001',\n",
        "     u'type': u'api'}],\n",
        "   u'title': {u'$text': u'Society'},\n",
        "   u'type': u'category'},\n",
        "  {u'id': u'191676894',\n",
        "   u'link': [{u'$text': u'http://www.npr.org/series/191676894/most-popular?ft=3&f=',\n",
        "     u'type': u'html'},\n",
        "    {u'$text': u'http://api.npr.org/query?id=191676894&apiKey=MDE3MzEyOTEwMDE0MTUxMjU4MjczNTcwMw001',\n",
        "     u'type': u'api'}],\n",
        "   u'title': {u'$text': u'Most Popular'},\n",
        "   u'type': u'collection'},\n",
        "  {u'id': u'177622347',\n",
        "   u'link': [{u'$text': u'http://www.npr.org/series/177622347/the-changing-lives-of-women?ft=3&f=',\n",
        "     u'type': u'html'},\n",
        "    {u'$text': u'http://api.npr.org/query?id=177622347&apiKey=MDE3MzEyOTEwMDE0MTUxMjU4MjczNTcwMw001',\n",
        "     u'type': u'api'}],\n",
        "   u'title': {u'$text': u'The Changing Lives Of Women'},\n",
        "   u'type': u'series'},\n",
        "  {u'id': u'127909460',\n",
        "   u'link': [{u'$text': u'http://www.npr.org/tags/127909460/white-house?ft=3&f=',\n",
        "     u'type': u'html'},\n",
        "    {u'$text': u'http://api.npr.org/query?id=127909460&apiKey=MDE3MzEyOTEwMDE0MTUxMjU4MjczNTcwMw001',\n",
        "     u'type': u'api'}],\n",
        "   u'title': {u'$text': u'White House'},\n",
        "   u'type': u'tag'},\n",
        "  {u'id': u'127578438',\n",
        "   u'link': [{u'$text': u'http://www.npr.org/tags/127578438/women?ft=3&f=',\n",
        "     u'type': u'html'},\n",
        "    {u'$text': u'http://api.npr.org/query?id=127578438&apiKey=MDE3MzEyOTEwMDE0MTUxMjU4MjczNTcwMw001',\n",
        "     u'type': u'api'}],\n",
        "   u'title': {u'$text': u'women'},\n",
        "   u'type': u'tag'},\n",
        "  {u'id': u'125107390',\n",
        "   u'link': [{u'$text': u'http://www.npr.org/blogs/alltechconsidered/125107390/policy/?ft=3&f=',\n",
        "     u'type': u'html'},\n",
        "    {u'$text': u'http://api.npr.org/query?id=125107390&apiKey=MDE3MzEyOTEwMDE0MTUxMjU4MjczNTcwMw001',\n",
        "     u'type': u'api'}],\n",
        "   u'title': {u'$text': u'Policy'},\n",
        "   u'type': u'category'},\n",
        "  {u'id': u'102920358',\n",
        "   u'link': [{u'$text': u'http://www.npr.org/blogs/alltechconsidered/?ft=3&f=',\n",
        "     u'type': u'html'},\n",
        "    {u'$text': u'http://api.npr.org/query?id=102920358&apiKey=MDE3MzEyOTEwMDE0MTUxMjU4MjczNTcwMw001',\n",
        "     u'type': u'api'}],\n",
        "   u'slug': u'true',\n",
        "   u'title': {u'$text': u'All Tech Considered'},\n",
        "   u'type': u'blog'},\n",
        "  {u'id': u'1123',\n",
        "   u'link': [{u'$text': u'http://www.npr.org/sections/governing/?ft=3&f=',\n",
        "     u'type': u'html'},\n",
        "    {u'$text': u'http://api.npr.org/query?id=1123&apiKey=MDE3MzEyOTEwMDE0MTUxMjU4MjczNTcwMw001',\n",
        "     u'type': u'api'}],\n",
        "   u'title': {u'$text': u'Governing'},\n",
        "   u'type': u'topic'},\n",
        "  {u'id': u'1049',\n",
        "   u'link': [{u'$text': u'http://www.npr.org/sections/digital-life/?ft=3&f=',\n",
        "     u'type': u'html'},\n",
        "    {u'$text': u'http://api.npr.org/query?id=1049&apiKey=MDE3MzEyOTEwMDE0MTUxMjU4MjczNTcwMw001',\n",
        "     u'type': u'api'}],\n",
        "   u'title': {u'$text': u'Digital Life'},\n",
        "   u'type': u'topic'},\n",
        "  {u'id': u'1019',\n",
        "   u'link': [{u'$text': u'http://www.npr.org/sections/technology/?ft=3&f=',\n",
        "     u'type': u'html'},\n",
        "    {u'$text': u'http://api.npr.org/query?id=1019&apiKey=MDE3MzEyOTEwMDE0MTUxMjU4MjczNTcwMw001',\n",
        "     u'type': u'api'}],\n",
        "   u'title': {u'$text': u'Technology'},\n",
        "   u'type': u'primaryTopic'},\n",
        "  {u'id': u'1019',\n",
        "   u'link': [{u'$text': u'http://www.npr.org/sections/technology/?ft=3&f=',\n",
        "     u'type': u'html'},\n",
        "    {u'$text': u'http://api.npr.org/query?id=1019&apiKey=MDE3MzEyOTEwMDE0MTUxMjU4MjczNTcwMw001',\n",
        "     u'type': u'api'}],\n",
        "   u'title': {u'$text': u'Technology'},\n",
        "   u'type': u'topic'},\n",
        "  {u'id': u'1003',\n",
        "   u'link': [{u'$text': u'http://www.npr.org/sections/us/?ft=3&f=',\n",
        "     u'type': u'html'},\n",
        "    {u'$text': u'http://api.npr.org/query?id=1003&apiKey=MDE3MzEyOTEwMDE0MTUxMjU4MjczNTcwMw001',\n",
        "     u'type': u'api'}],\n",
        "   u'title': {u'$text': u'U.S.'},\n",
        "   u'type': u'topic'},\n",
        "  {u'id': u'1002',\n",
        "   u'link': [{u'$text': u'http://www.npr.org/?ft=3&f=', u'type': u'html'},\n",
        "    {u'$text': u'http://api.npr.org/query?id=1002&apiKey=MDE3MzEyOTEwMDE0MTUxMjU4MjczNTcwMw001',\n",
        "     u'type': u'api'}],\n",
        "   u'title': {u'$text': u'Home Page Top Stories'},\n",
        "   u'type': u'topic'},\n",
        "  {u'id': u'1001',\n",
        "   u'link': [{u'$text': u'http://www.npr.org/sections/news/?ft=3&f=',\n",
        "     u'type': u'html'},\n",
        "    {u'$text': u'http://api.npr.org/query?id=1001&apiKey=MDE3MzEyOTEwMDE0MTUxMjU4MjczNTcwMw001',\n",
        "     u'type': u'api'}],\n",
        "   u'title': {u'$text': u'News'},\n",
        "   u'type': u'topic'},\n",
        "  {u'id': u'3',\n",
        "   u'link': [{u'$text': u'http://www.npr.org/programs/morning-edition/?ft=3&f=',\n",
        "     u'type': u'html'},\n",
        "    {u'$text': u'http://api.npr.org/query?id=3&apiKey=MDE3MzEyOTEwMDE0MTUxMjU4MjczNTcwMw001',\n",
        "     u'type': u'api'}],\n",
        "   u'title': {u'$text': u'Morning Edition'},\n",
        "   u'type': u'program'}],\n",
        " u'priorityKeywords': {},\n",
        " u'pubDate': {u'$text': u'Tue, 04 Nov 2014 13:54:00 -0500'},\n",
        " u'relatedLink': [{u'caption': {u'$text': u' The Changing Lives Of Women'},\n",
        "   u'id': u'361159004',\n",
        "   u'link': [{u'$text': u'http://www.npr.org/series/177622347/the-changing-lives-of-women?ft=3&f=',\n",
        "     u'type': u'html'},\n",
        "    {u'$text': u'http://api.npr.org/query?id=177622347&apiKey=MDE3MzEyOTEwMDE0MTUxMjU4MjczNTcwMw001',\n",
        "     u'type': u'api'}],\n",
        "   u'type': u'internal'}],\n",
        " u'shortTitle': {},\n",
        " u'show': [{u'program': {u'$text': u'Morning Edition',\n",
        "    u'code': u'ME',\n",
        "    u'id': u'3'},\n",
        "   u'segNum': {u'$text': u'3'},\n",
        "   u'showDate': {u'$text': u'Tue, 04 Nov 2014 05:00:00 -0500'}}],\n",
        " u'slug': {u'$text': u'All Tech Considered'},\n",
        " u'storyDate': {u'$text': u'Tue, 04 Nov 2014 03:17:00 -0500'},\n",
        " u'subtitle': {},\n",
        " u'teaser': {u'$text': u\"Former Google X top executive Megan Smith started this month as the U.S. chief technology officer. She's only the third person to have the job.\"},\n",
        " u'text': {u'paragraph': [{u'$text': u\"This fall, we've been exploring the Changing Lives of Women, and Megan Smith is one woman who's gone through a number of changes in recent months. She just moved from a top job at Google in Silicon Valley, where she was vice president of Google X, to the White House, where's she's now the country's chief technology officer. She's so new to the halls of the White House complex that she's wearing a temporary badge.\",\n",
        "    u'num': u'1'},\n",
        "   {u'$text': u'\"I just have to fill out all my security clearance forms. I\\'m almost done,\" she says.',\n",
        "    u'num': u'2'},\n",
        "   {u'$text': u\"Smith started only two months ago as U.S. chief technology officer, a role created at the start of President Obama's administration. The CTO's charge is to find ways to unleash technology to improve government, and federal government is notoriously slow to change.\",\n",
        "    u'num': u'3'},\n",
        "   {u'$text': u\"But just by coming to work in Washington, Smith is already making one change: Her look. At Google, she would be wearing jeans. In the White House, it's a little more buttoned up.\",\n",
        "    u'num': u'4'},\n",
        "   {u'$text': u'\"Yes, I\\'m wearing a suit. It\\'s comfortable. It\\'s from J.Crew,\" she says.',\n",
        "    u'num': u'5'},\n",
        "   {u'$text': u\"Smith doesn't actually like talking about external image much, as she's been focused on changing tech from the inside \\u2014 pushing for more women in science and technology fields and keeping them there. We caught up with the mother-of-two as she kicked off a documentary screening for Washington, D.C.-area middle and high-schoolers.\",\n",
        "    u'num': u'6'},\n",
        "   {u'$text': u'\"It will be interesting for you guys to see the media talk about the women scientists versus the men scientists, how they hyper-focused on what they looked [like], what they wore,\" Smith said to a roomful of about 70 school kids. \"All this sort of gender bias \\u2014 I want you guys to notice that and observe that, because it\\'s an important thing.\"',\n",
        "    u'num': u'7'},\n",
        "   {u'$text': u'The topic of women in tech is on many minds lately. There were more women graduating with computer science degrees in in 1984 \\u2014 than 2014. Every other industry that was once dominated by men \\u2014 finance, law, medicine \\u2014 has come closer to parity. Tech, meanwhile, seems to be going backwards.  \"I almost call it death by a thousand cuts,\" Smith says. \"There are always these little biases that hit people. Every individual situation \\u2014 oh, this person doesn\\'t have a VP job, or this person doesn\\'t have this for this or that reason but when you look at an aggregate, it\\'s really a lot of unconscious bias.\"',\n",
        "    u'num': u'8'},\n",
        "   {u'$text': u'Smith, a lesbian who started Gay.com, says she got past people\\'s biases to wind up running Google X, the division of Google that rolled out self-driving cars, and becoming U.S. CTO by doing what she calls \"bringing her passion.\" Her former boss, Google Chairman Eric Schmidt, remembers it well.',\n",
        "    u'num': u'9'},\n",
        "   {u'$text': u'\"She has an energy, and an enthusiasm, that is addictive,\" Schmidt says.',\n",
        "    u'num': u'10'},\n",
        "   {u'$text': u\"When you meet her, Smith's youthful energy shows. She bounces when she walks. Her eyes twinkle when she talks about old tech projects and her love of science, which dates back to her childhood.\",\n",
        "    u'num': u'11'},\n",
        "   {u'$text': u'\"I went to an inner-city school in Buffalo. We had no money, but the teachers were really motivated. They made science fair mandatory. And I think that was one of the key things for all the kids. Many kids went on the STEM related careers because as kids we got to try it. It got me to learn that it was fun, it mattered,\" she says.',\n",
        "    u'num': u'12'},\n",
        "   {u'$text': u'She took that thinking with her to MIT. And went on to help develop futuristic products at a place called General Magic. We found her 28-year-old self in an archive video, demonstrating a prototype for what would become touchscreens.',\n",
        "    u'num': u'13'},\n",
        "   {u'$text': u'\"We\\'re trying to make somethin\\' that people love,\" she said, back then.',\n",
        "    u'num': u'14'},\n",
        "   {u'$text': u\"Back then, she loved making prototypes and products. Two decades later, she's changed her focus from products to people.\",\n",
        "    u'num': u'15'},\n",
        "   {u'$text': u'\"I think maybe I was doing specific projects and enabling them, and now I\\'m looking for other people,\" she says. \"You know, people who are like the kid I was.\"',\n",
        "    u'num': u'16'},\n",
        "   {u'$text': u'Which brings us back to the White House film screening, and the girls Smith is trying to encourage into STEM careers. Hannah Docter-Loeb is a 9th grader.',\n",
        "    u'num': u'17'},\n",
        "   {u'$text': u'\"It\\'s definitely important to see women in power,\" Docter-Loeb says. \"Because you can see like, you can do that, too.\"',\n",
        "    u'num': u'18'},\n",
        "   {u'$text': u'Smith will have to call on all her powers to turn government agencies into more tech startup-type cultures. One agency still saves data on floppy disks.',\n",
        "    u'num': u'19'},\n",
        "   {u'$text': u'Fitting with her changing perspective \\u2014 her priority is on people.',\n",
        "    u'num': u'20'},\n",
        "   {u'$text': u'\"One thing I hope, five years from now, is more tech colleagues of mine like the elite elite teams, are flowing in and out of government. We want to create an environment where, in addition to amazing policy groups ... tech teams feel comfortable, included, and are in leadership positions here,\" Smith says.',\n",
        "    u'num': u'21'},\n",
        "   {u'$text': u\"She's a gay woman scientist, which could make her a potential outsider on a few levels. Instead, she's as inside as a tech leader can be, even bounding around the White House with ease, once those security credentials are all set. [Copyright 2014 NPR]\",\n",
        "    u'num': u'22'}]},\n",
        " u'textWithHtml': {u'paragraph': [{u'$text': u'This fall, we\\'ve been exploring <a href=\"http://www.npr.org/series/177622347/the-changing-lives-of-women\">the Changing Lives of Women</a>, and Megan Smith is one woman who\\'s gone through a number of changes in recent months. She just moved from a top job at Google in Silicon Valley, where she was vice president of Google X, <a href=\"http://www.whitehouse.gov/blog/2014/09/04/president-obama-names-megan-smith-us-cto-alexander-macgillivray-deputy-us-cto\">to the White House</a>, where\\'s she\\'s now the country\\'s chief technology officer. She\\'s so new to the halls of the White House complex that she\\'s wearing a temporary badge.',\n",
        "    u'num': u'1'},\n",
        "   {u'$text': u'\"I just have to fill out all my security clearance forms. I\\'m almost done,\" she says.',\n",
        "    u'num': u'2'},\n",
        "   {u'$text': u\"Smith started only two months ago as U.S. chief technology officer, a role created at the start of President Obama's administration. The CTO's charge is to find ways to unleash technology to improve government, and federal government is notoriously slow to change.\",\n",
        "    u'num': u'3'},\n",
        "   {u'$text': u\"But just by coming to work in Washington, Smith is already making one change: Her look. At Google, she would be wearing jeans. In the White House, it's a little more buttoned up.\",\n",
        "    u'num': u'4'},\n",
        "   {u'$text': u'\"Yes, I\\'m wearing a suit. It\\'s comfortable. It\\'s from J.Crew,\" she says.',\n",
        "    u'num': u'5'},\n",
        "   {u'$text': u\"Smith doesn't actually like talking about external image much, as she's been focused on changing tech from the inside \\u2014 pushing for more women in science and technology fields and keeping them there. We caught up with the mother-of-two as she kicked off a documentary screening for Washington, D.C.-area middle and high-schoolers.\",\n",
        "    u'num': u'6'},\n",
        "   {u'$text': u'\"It will be interesting for you guys to see the media talk about the women scientists versus the men scientists, how they hyper-focused on what they looked [like], what they wore,\" Smith said to a roomful of about 70 school kids. \"All this sort of gender bias \\u2014 I want you guys to notice that and observe that, because it\\'s an important thing.\"',\n",
        "    u'num': u'7'},\n",
        "   {u'$text': u'The topic of <a href=\"http://www.npr.org/tags/221437017/women-in-tech\">women in tech</a> is on many minds lately. There were <a href=\"http://www.npr.org/blogs/money/2014/10/21/357629765/when-women-stopped-coding\">more women graduating with computer science degrees in in 1984</a> \\u2014 than 2014. Every other industry that was once dominated by men \\u2014 finance, law, medicine \\u2014 has come closer to parity. Tech, meanwhile, seems to be going backwards. <br /> <br />\"I almost call it death by a thousand cuts,\" Smith says. \"There are always these little biases that hit people. Every individual situation \\u2014 oh, this person doesn\\'t have a VP job, or this person doesn\\'t have this for this or that reason but when you look at an aggregate, it\\'s really a lot of unconscious bias.\"',\n",
        "    u'num': u'8'},\n",
        "   {u'$text': u'Smith, a lesbian who started Gay.com, says she got past people\\'s biases to wind up running Google X, the division of Google that rolled out self-driving cars, and becoming U.S. CTO by doing what she calls \"bringing her passion.\" Her former boss, Google Chairman Eric Schmidt, remembers it well.',\n",
        "    u'num': u'9'},\n",
        "   {u'$text': u'\"She has an energy, and an enthusiasm, that is addictive,\" Schmidt says.',\n",
        "    u'num': u'10'},\n",
        "   {u'$text': u\"When you meet her, Smith's youthful energy shows. She bounces when she walks. Her eyes twinkle when she talks about old tech projects and her love of science, which dates back to her childhood.\",\n",
        "    u'num': u'11'},\n",
        "   {u'$text': u'\"I went to an inner-city school in Buffalo. We had no money, but the teachers were really motivated. They made science fair mandatory. And I think that was one of the key things for all the kids. Many kids went on the STEM related careers because as kids we got to try it. It got me to learn that it was fun, it mattered,\" she says.',\n",
        "    u'num': u'12'},\n",
        "   {u'$text': u'She took that thinking with her to MIT. And went on to help develop futuristic products at a place called General Magic. We found her 28-year-old self in an archive video, demonstrating a prototype for what would become touchscreens.',\n",
        "    u'num': u'13'},\n",
        "   {u'$text': u'\"We\\'re trying to make somethin\\' that people love,\" she said, back then.',\n",
        "    u'num': u'14'},\n",
        "   {u'$text': u\"Back then, she loved making prototypes and products. Two decades later, she's changed her focus from products to people.\",\n",
        "    u'num': u'15'},\n",
        "   {u'$text': u'\"I think maybe I was doing specific projects and enabling them, and now I\\'m looking for other people,\" she says. \"You know, people who are like the kid I was.\"',\n",
        "    u'num': u'16'},\n",
        "   {u'$text': u'Which brings us back to the White House film screening, and the girls Smith is trying to encourage into STEM careers. Hannah Docter-Loeb is a 9th grader.',\n",
        "    u'num': u'17'},\n",
        "   {u'$text': u'\"It\\'s definitely important to see women in power,\" Docter-Loeb says. \"Because you can see like, you can do that, too.\"',\n",
        "    u'num': u'18'},\n",
        "   {u'$text': u'Smith will have to call on all her powers to turn government agencies into more tech startup-type cultures. One agency still <a href=\"http://www.nytimes.com/2013/12/07/us/politics/slowly-they-modernize-a-federal-agency-that-still-uses-floppy-disks.html?_r=0\">saves data on floppy disks</a>.',\n",
        "    u'num': u'19'},\n",
        "   {u'$text': u'Fitting with her changing perspective \\u2014 her priority is on people.',\n",
        "    u'num': u'20'},\n",
        "   {u'$text': u'\"One thing I hope, five years from now, is more tech colleagues of mine like the <em>elite</em> elite teams, are flowing in and out of government. We want to create an environment where, in addition to amazing policy groups ... tech teams feel comfortable, included, and are in leadership positions here,\" Smith says.',\n",
        "    u'num': u'21'},\n",
        "   {u'$text': u'She\\'s a gay woman scientist, which could make her a potential outsider on a few levels. Instead, she\\'s as inside as a tech leader can be, even bounding around the White House with ease, once those security credentials are all set.  <div class=\"fullattribution\">Copyright 2014 NPR. To see more, visit <a href=\"http://www.npr.org/\">http://www.npr.org/</a>.<img src=\"http://www.google-analytics.com/__utm.gif?utmac=UA-5828686-4&utmdt=From+Silicon+Valley+To+White+House%2C+New+U.S.+Tech+Chief+Makes+Change&utme=8(APIKey)9(MDE3MzEyOTEwMDE0MTUxMjU4MjczNTcwMw001)\"/></div>',\n",
        "    u'num': u'22'}]},\n",
        " u'thumbnail': {u'large': {u'$text': u'http://media.npr.org/assets/img/2014/10/31/20141027-megan-smith-white-house-056edit_sq-6ed1f588253bdaa6482fdb9ede95dcc831b5373d.jpg?s=11'},\n",
        "  u'medium': {u'$text': u'http://media.npr.org/assets/img/2014/10/31/20141027-megan-smith-white-house-056edit_sq-6ed1f588253bdaa6482fdb9ede95dcc831b5373d.jpg?s=13'},\n",
        "  u'provider': {u'$text': u'NPR'}},\n",
        " u'title': {u'$text': u'From Silicon Valley To White House, New U.S. Tech Chief Makes Change'}}"
       ]
      }
     ],
     "prompt_number": 263
    },
    {
     "cell_type": "code",
     "collapsed": false,
     "input": [
      "frame = pd.DataFrame({'text' : full_article, 'url' : links, 'source' : 'NPR', 'rating' : .2}, \\\n",
      "             columns = ['source', 'url', 'text', 'rating'])"
     ],
     "language": "python",
     "metadata": {},
     "outputs": [],
     "prompt_number": 267
    },
    {
     "cell_type": "code",
     "collapsed": false,
     "input": [
      "frame.to_csv('npr_data.csv')"
     ],
     "language": "python",
     "metadata": {},
     "outputs": [],
     "prompt_number": 269
    },
    {
     "cell_type": "code",
     "collapsed": false,
     "input": [
      "#get wiki data\n",
      "req = requests.get('https://en.wikipedia.org/wiki/Special:Random')"
     ],
     "language": "python",
     "metadata": {},
     "outputs": [],
     "prompt_number": 270
    },
    {
     "cell_type": "code",
     "collapsed": false,
     "input": [
      "soup = BeautifulSoup(req.text)"
     ],
     "language": "python",
     "metadata": {},
     "outputs": [],
     "prompt_number": 272
    },
    {
     "cell_type": "code",
     "collapsed": false,
     "input": [
      "soup"
     ],
     "language": "python",
     "metadata": {},
     "outputs": [
      {
       "metadata": {},
       "output_type": "pyout",
       "prompt_number": 273,
       "text": [
        "<!DOCTYPE html>\n",
        "<html class=\"client-nojs\" dir=\"ltr\" lang=\"en\">\n",
        "<head>\n",
        "<meta charset=\"utf-8\"/>\n",
        "<title>List of National Natural Landmarks in Georgia - Wikipedia, the free encyclopedia</title>\n",
        "<meta content=\"MediaWiki 1.25wmf5\" name=\"generator\"/>\n",
        "<link href=\"android-app://org.wikipedia/http/en.m.wikipedia.org/wiki/List_of_National_Natural_Landmarks_in_Georgia\" rel=\"alternate\"/>\n",
        "<link href=\"/w/index.php?title=List_of_National_Natural_Landmarks_in_Georgia&amp;action=edit\" rel=\"alternate\" title=\"Edit this page\" type=\"application/x-wiki\"/>\n",
        "<link href=\"/w/index.php?title=List_of_National_Natural_Landmarks_in_Georgia&amp;action=edit\" rel=\"edit\" title=\"Edit this page\"/>\n",
        "<link href=\"//bits.wikimedia.org/apple-touch/wikipedia.png\" rel=\"apple-touch-icon\"/>\n",
        "<link href=\"//bits.wikimedia.org/favicon/wikipedia.ico\" rel=\"shortcut icon\"/>\n",
        "<link href=\"/w/opensearch_desc.php\" rel=\"search\" title=\"Wikipedia (en)\" type=\"application/opensearchdescription+xml\"/>\n",
        "<link href=\"//en.wikipedia.org/w/api.php?action=rsd\" rel=\"EditURI\" type=\"application/rsd+xml\"/>\n",
        "<link href=\"/wiki/List_of_National_Natural_Landmarks_in_Georgia\" hreflang=\"x-default\" rel=\"alternate\"/>\n",
        "<link href=\"//creativecommons.org/licenses/by-sa/3.0/\" rel=\"copyright\"/>\n",
        "<link href=\"/w/index.php?title=Special:RecentChanges&amp;feed=atom\" rel=\"alternate\" title=\"Wikipedia Atom feed\" type=\"application/atom+xml\"/>\n",
        "<link href=\"http://en.wikipedia.org/wiki/List_of_National_Natural_Landmarks_in_Georgia\" rel=\"canonical\"/>\n",
        "<link href=\"//bits.wikimedia.org/en.wikipedia.org/load.php?debug=false&amp;lang=en&amp;modules=ext.gadget.DRN-wizard%2CReferenceTooltips%2Ccharinsert%2Cfeatured-articles-links%2CrefToolbar%2Cteahouse%7Cext.uls.nojs%7Cext.visualEditor.viewPageTarget.noscript%7Cext.wikihiero%2CwikimediaBadges%7Cmediawiki.legacy.commonPrint%2Cshared%7Cmediawiki.skinning.interface%7Cmediawiki.ui.button%7Cskins.vector.styles%7Cwikibase.client.init%2Cnolanglinks&amp;only=styles&amp;skin=vector&amp;*\" rel=\"stylesheet\"/>\n",
        "<meta content=\"\" name=\"ResourceLoaderDynamicStyles\"/>\n",
        "<link href=\"//bits.wikimedia.org/en.wikipedia.org/load.php?debug=false&amp;lang=en&amp;modules=site&amp;only=styles&amp;skin=vector&amp;*\" rel=\"stylesheet\"/>\n",
        "<style>a:lang(ar),a:lang(kk-arab),a:lang(mzn),a:lang(ps),a:lang(ur){text-decoration:none}\n",
        "/* cache key: enwiki:resourceloader:filter:minify-css:7:3904d24a08aa08f6a68dc338f9be277e */</style>\n",
        "<script src=\"//bits.wikimedia.org/en.wikipedia.org/load.php?debug=false&amp;lang=en&amp;modules=startup&amp;only=scripts&amp;skin=vector&amp;*\"></script>\n",
        "<script>if(window.mw){\n",
        "mw.config.set({\"wgCanonicalNamespace\":\"\",\"wgCanonicalSpecialPageName\":false,\"wgNamespaceNumber\":0,\"wgPageName\":\"List_of_National_Natural_Landmarks_in_Georgia\",\"wgTitle\":\"List of National Natural Landmarks in Georgia\",\"wgCurRevisionId\":546870493,\"wgRevisionId\":546870493,\"wgArticleId\":20675749,\"wgIsArticle\":true,\"wgIsRedirect\":false,\"wgAction\":\"view\",\"wgUserName\":null,\"wgUserGroups\":[\"*\"],\"wgCategories\":[\"Lists of coordinates\",\"Geographic coordinate lists\",\"Articles with Geo\",\"National Natural Landmarks in Georgia (U.S. state)\",\"Georgia (U.S. state)-related lists\",\"Lists of National Natural Landmarks\"],\"wgBreakFrames\":false,\"wgPageContentLanguage\":\"en\",\"wgPageContentModel\":\"wikitext\",\"wgSeparatorTransformTable\":[\"\",\"\"],\"wgDigitTransformTable\":[\"\",\"\"],\"wgDefaultDateFormat\":\"dmy\",\"wgMonthNames\":[\"\",\"January\",\"February\",\"March\",\"April\",\"May\",\"June\",\"July\",\"August\",\"September\",\"October\",\"November\",\"December\"],\"wgMonthNamesShort\":[\"\",\"Jan\",\"Feb\",\"Mar\",\"Apr\",\"May\",\"Jun\",\"Jul\",\"Aug\",\"Sep\",\"Oct\",\"Nov\",\"Dec\"],\"wgRelevantPageName\":\"List_of_National_Natural_Landmarks_in_Georgia\",\"wgIsProbablyEditable\":true,\"wgRestrictionEdit\":[],\"wgRestrictionMove\":[],\"wgWikiEditorEnabledModules\":{\"toolbar\":true,\"dialogs\":true,\"hidesig\":true,\"preview\":false,\"previewDialog\":false,\"publish\":false},\"wgBetaFeaturesFeatures\":[],\"wgMediaViewerOnClick\":true,\"wgMediaViewerEnabledByDefault\":true,\"wgVisualEditor\":{\"isPageWatched\":false,\"pageLanguageCode\":\"en\",\"pageLanguageDir\":\"ltr\",\"svgMaxSize\":4096,\"namespacesWithSubpages\":{\"6\":0,\"8\":0,\"1\":true,\"2\":true,\"3\":true,\"4\":true,\"5\":true,\"7\":true,\"9\":true,\"10\":true,\"11\":true,\"12\":true,\"13\":true,\"14\":true,\"15\":true,\"100\":true,\"101\":true,\"102\":true,\"103\":true,\"104\":true,\"105\":true,\"106\":true,\"107\":true,\"108\":true,\"109\":true,\"110\":true,\"111\":true,\"830\":true,\"831\":true,\"447\":true,\"2600\":false,\"828\":true,\"829\":true}},\"wikilove-recipient\":\"\",\"wikilove-anon\":0,\"wgHHVMStart\":1412726400000,\"wgULSAcceptLanguageList\":[],\"wgULSCurrentAutonym\":\"English\",\"wgFlaggedRevsParams\":{\"tags\":{\"status\":{\"levels\":1,\"quality\":2,\"pristine\":3}}},\"wgStableRevisionId\":null,\"wgCategoryTreePageCategoryOptions\":\"{\\\"mode\\\":0,\\\"hideprefix\\\":20,\\\"showcount\\\":true,\\\"namespaces\\\":false}\",\"wgNoticeProject\":\"wikipedia\",\"wgWikibaseItemId\":\"Q6591509\"});\n",
        "}</script><script>if(window.mw){\n",
        "mw.loader.implement(\"user.options\",function($,jQuery){mw.user.options.set({\"ccmeonemails\":0,\"cols\":80,\"date\":\"default\",\"diffonly\":0,\"disablemail\":0,\"editfont\":\"default\",\"editondblclick\":0,\"editsectiononrightclick\":0,\"enotifminoredits\":0,\"enotifrevealaddr\":0,\"enotifusertalkpages\":1,\"enotifwatchlistpages\":0,\"extendwatchlist\":0,\"fancysig\":0,\"forceeditsummary\":0,\"gender\":\"unknown\",\"hideminor\":0,\"hidepatrolled\":0,\"imagesize\":2,\"math\":0,\"minordefault\":0,\"newpageshidepatrolled\":0,\"nickname\":\"\",\"norollbackdiff\":0,\"numberheadings\":0,\"previewonfirst\":0,\"previewontop\":1,\"rcdays\":7,\"rclimit\":50,\"rows\":25,\"showhiddencats\":false,\"shownumberswatching\":1,\"showtoolbar\":1,\"skin\":\"vector\",\"stubthreshold\":0,\"thumbsize\":4,\"underline\":2,\"uselivepreview\":0,\"usenewrc\":0,\"watchcreations\":1,\"watchdefault\":0,\"watchdeletion\":0,\"watchlistdays\":3,\"watchlisthideanons\":0,\"watchlisthidebots\":0,\"watchlisthideliu\":0,\"watchlisthideminor\":0,\"watchlisthideown\":0,\"watchlisthidepatrolled\":0,\"watchmoves\":0,\"watchrollback\":0,\n",
        "\"wllimit\":250,\"useeditwarning\":1,\"prefershttps\":1,\"flaggedrevssimpleui\":1,\"flaggedrevsstable\":0,\"flaggedrevseditdiffs\":true,\"flaggedrevsviewdiffs\":false,\"usebetatoolbar\":1,\"usebetatoolbar-cgd\":1,\"visualeditor-enable\":0,\"visualeditor-betatempdisable\":0,\"visualeditor-enable-experimental\":0,\"visualeditor-enable-language\":0,\"visualeditor-hidebetawelcome\":0,\"wikilove-enabled\":1,\"echo-subscriptions-web-page-review\":true,\"echo-subscriptions-email-page-review\":false,\"ep_showtoplink\":false,\"ep_bulkdelorgs\":false,\"ep_bulkdelcourses\":true,\"ep_showdyk\":true,\"echo-subscriptions-web-education-program\":true,\"echo-subscriptions-email-education-program\":false,\"echo-notify-show-link\":true,\"echo-show-alert\":true,\"echo-email-frequency\":0,\"echo-email-format\":\"html\",\"echo-subscriptions-email-system\":true,\"echo-subscriptions-web-system\":true,\"echo-subscriptions-email-user-rights\":true,\"echo-subscriptions-web-user-rights\":true,\"echo-subscriptions-email-other\":false,\"echo-subscriptions-web-other\":true,\n",
        "\"echo-subscriptions-email-edit-user-talk\":false,\"echo-subscriptions-web-edit-user-talk\":true,\"echo-subscriptions-email-reverted\":false,\"echo-subscriptions-web-reverted\":true,\"echo-subscriptions-email-article-linked\":false,\"echo-subscriptions-web-article-linked\":false,\"echo-subscriptions-email-mention\":false,\"echo-subscriptions-web-mention\":true,\"echo-subscriptions-web-edit-thank\":true,\"echo-subscriptions-email-edit-thank\":false,\"echo-subscriptions-web-flow-discussion\":true,\"echo-subscriptions-email-flow-discussion\":false,\"gettingstarted-task-toolbar-show-intro\":true,\"uls-preferences\":\"\",\"multimediaviewer-enable\":true,\"language\":\"en\",\"variant-gan\":\"gan\",\"variant-iu\":\"iu\",\"variant-kk\":\"kk\",\"variant-ku\":\"ku\",\"variant-shi\":\"shi\",\"variant-sr\":\"sr\",\"variant-tg\":\"tg\",\"variant-uz\":\"uz\",\"variant-zh\":\"zh\",\"searchNs0\":true,\"searchNs1\":false,\"searchNs2\":false,\"searchNs3\":false,\"searchNs4\":false,\"searchNs5\":false,\"searchNs6\":false,\"searchNs7\":false,\"searchNs8\":false,\"searchNs9\":false,\"searchNs10\":\n",
        "false,\"searchNs11\":false,\"searchNs12\":false,\"searchNs13\":false,\"searchNs14\":false,\"searchNs15\":false,\"searchNs100\":false,\"searchNs101\":false,\"searchNs108\":false,\"searchNs109\":false,\"searchNs118\":false,\"searchNs119\":false,\"searchNs446\":false,\"searchNs447\":false,\"searchNs710\":false,\"searchNs711\":false,\"searchNs828\":false,\"searchNs829\":false,\"searchNs2600\":false,\"gadget-teahouse\":1,\"gadget-ReferenceTooltips\":1,\"gadget-geonotice\":1,\"gadget-DRN-wizard\":1,\"gadget-charinsert\":1,\"gadget-refToolbar\":1,\"gadget-mySandbox\":1,\"gadget-featured-articles-links\":1,\"variant\":\"en\"});},{},{});mw.loader.implement(\"user.tokens\",function($,jQuery){mw.user.tokens.set({\"editToken\":\"+\\\\\",\"patrolToken\":\"+\\\\\",\"watchToken\":\"+\\\\\"});},{},{});\n",
        "/* cache key: enwiki:resourceloader:filter:minify-js:7:fb6d33a792758dc6c0c50bd882524047 */\n",
        "}</script>\n",
        "<script>if(window.mw){\n",
        "mw.loader.load([\"mediawiki.page.startup\",\"mediawiki.legacy.wikibits\",\"mediawiki.legacy.ajax\",\"ext.centralauth.centralautologin\",\"mmv.head\",\"ext.visualEditor.viewPageTarget.init\",\"ext.uls.init\",\"ext.uls.interface\",\"ext.centralNotice.bannerController\",\"skins.vector.js\"]);\n",
        "}</script>\n",
        "<link href=\"//meta.wikimedia.org\" rel=\"dns-prefetch\"/>\n",
        "<!--[if lt IE 7]><style type=\"text/css\">body{behavior:url(\"/w/static-1.25wmf5/skins/Vector/csshover.min.htc\")}</style><![endif]-->\n",
        "</head>\n",
        "<body class=\"mediawiki ltr sitedir-ltr ns-0 ns-subject page-List_of_National_Natural_Landmarks_in_Georgia skin-vector action-view vector-animateLayout\">\n",
        "<div class=\"noprint\" id=\"mw-page-base\"></div>\n",
        "<div class=\"noprint\" id=\"mw-head-base\"></div>\n",
        "<div class=\"mw-body\" id=\"content\" role=\"main\">\n",
        "<a id=\"top\"></a>\n",
        "<div id=\"siteNotice\"><!-- CentralNotice --></div>\n",
        "<h1 class=\"firstHeading\" id=\"firstHeading\" lang=\"en\"><span dir=\"auto\">List of National Natural Landmarks in Georgia</span></h1>\n",
        "<div class=\"mw-body-content\" id=\"bodyContent\">\n",
        "<div id=\"siteSub\">From Wikipedia, the free encyclopedia</div>\n",
        "<div id=\"contentSub\"></div>\n",
        "<div class=\"mw-jump\" id=\"jump-to-nav\">\n",
        "\t\t\t\t\tJump to:\t\t\t\t\t<a href=\"#mw-navigation\">navigation</a>, \t\t\t\t\t<a href=\"#p-search\">search</a>\n",
        "</div>\n",
        "<div class=\"mw-content-ltr\" dir=\"ltr\" id=\"mw-content-text\" lang=\"en\"><table class=\"collapsible collapsed noprint infobox\" id=\"GeoGroup\" style=\"width: 23em; font-size: 88%; line-height: 1.5em\">\n",
        "<tr>\n",
        "<th style=\"text-align:left;\"><a class=\"external text\" href=\"http://tools.wmflabs.org/kmlexport?article=List_of_National_Natural_Landmarks_in_Georgia&amp;redir=google\">Map of all coordinates from Google</a><br/>\n",
        "<a class=\"external text\" href=\"http://tools.wmflabs.org/kmlexport?article=List_of_National_Natural_Landmarks_in_Georgia&amp;redir=bing\">Map of up to 200 coordinates from Bing</a></th>\n",
        "</tr>\n",
        "<tr>\n",
        "<td><a class=\"external text\" href=\"http://tools.wmflabs.org/kmlexport?article=List_of_National_Natural_Landmarks_in_Georgia\">Export all coordinates</a> as <a href=\"/wiki/Keyhole_Markup_Language\" title=\"Keyhole Markup Language\">KML</a></td>\n",
        "</tr>\n",
        "<tr>\n",
        "<td><a class=\"external text\" href=\"http://maps.bing.com/GeoCommunity.asjx?action=retrieverss&amp;mkt=en&amp;mapurl=http%3A%2F%2Ftools.wmflabs.org%2Fkmlexport%3Farticle%3DList_of_National_Natural_Landmarks_in_Georgia\" rel=\"nofollow\">Export all coordinates</a> as <a href=\"/wiki/GeoRSS\" title=\"GeoRSS\">GeoRSS</a></td>\n",
        "</tr>\n",
        "<tr>\n",
        "<td><a class=\"external text\" href=\"http://tools.tripgang.com/kml2gpx/http%3A%2F%2Ftools.wmflabs.org%2Fkmlexport%3Farticle%3DList_of_National_Natural_Landmarks_in_Georgia?gpx=1\" rel=\"nofollow\">Export all coordinates</a> as <a class=\"mw-redirect\" href=\"/wiki/GPS_eXchange_Format\" title=\"GPS eXchange Format\">GPX</a></td>\n",
        "</tr>\n",
        "<tr>\n",
        "<td><a class=\"external text\" href=\"http://maps.google.com/maps?q=http%3A%2F%2Fmicroform.at%2Fgeo%2Fhttp%3A%2F%2Fen.wikipedia.org%2Fwiki%2FList_of_National_Natural_Landmarks_in_Georgia\" rel=\"nofollow\">Map of all microformatted coordinates</a></td>\n",
        "</tr>\n",
        "<tr>\n",
        "<td><a class=\"external text\" href=\"http://microform.at/?type=hcard-rdf&amp;url=http://en.wikipedia.org/wiki/List_of_National_Natural_Landmarks_in_Georgia\" rel=\"nofollow\">Place data as RDF</a></td>\n",
        "</tr>\n",
        "</table>\n",
        "<p>There are ten <b><a href=\"/wiki/National_Natural_Landmark\" title=\"National Natural Landmark\">National Natural Landmarks</a></b> in the U.S. state of <b><a href=\"/wiki/Georgia_(U.S._state)\" title=\"Georgia (U.S. state)\">Georgia</a></b>.</p>\n",
        "<div style=\"clear:both;\"></div>\n",
        "<table align=\"center\" class=\"wikitable sortable\">\n",
        "<tr>\n",
        "<th style=\"background-color: #ACE1AF\"></th>\n",
        "<th style=\"background-color: #ACE1AF\">Name</th>\n",
        "<th class=\"unsortable\" style=\"background-color: #ACE1AF\">Image</th>\n",
        "<th style=\"background-color: #ACE1AF\">Date</th>\n",
        "<th style=\"background-color: #ACE1AF\">Location</th>\n",
        "<th style=\"background-color: #ACE1AF\">County</th>\n",
        "<th class=\"unsortable\" style=\"background-color: #ACE1AF\">Description</th>\n",
        "</tr>\n",
        "<tr>\n",
        "<td><small>1</small></td>\n",
        "<td><a class=\"new\" href=\"/w/index.php?title=Big_Hammock_Natural_Area&amp;action=edit&amp;redlink=1\" title=\"Big Hammock Natural Area (page does not exist)\">Big Hammock Natural Area</a></td>\n",
        "<td></td>\n",
        "<td><span class=\"sortkey\" style=\"display:none; speak:none\">01976-01-01-0000</span><span style=\"white-space:nowrap;\">1976</span></td>\n",
        "<td></td>\n",
        "<td><a href=\"/wiki/Tattnall_County,_Georgia\" title=\"Tattnall County, Georgia\">Tattnall</a></td>\n",
        "<td>Relatively undisturbed broadleaf evergreen hammock forest.</td>\n",
        "</tr>\n",
        "<tr>\n",
        "<td><small>2</small></td>\n",
        "<td><a class=\"new\" href=\"/w/index.php?title=Camp_E.F._Boyd_Natural_Area&amp;action=edit&amp;redlink=1\" title=\"Camp E.F. Boyd Natural Area (page does not exist)\">Camp E.F. Boyd Natural Area</a></td>\n",
        "<td></td>\n",
        "<td><span class=\"sortkey\" style=\"display:none; speak:none\">01974-01-01-0000</span><span style=\"white-space:nowrap;\">1974</span></td>\n",
        "<td></td>\n",
        "<td><a href=\"/wiki/Emanuel_County,_Georgia\" title=\"Emanuel County, Georgia\">Emanuel</a></td>\n",
        "<td>One of the best representatives of the upland sand ridge ecosystem of the Coastal Plain</td>\n",
        "</tr>\n",
        "<tr>\n",
        "<td><small>3</small></td>\n",
        "<td><a class=\"new\" href=\"/w/index.php?title=Cason_J._Calloway_Memorial_Forest&amp;action=edit&amp;redlink=1\" title=\"Cason J. Calloway Memorial Forest (page does not exist)\">Cason J. Calloway Memorial Forest</a></td>\n",
        "<td></td>\n",
        "<td><span class=\"sortkey\" style=\"display:none; speak:none\">01972-01-01-0000</span><span style=\"white-space:nowrap;\">1972</span></td>\n",
        "<td></td>\n",
        "<td><a href=\"/wiki/Harris_County,_Georgia\" title=\"Harris County, Georgia\">Harris</a></td>\n",
        "<td>An outstanding example of transitional conditions between eastern deciduous and southern coniferous forest types.</td>\n",
        "</tr>\n",
        "<tr>\n",
        "<td><small>4</small></td>\n",
        "<td><a class=\"new\" href=\"/w/index.php?title=Ebenezer_Creek_Swamp&amp;action=edit&amp;redlink=1\" title=\"Ebenezer Creek Swamp (page does not exist)\">Ebenezer Creek Swamp</a></td>\n",
        "<td></td>\n",
        "<td><span class=\"sortkey\" style=\"display:none; speak:none\">01976-01-01-0000</span><span style=\"white-space:nowrap;\">1976</span></td>\n",
        "<td></td>\n",
        "<td><a href=\"/wiki/Effingham_County,_Georgia\" title=\"Effingham County, Georgia\">Effingham</a></td>\n",
        "<td>The best remaining cypress-gum swamp forest in the Savannah River basin.</td>\n",
        "</tr>\n",
        "<tr>\n",
        "<td><small>5</small></td>\n",
        "<td><a class=\"new\" href=\"/w/index.php?title=Heggie%27s_Rock&amp;action=edit&amp;redlink=1\" title=\"Heggie's Rock (page does not exist)\">Heggie's Rock</a></td>\n",
        "<td></td>\n",
        "<td><span class=\"sortkey\" style=\"display:none; speak:none\">01980-01-01-0000</span><span style=\"white-space:nowrap;\">1980</span></td>\n",
        "<td></td>\n",
        "<td><a href=\"/wiki/Columbia_County,_Georgia\" title=\"Columbia County, Georgia\">Columbia</a></td>\n",
        "<td>The best example in eastern North America of the remarkable endemic flora restricted to granite outcrops.</td>\n",
        "</tr>\n",
        "<tr>\n",
        "<td><small>6</small></td>\n",
        "<td><a class=\"new\" href=\"/w/index.php?title=Lewis_Island_Tract&amp;action=edit&amp;redlink=1\" title=\"Lewis Island Tract (page does not exist)\">Lewis Island Tract</a></td>\n",
        "<td></td>\n",
        "<td><span class=\"sortkey\" style=\"display:none; speak:none\">01974-01-01-0000</span><span style=\"white-space:nowrap;\">1974</span></td>\n",
        "<td></td>\n",
        "<td><a href=\"/wiki/McIntosh_County,_Georgia\" title=\"McIntosh County, Georgia\">McIntosh</a></td>\n",
        "<td>One of the most extensive bottomland hardwood swamps in Georgia.</td>\n",
        "</tr>\n",
        "<tr>\n",
        "<td><small>7</small></td>\n",
        "<td><a href=\"/wiki/Marshall_Forest\" title=\"Marshall Forest\">Marshall Forest</a></td>\n",
        "<td><a class=\"image\" href=\"/wiki/File:Marshall_forest1.jpg\"><img alt=\"Marshall forest1.jpg\" data-file-height=\"300\" data-file-width=\"400\" height=\"150\" src=\"//upload.wikimedia.org/wikipedia/commons/thumb/3/39/Marshall_forest1.jpg/200px-Marshall_forest1.jpg\" srcset=\"//upload.wikimedia.org/wikipedia/commons/thumb/3/39/Marshall_forest1.jpg/300px-Marshall_forest1.jpg 1.5x, //upload.wikimedia.org/wikipedia/commons/3/39/Marshall_forest1.jpg 2x\" width=\"200\"/></a></td>\n",
        "<td><span class=\"sortkey\" style=\"display:none; speak:none\">01966-01-01-0000</span><span style=\"white-space:nowrap;\">1966</span></td>\n",
        "<td><a href=\"/wiki/Rome,_Georgia\" title=\"Rome, Georgia\">Rome</a><small><span class=\"plainlinks nourlexpansion\"><a class=\"external text\" href=\"//tools.wmflabs.org/geohack/geohack.php?pagename=List_of_National_Natural_Landmarks_in_Georgia&amp;params=34.250898_N_-85.195375_E_type:landmark&amp;title=Marshall+Forest\"><span class=\"geo-nondefault\"><span class=\"geo-dms\" title=\"Maps, aerial photos, and other data for this location\"><span class=\"latitude\">34\u00b015\u203203\u2033N</span> <span class=\"longitude\">85\u00b011\u203243\u2033W</span></span></span><span class=\"geo-multi-punct\">\ufeff / \ufeff</span><span class=\"geo-default\"><span class=\"vcard\"><span class=\"geo-dec\" title=\"Maps, aerial photos, and other data for this location\">34.250898\u00b0N 85.195375\u00b0W</span><span style=\"display:none\">\ufeff / <span class=\"geo\">34.250898; -85.195375</span></span><span style=\"display:none\">\ufeff (<span class=\"fn org\">Marshall Forest</span>)</span></span></span></a></span></small></td>\n",
        "<td><a href=\"/wiki/Floyd_County,_Georgia\" title=\"Floyd County, Georgia\">Floyd</a></td>\n",
        "<td>A loblolly pine-shortleaf pine forest believed to have originated following an intense fire at about the time the Cherokee Indians were forcibly removed to Oklahoma.</td>\n",
        "</tr>\n",
        "<tr>\n",
        "<td><small>8</small></td>\n",
        "<td><a href=\"/wiki/Okefenokee_Swamp\" title=\"Okefenokee Swamp\">Okefenokee Swamp</a></td>\n",
        "<td><a class=\"image\" href=\"/wiki/File:OkefenokeeCanalDiggersTrail.wmg.jpg\"><img alt=\"OkefenokeeCanalDiggersTrail.wmg.jpg\" data-file-height=\"600\" data-file-width=\"800\" height=\"150\" src=\"//upload.wikimedia.org/wikipedia/commons/thumb/4/40/OkefenokeeCanalDiggersTrail.wmg.jpg/200px-OkefenokeeCanalDiggersTrail.wmg.jpg\" srcset=\"//upload.wikimedia.org/wikipedia/commons/thumb/4/40/OkefenokeeCanalDiggersTrail.wmg.jpg/300px-OkefenokeeCanalDiggersTrail.wmg.jpg 1.5x, //upload.wikimedia.org/wikipedia/commons/thumb/4/40/OkefenokeeCanalDiggersTrail.wmg.jpg/400px-OkefenokeeCanalDiggersTrail.wmg.jpg 2x\" width=\"200\"/></a></td>\n",
        "<td><span class=\"sortkey\" style=\"display:none; speak:none\">01974-01-01-0000</span><span style=\"white-space:nowrap;\">1974</span></td>\n",
        "<td></td>\n",
        "<td><a href=\"/wiki/Charlton_County,_Georgia\" title=\"Charlton County, Georgia\">Charlton</a>, <a href=\"/wiki/Clinch_County,_Georgia\" title=\"Clinch County, Georgia\">Clinch</a>, <a href=\"/wiki/Ware_County,_Georgia\" title=\"Ware County, Georgia\">Ware</a></td>\n",
        "<td>One of the largest and most primitive swamps in the country.</td>\n",
        "</tr>\n",
        "<tr>\n",
        "<td><small>9</small></td>\n",
        "<td><a href=\"/wiki/Panola_Mountain\" title=\"Panola Mountain\">Panola Mountain</a></td>\n",
        "<td><a class=\"image\" href=\"/wiki/File:Panola.JPG\"><img alt=\"Panola.JPG\" data-file-height=\"2320\" data-file-width=\"3088\" height=\"150\" src=\"//upload.wikimedia.org/wikipedia/commons/thumb/3/30/Panola.JPG/200px-Panola.JPG\" srcset=\"//upload.wikimedia.org/wikipedia/commons/thumb/3/30/Panola.JPG/300px-Panola.JPG 1.5x, //upload.wikimedia.org/wikipedia/commons/thumb/3/30/Panola.JPG/400px-Panola.JPG 2x\" width=\"200\"/></a></td>\n",
        "<td><span class=\"sortkey\" style=\"display:none; speak:none\">01980-01-01-0000</span><span style=\"white-space:nowrap;\">1980</span></td>\n",
        "<td></td>\n",
        "<td><a href=\"/wiki/Rockdale_County,_Georgia\" title=\"Rockdale County, Georgia\">Rockdale</a></td>\n",
        "<td>The most natural and undisturbed monadnock of exposed granitic rock in the Piedmont biophysiograpic province.</td>\n",
        "</tr>\n",
        "<tr>\n",
        "<td><small>10</small></td>\n",
        "<td><a href=\"/wiki/Wassaw_Island\" title=\"Wassaw Island\">Wassaw Island</a></td>\n",
        "<td></td>\n",
        "<td><span class=\"sortkey\" style=\"display:none; speak:none\">01967-01-01-0000</span><span style=\"white-space:nowrap;\">1967</span></td>\n",
        "<td></td>\n",
        "<td><a href=\"/wiki/Chatham_County,_Georgia\" title=\"Chatham County, Georgia\">Chatham</a></td>\n",
        "<td>Only island of the Golden Isles with an undisturbed forest cover.</td>\n",
        "</tr>\n",
        "</table>\n",
        "<table cellspacing=\"0\" class=\"navbox\" style=\"border-spacing:0;\">\n",
        "<tr>\n",
        "<td style=\"padding:2px;\">\n",
        "<table cellspacing=\"0\" class=\"nowraplinks collapsible autocollapse navbox-inner\" style=\"border-spacing:0;background:transparent;color:inherit;\">\n",
        "<tr>\n",
        "<th class=\"navbox-title\" colspan=\"2\" scope=\"col\">\n",
        "<div class=\"plainlinks hlist navbar mini\">\n",
        "<ul>\n",
        "<li class=\"nv-view\"><a href=\"/wiki/Template:NatNaturalLand\" title=\"Template:NatNaturalLand\"><span style=\";;background:none transparent;border:none;;\" title=\"View this template\">v</span></a></li>\n",
        "<li class=\"nv-talk\"><a class=\"new\" href=\"/w/index.php?title=Template_talk:NatNaturalLand&amp;action=edit&amp;redlink=1\" title=\"Template talk:NatNaturalLand (page does not exist)\"><span style=\";;background:none transparent;border:none;;\" title=\"Discuss this template\">t</span></a></li>\n",
        "<li class=\"nv-edit\"><a class=\"external text\" href=\"//en.wikipedia.org/w/index.php?title=Template:NatNaturalLand&amp;action=edit\"><span style=\";;background:none transparent;border:none;;\" title=\"Edit this template\">e</span></a></li>\n",
        "</ul>\n",
        "</div>\n",
        "<div style=\"font-size:110%;\"><a href=\"/wiki/National_Natural_Landmark\" title=\"National Natural Landmark\">National Natural Landmarks</a> in the <a href=\"/wiki/United_States\" title=\"United States\">United States</a></div>\n",
        "</th>\n",
        "</tr>\n",
        "<tr style=\"height:2px;\">\n",
        "<td colspan=\"2\"></td>\n",
        "</tr>\n",
        "<tr>\n",
        "<td class=\"navbox-list navbox-odd hlist\" colspan=\"2\" style=\"width:100%;padding:0px;\">\n",
        "<div style=\"padding:0em 0.25em;\">\n",
        "<ul>\n",
        "<li><a href=\"/wiki/List_of_National_Natural_Landmarks_in_Alabama\" title=\"List of National Natural Landmarks in Alabama\">Alabama</a></li>\n",
        "<li><a href=\"/wiki/List_of_National_Natural_Landmarks_in_Alaska\" title=\"List of National Natural Landmarks in Alaska\">Alaska</a></li>\n",
        "<li><a href=\"/wiki/List_of_National_Natural_Landmarks_in_Arizona\" title=\"List of National Natural Landmarks in Arizona\">Arizona</a></li>\n",
        "<li><a href=\"/wiki/List_of_National_Natural_Landmarks_in_Arkansas\" title=\"List of National Natural Landmarks in Arkansas\">Arkansas</a></li>\n",
        "<li><a href=\"/wiki/List_of_National_Natural_Landmarks_in_California\" title=\"List of National Natural Landmarks in California\">California</a></li>\n",
        "<li><a href=\"/wiki/List_of_National_Natural_Landmarks_in_Colorado\" title=\"List of National Natural Landmarks in Colorado\">Colorado</a></li>\n",
        "<li><a href=\"/wiki/List_of_National_Natural_Landmarks_in_Connecticut\" title=\"List of National Natural Landmarks in Connecticut\">Connecticut</a></li>\n",
        "<li><a class=\"mw-redirect\" href=\"/wiki/List_of_National_Natural_Landmarks_in_Delaware\" title=\"List of National Natural Landmarks in Delaware\">Delaware</a></li>\n",
        "<li><a href=\"/wiki/List_of_National_Natural_Landmarks_in_Florida\" title=\"List of National Natural Landmarks in Florida\">Florida</a></li>\n",
        "<li><strong class=\"selflink\">Georgia</strong></li>\n",
        "<li><a href=\"/wiki/List_of_National_Natural_Landmarks_in_Hawaii\" title=\"List of National Natural Landmarks in Hawaii\">Hawaii</a></li>\n",
        "<li><a href=\"/wiki/List_of_National_Natural_Landmarks_in_Idaho\" title=\"List of National Natural Landmarks in Idaho\">Idaho</a></li>\n",
        "<li><a href=\"/wiki/List_of_National_Natural_Landmarks_in_Illinois\" title=\"List of National Natural Landmarks in Illinois\">Illinois</a></li>\n",
        "<li><a href=\"/wiki/List_of_National_Natural_Landmarks_in_Indiana\" title=\"List of National Natural Landmarks in Indiana\">Indiana</a></li>\n",
        "<li><a href=\"/wiki/List_of_National_Natural_Landmarks_in_Iowa\" title=\"List of National Natural Landmarks in Iowa\">Iowa</a></li>\n",
        "<li><a href=\"/wiki/List_of_National_Natural_Landmarks_in_Kansas\" title=\"List of National Natural Landmarks in Kansas\">Kansas</a></li>\n",
        "<li><a href=\"/wiki/List_of_National_Natural_Landmarks_in_Kentucky\" title=\"List of National Natural Landmarks in Kentucky\">Kentucky</a></li>\n",
        "<li><a class=\"mw-redirect\" href=\"/wiki/List_of_National_Natural_Landmarks_in_Louisiana\" title=\"List of National Natural Landmarks in Louisiana\">Louisiana</a></li>\n",
        "<li><a href=\"/wiki/List_of_National_Natural_Landmarks_in_Maine\" title=\"List of National Natural Landmarks in Maine\">Maine</a></li>\n",
        "<li><a href=\"/wiki/List_of_National_Natural_Landmarks_in_Maryland\" title=\"List of National Natural Landmarks in Maryland\">Maryland</a></li>\n",
        "<li><a href=\"/wiki/List_of_National_Natural_Landmarks_in_Massachusetts\" title=\"List of National Natural Landmarks in Massachusetts\">Massachusetts</a></li>\n",
        "<li><a href=\"/wiki/List_of_National_Natural_Landmarks_in_Michigan\" title=\"List of National Natural Landmarks in Michigan\">Michigan</a></li>\n",
        "<li><a href=\"/wiki/List_of_National_Natural_Landmarks_in_Minnesota\" title=\"List of National Natural Landmarks in Minnesota\">Minnesota</a></li>\n",
        "<li><a href=\"/wiki/List_of_National_Natural_Landmarks_in_Mississippi\" title=\"List of National Natural Landmarks in Mississippi\">Mississippi</a></li>\n",
        "<li><a href=\"/wiki/List_of_National_Natural_Landmarks_in_Missouri\" title=\"List of National Natural Landmarks in Missouri\">Missouri</a></li>\n",
        "<li><a href=\"/wiki/List_of_National_Natural_Landmarks_in_Montana\" title=\"List of National Natural Landmarks in Montana\">Montana</a></li>\n",
        "<li><a href=\"/wiki/List_of_National_Natural_Landmarks_in_Nebraska\" title=\"List of National Natural Landmarks in Nebraska\">Nebraska</a></li>\n",
        "<li><a href=\"/wiki/List_of_National_Natural_Landmarks_in_Nevada\" title=\"List of National Natural Landmarks in Nevada\">Nevada</a></li>\n",
        "<li><a href=\"/wiki/List_of_National_Natural_Landmarks_in_New_Hampshire\" title=\"List of National Natural Landmarks in New Hampshire\">New Hampshire</a></li>\n",
        "<li><a href=\"/wiki/List_of_National_Natural_Landmarks_in_New_Jersey\" title=\"List of National Natural Landmarks in New Jersey\">New Jersey</a></li>\n",
        "<li><a href=\"/wiki/List_of_National_Natural_Landmarks_in_New_Mexico\" title=\"List of National Natural Landmarks in New Mexico\">New Mexico</a></li>\n",
        "<li><a href=\"/wiki/List_of_National_Natural_Landmarks_in_New_York\" title=\"List of National Natural Landmarks in New York\">New York</a></li>\n",
        "<li><a href=\"/wiki/List_of_National_Natural_Landmarks_in_North_Carolina\" title=\"List of National Natural Landmarks in North Carolina\">North Carolina</a></li>\n",
        "<li><a href=\"/wiki/List_of_National_Natural_Landmarks_in_North_Dakota\" title=\"List of National Natural Landmarks in North Dakota\">North Dakota</a></li>\n",
        "<li><a href=\"/wiki/List_of_National_Natural_Landmarks_in_Ohio\" title=\"List of National Natural Landmarks in Ohio\">Ohio</a></li>\n",
        "<li><a href=\"/wiki/List_of_National_Natural_Landmarks_in_Oklahoma\" title=\"List of National Natural Landmarks in Oklahoma\">Oklahoma</a></li>\n",
        "<li><a href=\"/wiki/List_of_National_Natural_Landmarks_in_Oregon\" title=\"List of National Natural Landmarks in Oregon\">Oregon</a></li>\n",
        "<li><a href=\"/wiki/List_of_National_Natural_Landmarks_in_Pennsylvania\" title=\"List of National Natural Landmarks in Pennsylvania\">Pennsylvania</a></li>\n",
        "<li><a href=\"/wiki/List_of_National_Natural_Landmarks_in_Rhode_Island\" title=\"List of National Natural Landmarks in Rhode Island\">Rhode Island</a></li>\n",
        "<li><a href=\"/wiki/List_of_National_Natural_Landmarks_in_South_Carolina\" title=\"List of National Natural Landmarks in South Carolina\">South Carolina</a></li>\n",
        "<li><a href=\"/wiki/List_of_National_Natural_Landmarks_in_South_Dakota\" title=\"List of National Natural Landmarks in South Dakota\">South Dakota</a></li>\n",
        "<li><a href=\"/wiki/List_of_National_Natural_Landmarks_in_Tennessee\" title=\"List of National Natural Landmarks in Tennessee\">Tennessee</a></li>\n",
        "<li><a href=\"/wiki/List_of_National_Natural_Landmarks_in_Texas\" title=\"List of National Natural Landmarks in Texas\">Texas</a></li>\n",
        "<li><a href=\"/wiki/List_of_National_Natural_Landmarks_in_Utah\" title=\"List of National Natural Landmarks in Utah\">Utah</a></li>\n",
        "<li><a href=\"/wiki/List_of_National_Natural_Landmarks_in_Vermont\" title=\"List of National Natural Landmarks in Vermont\">Vermont</a></li>\n",
        "<li><a href=\"/wiki/List_of_National_Natural_Landmarks_in_Virginia\" title=\"List of National Natural Landmarks in Virginia\">Virginia</a></li>\n",
        "<li><a href=\"/wiki/List_of_National_Natural_Landmarks_in_Washington\" title=\"List of National Natural Landmarks in Washington\">Washington</a></li>\n",
        "<li><a href=\"/wiki/List_of_National_Natural_Landmarks_in_West_Virginia\" title=\"List of National Natural Landmarks in West Virginia\">West Virginia</a></li>\n",
        "<li><a href=\"/wiki/List_of_National_Natural_Landmarks_in_Wisconsin\" title=\"List of National Natural Landmarks in Wisconsin\">Wisconsin</a></li>\n",
        "<li><a href=\"/wiki/List_of_National_Natural_Landmarks_in_Wyoming\" title=\"List of National Natural Landmarks in Wyoming\">Wyoming</a></li>\n",
        "</ul>\n",
        "</div>\n",
        "</td>\n",
        "</tr>\n",
        "<tr style=\"height:2px;\">\n",
        "<td colspan=\"2\"></td>\n",
        "</tr>\n",
        "<tr>\n",
        "<td class=\"navbox-list navbox-even hlist\" colspan=\"2\" style=\"width:100%;padding:0px;\">\n",
        "<div style=\"padding:0em 0.25em;\">\n",
        "<ul>\n",
        "<li><a href=\"/wiki/List_of_National_Natural_Landmarks_in_American_Samoa\" title=\"List of National Natural Landmarks in American Samoa\">American Samoa</a></li>\n",
        "<li><a href=\"/wiki/List_of_National_Natural_Landmarks_in_Guam\" title=\"List of National Natural Landmarks in Guam\">Guam</a></li>\n",
        "<li><a href=\"/wiki/List_of_National_Natural_Landmarks_in_Puerto_Rico\" title=\"List of National Natural Landmarks in Puerto Rico\">Puerto Rico</a></li>\n",
        "<li><a href=\"/wiki/List_of_National_Natural_Landmarks_in_Virgin_Islands\" title=\"List of National Natural Landmarks in Virgin Islands\">Virgin Islands</a></li>\n",
        "</ul>\n",
        "</div>\n",
        "</td>\n",
        "</tr>\n",
        "</table>\n",
        "</td>\n",
        "</tr>\n",
        "</table>\n",
        "<!-- \n",
        "NewPP limit report\n",
        "Parsed by mw1150\n",
        "CPU time usage: 0.504 seconds\n",
        "Real time usage: 0.560 seconds\n",
        "Preprocessor visited node count: 1421/1000000\n",
        "Preprocessor generated node count: 5165/1500000\n",
        "Post\u2010expand include size: 24978/2048000 bytes\n",
        "Template argument size: 498/2048000 bytes\n",
        "Highest expansion depth: 9/40\n",
        "Expensive parser function count: 2/500\n",
        "Lua time usage: 0.021/10.000 seconds\n",
        "Lua memory usage: 748 KB/50 MB\n",
        "-->\n",
        "<!-- Saved in parser cache with key enwiki:pcache:idhash:20675749-0!*!0!*!*!4!* and timestamp 20141018172250 and revision id 546870493\n",
        " -->\n",
        "<noscript><img alt=\"\" height=\"1\" src=\"//en.wikipedia.org/wiki/Special:CentralAutoLogin/start?type=1x1\" style=\"border: none; position: absolute;\" title=\"\" width=\"1\"/></noscript></div> <div class=\"printfooter\">\n",
        "\t\t\t\t\t\tRetrieved from \"<a dir=\"ltr\" href=\"http://en.wikipedia.org/w/index.php?title=List_of_National_Natural_Landmarks_in_Georgia&amp;oldid=546870493\">http://en.wikipedia.org/w/index.php?title=List_of_National_Natural_Landmarks_in_Georgia&amp;oldid=546870493</a>\"\t\t\t\t\t</div>\n",
        "<div class=\"catlinks\" id=\"catlinks\"><div class=\"mw-normal-catlinks\" id=\"mw-normal-catlinks\"><a href=\"/wiki/Help:Category\" title=\"Help:Category\">Categories</a>: <ul><li><a href=\"/wiki/Category:National_Natural_Landmarks_in_Georgia_(U.S._state)\" title=\"Category:National Natural Landmarks in Georgia (U.S. state)\">National Natural Landmarks in Georgia (U.S. state)</a></li><li><a href=\"/wiki/Category:Georgia_(U.S._state)-related_lists\" title=\"Category:Georgia (U.S. state)-related lists\">Georgia (U.S. state)-related lists</a></li><li><a href=\"/wiki/Category:Lists_of_National_Natural_Landmarks\" title=\"Category:Lists of National Natural Landmarks\">Lists of National Natural Landmarks</a></li></ul></div><div class=\"mw-hidden-catlinks mw-hidden-cats-hidden\" id=\"mw-hidden-catlinks\">Hidden categories: <ul><li><a href=\"/wiki/Category:Lists_of_coordinates\" title=\"Category:Lists of coordinates\">Lists of coordinates</a></li><li><a href=\"/wiki/Category:Geographic_coordinate_lists\" title=\"Category:Geographic coordinate lists\">Geographic coordinate lists</a></li><li><a href=\"/wiki/Category:Articles_with_Geo\" title=\"Category:Articles with Geo\">Articles with Geo</a></li></ul></div></div> <div class=\"visualClear\"></div>\n",
        "</div>\n",
        "</div>\n",
        "<div id=\"mw-navigation\">\n",
        "<h2>Navigation menu</h2>\n",
        "<div id=\"mw-head\">\n",
        "<div aria-labelledby=\"p-personal-label\" class=\"\" id=\"p-personal\" role=\"navigation\">\n",
        "<h3 id=\"p-personal-label\">Personal tools</h3>\n",
        "<ul>\n",
        "<li id=\"pt-createaccount\"><a href=\"/w/index.php?title=Special:UserLogin&amp;returnto=List+of+National+Natural+Landmarks+in+Georgia&amp;type=signup\" title=\"You are encouraged to create an account and log in; however, it is not mandatory\">Create account</a></li><li id=\"pt-login\"><a accesskey=\"o\" href=\"/w/index.php?title=Special:UserLogin&amp;returnto=List+of+National+Natural+Landmarks+in+Georgia\" title=\"You're encouraged to log in; however, it's not mandatory. [o]\">Log in</a></li> </ul>\n",
        "</div>\n",
        "<div id=\"left-navigation\">\n",
        "<div aria-labelledby=\"p-namespaces-label\" class=\"vectorTabs\" id=\"p-namespaces\" role=\"navigation\">\n",
        "<h3 id=\"p-namespaces-label\">Namespaces</h3>\n",
        "<ul>\n",
        "<li class=\"selected\" id=\"ca-nstab-main\"><span><a accesskey=\"c\" href=\"/wiki/List_of_National_Natural_Landmarks_in_Georgia\" title=\"View the content page [c]\">Article</a></span></li>\n",
        "<li id=\"ca-talk\"><span><a accesskey=\"t\" href=\"/wiki/Talk:List_of_National_Natural_Landmarks_in_Georgia\" title=\"Discussion about the content page [t]\">Talk</a></span></li>\n",
        "</ul>\n",
        "</div>\n",
        "<div aria-labelledby=\"p-variants-label\" class=\"vectorMenu emptyPortlet\" id=\"p-variants\" role=\"navigation\">\n",
        "<h3 id=\"p-variants-label\"><span>Variants</span><a href=\"#\"></a></h3>\n",
        "<div class=\"menu\">\n",
        "<ul>\n",
        "</ul>\n",
        "</div>\n",
        "</div>\n",
        "</div>\n",
        "<div id=\"right-navigation\">\n",
        "<div aria-labelledby=\"p-views-label\" class=\"vectorTabs\" id=\"p-views\" role=\"navigation\">\n",
        "<h3 id=\"p-views-label\">Views</h3>\n",
        "<ul>\n",
        "<li class=\"selected\" id=\"ca-view\"><span><a href=\"/wiki/List_of_National_Natural_Landmarks_in_Georgia\">Read</a></span></li>\n",
        "<li id=\"ca-edit\"><span><a accesskey=\"e\" href=\"/w/index.php?title=List_of_National_Natural_Landmarks_in_Georgia&amp;action=edit\" title=\"You can edit this page. Please use the preview button before saving [e]\">Edit</a></span></li>\n",
        "<li class=\"collapsible\" id=\"ca-history\"><span><a accesskey=\"h\" href=\"/w/index.php?title=List_of_National_Natural_Landmarks_in_Georgia&amp;action=history\" title=\"Past versions of this page [h]\">View history</a></span></li>\n",
        "</ul>\n",
        "</div>\n",
        "<div aria-labelledby=\"p-cactions-label\" class=\"vectorMenu emptyPortlet\" id=\"p-cactions\" role=\"navigation\">\n",
        "<h3 id=\"p-cactions-label\"><span>More</span><a href=\"#\"></a></h3>\n",
        "<div class=\"menu\">\n",
        "<ul>\n",
        "</ul>\n",
        "</div>\n",
        "</div>\n",
        "<div id=\"p-search\" role=\"search\">\n",
        "<h3>\n",
        "<label for=\"searchInput\">Search</label>\n",
        "</h3>\n",
        "<form action=\"/w/index.php\" id=\"searchform\">\n",
        "<div id=\"simpleSearch\">\n",
        "<input accesskey=\"f\" id=\"searchInput\" name=\"search\" placeholder=\"Search\" title=\"Search Wikipedia [f]\" type=\"search\"/><input name=\"title\" type=\"hidden\" value=\"Special:Search\"/><input class=\"searchButton mw-fallbackSearchButton\" id=\"mw-searchButton\" name=\"fulltext\" title=\"Search Wikipedia for this text\" type=\"submit\" value=\"Search\"/><input class=\"searchButton\" id=\"searchButton\" name=\"go\" title=\"Go to a page with this exact name if one exists\" type=\"submit\" value=\"Go\"/> </div>\n",
        "</form>\n",
        "</div>\n",
        "</div>\n",
        "</div>\n",
        "<div id=\"mw-panel\">\n",
        "<div id=\"p-logo\" role=\"banner\"><a class=\"mw-wiki-logo\" href=\"/wiki/Main_Page\" title=\"Visit the main page\"></a></div>\n",
        "<div aria-labelledby=\"p-navigation-label\" class=\"portal\" id=\"p-navigation\" role=\"navigation\">\n",
        "<h3 id=\"p-navigation-label\">Navigation</h3>\n",
        "<div class=\"body\">\n",
        "<ul>\n",
        "<li id=\"n-mainpage-description\"><a accesskey=\"z\" href=\"/wiki/Main_Page\" title=\"Visit the main page [z]\">Main page</a></li>\n",
        "<li id=\"n-contents\"><a href=\"/wiki/Portal:Contents\" title=\"Guides to browsing Wikipedia\">Contents</a></li>\n",
        "<li id=\"n-featuredcontent\"><a href=\"/wiki/Portal:Featured_content\" title=\"Featured content \u2013 the best of Wikipedia\">Featured content</a></li>\n",
        "<li id=\"n-currentevents\"><a href=\"/wiki/Portal:Current_events\" title=\"Find background information on current events\">Current events</a></li>\n",
        "<li id=\"n-randompage\"><a accesskey=\"x\" href=\"/wiki/Special:Random\" title=\"Load a random article [x]\">Random article</a></li>\n",
        "<li id=\"n-sitesupport\"><a href=\"https://donate.wikimedia.org/wiki/Special:FundraiserRedirector?utm_source=donate&amp;utm_medium=sidebar&amp;utm_campaign=C13_en.wikipedia.org&amp;uselang=en\" title=\"Support us\">Donate to Wikipedia</a></li>\n",
        "<li id=\"n-shoplink\"><a href=\"//shop.wikimedia.org\" title=\"Visit the Wikimedia Shop\">Wikimedia Shop</a></li>\n",
        "</ul>\n",
        "</div>\n",
        "</div>\n",
        "<div aria-labelledby=\"p-interaction-label\" class=\"portal\" id=\"p-interaction\" role=\"navigation\">\n",
        "<h3 id=\"p-interaction-label\">Interaction</h3>\n",
        "<div class=\"body\">\n",
        "<ul>\n",
        "<li id=\"n-help\"><a href=\"/wiki/Help:Contents\" title=\"Guidance on how to use and edit Wikipedia\">Help</a></li>\n",
        "<li id=\"n-aboutsite\"><a href=\"/wiki/Wikipedia:About\" title=\"Find out about Wikipedia\">About Wikipedia</a></li>\n",
        "<li id=\"n-portal\"><a href=\"/wiki/Wikipedia:Community_portal\" title=\"About the project, what you can do, where to find things\">Community portal</a></li>\n",
        "<li id=\"n-recentchanges\"><a accesskey=\"r\" href=\"/wiki/Special:RecentChanges\" title=\"A list of recent changes in the wiki [r]\">Recent changes</a></li>\n",
        "<li id=\"n-contactpage\"><a href=\"//en.wikipedia.org/wiki/Wikipedia:Contact_us\">Contact page</a></li>\n",
        "</ul>\n",
        "</div>\n",
        "</div>\n",
        "<div aria-labelledby=\"p-tb-label\" class=\"portal\" id=\"p-tb\" role=\"navigation\">\n",
        "<h3 id=\"p-tb-label\">Tools</h3>\n",
        "<div class=\"body\">\n",
        "<ul>\n",
        "<li id=\"t-whatlinkshere\"><a accesskey=\"j\" href=\"/wiki/Special:WhatLinksHere/List_of_National_Natural_Landmarks_in_Georgia\" title=\"List of all English Wikipedia pages containing links to this page [j]\">What links here</a></li>\n",
        "<li id=\"t-recentchangeslinked\"><a accesskey=\"k\" href=\"/wiki/Special:RecentChangesLinked/List_of_National_Natural_Landmarks_in_Georgia\" title=\"Recent changes in pages linked from this page [k]\">Related changes</a></li>\n",
        "<li id=\"t-upload\"><a accesskey=\"u\" href=\"/wiki/Wikipedia:File_Upload_Wizard\" title=\"Upload files [u]\">Upload file</a></li>\n",
        "<li id=\"t-specialpages\"><a accesskey=\"q\" href=\"/wiki/Special:SpecialPages\" title=\"A list of all special pages [q]\">Special pages</a></li>\n",
        "<li id=\"t-permalink\"><a href=\"/w/index.php?title=List_of_National_Natural_Landmarks_in_Georgia&amp;oldid=546870493\" title=\"Permanent link to this revision of the page\">Permanent link</a></li>\n",
        "<li id=\"t-info\"><a href=\"/w/index.php?title=List_of_National_Natural_Landmarks_in_Georgia&amp;action=info\" title=\"More information about this page\">Page information</a></li>\n",
        "<li id=\"t-wikibase\"><a accesskey=\"g\" href=\"//www.wikidata.org/wiki/Q6591509\" title=\"Link to connected data repository item [g]\">Wikidata item</a></li>\n",
        "<li id=\"t-cite\"><a href=\"/w/index.php?title=Special:CiteThisPage&amp;page=List_of_National_Natural_Landmarks_in_Georgia&amp;id=546870493\" title=\"Information on how to cite this page\">Cite this page</a></li> </ul>\n",
        "</div>\n",
        "</div>\n",
        "<div aria-labelledby=\"p-coll-print_export-label\" class=\"portal\" id=\"p-coll-print_export\" role=\"navigation\">\n",
        "<h3 id=\"p-coll-print_export-label\">Print/export</h3>\n",
        "<div class=\"body\">\n",
        "<ul>\n",
        "<li id=\"coll-create_a_book\"><a href=\"/w/index.php?title=Special:Book&amp;bookcmd=book_creator&amp;referer=List+of+National+Natural+Landmarks+in+Georgia\">Create a book</a></li>\n",
        "<li id=\"coll-download-as-rdf2latex\"><a href=\"/w/index.php?title=Special:Book&amp;bookcmd=render_article&amp;arttitle=List+of+National+Natural+Landmarks+in+Georgia&amp;oldid=546870493&amp;writer=rdf2latex\">Download as PDF</a></li>\n",
        "<li id=\"t-print\"><a accesskey=\"p\" href=\"/w/index.php?title=List_of_National_Natural_Landmarks_in_Georgia&amp;printable=yes\" title=\"Printable version of this page [p]\">Printable version</a></li>\n",
        "</ul>\n",
        "</div>\n",
        "</div>\n",
        "<div aria-labelledby=\"p-lang-label\" class=\"portal\" id=\"p-lang\" role=\"navigation\">\n",
        "<h3 id=\"p-lang-label\">Languages</h3>\n",
        "<div class=\"body\">\n",
        "<ul>\n",
        "<li class=\"uls-p-lang-dummy\"><a href=\"#\"></a></li>\n",
        "</ul>\n",
        "<div class=\"after-portlet after-portlet-lang\"><span class=\"wb-langlinks-edit wb-langlinks-link\"><a action=\"edit\" class=\"wbc-editpage\" href=\"//www.wikidata.org/wiki/Q6591509#sitelinks-wikipedia\" text=\"Edit links\" title=\"Edit interlanguage links\">Edit links</a></span></div> </div>\n",
        "</div>\n",
        "</div>\n",
        "</div>\n",
        "<div id=\"footer\" role=\"contentinfo\">\n",
        "<ul id=\"footer-info\">\n",
        "<li id=\"footer-info-lastmod\"> This page was last modified on 25 March 2013 at 07:40.<br/></li>\n",
        "<li id=\"footer-info-copyright\">Text is available under the <a href=\"//en.wikipedia.org/wiki/Wikipedia:Text_of_Creative_Commons_Attribution-ShareAlike_3.0_Unported_License\" rel=\"license\">Creative Commons Attribution-ShareAlike License</a><a href=\"//creativecommons.org/licenses/by-sa/3.0/\" rel=\"license\" style=\"display:none;\"></a>;\n",
        "additional terms may apply.  By using this site, you agree to the <a href=\"//wikimediafoundation.org/wiki/Terms_of_Use\">Terms of Use</a> and <a href=\"//wikimediafoundation.org/wiki/Privacy_policy\">Privacy Policy</a>. Wikipedia\u00ae is a registered trademark of the <a href=\"//www.wikimediafoundation.org/\">Wikimedia Foundation, Inc.</a>, a non-profit organization.</li>\n",
        "</ul>\n",
        "<ul id=\"footer-places\">\n",
        "<li id=\"footer-places-privacy\"><a href=\"//wikimediafoundation.org/wiki/Privacy_policy\" title=\"wikimedia:Privacy policy\">Privacy policy</a></li>\n",
        "<li id=\"footer-places-about\"><a href=\"/wiki/Wikipedia:About\" title=\"Wikipedia:About\">About Wikipedia</a></li>\n",
        "<li id=\"footer-places-disclaimer\"><a href=\"/wiki/Wikipedia:General_disclaimer\" title=\"Wikipedia:General disclaimer\">Disclaimers</a></li>\n",
        "<li id=\"footer-places-contact\"><a href=\"//en.wikipedia.org/wiki/Wikipedia:Contact_us\">Contact Wikipedia</a></li>\n",
        "<li id=\"footer-places-developers\"><a href=\"https://www.mediawiki.org/wiki/Special:MyLanguage/How_to_contribute\">Developers</a></li>\n",
        "<li id=\"footer-places-mobileview\"><a class=\"noprint stopMobileRedirectToggle\" href=\"//en.m.wikipedia.org/w/index.php?title=List_of_National_Natural_Landmarks_in_Georgia&amp;mobileaction=toggle_view_mobile\">Mobile view</a></li>\n",
        "</ul>\n",
        "<ul class=\"noprint\" id=\"footer-icons\">\n",
        "<li id=\"footer-copyrightico\">\n",
        "<a href=\"//wikimediafoundation.org/\"><img alt=\"Wikimedia Foundation\" height=\"31\" src=\"//bits.wikimedia.org/images/wikimedia-button.png\" srcset=\"//bits.wikimedia.org/images/wikimedia-button-1.5x.png 1.5x, //bits.wikimedia.org/images/wikimedia-button-2x.png 2x\" width=\"88\"/></a>\n",
        "</li>\n",
        "<li id=\"footer-poweredbyico\">\n",
        "<a href=\"//www.mediawiki.org/\"><img alt=\"Powered by MediaWiki\" height=\"31\" src=\"//bits.wikimedia.org/static-1.25wmf5/resources/assets/poweredby_mediawiki_88x31.png\" width=\"88\"/></a>\n",
        "</li>\n",
        "</ul>\n",
        "<div style=\"clear:both\"></div>\n",
        "</div>\n",
        "<script>/*<![CDATA[*/window.jQuery && jQuery.ready();/*]]>*/</script><script>if(window.mw){\n",
        "mw.loader.state({\"ext.globalCssJs.site\":\"ready\",\"ext.globalCssJs.user\":\"ready\",\"site\":\"loading\",\"user\":\"ready\",\"user.groups\":\"ready\"});\n",
        "}</script>\n",
        "<script>if(window.mw){\n",
        "mw.loader.load([\"mediawiki.action.view.postEdit\",\"mediawiki.user\",\"mediawiki.hidpi\",\"mediawiki.page.ready\",\"mediawiki.searchSuggest\",\"ext.gadget.teahouse\",\"ext.gadget.ReferenceTooltips\",\"ext.gadget.DRN-wizard\",\"ext.gadget.charinsert\",\"ext.gadget.refToolbar\",\"ext.gadget.featured-articles-links\",\"mmv.bootstrap.autostart\",\"ext.eventLogging.subscriber\",\"ext.navigationTiming\",\"schema.UniversalLanguageSelector\",\"ext.uls.eventlogger\",\"ext.uls.interlanguage\"],null,true);\n",
        "}</script>\n",
        "<script>if(window.mw){\n",
        "document.write(\"\\u003Cscript src=\\\"//bits.wikimedia.org/en.wikipedia.org/load.php?debug=false\\u0026amp;lang=en\\u0026amp;modules=site\\u0026amp;only=scripts\\u0026amp;skin=vector\\u0026amp;*\\\"\\u003E\\u003C/script\\u003E\");\n",
        "}</script>\n",
        "<script>if(window.mw){\n",
        "mw.config.set({\"wgBackendResponseTime\":275,\"wgHostname\":\"mw1099\"});\n",
        "}</script>\n",
        "</body>\n",
        "</html>"
       ]
      }
     ],
     "prompt_number": 273
    },
    {
     "cell_type": "code",
     "collapsed": false,
     "input": [
      "#req = requests.get('https://en.wikipedia.org/wiki/Visual_acuity')\n",
      "urls = []\n",
      "articles = []\n",
      "for i in range(5):\n",
      "    req = requests.get('https://en.wikipedia.org/wiki/Special:Random')\n",
      "    soup = BeautifulSoup(req.text)\n",
      "    paragraphs =  soup.findAll(\"div\", {\"id\" : \"mw-content-text\"})[0].findAll('p')\n",
      "    text = ' '.join([par.text for par in paragraphs] )\n",
      "    text = str(re.sub('[^\\w\\s\\[\\]+]', '', text))\n",
      "    text = str(re.sub(\"\\[.*\\]\", '', text))\n",
      "    articles.append(text)\n",
      "    urls.append(req.url)"
     ],
     "language": "python",
     "metadata": {},
     "outputs": [],
     "prompt_number": 353
    },
    {
     "cell_type": "code",
     "collapsed": false,
     "input": [
      "articles"
     ],
     "language": "python",
     "metadata": {},
     "outputs": [
      {
       "metadata": {},
       "output_type": "pyout",
       "prompt_number": 354,
       "text": [
        "['Carposina scierotoxa is a moth in the Carposinidae family It is found in Uganda ',\n",
        " 'The Guitares Drive duo was formed in Paris in 1974 by Vincent Le Masne and Bertrand Porquet cocomposers and interpreters of their own original music on two classical guitars Rapidly classified into the American repetitive category of that same period their music nonetheless stands out by virtue of its writing which avoids all systematisation in the repetition of musical phrases but on the contrary constantly unfolds in the form of works entirely written and of quite long duration In the newspaper le Monde Jacques Lonchampt spoke of the exhilarating character of this music in which two expressions the one rhythmical and obsessive the other melodic and symbolic merge and drift according to a principle of infinitesimal variations to take us eventually quite far from where we started out These variations testify to great rigour yet also to a keen sense of harmonic sequence that is both highly daring and acoustically dynamic Discovered by Daniel Caux journalist and radio presenter specializing in this kind of music they performed numerous concerts before recording the 1976 album Guitares Drive for Shandar a cult label par excellence set up in 1971 by gallery owner Chantal Darcy in collaboration with Daniel Caux as artistic director whose catalogue includes amongst others albums by American minimalists like Terry Riley Steve Reich La Monte Young Phil Glass as well as jazz musicians Albert Ayler Sun Ra and Cecil Taylor The album Guitares Drive is a studio album recorded live by two 22 yearold musicians The acoustic instrument at its purest yet imbued with great modernity A pointillist music made up of a surge of interwoven notes which seem to multiply although no rerecording was used in the words of JeanMarc Bailleux of Rock  Folk magazine Vincent Le Masne et Bertrand Porquet do not as some tend to do place complexity in the foreground in the guise of quality as an alibi as a mere cover for vacuity Their approach is the very opposite to present us with simplicity in which complexity lies hidden Daniel Caux The album Guitares Drive has been reissued by Fractal Records in May 2010 now available for the first time on CD in a Digipack edition',\n",
        " 'Macrocnemum jamaicense is a species of plant in the Rubiaceae family It is endemic to Jamaica ',\n",
        " 'The first USS Leyden was a screw steamer that operated as a tug in the US Navy from 1866 to 1903 and saw combat service in the SpanishAmerican War in 1898 Leyden was launched in 1865 by James Tetlow Chelsea Massachusetts From 1866 to 1879 she operated as a yard tug at the Boston Navy Yard performing various harbor duties out of Boston Massachusetts until reassigned to Portsmouth New Hampshire in 1879 Leyden served there until 1897 when she was assigned to Newport Rhode Island While the ship was near Boston on 26 August 1881 Seaman Michael Thornton jumped overboard and rescued a fellow sailor from drowning for which he was awarded the Medal of Honor From 1898 to 1903 Leyden alternated her services between the Caribbean and Newport Rhode Island While on a return passage from Puerto Rico on 21 January 1903 the tug foundered in heavy fog off Block Island ending her long useful career Ordinary Seaman Ernest H Bjorkman Fireman First Class Loddie Stupka Quartermaster Third Class August P Teytand and Chief Machinist Michael Walsh received the Medal of Honor for heroism at the time of the wreck of that vessel ',\n",
        " 'The Variable Room Acoustics System is an acoustic enhancement system for controlling room acoustics electronically In addition VRAS uses a number of microphones close to the stage area to detect early energy from the performers which is used to generate early reflections Such systems are termed inline or nonregenerative Inline systems aim to minimise the effects of regeneration by detecting stage sound at a high level and may then be used to generate early reflections or late reverberation VRAS is thus a hybrid system that uses both regenerative and nonregenerative approaches VRAS was developed by Mark Poletti at Industrial Research Limited New Zealand and commercialized by LCS Audio VRAS is now a part of the Meyer Sound Laboratories Constellation System  ']"
       ]
      }
     ],
     "prompt_number": 354
    },
    {
     "cell_type": "code",
     "collapsed": false,
     "input": [
      "urls"
     ],
     "language": "python",
     "metadata": {},
     "outputs": [
      {
       "metadata": {},
       "output_type": "pyout",
       "prompt_number": 356,
       "text": [
        "[u'https://en.wikipedia.org/wiki/Carposina_scierotoxa',\n",
        " u'https://en.wikipedia.org/wiki/Guitares_D%C3%A9rive',\n",
        " u'https://en.wikipedia.org/wiki/Macrocnemum_jamaicense',\n",
        " u'https://en.wikipedia.org/wiki/USS_Leyden_(1865)',\n",
        " u'https://en.wikipedia.org/wiki/VRAS']"
       ]
      }
     ],
     "prompt_number": 356
    },
    {
     "cell_type": "code",
     "collapsed": false,
     "input": [
      "params = {'apiKey' : key, 'output': 'JSON', 'startDate' : '2014-01-01', 'endDate' : '2014-08-01'}"
     ],
     "language": "python",
     "metadata": {},
     "outputs": [],
     "prompt_number": 385
    },
    {
     "cell_type": "code",
     "collapsed": false,
     "input": [
      "r = requests.get(base, params=params)\n",
      "a = r.json()"
     ],
     "language": "python",
     "metadata": {},
     "outputs": [],
     "prompt_number": 386
    },
    {
     "cell_type": "code",
     "collapsed": false,
     "input": [
      "for story in a['list']['story']:\n",
      "    print story['text']"
     ],
     "language": "python",
     "metadata": {},
     "outputs": [
      {
       "output_type": "stream",
       "stream": "stdout",
       "text": [
        "{u'paragraph': [{u'num': u'1', u'$text': u'This post was updated at 11 p.m. ET. '}, {u'num': u'2', u'$text': u'In an attempt to weigh in on an immigration issue before Congress leaves Washington for a five-week break, the House has voted 223-189 to approve a $694 million emergency funding bill. The Republican-backed legislation is a response to the rising number of minors who have crossed the U.S. border unaccompanied and without going through the necessary legal steps.'}, {u'num': u'3', u'$text': u\"The Border Security Supplemental Spending Bill was endorsed one day after the House Republican leadership canceled its plan to hold a vote on the legislation. The bill is not expected to have a chance of passage in the Senate, which didn't approve a different version of similar legislation before it left for an end-of-summer break.\"}, {u'num': u'4', u'$text': u'As we reported Thursday, the bill would boost \"funding for overwhelmed border agencies, add immigration judges and detention space, send National Guard troops to the border, and change the law so that the youths can be sent home quickly without deportation hearings that are now guaranteed, according to The Associated Press.\"'}, {u'num': u'5', u'$text': u\"Also on Friday, the House voted 216-192 to end the president's deportation relief program. The Deferred Action for Child Arrivals program gives officials discretion to defer the deportation of people who entered the U.S. illegally before they turned 16.\"}, {u'num': u'6', u'$text': u\"The votes came hours after President Obama criticized Congress for not acting on immigration and other issues he said need to be dealt with to help America's economy continue to improve. [Copyright 2014 NPR]\"}]}\n",
        "{u'paragraph': [{u'num': u'1', u'$text': u'After police in Salinas, Calif., shot and killed four Latino men since March, local authorities are rejecting demands for a federal investigation. Salinas Police Chief Kelly McMillin told NPR member station KQED that even though his department \"has nothing to hide,\" a federal review would be premature since internal investigations of the shootings are still pending.'}, {u'num': u'2', u'$text': u'But the killings, including one captured on video on May 20, have soured police-community relations in a city that bills itself as the \"Salad Bowl of the World.\" In that incident, 44-year-old Carlos Mejia was waving a pair of garden shears at officers before he was fatally shot.'}, {u'num': u'3', u'$text': u'More recently, 39 year old parolee Frank Alvarado, was shot and killed on July 11 after authorities said he approached officers pointing a cellphone. The police apparently thought it was a weapon.'}, {u'num': u'4', u'$text': u'Two other men, 26 year old Osman Hernandez and 42 year old Angel Ruiz were killed by Salinas police on May 9 and March 20 respectively.'}, {u'num': u'5', u'$text': u'The series of fatal shootings have sparked angry protests and demonstrations in a community of about 150,000 people. Salinas is also 75 percent Latino.'}, {u'num': u'6', u'$text': u\"Calls for a federal inquiry into the killings began in May, but they were amplified recently when Oakland-based civil rights attorney John Burris announced that he has requested action by the Justice Department's Civil Rights Division.\"}, {u'num': u'7', u'$text': u'\"We want to find out whether these shootings were a pattern of discriminatory law enforcement or four isolated incidents,\" said Burris. The shootings are \"uncalled for, questionable, and alarming,\" he added.'}, {u'num': u'8', u'$text': u\"The Justice Department had no comment on Burris' request.\"}, {u'num': u'9', u'$text': u'Burris issued his call for an investigation on the steps of the federal courthouse in San Francisco, not Salinas. He was joined by relatives and supporters of the slain men, including community activist Margaret Bonetti.'}, {u'num': u'10', u'$text': u'\"The community is not trusting the local police department. We\\'re here in San Francisco because we feel we\\'ll get more justice here then we will out of Salinas,\" said Bonetti.'}, {u'num': u'11', u'$text': u'Salinas Police Chief McMillin defends his officers and rejects accusations of racism.'}, {u'num': u'12', u'$text': u'\"We weren\\'t racially profiling anyone. We were responding in every case to calls for service because of the actions of these individuals. They identified themselves by acting violently and frightening, terrorizing the people around them,\" he said.'}, {u'num': u'13', u'$text': u'Update at 12:45 p.m. ET. on Aug. 6: Response From Salinas PD:'}, {u'num': u'14', u'$text': u'A spokesman for the Salinas Police Department, Spencer Critchley, responded:'}, {u'num': u'15'}, {u'num': u'16', u'$text': u'\"The headline of your story, and what follows from that headline, is based on the assumption that it\\'s significant that the four people shot by Salinas police this year were Latinos.'}, {u'num': u'17', u'$text': u'\"In Salinas, nearly eight out of 10 people are Latinos. And for socio-economic reasons, more than nine out of 10 of the small number of people who commit violent crimes are Latinos. So anyone who does anything in Salinas, including all the good things, is likely to be Latino, and so is anyone who has an interaction with the police.\"'}, {u'num': u'18'}, {u'num': u'19', u'$text': u'Regarding our statement that Chief Kelly McMillin rejects a federal investigation of the shooting incidents, Critchley said:'}, {u'num': u'20'}, {u'num': u'21', u'$text': u'\"I don\\'t think that\\'s the meaning intended by the KQED story your piece is based on. The Chief requested that both the FBI and the Civil Rights Division of the Department of Justice review the investigations of two of the recent shootings. He has not rejected an investigation of the department, he has said he believes it\\'s unlikely that the DOJ will follow up on Mr. Burris\\' call for one. He believes that if it did, it would find a department of highly trained, compassionate officers.\"'}, {u'num': u'22', u'$text': u' [Copyright 2014 NPR]'}]}\n",
        "{u'paragraph': [{u'num': u'1', u'$text': u'A medical transport plane was en route to pick up two Americans sick with Ebola in Liberia, doctors in Atlanta said Friday.'}, {u'num': u'2', u'$text': u'This will be the first time doctors will treat somebody for Ebola outbreak in the U.S, they said.'}, {u'num': u'3', u'$text': u'Both people caught the virus while treating patients in the largest and deadliest Ebola outbreak in history. More than 700 people have died in West Africa from Ebola since March.'}, {u'num': u'4', u'$text': u'The aid workers will fly to Atlanta in planes equipped with isolation tents, called Aeromedical Biological Containment Systems. Then they will be treated in a special unit at the Emory University Hospital.'}, {u'num': u'5', u'$text': u'\"The first one [patient] will come in the next several days,\" Dr. Bruce Ribner, who directs the hospital\\'s infectious diseases unit, said at a press conference. \"A second patient will be coming a few days after that.\"'}, {u'num': u'6', u'$text': u\"Both patients are in stable condition, Ribner said. He wouldn't give out their names, but he said the Christian aid group Samaritan's Purse had reached out to the hospital for help.\"}, {u'num': u'7', u'$text': u\"Last weekend, Samaritan's Purse said that two of their aid workers had caught Ebola while helping patients in Monrovia, Liberia. Dr. Kent Brantly, 33, is a general physician trained in Forth Worth, Texas, while Nancy Writebol, 59, is a missionary from Charlotte, N.C.\"}, {u'num': u'8', u'$text': u'Writebol also works for the charity group SIM. \"SIM\\'s understanding is that they\\'re both going to Emory,\" a spokesperson for the charity told NPR about Writebol and Brantly.'}, {u'num': u'9', u'$text': u'So why bring these people back to the U.S. when they can get treatment in Liberia?'}, {u'num': u'10', u'$text': u'\"We feel they deserve to have the highest level of care offered for their treatment,\" Ribner said. \"They have gone on a humanitarian mission. They have become infected through medical care. ... We have the environment and expertise to safely care for these patients and offer them the maximum opportunity for recovery from these infections.\"'}, {u'num': u'11', u'$text': u'Many hospitals in the U.S. have wards for isolating patients with Ebola. The Emory hospital is one of only four with a ward that can give these patients any and all treatment they need, including full intensive care.'}, {u'num': u'12', u'$text': u'The special clinic was last used during the SARS outbreak in 2003.'}, {u'num': u'13', u'$text': u\"So what's the risk of Ebola spreading during the transport of these patients? Very low, Ribner said.\"}, {u'num': u'14', u'$text': u'\"Ebola is not spread by some magic mechanism,\" he said. Like HIV and hepatitis C, Ebola is not transmitted through the air. People have to contact bodily fluids, such as blood, vomit and saliva of an infected person.'}, {u'num': u'15', u'$text': u'\"Ebola does not spread by casual contact,\" the director of the Centers for Disease Control and Prevention, Tom Frieden, told CNN on Friday.'}, {u'num': u'16', u'$text': u'\"I know that it [Ebola] creates fear in people,\" he said. \"I really hope that people\\'s fear won\\'t outweigh their compassion.'}, {u'num': u'17', u'$text': u'\"We have to focus on stopping the outbreak [in West Africa],\" he added. \"That means if people who are working on that response get sick, we take care of them.\" [Copyright 2014 NPR]'}]}\n",
        "{u'paragraph': [{u'num': u'1', u'$text': u\"When Leanne Brown moved to New York from Canada to earn a master's in food studies at New York University, she couldn't help noticing that Americans on a tight budget were eating a lot of processed foods heavy in carbs.\"}, {u'num': u'2', u'$text': u'\"It really bothered me,\" she says. \"The 47 million people on food stamps \\u2014 and that\\'s a big chunk of the population \\u2014 don\\'t have the same choices everyone else does.\"'}, {u'num': u'3', u'$text': u\"Brown guessed that she could help people in SNAP, the federal government's Supplemental Nutrition Assistance Program, find ways to cook filling, nourishing and flavorful meals. So she set out to write a cookbook full of recipes anyone could make on a budget of just $4 a day.\"}, {u'num': u'4', u'$text': u'The result is Good and Cheap, which is free online and has been downloaded over 200,000 times since she posted it on her website in early June. A July Kickstarter campaign also helped Brown raise $145,000 to print copies for people without computer access.'}, {u'num': u'5', u'$text': u\"So what are Brown's secrets to eating well on $4 a day? It's about stocking the pantry with cheap basics to build meals from: things like garlic, canned vegetables, dried beans and butter.\"}, {u'num': u'6', u'$text': u'She also emphasizes flexibility, and avoids prescribing strict meals and methods. That means lots of options for substitutions, especially when it comes to the produce aisle, where prices can fluctuate based on season and availability. Each meal is priced out by serving.'}, {u'num': u'7', u'$text': u'Earlier this week, Deborahmichelle Sanders, 63, of San Francisco turned to the cookbook and found an intriguing recipe: cornmeal crusted vegetables with an Asian-inspired peanut sauce for dipping.'}, {u'num': u'8', u'$text': u'Since she couldn\\'t afford the suggested beans or peppers, she tried carrots. The result? \"It\\'s so wonderful,\" she tells The Salt.'}, {u'num': u'9', u'$text': u'SNAP currently provides 46.2 million low-income people like Sanders with a monthly average stipend for food of $126 in the form of a debit card. They can take it to the grocery store, pick out their food and swipe the card at the register.'}, {u'num': u'10', u'$text': u\"SNAP has no equivalent in Brown's home country of Canada; its public assistance programs are more flexible, she says. And she wasn't impressed with what she found when she went looking for resources for people in the U.S. program on how to cook well with the benefits.\"}, {u'num': u'11', u'$text': u'\"Tons of organizations are doing amazing, useful work, but usually their recipes can sound sort of preachy, or else they\\'re very governmental,\" she says. Brown thinks the cookbooks that exist try to tell people the right way to live their lives \\u2014 explaining what exactly they should eat and how exactly they should prepare it \\u2014 and that often turns them off to the recipes.'}, {u'num': u'12', u'$text': u'\"As much as a recipe book, [Brown\\'s book] is an idea book,\" says Brenda Mahoney of Dallas, another woman in SNAP who\\'s using the book. In fact, some of Good and Cheap\\'s pages come with exactly that label: \"ideas.\"'}, {u'num': u'13', u'$text': u'One page, titled \"Leftovers,\" offers tips on the myriad ways to make good use of old meals, like putting the fixings you originally used to top toast in a wrap or on a pizza, or turning almost anything into a sandwich. Another called \"Popcorn!\" recommends livening up the familiar snack by adding spices.'}, {u'num': u'14', u'$text': u'Good and Cheap is also filled with beautiful photos \\u2014 a visual feast, especially compared with the other recipe books tailored to people in SNAP.'}, {u'num': u'15', u'$text': u\"Take the U.S. Department of Agriculture's Tips for Healthy, Thrifty Meals. Orange lines and black bullet points fill up entire pages, with equally uninspiring sketches on the side.\"}, {u'num': u'16', u'$text': u\"And compare their Turkey Cabbage Casserole to Brown's Savory Summer Cobbler, which both Sanders and Mahoney cite as their favorite dish. Even the name draws a reader to the recipe, which features seasonal vegetables under a peppery biscuit crust. The lush photo that accompanies it on the page doesn't hurt.\"}, {u'num': u'17', u'$text': u'\"You choose what vegetables you want, so I used tomato and a green-striped crookneck squash, which was the cheapest I could find,\" says Sanders. \"It is so, so good.\"'}, {u'num': u'18', u'$text': u'Mahoney agrees.'}, {u'num': u'19', u'$text': u'\"My kids loved the recipe,\" she says.'}, {u'num': u'20', u'$text': u\"Mahoney cooks for her two children and herself, much like Mia Pickering, who lives in Seattle with her two teenagers. Sanders, Mahoney and Pickering have all been on SNAP for a number of years, and they say Good and Cheap, which they discovered online, works better for them than anything else they've been able to find. And that's important when what they can cook determines how well they and their families can eat.\"}, {u'num': u'21', u'$text': u'\"Cooking is definitely more economical and healthier than buying premade foods,\" says Mahoney.'}, {u'num': u'22', u'$text': u\"Pickering thinks so, too. For her, it's easier to cook fresh than heat up frozen meals. It means she and her children throw less food away and exercise better portion control.\"}, {u'num': u'23', u'$text': u'\"Many authors have tried hard to come up with cheap meals, but they taste so bad. Leanne is so gifted. It\\'s just incredible,\" says Sanders.'}, {u'num': u'24', u'$text': u\"Sanders has been cooking since the eighth grade, so that's not a snap judgment.\"}, {u'num': u'25', u'$text': u\"Molly Roberts is an intern with NPR's Washington Desk. [Copyright 2014 NPR]\"}]}\n",
        "{u'paragraph': [{u'num': u'1', u'$text': u'Sales incentives helped U.S. auto sales rise in July, as major auto companies reported selling more than 120,000 more vehicles than the same month last year. GM retained its spot as the U.S. sales leader.'}, {u'num': u'2', u'$text': u'Sales of passenger cars rose by nearly 5 percent this July compared to last year, with sales of light trucks even higher, at 13.4 percent, according to data released Friday by research firm Autodata Corp.'}, {u'num': u'3', u'$text': u\"GM sold 256,160 vehicles last month, beating Toyota's 215,802 and Ford's 211,467.\"}, {u'num': u'4', u'$text': u\"NPR's Sonari Glinton reports:\"}, {u'num': u'5'}, {u'num': u'6', u'$text': u'\"Toyota, Ford, Nissan and Chrysler all saw their sales go up by double digits. And despite troubles at General Motors, sales at the Detroit car giant were up 9 percent over the same time last year.'}, {u'num': u'7', u'$text': u\"Jessica Caldwell is a senior analyst at Edmunds.com. She says GM's recent spate of recalls may be helping it.\"}, {u'num': u'8', u'$text': u'\"\\'You have all these people coming back with these older cars into dealerships with these brand-new cars that are much nicer,\\' she says, \\'and I think a lot of these people are leaving with new vehicles.\\''}, {u'num': u'9', u'$text': u'\"Meanwhile this month, victims of the GM ignition switch defect can begin filing claims for compensation. The company has set aside $400 million to cover the cost.\"'}, {u'num': u'10'}, {u'num': u'11', u'$text': u\"Sales of GM's cars slid by 3.8 percent from July 1013, but its light trucks and SUVs more than made up for it, spiking 17.5 percent, according to Autodata. In the calendar year to date, the company has sold 3.5 percent more cars.\"}, {u'num': u'12', u'$text': u'Other automakers struggled. Some of the steepest sales declines were at Volvo, which sold 17 percent fewer vehicles compared to July of 2013, and Volkswagen, where sales were down 7.5 percent.'}, {u'num': u'13', u'$text': u'Honda also slumped, with a drop of nearly 4 percent from last July. [Copyright 2014 NPR]'}]}\n",
        "{u'paragraph': [{u'num': u'1', u'$text': u'Super PACs let rich people, corporations and unions spend as much money as they want to try to influence the outcome of elections.'}, {u'num': u'2', u'$text': u\"On today's show: How a Harvard professor created a super PAC to attack super PACs. He's raised millions of dollars \\u2014 in part from really rich people \\u2014 to reduce the political influence of really rich people.\"}, {u'num': u'3', u'$text': u\"For more on campaign finance, listen to Episode 358: I'm Calling To Ask For Your Contribution.\"}, {u'num': u'4', u'$text': u'Music: Major Lazer (feat. Amber of Dirty Projectors)\\'s \"Get Free.\" Find us: Twitter/ Facebook/ Spotify. Download the Planet Money iPhone App. [Copyright 2014 NPR]'}]}\n",
        "{u'paragraph': [{u'num': u'1', u'$text': u\"Think opera plots are tough to follow? Try wading through the complicated drama playing out offstage at the Metropolitan Opera. At its most basic, it's the story of management and labor unions fighting over a supposedly dwindling pot of money. The deadline to solve the squabble before a lockout, midnight Thursday, was met with little resolution but a 72-hour extension.\"}, {u'num': u'2', u'$text': u\"Nothing about the Met's labor imbroglio is elementary, including its large cast of characters. On one side you have Peter Gelb, the Met's general manager since 2006, and his counsel, Howard Z. Robbins, the attorney who represented the National Hockey League in its 2012-13 lockout.\"}, {u'num': u'3', u'$text': u\"Negotiating with Gelb are hordes of workers. About 2,400 of the Met's 3,400 employees are union members. They cover a broad swath of activities ranging from singing in the chorus, playing in the orchestra, dancing, painting sets, running the box office, singing solo roles, working in the call center, posting bills (advertising posters), running cameras and taking tickets. Three of these unions (Local 32BJ, Local 30 and Local 210) reached agreements Thursday. Here is a list of the unions involved:\"}, {u'num': u'4'}, {u'num': u'5', u'$text': u'AGMA (American Guild of Musical Artists) \\u2014 chorus, soloists, dancers, stage directors, choreographers AFM Local 802 (American Federation of Musicians) \\u2014 orchestra, librarians, music staff Directors Guild of America \\u2014 directors and stage managers IATSE Local One (International Alliance of Theatrical Stage Employees) \\u2014 carpenters, electricians IATSE Local 4 \\u2014 parks crew IATSE Local 751 \\u2014 box office treasurers IATSE Local 764 \\u2014 wardrobe, costumers IATSE Local 794 \\u2014 camera crew IATSE Local 798 \\u2014 wig/hair and makeup artists IATSE Local 829 \\u2014 scenic artists, scenic, costume, lighting, sound, projection designers IATSE Local 829BP \\u2014 bill poster IBT Local 210 (International Brotherhood of Teamsters) \\u2014 call center IUOE Local 30 (International Union of Operating Engineers) \\u2014 building engineers IUPAT Local 1456 (International Union Of Painters And Allied Trades) \\u2014 painter SEIU Local 32BJ (Service Employees International Union) \\u2014 ushers, ticket takers, cleaners, porters, security, office services'}, {u'num': u'6'}, {u'num': u'7', u'$text': u'The negotiations are now being conducted with the help of two officials from the U.S. Federal Mediation and Conciliation Service (FMCS), Deputy Director Allison Beck and Commissioner Kathleen Murray-Cannon.'}, {u'num': u'8', u'$text': u\"The workers aren't always exactly unified. Each union has its own concerns and strategies. If one of the largest three unions \\u2014 AGMA, IATSE Local 1 or AFM Local 802 \\u2014 strikes a deal, it could greatly influence the negotiations for the remaining parties.\"}, {u'num': u'9', u'$text': u\"There have been many pronouncements about Gelb's artistic vision, the ups and downs of his tenure, the successful productions, the innovative Live HD movie theater broadcasts, the critical failures \\u2014 even his attitudes about the viability of the art form.\"}, {u'num': u'10', u'$text': u'Gelb\\'s bottom line is that there\\'s not enough money to sustain the Met as is. \"No matter how you slice it,\" he told NPR, \"opera is incredibly expensive.\" Gelb, who claims that two-thirds of the company\\'s costs are labor related, would like to cut some of the unions\\' benefits, especially when it comes to the convoluted structure of overtime pay.'}, {u'num': u'11', u'$text': u\"The unions say Gelb is simply spending too much and that the company's $2.8 million deficit doesn't warrant the nearly $30 million in cuts he seeks. The Wall Street Journal recently took a look at Met expenses on specific productions and box office potential. Plenty of hand-wringing can also be found over the high salaries of both Gelb and some of the union members.\"}, {u'num': u'12', u'$text': u\"The debate seems particularly acrimonious this time, due partly to the fact that so much of the drama has played out in our 21st-century media \\u2014 something you couldn't say about previous Met labor disputes, which date back to 1885.\"}, {u'num': u'13', u'$text': u'Among the most debilitating in recent times were the disputes of 1969 and 1980. President Carter had to intervene in 1980, sending a telegram to the unions and management pleading for a resolution to save the season, which had been indefinitely postponed. In 1969, failed contract talks forced the Met to open its season three and a half months late.'}, {u'num': u'14', u'$text': u\"How this season will be affected is still anyone's guess. It's a positive sign that three of the unions have already settled and the chorus showed up Friday for a rehearsal of The Merry Widow. Still, they are among the smaller groups.\"}, {u'num': u'15', u'$text': u'Gelb released a statement Friday, saying, \"We want to work together with union representatives, and do everything we can to achieve new contracts, which is why we\\'ve agreed to an extension.\" The president of AFM Local 802, Tino Gagliardi, also weighed in, saying that while Gelb\\'s move to postpone the lockout was constructive, \"Settling this dispute in three days is highly unrealistic.\" [Copyright 2014 NPR]'}]}\n",
        "{u'paragraph': [{u'num': u'1', u'$text': u\"In Detroit, protests continue over the city's massive effort to shut off water to thousands of customers who aren't paying their bills. Activists call the move a violation of a basic human need, while city officials call it an economic reality.\"}, {u'num': u'2', u'$text': u\"Detroit's Water and Sewerage Department has been accruing a massive debt for decades \\u2014 in part because officials say there was only a token attempt to collect past-due bills. By this year, about half of all water customers were behind on payments, owing a combined $90 million.\"}, {u'num': u'3', u'$text': u'So officials here launched an aggressive campaign targeting back payments, using the time-honored utility tactic of shutting off water service until payment arrangements were made.'}, {u'num': u'4', u'$text': u'Some Detroiters are split on the move.'}, {u'num': u'5', u'$text': u\"Along the city's busy Woodward Avenue, longtime residents like Clifford Durham say water customers should have known what was coming.\"}, {u'num': u'6', u'$text': u'\"It\\'s a shame that it\\'s happening, but they had options and budget plans like, 10, 15 years ago,\" Durham says. \"Tell \\'em your situation. Don\\'t wait \\'til your bill is $300 or $400 and get a shut-off notice,\" he says. \"The protesting that\\'s gonna go on for the water I think is ridiculous.\"'}, {u'num': u'7', u'$text': u'A Cause Celebre'}, {u'num': u'8', u'$text': u\"The sheer number of people shut off \\u2014 17,000 \\u2014 has led to frequent demonstrations and some international attention. The United Nations declared it a human rights violation. Activists, a federal judge, even movie stars like actor Mark Ruffalo \\u2014 who portrays the alter ego of The Hulk in the Avengers films \\u2014 joined in what's truly become a cause celebre.\"}, {u'num': u'9', u'$text': u'\"There\\'s no reason that this city and this state, with all of its wealth, can\\'t come up with some sort of a program to keep this water from being turned off. I mean, it\\'s insane,\" Ruffalo said.'}, {u'num': u'10', u'$text': u'City officials say they are setting up payment plans for residents, and add that more than half of those who had their water shut off subsequently paid their bills and had service quickly restored.'}, {u'num': u'11', u'$text': u'But others have tried to block the shut-offs, pouring concrete over water mains tagged by the city with blue paint \\u2014 a kind of scarlet letter indicating the pipes there should be closed.'}, {u'num': u'12', u'$text': u\"Tutorials have also spread on Facebook describing how to get water flowing again. Detroiter Nita O'Neal says it's relatively easy to find someone with the kind of long metal keys that open closed water valves \\u2014 even though only city workers are supposed to have them.\"}, {u'num': u'13', u'$text': u'\"People gonna turn that water back on. Somebody has a water key, trust me. You give \\'em $5, you gonna get your water back on,\" O\\'Neal says. \"People have to have shelter, food and water.\"'}, {u'num': u'14', u'$text': u\"Turning the water back on that way is, in fact, a crime \\u2014 it's stealing water. But for families with little or no income, O'Neal says, the stakes are too high to worry about that.\"}, {u'num': u'15', u'$text': u'\"You got babies that\\'s probably not taking baths. That\\'s opening up the door for protective services to come in, say that you are unfit parent,\" she says. \"This is a game that they\\'re playing, and it\\'s a serious, dangerous game.\"'}, {u'num': u'16', u'$text': u'City officials counter that water rates are going up in part because people game the system. Paying customers, they say, have to cover the costs for those not paying their bills.'}, {u'num': u'17', u'$text': u'But Water and Sewerage Deputy Director Darryl Latimer says the department wants to cooperate with customers, even those who argue water should be a right, not a privilege.'}, {u'num': u'18', u'$text': u'\"I think water is a right. However, if all of our customers took that stand \\u2014 that it\\'s a human right and we\\'re not gonna pay \\u2014 then no one would have water,\" Latimer says.'}, {u'num': u'19', u'$text': u'It remains very much an evolving situation in the city. The water and sewerage department recently began targeting past-due commercial and residential customers, then declared a two-week moratorium on all shut-offs.'}, {u'num': u'20', u'$text': u\"Detroit's emergency manager put Mayor Mike Duggan in charge of the formerly autonomous water system. But the department itself remains a bargaining chip in Detroit's ongoing bankruptcy proceedings. The city wants out of the water business and the debt it carries and is pushing to either regionalize or privatize the system. [Copyright 2014 WDET-FM]\"}]}\n",
        "{u'paragraph': [{u'num': u'1', u'$text': u\"A Pentagon plan to cut tens of thousands of soldiers from the U.S. Army's ranks in coming years goes too far given the growing global threats, including Russian aggression in Ukraine and unrest in Syria and Iraq, a bipartisan review panel says.\"}, {u'num': u'2', u'$text': u\"In an advance copy of a report, Ensuring a Strong U.S. Defense for the Future, that was obtained by NPR's Tom Bowman, a panel that includes former Defense Secretary William Perry and retired Gen. John Abizaid, who was the top U.S. commander in the Middle East, warns that the proposed cuts are too deep.\"}, {u'num': u'3', u'$text': u'\"Since World War II, no matter which party has controlled the White House or Congress, America\\'s global military capability and commitment has been the strategic foundation undergirding our global leadership,\" the report\\'s authors write. \"Given that reality, the defense budget cuts mandated by the Budget Control Act (BCA) of 2011, coupled with the additional cuts and constraints on defense management under the law\\'s sequestration provision, constitute a serious strategic misstep on the part of the United States.\"'}, {u'num': u'4', u'$text': u'\"The effectiveness of America\\'s other tools for global influence, such as diplomacy and economic engagement, are critically intertwined with and dependent upon the perceived strength, presence and commitment of U.S. armed forces,\" they write.'}, {u'num': u'5', u'$text': u'But Defense Secretary Chuck Hagel disagrees with the panel, according to Pentagon spokesman Rear Adm. John Kirby.'}, {u'num': u'6', u'$text': u\"The panel endorses the Pentagon's plans in some areas, such as trimming pay and medical benefits, but it says the recommendation to draw down the Army to 450,000 goes too far. Instead, the panel says the Army should not go below 490,000 \\u2014 the same figure that Army leaders had wanted. [Copyright 2014 NPR]\"}]}\n",
        "{u'paragraph': [{u'num': u'1', u'$text': u'[Copyright 2014 NPR]'}]}\n"
       ]
      }
     ],
     "prompt_number": 387
    },
    {
     "cell_type": "code",
     "collapsed": false,
     "input": [
      "if not a.has_key('list'):\n",
      "    print 5"
     ],
     "language": "python",
     "metadata": {},
     "outputs": [],
     "prompt_number": 380
    },
    {
     "cell_type": "code",
     "collapsed": false,
     "input": [
      "a['list']['story'][0]['storyDate']"
     ],
     "language": "python",
     "metadata": {},
     "outputs": [
      {
       "metadata": {},
       "output_type": "pyout",
       "prompt_number": 390,
       "text": [
        "{u'$text': u'Fri, 01 Aug 2014 20:48:00 -0400'}"
       ]
      }
     ],
     "prompt_number": 390
    },
    {
     "cell_type": "code",
     "collapsed": false,
     "input": [
      "#fox\n",
      "req = requests.get('http://www.foxnews.com/about/rss/')\n",
      "soup = BeautifulSoup(req.text)"
     ],
     "language": "python",
     "metadata": {},
     "outputs": [],
     "prompt_number": 391
    },
    {
     "cell_type": "code",
     "collapsed": false,
     "input": [
      "div = soup.findAll('div', {'class': 'section-mod'})[0]\n",
      "a = div.findAll('a')"
     ],
     "language": "python",
     "metadata": {},
     "outputs": [],
     "prompt_number": 404
    },
    {
     "cell_type": "code",
     "collapsed": false,
     "input": [
      "topic_links = [url.attrs['data-url'] for url in a]\n",
      "topics = [link.split('/')[-1] for link in topic_links]"
     ],
     "language": "python",
     "metadata": {},
     "outputs": [],
     "prompt_number": 452
    },
    {
     "cell_type": "code",
     "collapsed": false,
     "input": [
      "all_articles = []\n",
      "topics = []\n",
      "urls = []\n",
      "for link in topic_links[:5]:\n",
      "    req = requests.get(link)\n",
      "    soup = BeautifulSoup(req.text, 'html.parser')\n",
      "    sublinks =  [link.text for link in soup.findAll('link') if link.text.count('/') > 3]\n",
      "    for sublink in sublinks[:2]:\n",
      "        req = requests.get(sublink)\n",
      "        soup = BeautifulSoup(req.text, 'html.parser')\n",
      "        text_soup = soup.findAll('div', {'itemprop': 'articleBody'})\n",
      "        if not text_soup:\n",
      "            print 'nothing here'\n",
      "            continue\n",
      "        \n",
      "        text = ' '.join([par.text for par in soup.findAll('div', {'itemprop': 'articleBody'})[0].findAll('p')])\n",
      "        text = str(re.sub('[^\\w\\s+]', '', text))\n",
      "        urls.append(req.url)\n",
      "        topics.append(urls[-1].split('/')[3])\n",
      "        all_articles.append(text)\n",
      "frame = pd.DataFrame({'text' : all_articles, 'url' : urls, 'source' : 'Fox', 'topic':topics, 'rating' : .7}, \\\n",
      "             columns = ['source', 'url', 'topic', 'text', 'rating'])\n",
      "frame.to_csv('fox_data.csv')"
     ],
     "language": "python",
     "metadata": {},
     "outputs": [
      {
       "output_type": "stream",
       "stream": "stdout",
       "text": [
        "nothing here\n"
       ]
      }
     ],
     "prompt_number": 490
    },
    {
     "cell_type": "code",
     "collapsed": false,
     "input": [
      "frame"
     ],
     "language": "python",
     "metadata": {},
     "outputs": [
      {
       "html": [
        "<div style=\"max-height:1000px;max-width:1500px;overflow:auto;\">\n",
        "<table border=\"1\" class=\"dataframe\">\n",
        "  <thead>\n",
        "    <tr style=\"text-align: right;\">\n",
        "      <th></th>\n",
        "      <th>source</th>\n",
        "      <th>url</th>\n",
        "      <th>topic</th>\n",
        "      <th>text</th>\n",
        "      <th>rating</th>\n",
        "    </tr>\n",
        "  </thead>\n",
        "  <tbody>\n",
        "    <tr>\n",
        "      <th>0</th>\n",
        "      <td> Fox</td>\n",
        "      <td> http://www.foxnews.com/us/2014/11/04/murder-su...</td>\n",
        "      <td>            us</td>\n",
        "      <td>  A man accused of killing four people in two s...</td>\n",
        "      <td> 0.7</td>\n",
        "    </tr>\n",
        "    <tr>\n",
        "      <th>1</th>\n",
        "      <td> Fox</td>\n",
        "      <td> http://www.foxnews.com/world/2014/11/04/kurds-...</td>\n",
        "      <td>         world</td>\n",
        "      <td> This undated image posted on a militant websit...</td>\n",
        "      <td> 0.7</td>\n",
        "    </tr>\n",
        "    <tr>\n",
        "      <th>2</th>\n",
        "      <td> Fox</td>\n",
        "      <td> http://www.foxnews.com/politics/2014/11/04/rep...</td>\n",
        "      <td>      politics</td>\n",
        "      <td>  Fox News projects that Senate Republican Lead...</td>\n",
        "      <td> 0.7</td>\n",
        "    </tr>\n",
        "    <tr>\n",
        "      <th>3</th>\n",
        "      <td> Fox</td>\n",
        "      <td> http://www.foxnews.com/politics/2014/11/04/mid...</td>\n",
        "      <td>      politics</td>\n",
        "      <td>  Voting irregularities reported in multiple st...</td>\n",
        "      <td> 0.7</td>\n",
        "    </tr>\n",
        "    <tr>\n",
        "      <th>4</th>\n",
        "      <td> Fox</td>\n",
        "      <td> http://www.foxnews.com/entertainment/2014/11/0...</td>\n",
        "      <td> entertainment</td>\n",
        "      <td>  NEW YORK  Vanderpump Rules star Kristen Doute...</td>\n",
        "      <td> 0.7</td>\n",
        "    </tr>\n",
        "    <tr>\n",
        "      <th>5</th>\n",
        "      <td> Fox</td>\n",
        "      <td> http://www.foxnews.com/health/2014/11/04/tonsi...</td>\n",
        "      <td>        health</td>\n",
        "      <td>  The surgical removal of tonsils and adenoids ...</td>\n",
        "      <td> 0.7</td>\n",
        "    </tr>\n",
        "    <tr>\n",
        "      <th>6</th>\n",
        "      <td> Fox</td>\n",
        "      <td> http://www.foxnews.com/health/2014/11/04/seizu...</td>\n",
        "      <td>        health</td>\n",
        "      <td> A mans fear of spiders was gone after surgeryA...</td>\n",
        "      <td> 0.7</td>\n",
        "    </tr>\n",
        "    <tr>\n",
        "      <th>7</th>\n",
        "      <td> Fox</td>\n",
        "      <td> http://www.foxnews.com/leisure/2014/11/04/ken-...</td>\n",
        "      <td>       leisure</td>\n",
        "      <td> Hoonigan Division Hoonigan Division Ken Block ...</td>\n",
        "      <td> 0.7</td>\n",
        "    </tr>\n",
        "    <tr>\n",
        "      <th>8</th>\n",
        "      <td> Fox</td>\n",
        "      <td> http://www.foxnews.com/leisure/2014/11/04/thin...</td>\n",
        "      <td>       leisure</td>\n",
        "      <td> iStock iStock iStock iStock iStock iStock Thin...</td>\n",
        "      <td> 0.7</td>\n",
        "    </tr>\n",
        "  </tbody>\n",
        "</table>\n",
        "</div>"
       ],
       "metadata": {},
       "output_type": "pyout",
       "prompt_number": 491,
       "text": [
        "  source                                                url          topic  \\\n",
        "0    Fox  http://www.foxnews.com/us/2014/11/04/murder-su...             us   \n",
        "1    Fox  http://www.foxnews.com/world/2014/11/04/kurds-...          world   \n",
        "2    Fox  http://www.foxnews.com/politics/2014/11/04/rep...       politics   \n",
        "3    Fox  http://www.foxnews.com/politics/2014/11/04/mid...       politics   \n",
        "4    Fox  http://www.foxnews.com/entertainment/2014/11/0...  entertainment   \n",
        "5    Fox  http://www.foxnews.com/health/2014/11/04/tonsi...         health   \n",
        "6    Fox  http://www.foxnews.com/health/2014/11/04/seizu...         health   \n",
        "7    Fox  http://www.foxnews.com/leisure/2014/11/04/ken-...        leisure   \n",
        "8    Fox  http://www.foxnews.com/leisure/2014/11/04/thin...        leisure   \n",
        "\n",
        "                                                text  rating  \n",
        "0   A man accused of killing four people in two s...     0.7  \n",
        "1  This undated image posted on a militant websit...     0.7  \n",
        "2   Fox News projects that Senate Republican Lead...     0.7  \n",
        "3   Voting irregularities reported in multiple st...     0.7  \n",
        "4   NEW YORK  Vanderpump Rules star Kristen Doute...     0.7  \n",
        "5   The surgical removal of tonsils and adenoids ...     0.7  \n",
        "6  A mans fear of spiders was gone after surgeryA...     0.7  \n",
        "7  Hoonigan Division Hoonigan Division Ken Block ...     0.7  \n",
        "8  iStock iStock iStock iStock iStock iStock Thin...     0.7  "
       ]
      }
     ],
     "prompt_number": 491
    },
    {
     "cell_type": "code",
     "collapsed": false,
     "input": [
      "#msnbc\n",
      "req = requests.get('http://api.nbcnews.com/documents/getdocuments')"
     ],
     "language": "python",
     "metadata": {},
     "outputs": [],
     "prompt_number": 493
    },
    {
     "cell_type": "code",
     "collapsed": false,
     "input": [
      "req.text"
     ],
     "language": "python",
     "metadata": {},
     "outputs": []
    },
    {
     "cell_type": "code",
     "collapsed": false,
     "input": [
      "%pylab inline"
     ],
     "language": "python",
     "metadata": {},
     "outputs": [
      {
       "output_type": "stream",
       "stream": "stdout",
       "text": [
        "Populating the interactive namespace from numpy and matplotlib\n"
       ]
      }
     ],
     "prompt_number": 500
    },
    {
     "cell_type": "code",
     "collapsed": false,
     "input": [
      "#combine all data\n",
      "wiki = pd.read_csv(\"wikipedia_data.csv\")\n",
      "fox = pd.read_csv(\"fox_data.csv\")\n",
      "npr = pd.read_csv(\"npr_data.csv\")\n",
      "cnn = pd.read_csv(\"cnn_data.csv\")\n",
      "cnn = cnn[cnn['text'].apply(str) != 'nan']"
     ],
     "language": "python",
     "metadata": {},
     "outputs": [],
     "prompt_number": 555
    },
    {
     "cell_type": "code",
     "collapsed": false,
     "input": [
      "data = pd.concat((wiki[['source', 'text', 'rating']], fox[['source', 'text', 'rating']], npr[['source', 'text', 'rating']], cnn[['source', 'text', 'rating']] ), ignore_index=True)"
     ],
     "language": "python",
     "metadata": {},
     "outputs": [],
     "prompt_number": 567
    },
    {
     "cell_type": "code",
     "collapsed": false,
     "input": [
      "sum(data['text'].apply(len) < 1000)"
     ],
     "language": "python",
     "metadata": {},
     "outputs": [
      {
       "metadata": {},
       "output_type": "pyout",
       "prompt_number": 568,
       "text": [
        "1842"
       ]
      }
     ],
     "prompt_number": 568
    },
    {
     "cell_type": "code",
     "collapsed": false,
     "input": [
      "from sklearn.cross_validation import train_test_split\n",
      "vec = TfidfVectorizer(stop_words='english', max_features=200)\n",
      "X = data['text'].values\n",
      "label = data['source'].values\n",
      "y = data['rating']\n",
      "X_train, X_test, y_train, y_test = train_test_split(X, y)\n",
      "#label_train, label_test = label[train_indices], label[test_indices]\n",
      "X_train_mat = vec.fit_transform(X_train).toarray()\n",
      "X_test_mat = vec.transform(X_test).toarray()"
     ],
     "language": "python",
     "metadata": {},
     "outputs": [],
     "prompt_number": 571
    },
    {
     "cell_type": "code",
     "collapsed": false,
     "input": [
      "rf = RandomForestRegressor()\n",
      "rf.fit(X_train_mat, y_train)"
     ],
     "language": "python",
     "metadata": {},
     "outputs": [
      {
       "metadata": {},
       "output_type": "pyout",
       "prompt_number": 572,
       "text": [
        "RandomForestRegressor(bootstrap=True, compute_importances=None,\n",
        "           criterion='mse', max_depth=None, max_features='auto',\n",
        "           min_density=None, min_samples_leaf=1, min_samples_split=2,\n",
        "           n_estimators=10, n_jobs=1, oob_score=False, random_state=None,\n",
        "           verbose=0)"
       ]
      }
     ],
     "prompt_number": 572
    },
    {
     "cell_type": "code",
     "collapsed": false,
     "input": [
      "min(rf.predict(X_test_mat))"
     ],
     "language": "python",
     "metadata": {},
     "outputs": [
      {
       "metadata": {},
       "output_type": "pyout",
       "prompt_number": 575,
       "text": [
        "0.0"
       ]
      }
     ],
     "prompt_number": 575
    },
    {
     "cell_type": "code",
     "collapsed": false,
     "input": [
      "rf.score(X_train_mat, y_train)"
     ],
     "language": "python",
     "metadata": {},
     "outputs": [
      {
       "metadata": {},
       "output_type": "pyout",
       "prompt_number": 576,
       "text": [
        "0.92951393996698761"
       ]
      }
     ],
     "prompt_number": 576
    },
    {
     "cell_type": "code",
     "collapsed": false,
     "input": [
      "rf.score(X_test_mat, y_test)"
     ],
     "language": "python",
     "metadata": {},
     "outputs": [
      {
       "metadata": {},
       "output_type": "pyout",
       "prompt_number": 577,
       "text": [
        "0.70770783005541893"
       ]
      }
     ],
     "prompt_number": 577
    },
    {
     "cell_type": "code",
     "collapsed": false,
     "input": [
      "from alchemyapi import AlchemyAPI"
     ],
     "language": "python",
     "metadata": {},
     "outputs": [],
     "prompt_number": 580
    },
    {
     "cell_type": "code",
     "collapsed": false,
     "input": [
      "alchemyapi = AlchemyAPI()"
     ],
     "language": "python",
     "metadata": {},
     "outputs": [],
     "prompt_number": 581
    },
    {
     "cell_type": "code",
     "collapsed": false,
     "input": [
      "alc = alchemyapi.text('url', 'http://www.foxnews.com/tech/2014/11/04/pirate-bay-co-founder-arrested-at-thai-lao-border/')"
     ],
     "language": "python",
     "metadata": {},
     "outputs": [],
     "prompt_number": 583
    },
    {
     "cell_type": "code",
     "collapsed": false,
     "input": [
      "text = str(re.sub('[^\\w\\s]+', '', alc['text']))\n",
      "str(re.sub('\\n+', '', text))"
     ],
     "language": "python",
     "metadata": {},
     "outputs": [
      {
       "metadata": {},
       "output_type": "pyout",
       "prompt_number": 596,
       "text": [
        "'BANGKOK  One of the founders of popular filesharing website The Pirate Bay has been arrested under an Interpol warrant as he was crossing into Thailand from Laos police said TuesdayHans Fredrik Lennart Neij who uses the alias TiAMO was detained Monday by Thai immigration police at a checkpoint in Thailands Nong Khai province about 310 miles northeast of BangkokNeij along with other Pirate Bay cofounders was convicted of aiding copyright infringement by a court in Sweden in 2009 He fled the country after being released on bailRegional Immigration Police Commissioner Maj Gen Chartchai Eimsaeng said a USbased movie association had hired a Thai lawyer to search for Neij and his photo had been given to immigration police in Nong KhaiThe US movie and music industries have for years pursued strong legal action against sites such as The Pirate Bay which they say aid the illegal distribution of copyrighted material depriving its makers of profits due themIt might have been a coincidence but he was wearing the same gray Tshirt that was in the photo The immigration police officer who spotted him in the car recognized him so he pulled his car over Chartchai told The Associated Press by phoneChartchai said the 36yearold Swede had lived in Laos since 2012 and traveled nearly 30 times to Thailand where he has a house on the resort island of Phuket and 5 million baht 153000 in a savings account Neijs wife was in the car with him He was being sent to Bangkok later Tuesday and was expected to be returned to Sweden the police officer saidJonas Nilsson Neijs lawyer in Sweden said his client had called him Monday and told him Thai authorities had said he would be transported to Sweden However Nilsson said no decision had been made about a possible extraditionNeij is the second Pirate Bay founder to be arrested in Southeast Asia after a Swedish court in 2009 gave him and three Pirate Bay associates oneyear sentences for copyright violation They also were ordered to pay 46 million kronor 65 million in damages to the entertainment industry Their appeals were denied by Swedens high courtGottfrid Svartholm Warg who used the alias Anakata on the Internet was arrested in Cambodia in 2012 and sent back to Sweden after an international arrest warrant was issued against himSvartholm Warg served his sentence for copyright infringement before he was extradited to neighboring Denmark where he faced prosecution for hacking On Friday a Danish court sentenced him to 3 years in prison after he was found guilty of hacking into a private company handling sensitive information for Danish authoritiesAssociated Press writer Jan M Olsen in Copenhagen contributed to this story'"
       ]
      }
     ],
     "prompt_number": 596
    },
    {
     "cell_type": "code",
     "collapsed": false,
     "input": [
      "str(re.sub('\\n+', '', alc['text']))"
     ],
     "language": "python",
     "metadata": {},
     "outputs": [
      {
       "ename": "UnicodeEncodeError",
       "evalue": "'ascii' codec can't encode character u'\\u2014' in position 8: ordinal not in range(128)",
       "output_type": "pyerr",
       "traceback": [
        "\u001b[0;31m---------------------------------------------------------------------------\u001b[0m\n\u001b[0;31mUnicodeEncodeError\u001b[0m                        Traceback (most recent call last)",
        "\u001b[0;32m<ipython-input-593-0bcb5a2a6e3e>\u001b[0m in \u001b[0;36m<module>\u001b[0;34m()\u001b[0m\n\u001b[0;32m----> 1\u001b[0;31m \u001b[0mstr\u001b[0m\u001b[0;34m(\u001b[0m\u001b[0mre\u001b[0m\u001b[0;34m.\u001b[0m\u001b[0msub\u001b[0m\u001b[0;34m(\u001b[0m\u001b[0;34m'\\n+'\u001b[0m\u001b[0;34m,\u001b[0m \u001b[0;34m''\u001b[0m\u001b[0;34m,\u001b[0m \u001b[0malc\u001b[0m\u001b[0;34m[\u001b[0m\u001b[0;34m'text'\u001b[0m\u001b[0;34m]\u001b[0m\u001b[0;34m)\u001b[0m\u001b[0;34m)\u001b[0m\u001b[0;34m\u001b[0m\u001b[0m\n\u001b[0m",
        "\u001b[0;31mUnicodeEncodeError\u001b[0m: 'ascii' codec can't encode character u'\\u2014' in position 8: ordinal not in range(128)"
       ]
      }
     ],
     "prompt_number": 593
    },
    {
     "cell_type": "code",
     "collapsed": false,
     "input": [
      "alchemyapi.sentiment('text', 'i hate you')"
     ],
     "language": "python",
     "metadata": {},
     "outputs": [
      {
       "metadata": {},
       "output_type": "pyout",
       "prompt_number": 597,
       "text": [
        "{u'docSentiment': {u'score': u'-0.869125', u'type': u'negative'},\n",
        " u'language': u'english',\n",
        " u'status': u'OK',\n",
        " u'url': u'',\n",
        " u'usage': u'By accessing AlchemyAPI or using information generated by AlchemyAPI, you are agreeing to be bound by the AlchemyAPI Terms of Use: http://www.alchemyapi.com/company/terms.html'}"
       ]
      }
     ],
     "prompt_number": 597
    },
    {
     "cell_type": "code",
     "collapsed": false,
     "input": [
      "cd .."
     ],
     "language": "python",
     "metadata": {},
     "outputs": [
      {
       "output_type": "stream",
       "stream": "stdout",
       "text": [
        "/Users/Ted/Dropbox\n"
       ]
      }
     ],
     "prompt_number": 598
    },
    {
     "cell_type": "code",
     "collapsed": false,
     "input": [
      "sys.path.insert(0, 'News-Bias/')\n",
      "from alchemyapi import AlchemyAPI"
     ],
     "language": "python",
     "metadata": {},
     "outputs": [],
     "prompt_number": 601
    },
    {
     "cell_type": "code",
     "collapsed": false,
     "input": [
      "from alchemyapi import AlchemyAPI"
     ],
     "language": "python",
     "metadata": {},
     "outputs": [],
     "prompt_number": 602
    },
    {
     "cell_type": "code",
     "collapsed": false,
     "input": [
      "cd News-Bias/"
     ],
     "language": "python",
     "metadata": {},
     "outputs": [
      {
       "output_type": "stream",
       "stream": "stdout",
       "text": [
        "/Users/Ted/Dropbox/News-Bias\n"
       ]
      }
     ],
     "prompt_number": 604
    },
    {
     "cell_type": "code",
     "collapsed": false,
     "input": [
      "from build_model import get_features"
     ],
     "language": "python",
     "metadata": {},
     "outputs": [],
     "prompt_number": 605
    },
    {
     "cell_type": "code",
     "collapsed": false,
     "input": [
      "sys.path"
     ],
     "language": "python",
     "metadata": {},
     "outputs": [
      {
       "metadata": {},
       "output_type": "pyout",
       "prompt_number": 606,
       "text": [
        "['News-Bias/',\n",
        " '',\n",
        " '/Users/Ted/anaconda/lib/python2.7/site-packages/ipdb-0.8-py2.7.egg',\n",
        " '/Users/Ted/anaconda/python.app/Contents/lib/python27.zip',\n",
        " '/Users/Ted/anaconda/python.app/Contents/lib/python2.7',\n",
        " '/Users/Ted/anaconda/python.app/Contents/lib/python2.7/plat-darwin',\n",
        " '/Users/Ted/anaconda/python.app/Contents/lib/python2.7/plat-mac',\n",
        " '/Users/Ted/anaconda/python.app/Contents/lib/python2.7/plat-mac/lib-scriptpackages',\n",
        " '/Users/Ted/anaconda/python.app/Contents/lib/python2.7/lib-tk',\n",
        " '/Users/Ted/anaconda/python.app/Contents/lib/python2.7/lib-old',\n",
        " '/Users/Ted/anaconda/python.app/Contents/lib/python2.7/lib-dynload',\n",
        " '/Users/Ted/anaconda/lib/python2.7/site-packages/runipy-0.1.0-py2.7.egg',\n",
        " '/Users/Ted/anaconda/lib/python2.7/site-packages/setuptools-3.6-py2.7.egg',\n",
        " '/Users/Ted/anaconda/lib/python2.7/site-packages',\n",
        " '/Users/Ted/anaconda/lib/python2.7/site-packages/PIL',\n",
        " '/Users/Ted/anaconda/lib/python2.7/site-packages/IPython/extensions']"
       ]
      }
     ],
     "prompt_number": 606
    },
    {
     "cell_type": "code",
     "collapsed": false,
     "input": [
      "imp = np.argsort(rf.feature_importances_)[::-1]"
     ],
     "language": "python",
     "metadata": {},
     "outputs": [],
     "prompt_number": 614
    },
    {
     "cell_type": "code",
     "collapsed": false,
     "input": [
      "np.array(vec.get_feature_names())[imp]"
     ],
     "language": "python",
     "metadata": {},
     "outputs": [
      {
       "metadata": {},
       "output_type": "pyout",
       "prompt_number": 617,
       "text": [
        "array([u'copyright', u'said', u'2014', u'know', u'known', u'10', u'play',\n",
        "       u'second', u'says', u'later', u'american', u'thats', u'school',\n",
        "       u'just', u'reports', u'government', u'war', u'percent', u'news',\n",
        "       u'early', u'work', u'used', u'united', u'press', u'number',\n",
        "       u'family', u'washington', u'like', u'year', u'got', u'company',\n",
        "       u'far', u'say', u'head', u'come', u'federal', u'job', u'making',\n",
        "       u'city', u'children', u'best', u'did', u'week', u'group',\n",
        "       u'including', u'able', u'getting', u'members', u'university',\n",
        "       u'reported', u'problem', u'team', u'think', u'came', u'old',\n",
        "       u'time', u'music', u'according', u'long', u'having', u'president',\n",
        "       u'history', u'use', u'business', u'state', u'national', u'years',\n",
        "       u'dont', u'people', u'law', u'asked', u'ago', u'states', u'started',\n",
        "       u'called', u'local', u'story', u'men', u'month', u'went', u'want',\n",
        "       u'released', u'day', u'new', u'really', u'theres', u'big',\n",
        "       u'important', u'told', u'world', u'live', u'john', u'great',\n",
        "       u'didnt', u'set', u'point', u'support', u'home', u'means', u'need',\n",
        "       u'look', u'comes', u'white', u'house', u'night', u'make', u'past',\n",
        "       u'case', u'york', u'tell', u'weeks', u'million', u'looking',\n",
        "       u'left', u'working', u'trying', u'public', u'feel', u'months',\n",
        "       u'took', u'course', u'good', u'life', u'morning', u'fact', u'place',\n",
        "       u'away', u'days', u'things', u'today', u'money', u'recent',\n",
        "       u'start', u'man', u'sure', u'doesnt', u'right', u'lot', u'women',\n",
        "       u'does', u'young', u'book', u'idea', u'wasnt', u'im', u'different',\n",
        "       u'end', u'hes', u'instead', u'believe', u'recently', u'help',\n",
        "       u'youre', u'political', u'way', u'little', u'hard', u'actually',\n",
        "       u'control', u'doing', u'love', u'report', u'nearly', u'theyre',\n",
        "       u'real', u'thought', u'using', u'times', u'seen', u'country',\n",
        "       u'isnt', u'try', u'going', u'small', u'makes', u'taking', u'read',\n",
        "       u'center', u'kind', u'person', u'wanted', u'hear', u'health',\n",
        "       u'better', u'officials', u'now8217s', u'saying', u'npr', u'nprs',\n",
        "       u'director', u'likely', u'question', u'change', u'high', u'thing',\n",
        "       u'tells', u'coming', u'talk', u'taken', u'care'], \n",
        "      dtype='<U10')"
       ]
      }
     ],
     "prompt_number": 617
    },
    {
     "cell_type": "code",
     "collapsed": false,
     "input": [
      "a = alchemyapi.text('url', 'http://dailydigestnews.com/2014/11/researchers-reveal-the-secret-to-fending-off-kidney-stones/')"
     ],
     "language": "python",
     "metadata": {},
     "outputs": [],
     "prompt_number": 619
    },
    {
     "cell_type": "code",
     "collapsed": false,
     "input": [
      "a.keys()"
     ],
     "language": "python",
     "metadata": {},
     "outputs": [
      {
       "metadata": {},
       "output_type": "pyout",
       "prompt_number": 621,
       "text": [
        "[u'status', u'usage', u'url', u'text']"
       ]
      }
     ],
     "prompt_number": 621
    },
    {
     "cell_type": "code",
     "collapsed": false,
     "input": [
      "r = requests.get(\"http://news.google.com\")\n",
      "soup = BeautifulSoup(r.text, \"html.parser\")\n",
      "divs = [div for div in soup.findAll('div', 'esc-lead-article-title-wrapper')]"
     ],
     "language": "python",
     "metadata": {},
     "outputs": [],
     "prompt_number": 623
    },
    {
     "cell_type": "code",
     "collapsed": false,
     "input": [
      "links = []\n",
      "for div in divs:\n",
      "    link = div.find_all('a', href=True)\n",
      "    links.append(link[0]['href'])"
     ],
     "language": "python",
     "metadata": {},
     "outputs": [],
     "prompt_number": 624
    },
    {
     "cell_type": "code",
     "collapsed": false,
     "input": [
      "link[0].findAll('span')[0].text"
     ],
     "language": "python",
     "metadata": {},
     "outputs": [
      {
       "metadata": {},
       "output_type": "pyout",
       "prompt_number": 632,
       "text": [
        "u'WHO veteran elected as head of Africa office amid Ebola criticism'"
       ]
      }
     ],
     "prompt_number": 632
    },
    {
     "cell_type": "code",
     "collapsed": false,
     "input": [
      "sources = [source.text for source in soup.findAll('span', {'class': 'al-attribution-source'})]"
     ],
     "language": "python",
     "metadata": {},
     "outputs": [],
     "prompt_number": 647
    },
    {
     "cell_type": "code",
     "collapsed": false,
     "input": [
      "div"
     ],
     "language": "python",
     "metadata": {},
     "outputs": [
      {
       "metadata": {},
       "output_type": "pyout",
       "prompt_number": 639,
       "text": [
        "<div class=\"esc-lead-article-title-wrapper\"><h2 class=\"esc-lead-article-title\"><a class=\"article usg-AFQjCNFgfVSA5RvbOBonREcbYGxyRosScQ did--4979908044258905467\" href=\"http://www.reuters.com/article/2014/11/05/health-ebola-who-idUSL6N0SV3TB20141105?feedType=RSS&amp;feedName=rbssHealthcareNews\" id=\"MAA4CEgDUABgAWoCdXM\" rel=\"noreferrer\" ssid=\"m\" target=\"_blank\" url=\"http://www.reuters.com/article/2014/11/05/health-ebola-who-idUSL6N0SV3TB20141105?feedType=RSS&amp;feedName=rbssHealthcareNews\"><span class=\"titletext\">WHO veteran elected as head of Africa office amid Ebola criticism</span></a></h2></div>"
       ]
      }
     ],
     "prompt_number": 639
    },
    {
     "cell_type": "code",
     "collapsed": false,
     "input": [
      "import pickle\n",
      "model = pickle.load( open( \"model.pkl\", \"rb\" ) )\n",
      "vec  = pickle.load( open( \"vectorizer.pkl\", \"rb\" ) )"
     ],
     "language": "python",
     "metadata": {},
     "outputs": [],
     "prompt_number": 650
    },
    {
     "cell_type": "code",
     "collapsed": false,
     "input": [
      "alchemyapi = AlchemyAPI()\n",
      "r = requests.get(\"http://news.google.com\")\n",
      "soup = BeautifulSoup(r.text, \"html.parser\")\n",
      "divs = [div for div in soup.findAll('div', 'esc-lead-article-title-wrapper')]\n",
      "links = []\n",
      "bias_scores = []\n",
      "titles = []\n",
      "sentiments = []\n",
      "sentiment_scores = []\n",
      "sources = [source.text for source in soup.findAll('span', {'class': 'al-attribution-source'})]\n",
      "for div in divs:\n",
      "    link = div.find_all('a', href=True)\n",
      "    links.append(link[0]['href'])\n",
      "    titles.append(link[0].findAll('span')[0].text)\n",
      "for link in links:\n",
      "    response = alchemyapi.text('url', link)\n",
      "    text = str(re.sub('[^\\w\\s]+', '', response['text']))\n",
      "    text = str(re.sub('\\n+', '', text)) \n",
      "    bias_scores.append(model.predict(vec.transform([text]).toarray())[0])\n",
      "\n",
      "    #get sentiment\n",
      "    response = alchemyapi.sentiment('url', link)\n",
      "    if response.has_key('docSentiment'):\n",
      "        sentiments.append(response['docSentiment']['type'])\n",
      "        sentiment_scores.append(response['docSentiment'].get('score', 0))"
     ],
     "language": "python",
     "metadata": {},
     "outputs": [
      {
       "output_type": "stream",
       "stream": "stdout",
       "text": [
        "negative -0.200241\n",
        "positive"
       ]
      },
      {
       "output_type": "stream",
       "stream": "stdout",
       "text": [
        " 0.165554\n",
        "negative"
       ]
      },
      {
       "output_type": "stream",
       "stream": "stdout",
       "text": [
        " -0.0505274\n",
        "negative"
       ]
      },
      {
       "output_type": "stream",
       "stream": "stdout",
       "text": [
        " -0.55722\n",
        "negative"
       ]
      },
      {
       "output_type": "stream",
       "stream": "stdout",
       "text": [
        " -0.412091\n",
        "positive"
       ]
      },
      {
       "output_type": "stream",
       "stream": "stdout",
       "text": [
        " 0.2036\n",
        "positive"
       ]
      },
      {
       "output_type": "stream",
       "stream": "stdout",
       "text": [
        " 0.607288\n",
        "negative"
       ]
      },
      {
       "output_type": "stream",
       "stream": "stdout",
       "text": [
        " -0.137953\n",
        "negative"
       ]
      },
      {
       "output_type": "stream",
       "stream": "stdout",
       "text": [
        " -0.465079\n",
        "positive"
       ]
      },
      {
       "output_type": "stream",
       "stream": "stdout",
       "text": [
        " 0.0569135\n",
        "negative"
       ]
      },
      {
       "output_type": "stream",
       "stream": "stdout",
       "text": [
        " -0.273302\n",
        "neutral"
       ]
      },
      {
       "output_type": "stream",
       "stream": "stdout",
       "text": [
        " 0\n",
        "neutral"
       ]
      },
      {
       "output_type": "stream",
       "stream": "stdout",
       "text": [
        " 0\n",
        "negative"
       ]
      },
      {
       "output_type": "stream",
       "stream": "stdout",
       "text": [
        " -0.280722\n",
        "negative"
       ]
      },
      {
       "output_type": "stream",
       "stream": "stdout",
       "text": [
        " -0.401125\n",
        "negative"
       ]
      },
      {
       "output_type": "stream",
       "stream": "stdout",
       "text": [
        " -0.0585054\n",
        "positive"
       ]
      },
      {
       "output_type": "stream",
       "stream": "stdout",
       "text": [
        " 0.245577\n",
        "negative"
       ]
      },
      {
       "output_type": "stream",
       "stream": "stdout",
       "text": [
        " -0.318755\n",
        "positive"
       ]
      },
      {
       "output_type": "stream",
       "stream": "stdout",
       "text": [
        " 0.299248\n",
        "positive"
       ]
      },
      {
       "output_type": "stream",
       "stream": "stdout",
       "text": [
        " 0.0464336\n",
        "positive"
       ]
      },
      {
       "output_type": "stream",
       "stream": "stdout",
       "text": [
        " 0.306159\n",
        "negative"
       ]
      },
      {
       "output_type": "stream",
       "stream": "stdout",
       "text": [
        " -0.47493\n",
        "negative"
       ]
      },
      {
       "output_type": "stream",
       "stream": "stdout",
       "text": [
        " -0.470227\n",
        "negative"
       ]
      },
      {
       "output_type": "stream",
       "stream": "stdout",
       "text": [
        " -0.219072\n",
        "negative"
       ]
      },
      {
       "output_type": "stream",
       "stream": "stdout",
       "text": [
        " -0.228848\n",
        "negative"
       ]
      },
      {
       "output_type": "stream",
       "stream": "stdout",
       "text": [
        " -0.193487\n",
        "positive"
       ]
      },
      {
       "output_type": "stream",
       "stream": "stdout",
       "text": [
        " 0.233014\n",
        "negative"
       ]
      },
      {
       "output_type": "stream",
       "stream": "stdout",
       "text": [
        " -0.207816\n",
        "negative"
       ]
      },
      {
       "output_type": "stream",
       "stream": "stdout",
       "text": [
        " -0.453106\n",
        "negative"
       ]
      },
      {
       "output_type": "stream",
       "stream": "stdout",
       "text": [
        " -0.518278\n",
        "negative"
       ]
      },
      {
       "output_type": "stream",
       "stream": "stdout",
       "text": [
        " -0.110724\n"
       ]
      }
     ],
     "prompt_number": 651
    },
    {
     "cell_type": "code",
     "collapsed": false,
     "input": [
      "google_data = zip(titles, links, sources, bias_scores, sentiments, sentiment_scores)"
     ],
     "language": "python",
     "metadata": {},
     "outputs": [],
     "prompt_number": 653
    },
    {
     "cell_type": "code",
     "collapsed": false,
     "input": [
      "pickle.dump(google_data, open(\"pickles/google_data.pkl\", \"wb\"))"
     ],
     "language": "python",
     "metadata": {},
     "outputs": [],
     "prompt_number": 654
    },
    {
     "cell_type": "code",
     "collapsed": false,
     "input": [
      "pwd"
     ],
     "language": "python",
     "metadata": {},
     "outputs": [
      {
       "metadata": {},
       "output_type": "pyout",
       "prompt_number": 655,
       "text": [
        "u'/Users/Ted/Dropbox/News-Bias'"
       ]
      }
     ],
     "prompt_number": 655
    },
    {
     "cell_type": "code",
     "collapsed": false,
     "input": [
      "import datetime"
     ],
     "language": "python",
     "metadata": {},
     "outputs": [],
     "prompt_number": 659
    },
    {
     "cell_type": "code",
     "collapsed": false,
     "input": [
      "time.time()"
     ],
     "language": "python",
     "metadata": {},
     "outputs": [
      {
       "metadata": {},
       "output_type": "pyout",
       "prompt_number": 658,
       "text": [
        "1415206748.353561"
       ]
      }
     ],
     "prompt_number": 658
    },
    {
     "cell_type": "code",
     "collapsed": false,
     "input": [
      "import datetime"
     ],
     "language": "python",
     "metadata": {},
     "outputs": [],
     "prompt_number": 660
    },
    {
     "cell_type": "code",
     "collapsed": false,
     "input": [
      "a = datetime.datetime.now()"
     ],
     "language": "python",
     "metadata": {},
     "outputs": [],
     "prompt_number": 679
    },
    {
     "cell_type": "code",
     "collapsed": false,
     "input": [
      "diff = datetime.datetime.now() - a"
     ],
     "language": "python",
     "metadata": {},
     "outputs": [],
     "prompt_number": 680
    },
    {
     "cell_type": "code",
     "collapsed": false,
     "input": [
      "diff.seconds"
     ],
     "language": "python",
     "metadata": {},
     "outputs": [
      {
       "metadata": {},
       "output_type": "pyout",
       "prompt_number": 681,
       "text": [
        "2"
       ]
      }
     ],
     "prompt_number": 681
    },
    {
     "cell_type": "code",
     "collapsed": false,
     "input": [
      "import os"
     ],
     "language": "python",
     "metadata": {},
     "outputs": [],
     "prompt_number": 682
    },
    {
     "cell_type": "code",
     "collapsed": false,
     "input": [
      "os.path.dirname('__file__')"
     ],
     "language": "python",
     "metadata": {},
     "outputs": [
      {
       "metadata": {},
       "output_type": "pyout",
       "prompt_number": 684,
       "text": [
        "''"
       ]
      }
     ],
     "prompt_number": 684
    },
    {
     "cell_type": "code",
     "collapsed": false,
     "input": [
      "os.getcwd().split('/')"
     ],
     "language": "python",
     "metadata": {},
     "outputs": [
      {
       "metadata": {},
       "output_type": "pyout",
       "prompt_number": 688,
       "text": [
        "['', 'Users', 'Ted', 'Dropbox', 'News-Bias']"
       ]
      }
     ],
     "prompt_number": 688
    },
    {
     "cell_type": "code",
     "collapsed": false,
     "input": [
      "a  =alchemyapi.text('url','http://www.foxnews.com/tech/2014/11/04/pirate-bay-co-founder-arrested-at-thai-lao-border/' )"
     ],
     "language": "python",
     "metadata": {},
     "outputs": [],
     "prompt_number": 689
    },
    {
     "cell_type": "code",
     "collapsed": false,
     "input": [
      "a.keys()"
     ],
     "language": "python",
     "metadata": {},
     "outputs": [
      {
       "metadata": {},
       "output_type": "pyout",
       "prompt_number": 690,
       "text": [
        "[u'status', u'usage', u'url', u'text']"
       ]
      }
     ],
     "prompt_number": 690
    },
    {
     "cell_type": "code",
     "collapsed": false,
     "input": [
      "a['text']"
     ],
     "language": "python",
     "metadata": {},
     "outputs": [
      {
       "metadata": {},
       "output_type": "pyout",
       "prompt_number": 692,
       "text": [
        "u'BANGKOK \\u2014 One of the founders of popular file-sharing website The Pirate Bay has been arrested under an Interpol warrant as he was crossing into Thailand from Laos, police said Tuesday.\\nHans Fredrik Lennart Neij, who uses the alias TiAMO, was detained Monday by Thai immigration police at a checkpoint in Thailand\\'s Nong Khai province, about 310 miles northeast of Bangkok.\\nNeij, along with other Pirate Bay co-founders, was convicted of aiding copyright infringement by a court in Sweden in 2009. He fled the country after being released on bail.\\nRegional Immigration Police Commissioner Maj. Gen. Chartchai Eimsaeng said a U.S.-based movie association had hired a Thai lawyer to search for Neij, and his photo had been given to immigration police in Nong Khai.\\nThe U.S. movie and music industries have for years pursued strong legal action against sites such as The Pirate Bay, which they say aid the illegal distribution of copyrighted material, depriving its makers of profits due them.\\n\"It might have been a coincidence, but he was wearing the same gray T-shirt that was in the photo. The immigration police officer who spotted him in the car recognized him, so he pulled his car over,\" Chartchai told The Associated Press by phone.\\nChartchai said the 36-year-old Swede had lived in Laos since 2012 and traveled nearly 30 times to Thailand, where he has a house on the resort island of Phuket and 5 million baht ($153,000) in a savings account. Neij\\'s wife was in the car with him. He was being sent to Bangkok later Tuesday and was expected to be returned to Sweden, the police officer said.\\nJonas Nilsson, Neij\\'s lawyer in Sweden, said his client had called him Monday and told him Thai authorities had said \"he would be transported to Sweden.\" However, Nilsson said no decision had been made about a possible extradition.\\nNeij is the second Pirate Bay founder to be arrested in Southeast Asia after a Swedish court in 2009 gave him and three Pirate Bay associates one-year sentences for copyright violation. They also were ordered to pay 46 million kronor ($6.5 million) in damages to the entertainment industry. Their appeals were denied by Sweden\\'s high court.\\nGottfrid Svartholm Warg, who used the alias \"Anakata\" on the Internet, was arrested in Cambodia in 2012 and sent back to Sweden after an international arrest warrant was issued against him.\\nSvartholm Warg served his sentence for copyright infringement before he was extradited to neighboring Denmark, where he faced prosecution for hacking. On Friday, a Danish court sentenced him to 3\\xbd years in prison after he was found guilty of hacking into a private company handling sensitive information for Danish authorities.\\nAssociated Press writer Jan M. Olsen in Copenhagen contributed to this story.\\n'"
       ]
      }
     ],
     "prompt_number": 692
    },
    {
     "cell_type": "code",
     "collapsed": false,
     "input": [
      "cnn = pd.read_csv('data/cnn_data.csv')"
     ],
     "language": "python",
     "metadata": {},
     "outputs": [],
     "prompt_number": 695
    },
    {
     "cell_type": "code",
     "collapsed": false,
     "input": [
      "cnn = cnn[cnn['text'].apply(str) != 'nan']"
     ],
     "language": "python",
     "metadata": {},
     "outputs": [],
     "prompt_number": 702
    },
    {
     "cell_type": "code",
     "collapsed": false,
     "input": [
      "cnn = cnn.reset_index(drop = True)"
     ],
     "language": "python",
     "metadata": {},
     "outputs": [],
     "prompt_number": 704
    },
    {
     "cell_type": "code",
     "collapsed": false,
     "input": [
      "cnn.to_csv('data/cnn_data.csv', index=False)"
     ],
     "language": "python",
     "metadata": {},
     "outputs": [],
     "prompt_number": 711
    },
    {
     "cell_type": "code",
     "collapsed": false,
     "input": [
      "cnn = pd.read_csv('data/cnn_data.csv')"
     ],
     "language": "python",
     "metadata": {},
     "outputs": [],
     "prompt_number": 712
    },
    {
     "cell_type": "code",
     "collapsed": false,
     "input": [
      "cnn['user_rating'] = 0\n",
      "cnn['num_users'] = 0"
     ],
     "language": "python",
     "metadata": {},
     "outputs": [],
     "prompt_number": 714
    },
    {
     "cell_type": "code",
     "collapsed": false,
     "input": [
      "cnn"
     ],
     "language": "python",
     "metadata": {},
     "outputs": [
      {
       "html": [
        "<div style=\"max-height:1000px;max-width:1500px;overflow:auto;\">\n",
        "<table border=\"1\" class=\"dataframe\">\n",
        "  <thead>\n",
        "    <tr style=\"text-align: right;\">\n",
        "      <th></th>\n",
        "      <th>source</th>\n",
        "      <th>topic</th>\n",
        "      <th>text</th>\n",
        "      <th>rating</th>\n",
        "      <th>user_rating</th>\n",
        "      <th>num_users</th>\n",
        "    </tr>\n",
        "  </thead>\n",
        "  <tbody>\n",
        "    <tr>\n",
        "      <th>0  </th>\n",
        "      <td> CNN</td>\n",
        "      <td>  topstories</td>\n",
        "      <td>  Editors note David Bianculli is founder and e...</td>\n",
        "      <td> 0.4</td>\n",
        "      <td> 0</td>\n",
        "      <td> 0</td>\n",
        "    </tr>\n",
        "    <tr>\n",
        "      <th>1  </th>\n",
        "      <td> CNN</td>\n",
        "      <td>  topstories</td>\n",
        "      <td>  CNN  If past votes are any guide turnout in t...</td>\n",
        "      <td> 0.4</td>\n",
        "      <td> 0</td>\n",
        "      <td> 0</td>\n",
        "    </tr>\n",
        "    <tr>\n",
        "      <th>2  </th>\n",
        "      <td> CNN</td>\n",
        "      <td>  topstories</td>\n",
        "      <td>  Editors note Ronald M Green is a professor fo...</td>\n",
        "      <td> 0.4</td>\n",
        "      <td> 0</td>\n",
        "      <td> 0</td>\n",
        "    </tr>\n",
        "    <tr>\n",
        "      <th>3  </th>\n",
        "      <td> CNN</td>\n",
        "      <td>  topstories</td>\n",
        "      <td>  Editors note Jeff Yang is a columnist for The...</td>\n",
        "      <td> 0.4</td>\n",
        "      <td> 0</td>\n",
        "      <td> 0</td>\n",
        "    </tr>\n",
        "    <tr>\n",
        "      <th>4  </th>\n",
        "      <td> CNN</td>\n",
        "      <td>  topstories</td>\n",
        "      <td>  Editors note David Gergen is a senior politic...</td>\n",
        "      <td> 0.4</td>\n",
        "      <td> 0</td>\n",
        "      <td> 0</td>\n",
        "    </tr>\n",
        "    <tr>\n",
        "      <th>5  </th>\n",
        "      <td> CNN</td>\n",
        "      <td>  topstories</td>\n",
        "      <td>  CNN  Nurse Kaci Hickox has cut a deal with au...</td>\n",
        "      <td> 0.4</td>\n",
        "      <td> 0</td>\n",
        "      <td> 0</td>\n",
        "    </tr>\n",
        "    <tr>\n",
        "      <th>6  </th>\n",
        "      <td> CNN</td>\n",
        "      <td>  topstories</td>\n",
        "      <td>  CNN  Lena Dunham canceled several appearances...</td>\n",
        "      <td> 0.4</td>\n",
        "      <td> 0</td>\n",
        "      <td> 0</td>\n",
        "    </tr>\n",
        "    <tr>\n",
        "      <th>7  </th>\n",
        "      <td> CNN</td>\n",
        "      <td>  topstories</td>\n",
        "      <td>  The founder and current CEO of The Weather Ch...</td>\n",
        "      <td> 0.4</td>\n",
        "      <td> 0</td>\n",
        "      <td> 0</td>\n",
        "    </tr>\n",
        "    <tr>\n",
        "      <th>8  </th>\n",
        "      <td> CNN</td>\n",
        "      <td>  topstories</td>\n",
        "      <td>  Innovation is key for the countrys car produc...</td>\n",
        "      <td> 0.4</td>\n",
        "      <td> 0</td>\n",
        "      <td> 0</td>\n",
        "    </tr>\n",
        "    <tr>\n",
        "      <th>9  </th>\n",
        "      <td> CNN</td>\n",
        "      <td>  topstories</td>\n",
        "      <td>  Security video shows a man coming to the aid ...</td>\n",
        "      <td> 0.4</td>\n",
        "      <td> 0</td>\n",
        "      <td> 0</td>\n",
        "    </tr>\n",
        "    <tr>\n",
        "      <th>10 </th>\n",
        "      <td> CNN</td>\n",
        "      <td>  topstories</td>\n",
        "      <td>  A Dallas Cowboys fan catches attack on camera...</td>\n",
        "      <td> 0.4</td>\n",
        "      <td> 0</td>\n",
        "      <td> 0</td>\n",
        "    </tr>\n",
        "    <tr>\n",
        "      <th>11 </th>\n",
        "      <td> CNN</td>\n",
        "      <td>  topstories</td>\n",
        "      <td>  Groom carrying bride falls on his face  and h...</td>\n",
        "      <td> 0.4</td>\n",
        "      <td> 0</td>\n",
        "      <td> 0</td>\n",
        "    </tr>\n",
        "    <tr>\n",
        "      <th>12 </th>\n",
        "      <td> CNN</td>\n",
        "      <td>  topstories</td>\n",
        "      <td>  CNNs coverage of Web Summit in Dublin looks a...</td>\n",
        "      <td> 0.4</td>\n",
        "      <td> 0</td>\n",
        "      <td> 0</td>\n",
        "    </tr>\n",
        "    <tr>\n",
        "      <th>13 </th>\n",
        "      <td> CNN</td>\n",
        "      <td>  topstories</td>\n",
        "      <td>  CNN  Spirit Airlines gets slammed for chargin...</td>\n",
        "      <td> 0.4</td>\n",
        "      <td> 0</td>\n",
        "      <td> 0</td>\n",
        "    </tr>\n",
        "    <tr>\n",
        "      <th>14 </th>\n",
        "      <td> CNN</td>\n",
        "      <td>  topstories</td>\n",
        "      <td>  The hit show The Carbonaro Effect airs Thursd...</td>\n",
        "      <td> 0.4</td>\n",
        "      <td> 0</td>\n",
        "      <td> 0</td>\n",
        "    </tr>\n",
        "    <tr>\n",
        "      <th>15 </th>\n",
        "      <td> CNN</td>\n",
        "      <td>  topstories</td>\n",
        "      <td>  CNNMoneys Laurie Segall explains how the clou...</td>\n",
        "      <td> 0.4</td>\n",
        "      <td> 0</td>\n",
        "      <td> 0</td>\n",
        "    </tr>\n",
        "    <tr>\n",
        "      <th>16 </th>\n",
        "      <td> CNN</td>\n",
        "      <td>  topstories</td>\n",
        "      <td>  Meet Magic Leap  the company whose secret tec...</td>\n",
        "      <td> 0.4</td>\n",
        "      <td> 0</td>\n",
        "      <td> 0</td>\n",
        "    </tr>\n",
        "    <tr>\n",
        "      <th>17 </th>\n",
        "      <td> CNN</td>\n",
        "      <td>  topstories</td>\n",
        "      <td>  On The Tonight Show Starring Jimmy Fallon Kev...</td>\n",
        "      <td> 0.4</td>\n",
        "      <td> 0</td>\n",
        "      <td> 0</td>\n",
        "    </tr>\n",
        "    <tr>\n",
        "      <th>18 </th>\n",
        "      <td> CNN</td>\n",
        "      <td>  topstories</td>\n",
        "      <td>  Washington CNN  Now at last America gets to d...</td>\n",
        "      <td> 0.4</td>\n",
        "      <td> 0</td>\n",
        "      <td> 0</td>\n",
        "    </tr>\n",
        "    <tr>\n",
        "      <th>19 </th>\n",
        "      <td> CNN</td>\n",
        "      <td>  topstories</td>\n",
        "      <td>  Washington CNN  Happy Election Day America Th...</td>\n",
        "      <td> 0.4</td>\n",
        "      <td> 0</td>\n",
        "      <td> 0</td>\n",
        "    </tr>\n",
        "    <tr>\n",
        "      <th>20 </th>\n",
        "      <td> CNN</td>\n",
        "      <td>  topstories</td>\n",
        "      <td>  CNN  Campaigns and outside spending groups ha...</td>\n",
        "      <td> 0.4</td>\n",
        "      <td> 0</td>\n",
        "      <td> 0</td>\n",
        "    </tr>\n",
        "    <tr>\n",
        "      <th>21 </th>\n",
        "      <td> CNN</td>\n",
        "      <td>  topstories</td>\n",
        "      <td>  Interviews with CNNs Dana Bash reveal that ma...</td>\n",
        "      <td> 0.4</td>\n",
        "      <td> 0</td>\n",
        "      <td> 0</td>\n",
        "    </tr>\n",
        "    <tr>\n",
        "      <th>22 </th>\n",
        "      <td> CNN</td>\n",
        "      <td>  topstories</td>\n",
        "      <td>  CNN  The head of Naval Warfare Special Comman...</td>\n",
        "      <td> 0.4</td>\n",
        "      <td> 0</td>\n",
        "      <td> 0</td>\n",
        "    </tr>\n",
        "    <tr>\n",
        "      <th>23 </th>\n",
        "      <td> CNN</td>\n",
        "      <td>  topstories</td>\n",
        "      <td>  CNN  An iron gate with the notorious Nazi slo...</td>\n",
        "      <td> 0.4</td>\n",
        "      <td> 0</td>\n",
        "      <td> 0</td>\n",
        "    </tr>\n",
        "    <tr>\n",
        "      <th>24 </th>\n",
        "      <td> CNN</td>\n",
        "      <td>  topstories</td>\n",
        "      <td>  CNN  The pilot killed in the Virgin Galactics...</td>\n",
        "      <td> 0.4</td>\n",
        "      <td> 0</td>\n",
        "      <td> 0</td>\n",
        "    </tr>\n",
        "    <tr>\n",
        "      <th>25 </th>\n",
        "      <td> CNN</td>\n",
        "      <td>  topstories</td>\n",
        "      <td>  CNN  Its an unforgiving place 45000 feet abov...</td>\n",
        "      <td> 0.4</td>\n",
        "      <td> 0</td>\n",
        "      <td> 0</td>\n",
        "    </tr>\n",
        "    <tr>\n",
        "      <th>26 </th>\n",
        "      <td> CNN</td>\n",
        "      <td>  topstories</td>\n",
        "      <td>  New Delhi CNN  An Indian father invited to di...</td>\n",
        "      <td> 0.4</td>\n",
        "      <td> 0</td>\n",
        "      <td> 0</td>\n",
        "    </tr>\n",
        "    <tr>\n",
        "      <th>27 </th>\n",
        "      <td> CNN</td>\n",
        "      <td>  topstories</td>\n",
        "      <td>  CNN  On Sunday Raquel and Pedro Alvarado buri...</td>\n",
        "      <td> 0.4</td>\n",
        "      <td> 0</td>\n",
        "      <td> 0</td>\n",
        "    </tr>\n",
        "    <tr>\n",
        "      <th>28 </th>\n",
        "      <td> CNN</td>\n",
        "      <td>  topstories</td>\n",
        "      <td>  CNN  A 6yearold boy was found dead in the fri...</td>\n",
        "      <td> 0.4</td>\n",
        "      <td> 0</td>\n",
        "      <td> 0</td>\n",
        "    </tr>\n",
        "    <tr>\n",
        "      <th>29 </th>\n",
        "      <td> CNN</td>\n",
        "      <td>  topstories</td>\n",
        "      <td>  Chilpancingo Mexico CNN  This mayors run is o...</td>\n",
        "      <td> 0.4</td>\n",
        "      <td> 0</td>\n",
        "      <td> 0</td>\n",
        "    </tr>\n",
        "    <tr>\n",
        "      <th>...</th>\n",
        "      <td>...</td>\n",
        "      <td>...</td>\n",
        "      <td>...</td>\n",
        "      <td>...</td>\n",
        "      <td>...</td>\n",
        "      <td>...</td>\n",
        "    </tr>\n",
        "    <tr>\n",
        "      <th>553</th>\n",
        "      <td> CNN</td>\n",
        "      <td>      travel</td>\n",
        "      <td>  CNN  Earth never stops surprising us Every co...</td>\n",
        "      <td> 0.4</td>\n",
        "      <td> 0</td>\n",
        "      <td> 0</td>\n",
        "    </tr>\n",
        "    <tr>\n",
        "      <th>554</th>\n",
        "      <td> CNN</td>\n",
        "      <td>      travel</td>\n",
        "      <td>  CNN  Look out NASCAR one of the worlds fastes...</td>\n",
        "      <td> 0.4</td>\n",
        "      <td> 0</td>\n",
        "      <td> 0</td>\n",
        "    </tr>\n",
        "    <tr>\n",
        "      <th>555</th>\n",
        "      <td> CNN</td>\n",
        "      <td>      travel</td>\n",
        "      <td>  WrightPatterson Air Force Base Ohio CNN  It l...</td>\n",
        "      <td> 0.4</td>\n",
        "      <td> 0</td>\n",
        "      <td> 0</td>\n",
        "    </tr>\n",
        "    <tr>\n",
        "      <th>556</th>\n",
        "      <td> CNN</td>\n",
        "      <td>      travel</td>\n",
        "      <td>  CNN  Bob Lyon remembers the day he met Howard...</td>\n",
        "      <td> 0.4</td>\n",
        "      <td> 0</td>\n",
        "      <td> 0</td>\n",
        "    </tr>\n",
        "    <tr>\n",
        "      <th>557</th>\n",
        "      <td> CNN</td>\n",
        "      <td>      travel</td>\n",
        "      <td>  See more incredible train photos on CNN iRepo...</td>\n",
        "      <td> 0.4</td>\n",
        "      <td> 0</td>\n",
        "      <td> 0</td>\n",
        "    </tr>\n",
        "    <tr>\n",
        "      <th>558</th>\n",
        "      <td> CNN</td>\n",
        "      <td>      travel</td>\n",
        "      <td>  CNN  Kenji Croman has broken bones dislocated...</td>\n",
        "      <td> 0.4</td>\n",
        "      <td> 0</td>\n",
        "      <td> 0</td>\n",
        "    </tr>\n",
        "    <tr>\n",
        "      <th>559</th>\n",
        "      <td> CNN</td>\n",
        "      <td>      travel</td>\n",
        "      <td>  iReporter Malcolm Park captures the beauty of...</td>\n",
        "      <td> 0.4</td>\n",
        "      <td> 0</td>\n",
        "      <td> 0</td>\n",
        "    </tr>\n",
        "    <tr>\n",
        "      <th>560</th>\n",
        "      <td> CNN</td>\n",
        "      <td>      travel</td>\n",
        "      <td>  ROOTS OUR JOURNEYS HOME is a new series featu...</td>\n",
        "      <td> 0.4</td>\n",
        "      <td> 0</td>\n",
        "      <td> 0</td>\n",
        "    </tr>\n",
        "    <tr>\n",
        "      <th>561</th>\n",
        "      <td> CNN</td>\n",
        "      <td>      travel</td>\n",
        "      <td>  CNN  With the sweltering summer bidding adieu...</td>\n",
        "      <td> 0.4</td>\n",
        "      <td> 0</td>\n",
        "      <td> 0</td>\n",
        "    </tr>\n",
        "    <tr>\n",
        "      <th>562</th>\n",
        "      <td> CNN</td>\n",
        "      <td>      travel</td>\n",
        "      <td>  Editors note Michele Bigley has split her tim...</td>\n",
        "      <td> 0.4</td>\n",
        "      <td> 0</td>\n",
        "      <td> 0</td>\n",
        "    </tr>\n",
        "    <tr>\n",
        "      <th>563</th>\n",
        "      <td> CNN</td>\n",
        "      <td>      travel</td>\n",
        "      <td>  CNN  In the best fairy tales there is always ...</td>\n",
        "      <td> 0.4</td>\n",
        "      <td> 0</td>\n",
        "      <td> 0</td>\n",
        "    </tr>\n",
        "    <tr>\n",
        "      <th>564</th>\n",
        "      <td> CNN</td>\n",
        "      <td>      travel</td>\n",
        "      <td>  CNN  Youre in town for business and have a fe...</td>\n",
        "      <td> 0.4</td>\n",
        "      <td> 0</td>\n",
        "      <td> 0</td>\n",
        "    </tr>\n",
        "    <tr>\n",
        "      <th>565</th>\n",
        "      <td> CNN</td>\n",
        "      <td>      travel</td>\n",
        "      <td>  Editors note The City is a CNN special series...</td>\n",
        "      <td> 0.4</td>\n",
        "      <td> 0</td>\n",
        "      <td> 0</td>\n",
        "    </tr>\n",
        "    <tr>\n",
        "      <th>566</th>\n",
        "      <td> CNN</td>\n",
        "      <td> studentnews</td>\n",
        "      <td>  CNN Student News  November 4 2014 This Electi...</td>\n",
        "      <td> 0.4</td>\n",
        "      <td> 0</td>\n",
        "      <td> 0</td>\n",
        "    </tr>\n",
        "    <tr>\n",
        "      <th>567</th>\n",
        "      <td> CNN</td>\n",
        "      <td> studentnews</td>\n",
        "      <td>  CNN Student News  November 3 2014 History art...</td>\n",
        "      <td> 0.4</td>\n",
        "      <td> 0</td>\n",
        "      <td> 0</td>\n",
        "    </tr>\n",
        "    <tr>\n",
        "      <th>568</th>\n",
        "      <td> CNN</td>\n",
        "      <td> studentnews</td>\n",
        "      <td>  CNN Student News  October 31 2014 Featured th...</td>\n",
        "      <td> 0.4</td>\n",
        "      <td> 0</td>\n",
        "      <td> 0</td>\n",
        "    </tr>\n",
        "    <tr>\n",
        "      <th>569</th>\n",
        "      <td> CNN</td>\n",
        "      <td> studentnews</td>\n",
        "      <td>  CNN Student News  October 30 2014 In a tremen...</td>\n",
        "      <td> 0.4</td>\n",
        "      <td> 0</td>\n",
        "      <td> 0</td>\n",
        "    </tr>\n",
        "    <tr>\n",
        "      <th>570</th>\n",
        "      <td> CNN</td>\n",
        "      <td> studentnews</td>\n",
        "      <td>  CNN Student News  October 29 2014 If you know...</td>\n",
        "      <td> 0.4</td>\n",
        "      <td> 0</td>\n",
        "      <td> 0</td>\n",
        "    </tr>\n",
        "    <tr>\n",
        "      <th>571</th>\n",
        "      <td> CNN</td>\n",
        "      <td> studentnews</td>\n",
        "      <td>  CNN Student News  October 28 2014 Exactly one...</td>\n",
        "      <td> 0.4</td>\n",
        "      <td> 0</td>\n",
        "      <td> 0</td>\n",
        "    </tr>\n",
        "    <tr>\n",
        "      <th>572</th>\n",
        "      <td> CNN</td>\n",
        "      <td> studentnews</td>\n",
        "      <td>  CNN Student News  October 27 2014 This Monday...</td>\n",
        "      <td> 0.4</td>\n",
        "      <td> 0</td>\n",
        "      <td> 0</td>\n",
        "    </tr>\n",
        "    <tr>\n",
        "      <th>573</th>\n",
        "      <td> CNN</td>\n",
        "      <td> studentnews</td>\n",
        "      <td>  CNN Student News  October 24 2014 From scienc...</td>\n",
        "      <td> 0.4</td>\n",
        "      <td> 0</td>\n",
        "      <td> 0</td>\n",
        "    </tr>\n",
        "    <tr>\n",
        "      <th>574</th>\n",
        "      <td> CNN</td>\n",
        "      <td> studentnews</td>\n",
        "      <td>  CNN Student News  October 23 2014 Get ready f...</td>\n",
        "      <td> 0.4</td>\n",
        "      <td> 0</td>\n",
        "      <td> 0</td>\n",
        "    </tr>\n",
        "    <tr>\n",
        "      <th>575</th>\n",
        "      <td> CNN</td>\n",
        "      <td> studentnews</td>\n",
        "      <td>  CNN Student News  October 22 2014 A new repor...</td>\n",
        "      <td> 0.4</td>\n",
        "      <td> 0</td>\n",
        "      <td> 0</td>\n",
        "    </tr>\n",
        "    <tr>\n",
        "      <th>576</th>\n",
        "      <td> CNN</td>\n",
        "      <td> mostpopular</td>\n",
        "      <td>  Kuala Lumpur Malaysia CNN  The investigation ...</td>\n",
        "      <td> 0.4</td>\n",
        "      <td> 0</td>\n",
        "      <td> 0</td>\n",
        "    </tr>\n",
        "    <tr>\n",
        "      <th>577</th>\n",
        "      <td> CNN</td>\n",
        "      <td> mostpopular</td>\n",
        "      <td>  CNN  An outbreak of Ebola hemorrhagic fever i...</td>\n",
        "      <td> 0.4</td>\n",
        "      <td> 0</td>\n",
        "      <td> 0</td>\n",
        "    </tr>\n",
        "    <tr>\n",
        "      <th>578</th>\n",
        "      <td> CNN</td>\n",
        "      <td> mostpopular</td>\n",
        "      <td>  Washington CNN  Republicans are going all in ...</td>\n",
        "      <td> 0.4</td>\n",
        "      <td> 0</td>\n",
        "      <td> 0</td>\n",
        "    </tr>\n",
        "    <tr>\n",
        "      <th>579</th>\n",
        "      <td> CNN</td>\n",
        "      <td> mostpopular</td>\n",
        "      <td>  Brussels Belgium CNN  NATO will suspend all p...</td>\n",
        "      <td> 0.4</td>\n",
        "      <td> 0</td>\n",
        "      <td> 0</td>\n",
        "    </tr>\n",
        "    <tr>\n",
        "      <th>580</th>\n",
        "      <td> CNN</td>\n",
        "      <td> mostpopular</td>\n",
        "      <td>  CNN  The 550foottall High Roller has finally ...</td>\n",
        "      <td> 0.4</td>\n",
        "      <td> 0</td>\n",
        "      <td> 0</td>\n",
        "    </tr>\n",
        "    <tr>\n",
        "      <th>581</th>\n",
        "      <td> CNN</td>\n",
        "      <td> mostpopular</td>\n",
        "      <td>  Washington CNN  A lastminute enrollment surge...</td>\n",
        "      <td> 0.4</td>\n",
        "      <td> 0</td>\n",
        "      <td> 0</td>\n",
        "    </tr>\n",
        "    <tr>\n",
        "      <th>582</th>\n",
        "      <td> CNN</td>\n",
        "      <td> mostpopular</td>\n",
        "      <td>  Editors note Paul Begala a Democratic strateg...</td>\n",
        "      <td> 0.4</td>\n",
        "      <td> 0</td>\n",
        "      <td> 0</td>\n",
        "    </tr>\n",
        "  </tbody>\n",
        "</table>\n",
        "<p>583 rows \u00d7 6 columns</p>\n",
        "</div>"
       ],
       "metadata": {},
       "output_type": "pyout",
       "prompt_number": 715,
       "text": [
        "    source        topic                                               text  \\\n",
        "0      CNN   topstories   Editors note David Bianculli is founder and e...   \n",
        "1      CNN   topstories   CNN  If past votes are any guide turnout in t...   \n",
        "2      CNN   topstories   Editors note Ronald M Green is a professor fo...   \n",
        "3      CNN   topstories   Editors note Jeff Yang is a columnist for The...   \n",
        "4      CNN   topstories   Editors note David Gergen is a senior politic...   \n",
        "5      CNN   topstories   CNN  Nurse Kaci Hickox has cut a deal with au...   \n",
        "6      CNN   topstories   CNN  Lena Dunham canceled several appearances...   \n",
        "7      CNN   topstories   The founder and current CEO of The Weather Ch...   \n",
        "8      CNN   topstories   Innovation is key for the countrys car produc...   \n",
        "9      CNN   topstories   Security video shows a man coming to the aid ...   \n",
        "10     CNN   topstories   A Dallas Cowboys fan catches attack on camera...   \n",
        "11     CNN   topstories   Groom carrying bride falls on his face  and h...   \n",
        "12     CNN   topstories   CNNs coverage of Web Summit in Dublin looks a...   \n",
        "13     CNN   topstories   CNN  Spirit Airlines gets slammed for chargin...   \n",
        "14     CNN   topstories   The hit show The Carbonaro Effect airs Thursd...   \n",
        "15     CNN   topstories   CNNMoneys Laurie Segall explains how the clou...   \n",
        "16     CNN   topstories   Meet Magic Leap  the company whose secret tec...   \n",
        "17     CNN   topstories   On The Tonight Show Starring Jimmy Fallon Kev...   \n",
        "18     CNN   topstories   Washington CNN  Now at last America gets to d...   \n",
        "19     CNN   topstories   Washington CNN  Happy Election Day America Th...   \n",
        "20     CNN   topstories   CNN  Campaigns and outside spending groups ha...   \n",
        "21     CNN   topstories   Interviews with CNNs Dana Bash reveal that ma...   \n",
        "22     CNN   topstories   CNN  The head of Naval Warfare Special Comman...   \n",
        "23     CNN   topstories   CNN  An iron gate with the notorious Nazi slo...   \n",
        "24     CNN   topstories   CNN  The pilot killed in the Virgin Galactics...   \n",
        "25     CNN   topstories   CNN  Its an unforgiving place 45000 feet abov...   \n",
        "26     CNN   topstories   New Delhi CNN  An Indian father invited to di...   \n",
        "27     CNN   topstories   CNN  On Sunday Raquel and Pedro Alvarado buri...   \n",
        "28     CNN   topstories   CNN  A 6yearold boy was found dead in the fri...   \n",
        "29     CNN   topstories   Chilpancingo Mexico CNN  This mayors run is o...   \n",
        "..     ...          ...                                                ...   \n",
        "553    CNN       travel   CNN  Earth never stops surprising us Every co...   \n",
        "554    CNN       travel   CNN  Look out NASCAR one of the worlds fastes...   \n",
        "555    CNN       travel   WrightPatterson Air Force Base Ohio CNN  It l...   \n",
        "556    CNN       travel   CNN  Bob Lyon remembers the day he met Howard...   \n",
        "557    CNN       travel   See more incredible train photos on CNN iRepo...   \n",
        "558    CNN       travel   CNN  Kenji Croman has broken bones dislocated...   \n",
        "559    CNN       travel   iReporter Malcolm Park captures the beauty of...   \n",
        "560    CNN       travel   ROOTS OUR JOURNEYS HOME is a new series featu...   \n",
        "561    CNN       travel   CNN  With the sweltering summer bidding adieu...   \n",
        "562    CNN       travel   Editors note Michele Bigley has split her tim...   \n",
        "563    CNN       travel   CNN  In the best fairy tales there is always ...   \n",
        "564    CNN       travel   CNN  Youre in town for business and have a fe...   \n",
        "565    CNN       travel   Editors note The City is a CNN special series...   \n",
        "566    CNN  studentnews   CNN Student News  November 4 2014 This Electi...   \n",
        "567    CNN  studentnews   CNN Student News  November 3 2014 History art...   \n",
        "568    CNN  studentnews   CNN Student News  October 31 2014 Featured th...   \n",
        "569    CNN  studentnews   CNN Student News  October 30 2014 In a tremen...   \n",
        "570    CNN  studentnews   CNN Student News  October 29 2014 If you know...   \n",
        "571    CNN  studentnews   CNN Student News  October 28 2014 Exactly one...   \n",
        "572    CNN  studentnews   CNN Student News  October 27 2014 This Monday...   \n",
        "573    CNN  studentnews   CNN Student News  October 24 2014 From scienc...   \n",
        "574    CNN  studentnews   CNN Student News  October 23 2014 Get ready f...   \n",
        "575    CNN  studentnews   CNN Student News  October 22 2014 A new repor...   \n",
        "576    CNN  mostpopular   Kuala Lumpur Malaysia CNN  The investigation ...   \n",
        "577    CNN  mostpopular   CNN  An outbreak of Ebola hemorrhagic fever i...   \n",
        "578    CNN  mostpopular   Washington CNN  Republicans are going all in ...   \n",
        "579    CNN  mostpopular   Brussels Belgium CNN  NATO will suspend all p...   \n",
        "580    CNN  mostpopular   CNN  The 550foottall High Roller has finally ...   \n",
        "581    CNN  mostpopular   Washington CNN  A lastminute enrollment surge...   \n",
        "582    CNN  mostpopular   Editors note Paul Begala a Democratic strateg...   \n",
        "\n",
        "     rating  user_rating  num_users  \n",
        "0       0.4            0          0  \n",
        "1       0.4            0          0  \n",
        "2       0.4            0          0  \n",
        "3       0.4            0          0  \n",
        "4       0.4            0          0  \n",
        "5       0.4            0          0  \n",
        "6       0.4            0          0  \n",
        "7       0.4            0          0  \n",
        "8       0.4            0          0  \n",
        "9       0.4            0          0  \n",
        "10      0.4            0          0  \n",
        "11      0.4            0          0  \n",
        "12      0.4            0          0  \n",
        "13      0.4            0          0  \n",
        "14      0.4            0          0  \n",
        "15      0.4            0          0  \n",
        "16      0.4            0          0  \n",
        "17      0.4            0          0  \n",
        "18      0.4            0          0  \n",
        "19      0.4            0          0  \n",
        "20      0.4            0          0  \n",
        "21      0.4            0          0  \n",
        "22      0.4            0          0  \n",
        "23      0.4            0          0  \n",
        "24      0.4            0          0  \n",
        "25      0.4            0          0  \n",
        "26      0.4            0          0  \n",
        "27      0.4            0          0  \n",
        "28      0.4            0          0  \n",
        "29      0.4            0          0  \n",
        "..      ...          ...        ...  \n",
        "553     0.4            0          0  \n",
        "554     0.4            0          0  \n",
        "555     0.4            0          0  \n",
        "556     0.4            0          0  \n",
        "557     0.4            0          0  \n",
        "558     0.4            0          0  \n",
        "559     0.4            0          0  \n",
        "560     0.4            0          0  \n",
        "561     0.4            0          0  \n",
        "562     0.4            0          0  \n",
        "563     0.4            0          0  \n",
        "564     0.4            0          0  \n",
        "565     0.4            0          0  \n",
        "566     0.4            0          0  \n",
        "567     0.4            0          0  \n",
        "568     0.4            0          0  \n",
        "569     0.4            0          0  \n",
        "570     0.4            0          0  \n",
        "571     0.4            0          0  \n",
        "572     0.4            0          0  \n",
        "573     0.4            0          0  \n",
        "574     0.4            0          0  \n",
        "575     0.4            0          0  \n",
        "576     0.4            0          0  \n",
        "577     0.4            0          0  \n",
        "578     0.4            0          0  \n",
        "579     0.4            0          0  \n",
        "580     0.4            0          0  \n",
        "581     0.4            0          0  \n",
        "582     0.4            0          0  \n",
        "\n",
        "[583 rows x 6 columns]"
       ]
      }
     ],
     "prompt_number": 715
    },
    {
     "cell_type": "code",
     "collapsed": false,
     "input": [
      "#back to square \n",
      "#look for drug war and gun control in NYT, NPR, huffpost\n",
      "key = 'MDE3MzEyOTEwMDE0MTUxMjU4MjczNTcwMw001'\n",
      "base = 'http://api.npr.org/query'\n",
      "params = {'apiKey' : key, 'output': 'JSON', 'startDate' : '2014-01-01', \\\n",
      "            'endDate' : '2014-08-01', 'searchTerm' :'drug war', 'startNum' : 1, 'sort': 'relevance'}\n",
      "req = requests.get(base, params=params)\n",
      "j = req.json()"
     ],
     "language": "python",
     "metadata": {},
     "outputs": [],
     "prompt_number": 771
    },
    {
     "cell_type": "code",
     "collapsed": false,
     "input": [
      "req.url"
     ],
     "language": "python",
     "metadata": {},
     "outputs": [
      {
       "metadata": {},
       "output_type": "pyout",
       "prompt_number": 772,
       "text": [
        "u'http://api.npr.org/query?sort=relevance&startDate=2014-01-01&apiKey=MDE3MzEyOTEwMDE0MTUxMjU4MjczNTcwMw001&endDate=2014-08-01&startNum=1&searchTerm=drug+war&output=JSON'"
       ]
      }
     ],
     "prompt_number": 772
    },
    {
     "cell_type": "code",
     "collapsed": false,
     "input": [
      "j['list']['story'][7]['text']"
     ],
     "language": "python",
     "metadata": {},
     "outputs": [
      {
       "metadata": {},
       "output_type": "pyout",
       "prompt_number": 773,
       "text": [
        "{u'paragraph': [{u'$text': u\"In the late 1980s and early '90s, Washington, D.C., was a city under siege. As with other cities, it descended into near chaos because of the crack epidemic that claimed even innocent lives. Whole neighborhoods became war zones, and the nation's capital became the nation's homicide capital.\",\n",
        "   u'num': u'1'},\n",
        "  {u'$text': u'Ruben Castaneda was a crime reporter for The Washington Post at the time. He tells NPR\\'s David Greene, \"Family members tried to minimize the chances that their kids would get hit by stray bullets: They would put the beds of their kids in such a way that any bullet that sailed through a window would not be in that trajectory.\"',\n",
        "   u'num': u'2'},\n",
        "  {u'$text': u\"In a new book, S Street Rising, Castaneda writes that S Street was once an epicenter of the drug war. Now, it's much quieter. Neighbors walk by with baby strollers, birds chirp, and a new coffee shop just opened. But Castaneda's book looks back to the worst of times, when the city was a combat zone.\",\n",
        "   u'num': u'3'},\n",
        "  {u'$text': u'\"Crack cocaine, and the violence that it brought, was having an extraordinary impact on this city,\" he says. And, it turns out, it was having an impact on Castaneda as well \\u2014 he was a crack addict who bought drugs on the very streets he was covering as a crime reporter. He had come to Washington from Los Angeles for his dream job and had planned to kick the habit he had picked up in California. But he only lasted four days before he went seeking another high. He recalls pulling up to the corner of 7th and S streets Northwest and being awestruck by what he saw there:',\n",
        "   u'num': u'4'},\n",
        "  {u'num': u'5'},\n",
        "  {u'$text': u\"Directly across the street, in front of the abandoned Wonder Bread bakery, there were probably six to 10 drug dealers, slingers, just loitering in front of the building. There were about an equal number on the south side of the street, where I was parked. And they were completely unconcerned that anyone was watching them. They were out there with complete impunity. And I'd made a number of buys by then, in Los Angeles, and the drug dealers there \\u2014 which were usually gang members \\u2014 they at least looked over their shoulders. ... But these slingers didn't care. They clearly didn't care.\",\n",
        "   u'num': u'6'},\n",
        "  {u'num': u'7'},\n",
        "  {u'$text': u\"Castaneda made his first D.C. buy 15 blocks from the White House, where just the week before President George H. W. Bush had declared a war on drugs. The reporter visited that block for two reasons: his own addiction and to do his job. It was two lives he desperately tried to keep separate. He recalls one night when he raced to S Street after hearing about a shooting on the newsroom's police scanner.\",\n",
        "   u'num': u'8'},\n",
        "  {u'$text': u'\"I parked, got out of the car and learned four young men had been shot to death,\" he says. \"So it was a quadruple homicide.\" It was a huge story for a 28-year-old crime reporter trying to make a name for himself, but Castaneda almost didn\\'t get out of his car to cover it. He remembers wondering if any of the drug dealers who had seen him make purchases would call him out to the police.',\n",
        "   u'num': u'9'},\n",
        "  {u'$text': u'When he did get out of his car, he saw maybe half a dozen police squad cars parked at odd angles. \"An officer was already putting up yellow tape around part of a night club. It was a scene of chaos,\" he says. \"And there were no drug dealers in sight. If they had been out that night, then they scattered because of the presence of so many police.\"',\n",
        "   u'num': u'10'},\n",
        "  {u'$text': u'When asked if he stands by the stories he wrote while on crack, Castaneda replies, \"It\\'s hard to tell how much better I might have been as a reporter, as a journalist, if I hadn\\'t been using crack, if I hadn\\'t been drinking large amounts of alcohol. But I tried really hard, and I worked really hard as a journalist. And I think I did some good work, until I couldn\\'t.\"',\n",
        "   u'num': u'11'},\n",
        "  {u'$text': u\"And eventually he couldn't. The addiction got so bad that his editors could tell something was wrong. They forced him to go on leave and they took him to rehab.\",\n",
        "   u'num': u'12'},\n",
        "  {u'$text': u'At the same time, other people were also struggling through the drug war. On S Street, the pastor of New Community Church was trying to minister to a neighborhood full of addicts and dealers \\u2014 including one powerful one.',\n",
        "   u'num': u'13'},\n",
        "  {u'$text': u'Castaneda says, \"Baldie was the main drug dealer who ran S Street during the 1980s and early 1990s. ... I have no doubt that I put thousands, if not tens of thousands, of dollars into Baldie\\'s pocket.\"',\n",
        "   u'num': u'14'},\n",
        "  {u'$text': u'But the drug kingpin was more complicated than you might think. According to Castaneda, he lived next door to the church and had a soft spot for its mission. He sent his two young daughters to its after-school program and occasionally to Sunday service. \"So Baldie told his guys who worked on the street to respect the church,\" Castaneda says.',\n",
        "   u'num': u'15'},\n",
        "  {u'$text': u\"That brings us to today. Baldie, the drug boss on S Street, died in prison. Castaneda has been clean for 22 years. After a long career at the Washington Post, he's gone on to other journalism jobs. For many years he was afraid to return to this block, but he did in 2008. He knocked on the door to New Community Church and was surprised when he was invited to speak before the congregation on Easter Sunday.\",\n",
        "   u'num': u'16'},\n",
        "  {u'$text': u'Castaneda says he was anxious because, by telling his story, he would be acknowledging the role he played in the chaos.',\n",
        "   u'num': u'17'},\n",
        "  {u'$text': u'\"I was, to some extent, responsible,\" he says, \"and I didn\\'t know how people who lived through that might react. I hadn\\'t figured out: How do you make amends to an entire neighborhood? Well, here was an opportunity. And I said, \\'I\\'m sorry. I was caught up in my addiction and I realize that I was partly responsible for what occurred.\\' \"',\n",
        "   u'num': u'18'},\n",
        "  {u'$text': u'The church was happy to hear from him. \"When my time was up,\" he says, \"people in the congregation gathered around me and they thanked me for having talked about what I went through. And one of the women in particular, she hugged me and she said, \\'We\\'re glad you\\'re here.\\' \" [Copyright 2014 NPR]',\n",
        "   u'num': u'19'}]}"
       ]
      }
     ],
     "prompt_number": 773
    },
    {
     "cell_type": "code",
     "collapsed": false,
     "input": [
      "req.url"
     ],
     "language": "python",
     "metadata": {},
     "outputs": [
      {
       "metadata": {},
       "output_type": "pyout",
       "prompt_number": 741,
       "text": [
        "u'http://api.npr.org/query?startDate=2014-01-01&apiKey=MDE3MzEyOTEwMDE0MTUxMjU4MjczNTcwMw001&endDate=2014-08-01&searchTerm=legalize+marijuana&action=or&output=JSON'"
       ]
      }
     ],
     "prompt_number": 741
    },
    {
     "cell_type": "code",
     "collapsed": false,
     "input": [
      "npr = pd.read_csv('data/npr_data.csv')"
     ],
     "language": "python",
     "metadata": {},
     "outputs": [],
     "prompt_number": 871
    },
    {
     "cell_type": "code",
     "collapsed": false,
     "input": [
      "npr.shape"
     ],
     "language": "python",
     "metadata": {},
     "outputs": [
      {
       "metadata": {},
       "output_type": "pyout",
       "prompt_number": 872,
       "text": [
        "(639, 5)"
       ]
      }
     ],
     "prompt_number": 872
    },
    {
     "cell_type": "code",
     "collapsed": false,
     "input": [
      "npr"
     ],
     "language": "python",
     "metadata": {},
     "outputs": [
      {
       "html": [
        "<div style=\"max-height:1000px;max-width:1500px;overflow:auto;\">\n",
        "<table border=\"1\" class=\"dataframe\">\n",
        "  <thead>\n",
        "    <tr style=\"text-align: right;\">\n",
        "      <th></th>\n",
        "      <th>source</th>\n",
        "      <th>url</th>\n",
        "      <th>text</th>\n",
        "      <th>publish_date</th>\n",
        "      <th>category</th>\n",
        "    </tr>\n",
        "  </thead>\n",
        "  <tbody>\n",
        "    <tr>\n",
        "      <th>0  </th>\n",
        "      <td> NPR</td>\n",
        "      <td> http://www.npr.org/blogs/health/2014/08/01/336...</td>\n",
        "      <td> After winning the Tour de France last Sunday V...</td>\n",
        "      <td> Mon, 04 Aug 2014 10:19:00 -0400</td>\n",
        "      <td> drugs</td>\n",
        "    </tr>\n",
        "    <tr>\n",
        "      <th>1  </th>\n",
        "      <td> NPR</td>\n",
        "      <td> http://www.npr.org/blogs/microphonecheck/2014/...</td>\n",
        "      <td> 20 years ago Nas mentioned his friend Cormega ...</td>\n",
        "      <td> Thu, 07 Aug 2014 11:39:00 -0400</td>\n",
        "      <td> drugs</td>\n",
        "    </tr>\n",
        "    <tr>\n",
        "      <th>2  </th>\n",
        "      <td> NPR</td>\n",
        "      <td> http://www.npr.org/blogs/codeswitch/2014/07/29...</td>\n",
        "      <td> Rachel Howzell Hall is easing her big laurel g...</td>\n",
        "      <td> Thu, 07 Aug 2014 11:39:00 -0400</td>\n",
        "      <td> drugs</td>\n",
        "    </tr>\n",
        "    <tr>\n",
        "      <th>3  </th>\n",
        "      <td> NPR</td>\n",
        "      <td> http://www.npr.org/2014/07/25/335192804/are-op...</td>\n",
        "      <td> Kevin Cooper was convicted of murdering a marr...</td>\n",
        "      <td> Fri, 25 Jul 2014 14:38:00 -0400</td>\n",
        "      <td> drugs</td>\n",
        "    </tr>\n",
        "    <tr>\n",
        "      <th>4  </th>\n",
        "      <td> NPR</td>\n",
        "      <td> http://www.npr.org/blogs/thetwo-way/2014/07/23...</td>\n",
        "      <td> Another US execution has gone awry as Arizona ...</td>\n",
        "      <td> Thu, 24 Jul 2014 18:22:00 -0400</td>\n",
        "      <td> drugs</td>\n",
        "    </tr>\n",
        "    <tr>\n",
        "      <th>5  </th>\n",
        "      <td> NPR</td>\n",
        "      <td> http://www.npr.org/blogs/codeswitch/2014/07/23...</td>\n",
        "      <td> The past few days have brought a whole lot of ...</td>\n",
        "      <td> Wed, 23 Jul 2014 22:36:00 -0400</td>\n",
        "      <td> drugs</td>\n",
        "    </tr>\n",
        "    <tr>\n",
        "      <th>6  </th>\n",
        "      <td> NPR</td>\n",
        "      <td> http://www.npr.org/blogs/thetwo-way/2014/07/21...</td>\n",
        "      <td> Texas Gov Rick Perry is expected to announce o...</td>\n",
        "      <td> Wed, 23 Jul 2014 22:36:00 -0400</td>\n",
        "      <td> drugs</td>\n",
        "    </tr>\n",
        "    <tr>\n",
        "      <th>7  </th>\n",
        "      <td> NPR</td>\n",
        "      <td> http://www.npr.org/2014/07/20/332666637/migran...</td>\n",
        "      <td> In the western Mexican state of Michoacan civi...</td>\n",
        "      <td> Mon, 21 Jul 2014 08:20:00 -0400</td>\n",
        "      <td> drugs</td>\n",
        "    </tr>\n",
        "    <tr>\n",
        "      <th>8  </th>\n",
        "      <td> NPR</td>\n",
        "      <td> http://www.npr.org/blogs/thetwo-way/2014/07/18...</td>\n",
        "      <td> A US appeals court in Denver has upheld a lowe...</td>\n",
        "      <td> Fri, 18 Jul 2014 19:54:00 -0400</td>\n",
        "      <td> drugs</td>\n",
        "    </tr>\n",
        "    <tr>\n",
        "      <th>9  </th>\n",
        "      <td> NPR</td>\n",
        "      <td> http://www.npr.org/2014/07/12/330761032/brookl...</td>\n",
        "      <td> Marijuana enthusiasts should still think twice...</td>\n",
        "      <td> Sat, 12 Jul 2014 12:12:00 -0400</td>\n",
        "      <td> drugs</td>\n",
        "    </tr>\n",
        "    <tr>\n",
        "      <th>10 </th>\n",
        "      <td> NPR</td>\n",
        "      <td> http://www.npr.org/2014/07/09/329587949/states...</td>\n",
        "      <td> Some red states like Louisiana and Texas have ...</td>\n",
        "      <td> Wed, 09 Jul 2014 08:01:00 -0400</td>\n",
        "      <td> drugs</td>\n",
        "    </tr>\n",
        "    <tr>\n",
        "      <th>11 </th>\n",
        "      <td> NPR</td>\n",
        "      <td> http://www.npr.org/blogs/health/2014/07/08/329...</td>\n",
        "      <td> Four Florida insurers allegedly discriminate a...</td>\n",
        "      <td> Tue, 08 Jul 2014 11:12:00 -0400</td>\n",
        "      <td> drugs</td>\n",
        "    </tr>\n",
        "    <tr>\n",
        "      <th>12 </th>\n",
        "      <td> NPR</td>\n",
        "      <td> http://www.npr.org/2014/07/08/329520062/in-lit...</td>\n",
        "      <td> Chug chug chug Puff puff puff Dingdong dingdon...</td>\n",
        "      <td> Wed, 09 Jul 2014 08:54:00 -0400</td>\n",
        "      <td> drugs</td>\n",
        "    </tr>\n",
        "    <tr>\n",
        "      <th>13 </th>\n",
        "      <td> NPR</td>\n",
        "      <td> http://www.npr.org/2014/07/06/329235293/rare-u...</td>\n",
        "      <td> The nation greets the coming of July each year...</td>\n",
        "      <td> Mon, 07 Jul 2014 15:10:00 -0400</td>\n",
        "      <td> drugs</td>\n",
        "    </tr>\n",
        "    <tr>\n",
        "      <th>14 </th>\n",
        "      <td> NPR</td>\n",
        "      <td> http://www.npr.org/2014/07/05/328852558/local-...</td>\n",
        "      <td> Before immigrants get deported they are someti...</td>\n",
        "      <td> Sun, 06 Jul 2014 10:42:00 -0400</td>\n",
        "      <td> drugs</td>\n",
        "    </tr>\n",
        "    <tr>\n",
        "      <th>15 </th>\n",
        "      <td> NPR</td>\n",
        "      <td> http://www.npr.org/blogs/codeswitch/2014/07/01...</td>\n",
        "      <td> President Obama said over the weekend that he ...</td>\n",
        "      <td> Tue, 01 Jul 2014 22:55:00 -0400</td>\n",
        "      <td> drugs</td>\n",
        "    </tr>\n",
        "    <tr>\n",
        "      <th>16 </th>\n",
        "      <td> NPR</td>\n",
        "      <td> http://www.npr.org/blogs/thetwo-way/2014/06/30...</td>\n",
        "      <td> The Supreme Court has ruled that family owned ...</td>\n",
        "      <td> Tue, 01 Jul 2014 19:37:00 -0400</td>\n",
        "      <td> drugs</td>\n",
        "    </tr>\n",
        "    <tr>\n",
        "      <th>17 </th>\n",
        "      <td> NPR</td>\n",
        "      <td> http://www.npr.org/blogs/thetwo-way/2014/06/28...</td>\n",
        "      <td> Death row inmates in two states are taking leg...</td>\n",
        "      <td> Tue, 01 Jul 2014 19:37:00 -0400</td>\n",
        "      <td> drugs</td>\n",
        "    </tr>\n",
        "    <tr>\n",
        "      <th>18 </th>\n",
        "      <td> NPR</td>\n",
        "      <td> http://www.npr.org/blogs/thetwo-way/2014/06/26...</td>\n",
        "      <td> Marijuana use in the United States has gone up...</td>\n",
        "      <td> Thu, 26 Jun 2014 17:34:00 -0400</td>\n",
        "      <td> drugs</td>\n",
        "    </tr>\n",
        "    <tr>\n",
        "      <th>19 </th>\n",
        "      <td> NPR</td>\n",
        "      <td> http://www.npr.org/blogs/thetwo-way/2014/06/25...</td>\n",
        "      <td> The US Supreme Court ruled unanimously Wednesd...</td>\n",
        "      <td> Wed, 25 Jun 2014 12:48:00 -0400</td>\n",
        "      <td> drugs</td>\n",
        "    </tr>\n",
        "    <tr>\n",
        "      <th>20 </th>\n",
        "      <td> NPR</td>\n",
        "      <td> http://www.npr.org/blogs/thesalt/2014/06/24/32...</td>\n",
        "      <td> Some people have had it with natural food For ...</td>\n",
        "      <td> Wed, 25 Jun 2014 09:50:00 -0400</td>\n",
        "      <td> drugs</td>\n",
        "    </tr>\n",
        "    <tr>\n",
        "      <th>21 </th>\n",
        "      <td> NPR</td>\n",
        "      <td> http://www.npr.org/blogs/thetwo-way/2014/06/18...</td>\n",
        "      <td> John Ruthell Henry has received a lethal injec...</td>\n",
        "      <td> Wed, 18 Jun 2014 20:17:00 -0400</td>\n",
        "      <td> drugs</td>\n",
        "    </tr>\n",
        "    <tr>\n",
        "      <th>22 </th>\n",
        "      <td> NPR</td>\n",
        "      <td> http://www.npr.org/blogs/thesalt/2014/06/17/32...</td>\n",
        "      <td> If you teach an aboriginal man or woman to mak...</td>\n",
        "      <td> Tue, 17 Jun 2014 17:48:00 -0400</td>\n",
        "      <td> drugs</td>\n",
        "    </tr>\n",
        "    <tr>\n",
        "      <th>23 </th>\n",
        "      <td> NPR</td>\n",
        "      <td> http://www.npr.org/blogs/parallels/2014/06/16/...</td>\n",
        "      <td> There were times a few years back when the eme...</td>\n",
        "      <td> Mon, 16 Jun 2014 10:16:00 -0400</td>\n",
        "      <td> drugs</td>\n",
        "    </tr>\n",
        "    <tr>\n",
        "      <th>24 </th>\n",
        "      <td> NPR</td>\n",
        "      <td> http://www.npr.org/blogs/13.7/2014/06/16/32255...</td>\n",
        "      <td> Science doesnt just further technology and hel...</td>\n",
        "      <td> Mon, 16 Jun 2014 10:16:00 -0400</td>\n",
        "      <td> drugs</td>\n",
        "    </tr>\n",
        "    <tr>\n",
        "      <th>25 </th>\n",
        "      <td> NPR</td>\n",
        "      <td> http://www.npr.org/blogs/health/2014/06/13/321...</td>\n",
        "      <td> One of the most watched issues before the Supr...</td>\n",
        "      <td> Mon, 16 Jun 2014 08:06:00 -0400</td>\n",
        "      <td> drugs</td>\n",
        "    </tr>\n",
        "    <tr>\n",
        "      <th>26 </th>\n",
        "      <td> NPR</td>\n",
        "      <td> http://www.npr.org/blogs/ablogsupreme/2014/06/...</td>\n",
        "      <td> Singer Jimmy Scott died of natural causes Thur...</td>\n",
        "      <td> Sat, 14 Jun 2014 13:59:00 -0400</td>\n",
        "      <td> drugs</td>\n",
        "    </tr>\n",
        "    <tr>\n",
        "      <th>27 </th>\n",
        "      <td> NPR</td>\n",
        "      <td> http://www.npr.org/2014/06/13/321677110/a-camp...</td>\n",
        "      <td> As the federal government presses colleges to ...</td>\n",
        "      <td> Tue, 24 Jun 2014 05:22:00 -0400</td>\n",
        "      <td> drugs</td>\n",
        "    </tr>\n",
        "    <tr>\n",
        "      <th>28 </th>\n",
        "      <td> NPR</td>\n",
        "      <td> http://www.npr.org/blogs/thisisnpr/2014/06/12/...</td>\n",
        "      <td> Yesterday the Radio Television Digital News As...</td>\n",
        "      <td> Tue, 24 Jun 2014 05:22:00 -0400</td>\n",
        "      <td> drugs</td>\n",
        "    </tr>\n",
        "    <tr>\n",
        "      <th>29 </th>\n",
        "      <td> NPR</td>\n",
        "      <td> http://www.npr.org/blogs/parallels/2014/06/06/...</td>\n",
        "      <td> Six Americans remain in a rural Honduran priso...</td>\n",
        "      <td> Fri, 06 Jun 2014 19:49:00 -0400</td>\n",
        "      <td> drugs</td>\n",
        "    </tr>\n",
        "    <tr>\n",
        "      <th>...</th>\n",
        "      <td>...</td>\n",
        "      <td>...</td>\n",
        "      <td>...</td>\n",
        "      <td>...</td>\n",
        "      <td>...</td>\n",
        "    </tr>\n",
        "    <tr>\n",
        "      <th>609</th>\n",
        "      <td> NPR</td>\n",
        "      <td> http://www.npr.org/templates/story/story.php?s...</td>\n",
        "      <td> The sequencing of the human genome was complet...</td>\n",
        "      <td> Wed, 30 Jan 2008 16:06:00 -0500</td>\n",
        "      <td> drugs</td>\n",
        "    </tr>\n",
        "    <tr>\n",
        "      <th>610</th>\n",
        "      <td> NPR</td>\n",
        "      <td> http://www.npr.org/templates/story/story.php?s...</td>\n",
        "      <td> Human interaction is no longer needed to fill ...</td>\n",
        "      <td> Wed, 30 Jan 2008 15:59:00 -0500</td>\n",
        "      <td> drugs</td>\n",
        "    </tr>\n",
        "    <tr>\n",
        "      <th>611</th>\n",
        "      <td> NPR</td>\n",
        "      <td> http://www.npr.org/templates/story/story.php?s...</td>\n",
        "      <td> California workers who use medical marijuana a...</td>\n",
        "      <td> Fri, 25 Jan 2008 12:16:00 -0500</td>\n",
        "      <td> drugs</td>\n",
        "    </tr>\n",
        "    <tr>\n",
        "      <th>612</th>\n",
        "      <td> NPR</td>\n",
        "      <td> http://www.npr.org/templates/story/story.php?s...</td>\n",
        "      <td> Sen Hillary Clinton says she and fellow Democr...</td>\n",
        "      <td> Fri, 25 Jan 2008 13:34:00 -0500</td>\n",
        "      <td> drugs</td>\n",
        "    </tr>\n",
        "    <tr>\n",
        "      <th>613</th>\n",
        "      <td> NPR</td>\n",
        "      <td> http://www.npr.org/2008/01/23/18299098/should-...</td>\n",
        "      <td> The debate over athletes use of steroids and o...</td>\n",
        "      <td> Thu, 02 Aug 2012 12:20:00 -0400</td>\n",
        "      <td> drugs</td>\n",
        "    </tr>\n",
        "    <tr>\n",
        "      <th>614</th>\n",
        "      <td> NPR</td>\n",
        "      <td> http://www.npr.org/templates/story/story.php?s...</td>\n",
        "      <td> On HBOs The Wire actor Michael K Williams play...</td>\n",
        "      <td> Tue, 22 Jan 2008 11:40:00 -0500</td>\n",
        "      <td> drugs</td>\n",
        "    </tr>\n",
        "    <tr>\n",
        "      <th>615</th>\n",
        "      <td> NPR</td>\n",
        "      <td> http://www.npr.org/blogs/talk/2008/01/the_cand...</td>\n",
        "      <td> Campaigning for president must feel a lot like...</td>\n",
        "      <td> Thu, 17 Jan 2008 13:58:00 -0500</td>\n",
        "      <td> drugs</td>\n",
        "    </tr>\n",
        "    <tr>\n",
        "      <th>616</th>\n",
        "      <td> NPR</td>\n",
        "      <td> http://www.npr.org/blogs/monitormix/2008/01/pe...</td>\n",
        "      <td> This morning I woke up and took my performance...</td>\n",
        "      <td> Wed, 16 Jan 2008 14:04:00 -0500</td>\n",
        "      <td> drugs</td>\n",
        "    </tr>\n",
        "    <tr>\n",
        "      <th>617</th>\n",
        "      <td> NPR</td>\n",
        "      <td> http://www.npr.org/templates/story/story.php?s...</td>\n",
        "      <td> On Monday the US Supreme Court examines whethe...</td>\n",
        "      <td> Mon, 07 Jan 2008 07:33:00 -0500</td>\n",
        "      <td> drugs</td>\n",
        "    </tr>\n",
        "    <tr>\n",
        "      <th>618</th>\n",
        "      <td> NPR</td>\n",
        "      <td> http://www.npr.org/templates/story/story.php?s...</td>\n",
        "      <td> The Supreme Court on Monday hears arguments in...</td>\n",
        "      <td> Fri, 04 Jan 2008 20:16:00 -0500</td>\n",
        "      <td> drugs</td>\n",
        "    </tr>\n",
        "    <tr>\n",
        "      <th>619</th>\n",
        "      <td> NPR</td>\n",
        "      <td> http://www.npr.org/templates/story/story.php?s...</td>\n",
        "      <td> Mention the name Moby Grape to a roomful of ro...</td>\n",
        "      <td> Wed, 12 Dec 2012 11:32:00 -0500</td>\n",
        "      <td> drugs</td>\n",
        "    </tr>\n",
        "    <tr>\n",
        "      <th>620</th>\n",
        "      <td> NPR</td>\n",
        "      <td> http://www.npr.org/blogs/talk/2007/12/paging_d...</td>\n",
        "      <td> I get a flu shot every year This is partly at ...</td>\n",
        "      <td> Thu, 13 Dec 2007 13:59:00 -0500</td>\n",
        "      <td> drugs</td>\n",
        "    </tr>\n",
        "    <tr>\n",
        "      <th>621</th>\n",
        "      <td> NPR</td>\n",
        "      <td> http://www.npr.org/blogs/talk/2007/12/cracks_i...</td>\n",
        "      <td> Crack cocaine offenders are typically sentence...</td>\n",
        "      <td> Wed, 12 Dec 2007 13:57:00 -0500</td>\n",
        "      <td> drugs</td>\n",
        "    </tr>\n",
        "    <tr>\n",
        "      <th>622</th>\n",
        "      <td> NPR</td>\n",
        "      <td> http://www.npr.org/templates/story/story.php?s...</td>\n",
        "      <td> Drug offenders tried in federal court may get ...</td>\n",
        "      <td> Tue, 11 Dec 2007 13:10:00 -0500</td>\n",
        "      <td> drugs</td>\n",
        "    </tr>\n",
        "    <tr>\n",
        "      <th>623</th>\n",
        "      <td> NPR</td>\n",
        "      <td> http://www.npr.org/templates/story/story.php?s...</td>\n",
        "      <td> Barry Bonds pleaded not guilty Friday in San F...</td>\n",
        "      <td> Fri, 07 Dec 2007 16:04:00 -0500</td>\n",
        "      <td> drugs</td>\n",
        "    </tr>\n",
        "    <tr>\n",
        "      <th>624</th>\n",
        "      <td> NPR</td>\n",
        "      <td> http://www.npr.org/templates/story/story.php?s...</td>\n",
        "      <td> Drug enforcement officials are seeing a spike ...</td>\n",
        "      <td> Mon, 26 Nov 2007 15:38:00 -0500</td>\n",
        "      <td> drugs</td>\n",
        "    </tr>\n",
        "    <tr>\n",
        "      <th>625</th>\n",
        "      <td> NPR</td>\n",
        "      <td> http://www.npr.org/blogs/talk/2007/11/adopting...</td>\n",
        "      <td> Another round in the debate over open records ...</td>\n",
        "      <td> Tue, 13 Nov 2007 13:57:00 -0500</td>\n",
        "      <td> drugs</td>\n",
        "    </tr>\n",
        "    <tr>\n",
        "      <th>626</th>\n",
        "      <td> NPR</td>\n",
        "      <td> http://www.npr.org/blogs/talk/2007/11/the_new_...</td>\n",
        "      <td> Ah to be your own boss to set your own schedul...</td>\n",
        "      <td> Tue, 13 Nov 2007 13:59:00 -0500</td>\n",
        "      <td> drugs</td>\n",
        "    </tr>\n",
        "    <tr>\n",
        "      <th>627</th>\n",
        "      <td> NPR</td>\n",
        "      <td> http://www.npr.org/blogs/talk/2007/11/the_100_...</td>\n",
        "      <td> When I was in college I majored in Sociology A...</td>\n",
        "      <td> Thu, 01 Nov 2007 13:59:00 -0400</td>\n",
        "      <td> drugs</td>\n",
        "    </tr>\n",
        "    <tr>\n",
        "      <th>628</th>\n",
        "      <td> NPR</td>\n",
        "      <td> http://www.npr.org/templates/story/story.php?s...</td>\n",
        "      <td> By all accounts Colby Vokey is a model officer...</td>\n",
        "      <td> Tue, 30 Oct 2007 15:39:00 -0400</td>\n",
        "      <td> drugs</td>\n",
        "    </tr>\n",
        "    <tr>\n",
        "      <th>629</th>\n",
        "      <td> NPR</td>\n",
        "      <td> http://www.npr.org/templates/story/story.php?s...</td>\n",
        "      <td> Reading Fair Game the new memoir by former CIA...</td>\n",
        "      <td> Sun, 17 Jul 2011 14:12:00 -0400</td>\n",
        "      <td> drugs</td>\n",
        "    </tr>\n",
        "    <tr>\n",
        "      <th>630</th>\n",
        "      <td> NPR</td>\n",
        "      <td> http://www.npr.org/blogs/talk/2007/10/mother_f...</td>\n",
        "      <td> Fostering a child seems like one of the most s...</td>\n",
        "      <td> Mon, 22 Oct 2007 13:58:00 -0400</td>\n",
        "      <td> drugs</td>\n",
        "    </tr>\n",
        "    <tr>\n",
        "      <th>631</th>\n",
        "      <td> NPR</td>\n",
        "      <td> http://www.npr.org/templates/story/story.php?s...</td>\n",
        "      <td> The chilling traits of the title character in ...</td>\n",
        "      <td> Sun, 17 Jul 2011 14:14:00 -0400</td>\n",
        "      <td> drugs</td>\n",
        "    </tr>\n",
        "    <tr>\n",
        "      <th>632</th>\n",
        "      <td> NPR</td>\n",
        "      <td> http://www.npr.org/templates/story/story.php?s...</td>\n",
        "      <td> Confirmation hearings are taking place on Capi...</td>\n",
        "      <td> Wed, 17 Oct 2007 12:14:00 -0400</td>\n",
        "      <td> drugs</td>\n",
        "    </tr>\n",
        "    <tr>\n",
        "      <th>633</th>\n",
        "      <td> NPR</td>\n",
        "      <td> http://www.npr.org/templates/story/story.php?s...</td>\n",
        "      <td> Attorney Generaldesignate Michael Mukasey prom...</td>\n",
        "      <td> Tue, 16 Oct 2007 16:47:00 -0400</td>\n",
        "      <td> drugs</td>\n",
        "    </tr>\n",
        "    <tr>\n",
        "      <th>634</th>\n",
        "      <td> NPR</td>\n",
        "      <td> http://www.npr.org/blogs/talk/2007/10/a_medica...</td>\n",
        "      <td> Our bodies are full of untold secrets about ou...</td>\n",
        "      <td> Tue, 16 Oct 2007 13:59:00 -0400</td>\n",
        "      <td> drugs</td>\n",
        "    </tr>\n",
        "    <tr>\n",
        "      <th>635</th>\n",
        "      <td> NPR</td>\n",
        "      <td> http://www.npr.org/blogs/talk/2007/10/athletes...</td>\n",
        "      <td> Man was Marion Jones fun to watch I mean she l...</td>\n",
        "      <td> Tue, 09 Oct 2007 13:58:00 -0400</td>\n",
        "      <td> drugs</td>\n",
        "    </tr>\n",
        "    <tr>\n",
        "      <th>636</th>\n",
        "      <td> NPR</td>\n",
        "      <td> http://www.npr.org/blogs/newsandviews/2007/10/...</td>\n",
        "      <td>  You remember those word splashes on the old B...</td>\n",
        "      <td> Thu, 04 Oct 2007 14:23:00 -0400</td>\n",
        "      <td> drugs</td>\n",
        "    </tr>\n",
        "    <tr>\n",
        "      <th>637</th>\n",
        "      <td> NPR</td>\n",
        "      <td> http://www.npr.org/templates/story/story.php?s...</td>\n",
        "      <td> The Supreme Court returns to session on Monday...</td>\n",
        "      <td> Sun, 30 Sep 2007 08:03:00 -0400</td>\n",
        "      <td> drugs</td>\n",
        "    </tr>\n",
        "    <tr>\n",
        "      <th>638</th>\n",
        "      <td> NPR</td>\n",
        "      <td> http://www.npr.org/blogs/talk/2007/09/muffy_fl...</td>\n",
        "      <td> Its true Sarah and I will take any opportunity...</td>\n",
        "      <td> Thu, 27 Sep 2007 13:58:00 -0400</td>\n",
        "      <td> drugs</td>\n",
        "    </tr>\n",
        "  </tbody>\n",
        "</table>\n",
        "<p>639 rows \u00d7 5 columns</p>\n",
        "</div>"
       ],
       "metadata": {},
       "output_type": "pyout",
       "prompt_number": 873,
       "text": [
        "    source                                                url  \\\n",
        "0      NPR  http://www.npr.org/blogs/health/2014/08/01/336...   \n",
        "1      NPR  http://www.npr.org/blogs/microphonecheck/2014/...   \n",
        "2      NPR  http://www.npr.org/blogs/codeswitch/2014/07/29...   \n",
        "3      NPR  http://www.npr.org/2014/07/25/335192804/are-op...   \n",
        "4      NPR  http://www.npr.org/blogs/thetwo-way/2014/07/23...   \n",
        "5      NPR  http://www.npr.org/blogs/codeswitch/2014/07/23...   \n",
        "6      NPR  http://www.npr.org/blogs/thetwo-way/2014/07/21...   \n",
        "7      NPR  http://www.npr.org/2014/07/20/332666637/migran...   \n",
        "8      NPR  http://www.npr.org/blogs/thetwo-way/2014/07/18...   \n",
        "9      NPR  http://www.npr.org/2014/07/12/330761032/brookl...   \n",
        "10     NPR  http://www.npr.org/2014/07/09/329587949/states...   \n",
        "11     NPR  http://www.npr.org/blogs/health/2014/07/08/329...   \n",
        "12     NPR  http://www.npr.org/2014/07/08/329520062/in-lit...   \n",
        "13     NPR  http://www.npr.org/2014/07/06/329235293/rare-u...   \n",
        "14     NPR  http://www.npr.org/2014/07/05/328852558/local-...   \n",
        "15     NPR  http://www.npr.org/blogs/codeswitch/2014/07/01...   \n",
        "16     NPR  http://www.npr.org/blogs/thetwo-way/2014/06/30...   \n",
        "17     NPR  http://www.npr.org/blogs/thetwo-way/2014/06/28...   \n",
        "18     NPR  http://www.npr.org/blogs/thetwo-way/2014/06/26...   \n",
        "19     NPR  http://www.npr.org/blogs/thetwo-way/2014/06/25...   \n",
        "20     NPR  http://www.npr.org/blogs/thesalt/2014/06/24/32...   \n",
        "21     NPR  http://www.npr.org/blogs/thetwo-way/2014/06/18...   \n",
        "22     NPR  http://www.npr.org/blogs/thesalt/2014/06/17/32...   \n",
        "23     NPR  http://www.npr.org/blogs/parallels/2014/06/16/...   \n",
        "24     NPR  http://www.npr.org/blogs/13.7/2014/06/16/32255...   \n",
        "25     NPR  http://www.npr.org/blogs/health/2014/06/13/321...   \n",
        "26     NPR  http://www.npr.org/blogs/ablogsupreme/2014/06/...   \n",
        "27     NPR  http://www.npr.org/2014/06/13/321677110/a-camp...   \n",
        "28     NPR  http://www.npr.org/blogs/thisisnpr/2014/06/12/...   \n",
        "29     NPR  http://www.npr.org/blogs/parallels/2014/06/06/...   \n",
        "..     ...                                                ...   \n",
        "609    NPR  http://www.npr.org/templates/story/story.php?s...   \n",
        "610    NPR  http://www.npr.org/templates/story/story.php?s...   \n",
        "611    NPR  http://www.npr.org/templates/story/story.php?s...   \n",
        "612    NPR  http://www.npr.org/templates/story/story.php?s...   \n",
        "613    NPR  http://www.npr.org/2008/01/23/18299098/should-...   \n",
        "614    NPR  http://www.npr.org/templates/story/story.php?s...   \n",
        "615    NPR  http://www.npr.org/blogs/talk/2008/01/the_cand...   \n",
        "616    NPR  http://www.npr.org/blogs/monitormix/2008/01/pe...   \n",
        "617    NPR  http://www.npr.org/templates/story/story.php?s...   \n",
        "618    NPR  http://www.npr.org/templates/story/story.php?s...   \n",
        "619    NPR  http://www.npr.org/templates/story/story.php?s...   \n",
        "620    NPR  http://www.npr.org/blogs/talk/2007/12/paging_d...   \n",
        "621    NPR  http://www.npr.org/blogs/talk/2007/12/cracks_i...   \n",
        "622    NPR  http://www.npr.org/templates/story/story.php?s...   \n",
        "623    NPR  http://www.npr.org/templates/story/story.php?s...   \n",
        "624    NPR  http://www.npr.org/templates/story/story.php?s...   \n",
        "625    NPR  http://www.npr.org/blogs/talk/2007/11/adopting...   \n",
        "626    NPR  http://www.npr.org/blogs/talk/2007/11/the_new_...   \n",
        "627    NPR  http://www.npr.org/blogs/talk/2007/11/the_100_...   \n",
        "628    NPR  http://www.npr.org/templates/story/story.php?s...   \n",
        "629    NPR  http://www.npr.org/templates/story/story.php?s...   \n",
        "630    NPR  http://www.npr.org/blogs/talk/2007/10/mother_f...   \n",
        "631    NPR  http://www.npr.org/templates/story/story.php?s...   \n",
        "632    NPR  http://www.npr.org/templates/story/story.php?s...   \n",
        "633    NPR  http://www.npr.org/templates/story/story.php?s...   \n",
        "634    NPR  http://www.npr.org/blogs/talk/2007/10/a_medica...   \n",
        "635    NPR  http://www.npr.org/blogs/talk/2007/10/athletes...   \n",
        "636    NPR  http://www.npr.org/blogs/newsandviews/2007/10/...   \n",
        "637    NPR  http://www.npr.org/templates/story/story.php?s...   \n",
        "638    NPR  http://www.npr.org/blogs/talk/2007/09/muffy_fl...   \n",
        "\n",
        "                                                  text  \\\n",
        "0    After winning the Tour de France last Sunday V...   \n",
        "1    20 years ago Nas mentioned his friend Cormega ...   \n",
        "2    Rachel Howzell Hall is easing her big laurel g...   \n",
        "3    Kevin Cooper was convicted of murdering a marr...   \n",
        "4    Another US execution has gone awry as Arizona ...   \n",
        "5    The past few days have brought a whole lot of ...   \n",
        "6    Texas Gov Rick Perry is expected to announce o...   \n",
        "7    In the western Mexican state of Michoacan civi...   \n",
        "8    A US appeals court in Denver has upheld a lowe...   \n",
        "9    Marijuana enthusiasts should still think twice...   \n",
        "10   Some red states like Louisiana and Texas have ...   \n",
        "11   Four Florida insurers allegedly discriminate a...   \n",
        "12   Chug chug chug Puff puff puff Dingdong dingdon...   \n",
        "13   The nation greets the coming of July each year...   \n",
        "14   Before immigrants get deported they are someti...   \n",
        "15   President Obama said over the weekend that he ...   \n",
        "16   The Supreme Court has ruled that family owned ...   \n",
        "17   Death row inmates in two states are taking leg...   \n",
        "18   Marijuana use in the United States has gone up...   \n",
        "19   The US Supreme Court ruled unanimously Wednesd...   \n",
        "20   Some people have had it with natural food For ...   \n",
        "21   John Ruthell Henry has received a lethal injec...   \n",
        "22   If you teach an aboriginal man or woman to mak...   \n",
        "23   There were times a few years back when the eme...   \n",
        "24   Science doesnt just further technology and hel...   \n",
        "25   One of the most watched issues before the Supr...   \n",
        "26   Singer Jimmy Scott died of natural causes Thur...   \n",
        "27   As the federal government presses colleges to ...   \n",
        "28   Yesterday the Radio Television Digital News As...   \n",
        "29   Six Americans remain in a rural Honduran priso...   \n",
        "..                                                 ...   \n",
        "609  The sequencing of the human genome was complet...   \n",
        "610  Human interaction is no longer needed to fill ...   \n",
        "611  California workers who use medical marijuana a...   \n",
        "612  Sen Hillary Clinton says she and fellow Democr...   \n",
        "613  The debate over athletes use of steroids and o...   \n",
        "614  On HBOs The Wire actor Michael K Williams play...   \n",
        "615  Campaigning for president must feel a lot like...   \n",
        "616  This morning I woke up and took my performance...   \n",
        "617  On Monday the US Supreme Court examines whethe...   \n",
        "618  The Supreme Court on Monday hears arguments in...   \n",
        "619  Mention the name Moby Grape to a roomful of ro...   \n",
        "620  I get a flu shot every year This is partly at ...   \n",
        "621  Crack cocaine offenders are typically sentence...   \n",
        "622  Drug offenders tried in federal court may get ...   \n",
        "623  Barry Bonds pleaded not guilty Friday in San F...   \n",
        "624  Drug enforcement officials are seeing a spike ...   \n",
        "625  Another round in the debate over open records ...   \n",
        "626  Ah to be your own boss to set your own schedul...   \n",
        "627  When I was in college I majored in Sociology A...   \n",
        "628  By all accounts Colby Vokey is a model officer...   \n",
        "629  Reading Fair Game the new memoir by former CIA...   \n",
        "630  Fostering a child seems like one of the most s...   \n",
        "631  The chilling traits of the title character in ...   \n",
        "632  Confirmation hearings are taking place on Capi...   \n",
        "633  Attorney Generaldesignate Michael Mukasey prom...   \n",
        "634  Our bodies are full of untold secrets about ou...   \n",
        "635  Man was Marion Jones fun to watch I mean she l...   \n",
        "636   You remember those word splashes on the old B...   \n",
        "637  The Supreme Court returns to session on Monday...   \n",
        "638  Its true Sarah and I will take any opportunity...   \n",
        "\n",
        "                        publish_date category  \n",
        "0    Mon, 04 Aug 2014 10:19:00 -0400    drugs  \n",
        "1    Thu, 07 Aug 2014 11:39:00 -0400    drugs  \n",
        "2    Thu, 07 Aug 2014 11:39:00 -0400    drugs  \n",
        "3    Fri, 25 Jul 2014 14:38:00 -0400    drugs  \n",
        "4    Thu, 24 Jul 2014 18:22:00 -0400    drugs  \n",
        "5    Wed, 23 Jul 2014 22:36:00 -0400    drugs  \n",
        "6    Wed, 23 Jul 2014 22:36:00 -0400    drugs  \n",
        "7    Mon, 21 Jul 2014 08:20:00 -0400    drugs  \n",
        "8    Fri, 18 Jul 2014 19:54:00 -0400    drugs  \n",
        "9    Sat, 12 Jul 2014 12:12:00 -0400    drugs  \n",
        "10   Wed, 09 Jul 2014 08:01:00 -0400    drugs  \n",
        "11   Tue, 08 Jul 2014 11:12:00 -0400    drugs  \n",
        "12   Wed, 09 Jul 2014 08:54:00 -0400    drugs  \n",
        "13   Mon, 07 Jul 2014 15:10:00 -0400    drugs  \n",
        "14   Sun, 06 Jul 2014 10:42:00 -0400    drugs  \n",
        "15   Tue, 01 Jul 2014 22:55:00 -0400    drugs  \n",
        "16   Tue, 01 Jul 2014 19:37:00 -0400    drugs  \n",
        "17   Tue, 01 Jul 2014 19:37:00 -0400    drugs  \n",
        "18   Thu, 26 Jun 2014 17:34:00 -0400    drugs  \n",
        "19   Wed, 25 Jun 2014 12:48:00 -0400    drugs  \n",
        "20   Wed, 25 Jun 2014 09:50:00 -0400    drugs  \n",
        "21   Wed, 18 Jun 2014 20:17:00 -0400    drugs  \n",
        "22   Tue, 17 Jun 2014 17:48:00 -0400    drugs  \n",
        "23   Mon, 16 Jun 2014 10:16:00 -0400    drugs  \n",
        "24   Mon, 16 Jun 2014 10:16:00 -0400    drugs  \n",
        "25   Mon, 16 Jun 2014 08:06:00 -0400    drugs  \n",
        "26   Sat, 14 Jun 2014 13:59:00 -0400    drugs  \n",
        "27   Tue, 24 Jun 2014 05:22:00 -0400    drugs  \n",
        "28   Tue, 24 Jun 2014 05:22:00 -0400    drugs  \n",
        "29   Fri, 06 Jun 2014 19:49:00 -0400    drugs  \n",
        "..                               ...      ...  \n",
        "609  Wed, 30 Jan 2008 16:06:00 -0500    drugs  \n",
        "610  Wed, 30 Jan 2008 15:59:00 -0500    drugs  \n",
        "611  Fri, 25 Jan 2008 12:16:00 -0500    drugs  \n",
        "612  Fri, 25 Jan 2008 13:34:00 -0500    drugs  \n",
        "613  Thu, 02 Aug 2012 12:20:00 -0400    drugs  \n",
        "614  Tue, 22 Jan 2008 11:40:00 -0500    drugs  \n",
        "615  Thu, 17 Jan 2008 13:58:00 -0500    drugs  \n",
        "616  Wed, 16 Jan 2008 14:04:00 -0500    drugs  \n",
        "617  Mon, 07 Jan 2008 07:33:00 -0500    drugs  \n",
        "618  Fri, 04 Jan 2008 20:16:00 -0500    drugs  \n",
        "619  Wed, 12 Dec 2012 11:32:00 -0500    drugs  \n",
        "620  Thu, 13 Dec 2007 13:59:00 -0500    drugs  \n",
        "621  Wed, 12 Dec 2007 13:57:00 -0500    drugs  \n",
        "622  Tue, 11 Dec 2007 13:10:00 -0500    drugs  \n",
        "623  Fri, 07 Dec 2007 16:04:00 -0500    drugs  \n",
        "624  Mon, 26 Nov 2007 15:38:00 -0500    drugs  \n",
        "625  Tue, 13 Nov 2007 13:57:00 -0500    drugs  \n",
        "626  Tue, 13 Nov 2007 13:59:00 -0500    drugs  \n",
        "627  Thu, 01 Nov 2007 13:59:00 -0400    drugs  \n",
        "628  Tue, 30 Oct 2007 15:39:00 -0400    drugs  \n",
        "629  Sun, 17 Jul 2011 14:12:00 -0400    drugs  \n",
        "630  Mon, 22 Oct 2007 13:58:00 -0400    drugs  \n",
        "631  Sun, 17 Jul 2011 14:14:00 -0400    drugs  \n",
        "632  Wed, 17 Oct 2007 12:14:00 -0400    drugs  \n",
        "633  Tue, 16 Oct 2007 16:47:00 -0400    drugs  \n",
        "634  Tue, 16 Oct 2007 13:59:00 -0400    drugs  \n",
        "635  Tue, 09 Oct 2007 13:58:00 -0400    drugs  \n",
        "636  Thu, 04 Oct 2007 14:23:00 -0400    drugs  \n",
        "637  Sun, 30 Sep 2007 08:03:00 -0400    drugs  \n",
        "638  Thu, 27 Sep 2007 13:58:00 -0400    drugs  \n",
        "\n",
        "[639 rows x 5 columns]"
       ]
      }
     ],
     "prompt_number": 873
    },
    {
     "cell_type": "code",
     "collapsed": false,
     "input": [
      "range(10,1,-1)"
     ],
     "language": "python",
     "metadata": {},
     "outputs": [
      {
       "metadata": {},
       "output_type": "pyout",
       "prompt_number": 762,
       "text": [
        "[10, 9, 8, 7, 6, 5, 4, 3, 2]"
       ]
      }
     ],
     "prompt_number": 762
    },
    {
     "cell_type": "code",
     "collapsed": false,
     "input": [
      "j['list']['story'][0].keys()"
     ],
     "language": "python",
     "metadata": {},
     "outputs": [
      {
       "metadata": {},
       "output_type": "pyout",
       "prompt_number": 779,
       "text": [
        "[u'miniTeaser',\n",
        " u'subtitle',\n",
        " u'text',\n",
        " u'storyDate',\n",
        " u'keywords',\n",
        " u'textWithHtml',\n",
        " u'id',\n",
        " u'fullText',\n",
        " u'pubDate',\n",
        " u'title',\n",
        " u'image',\n",
        " u'member',\n",
        " u'audioRunByDate',\n",
        " u'thumbnail',\n",
        " u'parent',\n",
        " u'song',\n",
        " u'priorityKeywords',\n",
        " u'lastModifiedDate',\n",
        " u'collection',\n",
        " u'teaser',\n",
        " u'link',\n",
        " u'slug',\n",
        " u'shortTitle',\n",
        " u'organization']"
       ]
      }
     ],
     "prompt_number": 779
    },
    {
     "cell_type": "code",
     "collapsed": false,
     "input": [
      "j['list']['story'][0]['pubDate']['$text']"
     ],
     "language": "python",
     "metadata": {},
     "outputs": [
      {
       "metadata": {},
       "output_type": "pyout",
       "prompt_number": 783,
       "text": [
        "u'Thu, 19 Jun 2014 18:09:00 -0400'"
       ]
      }
     ],
     "prompt_number": 783
    },
    {
     "cell_type": "code",
     "collapsed": false,
     "input": [
      "key = \"06085d751562b32ec4929cc0537bf9cc:8:69947278\"\n",
      "params = {'api-key' : key, 'page' : 1, 'begin_date' : '20010101', 'q' : 'legalize drug' }\n",
      "r = requests.get(\"http://api.nytimes.com/svc/search/v2/articlesearch.json\", params=params)"
     ],
     "language": "python",
     "metadata": {},
     "outputs": [],
     "prompt_number": 815
    },
    {
     "cell_type": "code",
     "collapsed": false,
     "input": [
      "url = r.json()['response']['docs'][8]['web_url']\n",
      "req = requests.get(url)\n",
      "soup = BeautifulSoup(req.text, \"html.parser\")\n",
      "body = soup.find_all('p', class_='story-body-text story-content')\n",
      "if len(body) == 0:\n",
      "    print \"in here\"\n",
      "    body = soup.findAll('p', {'class' : 'story-body-text'})\n",
      "full_text = ''\n",
      "for p in body:\n",
      "    full_text += p.text.encode('ascii','ignore')"
     ],
     "language": "python",
     "metadata": {},
     "outputs": [
      {
       "output_type": "stream",
       "stream": "stdout",
       "text": [
        "in here\n"
       ]
      }
     ],
     "prompt_number": 837
    },
    {
     "cell_type": "code",
     "collapsed": false,
     "input": [
      "full_text"
     ],
     "language": "python",
     "metadata": {},
     "outputs": [
      {
       "metadata": {},
       "output_type": "pyout",
       "prompt_number": 838,
       "text": [
        "'When the antidrug educator Tim Ryan talks to students, he often asks them what they know about marijuana. Its a plant, is a common response.But more recently, the answer has changed. Now they reply, Its legal in Colorado.These are confusing times for middle and high school students, who for most of their young lives have been lectured about the perils of substance abuse, particularly marijuana. Now it seems that the adults in their lives have done an about-face.Recreational marijuana is legal in Colorado and in Washington, and many other states have approved it for medical use. Lawmakers, the news media and even parents are debating the merits of full-scale legalization.They are growing up in a generation where marijuana used to be bad, and maybe now its not bad, said Mr. Ryan, a senior prevention specialist with FCD Educational Services, an antidrug group that works with students in the classroom.Their parents are telling them not to do it, but they may be supporting legalization of it at the same time.Antidrug advocates say efforts to legalize marijuana have created new challenges as they work to educate teenagers and their parents about the unique risks that alcohol, marijuana and other drugs pose to the developing teenage brain.These educators say their goal is not to vilify marijuana or take a stand on legalization; instead, they say their role is to convince young people and their parents that the use of drugs is not just a moral or legal issue, but a significant health issue.The health risks are real, said Steve Pasierb, the chief executive of the Partnership for Drug-Free Kids. Every passing year, science unearths more health risks about why any form of substance use is unhealthy for young people.Already nearly half of teenagers  44 percent  have tried marijuana at least once, according to data from the partnership. Regular use is less common. One in four teenagers report using marijuana in the past month, and 7 percent report frequent use  at least 20 times in the past month.Even in the states where marijuana is legal, it remains, like alcohol, off-limits to anyone younger than 21. But the reality is that once a product becomes legal, it becomes much easier for underage users to obtain it.This summer, the Partnership for Drug-Free Kids released its annual tracking study, in which young people were asked what stopped them from trying drugs. Getting into trouble with the law and disappointing their parents were cited as the two most common reason young people did not use marijuana. The concern now is that legalization will remove an important mental barrier that keeps adolescents from trying marijuana at a young age.Making it legal makes it much more accessible, more available, said Dr. Nora Volkow, the director of the National Institute on Drug Abuse. This is the reality, so what we need to do is to prevent the damage or at least minimize it as much as possible.Drug prevention experts say the Just Say No approach of the 1980s does not work. The goal of parents should not be to prevent their kids from ever trying marijuana.Instead, the focus should be on practical reasons to delay use of any mind-altering substance, including alcohol, until they are older.The reason is that young brains continue to develop until the early 20s, and young people who start using alcohol or marijuana in their teens are far more vulnerable to long-term substance-abuse problems.The brain is still wiring itself during adolescence, and marijuana  or any drug use  during this period essentially trains the reward system to embrace a mind-altering chemical.We know that 90 percent of adults who are addicted began use in teenage years, Mr. Pasierb said. They programmed the reward and drive center of their teenage brain that this is one of those things that rewards and drives me like food does, like sex does.Studies in New Zealand and Canada have found that marijuana use in the teenage years can result in lost I.Q. points. Mr. Pasierb says the current generation of young people are high achievers and are interested in the scientific evidence about how substance use can affect intelligence.You have to focus on brain maturation, he said. This generation of kids wants good brains; they want to get into better schools. Talk to a junior or senior about whether marijuana use shaves a couple points off their SATs, and they will listen to you.Because early exposure to marijuana can change the trajectory of brain development, even a few years of delaying use in the teen years is better. Research shows that young adults who smoked pot regularly before the age of 16 performed significantly worse on cognitive function tests than those who started smoking in their later teenage years.Drug educators say that one benefit of the legalization talk is that it may lead to more research on the health effects of marijuana on young people and more funding for antidrug campaigns.The Partnership for Drug-Free Kids plans to continue its Above the Influence marketing campaign, which studies show has been an effective way of reaching teenagers about the risks of drug use. The campaign does not target a specific drug, but it teaches parents and teens about the health effects of early drug use and tries to empower teens to make good choices.Legalization is going to make the work we do even more relevant, Mr. Pasierb said. Its part of the changing drug landscape.'"
       ]
      }
     ],
     "prompt_number": 838
    },
    {
     "cell_type": "code",
     "collapsed": false,
     "input": [
      "body"
     ],
     "language": "python",
     "metadata": {},
     "outputs": [
      {
       "metadata": {},
       "output_type": "pyout",
       "prompt_number": 833,
       "text": [
        "[]"
       ]
      }
     ],
     "prompt_number": 833
    },
    {
     "cell_type": "code",
     "collapsed": false,
     "input": [
      "r.json()['response']['docs'][8]['pub_date']"
     ],
     "language": "python",
     "metadata": {},
     "outputs": [
      {
       "metadata": {},
       "output_type": "pyout",
       "prompt_number": 841,
       "text": [
        "u'2014-08-18T17:46:42Z'"
       ]
      }
     ],
     "prompt_number": 841
    },
    {
     "cell_type": "code",
     "collapsed": false,
     "input": [
      "nyt = pd.read_csv('data/nyt_data.csv')"
     ],
     "language": "python",
     "metadata": {},
     "outputs": [],
     "prompt_number": 844
    },
    {
     "cell_type": "code",
     "collapsed": false,
     "input": [
      "nyt"
     ],
     "language": "python",
     "metadata": {},
     "outputs": [
      {
       "html": [
        "<div style=\"max-height:1000px;max-width:1500px;overflow:auto;\">\n",
        "<table border=\"1\" class=\"dataframe\">\n",
        "  <thead>\n",
        "    <tr style=\"text-align: right;\">\n",
        "      <th></th>\n",
        "      <th>source</th>\n",
        "      <th>url</th>\n",
        "      <th>text</th>\n",
        "      <th>publish_date</th>\n",
        "      <th>category</th>\n",
        "    </tr>\n",
        "  </thead>\n",
        "  <tbody>\n",
        "    <tr>\n",
        "      <th>0 </th>\n",
        "      <td> NYT</td>\n",
        "      <td> http://learning.blogs.nytimes.com/2014/09/24/a...</td>\n",
        "      <td> Marijuana is illegal in the United States Yet ...</td>\n",
        "      <td> 2014-09-24T14:15:06Z</td>\n",
        "      <td> drugs</td>\n",
        "    </tr>\n",
        "    <tr>\n",
        "      <th>1 </th>\n",
        "      <td> NYT</td>\n",
        "      <td> http://www.nytimes.com/aponline/2014/10/29/us/...</td>\n",
        "      <td> Heres a look at the status of marijuana laws i...</td>\n",
        "      <td> 2014-10-29T16:00:00Z</td>\n",
        "      <td> drugs</td>\n",
        "    </tr>\n",
        "    <tr>\n",
        "      <th>2 </th>\n",
        "      <td> NYT</td>\n",
        "      <td> http://takingnote.blogs.nytimes.com/2014/07/29...</td>\n",
        "      <td> When the White House issued a statement last n...</td>\n",
        "      <td> 2014-07-29T15:43:42Z</td>\n",
        "      <td> drugs</td>\n",
        "    </tr>\n",
        "    <tr>\n",
        "      <th>3 </th>\n",
        "      <td> NYT</td>\n",
        "      <td> http://www.nytimes.com/2014/08/07/us/marijuana...</td>\n",
        "      <td> District of Columbia residents will vote in No...</td>\n",
        "      <td> 2014-08-07T00:00:00Z</td>\n",
        "      <td> drugs</td>\n",
        "    </tr>\n",
        "    <tr>\n",
        "      <th>4 </th>\n",
        "      <td> NYT</td>\n",
        "      <td> http://www.nytimes.com/aponline/2014/10/07/us/...</td>\n",
        "      <td> PORTLAND Ore   Rick Steves smokes the occasion...</td>\n",
        "      <td> 2014-10-07T17:18:14Z</td>\n",
        "      <td> drugs</td>\n",
        "    </tr>\n",
        "    <tr>\n",
        "      <th>5 </th>\n",
        "      <td> NYT</td>\n",
        "      <td> http://www.nytimes.com/reuters/2014/09/24/us/2...</td>\n",
        "      <td> Reuters  California voters could get a second ...</td>\n",
        "      <td> 2014-09-24T19:07:01Z</td>\n",
        "      <td> drugs</td>\n",
        "    </tr>\n",
        "    <tr>\n",
        "      <th>6 </th>\n",
        "      <td> NYT</td>\n",
        "      <td> http://www.nytimes.com/reuters/2014/10/27/us/p...</td>\n",
        "      <td> PORTLAND Ore Reuters  A Democratic US Senator ...</td>\n",
        "      <td> 2014-10-27T17:01:32Z</td>\n",
        "      <td> drugs</td>\n",
        "    </tr>\n",
        "    <tr>\n",
        "      <th>7 </th>\n",
        "      <td> NYT</td>\n",
        "      <td> http://www.nytimes.com/aponline/2014/10/08/us/...</td>\n",
        "      <td> PORTLAND Ore   Rick Steves smokes the occasion...</td>\n",
        "      <td> 2014-10-08T08:40:13Z</td>\n",
        "      <td> drugs</td>\n",
        "    </tr>\n",
        "    <tr>\n",
        "      <th>8 </th>\n",
        "      <td> NYT</td>\n",
        "      <td> http://well.blogs.nytimes.com/2014/08/18/marij...</td>\n",
        "      <td> When the antidrug educator Tim Ryan talks to s...</td>\n",
        "      <td> 2014-08-18T17:46:42Z</td>\n",
        "      <td> drugs</td>\n",
        "    </tr>\n",
        "    <tr>\n",
        "      <th>9 </th>\n",
        "      <td> NYT</td>\n",
        "      <td> http://www.nytimes.com/reuters/2014/11/05/us/p...</td>\n",
        "      <td> WASHINGTON   Voters in Tuesdays US elections w...</td>\n",
        "      <td> 2014-11-05T02:48:26Z</td>\n",
        "      <td> drugs</td>\n",
        "    </tr>\n",
        "    <tr>\n",
        "      <th>10</th>\n",
        "      <td> NYT</td>\n",
        "      <td> http://www.nytimes.com/aponline/2014/07/13/us/...</td>\n",
        "      <td> WASHINGTON   For a year The Associated Press h...</td>\n",
        "      <td> 2014-07-13T08:56:14Z</td>\n",
        "      <td> drugs</td>\n",
        "    </tr>\n",
        "    <tr>\n",
        "      <th>11</th>\n",
        "      <td> NYT</td>\n",
        "      <td> http://www.nytimes.com/reuters/2014/05/20/us/2...</td>\n",
        "      <td> ALBUQUERQUE New Mexico   An injured mechanic w...</td>\n",
        "      <td> 2014-05-20T20:43:03Z</td>\n",
        "      <td> drugs</td>\n",
        "    </tr>\n",
        "    <tr>\n",
        "      <th>12</th>\n",
        "      <td> NYT</td>\n",
        "      <td> http://www.nytimes.com/reuters/2014/05/19/us/1...</td>\n",
        "      <td> CHICAGO   Chicago police are still far more li...</td>\n",
        "      <td> 2014-05-19T16:22:51Z</td>\n",
        "      <td> drugs</td>\n",
        "    </tr>\n",
        "    <tr>\n",
        "      <th>13</th>\n",
        "      <td> NYT</td>\n",
        "      <td> http://www.nytimes.com/reuters/2014/05/13/worl...</td>\n",
        "      <td> ANTIGUA Guatemala   Guatemala is considering s...</td>\n",
        "      <td> 2014-05-13T17:17:54Z</td>\n",
        "      <td> drugs</td>\n",
        "    </tr>\n",
        "    <tr>\n",
        "      <th>14</th>\n",
        "      <td> NYT</td>\n",
        "      <td> http://www.nytimes.com/aponline/2014/05/15/us/...</td>\n",
        "      <td> ST PAUL Minn   Minnesota lawmakers struck a de...</td>\n",
        "      <td> 2014-05-15T18:58:57Z</td>\n",
        "      <td> drugs</td>\n",
        "    </tr>\n",
        "    <tr>\n",
        "      <th>15</th>\n",
        "      <td> NYT</td>\n",
        "      <td> http://www.nytimes.com/reuters/2014/05/09/us/p...</td>\n",
        "      <td> OLYMPIA Washington   A federal lawsuit filed t...</td>\n",
        "      <td> 2014-05-09T22:40:10Z</td>\n",
        "      <td> drugs</td>\n",
        "    </tr>\n",
        "    <tr>\n",
        "      <th>16</th>\n",
        "      <td> NYT</td>\n",
        "      <td> http://www.nytimes.com/reuters/2014/05/07/worl...</td>\n",
        "      <td> LONDON   Guatemala is considering the possibil...</td>\n",
        "      <td> 2014-05-07T16:36:34Z</td>\n",
        "      <td> drugs</td>\n",
        "    </tr>\n",
        "    <tr>\n",
        "      <th>17</th>\n",
        "      <td> NYT</td>\n",
        "      <td> http://www.nytimes.com/reuters/2014/05/20/worl...</td>\n",
        "      <td> BEKAA VALLEY Lebanon Reuters  Driving around h...</td>\n",
        "      <td> 2014-05-20T09:58:41Z</td>\n",
        "      <td> drugs</td>\n",
        "    </tr>\n",
        "    <tr>\n",
        "      <th>18</th>\n",
        "      <td> NYT</td>\n",
        "      <td> http://www.nytimes.com/aponline/2014/05/30/bus...</td>\n",
        "      <td> ___Zuckerberg wife gift 120M to California sch...</td>\n",
        "      <td> 2014-05-30T17:55:37Z</td>\n",
        "      <td> drugs</td>\n",
        "    </tr>\n",
        "    <tr>\n",
        "      <th>19</th>\n",
        "      <td> NYT</td>\n",
        "      <td> http://www.nytimes.com/reuters/2014/05/05/worl...</td>\n",
        "      <td> LONDON   Global efforts to thwart the drugs tr...</td>\n",
        "      <td> 2014-05-05T19:08:55Z</td>\n",
        "      <td> drugs</td>\n",
        "    </tr>\n",
        "  </tbody>\n",
        "</table>\n",
        "</div>"
       ],
       "metadata": {},
       "output_type": "pyout",
       "prompt_number": 845,
       "text": [
        "   source                                                url  \\\n",
        "0     NYT  http://learning.blogs.nytimes.com/2014/09/24/a...   \n",
        "1     NYT  http://www.nytimes.com/aponline/2014/10/29/us/...   \n",
        "2     NYT  http://takingnote.blogs.nytimes.com/2014/07/29...   \n",
        "3     NYT  http://www.nytimes.com/2014/08/07/us/marijuana...   \n",
        "4     NYT  http://www.nytimes.com/aponline/2014/10/07/us/...   \n",
        "5     NYT  http://www.nytimes.com/reuters/2014/09/24/us/2...   \n",
        "6     NYT  http://www.nytimes.com/reuters/2014/10/27/us/p...   \n",
        "7     NYT  http://www.nytimes.com/aponline/2014/10/08/us/...   \n",
        "8     NYT  http://well.blogs.nytimes.com/2014/08/18/marij...   \n",
        "9     NYT  http://www.nytimes.com/reuters/2014/11/05/us/p...   \n",
        "10    NYT  http://www.nytimes.com/aponline/2014/07/13/us/...   \n",
        "11    NYT  http://www.nytimes.com/reuters/2014/05/20/us/2...   \n",
        "12    NYT  http://www.nytimes.com/reuters/2014/05/19/us/1...   \n",
        "13    NYT  http://www.nytimes.com/reuters/2014/05/13/worl...   \n",
        "14    NYT  http://www.nytimes.com/aponline/2014/05/15/us/...   \n",
        "15    NYT  http://www.nytimes.com/reuters/2014/05/09/us/p...   \n",
        "16    NYT  http://www.nytimes.com/reuters/2014/05/07/worl...   \n",
        "17    NYT  http://www.nytimes.com/reuters/2014/05/20/worl...   \n",
        "18    NYT  http://www.nytimes.com/aponline/2014/05/30/bus...   \n",
        "19    NYT  http://www.nytimes.com/reuters/2014/05/05/worl...   \n",
        "\n",
        "                                                 text          publish_date  \\\n",
        "0   Marijuana is illegal in the United States Yet ...  2014-09-24T14:15:06Z   \n",
        "1   Heres a look at the status of marijuana laws i...  2014-10-29T16:00:00Z   \n",
        "2   When the White House issued a statement last n...  2014-07-29T15:43:42Z   \n",
        "3   District of Columbia residents will vote in No...  2014-08-07T00:00:00Z   \n",
        "4   PORTLAND Ore   Rick Steves smokes the occasion...  2014-10-07T17:18:14Z   \n",
        "5   Reuters  California voters could get a second ...  2014-09-24T19:07:01Z   \n",
        "6   PORTLAND Ore Reuters  A Democratic US Senator ...  2014-10-27T17:01:32Z   \n",
        "7   PORTLAND Ore   Rick Steves smokes the occasion...  2014-10-08T08:40:13Z   \n",
        "8   When the antidrug educator Tim Ryan talks to s...  2014-08-18T17:46:42Z   \n",
        "9   WASHINGTON   Voters in Tuesdays US elections w...  2014-11-05T02:48:26Z   \n",
        "10  WASHINGTON   For a year The Associated Press h...  2014-07-13T08:56:14Z   \n",
        "11  ALBUQUERQUE New Mexico   An injured mechanic w...  2014-05-20T20:43:03Z   \n",
        "12  CHICAGO   Chicago police are still far more li...  2014-05-19T16:22:51Z   \n",
        "13  ANTIGUA Guatemala   Guatemala is considering s...  2014-05-13T17:17:54Z   \n",
        "14  ST PAUL Minn   Minnesota lawmakers struck a de...  2014-05-15T18:58:57Z   \n",
        "15  OLYMPIA Washington   A federal lawsuit filed t...  2014-05-09T22:40:10Z   \n",
        "16  LONDON   Guatemala is considering the possibil...  2014-05-07T16:36:34Z   \n",
        "17  BEKAA VALLEY Lebanon Reuters  Driving around h...  2014-05-20T09:58:41Z   \n",
        "18  ___Zuckerberg wife gift 120M to California sch...  2014-05-30T17:55:37Z   \n",
        "19  LONDON   Global efforts to thwart the drugs tr...  2014-05-05T19:08:55Z   \n",
        "\n",
        "   category  \n",
        "0     drugs  \n",
        "1     drugs  \n",
        "2     drugs  \n",
        "3     drugs  \n",
        "4     drugs  \n",
        "5     drugs  \n",
        "6     drugs  \n",
        "7     drugs  \n",
        "8     drugs  \n",
        "9     drugs  \n",
        "10    drugs  \n",
        "11    drugs  \n",
        "12    drugs  \n",
        "13    drugs  \n",
        "14    drugs  \n",
        "15    drugs  \n",
        "16    drugs  \n",
        "17    drugs  \n",
        "18    drugs  \n",
        "19    drugs  "
       ]
      }
     ],
     "prompt_number": 845
    },
    {
     "cell_type": "code",
     "collapsed": false,
     "input": [
      "npr = pd.read_csv('data/npr_data.csv')"
     ],
     "language": "python",
     "metadata": {},
     "outputs": [],
     "prompt_number": 861
    },
    {
     "cell_type": "code",
     "collapsed": false,
     "input": [
      "npr = npr.drop(['rating'], axis =1 )\n",
      "npr['category'] = 'drugs'"
     ],
     "language": "python",
     "metadata": {},
     "outputs": [],
     "prompt_number": 859
    },
    {
     "cell_type": "code",
     "collapsed": false,
     "input": [
      "npr.to_csv('data/npr_data.csv', index=False)"
     ],
     "language": "python",
     "metadata": {},
     "outputs": [],
     "prompt_number": 860
    },
    {
     "cell_type": "code",
     "collapsed": false,
     "input": [
      "npr.shape"
     ],
     "language": "python",
     "metadata": {},
     "outputs": [
      {
       "metadata": {},
       "output_type": "pyout",
       "prompt_number": 863,
       "text": [
        "(653, 4)"
       ]
      }
     ],
     "prompt_number": 863
    },
    {
     "cell_type": "code",
     "collapsed": false,
     "input": [
      "nyt = pd.read_csv('data/nyt_data.csv')"
     ],
     "language": "python",
     "metadata": {},
     "outputs": [],
     "prompt_number": 874
    },
    {
     "cell_type": "code",
     "collapsed": false,
     "input": [
      "nyt.shape"
     ],
     "language": "python",
     "metadata": {},
     "outputs": [
      {
       "metadata": {},
       "output_type": "pyout",
       "prompt_number": 875,
       "text": [
        "(240, 5)"
       ]
      }
     ],
     "prompt_number": 875
    },
    {
     "cell_type": "code",
     "collapsed": false,
     "input": [
      "nyt"
     ],
     "language": "python",
     "metadata": {},
     "outputs": [
      {
       "html": [
        "<div style=\"max-height:1000px;max-width:1500px;overflow:auto;\">\n",
        "<table border=\"1\" class=\"dataframe\">\n",
        "  <thead>\n",
        "    <tr style=\"text-align: right;\">\n",
        "      <th></th>\n",
        "      <th>source</th>\n",
        "      <th>url</th>\n",
        "      <th>text</th>\n",
        "      <th>publish_date</th>\n",
        "      <th>category</th>\n",
        "    </tr>\n",
        "  </thead>\n",
        "  <tbody>\n",
        "    <tr>\n",
        "      <th>0  </th>\n",
        "      <td> NYT</td>\n",
        "      <td> http://www.nytimes.com/2014/10/29/us/for-marij...</td>\n",
        "      <td> KEIZER Ore   Two years after voters in Colorad...</td>\n",
        "      <td> 2014-10-29T00:00:00Z</td>\n",
        "      <td> drugs</td>\n",
        "    </tr>\n",
        "    <tr>\n",
        "      <th>1  </th>\n",
        "      <td> NYT</td>\n",
        "      <td> http://www.nytimes.com/2014/11/02/nyregion/a-c...</td>\n",
        "      <td> More than a year before the first legal dose o...</td>\n",
        "      <td> 2014-11-02T00:00:00Z</td>\n",
        "      <td> drugs</td>\n",
        "    </tr>\n",
        "    <tr>\n",
        "      <th>2  </th>\n",
        "      <td> NYT</td>\n",
        "      <td> http://www.nytimes.com/reuters/2014/09/30/us/3...</td>\n",
        "      <td> Reuters  Marijuana advocates in Mississippi ha...</td>\n",
        "      <td> 2014-09-30T22:46:31Z</td>\n",
        "      <td> drugs</td>\n",
        "    </tr>\n",
        "    <tr>\n",
        "      <th>3  </th>\n",
        "      <td> NYT</td>\n",
        "      <td> http://www.nytimes.com/aponline/2014/09/01/us/...</td>\n",
        "      <td> WASHINGTON   As states liberalize their mariju...</td>\n",
        "      <td> 2014-09-01T08:40:03Z</td>\n",
        "      <td> drugs</td>\n",
        "    </tr>\n",
        "    <tr>\n",
        "      <th>4  </th>\n",
        "      <td> NYT</td>\n",
        "      <td> http://www.nytimes.com/2014/10/06/opinion/alas...</td>\n",
        "      <td> The decision by California voters in 1996 to l...</td>\n",
        "      <td> 2014-10-06T00:00:00Z</td>\n",
        "      <td> drugs</td>\n",
        "    </tr>\n",
        "    <tr>\n",
        "      <th>5  </th>\n",
        "      <td> NYT</td>\n",
        "      <td> http://www.nytimes.com/aponline/2014/10/17/wor...</td>\n",
        "      <td> ASUNCION Paraguay   A newspaper said Friday th...</td>\n",
        "      <td> 2014-10-17T17:16:10Z</td>\n",
        "      <td> drugs</td>\n",
        "    </tr>\n",
        "    <tr>\n",
        "      <th>6  </th>\n",
        "      <td> NYT</td>\n",
        "      <td> http://www.nytimes.com/2014/10/20/opinion/the-...</td>\n",
        "      <td> To the EditorRe Mexicos Cartel Government by I...</td>\n",
        "      <td> 2014-10-20T00:00:00Z</td>\n",
        "      <td> drugs</td>\n",
        "    </tr>\n",
        "    <tr>\n",
        "      <th>7  </th>\n",
        "      <td> NYT</td>\n",
        "      <td> http://www.nytimes.com/2014/09/09/world/americ...</td>\n",
        "      <td> A coalition of political figures from around t...</td>\n",
        "      <td> 2014-09-09T00:00:00Z</td>\n",
        "      <td> drugs</td>\n",
        "    </tr>\n",
        "    <tr>\n",
        "      <th>8  </th>\n",
        "      <td> NYT</td>\n",
        "      <td> http://www.nytimes.com/2014/07/29/opinion/Lega...</td>\n",
        "      <td>  To the EditorRe Repeal Prohibition Again edit...</td>\n",
        "      <td> 2014-07-29T00:00:00Z</td>\n",
        "      <td> drugs</td>\n",
        "    </tr>\n",
        "    <tr>\n",
        "      <th>9  </th>\n",
        "      <td> NYT</td>\n",
        "      <td> http://www.nytimes.com/2014/08/10/us/politics/...</td>\n",
        "      <td> Nearly four years ago Dr Sue Sisley a psychiat...</td>\n",
        "      <td> 2014-08-10T00:00:00Z</td>\n",
        "      <td> drugs</td>\n",
        "    </tr>\n",
        "    <tr>\n",
        "      <th>10 </th>\n",
        "      <td> NYT</td>\n",
        "      <td> http://learning.blogs.nytimes.com/2014/09/24/a...</td>\n",
        "      <td> Marijuana is illegal in the United States Yet ...</td>\n",
        "      <td> 2014-09-24T14:15:06Z</td>\n",
        "      <td> drugs</td>\n",
        "    </tr>\n",
        "    <tr>\n",
        "      <th>11 </th>\n",
        "      <td> NYT</td>\n",
        "      <td> http://www.nytimes.com/aponline/2014/10/29/us/...</td>\n",
        "      <td> Heres a look at the status of marijuana laws i...</td>\n",
        "      <td> 2014-10-29T16:00:00Z</td>\n",
        "      <td> drugs</td>\n",
        "    </tr>\n",
        "    <tr>\n",
        "      <th>12 </th>\n",
        "      <td> NYT</td>\n",
        "      <td> http://takingnote.blogs.nytimes.com/2014/07/29...</td>\n",
        "      <td> When the White House issued a statement last n...</td>\n",
        "      <td> 2014-07-29T15:43:42Z</td>\n",
        "      <td> drugs</td>\n",
        "    </tr>\n",
        "    <tr>\n",
        "      <th>13 </th>\n",
        "      <td> NYT</td>\n",
        "      <td> http://www.nytimes.com/2014/08/07/us/marijuana...</td>\n",
        "      <td> District of Columbia residents will vote in No...</td>\n",
        "      <td> 2014-08-07T00:00:00Z</td>\n",
        "      <td> drugs</td>\n",
        "    </tr>\n",
        "    <tr>\n",
        "      <th>14 </th>\n",
        "      <td> NYT</td>\n",
        "      <td> http://www.nytimes.com/aponline/2014/10/07/us/...</td>\n",
        "      <td> PORTLAND Ore   Rick Steves smokes the occasion...</td>\n",
        "      <td> 2014-10-07T17:18:14Z</td>\n",
        "      <td> drugs</td>\n",
        "    </tr>\n",
        "    <tr>\n",
        "      <th>15 </th>\n",
        "      <td> NYT</td>\n",
        "      <td> http://www.nytimes.com/reuters/2014/09/24/us/2...</td>\n",
        "      <td> Reuters  California voters could get a second ...</td>\n",
        "      <td> 2014-09-24T19:07:01Z</td>\n",
        "      <td> drugs</td>\n",
        "    </tr>\n",
        "    <tr>\n",
        "      <th>16 </th>\n",
        "      <td> NYT</td>\n",
        "      <td> http://www.nytimes.com/reuters/2014/10/27/us/p...</td>\n",
        "      <td> PORTLAND Ore Reuters  A Democratic US Senator ...</td>\n",
        "      <td> 2014-10-27T17:01:32Z</td>\n",
        "      <td> drugs</td>\n",
        "    </tr>\n",
        "    <tr>\n",
        "      <th>17 </th>\n",
        "      <td> NYT</td>\n",
        "      <td> http://www.nytimes.com/aponline/2014/10/08/us/...</td>\n",
        "      <td> PORTLAND Ore   Rick Steves smokes the occasion...</td>\n",
        "      <td> 2014-10-08T08:40:13Z</td>\n",
        "      <td> drugs</td>\n",
        "    </tr>\n",
        "    <tr>\n",
        "      <th>18 </th>\n",
        "      <td> NYT</td>\n",
        "      <td> http://well.blogs.nytimes.com/2014/08/18/marij...</td>\n",
        "      <td> When the antidrug educator Tim Ryan talks to s...</td>\n",
        "      <td> 2014-08-18T17:46:42Z</td>\n",
        "      <td> drugs</td>\n",
        "    </tr>\n",
        "    <tr>\n",
        "      <th>19 </th>\n",
        "      <td> NYT</td>\n",
        "      <td> http://www.nytimes.com/reuters/2014/11/05/us/p...</td>\n",
        "      <td> WASHINGTON   Voters in Tuesdays US elections w...</td>\n",
        "      <td> 2014-11-05T02:48:26Z</td>\n",
        "      <td> drugs</td>\n",
        "    </tr>\n",
        "    <tr>\n",
        "      <th>20 </th>\n",
        "      <td> NYT</td>\n",
        "      <td> http://www.nytimes.com/aponline/2014/10/23/bus...</td>\n",
        "      <td> More than 140 ballot measures will be decided ...</td>\n",
        "      <td> 2014-10-23T05:06:40Z</td>\n",
        "      <td> drugs</td>\n",
        "    </tr>\n",
        "    <tr>\n",
        "      <th>21 </th>\n",
        "      <td> NYT</td>\n",
        "      <td> http://www.nytimes.com/reuters/2014/11/04/us/p...</td>\n",
        "      <td> Reuters  In a test for broader marijuana legal...</td>\n",
        "      <td> 2014-11-04T07:16:00Z</td>\n",
        "      <td> drugs</td>\n",
        "    </tr>\n",
        "    <tr>\n",
        "      <th>22 </th>\n",
        "      <td> NYT</td>\n",
        "      <td> http://www.nytimes.com/2014/11/06/us/politics/...</td>\n",
        "      <td> ANCHORAGE   Conservative candidates garnered m...</td>\n",
        "      <td> 2014-11-06T00:00:00Z</td>\n",
        "      <td> drugs</td>\n",
        "    </tr>\n",
        "    <tr>\n",
        "      <th>23 </th>\n",
        "      <td> NYT</td>\n",
        "      <td> http://www.nytimes.com/aponline/2014/11/05/us/...</td>\n",
        "      <td> DENVER   Oregon Alaska and Washington DC voted...</td>\n",
        "      <td> 2014-11-05T13:32:15Z</td>\n",
        "      <td> drugs</td>\n",
        "    </tr>\n",
        "    <tr>\n",
        "      <th>24 </th>\n",
        "      <td> NYT</td>\n",
        "      <td> http://www.nytimes.com/reuters/2014/10/30/us/p...</td>\n",
        "      <td> WASHINGTON   Washington lawmakers took a step ...</td>\n",
        "      <td> 2014-10-30T17:06:13Z</td>\n",
        "      <td> drugs</td>\n",
        "    </tr>\n",
        "    <tr>\n",
        "      <th>25 </th>\n",
        "      <td> NYT</td>\n",
        "      <td> http://www.nytimes.com/reuters/2014/09/22/us/2...</td>\n",
        "      <td> By Daniel WallisNote Strong language in paragr...</td>\n",
        "      <td> 2014-09-22T12:33:17Z</td>\n",
        "      <td> drugs</td>\n",
        "    </tr>\n",
        "    <tr>\n",
        "      <th>26 </th>\n",
        "      <td> NYT</td>\n",
        "      <td> http://www.nytimes.com/aponline/2014/10/29/wor...</td>\n",
        "      <td> SANTIAGO Chile   A Chilean municipality plante...</td>\n",
        "      <td> 2014-10-29T13:01:05Z</td>\n",
        "      <td> drugs</td>\n",
        "    </tr>\n",
        "    <tr>\n",
        "      <th>27 </th>\n",
        "      <td> NYT</td>\n",
        "      <td> http://www.nytimes.com/aponline/2014/09/24/us/...</td>\n",
        "      <td> SAN FRANCISCO   A national marijuana advocacy ...</td>\n",
        "      <td> 2014-09-24T11:00:22Z</td>\n",
        "      <td> drugs</td>\n",
        "    </tr>\n",
        "    <tr>\n",
        "      <th>28 </th>\n",
        "      <td> NYT</td>\n",
        "      <td> http://www.nytimes.com/aponline/2014/10/17/us/...</td>\n",
        "      <td> LAKE OSWEGO Ore   Both sides in Oregons debate...</td>\n",
        "      <td> 2014-10-17T19:04:20Z</td>\n",
        "      <td> drugs</td>\n",
        "    </tr>\n",
        "    <tr>\n",
        "      <th>29 </th>\n",
        "      <td> NYT</td>\n",
        "      <td> http://www.nytimes.com/reuters/2014/09/23/us/2...</td>\n",
        "      <td> CHICAGO   Chicago Mayor Rahm Emanuel asked Ill...</td>\n",
        "      <td> 2014-09-23T12:59:48Z</td>\n",
        "      <td> drugs</td>\n",
        "    </tr>\n",
        "    <tr>\n",
        "      <th>...</th>\n",
        "      <td>...</td>\n",
        "      <td>...</td>\n",
        "      <td>...</td>\n",
        "      <td>...</td>\n",
        "      <td>...</td>\n",
        "    </tr>\n",
        "    <tr>\n",
        "      <th>210</th>\n",
        "      <td> NYT</td>\n",
        "      <td> http://thelede.blogs.nytimes.com/2012/07/31/q-...</td>\n",
        "      <td> Thank you  gracias a todos  for sending along ...</td>\n",
        "      <td> 2012-07-31T16:27:55Z</td>\n",
        "      <td> drugs</td>\n",
        "    </tr>\n",
        "    <tr>\n",
        "      <th>211</th>\n",
        "      <td> NYT</td>\n",
        "      <td> http://cityroom.blogs.nytimes.com/2012/07/09/a...</td>\n",
        "      <td>     Government at all levels has been known to...</td>\n",
        "      <td> 2012-07-09T09:13:49Z</td>\n",
        "      <td> drugs</td>\n",
        "    </tr>\n",
        "    <tr>\n",
        "      <th>212</th>\n",
        "      <td> NYT</td>\n",
        "      <td> http://india.blogs.nytimes.com/2012/07/02/mala...</td>\n",
        "      <td> Everywhere in the remote Parvati Valley in Him...</td>\n",
        "      <td> 2012-07-02T01:04:38Z</td>\n",
        "      <td> drugs</td>\n",
        "    </tr>\n",
        "    <tr>\n",
        "      <th>213</th>\n",
        "      <td> NYT</td>\n",
        "      <td> http://6thfloor.blogs.nytimes.com/2012/06/18/b...</td>\n",
        "      <td> Patrick Radden Keefe wrote this weeks cover st...</td>\n",
        "      <td> 2012-06-18T11:49:33Z</td>\n",
        "      <td> drugs</td>\n",
        "    </tr>\n",
        "    <tr>\n",
        "      <th>214</th>\n",
        "      <td> NYT</td>\n",
        "      <td> http://atwar.blogs.nytimes.com/2012/05/29/a-ma...</td>\n",
        "      <td> The governor of the Zhare district in southern...</td>\n",
        "      <td> 2012-05-29T14:51:07Z</td>\n",
        "      <td> drugs</td>\n",
        "    </tr>\n",
        "    <tr>\n",
        "      <th>215</th>\n",
        "      <td> NYT</td>\n",
        "      <td> http://therail.blogs.nytimes.com/2012/05/05/lo...</td>\n",
        "      <td> LOUISVILLE Ky  By all accounts the 90th Kentuc...</td>\n",
        "      <td> 2012-05-05T12:55:44Z</td>\n",
        "      <td> drugs</td>\n",
        "    </tr>\n",
        "    <tr>\n",
        "      <th>216</th>\n",
        "      <td> NYT</td>\n",
        "      <td> http://rendezvous.blogs.nytimes.com/2012/03/08...</td>\n",
        "      <td> LOCHIEL Arizona  Fray Marcos de Niza a Francis...</td>\n",
        "      <td> 2012-03-08T11:59:01Z</td>\n",
        "      <td> drugs</td>\n",
        "    </tr>\n",
        "    <tr>\n",
        "      <th>217</th>\n",
        "      <td> NYT</td>\n",
        "      <td> http://cityroom.blogs.nytimes.com/2011/12/12/b...</td>\n",
        "      <td> Mayor Michael R Bloomberg said Monday that  th...</td>\n",
        "      <td> 2011-12-12T15:47:07Z</td>\n",
        "      <td> drugs</td>\n",
        "    </tr>\n",
        "    <tr>\n",
        "      <th>218</th>\n",
        "      <td> NYT</td>\n",
        "      <td> http://learning.blogs.nytimes.com/2011/12/05/d...</td>\n",
        "      <td> On Dec 5 1933 national Prohibition came to an ...</td>\n",
        "      <td> 2011-12-05T04:12:18Z</td>\n",
        "      <td> drugs</td>\n",
        "    </tr>\n",
        "    <tr>\n",
        "      <th>219</th>\n",
        "      <td> NYT</td>\n",
        "      <td> http://artsbeat.blogs.nytimes.com/2011/10/13/c...</td>\n",
        "      <td> \\tThe policeridealong genre of reality televis...</td>\n",
        "      <td> 2011-10-13T15:30:05Z</td>\n",
        "      <td> drugs</td>\n",
        "    </tr>\n",
        "    <tr>\n",
        "      <th>220</th>\n",
        "      <td> NYT</td>\n",
        "      <td> http://cityroom.blogs.nytimes.com/2011/09/22/k...</td>\n",
        "      <td> With our noses once again pressed firmly again...</td>\n",
        "      <td> 2011-09-22T08:29:42Z</td>\n",
        "      <td> drugs</td>\n",
        "    </tr>\n",
        "    <tr>\n",
        "      <th>221</th>\n",
        "      <td> NYT</td>\n",
        "      <td> http://bits.blogs.nytimes.com/2011/08/06/at-a-...</td>\n",
        "      <td> LAS VEGAS  Why are  federal agents hobnobbing ...</td>\n",
        "      <td> 2011-08-06T13:46:27Z</td>\n",
        "      <td> drugs</td>\n",
        "    </tr>\n",
        "    <tr>\n",
        "      <th>222</th>\n",
        "      <td> NYT</td>\n",
        "      <td> http://douthat.blogs.nytimes.com/2011/06/09/th...</td>\n",
        "      <td> Ezra Klein writes that he didnt find the argum...</td>\n",
        "      <td> 2011-06-09T19:16:40Z</td>\n",
        "      <td> drugs</td>\n",
        "    </tr>\n",
        "    <tr>\n",
        "      <th>223</th>\n",
        "      <td> NYT</td>\n",
        "      <td> http://economix.blogs.nytimes.com/2011/02/17/d...</td>\n",
        "      <td> Casey B Mulligan is an economics professor at ...</td>\n",
        "      <td> 2011-02-17T06:00:51Z</td>\n",
        "      <td> drugs</td>\n",
        "    </tr>\n",
        "    <tr>\n",
        "      <th>224</th>\n",
        "      <td> NYT</td>\n",
        "      <td> http://thelede.blogs.nytimes.com/2011/01/21/cy...</td>\n",
        "      <td> Updated  731 pm Calling the fight against dopi...</td>\n",
        "      <td> 2011-01-21T18:35:58Z</td>\n",
        "      <td> drugs</td>\n",
        "    </tr>\n",
        "    <tr>\n",
        "      <th>225</th>\n",
        "      <td> NYT</td>\n",
        "      <td> http://carpetbagger.blogs.nytimes.com/2010/12/...</td>\n",
        "      <td> LOS ANGELES The competitive lineup for the 201...</td>\n",
        "      <td> 2010-12-01T15:07:16Z</td>\n",
        "      <td> drugs</td>\n",
        "    </tr>\n",
        "    <tr>\n",
        "      <th>226</th>\n",
        "      <td> NYT</td>\n",
        "      <td> http://thecaucus.blogs.nytimes.com/2010/10/25/...</td>\n",
        "      <td> The campaign behind the California ballot init...</td>\n",
        "      <td> 2010-10-25T21:26:00Z</td>\n",
        "      <td> drugs</td>\n",
        "    </tr>\n",
        "    <tr>\n",
        "      <th>227</th>\n",
        "      <td> NYT</td>\n",
        "      <td> http://fivethirtyeight.blogs.nytimes.com/2010/...</td>\n",
        "      <td> Proposition 19 a ballot initiative in Californ...</td>\n",
        "      <td> 2010-10-21T16:15:46Z</td>\n",
        "      <td> drugs</td>\n",
        "    </tr>\n",
        "    <tr>\n",
        "      <th>228</th>\n",
        "      <td> NYT</td>\n",
        "      <td> http://thecaucus.blogs.nytimes.com/2010/10/02/...</td>\n",
        "      <td> Activists are gathering on the Washington Mall...</td>\n",
        "      <td> 2010-10-02T11:41:14Z</td>\n",
        "      <td> drugs</td>\n",
        "    </tr>\n",
        "    <tr>\n",
        "      <th>229</th>\n",
        "      <td> NYT</td>\n",
        "      <td> http://tmagazine.blogs.nytimes.com/2010/10/01/...</td>\n",
        "      <td> The San Francisco Patient and Resource Center ...</td>\n",
        "      <td> 2010-10-01T09:00:04Z</td>\n",
        "      <td> drugs</td>\n",
        "    </tr>\n",
        "    <tr>\n",
        "      <th>230</th>\n",
        "      <td> NYT</td>\n",
        "      <td> http://opinionator.blogs.nytimes.com/2010/09/2...</td>\n",
        "      <td> It was early still and daylight so when I call...</td>\n",
        "      <td> 2010-09-29T21:00:31Z</td>\n",
        "      <td> drugs</td>\n",
        "    </tr>\n",
        "    <tr>\n",
        "      <th>231</th>\n",
        "      <td> NYT</td>\n",
        "      <td> http://thecaucus.blogs.nytimes.com/2010/09/13/...</td>\n",
        "      <td> Every past administrator of the 37yearold Drug...</td>\n",
        "      <td> 2010-09-13T13:09:50Z</td>\n",
        "      <td> drugs</td>\n",
        "    </tr>\n",
        "    <tr>\n",
        "      <th>232</th>\n",
        "      <td> NYT</td>\n",
        "      <td> http://thecaucus.blogs.nytimes.com/2010/08/24/...</td>\n",
        "      <td> A group supporting the legalization of marijua...</td>\n",
        "      <td> 2010-08-24T17:52:53Z</td>\n",
        "      <td> drugs</td>\n",
        "    </tr>\n",
        "    <tr>\n",
        "      <th>233</th>\n",
        "      <td> NYT</td>\n",
        "      <td> http://thecaucus.blogs.nytimes.com/2010/08/05/...</td>\n",
        "      <td> A coalition of liberals police officers and a ...</td>\n",
        "      <td> 2010-08-05T17:05:20Z</td>\n",
        "      <td> drugs</td>\n",
        "    </tr>\n",
        "    <tr>\n",
        "      <th>234</th>\n",
        "      <td> NYT</td>\n",
        "      <td> http://bayarea.blogs.nytimes.com/2010/04/02/sa...</td>\n",
        "      <td> A Survivors Tough Choices at Elevation  Worrie...</td>\n",
        "      <td> 2010-04-02T07:50:30Z</td>\n",
        "      <td> drugs</td>\n",
        "    </tr>\n",
        "    <tr>\n",
        "      <th>235</th>\n",
        "      <td> NYT</td>\n",
        "      <td> http://fifthdown.blogs.nytimes.com/2010/03/27/...</td>\n",
        "      <td> News item No 1 from SIcom Numerous NFL personn...</td>\n",
        "      <td> 2010-03-27T07:47:36Z</td>\n",
        "      <td> drugs</td>\n",
        "    </tr>\n",
        "    <tr>\n",
        "      <th>236</th>\n",
        "      <td> NYT</td>\n",
        "      <td> http://thelede.blogs.nytimes.com/2010/03/23/mo...</td>\n",
        "      <td> A proposal to put the legalization of marijuan...</td>\n",
        "      <td> 2010-03-23T10:35:40Z</td>\n",
        "      <td> drugs</td>\n",
        "    </tr>\n",
        "    <tr>\n",
        "      <th>237</th>\n",
        "      <td> NYT</td>\n",
        "      <td> http://opinionator.blogs.nytimes.com/2010/01/2...</td>\n",
        "      <td> McCainFeingold that Quixotic attempt to turn m...</td>\n",
        "      <td> 2010-01-22T19:41:39Z</td>\n",
        "      <td> drugs</td>\n",
        "    </tr>\n",
        "    <tr>\n",
        "      <th>238</th>\n",
        "      <td> NYT</td>\n",
        "      <td> http://bayarea.blogs.nytimes.com/2010/01/15/an...</td>\n",
        "      <td> For 10 years Sgt Bernard Ortiz specialized in ...</td>\n",
        "      <td> 2010-01-15T15:28:11Z</td>\n",
        "      <td> drugs</td>\n",
        "    </tr>\n",
        "    <tr>\n",
        "      <th>239</th>\n",
        "      <td> NYT</td>\n",
        "      <td> http://bayarea.blogs.nytimes.com/2010/01/06/op...</td>\n",
        "      <td> The former home of a charter school at 1600 Br...</td>\n",
        "      <td> 2010-01-06T11:00:46Z</td>\n",
        "      <td> drugs</td>\n",
        "    </tr>\n",
        "  </tbody>\n",
        "</table>\n",
        "<p>240 rows \u00d7 5 columns</p>\n",
        "</div>"
       ],
       "metadata": {},
       "output_type": "pyout",
       "prompt_number": 876,
       "text": [
        "    source                                                url  \\\n",
        "0      NYT  http://www.nytimes.com/2014/10/29/us/for-marij...   \n",
        "1      NYT  http://www.nytimes.com/2014/11/02/nyregion/a-c...   \n",
        "2      NYT  http://www.nytimes.com/reuters/2014/09/30/us/3...   \n",
        "3      NYT  http://www.nytimes.com/aponline/2014/09/01/us/...   \n",
        "4      NYT  http://www.nytimes.com/2014/10/06/opinion/alas...   \n",
        "5      NYT  http://www.nytimes.com/aponline/2014/10/17/wor...   \n",
        "6      NYT  http://www.nytimes.com/2014/10/20/opinion/the-...   \n",
        "7      NYT  http://www.nytimes.com/2014/09/09/world/americ...   \n",
        "8      NYT  http://www.nytimes.com/2014/07/29/opinion/Lega...   \n",
        "9      NYT  http://www.nytimes.com/2014/08/10/us/politics/...   \n",
        "10     NYT  http://learning.blogs.nytimes.com/2014/09/24/a...   \n",
        "11     NYT  http://www.nytimes.com/aponline/2014/10/29/us/...   \n",
        "12     NYT  http://takingnote.blogs.nytimes.com/2014/07/29...   \n",
        "13     NYT  http://www.nytimes.com/2014/08/07/us/marijuana...   \n",
        "14     NYT  http://www.nytimes.com/aponline/2014/10/07/us/...   \n",
        "15     NYT  http://www.nytimes.com/reuters/2014/09/24/us/2...   \n",
        "16     NYT  http://www.nytimes.com/reuters/2014/10/27/us/p...   \n",
        "17     NYT  http://www.nytimes.com/aponline/2014/10/08/us/...   \n",
        "18     NYT  http://well.blogs.nytimes.com/2014/08/18/marij...   \n",
        "19     NYT  http://www.nytimes.com/reuters/2014/11/05/us/p...   \n",
        "20     NYT  http://www.nytimes.com/aponline/2014/10/23/bus...   \n",
        "21     NYT  http://www.nytimes.com/reuters/2014/11/04/us/p...   \n",
        "22     NYT  http://www.nytimes.com/2014/11/06/us/politics/...   \n",
        "23     NYT  http://www.nytimes.com/aponline/2014/11/05/us/...   \n",
        "24     NYT  http://www.nytimes.com/reuters/2014/10/30/us/p...   \n",
        "25     NYT  http://www.nytimes.com/reuters/2014/09/22/us/2...   \n",
        "26     NYT  http://www.nytimes.com/aponline/2014/10/29/wor...   \n",
        "27     NYT  http://www.nytimes.com/aponline/2014/09/24/us/...   \n",
        "28     NYT  http://www.nytimes.com/aponline/2014/10/17/us/...   \n",
        "29     NYT  http://www.nytimes.com/reuters/2014/09/23/us/2...   \n",
        "..     ...                                                ...   \n",
        "210    NYT  http://thelede.blogs.nytimes.com/2012/07/31/q-...   \n",
        "211    NYT  http://cityroom.blogs.nytimes.com/2012/07/09/a...   \n",
        "212    NYT  http://india.blogs.nytimes.com/2012/07/02/mala...   \n",
        "213    NYT  http://6thfloor.blogs.nytimes.com/2012/06/18/b...   \n",
        "214    NYT  http://atwar.blogs.nytimes.com/2012/05/29/a-ma...   \n",
        "215    NYT  http://therail.blogs.nytimes.com/2012/05/05/lo...   \n",
        "216    NYT  http://rendezvous.blogs.nytimes.com/2012/03/08...   \n",
        "217    NYT  http://cityroom.blogs.nytimes.com/2011/12/12/b...   \n",
        "218    NYT  http://learning.blogs.nytimes.com/2011/12/05/d...   \n",
        "219    NYT  http://artsbeat.blogs.nytimes.com/2011/10/13/c...   \n",
        "220    NYT  http://cityroom.blogs.nytimes.com/2011/09/22/k...   \n",
        "221    NYT  http://bits.blogs.nytimes.com/2011/08/06/at-a-...   \n",
        "222    NYT  http://douthat.blogs.nytimes.com/2011/06/09/th...   \n",
        "223    NYT  http://economix.blogs.nytimes.com/2011/02/17/d...   \n",
        "224    NYT  http://thelede.blogs.nytimes.com/2011/01/21/cy...   \n",
        "225    NYT  http://carpetbagger.blogs.nytimes.com/2010/12/...   \n",
        "226    NYT  http://thecaucus.blogs.nytimes.com/2010/10/25/...   \n",
        "227    NYT  http://fivethirtyeight.blogs.nytimes.com/2010/...   \n",
        "228    NYT  http://thecaucus.blogs.nytimes.com/2010/10/02/...   \n",
        "229    NYT  http://tmagazine.blogs.nytimes.com/2010/10/01/...   \n",
        "230    NYT  http://opinionator.blogs.nytimes.com/2010/09/2...   \n",
        "231    NYT  http://thecaucus.blogs.nytimes.com/2010/09/13/...   \n",
        "232    NYT  http://thecaucus.blogs.nytimes.com/2010/08/24/...   \n",
        "233    NYT  http://thecaucus.blogs.nytimes.com/2010/08/05/...   \n",
        "234    NYT  http://bayarea.blogs.nytimes.com/2010/04/02/sa...   \n",
        "235    NYT  http://fifthdown.blogs.nytimes.com/2010/03/27/...   \n",
        "236    NYT  http://thelede.blogs.nytimes.com/2010/03/23/mo...   \n",
        "237    NYT  http://opinionator.blogs.nytimes.com/2010/01/2...   \n",
        "238    NYT  http://bayarea.blogs.nytimes.com/2010/01/15/an...   \n",
        "239    NYT  http://bayarea.blogs.nytimes.com/2010/01/06/op...   \n",
        "\n",
        "                                                  text          publish_date  \\\n",
        "0    KEIZER Ore   Two years after voters in Colorad...  2014-10-29T00:00:00Z   \n",
        "1    More than a year before the first legal dose o...  2014-11-02T00:00:00Z   \n",
        "2    Reuters  Marijuana advocates in Mississippi ha...  2014-09-30T22:46:31Z   \n",
        "3    WASHINGTON   As states liberalize their mariju...  2014-09-01T08:40:03Z   \n",
        "4    The decision by California voters in 1996 to l...  2014-10-06T00:00:00Z   \n",
        "5    ASUNCION Paraguay   A newspaper said Friday th...  2014-10-17T17:16:10Z   \n",
        "6    To the EditorRe Mexicos Cartel Government by I...  2014-10-20T00:00:00Z   \n",
        "7    A coalition of political figures from around t...  2014-09-09T00:00:00Z   \n",
        "8     To the EditorRe Repeal Prohibition Again edit...  2014-07-29T00:00:00Z   \n",
        "9    Nearly four years ago Dr Sue Sisley a psychiat...  2014-08-10T00:00:00Z   \n",
        "10   Marijuana is illegal in the United States Yet ...  2014-09-24T14:15:06Z   \n",
        "11   Heres a look at the status of marijuana laws i...  2014-10-29T16:00:00Z   \n",
        "12   When the White House issued a statement last n...  2014-07-29T15:43:42Z   \n",
        "13   District of Columbia residents will vote in No...  2014-08-07T00:00:00Z   \n",
        "14   PORTLAND Ore   Rick Steves smokes the occasion...  2014-10-07T17:18:14Z   \n",
        "15   Reuters  California voters could get a second ...  2014-09-24T19:07:01Z   \n",
        "16   PORTLAND Ore Reuters  A Democratic US Senator ...  2014-10-27T17:01:32Z   \n",
        "17   PORTLAND Ore   Rick Steves smokes the occasion...  2014-10-08T08:40:13Z   \n",
        "18   When the antidrug educator Tim Ryan talks to s...  2014-08-18T17:46:42Z   \n",
        "19   WASHINGTON   Voters in Tuesdays US elections w...  2014-11-05T02:48:26Z   \n",
        "20   More than 140 ballot measures will be decided ...  2014-10-23T05:06:40Z   \n",
        "21   Reuters  In a test for broader marijuana legal...  2014-11-04T07:16:00Z   \n",
        "22   ANCHORAGE   Conservative candidates garnered m...  2014-11-06T00:00:00Z   \n",
        "23   DENVER   Oregon Alaska and Washington DC voted...  2014-11-05T13:32:15Z   \n",
        "24   WASHINGTON   Washington lawmakers took a step ...  2014-10-30T17:06:13Z   \n",
        "25   By Daniel WallisNote Strong language in paragr...  2014-09-22T12:33:17Z   \n",
        "26   SANTIAGO Chile   A Chilean municipality plante...  2014-10-29T13:01:05Z   \n",
        "27   SAN FRANCISCO   A national marijuana advocacy ...  2014-09-24T11:00:22Z   \n",
        "28   LAKE OSWEGO Ore   Both sides in Oregons debate...  2014-10-17T19:04:20Z   \n",
        "29   CHICAGO   Chicago Mayor Rahm Emanuel asked Ill...  2014-09-23T12:59:48Z   \n",
        "..                                                 ...                   ...   \n",
        "210  Thank you  gracias a todos  for sending along ...  2012-07-31T16:27:55Z   \n",
        "211      Government at all levels has been known to...  2012-07-09T09:13:49Z   \n",
        "212  Everywhere in the remote Parvati Valley in Him...  2012-07-02T01:04:38Z   \n",
        "213  Patrick Radden Keefe wrote this weeks cover st...  2012-06-18T11:49:33Z   \n",
        "214  The governor of the Zhare district in southern...  2012-05-29T14:51:07Z   \n",
        "215  LOUISVILLE Ky  By all accounts the 90th Kentuc...  2012-05-05T12:55:44Z   \n",
        "216  LOCHIEL Arizona  Fray Marcos de Niza a Francis...  2012-03-08T11:59:01Z   \n",
        "217  Mayor Michael R Bloomberg said Monday that  th...  2011-12-12T15:47:07Z   \n",
        "218  On Dec 5 1933 national Prohibition came to an ...  2011-12-05T04:12:18Z   \n",
        "219  \\tThe policeridealong genre of reality televis...  2011-10-13T15:30:05Z   \n",
        "220  With our noses once again pressed firmly again...  2011-09-22T08:29:42Z   \n",
        "221  LAS VEGAS  Why are  federal agents hobnobbing ...  2011-08-06T13:46:27Z   \n",
        "222  Ezra Klein writes that he didnt find the argum...  2011-06-09T19:16:40Z   \n",
        "223  Casey B Mulligan is an economics professor at ...  2011-02-17T06:00:51Z   \n",
        "224  Updated  731 pm Calling the fight against dopi...  2011-01-21T18:35:58Z   \n",
        "225  LOS ANGELES The competitive lineup for the 201...  2010-12-01T15:07:16Z   \n",
        "226  The campaign behind the California ballot init...  2010-10-25T21:26:00Z   \n",
        "227  Proposition 19 a ballot initiative in Californ...  2010-10-21T16:15:46Z   \n",
        "228  Activists are gathering on the Washington Mall...  2010-10-02T11:41:14Z   \n",
        "229  The San Francisco Patient and Resource Center ...  2010-10-01T09:00:04Z   \n",
        "230  It was early still and daylight so when I call...  2010-09-29T21:00:31Z   \n",
        "231  Every past administrator of the 37yearold Drug...  2010-09-13T13:09:50Z   \n",
        "232  A group supporting the legalization of marijua...  2010-08-24T17:52:53Z   \n",
        "233  A coalition of liberals police officers and a ...  2010-08-05T17:05:20Z   \n",
        "234  A Survivors Tough Choices at Elevation  Worrie...  2010-04-02T07:50:30Z   \n",
        "235  News item No 1 from SIcom Numerous NFL personn...  2010-03-27T07:47:36Z   \n",
        "236  A proposal to put the legalization of marijuan...  2010-03-23T10:35:40Z   \n",
        "237  McCainFeingold that Quixotic attempt to turn m...  2010-01-22T19:41:39Z   \n",
        "238  For 10 years Sgt Bernard Ortiz specialized in ...  2010-01-15T15:28:11Z   \n",
        "239  The former home of a charter school at 1600 Br...  2010-01-06T11:00:46Z   \n",
        "\n",
        "    category  \n",
        "0      drugs  \n",
        "1      drugs  \n",
        "2      drugs  \n",
        "3      drugs  \n",
        "4      drugs  \n",
        "5      drugs  \n",
        "6      drugs  \n",
        "7      drugs  \n",
        "8      drugs  \n",
        "9      drugs  \n",
        "10     drugs  \n",
        "11     drugs  \n",
        "12     drugs  \n",
        "13     drugs  \n",
        "14     drugs  \n",
        "15     drugs  \n",
        "16     drugs  \n",
        "17     drugs  \n",
        "18     drugs  \n",
        "19     drugs  \n",
        "20     drugs  \n",
        "21     drugs  \n",
        "22     drugs  \n",
        "23     drugs  \n",
        "24     drugs  \n",
        "25     drugs  \n",
        "26     drugs  \n",
        "27     drugs  \n",
        "28     drugs  \n",
        "29     drugs  \n",
        "..       ...  \n",
        "210    drugs  \n",
        "211    drugs  \n",
        "212    drugs  \n",
        "213    drugs  \n",
        "214    drugs  \n",
        "215    drugs  \n",
        "216    drugs  \n",
        "217    drugs  \n",
        "218    drugs  \n",
        "219    drugs  \n",
        "220    drugs  \n",
        "221    drugs  \n",
        "222    drugs  \n",
        "223    drugs  \n",
        "224    drugs  \n",
        "225    drugs  \n",
        "226    drugs  \n",
        "227    drugs  \n",
        "228    drugs  \n",
        "229    drugs  \n",
        "230    drugs  \n",
        "231    drugs  \n",
        "232    drugs  \n",
        "233    drugs  \n",
        "234    drugs  \n",
        "235    drugs  \n",
        "236    drugs  \n",
        "237    drugs  \n",
        "238    drugs  \n",
        "239    drugs  \n",
        "\n",
        "[240 rows x 5 columns]"
       ]
      }
     ],
     "prompt_number": 876
    },
    {
     "cell_type": "code",
     "collapsed": false,
     "input": [
      "nyt.ix[22:25,:]['url'].values"
     ],
     "language": "python",
     "metadata": {},
     "outputs": [
      {
       "metadata": {},
       "output_type": "pyout",
       "prompt_number": 870,
       "text": [
        "array([ 'http://www.nytimes.com/reuters/2013/12/13/world/americas/13reuters-uruguay-marijuana.html',\n",
        "       'http://www.nytimes.com/2013/12/09/business/media/quips-follow-denver-posts-naming-of-marijuana-editor-but-its-intent-is-serious.html',\n",
        "       'http://www.nytimes.com/2013/11/07/us/measures-to-legalize-marijuana-are-passed.html',\n",
        "       'http://www.nytimes.com/2013/11/25/business/peter-b-lewis-philanthropist-who-led-progressive-auto-insurance-dies-at-80.html'], dtype=object)"
       ]
      }
     ],
     "prompt_number": 870
    },
    {
     "cell_type": "code",
     "collapsed": false,
     "input": [
      "#fox news iterate\n",
      "req = requests.get('http://www.foxnews.com/search-results/search?&submit=Search&q=legalize+drug&ss=fn')\n",
      "soup = BeautifulSoup(req.text, 'html.parser')"
     ],
     "language": "python",
     "metadata": {},
     "outputs": [],
     "prompt_number": 899
    },
    {
     "cell_type": "code",
     "collapsed": false,
     "input": [
      "[a['href'] for a in soup.findAll('a', {'class' : 'ez-title'}) if a['href'].split('//')[1][0] != 'v']"
     ],
     "language": "python",
     "metadata": {},
     "outputs": [
      {
       "metadata": {},
       "output_type": "pyout",
       "prompt_number": 900,
       "text": [
        "[u'http://www.foxnews.com/politics/2014/11/05/voters-weigh-in-on-ballot-measures-differ-on-pot-measures/',\n",
        " u'http://www.foxnews.com/health/2014/11/05/german-doctors-use-experimental-heart-drug-in-treating-ebola-patients/',\n",
        " u'http://www.foxnews.com/health/2014/11/05/scientists-create-smart-bomb-drug-to-target-leukemia-in-children/',\n",
        " u'http://www.foxnews.com/sports/2014/11/04/alex-rodriguez-reportedly-paid-cousin-00g-to-keep-quiet-about-star-steroid-use/',\n",
        " u'http://www.foxnews.com/sports/2014/11/05/report-rod-admits-to-ped-use-under-oath/',\n",
        " u'http://www.foxnews.com/sports/2014/11/05/free-agent-pitcher-troy-patton-suspended-80-games-for-positive-amphetamine-test/',\n",
        " u'http://www.foxnews.com/health/2014/11/04/who-recommends-naloxone-to-prevent-20000-overdose-deaths-in-us/',\n",
        " u'http://www.foxnews.com/sports/2014/11/05/free-agent-p-patton-suspended-80-games/',\n",
        " u'http://www.foxnews.com/politics/2014/11/05/lame-duck-congress-to-tackle-spending-bill-tax-breaks-in-short-session/',\n",
        " u'http://www.foxnews.com/politics/2014/10/27/weed-booze-and-bears-ballot-questions-compete-with-candidates-for-voters/']"
       ]
      }
     ],
     "prompt_number": 900
    },
    {
     "cell_type": "code",
     "collapsed": false,
     "input": [
      "req = requests.get('http://www.foxnews.com/politics/2014/11/05/voters-weigh-in-on-ballot-measures-differ-on-pot-measures/')"
     ],
     "language": "python",
     "metadata": {},
     "outputs": [],
     "prompt_number": 901
    },
    {
     "cell_type": "code",
     "collapsed": false,
     "input": [
      "soup = BeautifulSoup(req.text)\n",
      "text = ' '.join([str(re.sub('[^\\w\\s]+', '', par.text)) for par in soup.findAll('div', {'itemprop': 'articleBody'})[0].findAll('p')])"
     ],
     "language": "python",
     "metadata": {},
     "outputs": [],
     "prompt_number": 902
    },
    {
     "cell_type": "code",
     "collapsed": false,
     "input": [
      "text"
     ],
     "language": "python",
     "metadata": {},
     "outputs": [
      {
       "metadata": {},
       "output_type": "pyout",
       "prompt_number": 903,
       "text": [
        "' WASHINGTON  Voters in Alaska Oregon and the District of Columbia on Tuesday approved recreational marijuana use joining the growing list of states legalizing pot The Alaska measure was the latest to be declared as approved after ballots were counted overnight A national propot group the Marijuana Policy Project was the major contributor behind the Alaska initiative and its spending dwarfed that of opponents ADVERTISEMENT ADVERTISEMENT The group behind the initiative argued pot prohibition has been as ineffective wasteful and problematic as alcohol prohibition The states now join Washington state and Colorado who legalized the drug in 2012 The only major loss for the propot side came in Florida and even there a medical marijuana proposal earned 58 percent  just shy of the 60 percent required to pass The legalization of marijuana was among the ballot issues that voters in 41 states and the District of Columbia weighed in on during Tuesdays voting In all voters had their say on 147 ballot initiatives ranging from pot to dueling gun measures in Washington state that would alternately require and prohibit universal background checks on firearms Voters there ultimately voted to expand background checks The Washington vote came less than two weeks after a student opened fire in a Seattlearea high school killing four people including himself Two other students remain hospitalized Washingtons Initiative 591would have prevented the government from requiring statewide background checks for gun purchases until a federal standard is established It would have also prohibited the state from confiscating firearms without due process Washingtons Initiative 594 basically greenlights the opposite  and implements statewide background checks According to the Ballot Initiative Strategy Center there was a possibility both could have passed but it was unclear how that would have shaken out Other measures voters considered included hotbutton topics like hike in the minimum wage and gambling Residents in Colorado weighed an amendment to their state constitutions that would expand rights to the unborn It ultimately failed Opponents have argued that the measures would ban birth control end in vitro fertilization and restrict access to abortion providers Voters in four states approved increases in the state minimum wage In Arkansas it will rise from 625 an hour to 850 by 2017 in Nebraska from 725 to 9 and in South Dakota from 725 to 850 In Alaska it will increase 2 an hour to 975 in 2016 In the past two decades 10 state proposals to raise the minimum wage have been approved by voters about 65 percent of the time according to the Initiative and Referendum Institute Meanwhile in Massachusetts voters on Tuesday rejected a ballot question that would have repealed a 2011 state law that allows for up to three regional resort casinos and a single slots parlor Trying to sway voters brought in millions in outside money to the state A committee financed largely by casino companies raised 12 million to defeat the referendum eclipsing the amount raised by the Repeal the Casino Deal which collected 670000 for their push according to the state financial filings Repeal the Casino Deal is a citizenbacked initiative that asked residents to reject the current law saying the casinos will court crime and do little for local economic growth The 12 million in opposition to the measure was largely divvied up by three casinos Penn National Gaming MGM Resorts International and Wynn Resorts The Associated Press contributed to this report'"
       ]
      }
     ],
     "prompt_number": 903
    },
    {
     "cell_type": "code",
     "collapsed": false,
     "input": [
      "soup.findAll('time', {'itemProp' : 'datePublished'})"
     ],
     "language": "python",
     "metadata": {},
     "outputs": [
      {
       "metadata": {},
       "output_type": "pyout",
       "prompt_number": 904,
       "text": [
        "[]"
       ]
      }
     ],
     "prompt_number": 904
    },
    {
     "cell_type": "code",
     "collapsed": false,
     "input": [
      "soup.findAll('time')[0]['datetime']"
     ],
     "language": "python",
     "metadata": {},
     "outputs": [
      {
       "metadata": {},
       "output_type": "pyout",
       "prompt_number": 908,
       "text": [
        "'2014-11-05T02:13-05:00'"
       ]
      }
     ],
     "prompt_number": 908
    },
    {
     "cell_type": "code",
     "collapsed": false,
     "input": [
      "text.replace('ADVERTISEMENT', '')"
     ],
     "language": "python",
     "metadata": {},
     "outputs": [
      {
       "metadata": {},
       "output_type": "pyout",
       "prompt_number": 909,
       "text": [
        "' WASHINGTON  Voters in Alaska Oregon and the District of Columbia on Tuesday approved recreational marijuana use joining the growing list of states legalizing pot The Alaska measure was the latest to be declared as approved after ballots were counted overnight A national propot group the Marijuana Policy Project was the major contributor behind the Alaska initiative and its spending dwarfed that of opponents   The group behind the initiative argued pot prohibition has been as ineffective wasteful and problematic as alcohol prohibition The states now join Washington state and Colorado who legalized the drug in 2012 The only major loss for the propot side came in Florida and even there a medical marijuana proposal earned 58 percent  just shy of the 60 percent required to pass The legalization of marijuana was among the ballot issues that voters in 41 states and the District of Columbia weighed in on during Tuesdays voting In all voters had their say on 147 ballot initiatives ranging from pot to dueling gun measures in Washington state that would alternately require and prohibit universal background checks on firearms Voters there ultimately voted to expand background checks The Washington vote came less than two weeks after a student opened fire in a Seattlearea high school killing four people including himself Two other students remain hospitalized Washingtons Initiative 591would have prevented the government from requiring statewide background checks for gun purchases until a federal standard is established It would have also prohibited the state from confiscating firearms without due process Washingtons Initiative 594 basically greenlights the opposite  and implements statewide background checks According to the Ballot Initiative Strategy Center there was a possibility both could have passed but it was unclear how that would have shaken out Other measures voters considered included hotbutton topics like hike in the minimum wage and gambling Residents in Colorado weighed an amendment to their state constitutions that would expand rights to the unborn It ultimately failed Opponents have argued that the measures would ban birth control end in vitro fertilization and restrict access to abortion providers Voters in four states approved increases in the state minimum wage In Arkansas it will rise from 625 an hour to 850 by 2017 in Nebraska from 725 to 9 and in South Dakota from 725 to 850 In Alaska it will increase 2 an hour to 975 in 2016 In the past two decades 10 state proposals to raise the minimum wage have been approved by voters about 65 percent of the time according to the Initiative and Referendum Institute Meanwhile in Massachusetts voters on Tuesday rejected a ballot question that would have repealed a 2011 state law that allows for up to three regional resort casinos and a single slots parlor Trying to sway voters brought in millions in outside money to the state A committee financed largely by casino companies raised 12 million to defeat the referendum eclipsing the amount raised by the Repeal the Casino Deal which collected 670000 for their push according to the state financial filings Repeal the Casino Deal is a citizenbacked initiative that asked residents to reject the current law saying the casinos will court crime and do little for local economic growth The 12 million in opposition to the measure was largely divvied up by three casinos Penn National Gaming MGM Resorts International and Wynn Resorts The Associated Press contributed to this report'"
       ]
      }
     ],
     "prompt_number": 909
    },
    {
     "cell_type": "code",
     "collapsed": false,
     "input": [
      "f = pd.read_csv('data/fox_data.csv')\n",
      "f"
     ],
     "language": "python",
     "metadata": {},
     "outputs": [
      {
       "html": [
        "<div style=\"max-height:1000px;max-width:1500px;overflow:auto;\">\n",
        "<table border=\"1\" class=\"dataframe\">\n",
        "  <thead>\n",
        "    <tr style=\"text-align: right;\">\n",
        "      <th></th>\n",
        "      <th>source</th>\n",
        "      <th>url</th>\n",
        "      <th>text</th>\n",
        "      <th>publish_date</th>\n",
        "      <th>category</th>\n",
        "    </tr>\n",
        "  </thead>\n",
        "  <tbody>\n",
        "    <tr>\n",
        "      <th>0 </th>\n",
        "      <td> Fox</td>\n",
        "      <td> http://www.foxnews.com/politics/2014/11/05/bal...</td>\n",
        "      <td> Sept 11 2014 A sample of marijuana is shown in...</td>\n",
        "      <td> 2014-11-05T01:21-05:00</td>\n",
        "      <td> drugs</td>\n",
        "    </tr>\n",
        "    <tr>\n",
        "      <th>1 </th>\n",
        "      <td> Fox</td>\n",
        "      <td> http://www.foxnews.com/opinion/2014/11/04/it-t...</td>\n",
        "      <td> A voter signs a register as she prepares to ca...</td>\n",
        "      <td> 2014-11-04T10:05-05:00</td>\n",
        "      <td> drugs</td>\n",
        "    </tr>\n",
        "    <tr>\n",
        "      <th>2 </th>\n",
        "      <td> Fox</td>\n",
        "      <td> http://www.foxnews.com/politics/2014/11/03/bal...</td>\n",
        "      <td> FILE Oct 9 2014 DC Cannabis Campaign posters i...</td>\n",
        "      <td> 2014-11-03T03:00-05:00</td>\n",
        "      <td> drugs</td>\n",
        "    </tr>\n",
        "    <tr>\n",
        "      <th>3 </th>\n",
        "      <td> Fox</td>\n",
        "      <td> http://www.foxnews.com/world/2014/10/26/urugua...</td>\n",
        "      <td> Presidential candidate for the ruling Broad Fr...</td>\n",
        "      <td> 2014-10-26T09:11-04:00</td>\n",
        "      <td> drugs</td>\n",
        "    </tr>\n",
        "    <tr>\n",
        "      <th>4 </th>\n",
        "      <td> Fox</td>\n",
        "      <td> http://www.foxnews.com/sports/2014/11/04/vikin...</td>\n",
        "      <td> Minnesota Vikings running back Adrian Peterson...</td>\n",
        "      <td> 2014-11-04T14:06-05:00</td>\n",
        "      <td> drugs</td>\n",
        "    </tr>\n",
        "    <tr>\n",
        "      <th>5 </th>\n",
        "      <td> Fox</td>\n",
        "      <td> http://www.foxnews.com/us/2014/11/04/adrian-pe...</td>\n",
        "      <td>  CONROE Texas  Minnesota Vikings star Adrian P...</td>\n",
        "      <td> 2014-11-04T07:34-05:00</td>\n",
        "      <td> drugs</td>\n",
        "    </tr>\n",
        "    <tr>\n",
        "      <th>6 </th>\n",
        "      <td> Fox</td>\n",
        "      <td> http://www.foxnews.com/world/2014/10/27/former...</td>\n",
        "      <td> MONTEVIDEO Uruguay  Former president Tabare Va...</td>\n",
        "      <td> 2014-10-27T13:30-04:00</td>\n",
        "      <td> drugs</td>\n",
        "    </tr>\n",
        "    <tr>\n",
        "      <th>7 </th>\n",
        "      <td> Fox</td>\n",
        "      <td> http://www.foxnews.com/us/2014/10/19/halloweed...</td>\n",
        "      <td> Oct 17 2014 Marijuanainfused sour gummy bear c...</td>\n",
        "      <td> 2014-10-19T15:12-04:00</td>\n",
        "      <td> drugs</td>\n",
        "    </tr>\n",
        "    <tr>\n",
        "      <th>8 </th>\n",
        "      <td> Fox</td>\n",
        "      <td> http://www.foxnews.com/world/2014/10/25/urugua...</td>\n",
        "      <td> Uruguayan national flags and banners represent...</td>\n",
        "      <td> 2014-10-25T00:00-04:00</td>\n",
        "      <td> drugs</td>\n",
        "    </tr>\n",
        "    <tr>\n",
        "      <th>9 </th>\n",
        "      <td> Fox</td>\n",
        "      <td> http://www.foxnews.com/politics/2014/09/26/rep...</td>\n",
        "      <td>  It was the f it heard round the web Alaska re...</td>\n",
        "      <td> 2014-09-26T07:00-04:00</td>\n",
        "      <td> drugs</td>\n",
        "    </tr>\n",
        "    <tr>\n",
        "      <th>10</th>\n",
        "      <td> Fox</td>\n",
        "      <td> http://latino.foxnews.com/latino/politics/2014...</td>\n",
        "      <td> MONTEVIDEO Uruguay AP  Former President Tabare...</td>\n",
        "      <td> 2014-10-27T07:56-04:00</td>\n",
        "      <td> drugs</td>\n",
        "    </tr>\n",
        "    <tr>\n",
        "      <th>11</th>\n",
        "      <td> Fox</td>\n",
        "      <td> http://www.foxnews.com/us/2014/10/08/marijuana...</td>\n",
        "      <td> BELLINGHAM Wash  Bottles of legal marijuanainf...</td>\n",
        "      <td> 2014-10-08T17:31-04:00</td>\n",
        "      <td> drugs</td>\n",
        "    </tr>\n",
        "    <tr>\n",
        "      <th>12</th>\n",
        "      <td> Fox</td>\n",
        "      <td> http://www.foxbusiness.com/markets/2014/11/05/...</td>\n",
        "      <td> SEATTLE  Marijuana activists who have longed f...</td>\n",
        "      <td> 2014-11-05T07:41-05:00</td>\n",
        "      <td> drugs</td>\n",
        "    </tr>\n",
        "    <tr>\n",
        "      <th>13</th>\n",
        "      <td> Fox</td>\n",
        "      <td> http://www.foxbusiness.com/markets/2014/10/30/...</td>\n",
        "      <td> SANTIAGO Chile  A Chilean municipality planted...</td>\n",
        "      <td> 2014-10-30T07:04-04:00</td>\n",
        "      <td> drugs</td>\n",
        "    </tr>\n",
        "    <tr>\n",
        "      <th>14</th>\n",
        "      <td> Fox</td>\n",
        "      <td> http://latino.foxnews.com/latino/politics/2014...</td>\n",
        "      <td> MONTEVIDEO Uruguay AP  Uruguayans were choosin...</td>\n",
        "      <td> 2014-10-26T13:27-04:00</td>\n",
        "      <td> drugs</td>\n",
        "    </tr>\n",
        "    <tr>\n",
        "      <th>15</th>\n",
        "      <td> Fox</td>\n",
        "      <td> http://www.foxbusiness.com/markets/2014/11/05/...</td>\n",
        "      <td> DENVER  Oregon and Washington DC voted to lega...</td>\n",
        "      <td> 2014-11-05T13:16-05:00</td>\n",
        "      <td> drugs</td>\n",
        "    </tr>\n",
        "    <tr>\n",
        "      <th>16</th>\n",
        "      <td> Fox</td>\n",
        "      <td> http://www.foxbusiness.com/markets/2014/10/30/...</td>\n",
        "      <td> GRANTS PASS Ore  From slick video ads online t...</td>\n",
        "      <td> 2014-10-30T10:16-04:00</td>\n",
        "      <td> drugs</td>\n",
        "    </tr>\n",
        "  </tbody>\n",
        "</table>\n",
        "</div>"
       ],
       "metadata": {},
       "output_type": "pyout",
       "prompt_number": 950,
       "text": [
        "   source                                                url  \\\n",
        "0     Fox  http://www.foxnews.com/politics/2014/11/05/bal...   \n",
        "1     Fox  http://www.foxnews.com/opinion/2014/11/04/it-t...   \n",
        "2     Fox  http://www.foxnews.com/politics/2014/11/03/bal...   \n",
        "3     Fox  http://www.foxnews.com/world/2014/10/26/urugua...   \n",
        "4     Fox  http://www.foxnews.com/sports/2014/11/04/vikin...   \n",
        "5     Fox  http://www.foxnews.com/us/2014/11/04/adrian-pe...   \n",
        "6     Fox  http://www.foxnews.com/world/2014/10/27/former...   \n",
        "7     Fox  http://www.foxnews.com/us/2014/10/19/halloweed...   \n",
        "8     Fox  http://www.foxnews.com/world/2014/10/25/urugua...   \n",
        "9     Fox  http://www.foxnews.com/politics/2014/09/26/rep...   \n",
        "10    Fox  http://latino.foxnews.com/latino/politics/2014...   \n",
        "11    Fox  http://www.foxnews.com/us/2014/10/08/marijuana...   \n",
        "12    Fox  http://www.foxbusiness.com/markets/2014/11/05/...   \n",
        "13    Fox  http://www.foxbusiness.com/markets/2014/10/30/...   \n",
        "14    Fox  http://latino.foxnews.com/latino/politics/2014...   \n",
        "15    Fox  http://www.foxbusiness.com/markets/2014/11/05/...   \n",
        "16    Fox  http://www.foxbusiness.com/markets/2014/10/30/...   \n",
        "\n",
        "                                                 text            publish_date  \\\n",
        "0   Sept 11 2014 A sample of marijuana is shown in...  2014-11-05T01:21-05:00   \n",
        "1   A voter signs a register as she prepares to ca...  2014-11-04T10:05-05:00   \n",
        "2   FILE Oct 9 2014 DC Cannabis Campaign posters i...  2014-11-03T03:00-05:00   \n",
        "3   Presidential candidate for the ruling Broad Fr...  2014-10-26T09:11-04:00   \n",
        "4   Minnesota Vikings running back Adrian Peterson...  2014-11-04T14:06-05:00   \n",
        "5    CONROE Texas  Minnesota Vikings star Adrian P...  2014-11-04T07:34-05:00   \n",
        "6   MONTEVIDEO Uruguay  Former president Tabare Va...  2014-10-27T13:30-04:00   \n",
        "7   Oct 17 2014 Marijuanainfused sour gummy bear c...  2014-10-19T15:12-04:00   \n",
        "8   Uruguayan national flags and banners represent...  2014-10-25T00:00-04:00   \n",
        "9    It was the f it heard round the web Alaska re...  2014-09-26T07:00-04:00   \n",
        "10  MONTEVIDEO Uruguay AP  Former President Tabare...  2014-10-27T07:56-04:00   \n",
        "11  BELLINGHAM Wash  Bottles of legal marijuanainf...  2014-10-08T17:31-04:00   \n",
        "12  SEATTLE  Marijuana activists who have longed f...  2014-11-05T07:41-05:00   \n",
        "13  SANTIAGO Chile  A Chilean municipality planted...  2014-10-30T07:04-04:00   \n",
        "14  MONTEVIDEO Uruguay AP  Uruguayans were choosin...  2014-10-26T13:27-04:00   \n",
        "15  DENVER  Oregon and Washington DC voted to lega...  2014-11-05T13:16-05:00   \n",
        "16  GRANTS PASS Ore  From slick video ads online t...  2014-10-30T10:16-04:00   \n",
        "\n",
        "   category  \n",
        "0     drugs  \n",
        "1     drugs  \n",
        "2     drugs  \n",
        "3     drugs  \n",
        "4     drugs  \n",
        "5     drugs  \n",
        "6     drugs  \n",
        "7     drugs  \n",
        "8     drugs  \n",
        "9     drugs  \n",
        "10    drugs  \n",
        "11    drugs  \n",
        "12    drugs  \n",
        "13    drugs  \n",
        "14    drugs  \n",
        "15    drugs  \n",
        "16    drugs  "
       ]
      }
     ],
     "prompt_number": 950
    },
    {
     "cell_type": "code",
     "collapsed": false,
     "input": [
      "f['url'].values"
     ],
     "language": "python",
     "metadata": {},
     "outputs": [
      {
       "metadata": {},
       "output_type": "pyout",
       "prompt_number": 939,
       "text": [
        "array(['http://www.foxnews.com/politics/2014/11/05/ballot-measures/',\n",
        "       'http://www.foxnews.com/us/2014/11/04/murder-suspect-on-personal-jihad-may-have-been-groomed-in-seattle-barber-shop/',\n",
        "       'http://www.foxnews.com/health/2014/11/03/terminally-ill-woman-follows-through-on-decision-to-end-her-life-dies-in-oregon/',\n",
        "       'http://www.foxnews.com/politics/2014/11/02/republicans-cheer-tahmooressi-release-and-gop-lawmakers-efforts-question-obama/',\n",
        "       'http://www.foxnews.com/us/2014/10/30/terminally-ill-woman-says-feels-good-enough-to-possibly-delay-day-plans-to-take/',\n",
        "       'http://www.foxnews.com/politics/2014/11/02/republicans-cheer-tahmooressi-release-and-gop-lawmakers-efforts-question-obama/'], dtype=object)"
       ]
      }
     ],
     "prompt_number": 939
    },
    {
     "cell_type": "code",
     "collapsed": false,
     "input": [
      "npr = pd.read_csv('data/npr_drug_data.csv')\n",
      "fox = pd.read_csv('data/fox_drug_data.csv')\n",
      "nyt = pd.read_csv('data/nyt_drug_data.csv')\n",
      "msnbc = pd.read_csv('data/msnbc_drug_data.csv')"
     ],
     "language": "python",
     "metadata": {},
     "outputs": [],
     "prompt_number": 173
    },
    {
     "cell_type": "code",
     "collapsed": false,
     "input": [
      "npr.shape, nyt.shape, fox.shape, msnbc.shape"
     ],
     "language": "python",
     "metadata": {},
     "outputs": [
      {
       "metadata": {},
       "output_type": "pyout",
       "prompt_number": 174,
       "text": [
        "((497, 5), (961, 5), (378, 5), (219, 5))"
       ]
      }
     ],
     "prompt_number": 174
    },
    {
     "cell_type": "code",
     "collapsed": false,
     "input": [
      "msnbc['political'] = 'liberal'\n",
      "fox['political'] = 'conservative'"
     ],
     "language": "python",
     "metadata": {},
     "outputs": [],
     "prompt_number": 128
    },
    {
     "cell_type": "code",
     "collapsed": false,
     "input": [
      "pols = pd.concat([fox, msnbc])"
     ],
     "language": "python",
     "metadata": {},
     "outputs": [],
     "prompt_number": 129
    },
    {
     "cell_type": "code",
     "collapsed": false,
     "input": [
      "pols.head()"
     ],
     "language": "python",
     "metadata": {},
     "outputs": [
      {
       "html": [
        "<div style=\"max-height:1000px;max-width:1500px;overflow:auto;\">\n",
        "<table border=\"1\" class=\"dataframe\">\n",
        "  <thead>\n",
        "    <tr style=\"text-align: right;\">\n",
        "      <th></th>\n",
        "      <th>source</th>\n",
        "      <th>url</th>\n",
        "      <th>text</th>\n",
        "      <th>publish_date</th>\n",
        "      <th>category</th>\n",
        "      <th>political</th>\n",
        "    </tr>\n",
        "  </thead>\n",
        "  <tbody>\n",
        "    <tr>\n",
        "      <th>0</th>\n",
        "      <td> Fox</td>\n",
        "      <td> http://latino.foxnews.com/latino/politics/2014...</td>\n",
        "      <td> Along with hundreds  maybe even thousands  of ...</td>\n",
        "      <td> 2014-10-31T07:00-04:00</td>\n",
        "      <td> drugs</td>\n",
        "      <td> conservative</td>\n",
        "    </tr>\n",
        "    <tr>\n",
        "      <th>1</th>\n",
        "      <td> Fox</td>\n",
        "      <td> http://latino.foxnews.com/latino/health/2014/1...</td>\n",
        "      <td> Miami Oct 28 EFEUSA A week before the midterm ...</td>\n",
        "      <td> 2014-10-28T16:21-04:00</td>\n",
        "      <td> drugs</td>\n",
        "      <td> conservative</td>\n",
        "    </tr>\n",
        "    <tr>\n",
        "      <th>2</th>\n",
        "      <td> Fox</td>\n",
        "      <td> http://www.foxnews.com/us/2013/07/22/guide-to-...</td>\n",
        "      <td>  James Whitey Bulger is on trial in a 32count ...</td>\n",
        "      <td> 2013-07-22T02:40-04:00</td>\n",
        "      <td> drugs</td>\n",
        "      <td> conservative</td>\n",
        "    </tr>\n",
        "    <tr>\n",
        "      <th>3</th>\n",
        "      <td> Fox</td>\n",
        "      <td> http://www.foxnews.com/politics/2014/07/08/ope...</td>\n",
        "      <td>  Washington states marijuana industry is now o...</td>\n",
        "      <td> 2014-07-08T11:38-04:00</td>\n",
        "      <td> drugs</td>\n",
        "      <td> conservative</td>\n",
        "    </tr>\n",
        "    <tr>\n",
        "      <th>4</th>\n",
        "      <td> Fox</td>\n",
        "      <td> http://www.foxnews.com/world/2014/06/02/leadin...</td>\n",
        "      <td> MONTEVIDEO Uruguay  The biggest threat to Urug...</td>\n",
        "      <td> 2014-06-02T16:22-04:00</td>\n",
        "      <td> drugs</td>\n",
        "      <td> conservative</td>\n",
        "    </tr>\n",
        "  </tbody>\n",
        "</table>\n",
        "</div>"
       ],
       "metadata": {},
       "output_type": "pyout",
       "prompt_number": 130,
       "text": [
        "  source                                                url  \\\n",
        "0    Fox  http://latino.foxnews.com/latino/politics/2014...   \n",
        "1    Fox  http://latino.foxnews.com/latino/health/2014/1...   \n",
        "2    Fox  http://www.foxnews.com/us/2013/07/22/guide-to-...   \n",
        "3    Fox  http://www.foxnews.com/politics/2014/07/08/ope...   \n",
        "4    Fox  http://www.foxnews.com/world/2014/06/02/leadin...   \n",
        "\n",
        "                                                text            publish_date  \\\n",
        "0  Along with hundreds  maybe even thousands  of ...  2014-10-31T07:00-04:00   \n",
        "1  Miami Oct 28 EFEUSA A week before the midterm ...  2014-10-28T16:21-04:00   \n",
        "2   James Whitey Bulger is on trial in a 32count ...  2013-07-22T02:40-04:00   \n",
        "3   Washington states marijuana industry is now o...  2014-07-08T11:38-04:00   \n",
        "4  MONTEVIDEO Uruguay  The biggest threat to Urug...  2014-06-02T16:22-04:00   \n",
        "\n",
        "  category     political  \n",
        "0    drugs  conservative  \n",
        "1    drugs  conservative  \n",
        "2    drugs  conservative  \n",
        "3    drugs  conservative  \n",
        "4    drugs  conservative  "
       ]
      }
     ],
     "prompt_number": 130
    },
    {
     "cell_type": "code",
     "collapsed": false,
     "input": [
      "pols.shape"
     ],
     "language": "python",
     "metadata": {},
     "outputs": [
      {
       "metadata": {},
       "output_type": "pyout",
       "prompt_number": 131,
       "text": [
        "(407, 6)"
       ]
      }
     ],
     "prompt_number": 131
    },
    {
     "cell_type": "code",
     "collapsed": false,
     "input": [
      "fox.shape"
     ],
     "language": "python",
     "metadata": {},
     "outputs": [
      {
       "metadata": {},
       "output_type": "pyout",
       "prompt_number": 132,
       "text": [
        "(188, 6)"
       ]
      }
     ],
     "prompt_number": 132
    },
    {
     "cell_type": "code",
     "collapsed": false,
     "input": [
      "msnbc.shape"
     ],
     "language": "python",
     "metadata": {},
     "outputs": [
      {
       "metadata": {},
       "output_type": "pyout",
       "prompt_number": 133,
       "text": [
        "(219, 6)"
       ]
      }
     ],
     "prompt_number": 133
    },
    {
     "cell_type": "code",
     "collapsed": false,
     "input": [
      "vec = TfidfVectorizer(stop_words='english', max_features=200)"
     ],
     "language": "python",
     "metadata": {},
     "outputs": [],
     "prompt_number": 134
    },
    {
     "cell_type": "code",
     "collapsed": false,
     "input": [
      "vec.fit_transform(pols['text'].apply(str))"
     ],
     "language": "python",
     "metadata": {},
     "outputs": [
      {
       "metadata": {},
       "output_type": "pyout",
       "prompt_number": 140,
       "text": [
        "<407x200 sparse matrix of type '<type 'numpy.float64'>'\n",
        "\twith 18792 stored elements in Compressed Sparse Row format>"
       ]
      }
     ],
     "prompt_number": 140
    },
    {
     "cell_type": "code",
     "collapsed": false,
     "input": [
      "pols = pols[pols['text'].apply(str).apply(len) > 500]"
     ],
     "language": "python",
     "metadata": {},
     "outputs": [],
     "prompt_number": 146
    },
    {
     "cell_type": "code",
     "collapsed": false,
     "input": [
      "X = vec.fit_transform(pols['text']).toarray()\n",
      "y = pols['political'].values"
     ],
     "language": "python",
     "metadata": {},
     "outputs": [],
     "prompt_number": 147
    },
    {
     "cell_type": "code",
     "collapsed": false,
     "input": [
      "rfc = RandomForestClassifier()\n",
      "rfc.fit(X, y)"
     ],
     "language": "python",
     "metadata": {},
     "outputs": [
      {
       "metadata": {},
       "output_type": "pyout",
       "prompt_number": 148,
       "text": [
        "RandomForestClassifier(bootstrap=True, compute_importances=None,\n",
        "            criterion='gini', max_depth=None, max_features='auto',\n",
        "            min_density=None, min_samples_leaf=1, min_samples_split=2,\n",
        "            n_estimators=10, n_jobs=1, oob_score=False, random_state=None,\n",
        "            verbose=0)"
       ]
      }
     ],
     "prompt_number": 148
    },
    {
     "cell_type": "code",
     "collapsed": false,
     "input": [
      "np.mean(rfc.predict(X) == y)"
     ],
     "language": "python",
     "metadata": {},
     "outputs": [
      {
       "metadata": {},
       "output_type": "pyout",
       "prompt_number": 149,
       "text": [
        "0.99504950495049505"
       ]
      }
     ],
     "prompt_number": 149
    },
    {
     "cell_type": "code",
     "collapsed": false,
     "input": [
      "words = np.array(vec.get_feature_names())\n",
      "words[np.argsort(rfc.feature_importances_)[::-1]]"
     ],
     "language": "python",
     "metadata": {},
     "outputs": [
      {
       "metadata": {},
       "output_type": "pyout",
       "prompt_number": 172,
       "text": [
        "array([u'legal', u'pot', u'said', u'don', u'new', u'americans', u'poll',\n",
        "       u'twitter', u'associated', u'act', u'percent', u'marijuana',\n",
        "       u'discuss', u'grow', u'country', u'general', u'war', u'republicans',\n",
        "       u'majority', u'obama', u'colorado', u'washington', u'past',\n",
        "       u'business', u'officials', u'million', u'says', u'government',\n",
        "       u'legalized', u'control', u'times', u'second', u'administration',\n",
        "       u'expected', u'sales', u'illegal', u'issues', u'house', u'close',\n",
        "       u'buy', u'justice', u'just', u'earlier', u'allow', u'asked',\n",
        "       u'election', u'california', u'criminal', u'14', u'old', u'ballot',\n",
        "       u'passed', u'state', u'think', u'look', u'time', u'patients',\n",
        "       u'make', u'day', u'city', u'follow', u'use', u'did', u'possession',\n",
        "       u'drug', u'small', u'york', u'people', u'way', u'drugs', u'clear',\n",
        "       u'20', u'federal', u'life', u'recently', u'used', u'police',\n",
        "       u'market', u'young', u'news', u'white', u'took', u'right',\n",
        "       u'support', u'laws', u'likely', u'united', u'director', u'tax',\n",
        "       u'legalizing', u'according', u'president', u'attorney', u'number',\n",
        "       u'change', u'legalization', u'despite', u'fact', u'growing',\n",
        "       u'medical', u'year', u'law', u'voters', u'congress', u'states',\n",
        "       u'set', u'public', u'denver', u'making', u'big', u'local', u'world',\n",
        "       u'today', u'believe', u'dont', u'vote', u'american', u'office',\n",
        "       u'told', u'senate', u'debate', u'enforcement', u'health', u'help',\n",
        "       u'going', u'tuesday', u'center', u'press', u'gov', u'open',\n",
        "       u'getting', u'money', u'national', u'able', u'months', u'want',\n",
        "       u'party', u'like', u'week', u'40', u'thursday', u'november',\n",
        "       u'alcohol', u'john', u'years', u'policy', u'department',\n",
        "       u'republican', u'trying', u'know', u'group', u'legalize', u'say',\n",
        "       u'industry', u'dispensaries', u'10', u'including', u'taking',\n",
        "       u'sale', u'need', u'away', u'report', u'come', u'case', u'2012',\n",
        "       u'2014', u'line', u'monday', u'got', u'legislation', u'month',\n",
        "       u'work', u'adults', u'nearly', u'long', u'measures', u'approved',\n",
        "       u'home', u'high', u'crime', u'users', u'court', u'good', u'sell',\n",
        "       u'measure', u'recreational', u'recent', u'really', u'early',\n",
        "       u'cannabis', u'campaign', u'called', u'end', u'far', u'businesses',\n",
        "       u'political', u'point', u'does', u'issue', u'2013'], \n",
        "      dtype='<U14')"
       ]
      }
     ],
     "prompt_number": 172
    },
    {
     "cell_type": "code",
     "collapsed": false,
     "input": [
      "vec.vocabulary_[np.argsort(rfc.feature_importances_)[::-1]]"
     ],
     "language": "python",
     "metadata": {},
     "outputs": [
      {
       "ename": "TypeError",
       "evalue": "unhashable type: 'numpy.ndarray'",
       "output_type": "pyerr",
       "traceback": [
        "\u001b[0;31m---------------------------------------------------------------------------\u001b[0m\n\u001b[0;31mTypeError\u001b[0m                                 Traceback (most recent call last)",
        "\u001b[0;32m<ipython-input-171-0ddf46f18c16>\u001b[0m in \u001b[0;36m<module>\u001b[0;34m()\u001b[0m\n\u001b[0;32m----> 1\u001b[0;31m \u001b[0mvec\u001b[0m\u001b[0;34m.\u001b[0m\u001b[0mvocabulary_\u001b[0m\u001b[0;34m[\u001b[0m\u001b[0mnp\u001b[0m\u001b[0;34m.\u001b[0m\u001b[0margsort\u001b[0m\u001b[0;34m(\u001b[0m\u001b[0mrfc\u001b[0m\u001b[0;34m.\u001b[0m\u001b[0mfeature_importances_\u001b[0m\u001b[0;34m)\u001b[0m\u001b[0;34m[\u001b[0m\u001b[0;34m:\u001b[0m\u001b[0;34m:\u001b[0m\u001b[0;34m-\u001b[0m\u001b[0;36m1\u001b[0m\u001b[0;34m]\u001b[0m\u001b[0;34m]\u001b[0m\u001b[0;34m\u001b[0m\u001b[0m\n\u001b[0m",
        "\u001b[0;31mTypeError\u001b[0m: unhashable type: 'numpy.ndarray'"
       ]
      }
     ],
     "prompt_number": 171
    },
    {
     "cell_type": "code",
     "collapsed": false,
     "input": [
      "cross_val_score(rfc, X, y)"
     ],
     "language": "python",
     "metadata": {},
     "outputs": [
      {
       "ename": "ValueError",
       "evalue": "unknown is not supported",
       "output_type": "pyerr",
       "traceback": [
        "\u001b[0;31m---------------------------------------------------------------------------\u001b[0m\n\u001b[0;31mValueError\u001b[0m                                Traceback (most recent call last)",
        "\u001b[0;32m<ipython-input-150-900d9e92cc7b>\u001b[0m in \u001b[0;36m<module>\u001b[0;34m()\u001b[0m\n\u001b[0;32m----> 1\u001b[0;31m \u001b[0mcross_val_score\u001b[0m\u001b[0;34m(\u001b[0m\u001b[0mrfc\u001b[0m\u001b[0;34m,\u001b[0m \u001b[0mX\u001b[0m\u001b[0;34m,\u001b[0m \u001b[0my\u001b[0m\u001b[0;34m)\u001b[0m\u001b[0;34m\u001b[0m\u001b[0m\n\u001b[0m",
        "\u001b[0;32m/Users/Ted/anaconda/lib/python2.7/site-packages/sklearn/cross_validation.pyc\u001b[0m in \u001b[0;36mcross_val_score\u001b[0;34m(estimator, X, y, scoring, cv, n_jobs, verbose, fit_params, score_func, pre_dispatch)\u001b[0m\n\u001b[1;32m   1150\u001b[0m         delayed(_cross_val_score)(clone(estimator), X, y, scorer, train, test,\n\u001b[1;32m   1151\u001b[0m                                   verbose, fit_params)\n\u001b[0;32m-> 1152\u001b[0;31m         for train, test in cv)\n\u001b[0m\u001b[1;32m   1153\u001b[0m     \u001b[0;32mreturn\u001b[0m \u001b[0mnp\u001b[0m\u001b[0;34m.\u001b[0m\u001b[0marray\u001b[0m\u001b[0;34m(\u001b[0m\u001b[0mscores\u001b[0m\u001b[0;34m)\u001b[0m\u001b[0;34m\u001b[0m\u001b[0m\n\u001b[1;32m   1154\u001b[0m \u001b[0;34m\u001b[0m\u001b[0m\n",
        "\u001b[0;32m/Users/Ted/anaconda/lib/python2.7/site-packages/sklearn/externals/joblib/parallel.pyc\u001b[0m in \u001b[0;36m__call__\u001b[0;34m(self, iterable)\u001b[0m\n\u001b[1;32m    515\u001b[0m         \u001b[0;32mtry\u001b[0m\u001b[0;34m:\u001b[0m\u001b[0;34m\u001b[0m\u001b[0m\n\u001b[1;32m    516\u001b[0m             \u001b[0;32mfor\u001b[0m \u001b[0mfunction\u001b[0m\u001b[0;34m,\u001b[0m \u001b[0margs\u001b[0m\u001b[0;34m,\u001b[0m \u001b[0mkwargs\u001b[0m \u001b[0;32min\u001b[0m \u001b[0miterable\u001b[0m\u001b[0;34m:\u001b[0m\u001b[0;34m\u001b[0m\u001b[0m\n\u001b[0;32m--> 517\u001b[0;31m                 \u001b[0mself\u001b[0m\u001b[0;34m.\u001b[0m\u001b[0mdispatch\u001b[0m\u001b[0;34m(\u001b[0m\u001b[0mfunction\u001b[0m\u001b[0;34m,\u001b[0m \u001b[0margs\u001b[0m\u001b[0;34m,\u001b[0m \u001b[0mkwargs\u001b[0m\u001b[0;34m)\u001b[0m\u001b[0;34m\u001b[0m\u001b[0m\n\u001b[0m\u001b[1;32m    518\u001b[0m \u001b[0;34m\u001b[0m\u001b[0m\n\u001b[1;32m    519\u001b[0m             \u001b[0mself\u001b[0m\u001b[0;34m.\u001b[0m\u001b[0mretrieve\u001b[0m\u001b[0;34m(\u001b[0m\u001b[0;34m)\u001b[0m\u001b[0;34m\u001b[0m\u001b[0m\n",
        "\u001b[0;32m/Users/Ted/anaconda/lib/python2.7/site-packages/sklearn/externals/joblib/parallel.pyc\u001b[0m in \u001b[0;36mdispatch\u001b[0;34m(self, func, args, kwargs)\u001b[0m\n\u001b[1;32m    310\u001b[0m         \"\"\"\n\u001b[1;32m    311\u001b[0m         \u001b[0;32mif\u001b[0m \u001b[0mself\u001b[0m\u001b[0;34m.\u001b[0m\u001b[0m_pool\u001b[0m \u001b[0;32mis\u001b[0m \u001b[0mNone\u001b[0m\u001b[0;34m:\u001b[0m\u001b[0;34m\u001b[0m\u001b[0m\n\u001b[0;32m--> 312\u001b[0;31m             \u001b[0mjob\u001b[0m \u001b[0;34m=\u001b[0m \u001b[0mImmediateApply\u001b[0m\u001b[0;34m(\u001b[0m\u001b[0mfunc\u001b[0m\u001b[0;34m,\u001b[0m \u001b[0margs\u001b[0m\u001b[0;34m,\u001b[0m \u001b[0mkwargs\u001b[0m\u001b[0;34m)\u001b[0m\u001b[0;34m\u001b[0m\u001b[0m\n\u001b[0m\u001b[1;32m    313\u001b[0m             \u001b[0mindex\u001b[0m \u001b[0;34m=\u001b[0m \u001b[0mlen\u001b[0m\u001b[0;34m(\u001b[0m\u001b[0mself\u001b[0m\u001b[0;34m.\u001b[0m\u001b[0m_jobs\u001b[0m\u001b[0;34m)\u001b[0m\u001b[0;34m\u001b[0m\u001b[0m\n\u001b[1;32m    314\u001b[0m             \u001b[0;32mif\u001b[0m \u001b[0;32mnot\u001b[0m \u001b[0m_verbosity_filter\u001b[0m\u001b[0;34m(\u001b[0m\u001b[0mindex\u001b[0m\u001b[0;34m,\u001b[0m \u001b[0mself\u001b[0m\u001b[0;34m.\u001b[0m\u001b[0mverbose\u001b[0m\u001b[0;34m)\u001b[0m\u001b[0;34m:\u001b[0m\u001b[0;34m\u001b[0m\u001b[0m\n",
        "\u001b[0;32m/Users/Ted/anaconda/lib/python2.7/site-packages/sklearn/externals/joblib/parallel.pyc\u001b[0m in \u001b[0;36m__init__\u001b[0;34m(self, func, args, kwargs)\u001b[0m\n\u001b[1;32m    134\u001b[0m         \u001b[0;31m# Don't delay the application, to avoid keeping the input\u001b[0m\u001b[0;34m\u001b[0m\u001b[0;34m\u001b[0m\u001b[0m\n\u001b[1;32m    135\u001b[0m         \u001b[0;31m# arguments in memory\u001b[0m\u001b[0;34m\u001b[0m\u001b[0;34m\u001b[0m\u001b[0m\n\u001b[0;32m--> 136\u001b[0;31m         \u001b[0mself\u001b[0m\u001b[0;34m.\u001b[0m\u001b[0mresults\u001b[0m \u001b[0;34m=\u001b[0m \u001b[0mfunc\u001b[0m\u001b[0;34m(\u001b[0m\u001b[0;34m*\u001b[0m\u001b[0margs\u001b[0m\u001b[0;34m,\u001b[0m \u001b[0;34m**\u001b[0m\u001b[0mkwargs\u001b[0m\u001b[0;34m)\u001b[0m\u001b[0;34m\u001b[0m\u001b[0m\n\u001b[0m\u001b[1;32m    137\u001b[0m \u001b[0;34m\u001b[0m\u001b[0m\n\u001b[1;32m    138\u001b[0m     \u001b[0;32mdef\u001b[0m \u001b[0mget\u001b[0m\u001b[0;34m(\u001b[0m\u001b[0mself\u001b[0m\u001b[0;34m)\u001b[0m\u001b[0;34m:\u001b[0m\u001b[0;34m\u001b[0m\u001b[0m\n",
        "\u001b[0;32m/Users/Ted/anaconda/lib/python2.7/site-packages/sklearn/cross_validation.pyc\u001b[0m in \u001b[0;36m_cross_val_score\u001b[0;34m(estimator, X, y, scorer, train, test, verbose, fit_params)\u001b[0m\n\u001b[1;32m   1060\u001b[0m     \u001b[0mestimator\u001b[0m\u001b[0;34m.\u001b[0m\u001b[0mfit\u001b[0m\u001b[0;34m(\u001b[0m\u001b[0mX_train\u001b[0m\u001b[0;34m,\u001b[0m \u001b[0my_train\u001b[0m\u001b[0;34m,\u001b[0m \u001b[0;34m**\u001b[0m\u001b[0mfit_params\u001b[0m\u001b[0;34m)\u001b[0m\u001b[0;34m\u001b[0m\u001b[0m\n\u001b[1;32m   1061\u001b[0m     \u001b[0;32mif\u001b[0m \u001b[0mscorer\u001b[0m \u001b[0;32mis\u001b[0m \u001b[0mNone\u001b[0m\u001b[0;34m:\u001b[0m\u001b[0;34m\u001b[0m\u001b[0m\n\u001b[0;32m-> 1062\u001b[0;31m         \u001b[0mscore\u001b[0m \u001b[0;34m=\u001b[0m \u001b[0mestimator\u001b[0m\u001b[0;34m.\u001b[0m\u001b[0mscore\u001b[0m\u001b[0;34m(\u001b[0m\u001b[0mX_test\u001b[0m\u001b[0;34m,\u001b[0m \u001b[0my_test\u001b[0m\u001b[0;34m)\u001b[0m\u001b[0;34m\u001b[0m\u001b[0m\n\u001b[0m\u001b[1;32m   1063\u001b[0m     \u001b[0;32melse\u001b[0m\u001b[0;34m:\u001b[0m\u001b[0;34m\u001b[0m\u001b[0m\n\u001b[1;32m   1064\u001b[0m         \u001b[0mscore\u001b[0m \u001b[0;34m=\u001b[0m \u001b[0mscorer\u001b[0m\u001b[0;34m(\u001b[0m\u001b[0mestimator\u001b[0m\u001b[0;34m,\u001b[0m \u001b[0mX_test\u001b[0m\u001b[0;34m,\u001b[0m \u001b[0my_test\u001b[0m\u001b[0;34m)\u001b[0m\u001b[0;34m\u001b[0m\u001b[0m\n",
        "\u001b[0;32m/Users/Ted/anaconda/lib/python2.7/site-packages/sklearn/base.pyc\u001b[0m in \u001b[0;36mscore\u001b[0;34m(self, X, y)\u001b[0m\n\u001b[1;32m    292\u001b[0m         \"\"\"\n\u001b[1;32m    293\u001b[0m         \u001b[0;32mfrom\u001b[0m \u001b[0;34m.\u001b[0m\u001b[0mmetrics\u001b[0m \u001b[0;32mimport\u001b[0m \u001b[0maccuracy_score\u001b[0m\u001b[0;34m\u001b[0m\u001b[0m\n\u001b[0;32m--> 294\u001b[0;31m         \u001b[0;32mreturn\u001b[0m \u001b[0maccuracy_score\u001b[0m\u001b[0;34m(\u001b[0m\u001b[0my\u001b[0m\u001b[0;34m,\u001b[0m \u001b[0mself\u001b[0m\u001b[0;34m.\u001b[0m\u001b[0mpredict\u001b[0m\u001b[0;34m(\u001b[0m\u001b[0mX\u001b[0m\u001b[0;34m)\u001b[0m\u001b[0;34m)\u001b[0m\u001b[0;34m\u001b[0m\u001b[0m\n\u001b[0m\u001b[1;32m    295\u001b[0m \u001b[0;34m\u001b[0m\u001b[0m\n\u001b[1;32m    296\u001b[0m \u001b[0;34m\u001b[0m\u001b[0m\n",
        "\u001b[0;32m/Users/Ted/anaconda/lib/python2.7/site-packages/sklearn/metrics/metrics.pyc\u001b[0m in \u001b[0;36maccuracy_score\u001b[0;34m(y_true, y_pred, normalize)\u001b[0m\n\u001b[1;32m   1062\u001b[0m \u001b[0;34m\u001b[0m\u001b[0m\n\u001b[1;32m   1063\u001b[0m     \u001b[0;31m# Compute accuracy for each possible representation\u001b[0m\u001b[0;34m\u001b[0m\u001b[0;34m\u001b[0m\u001b[0m\n\u001b[0;32m-> 1064\u001b[0;31m     \u001b[0my_type\u001b[0m\u001b[0;34m,\u001b[0m \u001b[0my_true\u001b[0m\u001b[0;34m,\u001b[0m \u001b[0my_pred\u001b[0m \u001b[0;34m=\u001b[0m \u001b[0m_check_clf_targets\u001b[0m\u001b[0;34m(\u001b[0m\u001b[0my_true\u001b[0m\u001b[0;34m,\u001b[0m \u001b[0my_pred\u001b[0m\u001b[0;34m)\u001b[0m\u001b[0;34m\u001b[0m\u001b[0m\n\u001b[0m\u001b[1;32m   1065\u001b[0m     \u001b[0;32mif\u001b[0m \u001b[0my_type\u001b[0m \u001b[0;34m==\u001b[0m \u001b[0;34m'multilabel-indicator'\u001b[0m\u001b[0;34m:\u001b[0m\u001b[0;34m\u001b[0m\u001b[0m\n\u001b[1;32m   1066\u001b[0m         \u001b[0mscore\u001b[0m \u001b[0;34m=\u001b[0m \u001b[0;34m(\u001b[0m\u001b[0my_pred\u001b[0m \u001b[0;34m!=\u001b[0m \u001b[0my_true\u001b[0m\u001b[0;34m)\u001b[0m\u001b[0;34m.\u001b[0m\u001b[0msum\u001b[0m\u001b[0;34m(\u001b[0m\u001b[0maxis\u001b[0m\u001b[0;34m=\u001b[0m\u001b[0;36m1\u001b[0m\u001b[0;34m)\u001b[0m \u001b[0;34m==\u001b[0m \u001b[0;36m0\u001b[0m\u001b[0;34m\u001b[0m\u001b[0m\n",
        "\u001b[0;32m/Users/Ted/anaconda/lib/python2.7/site-packages/sklearn/metrics/metrics.pyc\u001b[0m in \u001b[0;36m_check_clf_targets\u001b[0;34m(y_true, y_pred)\u001b[0m\n\u001b[1;32m    121\u001b[0m     if (y_type not in [\"binary\", \"multiclass\", \"multilabel-indicator\",\n\u001b[1;32m    122\u001b[0m                        \"multilabel-sequences\"]):\n\u001b[0;32m--> 123\u001b[0;31m         \u001b[0;32mraise\u001b[0m \u001b[0mValueError\u001b[0m\u001b[0;34m(\u001b[0m\u001b[0;34m\"{0} is not supported\"\u001b[0m\u001b[0;34m.\u001b[0m\u001b[0mformat\u001b[0m\u001b[0;34m(\u001b[0m\u001b[0my_type\u001b[0m\u001b[0;34m)\u001b[0m\u001b[0;34m)\u001b[0m\u001b[0;34m\u001b[0m\u001b[0m\n\u001b[0m\u001b[1;32m    124\u001b[0m \u001b[0;34m\u001b[0m\u001b[0m\n\u001b[1;32m    125\u001b[0m     \u001b[0;32mif\u001b[0m \u001b[0my_type\u001b[0m \u001b[0;32min\u001b[0m \u001b[0;34m[\u001b[0m\u001b[0;34m\"binary\"\u001b[0m\u001b[0;34m,\u001b[0m \u001b[0;34m\"multiclass\"\u001b[0m\u001b[0;34m]\u001b[0m\u001b[0;34m:\u001b[0m\u001b[0;34m\u001b[0m\u001b[0m\n",
        "\u001b[0;31mValueError\u001b[0m: unknown is not supported"
       ]
      }
     ],
     "prompt_number": 150
    },
    {
     "cell_type": "code",
     "collapsed": false,
     "input": [
      "type(y)"
     ],
     "language": "python",
     "metadata": {},
     "outputs": [
      {
       "metadata": {},
       "output_type": "pyout",
       "prompt_number": 101,
       "text": [
        "numpy.ndarray"
       ]
      }
     ],
     "prompt_number": 101
    },
    {
     "cell_type": "code",
     "collapsed": false,
     "input": [
      "X_npr = vec.transform(npr['text']).toarray()"
     ],
     "language": "python",
     "metadata": {},
     "outputs": [],
     "prompt_number": 115
    },
    {
     "cell_type": "code",
     "collapsed": false,
     "input": [
      "npr['url'][rfc.predict(X_npr) == 'liberal'].values"
     ],
     "language": "python",
     "metadata": {},
     "outputs": [
      {
       "metadata": {},
       "output_type": "pyout",
       "prompt_number": 123,
       "text": [
        "array([ 'http://www.npr.org/blogs/thetwo-way/2014/06/25/325497536/high-court-says-police-need-a-warrant-for-most-cellphone-searches?ft=3&f=',\n",
        "       'http://www.npr.org/blogs/thetwo-way/2013/10/22/239847117/poll-support-for-legalizing-pot-surges-in-past-year?ft=3&f=',\n",
        "       'http://www.npr.org/blogs/thetwo-way/2013/04/04/176259100/pew-majority-of-americans-now-favor-legalizing-marijuana?ft=3&f=',\n",
        "       'http://www.npr.org/2011/07/12/137791944/obama-cracks-down-on-medical-marijuana?ft=3&f=',\n",
        "       'http://www.npr.org/blogs/politics/2008/08/mccain_picks_palin_as_veep.html?ft=3&f=',\n",
        "       'http://www.npr.org/blogs/talk/2008/03/whos_experienced.html?ft=3&f=',\n",
        "       'http://www.npr.org/blogs/talk/2007/07/addicted_to_addiction.html?ft=3&f=',\n",
        "       'http://www.npr.org/blogs/talk/2007/03/border_stories_1.html?ft=3&f='], dtype=object)"
       ]
      }
     ],
     "prompt_number": 123
    },
    {
     "cell_type": "code",
     "collapsed": false,
     "input": [
      "npr['url'][3]"
     ],
     "language": "python",
     "metadata": {},
     "outputs": [
      {
       "metadata": {},
       "output_type": "pyout",
       "prompt_number": 119,
       "text": [
        "'http://www.npr.org/blogs/thetwo-way/2014/06/25/325497536/high-court-says-police-need-a-warrant-for-most-cellphone-searches?ft=3&f='"
       ]
      }
     ],
     "prompt_number": 119
    },
    {
     "cell_type": "code",
     "collapsed": false,
     "input": [
      "m = pd.read_csv('data/msnbc_drug_data.csv')\n",
      "m['url'][162]"
     ],
     "language": "python",
     "metadata": {},
     "outputs": [
      {
       "metadata": {},
       "output_type": "pyout",
       "prompt_number": 125,
       "text": [
        "'http://www.msnbc.com/the-last-word/mitch-mcconnell-rand-paul-team-hemp-le'"
       ]
      }
     ],
     "prompt_number": 125
    },
    {
     "cell_type": "code",
     "collapsed": false,
     "input": [
      "npr_drug = pd.read_csv('data/npr_drug_data.csv')\n",
      "fox_drug = pd.read_csv('data/fox_drug_data.csv')\n",
      "nyt_drug = pd.read_csv('data/nyt_drug_data.csv')\n",
      "msnbc_drug = pd.read_csv('data/msnbc_drug_data.csv')"
     ],
     "language": "python",
     "metadata": {},
     "outputs": [],
     "prompt_number": 186
    },
    {
     "cell_type": "code",
     "collapsed": false,
     "input": [
      "npr_abortion = pd.read_csv('data/npr_abortion_data.csv')\n",
      "fox_abortion = pd.read_csv('data/fox_abortion_data.csv')\n",
      "nyt_abortion = pd.read_csv('data/nyt_abortion_data.csv')\n",
      "msnbc_abortion = pd.read_csv('data/msnbc_abortion_data.csv')"
     ],
     "language": "python",
     "metadata": {},
     "outputs": [
      {
       "ename": "ValueError",
       "evalue": "No columns to parse from file",
       "output_type": "pyerr",
       "traceback": [
        "\u001b[0;31m---------------------------------------------------------------------------\u001b[0m\n\u001b[0;31mValueError\u001b[0m                                Traceback (most recent call last)",
        "\u001b[0;32m<ipython-input-297-556ed8728d00>\u001b[0m in \u001b[0;36m<module>\u001b[0;34m()\u001b[0m\n\u001b[1;32m      1\u001b[0m \u001b[0mnpr_abortion\u001b[0m \u001b[0;34m=\u001b[0m \u001b[0mpd\u001b[0m\u001b[0;34m.\u001b[0m\u001b[0mread_csv\u001b[0m\u001b[0;34m(\u001b[0m\u001b[0;34m'data/npr_abortion_data.csv'\u001b[0m\u001b[0;34m)\u001b[0m\u001b[0;34m\u001b[0m\u001b[0m\n\u001b[1;32m      2\u001b[0m \u001b[0mfox_abortion\u001b[0m \u001b[0;34m=\u001b[0m \u001b[0mpd\u001b[0m\u001b[0;34m.\u001b[0m\u001b[0mread_csv\u001b[0m\u001b[0;34m(\u001b[0m\u001b[0;34m'data/fox_abortion_data.csv'\u001b[0m\u001b[0;34m)\u001b[0m\u001b[0;34m\u001b[0m\u001b[0m\n\u001b[0;32m----> 3\u001b[0;31m \u001b[0mnyt_abortion\u001b[0m \u001b[0;34m=\u001b[0m \u001b[0mpd\u001b[0m\u001b[0;34m.\u001b[0m\u001b[0mread_csv\u001b[0m\u001b[0;34m(\u001b[0m\u001b[0;34m'data/nyt_abortion_data.csv'\u001b[0m\u001b[0;34m)\u001b[0m\u001b[0;34m\u001b[0m\u001b[0m\n\u001b[0m\u001b[1;32m      4\u001b[0m \u001b[0mmsnbc_abortion\u001b[0m \u001b[0;34m=\u001b[0m \u001b[0mpd\u001b[0m\u001b[0;34m.\u001b[0m\u001b[0mread_csv\u001b[0m\u001b[0;34m(\u001b[0m\u001b[0;34m'data/msnbc_abortion_data.csv'\u001b[0m\u001b[0;34m)\u001b[0m\u001b[0;34m\u001b[0m\u001b[0m\n",
        "\u001b[0;32m/Users/Ted/anaconda/lib/python2.7/site-packages/pandas/io/parsers.pyc\u001b[0m in \u001b[0;36mparser_f\u001b[0;34m(filepath_or_buffer, sep, dialect, compression, doublequote, escapechar, quotechar, quoting, skipinitialspace, lineterminator, header, index_col, names, prefix, skiprows, skipfooter, skip_footer, na_values, na_fvalues, true_values, false_values, delimiter, converters, dtype, usecols, engine, delim_whitespace, as_recarray, na_filter, compact_ints, use_unsigned, low_memory, buffer_lines, warn_bad_lines, error_bad_lines, keep_default_na, thousands, comment, decimal, parse_dates, keep_date_col, dayfirst, date_parser, memory_map, nrows, iterator, chunksize, verbose, encoding, squeeze, mangle_dupe_cols, tupleize_cols, infer_datetime_format)\u001b[0m\n\u001b[1;32m    441\u001b[0m                     infer_datetime_format=infer_datetime_format)\n\u001b[1;32m    442\u001b[0m \u001b[0;34m\u001b[0m\u001b[0m\n\u001b[0;32m--> 443\u001b[0;31m         \u001b[0;32mreturn\u001b[0m \u001b[0m_read\u001b[0m\u001b[0;34m(\u001b[0m\u001b[0mfilepath_or_buffer\u001b[0m\u001b[0;34m,\u001b[0m \u001b[0mkwds\u001b[0m\u001b[0;34m)\u001b[0m\u001b[0;34m\u001b[0m\u001b[0m\n\u001b[0m\u001b[1;32m    444\u001b[0m \u001b[0;34m\u001b[0m\u001b[0m\n\u001b[1;32m    445\u001b[0m     \u001b[0mparser_f\u001b[0m\u001b[0;34m.\u001b[0m\u001b[0m__name__\u001b[0m \u001b[0;34m=\u001b[0m \u001b[0mname\u001b[0m\u001b[0;34m\u001b[0m\u001b[0m\n",
        "\u001b[0;32m/Users/Ted/anaconda/lib/python2.7/site-packages/pandas/io/parsers.pyc\u001b[0m in \u001b[0;36m_read\u001b[0;34m(filepath_or_buffer, kwds)\u001b[0m\n\u001b[1;32m    226\u001b[0m \u001b[0;34m\u001b[0m\u001b[0m\n\u001b[1;32m    227\u001b[0m     \u001b[0;31m# Create the parser.\u001b[0m\u001b[0;34m\u001b[0m\u001b[0;34m\u001b[0m\u001b[0m\n\u001b[0;32m--> 228\u001b[0;31m     \u001b[0mparser\u001b[0m \u001b[0;34m=\u001b[0m \u001b[0mTextFileReader\u001b[0m\u001b[0;34m(\u001b[0m\u001b[0mfilepath_or_buffer\u001b[0m\u001b[0;34m,\u001b[0m \u001b[0;34m**\u001b[0m\u001b[0mkwds\u001b[0m\u001b[0;34m)\u001b[0m\u001b[0;34m\u001b[0m\u001b[0m\n\u001b[0m\u001b[1;32m    229\u001b[0m \u001b[0;34m\u001b[0m\u001b[0m\n\u001b[1;32m    230\u001b[0m     \u001b[0;32mif\u001b[0m \u001b[0mnrows\u001b[0m \u001b[0;32mis\u001b[0m \u001b[0;32mnot\u001b[0m \u001b[0mNone\u001b[0m\u001b[0;34m:\u001b[0m\u001b[0;34m\u001b[0m\u001b[0m\n",
        "\u001b[0;32m/Users/Ted/anaconda/lib/python2.7/site-packages/pandas/io/parsers.pyc\u001b[0m in \u001b[0;36m__init__\u001b[0;34m(self, f, engine, **kwds)\u001b[0m\n\u001b[1;32m    531\u001b[0m             \u001b[0mself\u001b[0m\u001b[0;34m.\u001b[0m\u001b[0moptions\u001b[0m\u001b[0;34m[\u001b[0m\u001b[0;34m'has_index_names'\u001b[0m\u001b[0;34m]\u001b[0m \u001b[0;34m=\u001b[0m \u001b[0mkwds\u001b[0m\u001b[0;34m[\u001b[0m\u001b[0;34m'has_index_names'\u001b[0m\u001b[0;34m]\u001b[0m\u001b[0;34m\u001b[0m\u001b[0m\n\u001b[1;32m    532\u001b[0m \u001b[0;34m\u001b[0m\u001b[0m\n\u001b[0;32m--> 533\u001b[0;31m         \u001b[0mself\u001b[0m\u001b[0;34m.\u001b[0m\u001b[0m_make_engine\u001b[0m\u001b[0;34m(\u001b[0m\u001b[0mself\u001b[0m\u001b[0;34m.\u001b[0m\u001b[0mengine\u001b[0m\u001b[0;34m)\u001b[0m\u001b[0;34m\u001b[0m\u001b[0m\n\u001b[0m\u001b[1;32m    534\u001b[0m \u001b[0;34m\u001b[0m\u001b[0m\n\u001b[1;32m    535\u001b[0m     \u001b[0;32mdef\u001b[0m \u001b[0m_get_options_with_defaults\u001b[0m\u001b[0;34m(\u001b[0m\u001b[0mself\u001b[0m\u001b[0;34m,\u001b[0m \u001b[0mengine\u001b[0m\u001b[0;34m)\u001b[0m\u001b[0;34m:\u001b[0m\u001b[0;34m\u001b[0m\u001b[0m\n",
        "\u001b[0;32m/Users/Ted/anaconda/lib/python2.7/site-packages/pandas/io/parsers.pyc\u001b[0m in \u001b[0;36m_make_engine\u001b[0;34m(self, engine)\u001b[0m\n\u001b[1;32m    668\u001b[0m     \u001b[0;32mdef\u001b[0m \u001b[0m_make_engine\u001b[0m\u001b[0;34m(\u001b[0m\u001b[0mself\u001b[0m\u001b[0;34m,\u001b[0m \u001b[0mengine\u001b[0m\u001b[0;34m=\u001b[0m\u001b[0;34m'c'\u001b[0m\u001b[0;34m)\u001b[0m\u001b[0;34m:\u001b[0m\u001b[0;34m\u001b[0m\u001b[0m\n\u001b[1;32m    669\u001b[0m         \u001b[0;32mif\u001b[0m \u001b[0mengine\u001b[0m \u001b[0;34m==\u001b[0m \u001b[0;34m'c'\u001b[0m\u001b[0;34m:\u001b[0m\u001b[0;34m\u001b[0m\u001b[0m\n\u001b[0;32m--> 670\u001b[0;31m             \u001b[0mself\u001b[0m\u001b[0;34m.\u001b[0m\u001b[0m_engine\u001b[0m \u001b[0;34m=\u001b[0m \u001b[0mCParserWrapper\u001b[0m\u001b[0;34m(\u001b[0m\u001b[0mself\u001b[0m\u001b[0;34m.\u001b[0m\u001b[0mf\u001b[0m\u001b[0;34m,\u001b[0m \u001b[0;34m**\u001b[0m\u001b[0mself\u001b[0m\u001b[0;34m.\u001b[0m\u001b[0moptions\u001b[0m\u001b[0;34m)\u001b[0m\u001b[0;34m\u001b[0m\u001b[0m\n\u001b[0m\u001b[1;32m    671\u001b[0m         \u001b[0;32melse\u001b[0m\u001b[0;34m:\u001b[0m\u001b[0;34m\u001b[0m\u001b[0m\n\u001b[1;32m    672\u001b[0m             \u001b[0;32mif\u001b[0m \u001b[0mengine\u001b[0m \u001b[0;34m==\u001b[0m \u001b[0;34m'python'\u001b[0m\u001b[0;34m:\u001b[0m\u001b[0;34m\u001b[0m\u001b[0m\n",
        "\u001b[0;32m/Users/Ted/anaconda/lib/python2.7/site-packages/pandas/io/parsers.pyc\u001b[0m in \u001b[0;36m__init__\u001b[0;34m(self, src, **kwds)\u001b[0m\n\u001b[1;32m   1030\u001b[0m         \u001b[0mkwds\u001b[0m\u001b[0;34m[\u001b[0m\u001b[0;34m'allow_leading_cols'\u001b[0m\u001b[0;34m]\u001b[0m \u001b[0;34m=\u001b[0m \u001b[0mself\u001b[0m\u001b[0;34m.\u001b[0m\u001b[0mindex_col\u001b[0m \u001b[0;32mis\u001b[0m \u001b[0;32mnot\u001b[0m \u001b[0mFalse\u001b[0m\u001b[0;34m\u001b[0m\u001b[0m\n\u001b[1;32m   1031\u001b[0m \u001b[0;34m\u001b[0m\u001b[0m\n\u001b[0;32m-> 1032\u001b[0;31m         \u001b[0mself\u001b[0m\u001b[0;34m.\u001b[0m\u001b[0m_reader\u001b[0m \u001b[0;34m=\u001b[0m \u001b[0m_parser\u001b[0m\u001b[0;34m.\u001b[0m\u001b[0mTextReader\u001b[0m\u001b[0;34m(\u001b[0m\u001b[0msrc\u001b[0m\u001b[0;34m,\u001b[0m \u001b[0;34m**\u001b[0m\u001b[0mkwds\u001b[0m\u001b[0;34m)\u001b[0m\u001b[0;34m\u001b[0m\u001b[0m\n\u001b[0m\u001b[1;32m   1033\u001b[0m \u001b[0;34m\u001b[0m\u001b[0m\n\u001b[1;32m   1034\u001b[0m         \u001b[0;31m# XXX\u001b[0m\u001b[0;34m\u001b[0m\u001b[0;34m\u001b[0m\u001b[0m\n",
        "\u001b[0;32m/Users/Ted/anaconda/lib/python2.7/site-packages/pandas/parser.so\u001b[0m in \u001b[0;36mpandas.parser.TextReader.__cinit__ (pandas/parser.c:4711)\u001b[0;34m()\u001b[0m\n",
        "\u001b[0;31mValueError\u001b[0m: No columns to parse from file"
       ]
      }
     ],
     "prompt_number": 297
    },
    {
     "cell_type": "code",
     "collapsed": false,
     "input": [
      "from alchemyapi import AlchemyAPI\n",
      "alchemyapi = AlchemyAPI()"
     ],
     "language": "python",
     "metadata": {},
     "outputs": [],
     "prompt_number": 177
    },
    {
     "cell_type": "code",
     "collapsed": false,
     "input": [
      "a = alchemyapi.sentiment('url', npr_abortion['url'][0])"
     ],
     "language": "python",
     "metadata": {},
     "outputs": [],
     "prompt_number": 180
    },
    {
     "cell_type": "code",
     "collapsed": false,
     "input": [
      "a['docSentiment']['score']"
     ],
     "language": "python",
     "metadata": {},
     "outputs": [
      {
       "metadata": {},
       "output_type": "pyout",
       "prompt_number": 184,
       "text": [
        "u'-0.355279'"
       ]
      }
     ],
     "prompt_number": 184
    },
    {
     "cell_type": "code",
     "collapsed": false,
     "input": [
      "all_data = pd.concat([npr_drug, fox_drug, nyt_drug, msnbc_drug, npr_abortion, fox_abortion, nyt_abortion, msnbc_abortion])"
     ],
     "language": "python",
     "metadata": {},
     "outputs": [],
     "prompt_number": 190
    },
    {
     "cell_type": "code",
     "collapsed": false,
     "input": [
      "all_data.groupby(['source', 'category'])['url'].count()"
     ],
     "language": "python",
     "metadata": {},
     "outputs": [
      {
       "metadata": {},
       "output_type": "pyout",
       "prompt_number": 193,
       "text": [
        "source  category\n",
        "Fox     abortion     19\n",
        "        drugs       378\n",
        "MSNBC   abortion     10\n",
        "        drugs       216\n",
        "NPR     abortion     15\n",
        "        drugs       497\n",
        "NYT     abortion     42\n",
        "        drugs       961\n",
        "Name: url, dtype: int64"
       ]
      }
     ],
     "prompt_number": 193
    },
    {
     "cell_type": "code",
     "collapsed": false,
     "input": [
      "base = \"http://api.nytimes.com/svc/search/v2/articlesearch.json\"\n",
      "key = \"06085d751562b32ec4929cc0537bf9cc:8:69947278\""
     ],
     "language": "python",
     "metadata": {},
     "outputs": [],
     "prompt_number": 194
    },
    {
     "cell_type": "code",
     "collapsed": false,
     "input": [
      "params = {'api-key' : key, 'page' : 150, 'begin_date' : '19900101', 'end_date' : '20000101', 'q' : 'abortion' }\n",
      "req = requests.get(base, params=params)\n",
      "j = req.json()"
     ],
     "language": "python",
     "metadata": {},
     "outputs": [],
     "prompt_number": 258
    },
    {
     "cell_type": "code",
     "collapsed": false,
     "input": [
      "j['status']"
     ],
     "language": "python",
     "metadata": {},
     "outputs": [
      {
       "metadata": {},
       "output_type": "pyout",
       "prompt_number": 263,
       "text": [
        "u'ERROR'"
       ]
      }
     ],
     "prompt_number": 263
    },
    {
     "cell_type": "code",
     "collapsed": false,
     "input": [
      "j['response']['docs'][0]['web_url']"
     ],
     "language": "python",
     "metadata": {},
     "outputs": [
      {
       "metadata": {},
       "output_type": "pyout",
       "prompt_number": 257,
       "text": [
        "u'http://www.nytimes.com/1999/12/21/opinion/a-handshake-refused.html'"
       ]
      }
     ],
     "prompt_number": 257
    },
    {
     "cell_type": "code",
     "collapsed": false,
     "input": [
      "from dateutil import parser\n",
      "key = \"06085d751562b32ec4929cc0537bf9cc:8:69947278\"\n",
      "url = 'http://api.nytimes.com/svc/search/v2/articlesearch.json?sort=newest&api-key=' + api_key + '&q=marijuana'\n",
      "api = requests.get(url)\n",
      "total_articles = articles_left = api.json()['response']['meta']['hits']\n",
      "\n",
      "\n",
      "max_pages = 10000\n",
      "page = 0\n",
      "final_page = 0\n",
      "page_count = 0\n",
      "cursor_count = 0\n",
      "articles_left = total_articles\n",
      "last_date = \"20141105\"\n",
      "latest_article = last_date\n",
      "\n",
      "\n",
      "full_article = []\n",
      "links = []\n",
      "pub_dates = []\n",
      "# let us loop (and hopefully not hit our rate limit)\n",
      "while articles_left > 0 and page_count < max_pages and latest_article >= \"20141001\":\n",
      "    more_articles = requests.get(url + \"&page=\" + str(page) + \"&end_date=\" + str(last_date))\n",
      "    print \"Inserting page \" + str(page), latest_article\n",
      "    # make sure it was successful\n",
      "    if more_articles.status_code == 200:\n",
      "        for content in more_articles.json()['response']['docs']:\n",
      "            latest_article = parser.parse(content['pub_date']).strftime(\"%Y%m%d\")\n",
      "            pub_dates.append(latest_article)\n",
      "            links.append(content.get('web_url', ''))\n",
      "        articles_left -= 10\n",
      "        page += 1\n",
      "        page_count += 1\n",
      "        cursor_count += 1\n",
      "        final_page = max(final_page, page)\n",
      "    else:\n",
      "        if more_articles.status_code == 403:\n",
      "            print \"Sleepy...\"\n",
      "            # account for rate limiting\n",
      "            time.sleep(2)\n",
      "        elif cursor_count > 100:\n",
      "            print \"Adjusting date\"\n",
      "            cursor_count = 0\n",
      "            page = 0\n",
      "            last_date = latest_article\n",
      "        else:\n",
      "            print \"ERRORS: \" + str(more_articles.status_code)\n",
      "            cursor_count = 0\n",
      "            page = 0\n",
      "            last_date = latest_article"
     ],
     "language": "python",
     "metadata": {},
     "outputs": [
      {
       "output_type": "stream",
       "stream": "stdout",
       "text": [
        "Inserting page 0 20141105\n",
        "Inserting page 1"
       ]
      },
      {
       "output_type": "stream",
       "stream": "stdout",
       "text": [
        " 20141105\n",
        "Inserting page 2"
       ]
      },
      {
       "output_type": "stream",
       "stream": "stdout",
       "text": [
        " 20141105\n",
        "Inserting page 3"
       ]
      },
      {
       "output_type": "stream",
       "stream": "stdout",
       "text": [
        " 20141104\n",
        "Inserting page 4"
       ]
      },
      {
       "output_type": "stream",
       "stream": "stdout",
       "text": [
        " 20141104\n",
        "Inserting page 5"
       ]
      },
      {
       "output_type": "stream",
       "stream": "stdout",
       "text": [
        " 20141103\n",
        "Inserting page 6"
       ]
      },
      {
       "output_type": "stream",
       "stream": "stdout",
       "text": [
        " 20141102\n",
        "Inserting page 7"
       ]
      },
      {
       "output_type": "stream",
       "stream": "stdout",
       "text": [
        " 20141031\n",
        "Inserting page 8"
       ]
      },
      {
       "output_type": "stream",
       "stream": "stdout",
       "text": [
        " 20141029\n",
        "Inserting page 9"
       ]
      },
      {
       "output_type": "stream",
       "stream": "stdout",
       "text": [
        " 20141028\n",
        "Inserting page 10"
       ]
      },
      {
       "output_type": "stream",
       "stream": "stdout",
       "text": [
        " 20141027\n",
        "Inserting page 11"
       ]
      },
      {
       "output_type": "stream",
       "stream": "stdout",
       "text": [
        " 20141026\n",
        "Inserting page 12"
       ]
      },
      {
       "output_type": "stream",
       "stream": "stdout",
       "text": [
        " 20141024\n",
        "Inserting page 13"
       ]
      },
      {
       "output_type": "stream",
       "stream": "stdout",
       "text": [
        " 20141024\n",
        "Inserting page 14"
       ]
      },
      {
       "output_type": "stream",
       "stream": "stdout",
       "text": [
        " 20141023\n",
        "Inserting page 15"
       ]
      },
      {
       "output_type": "stream",
       "stream": "stdout",
       "text": [
        " 20141022\n",
        "Inserting page 16"
       ]
      },
      {
       "output_type": "stream",
       "stream": "stdout",
       "text": [
        " 20141021\n",
        "Inserting page 17"
       ]
      },
      {
       "output_type": "stream",
       "stream": "stdout",
       "text": [
        " 20141020\n",
        "Inserting page 18"
       ]
      },
      {
       "output_type": "stream",
       "stream": "stdout",
       "text": [
        " 20141017\n",
        "Inserting page 19"
       ]
      },
      {
       "output_type": "stream",
       "stream": "stdout",
       "text": [
        " 20141016\n",
        "Inserting page 20"
       ]
      },
      {
       "output_type": "stream",
       "stream": "stdout",
       "text": [
        " 20141015\n",
        "Inserting page 21"
       ]
      },
      {
       "output_type": "stream",
       "stream": "stdout",
       "text": [
        " 20141014\n",
        "Inserting page 22"
       ]
      },
      {
       "output_type": "stream",
       "stream": "stdout",
       "text": [
        " 20141012\n",
        "Inserting page 23"
       ]
      },
      {
       "output_type": "stream",
       "stream": "stdout",
       "text": [
        " 20141010\n",
        "Inserting page 24"
       ]
      },
      {
       "output_type": "stream",
       "stream": "stdout",
       "text": [
        " 20141009\n",
        "Inserting page 25"
       ]
      },
      {
       "output_type": "stream",
       "stream": "stdout",
       "text": [
        " 20141007\n",
        "Inserting page 26"
       ]
      },
      {
       "output_type": "stream",
       "stream": "stdout",
       "text": [
        " 20141006\n",
        "Inserting page 27"
       ]
      },
      {
       "output_type": "stream",
       "stream": "stdout",
       "text": [
        " 20141003\n",
        "Inserting page 28"
       ]
      },
      {
       "output_type": "stream",
       "stream": "stdout",
       "text": [
        " 20141001\n"
       ]
      }
     ],
     "prompt_number": 280
    },
    {
     "cell_type": "code",
     "collapsed": false,
     "input": [
      "5123 % 4"
     ],
     "language": "python",
     "metadata": {},
     "outputs": [
      {
       "metadata": {},
       "output_type": "pyout",
       "prompt_number": 285,
       "text": [
        "3"
       ]
      }
     ],
     "prompt_number": 285
    },
    {
     "cell_type": "code",
     "collapsed": false,
     "input": [
      "try:\n",
      "    req = requests.get('asdfsad')\n",
      "except Exception as exception:\n",
      "    name_of_exception = exception.__class__.__name__\n",
      "    print name_of_exception"
     ],
     "language": "python",
     "metadata": {},
     "outputs": [
      {
       "output_type": "stream",
       "stream": "stdout",
       "text": [
        "MissingSchema\n"
       ]
      }
     ],
     "prompt_number": 294
    },
    {
     "cell_type": "code",
     "collapsed": false,
     "input": [
      "req = requests.get('asdfsad')"
     ],
     "language": "python",
     "metadata": {},
     "outputs": [
      {
       "ename": "MissingSchema",
       "evalue": "Invalid URL u'asdfsad': No schema supplied. Perhaps you meant http://asdfsad?",
       "output_type": "pyerr",
       "traceback": [
        "\u001b[0;31m---------------------------------------------------------------------------\u001b[0m\n\u001b[0;31mMissingSchema\u001b[0m                             Traceback (most recent call last)",
        "\u001b[0;32m<ipython-input-291-9051310107e1>\u001b[0m in \u001b[0;36m<module>\u001b[0;34m()\u001b[0m\n\u001b[0;32m----> 1\u001b[0;31m \u001b[0mreq\u001b[0m \u001b[0;34m=\u001b[0m \u001b[0mrequests\u001b[0m\u001b[0;34m.\u001b[0m\u001b[0mget\u001b[0m\u001b[0;34m(\u001b[0m\u001b[0;34m'asdfsad'\u001b[0m\u001b[0;34m)\u001b[0m\u001b[0;34m\u001b[0m\u001b[0m\n\u001b[0m",
        "\u001b[0;32m/Users/Ted/anaconda/lib/python2.7/site-packages/requests/api.pyc\u001b[0m in \u001b[0;36mget\u001b[0;34m(url, **kwargs)\u001b[0m\n\u001b[1;32m     53\u001b[0m \u001b[0;34m\u001b[0m\u001b[0m\n\u001b[1;32m     54\u001b[0m     \u001b[0mkwargs\u001b[0m\u001b[0;34m.\u001b[0m\u001b[0msetdefault\u001b[0m\u001b[0;34m(\u001b[0m\u001b[0;34m'allow_redirects'\u001b[0m\u001b[0;34m,\u001b[0m \u001b[0mTrue\u001b[0m\u001b[0;34m)\u001b[0m\u001b[0;34m\u001b[0m\u001b[0m\n\u001b[0;32m---> 55\u001b[0;31m     \u001b[0;32mreturn\u001b[0m \u001b[0mrequest\u001b[0m\u001b[0;34m(\u001b[0m\u001b[0;34m'get'\u001b[0m\u001b[0;34m,\u001b[0m \u001b[0murl\u001b[0m\u001b[0;34m,\u001b[0m \u001b[0;34m**\u001b[0m\u001b[0mkwargs\u001b[0m\u001b[0;34m)\u001b[0m\u001b[0;34m\u001b[0m\u001b[0m\n\u001b[0m\u001b[1;32m     56\u001b[0m \u001b[0;34m\u001b[0m\u001b[0m\n\u001b[1;32m     57\u001b[0m \u001b[0;34m\u001b[0m\u001b[0m\n",
        "\u001b[0;32m/Users/Ted/anaconda/lib/python2.7/site-packages/requests/api.pyc\u001b[0m in \u001b[0;36mrequest\u001b[0;34m(method, url, **kwargs)\u001b[0m\n\u001b[1;32m     42\u001b[0m \u001b[0;34m\u001b[0m\u001b[0m\n\u001b[1;32m     43\u001b[0m     \u001b[0msession\u001b[0m \u001b[0;34m=\u001b[0m \u001b[0msessions\u001b[0m\u001b[0;34m.\u001b[0m\u001b[0mSession\u001b[0m\u001b[0;34m(\u001b[0m\u001b[0;34m)\u001b[0m\u001b[0;34m\u001b[0m\u001b[0m\n\u001b[0;32m---> 44\u001b[0;31m     \u001b[0;32mreturn\u001b[0m \u001b[0msession\u001b[0m\u001b[0;34m.\u001b[0m\u001b[0mrequest\u001b[0m\u001b[0;34m(\u001b[0m\u001b[0mmethod\u001b[0m\u001b[0;34m=\u001b[0m\u001b[0mmethod\u001b[0m\u001b[0;34m,\u001b[0m \u001b[0murl\u001b[0m\u001b[0;34m=\u001b[0m\u001b[0murl\u001b[0m\u001b[0;34m,\u001b[0m \u001b[0;34m**\u001b[0m\u001b[0mkwargs\u001b[0m\u001b[0;34m)\u001b[0m\u001b[0;34m\u001b[0m\u001b[0m\n\u001b[0m\u001b[1;32m     45\u001b[0m \u001b[0;34m\u001b[0m\u001b[0m\n\u001b[1;32m     46\u001b[0m \u001b[0;34m\u001b[0m\u001b[0m\n",
        "\u001b[0;32m/Users/Ted/anaconda/lib/python2.7/site-packages/requests/sessions.pyc\u001b[0m in \u001b[0;36mrequest\u001b[0;34m(self, method, url, params, data, headers, cookies, files, auth, timeout, allow_redirects, proxies, hooks, stream, verify, cert)\u001b[0m\n\u001b[1;32m    420\u001b[0m             \u001b[0mhooks\u001b[0m \u001b[0;34m=\u001b[0m \u001b[0mhooks\u001b[0m\u001b[0;34m,\u001b[0m\u001b[0;34m\u001b[0m\u001b[0m\n\u001b[1;32m    421\u001b[0m         )\n\u001b[0;32m--> 422\u001b[0;31m         \u001b[0mprep\u001b[0m \u001b[0;34m=\u001b[0m \u001b[0mself\u001b[0m\u001b[0;34m.\u001b[0m\u001b[0mprepare_request\u001b[0m\u001b[0;34m(\u001b[0m\u001b[0mreq\u001b[0m\u001b[0;34m)\u001b[0m\u001b[0;34m\u001b[0m\u001b[0m\n\u001b[0m\u001b[1;32m    423\u001b[0m \u001b[0;34m\u001b[0m\u001b[0m\n\u001b[1;32m    424\u001b[0m         \u001b[0mproxies\u001b[0m \u001b[0;34m=\u001b[0m \u001b[0mproxies\u001b[0m \u001b[0;32mor\u001b[0m \u001b[0;34m{\u001b[0m\u001b[0;34m}\u001b[0m\u001b[0;34m\u001b[0m\u001b[0m\n",
        "\u001b[0;32m/Users/Ted/anaconda/lib/python2.7/site-packages/requests/sessions.pyc\u001b[0m in \u001b[0;36mprepare_request\u001b[0;34m(self, request)\u001b[0m\n\u001b[1;32m    358\u001b[0m             \u001b[0mauth\u001b[0m\u001b[0;34m=\u001b[0m\u001b[0mmerge_setting\u001b[0m\u001b[0;34m(\u001b[0m\u001b[0mauth\u001b[0m\u001b[0;34m,\u001b[0m \u001b[0mself\u001b[0m\u001b[0;34m.\u001b[0m\u001b[0mauth\u001b[0m\u001b[0;34m)\u001b[0m\u001b[0;34m,\u001b[0m\u001b[0;34m\u001b[0m\u001b[0m\n\u001b[1;32m    359\u001b[0m             \u001b[0mcookies\u001b[0m\u001b[0;34m=\u001b[0m\u001b[0mmerged_cookies\u001b[0m\u001b[0;34m,\u001b[0m\u001b[0;34m\u001b[0m\u001b[0m\n\u001b[0;32m--> 360\u001b[0;31m             \u001b[0mhooks\u001b[0m\u001b[0;34m=\u001b[0m\u001b[0mmerge_hooks\u001b[0m\u001b[0;34m(\u001b[0m\u001b[0mrequest\u001b[0m\u001b[0;34m.\u001b[0m\u001b[0mhooks\u001b[0m\u001b[0;34m,\u001b[0m \u001b[0mself\u001b[0m\u001b[0;34m.\u001b[0m\u001b[0mhooks\u001b[0m\u001b[0;34m)\u001b[0m\u001b[0;34m,\u001b[0m\u001b[0;34m\u001b[0m\u001b[0m\n\u001b[0m\u001b[1;32m    361\u001b[0m         )\n\u001b[1;32m    362\u001b[0m         \u001b[0;32mreturn\u001b[0m \u001b[0mp\u001b[0m\u001b[0;34m\u001b[0m\u001b[0m\n",
        "\u001b[0;32m/Users/Ted/anaconda/lib/python2.7/site-packages/requests/models.pyc\u001b[0m in \u001b[0;36mprepare\u001b[0;34m(self, method, url, headers, files, data, params, auth, cookies, hooks)\u001b[0m\n\u001b[1;32m    292\u001b[0m \u001b[0;34m\u001b[0m\u001b[0m\n\u001b[1;32m    293\u001b[0m         \u001b[0mself\u001b[0m\u001b[0;34m.\u001b[0m\u001b[0mprepare_method\u001b[0m\u001b[0;34m(\u001b[0m\u001b[0mmethod\u001b[0m\u001b[0;34m)\u001b[0m\u001b[0;34m\u001b[0m\u001b[0m\n\u001b[0;32m--> 294\u001b[0;31m         \u001b[0mself\u001b[0m\u001b[0;34m.\u001b[0m\u001b[0mprepare_url\u001b[0m\u001b[0;34m(\u001b[0m\u001b[0murl\u001b[0m\u001b[0;34m,\u001b[0m \u001b[0mparams\u001b[0m\u001b[0;34m)\u001b[0m\u001b[0;34m\u001b[0m\u001b[0m\n\u001b[0m\u001b[1;32m    295\u001b[0m         \u001b[0mself\u001b[0m\u001b[0;34m.\u001b[0m\u001b[0mprepare_headers\u001b[0m\u001b[0;34m(\u001b[0m\u001b[0mheaders\u001b[0m\u001b[0;34m)\u001b[0m\u001b[0;34m\u001b[0m\u001b[0m\n\u001b[1;32m    296\u001b[0m         \u001b[0mself\u001b[0m\u001b[0;34m.\u001b[0m\u001b[0mprepare_cookies\u001b[0m\u001b[0;34m(\u001b[0m\u001b[0mcookies\u001b[0m\u001b[0;34m)\u001b[0m\u001b[0;34m\u001b[0m\u001b[0m\n",
        "\u001b[0;32m/Users/Ted/anaconda/lib/python2.7/site-packages/requests/models.pyc\u001b[0m in \u001b[0;36mprepare_url\u001b[0;34m(self, url, params)\u001b[0m\n\u001b[1;32m    343\u001b[0m         \u001b[0;32mif\u001b[0m \u001b[0;32mnot\u001b[0m \u001b[0mscheme\u001b[0m\u001b[0;34m:\u001b[0m\u001b[0;34m\u001b[0m\u001b[0m\n\u001b[1;32m    344\u001b[0m             raise MissingSchema(\"Invalid URL {0!r}: No schema supplied. \"\n\u001b[0;32m--> 345\u001b[0;31m                                 \"Perhaps you meant http://{0}?\".format(url))\n\u001b[0m\u001b[1;32m    346\u001b[0m \u001b[0;34m\u001b[0m\u001b[0m\n\u001b[1;32m    347\u001b[0m         \u001b[0;32mif\u001b[0m \u001b[0;32mnot\u001b[0m \u001b[0mhost\u001b[0m\u001b[0;34m:\u001b[0m\u001b[0;34m\u001b[0m\u001b[0m\n",
        "\u001b[0;31mMissingSchema\u001b[0m: Invalid URL u'asdfsad': No schema supplied. Perhaps you meant http://asdfsad?"
       ]
      }
     ],
     "prompt_number": 291
    },
    {
     "cell_type": "code",
     "collapsed": false,
     "input": [
      "from itertools import izip\n",
      "for i, a, b in izip(range(10), range(10)):\n",
      "    print i, a, b"
     ],
     "language": "python",
     "metadata": {},
     "outputs": [
      {
       "ename": "ValueError",
       "evalue": "need more than 2 values to unpack",
       "output_type": "pyerr",
       "traceback": [
        "\u001b[0;31m---------------------------------------------------------------------------\u001b[0m\n\u001b[0;31mValueError\u001b[0m                                Traceback (most recent call last)",
        "\u001b[0;32m<ipython-input-295-d65b352599f9>\u001b[0m in \u001b[0;36m<module>\u001b[0;34m()\u001b[0m\n\u001b[1;32m      1\u001b[0m \u001b[0;32mfrom\u001b[0m \u001b[0mitertools\u001b[0m \u001b[0;32mimport\u001b[0m \u001b[0mizip\u001b[0m\u001b[0;34m\u001b[0m\u001b[0m\n\u001b[0;32m----> 2\u001b[0;31m \u001b[0;32mfor\u001b[0m \u001b[0mi\u001b[0m\u001b[0;34m,\u001b[0m \u001b[0ma\u001b[0m\u001b[0;34m,\u001b[0m \u001b[0mb\u001b[0m \u001b[0;32min\u001b[0m \u001b[0mizip\u001b[0m\u001b[0;34m(\u001b[0m\u001b[0mrange\u001b[0m\u001b[0;34m(\u001b[0m\u001b[0;36m10\u001b[0m\u001b[0;34m)\u001b[0m\u001b[0;34m,\u001b[0m \u001b[0mrange\u001b[0m\u001b[0;34m(\u001b[0m\u001b[0;36m10\u001b[0m\u001b[0;34m)\u001b[0m\u001b[0;34m)\u001b[0m\u001b[0;34m:\u001b[0m\u001b[0;34m\u001b[0m\u001b[0m\n\u001b[0m\u001b[1;32m      3\u001b[0m     \u001b[0;32mprint\u001b[0m \u001b[0mi\u001b[0m\u001b[0;34m,\u001b[0m \u001b[0ma\u001b[0m\u001b[0;34m,\u001b[0m \u001b[0mb\u001b[0m\u001b[0;34m\u001b[0m\u001b[0m\n",
        "\u001b[0;31mValueError\u001b[0m: need more than 2 values to unpack"
       ]
      }
     ],
     "prompt_number": 295
    },
    {
     "cell_type": "code",
     "collapsed": false,
     "input": [
      "nyt_abortion = pd.read_csv('data/nyt_abortion_data.csv')"
     ],
     "language": "python",
     "metadata": {},
     "outputs": [],
     "prompt_number": 299
    },
    {
     "cell_type": "code",
     "collapsed": false,
     "input": [
      "nyt_abortion.shape"
     ],
     "language": "python",
     "metadata": {},
     "outputs": [
      {
       "metadata": {},
       "output_type": "pyout",
       "prompt_number": 301,
       "text": [
        "(70, 5)"
       ]
      }
     ],
     "prompt_number": 301
    },
    {
     "cell_type": "code",
     "collapsed": false,
     "input": [
      "key = 'MDE3MzEyOTEwMDE0MTUxMjU4MjczNTcwMw001'\n",
      "base = 'http://api.npr.org/query'\n",
      "endDate = '20141105'\n",
      "startDate = '20141101'\n",
      "while endDate > startDate:\n",
      "    params = {'apiKey' : key, 'output': 'JSON',\\\n",
      "        'endDate' : endDate, 'searchTerm' : 'obama', 'startNum' : 1}\n",
      "    req = requests.get(base, params=params)\n",
      "    j = req.json()\n",
      "    for date in j['list']['story']:\n",
      "        endDate =  parser.parse(date['pubDate']['$text']).strftime(\"%Y%m%d\")\n",
      "        print endDate"
     ],
     "language": "python",
     "metadata": {},
     "outputs": [
      {
       "output_type": "stream",
       "stream": "stdout",
       "text": [
        "20141106\n",
        "20141105\n",
        "20141106\n",
        "20141105\n",
        "20141105\n",
        "20141105\n",
        "20141105\n",
        "20141106\n",
        "20141106\n",
        "20141106\n",
        "20141106"
       ]
      },
      {
       "output_type": "stream",
       "stream": "stdout",
       "text": [
        "\n",
        "20141106\n",
        "20141106\n",
        "20141106\n",
        "20141106\n",
        "20141106\n",
        "20141106\n",
        "20141106\n",
        "20141106\n",
        "20141106\n",
        "20141106"
       ]
      },
      {
       "output_type": "stream",
       "stream": "stdout",
       "text": [
        "\n",
        "20141106\n",
        "20141106\n",
        "20141106\n",
        "20141106\n",
        "20141106\n",
        "20141106\n",
        "20141106\n",
        "20141106\n",
        "20141106\n",
        "20141106"
       ]
      },
      {
       "output_type": "stream",
       "stream": "stdout",
       "text": [
        "\n",
        "20141106\n",
        "20141106\n",
        "20141106\n",
        "20141106\n",
        "20141106\n",
        "20141106\n",
        "20141106\n",
        "20141106\n",
        "20141106\n",
        "20141106"
       ]
      },
      {
       "output_type": "stream",
       "stream": "stdout",
       "text": [
        "\n",
        "20141106\n",
        "20141106\n",
        "20141106\n",
        "20141106\n",
        "20141106\n",
        "20141106\n",
        "20141106\n",
        "20141106\n",
        "20141106\n",
        "20141106"
       ]
      },
      {
       "output_type": "stream",
       "stream": "stdout",
       "text": [
        "\n",
        "20141106\n",
        "20141106\n",
        "20141106\n",
        "20141106\n",
        "20141106\n",
        "20141106\n",
        "20141106\n",
        "20141106\n",
        "20141106\n",
        "20141106"
       ]
      },
      {
       "output_type": "stream",
       "stream": "stdout",
       "text": [
        "\n",
        "20141106\n",
        "20141106\n",
        "20141106\n",
        "20141106\n",
        "20141106\n",
        "20141106\n",
        "20141106\n",
        "20141106\n",
        "20141106\n",
        "20141106"
       ]
      },
      {
       "output_type": "stream",
       "stream": "stdout",
       "text": [
        "\n",
        "20141106\n",
        "20141106\n",
        "20141106\n",
        "20141106\n",
        "20141106\n",
        "20141106\n",
        "20141106\n",
        "20141106\n",
        "20141106\n",
        "20141106"
       ]
      },
      {
       "output_type": "stream",
       "stream": "stdout",
       "text": [
        "\n",
        "20141106\n",
        "20141106\n",
        "20141106\n",
        "20141106\n",
        "20141106\n",
        "20141106\n",
        "20141106\n",
        "20141106\n",
        "20141106\n",
        "20141106"
       ]
      },
      {
       "output_type": "stream",
       "stream": "stdout",
       "text": [
        "\n",
        "20141106\n",
        "20141106\n",
        "20141106\n",
        "20141106\n",
        "20141106\n",
        "20141106\n",
        "20141106\n",
        "20141106\n",
        "20141106\n",
        "20141106"
       ]
      },
      {
       "output_type": "stream",
       "stream": "stdout",
       "text": [
        "\n",
        "20141106\n",
        "20141106\n",
        "20141106\n",
        "20141106\n",
        "20141106\n",
        "20141106\n",
        "20141106\n",
        "20141106\n",
        "20141106\n",
        "20141106"
       ]
      },
      {
       "output_type": "stream",
       "stream": "stdout",
       "text": [
        "\n",
        "20141106\n",
        "20141106\n",
        "20141106\n",
        "20141106\n",
        "20141106\n",
        "20141106\n",
        "20141106\n",
        "20141106\n",
        "20141106\n",
        "20141106"
       ]
      },
      {
       "output_type": "stream",
       "stream": "stdout",
       "text": [
        "\n",
        "20141106\n",
        "20141106\n",
        "20141106\n",
        "20141106\n",
        "20141106\n",
        "20141106\n",
        "20141106\n",
        "20141106\n",
        "20141106\n",
        "20141106"
       ]
      },
      {
       "output_type": "stream",
       "stream": "stdout",
       "text": [
        "\n",
        "20141106\n",
        "20141106\n",
        "20141106\n",
        "20141106\n",
        "20141106\n",
        "20141106\n",
        "20141106\n",
        "20141106\n",
        "20141106\n",
        "20141106"
       ]
      },
      {
       "output_type": "stream",
       "stream": "stdout",
       "text": [
        "\n",
        "20141106\n",
        "20141106\n",
        "20141106\n",
        "20141106\n",
        "20141106\n",
        "20141106\n",
        "20141106\n",
        "20141106\n",
        "20141106\n",
        "20141106"
       ]
      },
      {
       "output_type": "stream",
       "stream": "stdout",
       "text": [
        "\n",
        "20141106\n",
        "20141106\n",
        "20141106\n",
        "20141106\n",
        "20141106\n",
        "20141106\n",
        "20141106\n",
        "20141106\n",
        "20141106\n",
        "20141106"
       ]
      },
      {
       "output_type": "stream",
       "stream": "stdout",
       "text": [
        "\n",
        "20141106\n",
        "20141106\n",
        "20141106\n",
        "20141106\n",
        "20141106\n",
        "20141106\n",
        "20141106\n",
        "20141106\n",
        "20141106\n",
        "20141106"
       ]
      },
      {
       "output_type": "stream",
       "stream": "stdout",
       "text": [
        "\n",
        "20141106\n",
        "20141106\n",
        "20141106\n",
        "20141106\n",
        "20141106\n",
        "20141106\n",
        "20141106\n",
        "20141106\n",
        "20141106\n",
        "20141106"
       ]
      },
      {
       "output_type": "stream",
       "stream": "stdout",
       "text": [
        "\n",
        "20141106\n",
        "20141106\n",
        "20141106\n",
        "20141106\n",
        "20141106\n",
        "20141106\n",
        "20141106\n",
        "20141106\n",
        "20141106\n",
        "20141106"
       ]
      },
      {
       "output_type": "stream",
       "stream": "stdout",
       "text": [
        "\n",
        "20141106\n",
        "20141106\n",
        "20141106\n",
        "20141106\n",
        "20141106\n",
        "20141106\n",
        "20141106\n",
        "20141106\n",
        "20141106\n",
        "20141106"
       ]
      },
      {
       "output_type": "stream",
       "stream": "stdout",
       "text": [
        "\n",
        "20141106\n",
        "20141106\n",
        "20141106\n",
        "20141106\n",
        "20141106\n",
        "20141106\n",
        "20141106\n",
        "20141106\n",
        "20141106\n",
        "20141106"
       ]
      },
      {
       "output_type": "stream",
       "stream": "stdout",
       "text": [
        "\n",
        "20141106\n",
        "20141106\n",
        "20141106\n",
        "20141106\n",
        "20141106\n",
        "20141106\n",
        "20141106\n",
        "20141106\n",
        "20141106\n",
        "20141106"
       ]
      },
      {
       "output_type": "stream",
       "stream": "stdout",
       "text": [
        "\n",
        "20141106\n",
        "20141106\n",
        "20141106\n",
        "20141106\n",
        "20141106\n",
        "20141106\n",
        "20141106\n",
        "20141106\n",
        "20141106\n",
        "20141106"
       ]
      },
      {
       "output_type": "stream",
       "stream": "stdout",
       "text": [
        "\n",
        "20141106\n",
        "20141106\n",
        "20141106\n",
        "20141106\n",
        "20141106\n",
        "20141106\n",
        "20141106\n",
        "20141106\n",
        "20141106\n",
        "20141106"
       ]
      },
      {
       "output_type": "stream",
       "stream": "stdout",
       "text": [
        "\n",
        "20141106\n",
        "20141106\n",
        "20141106\n",
        "20141106\n",
        "20141106\n",
        "20141106\n",
        "20141106\n",
        "20141106\n",
        "20141106\n",
        "20141106"
       ]
      },
      {
       "output_type": "stream",
       "stream": "stdout",
       "text": [
        "\n",
        "20141106\n",
        "20141106\n",
        "20141106\n",
        "20141106\n",
        "20141106\n",
        "20141106\n",
        "20141106\n",
        "20141106\n",
        "20141106\n",
        "20141106"
       ]
      },
      {
       "output_type": "stream",
       "stream": "stdout",
       "text": [
        "\n",
        "20141106\n",
        "20141106\n",
        "20141106\n",
        "20141106\n",
        "20141106\n",
        "20141106\n",
        "20141106\n",
        "20141106\n",
        "20141106\n",
        "20141106"
       ]
      },
      {
       "output_type": "stream",
       "stream": "stdout",
       "text": [
        "\n",
        "20141106\n",
        "20141106\n",
        "20141106\n",
        "20141106\n",
        "20141106\n",
        "20141106\n",
        "20141106\n",
        "20141106\n",
        "20141106\n",
        "20141106"
       ]
      },
      {
       "output_type": "stream",
       "stream": "stdout",
       "text": [
        "\n",
        "20141106\n",
        "20141106\n",
        "20141106\n",
        "20141106\n",
        "20141106\n",
        "20141106\n",
        "20141106\n",
        "20141106\n",
        "20141106\n"
       ]
      },
      {
       "ename": "KeyboardInterrupt",
       "evalue": "",
       "output_type": "pyerr",
       "traceback": [
        "\u001b[0;31m---------------------------------------------------------------------------\u001b[0m\n\u001b[0;31mKeyboardInterrupt\u001b[0m                         Traceback (most recent call last)",
        "\u001b[0;32m<ipython-input-460-556ba4d46fd1>\u001b[0m in \u001b[0;36m<module>\u001b[0;34m()\u001b[0m\n\u001b[1;32m      5\u001b[0m \u001b[0;32mwhile\u001b[0m \u001b[0mendDate\u001b[0m \u001b[0;34m>\u001b[0m \u001b[0mstartDate\u001b[0m\u001b[0;34m:\u001b[0m\u001b[0;34m\u001b[0m\u001b[0m\n\u001b[1;32m      6\u001b[0m     \u001b[0mparams\u001b[0m \u001b[0;34m=\u001b[0m \u001b[0;34m{\u001b[0m\u001b[0;34m'apiKey'\u001b[0m \u001b[0;34m:\u001b[0m \u001b[0mkey\u001b[0m\u001b[0;34m,\u001b[0m \u001b[0;34m'output'\u001b[0m\u001b[0;34m:\u001b[0m \u001b[0;34m'JSON'\u001b[0m\u001b[0;34m,\u001b[0m        \u001b[0;34m'endDate'\u001b[0m \u001b[0;34m:\u001b[0m \u001b[0mendDate\u001b[0m\u001b[0;34m,\u001b[0m \u001b[0;34m'searchTerm'\u001b[0m \u001b[0;34m:\u001b[0m \u001b[0;34m'obama'\u001b[0m\u001b[0;34m,\u001b[0m \u001b[0;34m'startNum'\u001b[0m \u001b[0;34m:\u001b[0m \u001b[0;36m1\u001b[0m\u001b[0;34m}\u001b[0m\u001b[0;34m\u001b[0m\u001b[0m\n\u001b[0;32m----> 7\u001b[0;31m     \u001b[0mreq\u001b[0m \u001b[0;34m=\u001b[0m \u001b[0mrequests\u001b[0m\u001b[0;34m.\u001b[0m\u001b[0mget\u001b[0m\u001b[0;34m(\u001b[0m\u001b[0mbase\u001b[0m\u001b[0;34m,\u001b[0m \u001b[0mparams\u001b[0m\u001b[0;34m=\u001b[0m\u001b[0mparams\u001b[0m\u001b[0;34m)\u001b[0m\u001b[0;34m\u001b[0m\u001b[0m\n\u001b[0m\u001b[1;32m      8\u001b[0m     \u001b[0mj\u001b[0m \u001b[0;34m=\u001b[0m \u001b[0mreq\u001b[0m\u001b[0;34m.\u001b[0m\u001b[0mjson\u001b[0m\u001b[0;34m(\u001b[0m\u001b[0;34m)\u001b[0m\u001b[0;34m\u001b[0m\u001b[0m\n\u001b[1;32m      9\u001b[0m     \u001b[0;32mfor\u001b[0m \u001b[0mdate\u001b[0m \u001b[0;32min\u001b[0m \u001b[0mj\u001b[0m\u001b[0;34m[\u001b[0m\u001b[0;34m'list'\u001b[0m\u001b[0;34m]\u001b[0m\u001b[0;34m[\u001b[0m\u001b[0;34m'story'\u001b[0m\u001b[0;34m]\u001b[0m\u001b[0;34m:\u001b[0m\u001b[0;34m\u001b[0m\u001b[0m\n",
        "\u001b[0;32m/Users/Ted/anaconda/lib/python2.7/site-packages/requests/api.pyc\u001b[0m in \u001b[0;36mget\u001b[0;34m(url, **kwargs)\u001b[0m\n\u001b[1;32m     53\u001b[0m \u001b[0;34m\u001b[0m\u001b[0m\n\u001b[1;32m     54\u001b[0m     \u001b[0mkwargs\u001b[0m\u001b[0;34m.\u001b[0m\u001b[0msetdefault\u001b[0m\u001b[0;34m(\u001b[0m\u001b[0;34m'allow_redirects'\u001b[0m\u001b[0;34m,\u001b[0m \u001b[0mTrue\u001b[0m\u001b[0;34m)\u001b[0m\u001b[0;34m\u001b[0m\u001b[0m\n\u001b[0;32m---> 55\u001b[0;31m     \u001b[0;32mreturn\u001b[0m \u001b[0mrequest\u001b[0m\u001b[0;34m(\u001b[0m\u001b[0;34m'get'\u001b[0m\u001b[0;34m,\u001b[0m \u001b[0murl\u001b[0m\u001b[0;34m,\u001b[0m \u001b[0;34m**\u001b[0m\u001b[0mkwargs\u001b[0m\u001b[0;34m)\u001b[0m\u001b[0;34m\u001b[0m\u001b[0m\n\u001b[0m\u001b[1;32m     56\u001b[0m \u001b[0;34m\u001b[0m\u001b[0m\n\u001b[1;32m     57\u001b[0m \u001b[0;34m\u001b[0m\u001b[0m\n",
        "\u001b[0;32m/Users/Ted/anaconda/lib/python2.7/site-packages/requests/api.pyc\u001b[0m in \u001b[0;36mrequest\u001b[0;34m(method, url, **kwargs)\u001b[0m\n\u001b[1;32m     42\u001b[0m \u001b[0;34m\u001b[0m\u001b[0m\n\u001b[1;32m     43\u001b[0m     \u001b[0msession\u001b[0m \u001b[0;34m=\u001b[0m \u001b[0msessions\u001b[0m\u001b[0;34m.\u001b[0m\u001b[0mSession\u001b[0m\u001b[0;34m(\u001b[0m\u001b[0;34m)\u001b[0m\u001b[0;34m\u001b[0m\u001b[0m\n\u001b[0;32m---> 44\u001b[0;31m     \u001b[0;32mreturn\u001b[0m \u001b[0msession\u001b[0m\u001b[0;34m.\u001b[0m\u001b[0mrequest\u001b[0m\u001b[0;34m(\u001b[0m\u001b[0mmethod\u001b[0m\u001b[0;34m=\u001b[0m\u001b[0mmethod\u001b[0m\u001b[0;34m,\u001b[0m \u001b[0murl\u001b[0m\u001b[0;34m=\u001b[0m\u001b[0murl\u001b[0m\u001b[0;34m,\u001b[0m \u001b[0;34m**\u001b[0m\u001b[0mkwargs\u001b[0m\u001b[0;34m)\u001b[0m\u001b[0;34m\u001b[0m\u001b[0m\n\u001b[0m\u001b[1;32m     45\u001b[0m \u001b[0;34m\u001b[0m\u001b[0m\n\u001b[1;32m     46\u001b[0m \u001b[0;34m\u001b[0m\u001b[0m\n",
        "\u001b[0;32m/Users/Ted/anaconda/lib/python2.7/site-packages/requests/sessions.pyc\u001b[0m in \u001b[0;36mrequest\u001b[0;34m(self, method, url, params, data, headers, cookies, files, auth, timeout, allow_redirects, proxies, hooks, stream, verify, cert)\u001b[0m\n\u001b[1;32m    454\u001b[0m             \u001b[0;34m'allow_redirects'\u001b[0m\u001b[0;34m:\u001b[0m \u001b[0mallow_redirects\u001b[0m\u001b[0;34m,\u001b[0m\u001b[0;34m\u001b[0m\u001b[0m\n\u001b[1;32m    455\u001b[0m         }\n\u001b[0;32m--> 456\u001b[0;31m         \u001b[0mresp\u001b[0m \u001b[0;34m=\u001b[0m \u001b[0mself\u001b[0m\u001b[0;34m.\u001b[0m\u001b[0msend\u001b[0m\u001b[0;34m(\u001b[0m\u001b[0mprep\u001b[0m\u001b[0;34m,\u001b[0m \u001b[0;34m**\u001b[0m\u001b[0msend_kwargs\u001b[0m\u001b[0;34m)\u001b[0m\u001b[0;34m\u001b[0m\u001b[0m\n\u001b[0m\u001b[1;32m    457\u001b[0m \u001b[0;34m\u001b[0m\u001b[0m\n\u001b[1;32m    458\u001b[0m         \u001b[0;32mreturn\u001b[0m \u001b[0mresp\u001b[0m\u001b[0;34m\u001b[0m\u001b[0m\n",
        "\u001b[0;32m/Users/Ted/anaconda/lib/python2.7/site-packages/requests/sessions.pyc\u001b[0m in \u001b[0;36msend\u001b[0;34m(self, request, **kwargs)\u001b[0m\n\u001b[1;32m    557\u001b[0m \u001b[0;34m\u001b[0m\u001b[0m\n\u001b[1;32m    558\u001b[0m         \u001b[0;31m# Send the request\u001b[0m\u001b[0;34m\u001b[0m\u001b[0;34m\u001b[0m\u001b[0m\n\u001b[0;32m--> 559\u001b[0;31m         \u001b[0mr\u001b[0m \u001b[0;34m=\u001b[0m \u001b[0madapter\u001b[0m\u001b[0;34m.\u001b[0m\u001b[0msend\u001b[0m\u001b[0;34m(\u001b[0m\u001b[0mrequest\u001b[0m\u001b[0;34m,\u001b[0m \u001b[0;34m**\u001b[0m\u001b[0mkwargs\u001b[0m\u001b[0;34m)\u001b[0m\u001b[0;34m\u001b[0m\u001b[0m\n\u001b[0m\u001b[1;32m    560\u001b[0m \u001b[0;34m\u001b[0m\u001b[0m\n\u001b[1;32m    561\u001b[0m         \u001b[0;31m# Total elapsed time of the request (approximately)\u001b[0m\u001b[0;34m\u001b[0m\u001b[0;34m\u001b[0m\u001b[0m\n",
        "\u001b[0;32m/Users/Ted/anaconda/lib/python2.7/site-packages/requests/adapters.pyc\u001b[0m in \u001b[0;36msend\u001b[0;34m(self, request, stream, timeout, verify, cert, proxies)\u001b[0m\n\u001b[1;32m    325\u001b[0m                     \u001b[0mdecode_content\u001b[0m\u001b[0;34m=\u001b[0m\u001b[0mFalse\u001b[0m\u001b[0;34m,\u001b[0m\u001b[0;34m\u001b[0m\u001b[0m\n\u001b[1;32m    326\u001b[0m                     \u001b[0mretries\u001b[0m\u001b[0;34m=\u001b[0m\u001b[0mself\u001b[0m\u001b[0;34m.\u001b[0m\u001b[0mmax_retries\u001b[0m\u001b[0;34m,\u001b[0m\u001b[0;34m\u001b[0m\u001b[0m\n\u001b[0;32m--> 327\u001b[0;31m                     \u001b[0mtimeout\u001b[0m\u001b[0;34m=\u001b[0m\u001b[0mtimeout\u001b[0m\u001b[0;34m\u001b[0m\u001b[0m\n\u001b[0m\u001b[1;32m    328\u001b[0m                 )\n\u001b[1;32m    329\u001b[0m \u001b[0;34m\u001b[0m\u001b[0m\n",
        "\u001b[0;32m/Users/Ted/anaconda/lib/python2.7/site-packages/requests/packages/urllib3/connectionpool.pyc\u001b[0m in \u001b[0;36murlopen\u001b[0;34m(self, method, url, body, headers, retries, redirect, assert_same_host, timeout, pool_timeout, release_conn, **response_kw)\u001b[0m\n\u001b[1;32m    491\u001b[0m             httplib_response = self._make_request(conn, method, url,\n\u001b[1;32m    492\u001b[0m                                                   \u001b[0mtimeout\u001b[0m\u001b[0;34m=\u001b[0m\u001b[0mtimeout\u001b[0m\u001b[0;34m,\u001b[0m\u001b[0;34m\u001b[0m\u001b[0m\n\u001b[0;32m--> 493\u001b[0;31m                                                   body=body, headers=headers)\n\u001b[0m\u001b[1;32m    494\u001b[0m \u001b[0;34m\u001b[0m\u001b[0m\n\u001b[1;32m    495\u001b[0m             \u001b[0;31m# If we're going to release the connection in ``finally:``, then\u001b[0m\u001b[0;34m\u001b[0m\u001b[0;34m\u001b[0m\u001b[0m\n",
        "\u001b[0;32m/Users/Ted/anaconda/lib/python2.7/site-packages/requests/packages/urllib3/connectionpool.pyc\u001b[0m in \u001b[0;36m_make_request\u001b[0;34m(self, conn, method, url, timeout, **httplib_request_kw)\u001b[0m\n\u001b[1;32m    317\u001b[0m         \u001b[0;32mtry\u001b[0m\u001b[0;34m:\u001b[0m\u001b[0;34m\u001b[0m\u001b[0m\n\u001b[1;32m    318\u001b[0m             \u001b[0;32mtry\u001b[0m\u001b[0;34m:\u001b[0m \u001b[0;31m# Python 2.7+, use buffering of HTTP responses\u001b[0m\u001b[0;34m\u001b[0m\u001b[0m\n\u001b[0;32m--> 319\u001b[0;31m                 \u001b[0mhttplib_response\u001b[0m \u001b[0;34m=\u001b[0m \u001b[0mconn\u001b[0m\u001b[0;34m.\u001b[0m\u001b[0mgetresponse\u001b[0m\u001b[0;34m(\u001b[0m\u001b[0mbuffering\u001b[0m\u001b[0;34m=\u001b[0m\u001b[0mTrue\u001b[0m\u001b[0;34m)\u001b[0m\u001b[0;34m\u001b[0m\u001b[0m\n\u001b[0m\u001b[1;32m    320\u001b[0m             \u001b[0;32mexcept\u001b[0m \u001b[0mTypeError\u001b[0m\u001b[0;34m:\u001b[0m \u001b[0;31m# Python 2.6 and older\u001b[0m\u001b[0;34m\u001b[0m\u001b[0m\n\u001b[1;32m    321\u001b[0m                 \u001b[0mhttplib_response\u001b[0m \u001b[0;34m=\u001b[0m \u001b[0mconn\u001b[0m\u001b[0;34m.\u001b[0m\u001b[0mgetresponse\u001b[0m\u001b[0;34m(\u001b[0m\u001b[0;34m)\u001b[0m\u001b[0;34m\u001b[0m\u001b[0m\n",
        "\u001b[0;32m/Users/Ted/anaconda/python.app/Contents/lib/python2.7/httplib.pyc\u001b[0m in \u001b[0;36mgetresponse\u001b[0;34m(self, buffering)\u001b[0m\n\u001b[1;32m   1065\u001b[0m         \u001b[0mresponse\u001b[0m \u001b[0;34m=\u001b[0m \u001b[0mself\u001b[0m\u001b[0;34m.\u001b[0m\u001b[0mresponse_class\u001b[0m\u001b[0;34m(\u001b[0m\u001b[0;34m*\u001b[0m\u001b[0margs\u001b[0m\u001b[0;34m,\u001b[0m \u001b[0;34m**\u001b[0m\u001b[0mkwds\u001b[0m\u001b[0;34m)\u001b[0m\u001b[0;34m\u001b[0m\u001b[0m\n\u001b[1;32m   1066\u001b[0m \u001b[0;34m\u001b[0m\u001b[0m\n\u001b[0;32m-> 1067\u001b[0;31m         \u001b[0mresponse\u001b[0m\u001b[0;34m.\u001b[0m\u001b[0mbegin\u001b[0m\u001b[0;34m(\u001b[0m\u001b[0;34m)\u001b[0m\u001b[0;34m\u001b[0m\u001b[0m\n\u001b[0m\u001b[1;32m   1068\u001b[0m         \u001b[0;32massert\u001b[0m \u001b[0mresponse\u001b[0m\u001b[0;34m.\u001b[0m\u001b[0mwill_close\u001b[0m \u001b[0;34m!=\u001b[0m \u001b[0m_UNKNOWN\u001b[0m\u001b[0;34m\u001b[0m\u001b[0m\n\u001b[1;32m   1069\u001b[0m         \u001b[0mself\u001b[0m\u001b[0;34m.\u001b[0m\u001b[0m__state\u001b[0m \u001b[0;34m=\u001b[0m \u001b[0m_CS_IDLE\u001b[0m\u001b[0;34m\u001b[0m\u001b[0m\n",
        "\u001b[0;32m/Users/Ted/anaconda/python.app/Contents/lib/python2.7/httplib.pyc\u001b[0m in \u001b[0;36mbegin\u001b[0;34m(self)\u001b[0m\n\u001b[1;32m    407\u001b[0m         \u001b[0;31m# read until we get a non-100 response\u001b[0m\u001b[0;34m\u001b[0m\u001b[0;34m\u001b[0m\u001b[0m\n\u001b[1;32m    408\u001b[0m         \u001b[0;32mwhile\u001b[0m \u001b[0mTrue\u001b[0m\u001b[0;34m:\u001b[0m\u001b[0;34m\u001b[0m\u001b[0m\n\u001b[0;32m--> 409\u001b[0;31m             \u001b[0mversion\u001b[0m\u001b[0;34m,\u001b[0m \u001b[0mstatus\u001b[0m\u001b[0;34m,\u001b[0m \u001b[0mreason\u001b[0m \u001b[0;34m=\u001b[0m \u001b[0mself\u001b[0m\u001b[0;34m.\u001b[0m\u001b[0m_read_status\u001b[0m\u001b[0;34m(\u001b[0m\u001b[0;34m)\u001b[0m\u001b[0;34m\u001b[0m\u001b[0m\n\u001b[0m\u001b[1;32m    410\u001b[0m             \u001b[0;32mif\u001b[0m \u001b[0mstatus\u001b[0m \u001b[0;34m!=\u001b[0m \u001b[0mCONTINUE\u001b[0m\u001b[0;34m:\u001b[0m\u001b[0;34m\u001b[0m\u001b[0m\n\u001b[1;32m    411\u001b[0m                 \u001b[0;32mbreak\u001b[0m\u001b[0;34m\u001b[0m\u001b[0m\n",
        "\u001b[0;32m/Users/Ted/anaconda/python.app/Contents/lib/python2.7/httplib.pyc\u001b[0m in \u001b[0;36m_read_status\u001b[0;34m(self)\u001b[0m\n\u001b[1;32m    363\u001b[0m     \u001b[0;32mdef\u001b[0m \u001b[0m_read_status\u001b[0m\u001b[0;34m(\u001b[0m\u001b[0mself\u001b[0m\u001b[0;34m)\u001b[0m\u001b[0;34m:\u001b[0m\u001b[0;34m\u001b[0m\u001b[0m\n\u001b[1;32m    364\u001b[0m         \u001b[0;31m# Initialize with Simple-Response defaults\u001b[0m\u001b[0;34m\u001b[0m\u001b[0;34m\u001b[0m\u001b[0m\n\u001b[0;32m--> 365\u001b[0;31m         \u001b[0mline\u001b[0m \u001b[0;34m=\u001b[0m \u001b[0mself\u001b[0m\u001b[0;34m.\u001b[0m\u001b[0mfp\u001b[0m\u001b[0;34m.\u001b[0m\u001b[0mreadline\u001b[0m\u001b[0;34m(\u001b[0m\u001b[0m_MAXLINE\u001b[0m \u001b[0;34m+\u001b[0m \u001b[0;36m1\u001b[0m\u001b[0;34m)\u001b[0m\u001b[0;34m\u001b[0m\u001b[0m\n\u001b[0m\u001b[1;32m    366\u001b[0m         \u001b[0;32mif\u001b[0m \u001b[0mlen\u001b[0m\u001b[0;34m(\u001b[0m\u001b[0mline\u001b[0m\u001b[0;34m)\u001b[0m \u001b[0;34m>\u001b[0m \u001b[0m_MAXLINE\u001b[0m\u001b[0;34m:\u001b[0m\u001b[0;34m\u001b[0m\u001b[0m\n\u001b[1;32m    367\u001b[0m             \u001b[0;32mraise\u001b[0m \u001b[0mLineTooLong\u001b[0m\u001b[0;34m(\u001b[0m\u001b[0;34m\"header line\"\u001b[0m\u001b[0;34m)\u001b[0m\u001b[0;34m\u001b[0m\u001b[0m\n",
        "\u001b[0;32m/Users/Ted/anaconda/python.app/Contents/lib/python2.7/socket.pyc\u001b[0m in \u001b[0;36mreadline\u001b[0;34m(self, size)\u001b[0m\n\u001b[1;32m    474\u001b[0m             \u001b[0;32mwhile\u001b[0m \u001b[0mTrue\u001b[0m\u001b[0;34m:\u001b[0m\u001b[0;34m\u001b[0m\u001b[0m\n\u001b[1;32m    475\u001b[0m                 \u001b[0;32mtry\u001b[0m\u001b[0;34m:\u001b[0m\u001b[0;34m\u001b[0m\u001b[0m\n\u001b[0;32m--> 476\u001b[0;31m                     \u001b[0mdata\u001b[0m \u001b[0;34m=\u001b[0m \u001b[0mself\u001b[0m\u001b[0;34m.\u001b[0m\u001b[0m_sock\u001b[0m\u001b[0;34m.\u001b[0m\u001b[0mrecv\u001b[0m\u001b[0;34m(\u001b[0m\u001b[0mself\u001b[0m\u001b[0;34m.\u001b[0m\u001b[0m_rbufsize\u001b[0m\u001b[0;34m)\u001b[0m\u001b[0;34m\u001b[0m\u001b[0m\n\u001b[0m\u001b[1;32m    477\u001b[0m                 \u001b[0;32mexcept\u001b[0m \u001b[0merror\u001b[0m\u001b[0;34m,\u001b[0m \u001b[0me\u001b[0m\u001b[0;34m:\u001b[0m\u001b[0;34m\u001b[0m\u001b[0m\n\u001b[1;32m    478\u001b[0m                     \u001b[0;32mif\u001b[0m \u001b[0me\u001b[0m\u001b[0;34m.\u001b[0m\u001b[0margs\u001b[0m\u001b[0;34m[\u001b[0m\u001b[0;36m0\u001b[0m\u001b[0;34m]\u001b[0m \u001b[0;34m==\u001b[0m \u001b[0mEINTR\u001b[0m\u001b[0;34m:\u001b[0m\u001b[0;34m\u001b[0m\u001b[0m\n",
        "\u001b[0;31mKeyboardInterrupt\u001b[0m: "
       ]
      }
     ],
     "prompt_number": 460
    },
    {
     "cell_type": "code",
     "collapsed": false,
     "input": [
      "date['link']"
     ],
     "language": "python",
     "metadata": {},
     "outputs": [
      {
       "metadata": {},
       "output_type": "pyout",
       "prompt_number": 399,
       "text": [
        "[{u'$text': u'http://www.npr.org/blogs/itsallpolitics/2014/03/26/290103978/in-ohio-gov-kasich-rises-from-forsaken-to-favorite?ft=3&f=',\n",
        "  u'type': u'html'},\n",
        " {u'$text': u'http://api.npr.org/query?id=290103978&apiKey=MDE3MzEyOTEwMDE0MTUxMjU4MjczNTcwMw001',\n",
        "  u'type': u'api'},\n",
        " {u'$text': u'http://n.pr/1i9oU9c', u'type': u'short'}]"
       ]
      }
     ],
     "prompt_number": 399
    },
    {
     "cell_type": "code",
     "collapsed": false,
     "input": [
      "len(j['list']['story'])"
     ],
     "language": "python",
     "metadata": {},
     "outputs": [
      {
       "metadata": {},
       "output_type": "pyout",
       "prompt_number": 452,
       "text": [
        "10"
       ]
      }
     ],
     "prompt_number": 452
    },
    {
     "cell_type": "code",
     "collapsed": false,
     "input": [
      "npr_abortion.shape"
     ],
     "language": "python",
     "metadata": {},
     "outputs": [
      {
       "metadata": {},
       "output_type": "pyout",
       "prompt_number": 370,
       "text": [
        "(15, 5)"
       ]
      }
     ],
     "prompt_number": 370
    },
    {
     "cell_type": "code",
     "collapsed": false,
     "input": [
      "npr_drug.shape"
     ],
     "language": "python",
     "metadata": {},
     "outputs": [
      {
       "metadata": {},
       "output_type": "pyout",
       "prompt_number": 371,
       "text": [
        "(497, 5)"
       ]
      }
     ],
     "prompt_number": 371
    },
    {
     "cell_type": "code",
     "collapsed": false,
     "input": [
      "a = b = 5"
     ],
     "language": "python",
     "metadata": {},
     "outputs": [],
     "prompt_number": 403
    },
    {
     "cell_type": "code",
     "collapsed": false,
     "input": [
      "a, b"
     ],
     "language": "python",
     "metadata": {},
     "outputs": [
      {
       "metadata": {},
       "output_type": "pyout",
       "prompt_number": 404,
       "text": [
        "(5, 5)"
       ]
      }
     ],
     "prompt_number": 404
    },
    {
     "cell_type": "code",
     "collapsed": false,
     "input": [
      "pd.read_csv('data/npr_abortion_data.csv')"
     ],
     "language": "python",
     "metadata": {},
     "outputs": [
      {
       "metadata": {},
       "output_type": "pyout",
       "prompt_number": 406,
       "text": [
        "(24, 5)"
       ]
      }
     ],
     "prompt_number": 406
    },
    {
     "cell_type": "code",
     "collapsed": false,
     "input": [
      "import time\n",
      "time.sleep(4)"
     ],
     "language": "python",
     "metadata": {},
     "outputs": [],
     "prompt_number": 407
    },
    {
     "cell_type": "code",
     "collapsed": false,
     "input": [
      "parser.parse(\"2014-11-01\").strftime(\"%Y-%m-%d\")"
     ],
     "language": "python",
     "metadata": {},
     "outputs": [
      {
       "metadata": {},
       "output_type": "pyout",
       "prompt_number": 432,
       "text": [
        "'2014-11-01'"
       ]
      }
     ],
     "prompt_number": 432
    },
    {
     "cell_type": "code",
     "collapsed": false,
     "input": [
      "b = parser.parse(\"2014-10-01\")"
     ],
     "language": "python",
     "metadata": {},
     "outputs": [],
     "prompt_number": 418
    },
    {
     "cell_type": "code",
     "collapsed": false,
     "input": [
      "a - (a - b)"
     ],
     "language": "python",
     "metadata": {},
     "outputs": [
      {
       "metadata": {},
       "output_type": "pyout",
       "prompt_number": 420,
       "text": [
        "datetime.datetime(2014, 10, 1, 0, 0)"
       ]
      }
     ],
     "prompt_number": 420
    },
    {
     "cell_type": "code",
     "collapsed": false,
     "input": [
      "a - b"
     ],
     "language": "python",
     "metadata": {},
     "outputs": [
      {
       "metadata": {},
       "output_type": "pyout",
       "prompt_number": 421,
       "text": [
        "datetime.timedelta(31)"
       ]
      }
     ],
     "prompt_number": 421
    },
    {
     "cell_type": "code",
     "collapsed": false,
     "input": [
      "a = 'http://www.foxnews.com/search-results/search?&sort=date&q=abortion&ss=fn&mediatype=Text&daterange=2014-10-07%2C2014-10-20&start=200'\n",
      "req = requests.get(a)"
     ],
     "language": "python",
     "metadata": {},
     "outputs": [],
     "prompt_number": 422
    },
    {
     "cell_type": "code",
     "collapsed": false,
     "input": [
      "soup = BeautifulSoup(req.text, 'html.parser')"
     ],
     "language": "python",
     "metadata": {},
     "outputs": [],
     "prompt_number": 423
    },
    {
     "cell_type": "code",
     "collapsed": false,
     "input": [
      "new_links = [a['href'] for a in soup.findAll('a', {'class' : 'ez-title'})]"
     ],
     "language": "python",
     "metadata": {},
     "outputs": [],
     "prompt_number": 424
    },
    {
     "cell_type": "code",
     "collapsed": false,
     "input": [
      "new_links"
     ],
     "language": "python",
     "metadata": {},
     "outputs": [
      {
       "metadata": {},
       "output_type": "pyout",
       "prompt_number": 425,
       "text": [
        "[]"
       ]
      }
     ],
     "prompt_number": 425
    },
    {
     "cell_type": "code",
     "collapsed": false,
     "input": [
      "np.mean(pd.read_csv('data/fox_guns_data.csv').apply(lambda x: 'guns' in x['text'], axis = 1))"
     ],
     "language": "python",
     "metadata": {},
     "outputs": [
      {
       "metadata": {},
       "output_type": "pyout",
       "prompt_number": 440,
       "text": [
        "1.0"
       ]
      }
     ],
     "prompt_number": 440
    },
    {
     "cell_type": "code",
     "collapsed": false,
     "input": [
      "pd.read_csv('data/npr_drug_data.csv')"
     ],
     "language": "python",
     "metadata": {},
     "outputs": [
      {
       "html": [
        "<div style=\"max-height:1000px;max-width:1500px;overflow:auto;\">\n",
        "<table border=\"1\" class=\"dataframe\">\n",
        "  <thead>\n",
        "    <tr style=\"text-align: right;\">\n",
        "      <th></th>\n",
        "      <th>source</th>\n",
        "      <th>url</th>\n",
        "      <th>text</th>\n",
        "      <th>publish_date</th>\n",
        "      <th>category</th>\n",
        "    </tr>\n",
        "  </thead>\n",
        "  <tbody>\n",
        "    <tr>\n",
        "      <th>0  </th>\n",
        "      <td> NPR</td>\n",
        "      <td> http://www.npr.org/blogs/thetwo-way/2014/07/30...</td>\n",
        "      <td> Lots of people are making money off marijuana ...</td>\n",
        "      <td> Thu, 31 Jul 2014 09:23:00 -0400</td>\n",
        "      <td> drugs</td>\n",
        "    </tr>\n",
        "    <tr>\n",
        "      <th>1  </th>\n",
        "      <td> NPR</td>\n",
        "      <td> http://www.npr.org/blogs/health/2014/07/21/333...</td>\n",
        "      <td> Many people are intensely interested in how pu...</td>\n",
        "      <td> Mon, 21 Jul 2014 16:47:00 -0400</td>\n",
        "      <td> drugs</td>\n",
        "    </tr>\n",
        "    <tr>\n",
        "      <th>2  </th>\n",
        "      <td> NPR</td>\n",
        "      <td> http://www.npr.org/blogs/allsongs/2014/07/18/3...</td>\n",
        "      <td> Its been 20 years since the stonermetal carava...</td>\n",
        "      <td> Wed, 29 Oct 2014 12:19:00 -0400</td>\n",
        "      <td> drugs</td>\n",
        "    </tr>\n",
        "    <tr>\n",
        "      <th>3  </th>\n",
        "      <td> NPR</td>\n",
        "      <td> http://www.npr.org/blogs/codeswitch/2014/07/17...</td>\n",
        "      <td> There are a lot of steps that come between an ...</td>\n",
        "      <td> Thu, 17 Jul 2014 11:09:00 -0400</td>\n",
        "      <td> drugs</td>\n",
        "    </tr>\n",
        "    <tr>\n",
        "      <th>4  </th>\n",
        "      <td> NPR</td>\n",
        "      <td> http://www.npr.org/2014/07/12/330761032/brookl...</td>\n",
        "      <td> Marijuana enthusiasts should still think twice...</td>\n",
        "      <td> Sat, 12 Jul 2014 12:12:00 -0400</td>\n",
        "      <td> drugs</td>\n",
        "    </tr>\n",
        "    <tr>\n",
        "      <th>5  </th>\n",
        "      <td> NPR</td>\n",
        "      <td> http://www.npr.org/2014/07/09/329587949/states...</td>\n",
        "      <td> Some red states like Louisiana and Texas have ...</td>\n",
        "      <td> Wed, 09 Jul 2014 08:01:00 -0400</td>\n",
        "      <td> drugs</td>\n",
        "    </tr>\n",
        "    <tr>\n",
        "      <th>6  </th>\n",
        "      <td> NPR</td>\n",
        "      <td> http://www.npr.org/blogs/thetwo-way/2014/07/07...</td>\n",
        "      <td> Legal marijuana sales are set to begin in Wash...</td>\n",
        "      <td> Mon, 07 Jul 2014 13:14:00 -0400</td>\n",
        "      <td> drugs</td>\n",
        "    </tr>\n",
        "    <tr>\n",
        "      <th>7  </th>\n",
        "      <td> NPR</td>\n",
        "      <td> http://www.npr.org/blogs/thetwo-way/2014/06/26...</td>\n",
        "      <td> Marijuana use in the United States has gone up...</td>\n",
        "      <td> Thu, 26 Jun 2014 17:34:00 -0400</td>\n",
        "      <td> drugs</td>\n",
        "    </tr>\n",
        "    <tr>\n",
        "      <th>8  </th>\n",
        "      <td> NPR</td>\n",
        "      <td> http://www.npr.org/blogs/thetwo-way/2014/06/25...</td>\n",
        "      <td> The US Supreme Court ruled unanimously Wednesd...</td>\n",
        "      <td> Thu, 26 Jun 2014 17:34:00 -0400</td>\n",
        "      <td> drugs</td>\n",
        "    </tr>\n",
        "    <tr>\n",
        "      <th>9  </th>\n",
        "      <td> NPR</td>\n",
        "      <td> http://www.npr.org/blogs/health/2014/06/16/322...</td>\n",
        "      <td> Twentytwo states and the District of Columbia ...</td>\n",
        "      <td> Mon, 30 Jun 2014 09:57:00 -0400</td>\n",
        "      <td> drugs</td>\n",
        "    </tr>\n",
        "    <tr>\n",
        "      <th>10 </th>\n",
        "      <td> NPR</td>\n",
        "      <td> http://www.npr.org/blogs/thetwo-way/2014/06/13...</td>\n",
        "      <td> The daily lowdown on books publishing and the ...</td>\n",
        "      <td> Mon, 16 Jun 2014 16:21:00 -0400</td>\n",
        "      <td> drugs</td>\n",
        "    </tr>\n",
        "    <tr>\n",
        "      <th>11 </th>\n",
        "      <td> NPR</td>\n",
        "      <td> http://www.npr.org/blogs/codeswitch/2014/06/13...</td>\n",
        "      <td> About two dozen dads  all AfricanAmericans ran...</td>\n",
        "      <td> Mon, 16 Jun 2014 16:21:00 -0400</td>\n",
        "      <td> drugs</td>\n",
        "    </tr>\n",
        "    <tr>\n",
        "      <th>12 </th>\n",
        "      <td> NPR</td>\n",
        "      <td> http://www.npr.org/2014/06/06/319523118/mike-m...</td>\n",
        "      <td> When youve played Austin Powers Shrek The Cat ...</td>\n",
        "      <td> Fri, 06 Jun 2014 19:55:00 -0400</td>\n",
        "      <td> drugs</td>\n",
        "    </tr>\n",
        "    <tr>\n",
        "      <th>13 </th>\n",
        "      <td> NPR</td>\n",
        "      <td> http://www.npr.org/2014/06/04/318801651/burnin...</td>\n",
        "      <td> The American rate of juvenile incarceration is...</td>\n",
        "      <td> Fri, 06 Jun 2014 19:55:00 -0400</td>\n",
        "      <td> drugs</td>\n",
        "    </tr>\n",
        "    <tr>\n",
        "      <th>14 </th>\n",
        "      <td> NPR</td>\n",
        "      <td> http://www.npr.org/blogs/itsallpolitics/2014/0...</td>\n",
        "      <td> Perhaps validating what public opinion surveys...</td>\n",
        "      <td> Fri, 30 May 2014 16:44:00 -0400</td>\n",
        "      <td> drugs</td>\n",
        "    </tr>\n",
        "    <tr>\n",
        "      <th>15 </th>\n",
        "      <td> NPR</td>\n",
        "      <td> http://www.npr.org/blogs/health/2014/05/20/310...</td>\n",
        "      <td> Minnesota has become the 22nd state to loosen ...</td>\n",
        "      <td> Thu, 22 May 2014 08:50:00 -0400</td>\n",
        "      <td> drugs</td>\n",
        "    </tr>\n",
        "    <tr>\n",
        "      <th>16 </th>\n",
        "      <td> NPR</td>\n",
        "      <td> http://www.npr.org/blogs/itsallpolitics/2014/0...</td>\n",
        "      <td> If the polls are correct the Pennsylvania gove...</td>\n",
        "      <td> Fri, 16 May 2014 16:56:00 -0400</td>\n",
        "      <td> drugs</td>\n",
        "    </tr>\n",
        "    <tr>\n",
        "      <th>17 </th>\n",
        "      <td> NPR</td>\n",
        "      <td> http://www.npr.org/blogs/thetwo-way/2014/05/15...</td>\n",
        "      <td> Minnesota has approved the sale and use of med...</td>\n",
        "      <td> Fri, 16 May 2014 16:56:00 -0400</td>\n",
        "      <td> drugs</td>\n",
        "    </tr>\n",
        "    <tr>\n",
        "      <th>18 </th>\n",
        "      <td> NPR</td>\n",
        "      <td> http://www.npr.org/blogs/thesalt/2014/05/14/31...</td>\n",
        "      <td> Food trucks have been steadily multiplying in ...</td>\n",
        "      <td> Thu, 15 May 2014 12:09:00 -0400</td>\n",
        "      <td> drugs</td>\n",
        "    </tr>\n",
        "    <tr>\n",
        "      <th>19 </th>\n",
        "      <td> NPR</td>\n",
        "      <td> http://www.npr.org/blogs/parallels/2014/05/12/...</td>\n",
        "      <td> As Uruguays President Jose Mujica likes to say...</td>\n",
        "      <td> Mon, 12 May 2014 19:58:00 -0400</td>\n",
        "      <td> drugs</td>\n",
        "    </tr>\n",
        "    <tr>\n",
        "      <th>20 </th>\n",
        "      <td> NPR</td>\n",
        "      <td> http://www.npr.org/blogs/theprotojournalist/20...</td>\n",
        "      <td> Say what you will about the morality of mariju...</td>\n",
        "      <td> Thu, 08 May 2014 19:01:00 -0400</td>\n",
        "      <td> drugs</td>\n",
        "    </tr>\n",
        "    <tr>\n",
        "      <th>21 </th>\n",
        "      <td> NPR</td>\n",
        "      <td> http://www.npr.org/blogs/thetwo-way/2014/05/07...</td>\n",
        "      <td> Colorado lawmakers have voted to create the a ...</td>\n",
        "      <td> Thu, 08 May 2014 14:55:00 -0400</td>\n",
        "      <td> drugs</td>\n",
        "    </tr>\n",
        "    <tr>\n",
        "      <th>22 </th>\n",
        "      <td> NPR</td>\n",
        "      <td> http://www.npr.org/blogs/thetwo-way/2014/05/07...</td>\n",
        "      <td> Makers and sellers of synthetic drugs were tar...</td>\n",
        "      <td> Wed, 07 May 2014 12:32:00 -0400</td>\n",
        "      <td> drugs</td>\n",
        "    </tr>\n",
        "    <tr>\n",
        "      <th>23 </th>\n",
        "      <td> NPR</td>\n",
        "      <td> http://www.npr.org/blogs/13.7/2014/05/02/30892...</td>\n",
        "      <td> At dinner the other night with an experimental...</td>\n",
        "      <td> Wed, 07 May 2014 09:49:00 -0400</td>\n",
        "      <td> drugs</td>\n",
        "    </tr>\n",
        "    <tr>\n",
        "      <th>24 </th>\n",
        "      <td> NPR</td>\n",
        "      <td> http://www.npr.org/blogs/thetwo-way/2014/05/02...</td>\n",
        "      <td> Its OK to sell pot in Colorado but theres stil...</td>\n",
        "      <td> Fri, 02 May 2014 14:47:00 -0400</td>\n",
        "      <td> drugs</td>\n",
        "    </tr>\n",
        "    <tr>\n",
        "      <th>25 </th>\n",
        "      <td> NPR</td>\n",
        "      <td> http://www.npr.org/blogs/deceptivecadence/2014...</td>\n",
        "      <td> Colorado Symphony patrons  if they arent alrea...</td>\n",
        "      <td> Wed, 30 Apr 2014 15:34:00 -0400</td>\n",
        "      <td> drugs</td>\n",
        "    </tr>\n",
        "    <tr>\n",
        "      <th>26 </th>\n",
        "      <td> NPR</td>\n",
        "      <td> http://www.npr.org/2014/04/26/306837618/justic...</td>\n",
        "      <td> Just a few words can hold a world of meaning J...</td>\n",
        "      <td> Wed, 30 Apr 2014 15:34:00 -0400</td>\n",
        "      <td> drugs</td>\n",
        "    </tr>\n",
        "    <tr>\n",
        "      <th>27 </th>\n",
        "      <td> NPR</td>\n",
        "      <td> http://www.npr.org/blogs/thetwo-way/2014/04/24...</td>\n",
        "      <td> Retired Justice John Paul Stevens made some ne...</td>\n",
        "      <td> Fri, 25 Apr 2014 10:19:00 -0400</td>\n",
        "      <td> drugs</td>\n",
        "    </tr>\n",
        "    <tr>\n",
        "      <th>28 </th>\n",
        "      <td> NPR</td>\n",
        "      <td> http://www.npr.org/2014/04/22/305993180/court-...</td>\n",
        "      <td> The US Supreme Court ruled Tuesday that police...</td>\n",
        "      <td> Tue, 22 Apr 2014 19:40:00 -0400</td>\n",
        "      <td> drugs</td>\n",
        "    </tr>\n",
        "    <tr>\n",
        "      <th>29 </th>\n",
        "      <td> NPR</td>\n",
        "      <td> http://www.npr.org/blogs/thetwo-way/2014/04/20...</td>\n",
        "      <td> Tens of thousands of people are attending the ...</td>\n",
        "      <td> Sun, 20 Apr 2014 16:29:00 -0400</td>\n",
        "      <td> drugs</td>\n",
        "    </tr>\n",
        "    <tr>\n",
        "      <th>...</th>\n",
        "      <td>...</td>\n",
        "      <td>...</td>\n",
        "      <td>...</td>\n",
        "      <td>...</td>\n",
        "      <td>...</td>\n",
        "    </tr>\n",
        "    <tr>\n",
        "      <th>467</th>\n",
        "      <td> NPR</td>\n",
        "      <td> http://www.npr.org/templates/story/story.php?s...</td>\n",
        "      <td> Theres a surge of public interest in legalizin...</td>\n",
        "      <td> Tue, 20 Oct 2009 13:22:00 -0400</td>\n",
        "      <td> drugs</td>\n",
        "    </tr>\n",
        "    <tr>\n",
        "      <th>468</th>\n",
        "      <td> NPR</td>\n",
        "      <td> http://www.npr.org/templates/story/story.php?s...</td>\n",
        "      <td> As a 35year law enforcement veteran and a fath...</td>\n",
        "      <td> Mon, 20 Apr 2009 16:55:00 -0400</td>\n",
        "      <td> drugs</td>\n",
        "    </tr>\n",
        "    <tr>\n",
        "      <th>469</th>\n",
        "      <td> NPR</td>\n",
        "      <td> http://www.npr.org/templates/story/story.php?s...</td>\n",
        "      <td> Cannabis prohibition has been an abject failur...</td>\n",
        "      <td> Mon, 18 May 2009 16:02:00 -0400</td>\n",
        "      <td> drugs</td>\n",
        "    </tr>\n",
        "    <tr>\n",
        "      <th>470</th>\n",
        "      <td> NPR</td>\n",
        "      <td> http://www.npr.org/templates/story/story.php?s...</td>\n",
        "      <td> The most urgent issue on the common agenda of ...</td>\n",
        "      <td> Thu, 16 Apr 2009 17:54:00 -0400</td>\n",
        "      <td> drugs</td>\n",
        "    </tr>\n",
        "    <tr>\n",
        "      <th>471</th>\n",
        "      <td> NPR</td>\n",
        "      <td> http://www.npr.org/templates/story/story.php?s...</td>\n",
        "      <td> In a town hall session that mixed online parti...</td>\n",
        "      <td> Thu, 26 Mar 2009 16:58:00 -0400</td>\n",
        "      <td> drugs</td>\n",
        "    </tr>\n",
        "    <tr>\n",
        "      <th>472</th>\n",
        "      <td> NPR</td>\n",
        "      <td> http://www.npr.org/templates/story/story.php?s...</td>\n",
        "      <td> New York Times journalist Randal C Archibold s...</td>\n",
        "      <td> Tue, 24 Mar 2009 14:32:00 -0400</td>\n",
        "      <td> drugs</td>\n",
        "    </tr>\n",
        "    <tr>\n",
        "      <th>473</th>\n",
        "      <td> NPR</td>\n",
        "      <td> http://www.npr.org/templates/story/story.php?s...</td>\n",
        "      <td> The epicenter of violence in Mexico remains Ci...</td>\n",
        "      <td> Thu, 25 Jun 2009 11:28:00 -0400</td>\n",
        "      <td> drugs</td>\n",
        "    </tr>\n",
        "    <tr>\n",
        "      <th>474</th>\n",
        "      <td> NPR</td>\n",
        "      <td> http://www.npr.org/2009/03/23/102188685/violen...</td>\n",
        "      <td> As Secretary of State Hillary Clinton travels ...</td>\n",
        "      <td> Thu, 25 Jun 2009 11:28:00 -0400</td>\n",
        "      <td> drugs</td>\n",
        "    </tr>\n",
        "    <tr>\n",
        "      <th>475</th>\n",
        "      <td> NPR</td>\n",
        "      <td> http://www.npr.org/templates/story/story.php?s...</td>\n",
        "      <td> For years the lawyers who represent poor peopl...</td>\n",
        "      <td> Thu, 19 Mar 2009 18:19:00 -0400</td>\n",
        "      <td> drugs</td>\n",
        "    </tr>\n",
        "    <tr>\n",
        "      <th>476</th>\n",
        "      <td> NPR</td>\n",
        "      <td> http://www.npr.org/templates/story/story.php?s...</td>\n",
        "      <td> Donations to the San Francisco Food Bank have ...</td>\n",
        "      <td> Wed, 11 Mar 2009 14:36:00 -0400</td>\n",
        "      <td> drugs</td>\n",
        "    </tr>\n",
        "    <tr>\n",
        "      <th>477</th>\n",
        "      <td> NPR</td>\n",
        "      <td> http://www.npr.org/templates/story/story.php?s...</td>\n",
        "      <td> More than 25 years after he died Bob Marley is...</td>\n",
        "      <td> Wed, 12 Dec 2012 12:05:00 -0500</td>\n",
        "      <td> drugs</td>\n",
        "    </tr>\n",
        "    <tr>\n",
        "      <th>478</th>\n",
        "      <td> NPR</td>\n",
        "      <td> http://www.npr.org/templates/story/story.php?s...</td>\n",
        "      <td> Take me back to Random CanyonWhere the gryphon...</td>\n",
        "      <td> Wed, 12 Dec 2012 12:04:00 -0500</td>\n",
        "      <td> drugs</td>\n",
        "    </tr>\n",
        "    <tr>\n",
        "      <th>479</th>\n",
        "      <td> NPR</td>\n",
        "      <td> http://www.npr.org/templates/story/story.php?s...</td>\n",
        "      <td> When Eric Holder was the US attorney for Washi...</td>\n",
        "      <td> Wed, 18 Feb 2009 09:52:00 -0500</td>\n",
        "      <td> drugs</td>\n",
        "    </tr>\n",
        "    <tr>\n",
        "      <th>480</th>\n",
        "      <td> NPR</td>\n",
        "      <td> http://www.npr.org/templates/story/story.php?s...</td>\n",
        "      <td> Robert Holding is a milkman in Burnely England...</td>\n",
        "      <td> Sat, 14 Feb 2009 18:00:00 -0500</td>\n",
        "      <td> drugs</td>\n",
        "    </tr>\n",
        "    <tr>\n",
        "      <th>481</th>\n",
        "      <td> NPR</td>\n",
        "      <td> http://www.npr.org/templates/story/story.php?s...</td>\n",
        "      <td> A British tabloid has published a photo of Oly...</td>\n",
        "      <td> Tue, 03 Feb 2009 16:31:00 -0500</td>\n",
        "      <td> drugs</td>\n",
        "    </tr>\n",
        "    <tr>\n",
        "      <th>482</th>\n",
        "      <td> NPR</td>\n",
        "      <td> http://www.npr.org/templates/story/story.php?s...</td>\n",
        "      <td> While Ciudad Juarez remains the epicenter of v...</td>\n",
        "      <td> Mon, 26 Jan 2009 09:12:00 -0500</td>\n",
        "      <td> drugs</td>\n",
        "    </tr>\n",
        "    <tr>\n",
        "      <th>483</th>\n",
        "      <td> NPR</td>\n",
        "      <td> http://www.npr.org/templates/story/story.php?s...</td>\n",
        "      <td> El Flaco as we call him here was member of Mar...</td>\n",
        "      <td> Mon, 22 Dec 2008 13:36:00 -0500</td>\n",
        "      <td> drugs</td>\n",
        "    </tr>\n",
        "    <tr>\n",
        "      <th>484</th>\n",
        "      <td> NPR</td>\n",
        "      <td> http://www.npr.org/templates/story/story.php?s...</td>\n",
        "      <td> Hundreds of miles of fence are being erected a...</td>\n",
        "      <td> Thu, 04 Dec 2008 14:19:00 -0500</td>\n",
        "      <td> drugs</td>\n",
        "    </tr>\n",
        "    <tr>\n",
        "      <th>485</th>\n",
        "      <td> NPR</td>\n",
        "      <td> http://www.npr.org/templates/story/story.php?s...</td>\n",
        "      <td> Samesex marriage and abortion were among the h...</td>\n",
        "      <td> Wed, 05 Nov 2008 17:35:00 -0500</td>\n",
        "      <td> drugs</td>\n",
        "    </tr>\n",
        "    <tr>\n",
        "      <th>486</th>\n",
        "      <td> NPR</td>\n",
        "      <td> http://www.npr.org/templates/story/story.php?s...</td>\n",
        "      <td> The nations blowhards have just a few days lef...</td>\n",
        "      <td> Wed, 12 Dec 2012 11:55:00 -0500</td>\n",
        "      <td> drugs</td>\n",
        "    </tr>\n",
        "    <tr>\n",
        "      <th>487</th>\n",
        "      <td> NPR</td>\n",
        "      <td> http://www.npr.org/templates/story/story.php?s...</td>\n",
        "      <td> When Jim Masters and his wife Lisa were arrest...</td>\n",
        "      <td> Mon, 20 Oct 2008 14:59:00 -0400</td>\n",
        "      <td> drugs</td>\n",
        "    </tr>\n",
        "    <tr>\n",
        "      <th>488</th>\n",
        "      <td> NPR</td>\n",
        "      <td> http://www.npr.org/2008/10/16/95746374/anita-o...</td>\n",
        "      <td> The distinctive and celebrated jazz singer Ani...</td>\n",
        "      <td> Sun, 25 Apr 2010 11:04:00 -0400</td>\n",
        "      <td> drugs</td>\n",
        "    </tr>\n",
        "    <tr>\n",
        "      <th>489</th>\n",
        "      <td> NPR</td>\n",
        "      <td> http://www.npr.org/templates/story/story.php?s...</td>\n",
        "      <td> Fela Kuti was a Nigerian music revolutionary  ...</td>\n",
        "      <td> Wed, 07 Jan 2009 14:04:00 -0500</td>\n",
        "      <td> drugs</td>\n",
        "    </tr>\n",
        "    <tr>\n",
        "      <th>490</th>\n",
        "      <td> NPR</td>\n",
        "      <td> http://www.npr.org/templates/story/story.php?s...</td>\n",
        "      <td> In Los Angeles billboards displaying gigantic ...</td>\n",
        "      <td> Tue, 19 Aug 2008 09:29:00 -0400</td>\n",
        "      <td> drugs</td>\n",
        "    </tr>\n",
        "    <tr>\n",
        "      <th>491</th>\n",
        "      <td> NPR</td>\n",
        "      <td> http://www.npr.org/templates/story/story.php?s...</td>\n",
        "      <td> In some parts of Hollywood it seems there are ...</td>\n",
        "      <td> Tue, 28 Apr 2009 14:12:00 -0400</td>\n",
        "      <td> drugs</td>\n",
        "    </tr>\n",
        "    <tr>\n",
        "      <th>492</th>\n",
        "      <td> NPR</td>\n",
        "      <td> http://www.npr.org/blogs/daydreaming/2008/08/t...</td>\n",
        "      <td> In addition to learning how to wait for the li...</td>\n",
        "      <td> Tue, 28 Apr 2009 14:12:00 -0400</td>\n",
        "      <td> drugs</td>\n",
        "    </tr>\n",
        "    <tr>\n",
        "      <th>493</th>\n",
        "      <td> NPR</td>\n",
        "      <td> http://www.npr.org/blogs/daydreaming/2008/08/f...</td>\n",
        "      <td> Mondays California Dreaming segment will be al...</td>\n",
        "      <td> Fri, 15 Jul 2011 01:49:00 -0400</td>\n",
        "      <td> drugs</td>\n",
        "    </tr>\n",
        "    <tr>\n",
        "      <th>494</th>\n",
        "      <td> NPR</td>\n",
        "      <td> http://www.npr.org/blogs/newsandviews/2008/08/...</td>\n",
        "      <td> Obama Is Pumped Up Over AttackAfter arguing ab...</td>\n",
        "      <td> Sun, 10 Aug 2008 19:16:00 -0400</td>\n",
        "      <td> drugs</td>\n",
        "    </tr>\n",
        "    <tr>\n",
        "      <th>495</th>\n",
        "      <td> NPR</td>\n",
        "      <td> http://www.npr.org/templates/story/story.php?s...</td>\n",
        "      <td> Even if stoner comedies Apatow comedies and Rr...</td>\n",
        "      <td> Wed, 06 Aug 2008 12:54:00 -0400</td>\n",
        "      <td> drugs</td>\n",
        "    </tr>\n",
        "    <tr>\n",
        "      <th>496</th>\n",
        "      <td> NPR</td>\n",
        "      <td> http://www.npr.org/templates/story/story.php?s...</td>\n",
        "      <td> Take an Oscarwinning screen veteran Match him ...</td>\n",
        "      <td> Thu, 03 Jul 2008 18:44:00 -0400</td>\n",
        "      <td> drugs</td>\n",
        "    </tr>\n",
        "  </tbody>\n",
        "</table>\n",
        "<p>497 rows \u00d7 5 columns</p>\n",
        "</div>"
       ],
       "metadata": {},
       "output_type": "pyout",
       "prompt_number": 445,
       "text": [
        "    source                                                url  \\\n",
        "0      NPR  http://www.npr.org/blogs/thetwo-way/2014/07/30...   \n",
        "1      NPR  http://www.npr.org/blogs/health/2014/07/21/333...   \n",
        "2      NPR  http://www.npr.org/blogs/allsongs/2014/07/18/3...   \n",
        "3      NPR  http://www.npr.org/blogs/codeswitch/2014/07/17...   \n",
        "4      NPR  http://www.npr.org/2014/07/12/330761032/brookl...   \n",
        "5      NPR  http://www.npr.org/2014/07/09/329587949/states...   \n",
        "6      NPR  http://www.npr.org/blogs/thetwo-way/2014/07/07...   \n",
        "7      NPR  http://www.npr.org/blogs/thetwo-way/2014/06/26...   \n",
        "8      NPR  http://www.npr.org/blogs/thetwo-way/2014/06/25...   \n",
        "9      NPR  http://www.npr.org/blogs/health/2014/06/16/322...   \n",
        "10     NPR  http://www.npr.org/blogs/thetwo-way/2014/06/13...   \n",
        "11     NPR  http://www.npr.org/blogs/codeswitch/2014/06/13...   \n",
        "12     NPR  http://www.npr.org/2014/06/06/319523118/mike-m...   \n",
        "13     NPR  http://www.npr.org/2014/06/04/318801651/burnin...   \n",
        "14     NPR  http://www.npr.org/blogs/itsallpolitics/2014/0...   \n",
        "15     NPR  http://www.npr.org/blogs/health/2014/05/20/310...   \n",
        "16     NPR  http://www.npr.org/blogs/itsallpolitics/2014/0...   \n",
        "17     NPR  http://www.npr.org/blogs/thetwo-way/2014/05/15...   \n",
        "18     NPR  http://www.npr.org/blogs/thesalt/2014/05/14/31...   \n",
        "19     NPR  http://www.npr.org/blogs/parallels/2014/05/12/...   \n",
        "20     NPR  http://www.npr.org/blogs/theprotojournalist/20...   \n",
        "21     NPR  http://www.npr.org/blogs/thetwo-way/2014/05/07...   \n",
        "22     NPR  http://www.npr.org/blogs/thetwo-way/2014/05/07...   \n",
        "23     NPR  http://www.npr.org/blogs/13.7/2014/05/02/30892...   \n",
        "24     NPR  http://www.npr.org/blogs/thetwo-way/2014/05/02...   \n",
        "25     NPR  http://www.npr.org/blogs/deceptivecadence/2014...   \n",
        "26     NPR  http://www.npr.org/2014/04/26/306837618/justic...   \n",
        "27     NPR  http://www.npr.org/blogs/thetwo-way/2014/04/24...   \n",
        "28     NPR  http://www.npr.org/2014/04/22/305993180/court-...   \n",
        "29     NPR  http://www.npr.org/blogs/thetwo-way/2014/04/20...   \n",
        "..     ...                                                ...   \n",
        "467    NPR  http://www.npr.org/templates/story/story.php?s...   \n",
        "468    NPR  http://www.npr.org/templates/story/story.php?s...   \n",
        "469    NPR  http://www.npr.org/templates/story/story.php?s...   \n",
        "470    NPR  http://www.npr.org/templates/story/story.php?s...   \n",
        "471    NPR  http://www.npr.org/templates/story/story.php?s...   \n",
        "472    NPR  http://www.npr.org/templates/story/story.php?s...   \n",
        "473    NPR  http://www.npr.org/templates/story/story.php?s...   \n",
        "474    NPR  http://www.npr.org/2009/03/23/102188685/violen...   \n",
        "475    NPR  http://www.npr.org/templates/story/story.php?s...   \n",
        "476    NPR  http://www.npr.org/templates/story/story.php?s...   \n",
        "477    NPR  http://www.npr.org/templates/story/story.php?s...   \n",
        "478    NPR  http://www.npr.org/templates/story/story.php?s...   \n",
        "479    NPR  http://www.npr.org/templates/story/story.php?s...   \n",
        "480    NPR  http://www.npr.org/templates/story/story.php?s...   \n",
        "481    NPR  http://www.npr.org/templates/story/story.php?s...   \n",
        "482    NPR  http://www.npr.org/templates/story/story.php?s...   \n",
        "483    NPR  http://www.npr.org/templates/story/story.php?s...   \n",
        "484    NPR  http://www.npr.org/templates/story/story.php?s...   \n",
        "485    NPR  http://www.npr.org/templates/story/story.php?s...   \n",
        "486    NPR  http://www.npr.org/templates/story/story.php?s...   \n",
        "487    NPR  http://www.npr.org/templates/story/story.php?s...   \n",
        "488    NPR  http://www.npr.org/2008/10/16/95746374/anita-o...   \n",
        "489    NPR  http://www.npr.org/templates/story/story.php?s...   \n",
        "490    NPR  http://www.npr.org/templates/story/story.php?s...   \n",
        "491    NPR  http://www.npr.org/templates/story/story.php?s...   \n",
        "492    NPR  http://www.npr.org/blogs/daydreaming/2008/08/t...   \n",
        "493    NPR  http://www.npr.org/blogs/daydreaming/2008/08/f...   \n",
        "494    NPR  http://www.npr.org/blogs/newsandviews/2008/08/...   \n",
        "495    NPR  http://www.npr.org/templates/story/story.php?s...   \n",
        "496    NPR  http://www.npr.org/templates/story/story.php?s...   \n",
        "\n",
        "                                                  text  \\\n",
        "0    Lots of people are making money off marijuana ...   \n",
        "1    Many people are intensely interested in how pu...   \n",
        "2    Its been 20 years since the stonermetal carava...   \n",
        "3    There are a lot of steps that come between an ...   \n",
        "4    Marijuana enthusiasts should still think twice...   \n",
        "5    Some red states like Louisiana and Texas have ...   \n",
        "6    Legal marijuana sales are set to begin in Wash...   \n",
        "7    Marijuana use in the United States has gone up...   \n",
        "8    The US Supreme Court ruled unanimously Wednesd...   \n",
        "9    Twentytwo states and the District of Columbia ...   \n",
        "10   The daily lowdown on books publishing and the ...   \n",
        "11   About two dozen dads  all AfricanAmericans ran...   \n",
        "12   When youve played Austin Powers Shrek The Cat ...   \n",
        "13   The American rate of juvenile incarceration is...   \n",
        "14   Perhaps validating what public opinion surveys...   \n",
        "15   Minnesota has become the 22nd state to loosen ...   \n",
        "16   If the polls are correct the Pennsylvania gove...   \n",
        "17   Minnesota has approved the sale and use of med...   \n",
        "18   Food trucks have been steadily multiplying in ...   \n",
        "19   As Uruguays President Jose Mujica likes to say...   \n",
        "20   Say what you will about the morality of mariju...   \n",
        "21   Colorado lawmakers have voted to create the a ...   \n",
        "22   Makers and sellers of synthetic drugs were tar...   \n",
        "23   At dinner the other night with an experimental...   \n",
        "24   Its OK to sell pot in Colorado but theres stil...   \n",
        "25   Colorado Symphony patrons  if they arent alrea...   \n",
        "26   Just a few words can hold a world of meaning J...   \n",
        "27   Retired Justice John Paul Stevens made some ne...   \n",
        "28   The US Supreme Court ruled Tuesday that police...   \n",
        "29   Tens of thousands of people are attending the ...   \n",
        "..                                                 ...   \n",
        "467  Theres a surge of public interest in legalizin...   \n",
        "468  As a 35year law enforcement veteran and a fath...   \n",
        "469  Cannabis prohibition has been an abject failur...   \n",
        "470  The most urgent issue on the common agenda of ...   \n",
        "471  In a town hall session that mixed online parti...   \n",
        "472  New York Times journalist Randal C Archibold s...   \n",
        "473  The epicenter of violence in Mexico remains Ci...   \n",
        "474  As Secretary of State Hillary Clinton travels ...   \n",
        "475  For years the lawyers who represent poor peopl...   \n",
        "476  Donations to the San Francisco Food Bank have ...   \n",
        "477  More than 25 years after he died Bob Marley is...   \n",
        "478  Take me back to Random CanyonWhere the gryphon...   \n",
        "479  When Eric Holder was the US attorney for Washi...   \n",
        "480  Robert Holding is a milkman in Burnely England...   \n",
        "481  A British tabloid has published a photo of Oly...   \n",
        "482  While Ciudad Juarez remains the epicenter of v...   \n",
        "483  El Flaco as we call him here was member of Mar...   \n",
        "484  Hundreds of miles of fence are being erected a...   \n",
        "485  Samesex marriage and abortion were among the h...   \n",
        "486  The nations blowhards have just a few days lef...   \n",
        "487  When Jim Masters and his wife Lisa were arrest...   \n",
        "488  The distinctive and celebrated jazz singer Ani...   \n",
        "489  Fela Kuti was a Nigerian music revolutionary  ...   \n",
        "490  In Los Angeles billboards displaying gigantic ...   \n",
        "491  In some parts of Hollywood it seems there are ...   \n",
        "492  In addition to learning how to wait for the li...   \n",
        "493  Mondays California Dreaming segment will be al...   \n",
        "494  Obama Is Pumped Up Over AttackAfter arguing ab...   \n",
        "495  Even if stoner comedies Apatow comedies and Rr...   \n",
        "496  Take an Oscarwinning screen veteran Match him ...   \n",
        "\n",
        "                        publish_date category  \n",
        "0    Thu, 31 Jul 2014 09:23:00 -0400    drugs  \n",
        "1    Mon, 21 Jul 2014 16:47:00 -0400    drugs  \n",
        "2    Wed, 29 Oct 2014 12:19:00 -0400    drugs  \n",
        "3    Thu, 17 Jul 2014 11:09:00 -0400    drugs  \n",
        "4    Sat, 12 Jul 2014 12:12:00 -0400    drugs  \n",
        "5    Wed, 09 Jul 2014 08:01:00 -0400    drugs  \n",
        "6    Mon, 07 Jul 2014 13:14:00 -0400    drugs  \n",
        "7    Thu, 26 Jun 2014 17:34:00 -0400    drugs  \n",
        "8    Thu, 26 Jun 2014 17:34:00 -0400    drugs  \n",
        "9    Mon, 30 Jun 2014 09:57:00 -0400    drugs  \n",
        "10   Mon, 16 Jun 2014 16:21:00 -0400    drugs  \n",
        "11   Mon, 16 Jun 2014 16:21:00 -0400    drugs  \n",
        "12   Fri, 06 Jun 2014 19:55:00 -0400    drugs  \n",
        "13   Fri, 06 Jun 2014 19:55:00 -0400    drugs  \n",
        "14   Fri, 30 May 2014 16:44:00 -0400    drugs  \n",
        "15   Thu, 22 May 2014 08:50:00 -0400    drugs  \n",
        "16   Fri, 16 May 2014 16:56:00 -0400    drugs  \n",
        "17   Fri, 16 May 2014 16:56:00 -0400    drugs  \n",
        "18   Thu, 15 May 2014 12:09:00 -0400    drugs  \n",
        "19   Mon, 12 May 2014 19:58:00 -0400    drugs  \n",
        "20   Thu, 08 May 2014 19:01:00 -0400    drugs  \n",
        "21   Thu, 08 May 2014 14:55:00 -0400    drugs  \n",
        "22   Wed, 07 May 2014 12:32:00 -0400    drugs  \n",
        "23   Wed, 07 May 2014 09:49:00 -0400    drugs  \n",
        "24   Fri, 02 May 2014 14:47:00 -0400    drugs  \n",
        "25   Wed, 30 Apr 2014 15:34:00 -0400    drugs  \n",
        "26   Wed, 30 Apr 2014 15:34:00 -0400    drugs  \n",
        "27   Fri, 25 Apr 2014 10:19:00 -0400    drugs  \n",
        "28   Tue, 22 Apr 2014 19:40:00 -0400    drugs  \n",
        "29   Sun, 20 Apr 2014 16:29:00 -0400    drugs  \n",
        "..                               ...      ...  \n",
        "467  Tue, 20 Oct 2009 13:22:00 -0400    drugs  \n",
        "468  Mon, 20 Apr 2009 16:55:00 -0400    drugs  \n",
        "469  Mon, 18 May 2009 16:02:00 -0400    drugs  \n",
        "470  Thu, 16 Apr 2009 17:54:00 -0400    drugs  \n",
        "471  Thu, 26 Mar 2009 16:58:00 -0400    drugs  \n",
        "472  Tue, 24 Mar 2009 14:32:00 -0400    drugs  \n",
        "473  Thu, 25 Jun 2009 11:28:00 -0400    drugs  \n",
        "474  Thu, 25 Jun 2009 11:28:00 -0400    drugs  \n",
        "475  Thu, 19 Mar 2009 18:19:00 -0400    drugs  \n",
        "476  Wed, 11 Mar 2009 14:36:00 -0400    drugs  \n",
        "477  Wed, 12 Dec 2012 12:05:00 -0500    drugs  \n",
        "478  Wed, 12 Dec 2012 12:04:00 -0500    drugs  \n",
        "479  Wed, 18 Feb 2009 09:52:00 -0500    drugs  \n",
        "480  Sat, 14 Feb 2009 18:00:00 -0500    drugs  \n",
        "481  Tue, 03 Feb 2009 16:31:00 -0500    drugs  \n",
        "482  Mon, 26 Jan 2009 09:12:00 -0500    drugs  \n",
        "483  Mon, 22 Dec 2008 13:36:00 -0500    drugs  \n",
        "484  Thu, 04 Dec 2008 14:19:00 -0500    drugs  \n",
        "485  Wed, 05 Nov 2008 17:35:00 -0500    drugs  \n",
        "486  Wed, 12 Dec 2012 11:55:00 -0500    drugs  \n",
        "487  Mon, 20 Oct 2008 14:59:00 -0400    drugs  \n",
        "488  Sun, 25 Apr 2010 11:04:00 -0400    drugs  \n",
        "489  Wed, 07 Jan 2009 14:04:00 -0500    drugs  \n",
        "490  Tue, 19 Aug 2008 09:29:00 -0400    drugs  \n",
        "491  Tue, 28 Apr 2009 14:12:00 -0400    drugs  \n",
        "492  Tue, 28 Apr 2009 14:12:00 -0400    drugs  \n",
        "493  Fri, 15 Jul 2011 01:49:00 -0400    drugs  \n",
        "494  Sun, 10 Aug 2008 19:16:00 -0400    drugs  \n",
        "495  Wed, 06 Aug 2008 12:54:00 -0400    drugs  \n",
        "496  Thu, 03 Jul 2008 18:44:00 -0400    drugs  \n",
        "\n",
        "[497 rows x 5 columns]"
       ]
      }
     ],
     "prompt_number": 445
    },
    {
     "cell_type": "code",
     "collapsed": false,
     "input": [
      "pd.read_csv('data/npr_marijuana_data.csv')"
     ],
     "language": "python",
     "metadata": {},
     "outputs": [
      {
       "html": [
        "<div style=\"max-height:1000px;max-width:1500px;overflow:auto;\">\n",
        "<table border=\"1\" class=\"dataframe\">\n",
        "  <thead>\n",
        "    <tr style=\"text-align: right;\">\n",
        "      <th></th>\n",
        "      <th>source</th>\n",
        "      <th>url</th>\n",
        "      <th>text</th>\n",
        "      <th>publish_date</th>\n",
        "      <th>category</th>\n",
        "    </tr>\n",
        "  </thead>\n",
        "  <tbody>\n",
        "    <tr>\n",
        "      <th>0 </th>\n",
        "      <td> NPR</td>\n",
        "      <td> http://www.npr.org/2014/11/05/360463798/thumbs...</td>\n",
        "      <td> Besides electing lawmakers Tuesday voters sett...</td>\n",
        "      <td> 20141105</td>\n",
        "      <td> marijuana</td>\n",
        "    </tr>\n",
        "    <tr>\n",
        "      <th>1 </th>\n",
        "      <td> NPR</td>\n",
        "      <td> http://www.npr.org/2014/11/05/361766137/daily-...</td>\n",
        "      <td> Jon Stewart may be the only media figure who s...</td>\n",
        "      <td> 20141106</td>\n",
        "      <td> marijuana</td>\n",
        "    </tr>\n",
        "    <tr>\n",
        "      <th>2 </th>\n",
        "      <td> NPR</td>\n",
        "      <td> http://www.npr.org/blogs/thetwo-way/2014/11/04...</td>\n",
        "      <td> Voters in Washington DC have approved the lega...</td>\n",
        "      <td> 20141106</td>\n",
        "      <td> marijuana</td>\n",
        "    </tr>\n",
        "    <tr>\n",
        "      <th>3 </th>\n",
        "      <td> NPR</td>\n",
        "      <td> http://www.npr.org/blogs/thetwo-way/2014/11/04...</td>\n",
        "      <td> Gov Rick Scott will hold on to his job in Flor...</td>\n",
        "      <td> 20141106</td>\n",
        "      <td> marijuana</td>\n",
        "    </tr>\n",
        "    <tr>\n",
        "      <th>4 </th>\n",
        "      <td> NPR</td>\n",
        "      <td> http://www.npr.org/blogs/thetwo-way/2014/11/04...</td>\n",
        "      <td> With a loss by Sen Mark Pryor the first Democr...</td>\n",
        "      <td> 20141106</td>\n",
        "      <td> marijuana</td>\n",
        "    </tr>\n",
        "    <tr>\n",
        "      <th>5 </th>\n",
        "      <td> NPR</td>\n",
        "      <td> http://www.npr.org/2014/11/02/348967711/have-a...</td>\n",
        "      <td> Join NPR on Election Night Nov 4 at electionsn...</td>\n",
        "      <td> 20141103</td>\n",
        "      <td> marijuana</td>\n",
        "    </tr>\n",
        "    <tr>\n",
        "      <th>6 </th>\n",
        "      <td> NPR</td>\n",
        "      <td> http://www.npr.org/2014/10/30/360217001/kenned...</td>\n",
        "      <td> There has been a lot of talk recently about ma...</td>\n",
        "      <td> 20141031</td>\n",
        "      <td> marijuana</td>\n",
        "    </tr>\n",
        "    <tr>\n",
        "      <th>7 </th>\n",
        "      <td> NPR</td>\n",
        "      <td> http://www.npr.org/2014/10/30/360217001/kenned...</td>\n",
        "      <td> There has been a lot of talk recently about ma...</td>\n",
        "      <td> 20141031</td>\n",
        "      <td> marijuana</td>\n",
        "    </tr>\n",
        "    <tr>\n",
        "      <th>8 </th>\n",
        "      <td> NPR</td>\n",
        "      <td> http://www.npr.org/blogs/itsallpolitics/2014/1...</td>\n",
        "      <td> More weed less war Thats the latest campaign s...</td>\n",
        "      <td> 20141023</td>\n",
        "      <td> marijuana</td>\n",
        "    </tr>\n",
        "    <tr>\n",
        "      <th>9 </th>\n",
        "      <td> NPR</td>\n",
        "      <td> http://www.npr.org/blogs/thetwo-way/2014/10/22...</td>\n",
        "      <td> The St Louis PostDispatch has published the of...</td>\n",
        "      <td> 20141023</td>\n",
        "      <td> marijuana</td>\n",
        "    </tr>\n",
        "    <tr>\n",
        "      <th>10</th>\n",
        "      <td> NPR</td>\n",
        "      <td> http://www.npr.org/blogs/microphonecheck/2014/...</td>\n",
        "      <td> I want to be here because the people put me he...</td>\n",
        "      <td> 20141029</td>\n",
        "      <td> marijuana</td>\n",
        "    </tr>\n",
        "    <tr>\n",
        "      <th>11</th>\n",
        "      <td> NPR</td>\n",
        "      <td> http://www.npr.org/2014/10/19/354532433/reside...</td>\n",
        "      <td> Unprecedented numbers of immigrant children cr...</td>\n",
        "      <td> 20141020</td>\n",
        "      <td> marijuana</td>\n",
        "    </tr>\n",
        "    <tr>\n",
        "      <th>12</th>\n",
        "      <td> NPR</td>\n",
        "      <td> http://www.npr.org/2014/10/11/354875096/behind...</td>\n",
        "      <td> On Oct 18 the Calabasas Califbased auction hou...</td>\n",
        "      <td> 20141016</td>\n",
        "      <td> marijuana</td>\n",
        "    </tr>\n",
        "    <tr>\n",
        "      <th>13</th>\n",
        "      <td> NPR</td>\n",
        "      <td> http://www.npr.org/2014/10/11/354875096/behind...</td>\n",
        "      <td> On Oct 18 the Calabasas Califbased auction hou...</td>\n",
        "      <td> 20141016</td>\n",
        "      <td> marijuana</td>\n",
        "    </tr>\n",
        "    <tr>\n",
        "      <th>14</th>\n",
        "      <td> NPR</td>\n",
        "      <td> http://www.npr.org/blogs/parallels/2014/10/10/...</td>\n",
        "      <td> On the second story of the municipal palace in...</td>\n",
        "      <td> 20141010</td>\n",
        "      <td> marijuana</td>\n",
        "    </tr>\n",
        "    <tr>\n",
        "      <th>15</th>\n",
        "      <td> NPR</td>\n",
        "      <td> http://www.npr.org/blogs/codeswitch/2014/10/07...</td>\n",
        "      <td> Earlier this year a judge ruled that Alaskan e...</td>\n",
        "      <td> 20141008</td>\n",
        "      <td> marijuana</td>\n",
        "    </tr>\n",
        "    <tr>\n",
        "      <th>16</th>\n",
        "      <td> NPR</td>\n",
        "      <td> http://www.npr.org/2014/10/06/352613333/why-yo...</td>\n",
        "      <td> In the US people born between 1980 and 2000 no...</td>\n",
        "      <td> 20141008</td>\n",
        "      <td> marijuana</td>\n",
        "    </tr>\n",
        "    <tr>\n",
        "      <th>17</th>\n",
        "      <td> NPR</td>\n",
        "      <td> http://www.npr.org/2014/10/03/353511677/make-r...</td>\n",
        "      <td> It might be easy to mistake Lia Lees business ...</td>\n",
        "      <td> 20141010</td>\n",
        "      <td> marijuana</td>\n",
        "    </tr>\n",
        "    <tr>\n",
        "      <th>18</th>\n",
        "      <td> NPR</td>\n",
        "      <td> http://www.npr.org/blogs/thetwo-way/2014/09/25...</td>\n",
        "      <td> This post was last updated at 444 pm ET Eric H...</td>\n",
        "      <td> 20140926</td>\n",
        "      <td> marijuana</td>\n",
        "    </tr>\n",
        "    <tr>\n",
        "      <th>19</th>\n",
        "      <td> NPR</td>\n",
        "      <td> http://www.npr.org/2014/09/23/350577398/rememb...</td>\n",
        "      <td> On a May night in 2011 a man was murdered  sho...</td>\n",
        "      <td> 20140926</td>\n",
        "      <td> marijuana</td>\n",
        "    </tr>\n",
        "    <tr>\n",
        "      <th>20</th>\n",
        "      <td> NPR</td>\n",
        "      <td> http://www.npr.org/blogs/thetwo-way/2014/09/22...</td>\n",
        "      <td> Talk about a takethisjob and shove it moment D...</td>\n",
        "      <td> 20140926</td>\n",
        "      <td> marijuana</td>\n",
        "    </tr>\n",
        "  </tbody>\n",
        "</table>\n",
        "</div>"
       ],
       "metadata": {},
       "output_type": "pyout",
       "prompt_number": 450,
       "text": [
        "   source                                                url  \\\n",
        "0     NPR  http://www.npr.org/2014/11/05/360463798/thumbs...   \n",
        "1     NPR  http://www.npr.org/2014/11/05/361766137/daily-...   \n",
        "2     NPR  http://www.npr.org/blogs/thetwo-way/2014/11/04...   \n",
        "3     NPR  http://www.npr.org/blogs/thetwo-way/2014/11/04...   \n",
        "4     NPR  http://www.npr.org/blogs/thetwo-way/2014/11/04...   \n",
        "5     NPR  http://www.npr.org/2014/11/02/348967711/have-a...   \n",
        "6     NPR  http://www.npr.org/2014/10/30/360217001/kenned...   \n",
        "7     NPR  http://www.npr.org/2014/10/30/360217001/kenned...   \n",
        "8     NPR  http://www.npr.org/blogs/itsallpolitics/2014/1...   \n",
        "9     NPR  http://www.npr.org/blogs/thetwo-way/2014/10/22...   \n",
        "10    NPR  http://www.npr.org/blogs/microphonecheck/2014/...   \n",
        "11    NPR  http://www.npr.org/2014/10/19/354532433/reside...   \n",
        "12    NPR  http://www.npr.org/2014/10/11/354875096/behind...   \n",
        "13    NPR  http://www.npr.org/2014/10/11/354875096/behind...   \n",
        "14    NPR  http://www.npr.org/blogs/parallels/2014/10/10/...   \n",
        "15    NPR  http://www.npr.org/blogs/codeswitch/2014/10/07...   \n",
        "16    NPR  http://www.npr.org/2014/10/06/352613333/why-yo...   \n",
        "17    NPR  http://www.npr.org/2014/10/03/353511677/make-r...   \n",
        "18    NPR  http://www.npr.org/blogs/thetwo-way/2014/09/25...   \n",
        "19    NPR  http://www.npr.org/2014/09/23/350577398/rememb...   \n",
        "20    NPR  http://www.npr.org/blogs/thetwo-way/2014/09/22...   \n",
        "\n",
        "                                                 text  publish_date   category  \n",
        "0   Besides electing lawmakers Tuesday voters sett...      20141105  marijuana  \n",
        "1   Jon Stewart may be the only media figure who s...      20141106  marijuana  \n",
        "2   Voters in Washington DC have approved the lega...      20141106  marijuana  \n",
        "3   Gov Rick Scott will hold on to his job in Flor...      20141106  marijuana  \n",
        "4   With a loss by Sen Mark Pryor the first Democr...      20141106  marijuana  \n",
        "5   Join NPR on Election Night Nov 4 at electionsn...      20141103  marijuana  \n",
        "6   There has been a lot of talk recently about ma...      20141031  marijuana  \n",
        "7   There has been a lot of talk recently about ma...      20141031  marijuana  \n",
        "8   More weed less war Thats the latest campaign s...      20141023  marijuana  \n",
        "9   The St Louis PostDispatch has published the of...      20141023  marijuana  \n",
        "10  I want to be here because the people put me he...      20141029  marijuana  \n",
        "11  Unprecedented numbers of immigrant children cr...      20141020  marijuana  \n",
        "12  On Oct 18 the Calabasas Califbased auction hou...      20141016  marijuana  \n",
        "13  On Oct 18 the Calabasas Califbased auction hou...      20141016  marijuana  \n",
        "14  On the second story of the municipal palace in...      20141010  marijuana  \n",
        "15  Earlier this year a judge ruled that Alaskan e...      20141008  marijuana  \n",
        "16  In the US people born between 1980 and 2000 no...      20141008  marijuana  \n",
        "17  It might be easy to mistake Lia Lees business ...      20141010  marijuana  \n",
        "18  This post was last updated at 444 pm ET Eric H...      20140926  marijuana  \n",
        "19  On a May night in 2011 a man was murdered  sho...      20140926  marijuana  \n",
        "20  Talk about a takethisjob and shove it moment D...      20140926  marijuana  "
       ]
      }
     ],
     "prompt_number": 450
    },
    {
     "cell_type": "code",
     "collapsed": false,
     "input": [
      "pd.read_csv('data/msnbc_obama_data.csv')"
     ],
     "language": "python",
     "metadata": {},
     "outputs": [
      {
       "html": [
        "<div style=\"max-height:1000px;max-width:1500px;overflow:auto;\">\n",
        "<table border=\"1\" class=\"dataframe\">\n",
        "  <thead>\n",
        "    <tr style=\"text-align: right;\">\n",
        "      <th></th>\n",
        "      <th>source</th>\n",
        "      <th>url</th>\n",
        "      <th>text</th>\n",
        "      <th>publish_date</th>\n",
        "      <th>category</th>\n",
        "    </tr>\n",
        "  </thead>\n",
        "  <tbody>\n",
        "    <tr>\n",
        "      <th>0 </th>\n",
        "      <td> MSNBC</td>\n",
        "      <td> http://www.msnbc.com/msnbc/chris-christie-midt...</td>\n",
        "      <td>  New Jersey Governor Chris Christie wasn t up ...</td>\n",
        "      <td> 11/05/14 02:55 PM</td>\n",
        "      <td> obama</td>\n",
        "    </tr>\n",
        "    <tr>\n",
        "      <th>1 </th>\n",
        "      <td> MSNBC</td>\n",
        "      <td> http://www.msnbc.com/rachel-maddow-show/after-...</td>\n",
        "      <td>  Meet America s 10 newest Senators   Time  Pre...</td>\n",
        "      <td> 11/05/14 07:52 AM</td>\n",
        "      <td> obama</td>\n",
        "    </tr>\n",
        "    <tr>\n",
        "      <th>2 </th>\n",
        "      <td> MSNBC</td>\n",
        "      <td> http://www.msnbc.com/msnbc/after-gop-shellacki...</td>\n",
        "      <td>  Republicans  decisive win Tuesday is likely t...</td>\n",
        "      <td> 11/05/14 03:18 AM</td>\n",
        "      <td> obama</td>\n",
        "    </tr>\n",
        "    <tr>\n",
        "      <th>3 </th>\n",
        "      <td> MSNBC</td>\n",
        "      <td> http://www.msnbc.com/msnbc/mcconnell-urges-com...</td>\n",
        "      <td>  In his first remarks since Republicans claime...</td>\n",
        "      <td> 11/05/14 04:38 PM</td>\n",
        "      <td> obama</td>\n",
        "    </tr>\n",
        "    <tr>\n",
        "      <th>4 </th>\n",
        "      <td> MSNBC</td>\n",
        "      <td> http://www.msnbc.com/msnbc/lgbt-candidates-win...</td>\n",
        "      <td>  Voters may have taken a giant step to the rig...</td>\n",
        "      <td> 11/05/14 04:42 PM</td>\n",
        "      <td> obama</td>\n",
        "    </tr>\n",
        "    <tr>\n",
        "      <th>5 </th>\n",
        "      <td> MSNBC</td>\n",
        "      <td> http://www.msnbc.com/msnbc/mixed-election-repr...</td>\n",
        "      <td>  Abortion rights opponents were celebrating bi...</td>\n",
        "      <td> 11/05/14 01:32 PM</td>\n",
        "      <td> obama</td>\n",
        "    </tr>\n",
        "    <tr>\n",
        "      <th>6 </th>\n",
        "      <td> MSNBC</td>\n",
        "      <td> http://www.msnbc.com/morning-joe/new-kids-the-...</td>\n",
        "      <td>  On Tuesday night  an army of nine Republican ...</td>\n",
        "      <td> 11/05/14 10:33 AM</td>\n",
        "      <td> obama</td>\n",
        "    </tr>\n",
        "    <tr>\n",
        "      <th>7 </th>\n",
        "      <td> MSNBC</td>\n",
        "      <td> http://www.msnbc.com/msnbc/gop-widens-leadersh...</td>\n",
        "      <td>  Democrats woke up on Wednesday to a Republica...</td>\n",
        "      <td> 11/05/14 06:30 PM</td>\n",
        "      <td> obama</td>\n",
        "    </tr>\n",
        "    <tr>\n",
        "      <th>8 </th>\n",
        "      <td> MSNBC</td>\n",
        "      <td> http://www.msnbc.com/msnbc/voters-not-enthusia...</td>\n",
        "      <td>  The end of the 2014 midterm election means th...</td>\n",
        "      <td> 11/05/14 12:45 AM</td>\n",
        "      <td> obama</td>\n",
        "    </tr>\n",
        "    <tr>\n",
        "      <th>9 </th>\n",
        "      <td> MSNBC</td>\n",
        "      <td> http://www.msnbc.com/msnbc/latinos-cooling-oba...</td>\n",
        "      <td>  The NBC News national exit poll found that La...</td>\n",
        "      <td> 11/04/14 11:43 PM</td>\n",
        "      <td> obama</td>\n",
        "    </tr>\n",
        "    <tr>\n",
        "      <th>10</th>\n",
        "      <td> MSNBC</td>\n",
        "      <td> http://www.msnbc.com/rachel-maddow-show/jobles...</td>\n",
        "      <td>  On the eve of the new jobs report  many hoped...</td>\n",
        "      <td> 11/06/14 08:37 AM</td>\n",
        "      <td> obama</td>\n",
        "    </tr>\n",
        "    <tr>\n",
        "      <th>11</th>\n",
        "      <td> MSNBC</td>\n",
        "      <td> http://www.msnbc.com/rachel-maddow-show/conser...</td>\n",
        "      <td>  By most measures  President Obama s post elec...</td>\n",
        "      <td> 11/06/14 10:37 AM</td>\n",
        "      <td> obama</td>\n",
        "    </tr>\n",
        "    <tr>\n",
        "      <th>12</th>\n",
        "      <td> MSNBC</td>\n",
        "      <td> http://www.msnbc.com/msnbc/obama-american-peop...</td>\n",
        "      <td>  A day after voters rejected Democrats in midt...</td>\n",
        "      <td> 11/05/14 03:04 PM</td>\n",
        "      <td> obama</td>\n",
        "    </tr>\n",
        "    <tr>\n",
        "      <th>13</th>\n",
        "      <td> MSNBC</td>\n",
        "      <td> http://www.msnbc.com/rachel-maddow-show/wednes...</td>\n",
        "      <td>  Today s edition of quick hits      Israel   A...</td>\n",
        "      <td> 11/05/14 05:30 PM</td>\n",
        "      <td> obama</td>\n",
        "    </tr>\n",
        "    <tr>\n",
        "      <th>14</th>\n",
        "      <td> MSNBC</td>\n",
        "      <td> http://www.msnbc.com/msnbc/charlie-crist-vs-ri...</td>\n",
        "      <td>  ST  PETERSBURG  Fla   Once again  Charlie Cri...</td>\n",
        "      <td> 11/04/14 11:54 PM</td>\n",
        "      <td> obama</td>\n",
        "    </tr>\n",
        "    <tr>\n",
        "      <th>15</th>\n",
        "      <td> MSNBC</td>\n",
        "      <td> http://www.msnbc.com/msnbc/scott-walkers-victo...</td>\n",
        "      <td>  Wisconsin Gov  Scott Walker ended Tuesday nig...</td>\n",
        "      <td> 11/05/14 02:14 PM</td>\n",
        "      <td> obama</td>\n",
        "    </tr>\n",
        "    <tr>\n",
        "      <th>16</th>\n",
        "      <td> MSNBC</td>\n",
        "      <td> http://www.msnbc.com/msnbc/sarah-palin-democra...</td>\n",
        "      <td>  In the words of Sarah Palin  the  Democrats g...</td>\n",
        "      <td> 11/05/14 11:04 AM</td>\n",
        "      <td> obama</td>\n",
        "    </tr>\n",
        "    <tr>\n",
        "      <th>17</th>\n",
        "      <td> MSNBC</td>\n",
        "      <td> http://www.msnbc.com/msnbc/the-curse-the-obama...</td>\n",
        "      <td>  Barack Obama s coalition has become a curse f...</td>\n",
        "      <td> 11/06/14 04:40 PM</td>\n",
        "      <td> obama</td>\n",
        "    </tr>\n",
        "    <tr>\n",
        "      <th>18</th>\n",
        "      <td> MSNBC</td>\n",
        "      <td> http://www.msnbc.com/hardball/sideshow-electio...</td>\n",
        "      <td>  Time for the Sideshow  Another election has c...</td>\n",
        "      <td> 11/05/14 02:21 PM</td>\n",
        "      <td> obama</td>\n",
        "    </tr>\n",
        "    <tr>\n",
        "      <th>19</th>\n",
        "      <td> MSNBC</td>\n",
        "      <td> http://www.msnbc.com/msnbc/joni-ernst-star-bor...</td>\n",
        "      <td>  WEST DES MOINES  Iowa  Republican Joni Ernst ...</td>\n",
        "      <td> 11/05/14 12:08 AM</td>\n",
        "      <td> obama</td>\n",
        "    </tr>\n",
        "    <tr>\n",
        "      <th>20</th>\n",
        "      <td> MSNBC</td>\n",
        "      <td> http://www.msnbc.com/msnbc/fawzi-odah-guantana...</td>\n",
        "      <td>  A Kuwaiti man was released Wednesday after be...</td>\n",
        "      <td> 11/06/14 02:40 PM</td>\n",
        "      <td> obama</td>\n",
        "    </tr>\n",
        "    <tr>\n",
        "      <th>21</th>\n",
        "      <td> MSNBC</td>\n",
        "      <td> http://www.msnbc.com/morning-joe/white-house-g...</td>\n",
        "      <td>  As the GOP continues its victory lap in the w...</td>\n",
        "      <td> 11/06/14 02:09 PM</td>\n",
        "      <td> obama</td>\n",
        "    </tr>\n",
        "    <tr>\n",
        "      <th>22</th>\n",
        "      <td> MSNBC</td>\n",
        "      <td> http://www.msnbc.com/morning-joe/reince-preibu...</td>\n",
        "      <td>  Hours after his party surged to victories nat...</td>\n",
        "      <td> 11/05/14 02:45 PM</td>\n",
        "      <td> obama</td>\n",
        "    </tr>\n",
        "    <tr>\n",
        "      <th>23</th>\n",
        "      <td> MSNBC</td>\n",
        "      <td> http://www.msnbc.com/news-nation/do-you-think-...</td>\n",
        "      <td>  With the GOP holding the majority in Congress...</td>\n",
        "      <td> 11/06/14 10:31 AM</td>\n",
        "      <td> obama</td>\n",
        "    </tr>\n",
        "    <tr>\n",
        "      <th>24</th>\n",
        "      <td> MSNBC</td>\n",
        "      <td> http://www.msnbc.com/politicsnation/revs-early...</td>\n",
        "      <td>  GOP leaders plan for January voting blitz to ...</td>\n",
        "      <td> 11/06/14 07:03 AM</td>\n",
        "      <td> obama</td>\n",
        "    </tr>\n",
        "    <tr>\n",
        "      <th>25</th>\n",
        "      <td> MSNBC</td>\n",
        "      <td> http://www.msnbc.com/politicsnation/revs-early...</td>\n",
        "      <td>  GOP takes control of Senate by winning Democr...</td>\n",
        "      <td> 11/05/14 06:59 AM</td>\n",
        "      <td> obama</td>\n",
        "    </tr>\n",
        "    <tr>\n",
        "      <th>26</th>\n",
        "      <td> MSNBC</td>\n",
        "      <td>        http://www.msnbc.com/msnbc/2016-starts-now</td>\n",
        "      <td>  DES MOINES  Iowa  The starting pistol on the ...</td>\n",
        "      <td> 11/05/14 03:38 AM</td>\n",
        "      <td> obama</td>\n",
        "    </tr>\n",
        "    <tr>\n",
        "      <th>27</th>\n",
        "      <td> MSNBC</td>\n",
        "      <td> http://www.msnbc.com/rachel-maddow-show/boehne...</td>\n",
        "      <td>  President Obama used an interesting phrase mo...</td>\n",
        "      <td> 11/06/14 11:04 AM</td>\n",
        "      <td> obama</td>\n",
        "    </tr>\n",
        "    <tr>\n",
        "      <th>28</th>\n",
        "      <td> MSNBC</td>\n",
        "      <td> http://www.msnbc.com/rachel-maddow-show/voters...</td>\n",
        "      <td>  Just two short years ago  President Obama cru...</td>\n",
        "      <td> 11/05/14 08:00 AM</td>\n",
        "      <td> obama</td>\n",
        "    </tr>\n",
        "    <tr>\n",
        "      <th>29</th>\n",
        "      <td> MSNBC</td>\n",
        "      <td> http://www.msnbc.com/msnbc/north-carolina-resu...</td>\n",
        "      <td>  NBC News projects that Republican Thom Tillis...</td>\n",
        "      <td> 11/05/14 12:00 AM</td>\n",
        "      <td> obama</td>\n",
        "    </tr>\n",
        "    <tr>\n",
        "      <th>30</th>\n",
        "      <td> MSNBC</td>\n",
        "      <td> http://www.msnbc.com/rachel-maddow-show/boehne...</td>\n",
        "      <td>  Just last year  House Speaker John Boehner  R...</td>\n",
        "      <td> 11/06/14 03:51 PM</td>\n",
        "      <td> obama</td>\n",
        "    </tr>\n",
        "    <tr>\n",
        "      <th>31</th>\n",
        "      <td> MSNBC</td>\n",
        "      <td> http://www.msnbc.com/morning-joe/gop-boehner-m...</td>\n",
        "      <td>  Riding high on a spate of electoral victories...</td>\n",
        "      <td> 11/06/14 08:30 AM</td>\n",
        "      <td> obama</td>\n",
        "    </tr>\n",
        "    <tr>\n",
        "      <th>32</th>\n",
        "      <td> MSNBC</td>\n",
        "      <td> http://www.msnbc.com/rachel-maddow-show/wednes...</td>\n",
        "      <td>  Today s installment of campaign related news ...</td>\n",
        "      <td> 11/05/14 12:00 PM</td>\n",
        "      <td> obama</td>\n",
        "    </tr>\n",
        "    <tr>\n",
        "      <th>33</th>\n",
        "      <td> MSNBC</td>\n",
        "      <td> http://www.msnbc.com/rachel-maddow-show/win-ye...</td>\n",
        "      <td>  The L A  Times this morning raised a question...</td>\n",
        "      <td> 11/05/14 09:06 AM</td>\n",
        "      <td> obama</td>\n",
        "    </tr>\n",
        "    <tr>\n",
        "      <th>34</th>\n",
        "      <td> MSNBC</td>\n",
        "      <td> http://www.msnbc.com/msnbc/colorado-gubernator...</td>\n",
        "      <td>  No bones about it  Tuesday night was an abysm...</td>\n",
        "      <td> 11/05/14 03:07 PM</td>\n",
        "      <td> obama</td>\n",
        "    </tr>\n",
        "    <tr>\n",
        "      <th>35</th>\n",
        "      <td> MSNBC</td>\n",
        "      <td> http://www.msnbc.com/msnbc/the-wackiest-winner...</td>\n",
        "      <td>  Democrats took a drubbing in Tuesday s midter...</td>\n",
        "      <td> 11/05/14 03:32 AM</td>\n",
        "      <td> obama</td>\n",
        "    </tr>\n",
        "    <tr>\n",
        "      <th>36</th>\n",
        "      <td> MSNBC</td>\n",
        "      <td> http://www.msnbc.com/rachel-maddow-show/why-ev...</td>\n",
        "      <td>  What can a Republican Congress and Democratic...</td>\n",
        "      <td> 11/06/14 11:42 AM</td>\n",
        "      <td> obama</td>\n",
        "    </tr>\n",
        "    <tr>\n",
        "      <th>37</th>\n",
        "      <td> MSNBC</td>\n",
        "      <td> http://www.msnbc.com/msnbc/election-day-throug...</td>\n",
        "      <td>  Facebook and Twitter have begun to play a key...</td>\n",
        "      <td> 11/05/14 10:46 PM</td>\n",
        "      <td> obama</td>\n",
        "    </tr>\n",
        "    <tr>\n",
        "      <th>38</th>\n",
        "      <td> MSNBC</td>\n",
        "      <td> http://www.msnbc.com/msnbc/keystone-pipeline-m...</td>\n",
        "      <td>  Now that Republicans control both the House a...</td>\n",
        "      <td> 11/05/14 06:32 PM</td>\n",
        "      <td> obama</td>\n",
        "    </tr>\n",
        "    <tr>\n",
        "      <th>39</th>\n",
        "      <td> MSNBC</td>\n",
        "      <td> http://www.msnbc.com/msnbc/msnbc-reacts-midter...</td>\n",
        "      <td>  On Election Day  msnbc com users expressed fr...</td>\n",
        "      <td> 11/05/14 11:08 PM</td>\n",
        "      <td> obama</td>\n",
        "    </tr>\n",
        "    <tr>\n",
        "      <th>40</th>\n",
        "      <td> MSNBC</td>\n",
        "      <td> http://www.msnbc.com/rachel-maddow-show/thursd...</td>\n",
        "      <td>  Today s edition of quick hits      More on th...</td>\n",
        "      <td> 11/06/14 05:30 PM</td>\n",
        "      <td> obama</td>\n",
        "    </tr>\n",
        "    <tr>\n",
        "      <th>41</th>\n",
        "      <td> MSNBC</td>\n",
        "      <td> http://www.msnbc.com/msnbc/latino-vote-hints-h...</td>\n",
        "      <td>  DENVER  Colo  Latino activists and immigratio...</td>\n",
        "      <td> 11/05/14 03:39 AM</td>\n",
        "      <td> obama</td>\n",
        "    </tr>\n",
        "    <tr>\n",
        "      <th>42</th>\n",
        "      <td> MSNBC</td>\n",
        "      <td> http://www.msnbc.com/rachel-maddow-show/thursd...</td>\n",
        "      <td>  Today s installment of campaign related news ...</td>\n",
        "      <td> 11/06/14 12:00 PM</td>\n",
        "      <td> obama</td>\n",
        "    </tr>\n",
        "    <tr>\n",
        "      <th>43</th>\n",
        "      <td> MSNBC</td>\n",
        "      <td> http://www.msnbc.com/msnbc/business-latest-wha...</td>\n",
        "      <td>  WHAT THE GOP SWEEP MEANS FOR BUSINESS  ECONOM...</td>\n",
        "      <td> 11/05/14 05:30 PM</td>\n",
        "      <td> obama</td>\n",
        "    </tr>\n",
        "    <tr>\n",
        "      <th>44</th>\n",
        "      <td> MSNBC</td>\n",
        "      <td> http://www.msnbc.com/rachel-maddow-show/obama-...</td>\n",
        "      <td>  President Obama held a lengthy  post election...</td>\n",
        "      <td> 11/05/14 05:04 PM</td>\n",
        "      <td> obama</td>\n",
        "    </tr>\n",
        "  </tbody>\n",
        "</table>\n",
        "</div>"
       ],
       "metadata": {},
       "output_type": "pyout",
       "prompt_number": 448,
       "text": [
        "   source                                                url  \\\n",
        "0   MSNBC  http://www.msnbc.com/msnbc/chris-christie-midt...   \n",
        "1   MSNBC  http://www.msnbc.com/rachel-maddow-show/after-...   \n",
        "2   MSNBC  http://www.msnbc.com/msnbc/after-gop-shellacki...   \n",
        "3   MSNBC  http://www.msnbc.com/msnbc/mcconnell-urges-com...   \n",
        "4   MSNBC  http://www.msnbc.com/msnbc/lgbt-candidates-win...   \n",
        "5   MSNBC  http://www.msnbc.com/msnbc/mixed-election-repr...   \n",
        "6   MSNBC  http://www.msnbc.com/morning-joe/new-kids-the-...   \n",
        "7   MSNBC  http://www.msnbc.com/msnbc/gop-widens-leadersh...   \n",
        "8   MSNBC  http://www.msnbc.com/msnbc/voters-not-enthusia...   \n",
        "9   MSNBC  http://www.msnbc.com/msnbc/latinos-cooling-oba...   \n",
        "10  MSNBC  http://www.msnbc.com/rachel-maddow-show/jobles...   \n",
        "11  MSNBC  http://www.msnbc.com/rachel-maddow-show/conser...   \n",
        "12  MSNBC  http://www.msnbc.com/msnbc/obama-american-peop...   \n",
        "13  MSNBC  http://www.msnbc.com/rachel-maddow-show/wednes...   \n",
        "14  MSNBC  http://www.msnbc.com/msnbc/charlie-crist-vs-ri...   \n",
        "15  MSNBC  http://www.msnbc.com/msnbc/scott-walkers-victo...   \n",
        "16  MSNBC  http://www.msnbc.com/msnbc/sarah-palin-democra...   \n",
        "17  MSNBC  http://www.msnbc.com/msnbc/the-curse-the-obama...   \n",
        "18  MSNBC  http://www.msnbc.com/hardball/sideshow-electio...   \n",
        "19  MSNBC  http://www.msnbc.com/msnbc/joni-ernst-star-bor...   \n",
        "20  MSNBC  http://www.msnbc.com/msnbc/fawzi-odah-guantana...   \n",
        "21  MSNBC  http://www.msnbc.com/morning-joe/white-house-g...   \n",
        "22  MSNBC  http://www.msnbc.com/morning-joe/reince-preibu...   \n",
        "23  MSNBC  http://www.msnbc.com/news-nation/do-you-think-...   \n",
        "24  MSNBC  http://www.msnbc.com/politicsnation/revs-early...   \n",
        "25  MSNBC  http://www.msnbc.com/politicsnation/revs-early...   \n",
        "26  MSNBC         http://www.msnbc.com/msnbc/2016-starts-now   \n",
        "27  MSNBC  http://www.msnbc.com/rachel-maddow-show/boehne...   \n",
        "28  MSNBC  http://www.msnbc.com/rachel-maddow-show/voters...   \n",
        "29  MSNBC  http://www.msnbc.com/msnbc/north-carolina-resu...   \n",
        "30  MSNBC  http://www.msnbc.com/rachel-maddow-show/boehne...   \n",
        "31  MSNBC  http://www.msnbc.com/morning-joe/gop-boehner-m...   \n",
        "32  MSNBC  http://www.msnbc.com/rachel-maddow-show/wednes...   \n",
        "33  MSNBC  http://www.msnbc.com/rachel-maddow-show/win-ye...   \n",
        "34  MSNBC  http://www.msnbc.com/msnbc/colorado-gubernator...   \n",
        "35  MSNBC  http://www.msnbc.com/msnbc/the-wackiest-winner...   \n",
        "36  MSNBC  http://www.msnbc.com/rachel-maddow-show/why-ev...   \n",
        "37  MSNBC  http://www.msnbc.com/msnbc/election-day-throug...   \n",
        "38  MSNBC  http://www.msnbc.com/msnbc/keystone-pipeline-m...   \n",
        "39  MSNBC  http://www.msnbc.com/msnbc/msnbc-reacts-midter...   \n",
        "40  MSNBC  http://www.msnbc.com/rachel-maddow-show/thursd...   \n",
        "41  MSNBC  http://www.msnbc.com/msnbc/latino-vote-hints-h...   \n",
        "42  MSNBC  http://www.msnbc.com/rachel-maddow-show/thursd...   \n",
        "43  MSNBC  http://www.msnbc.com/msnbc/business-latest-wha...   \n",
        "44  MSNBC  http://www.msnbc.com/rachel-maddow-show/obama-...   \n",
        "\n",
        "                                                 text       publish_date  \\\n",
        "0    New Jersey Governor Chris Christie wasn t up ...  11/05/14 02:55 PM   \n",
        "1    Meet America s 10 newest Senators   Time  Pre...  11/05/14 07:52 AM   \n",
        "2    Republicans  decisive win Tuesday is likely t...  11/05/14 03:18 AM   \n",
        "3    In his first remarks since Republicans claime...  11/05/14 04:38 PM   \n",
        "4    Voters may have taken a giant step to the rig...  11/05/14 04:42 PM   \n",
        "5    Abortion rights opponents were celebrating bi...  11/05/14 01:32 PM   \n",
        "6    On Tuesday night  an army of nine Republican ...  11/05/14 10:33 AM   \n",
        "7    Democrats woke up on Wednesday to a Republica...  11/05/14 06:30 PM   \n",
        "8    The end of the 2014 midterm election means th...  11/05/14 12:45 AM   \n",
        "9    The NBC News national exit poll found that La...  11/04/14 11:43 PM   \n",
        "10   On the eve of the new jobs report  many hoped...  11/06/14 08:37 AM   \n",
        "11   By most measures  President Obama s post elec...  11/06/14 10:37 AM   \n",
        "12   A day after voters rejected Democrats in midt...  11/05/14 03:04 PM   \n",
        "13   Today s edition of quick hits      Israel   A...  11/05/14 05:30 PM   \n",
        "14   ST  PETERSBURG  Fla   Once again  Charlie Cri...  11/04/14 11:54 PM   \n",
        "15   Wisconsin Gov  Scott Walker ended Tuesday nig...  11/05/14 02:14 PM   \n",
        "16   In the words of Sarah Palin  the  Democrats g...  11/05/14 11:04 AM   \n",
        "17   Barack Obama s coalition has become a curse f...  11/06/14 04:40 PM   \n",
        "18   Time for the Sideshow  Another election has c...  11/05/14 02:21 PM   \n",
        "19   WEST DES MOINES  Iowa  Republican Joni Ernst ...  11/05/14 12:08 AM   \n",
        "20   A Kuwaiti man was released Wednesday after be...  11/06/14 02:40 PM   \n",
        "21   As the GOP continues its victory lap in the w...  11/06/14 02:09 PM   \n",
        "22   Hours after his party surged to victories nat...  11/05/14 02:45 PM   \n",
        "23   With the GOP holding the majority in Congress...  11/06/14 10:31 AM   \n",
        "24   GOP leaders plan for January voting blitz to ...  11/06/14 07:03 AM   \n",
        "25   GOP takes control of Senate by winning Democr...  11/05/14 06:59 AM   \n",
        "26   DES MOINES  Iowa  The starting pistol on the ...  11/05/14 03:38 AM   \n",
        "27   President Obama used an interesting phrase mo...  11/06/14 11:04 AM   \n",
        "28   Just two short years ago  President Obama cru...  11/05/14 08:00 AM   \n",
        "29   NBC News projects that Republican Thom Tillis...  11/05/14 12:00 AM   \n",
        "30   Just last year  House Speaker John Boehner  R...  11/06/14 03:51 PM   \n",
        "31   Riding high on a spate of electoral victories...  11/06/14 08:30 AM   \n",
        "32   Today s installment of campaign related news ...  11/05/14 12:00 PM   \n",
        "33   The L A  Times this morning raised a question...  11/05/14 09:06 AM   \n",
        "34   No bones about it  Tuesday night was an abysm...  11/05/14 03:07 PM   \n",
        "35   Democrats took a drubbing in Tuesday s midter...  11/05/14 03:32 AM   \n",
        "36   What can a Republican Congress and Democratic...  11/06/14 11:42 AM   \n",
        "37   Facebook and Twitter have begun to play a key...  11/05/14 10:46 PM   \n",
        "38   Now that Republicans control both the House a...  11/05/14 06:32 PM   \n",
        "39   On Election Day  msnbc com users expressed fr...  11/05/14 11:08 PM   \n",
        "40   Today s edition of quick hits      More on th...  11/06/14 05:30 PM   \n",
        "41   DENVER  Colo  Latino activists and immigratio...  11/05/14 03:39 AM   \n",
        "42   Today s installment of campaign related news ...  11/06/14 12:00 PM   \n",
        "43   WHAT THE GOP SWEEP MEANS FOR BUSINESS  ECONOM...  11/05/14 05:30 PM   \n",
        "44   President Obama held a lengthy  post election...  11/05/14 05:04 PM   \n",
        "\n",
        "   category  \n",
        "0     obama  \n",
        "1     obama  \n",
        "2     obama  \n",
        "3     obama  \n",
        "4     obama  \n",
        "5     obama  \n",
        "6     obama  \n",
        "7     obama  \n",
        "8     obama  \n",
        "9     obama  \n",
        "10    obama  \n",
        "11    obama  \n",
        "12    obama  \n",
        "13    obama  \n",
        "14    obama  \n",
        "15    obama  \n",
        "16    obama  \n",
        "17    obama  \n",
        "18    obama  \n",
        "19    obama  \n",
        "20    obama  \n",
        "21    obama  \n",
        "22    obama  \n",
        "23    obama  \n",
        "24    obama  \n",
        "25    obama  \n",
        "26    obama  \n",
        "27    obama  \n",
        "28    obama  \n",
        "29    obama  \n",
        "30    obama  \n",
        "31    obama  \n",
        "32    obama  \n",
        "33    obama  \n",
        "34    obama  \n",
        "35    obama  \n",
        "36    obama  \n",
        "37    obama  \n",
        "38    obama  \n",
        "39    obama  \n",
        "40    obama  \n",
        "41    obama  \n",
        "42    obama  \n",
        "43    obama  \n",
        "44    obama  "
       ]
      }
     ],
     "prompt_number": 448
    },
    {
     "cell_type": "code",
     "collapsed": false,
     "input": [
      "key = \"06085d751562b32ec4929cc0537bf9cc:8:69947278\"\n",
      "url = 'http://api.nytimes.com/svc/search/v2/articlesearch.json?sort=newest&api-key=' + api_key + '&q=marijuana'\n",
      "api = requests.get(url)\n",
      "total_articles = articles_left = api.json()['response']['meta']['hits']"
     ],
     "language": "python",
     "metadata": {},
     "outputs": [],
     "prompt_number": 453
    },
    {
     "cell_type": "code",
     "collapsed": false,
     "input": [
      "total_articles"
     ],
     "language": "python",
     "metadata": {},
     "outputs": [
      {
       "metadata": {},
       "output_type": "pyout",
       "prompt_number": 454,
       "text": [
        "23925"
       ]
      }
     ],
     "prompt_number": 454
    },
    {
     "cell_type": "code",
     "collapsed": false,
     "input": [
      "m = pd.read_csv('data/npr_marijuana_data.csv')\n",
      "a = pd.read_csv('data/npr_abortion_data.csv')"
     ],
     "language": "python",
     "metadata": {},
     "outputs": [],
     "prompt_number": 485
    },
    {
     "cell_type": "code",
     "collapsed": false,
     "input": [
      "m = m.drop_duplicates()\n",
      "a = a.drop_duplicates()"
     ],
     "language": "python",
     "metadata": {},
     "outputs": [],
     "prompt_number": 486
    },
    {
     "cell_type": "code",
     "collapsed": false,
     "input": [
      "al = pd.concat([a,m])"
     ],
     "language": "python",
     "metadata": {},
     "outputs": [],
     "prompt_number": 487
    },
    {
     "cell_type": "code",
     "collapsed": false,
     "input": [
      "X = al['text'].values\n",
      "y = al['category'].values.astype(str)"
     ],
     "language": "python",
     "metadata": {},
     "outputs": [],
     "prompt_number": 528
    },
    {
     "cell_type": "code",
     "collapsed": false,
     "input": [
      "vec = TfidfVectorizer(max_features=1000)\n",
      "X_mat = vec.fit_transform(X).toarray()"
     ],
     "language": "python",
     "metadata": {},
     "outputs": [],
     "prompt_number": 538
    },
    {
     "cell_type": "code",
     "collapsed": false,
     "input": [
      "rfc = RandomForestClassifier()\n",
      "rfc.fit(X_mat, y)\n",
      "rfc.score(X_mat, y)\n",
      "cross_val_score(rfc, X_mat, y)"
     ],
     "language": "python",
     "metadata": {},
     "outputs": [
      {
       "metadata": {},
       "output_type": "pyout",
       "prompt_number": 539,
       "text": [
        "array([ 0.87213997,  0.86137281,  0.88274933])"
       ]
      }
     ],
     "prompt_number": 539
    },
    {
     "cell_type": "code",
     "collapsed": false,
     "input": [
      "imp = np.argsort(rfc.feature_importances_)[::-1]"
     ],
     "language": "python",
     "metadata": {},
     "outputs": [],
     "prompt_number": 513
    },
    {
     "cell_type": "code",
     "collapsed": false,
     "input": [
      "np.array(vec.get_feature_names())[imp]"
     ],
     "language": "python",
     "metadata": {},
     "outputs": [
      {
       "metadata": {},
       "output_type": "pyout",
       "prompt_number": 514,
       "text": [
        "array([u'marijuana', u'abortion', u'republican', u'drug', u'rights',\n",
        "       u'abortions', u'health', u'democrats', u'care', u'women',\n",
        "       u'democratic', u'president', u'conservative', u'senate',\n",
        "       u'political', u'debate', u'into', u'that', u'of', u'medical',\n",
        "       u'npr', u'to', u'go', u'in', u'copyright', u'his', u'the', u'most',\n",
        "       u'support', u'said', u'for', u'was', u'all', u'on', u'you', u'who',\n",
        "       u'it', u'going', u'number', u'people', u'groups', u'is', u'from',\n",
        "       u'their', u'new', u'were', u'use', u'just', u'do', u'or', u'this',\n",
        "       u'even', u'they', u'which', u'how', u'would', u'being', u'at',\n",
        "       u'2014', u'congress', u'about', u'former', u'me', u'more', u'like',\n",
        "       u'times', u'so', u'where', u'theres', u'around', u'against',\n",
        "       u'down', u'found', u'get', u'today', u'out', u'both', u'any', u'as',\n",
        "       u'but', u'news', u'become', u'than', u'life', u'little', u'court',\n",
        "       u'way', u'up', u'long', u'by', u'doesnt', u'university', u'day',\n",
        "       u'getting', u'between', u'really', u'center', u'over', u'city',\n",
        "       u'some', u'group', u'be', u'give', u'she', u'he', u'our', u'while',\n",
        "       u'during', u'have', u'better', u'first', u'world', u'an', u'not',\n",
        "       u'told', u'if', u'national', u'also', u'few', u'vote', u'percent',\n",
        "       u'its', u'had', u'what', u'made', u'thats', u'here', u'went',\n",
        "       u'later', u'less', u'says', u'off', u'million', u'last', u'house',\n",
        "       u'back', u'there', u'according', u'been', u'with', u'bill', u'lot',\n",
        "       u'these', u'didnt', u'see', u'states', u'cant', u'years', u'say',\n",
        "       u'because', u'far', u'white', u'legal', u'might', u'think',\n",
        "       u'right', u'different', u'each', u'come', u'we', u'got', u'federal',\n",
        "       u'state', u'through', u'another', u'find', u'away', u'since',\n",
        "       u'left', u'end', u'your', u'days', u'has', u'party', u'well',\n",
        "       u'thing', u'after', u'kind', u'when', u'american', u'government',\n",
        "       u'her', u'washington', u'other', u'time', u'should', u'without',\n",
        "       u'only', u'take', u'country', u'hes', u'can', u'actually', u'under',\n",
        "       u'my', u'help', u'york', u'including', u'much', u'members',\n",
        "       u'enough', u'doing', u'could', u'are', u'still', u'making',\n",
        "       u'believe', u'big', u'part', u'did', u'took', u'too', u'often',\n",
        "       u'very', u'one', u'used', u'high', u'though', u'run',\n",
        "       u'republicans', u'work', u'and', u'show', u'know', u'early',\n",
        "       u'money', u'issue', u'issues', u'obama', u'whether', u'public',\n",
        "       u'does', u'no', u'them', u'look', u'campaign', u'those', u'fact',\n",
        "       u'saying', u'put', u'ago', u'theyre', u'called', u'three', u'such',\n",
        "       u'case', u'two', u'trying', u'year', u'next', u'then', u'will',\n",
        "       u'several', u'policy', u'john', u'came', u'having', u'point',\n",
        "       u'law', u'control', u'place', u'us', u'family', u'four', u'story',\n",
        "       u'past', u'now', u'change', u'im', u'dont', u'asked', u'keep',\n",
        "       u'home', u'never', u'make', u'question', u'why', u'same', u'many',\n",
        "       u'already', u'every', u'office', u'something', u'until', u'week',\n",
        "       u'things', u'need', u'may', u'among', u'majority', u'likely',\n",
        "       u'him', u'want', u'before', u'once', u'least', u'school', u'own',\n",
        "       u'recent', u'good'], \n",
        "      dtype='<U12')"
       ]
      }
     ],
     "prompt_number": 514
    },
    {
     "cell_type": "code",
     "collapsed": false,
     "input": [
      "from sklearn.naive_bayes import MultinomialNB"
     ],
     "language": "python",
     "metadata": {},
     "outputs": [],
     "prompt_number": 515
    },
    {
     "cell_type": "code",
     "collapsed": false,
     "input": [
      "nb = MultinomialNB()"
     ],
     "language": "python",
     "metadata": {},
     "outputs": [],
     "prompt_number": 516
    },
    {
     "cell_type": "code",
     "collapsed": false,
     "input": [
      "nb.fit(X_mat, y)"
     ],
     "language": "python",
     "metadata": {},
     "outputs": [
      {
       "metadata": {},
       "output_type": "pyout",
       "prompt_number": 529,
       "text": [
        "MultinomialNB(alpha=1.0, class_prior=None, fit_prior=True)"
       ]
      }
     ],
     "prompt_number": 529
    },
    {
     "cell_type": "code",
     "collapsed": false,
     "input": [
      "nb.score(X_mat, y)"
     ],
     "language": "python",
     "metadata": {},
     "outputs": [
      {
       "metadata": {},
       "output_type": "pyout",
       "prompt_number": 532,
       "text": [
        "0.84066427289048473"
       ]
      }
     ],
     "prompt_number": 532
    },
    {
     "cell_type": "code",
     "collapsed": false,
     "input": [
      "n = pd.read_csv('data/nyt_marijuana_data.csv')\n",
      "n=n.drop_duplicates()"
     ],
     "language": "python",
     "metadata": {},
     "outputs": [],
     "prompt_number": 546
    },
    {
     "cell_type": "code",
     "collapsed": false,
     "input": [
      "al['text'] = al['text'].apply(lambda x: x.replace('npr', ' '))\n",
      "al['text'] = al['text'].apply(lambda x: x.replace('Copyright', ' '))\n",
      "al['text'] = al['text'].apply(lambda x: x.replace('2014', ' '))"
     ],
     "language": "python",
     "metadata": {},
     "outputs": [],
     "prompt_number": 578
    },
    {
     "cell_type": "code",
     "collapsed": false,
     "input": [
      "al = pd.concat([m.ix[:273,:],n])"
     ],
     "language": "python",
     "metadata": {},
     "outputs": [],
     "prompt_number": 547
    },
    {
     "cell_type": "code",
     "collapsed": false,
     "input": [
      "X = al['text'].values\n",
      "y = al['source'].values.astype(str)"
     ],
     "language": "python",
     "metadata": {},
     "outputs": [],
     "prompt_number": 579
    },
    {
     "cell_type": "code",
     "collapsed": false,
     "input": [
      "X_mat = vec.fit_transform(X).toarray()"
     ],
     "language": "python",
     "metadata": {},
     "outputs": [],
     "prompt_number": 580
    },
    {
     "cell_type": "code",
     "collapsed": false,
     "input": [
      "rfc.fit(X_mat, y)"
     ],
     "language": "python",
     "metadata": {},
     "outputs": [
      {
       "metadata": {},
       "output_type": "pyout",
       "prompt_number": 581,
       "text": [
        "RandomForestClassifier(bootstrap=True, compute_importances=None,\n",
        "            criterion='gini', max_depth=None, max_features='auto',\n",
        "            min_density=None, min_samples_leaf=1, min_samples_split=2,\n",
        "            n_estimators=10, n_jobs=1, oob_score=False, random_state=None,\n",
        "            verbose=0)"
       ]
      }
     ],
     "prompt_number": 581
    },
    {
     "cell_type": "code",
     "collapsed": false,
     "input": [
      "rfc.score(X_mat, y)"
     ],
     "language": "python",
     "metadata": {},
     "outputs": [
      {
       "metadata": {},
       "output_type": "pyout",
       "prompt_number": 582,
       "text": [
        "0.99449541284403675"
       ]
      }
     ],
     "prompt_number": 582
    },
    {
     "cell_type": "code",
     "collapsed": false,
     "input": [
      "imp = np.argsort(rfc.feature_importances_)[::-1]\n",
      "np.array(vec.get_feature_names())[imp]"
     ],
     "language": "python",
     "metadata": {},
     "outputs": [
      {
       "metadata": {},
       "output_type": "pyout",
       "prompt_number": 583,
       "text": [
        "array([u'says', u'marijuana', u'by', u'said', u'that', u'reports', u'two',\n",
        "       u'in', u'thats', u'voters', u'of', u'its', u'are', u'now', u'we',\n",
        "       u'very', u'theyre', u'does', u'much', u'and', u'district', u'he',\n",
        "       u'like', u'then', u'from', u'the', u'mr', u'first', u'this',\n",
        "       u'officers', u'weeks', u'may', u'tuesday', u'year', u'him',\n",
        "       u'officials', u'it', u'social', u'news', u'case', u'were', u'early',\n",
        "       u'multiple', u'has', u'theres', u'already', u'oregon', u'who',\n",
        "       u'if', u'efforts', u'came', u'keep', u'could', u'mayor', u'come',\n",
        "       u'thousands', u'measure', u'calls', u'these', u'president', u'they',\n",
        "       u'million', u'bit', u'removed', u'attorney', u'still',\n",
        "       u'university', u'both', u'been', u'bill', u'many', u'past',\n",
        "       u'legalize', u'including', u'running', u'you', u'on', u'decide',\n",
        "       u'according', u'street', u'best', u'less', u'opinion', u'too',\n",
        "       u'association', u'tells', u'study', u'governor', u'true', u'about',\n",
        "       u'kind', u'until', u'clear', u'around', u'music', u'half',\n",
        "       u'republicans', u'low', u'debate', u'issue', u'60', u'largest',\n",
        "       u'always', u'out', u'top', u'police', u'those', u'several', u'at',\n",
        "       u'amendment', u'different', u'monday', u'have', u'defense', u'pot',\n",
        "       u'states', u'anyone', u'san', u'month', u'as', u'expected',\n",
        "       u'friend', u'under', u'against', u'my', u'show', u'asked', u'tried',\n",
        "       u'patients', u'people', u'charged', u'large', u'man', u'before',\n",
        "       u'education', u'faces', u'americans', u'showed', u'than', u'such',\n",
        "       u'10', u'measures', u'enough', u'do', u'same', u'raised', u'open',\n",
        "       u'say', u'particularly', u'level', u'hearing', u'percent', u'not',\n",
        "       u'for', u'lawyer', u'across', u'health', u'term', u'three',\n",
        "       u'things', u'presidential', u'possession', u'shooting',\n",
        "       u'administration', u'scott', u'ballot', u'november', u'use',\n",
        "       u'time', u'themselves', u'whether', u'county', u'vote', u'drugs',\n",
        "       u'elections', u'one', u'far', u'right', u'know', u'any', u'role',\n",
        "       u'had', u'between', u'candidates', u'involved', u'seem', u'which',\n",
        "       u'how', u'just', u'to', u'california', u'see', u'making', u'woman',\n",
        "       u'looked', u'seen', u'every', u'july', u'online', u'goes', u'why',\n",
        "       u'reelection', u'am', u'leading', u'so', u'fact', u'should',\n",
        "       u'along', u'was', u'likely', u'country', u'groups', u'look',\n",
        "       u'former', u'passed', u'phone', u'convicted', u'really', u'lot',\n",
        "       u'begin', u'york', u'front', u'charges', u'remains', u'public',\n",
        "       u'playing', u'system', u'since', u'terms', u'effort', u'concerns',\n",
        "       u'talking', u'find', u'abuse', u'died', u'american', u'some',\n",
        "       u'available', u'millions', u'last', u'no', u'cause', u'laws',\n",
        "       u'sold', u'considered', u'wednesday', u'calling', u'name',\n",
        "       u'number', u'she', u'editing', u'is', u'pleaded', u'off', u'made',\n",
        "       u'state', u'real', u'office', u'didnt', u'perhaps', u'close',\n",
        "       u'move', u'outside', u'thursday', u'judge', u'research', u'noted',\n",
        "       u'ended', u'be', u'meet', u'appeared', u'bring', u'focus',\n",
        "       u'seeking', u'los', u'more', u'his', u'11', u'senate', u'drug',\n",
        "       u'citizens', u'act', u'either', u'into', u'while', u'easy',\n",
        "       u'worth', u'hours', u'yet', u'live', u'over', u'using', u'spent',\n",
        "       u'records', u'other', u'reported', u'center', u'capital',\n",
        "       u'positive', u'played', u'but', u'action', u'east', u'during',\n",
        "       u'city', u'general', u'common', u'need', u'taken', u'local', u'go',\n",
        "       u'agreed', u'gave', u'agents', u'women', u'test', u'growing',\n",
        "       u'angeles', u'saying', u'track', u'party', u'sell', u'take',\n",
        "       u'january', u'third', u'votes', u'together', u'stores', u'again',\n",
        "       u'results', u'2011', u'going', u'raise', u'suspected', u'tax',\n",
        "       u'consider', u'stop', u'plants', u'getting', u'influence', u'hour',\n",
        "       u'anything', u'actually', u'never', u'course', u'runs', u'earlier',\n",
        "       u'week', u'risk', u'war', u'told', u'shows', u'though', u'tv',\n",
        "       u'ask', u'department', u'long', u'looking', u'taxes', u'previously',\n",
        "       u'or', u'final', u'ground', u'users', u'received', u'movement',\n",
        "       u'media', u'announced', u'12', u'an', u'crime', u'america',\n",
        "       u'however', u'business', u'nations', u'there', u'colorado',\n",
        "       u'largely', u'working', u'opposition', u'decade', u'what',\n",
        "       u'significant', u'her', u'decision', u'oct', u'paid', u'taking',\n",
        "       u'arrest', u'30', u'used', u'rules', u'race', u'something',\n",
        "       u'toward', u'our', u'associated', u'men', u'their', u'dc', u'also',\n",
        "       u'candidate', u'politics', u'fbi', u'election', u'marriage',\n",
        "       u'independent', u'cost', u'with', u'own', u'known', u'process',\n",
        "       u'based', u'battle', u'failed', u'fall', u'almost', u'families',\n",
        "       u'family', u'became', u'2008', u'father', u'20', u'bob', u'18',\n",
        "       u'federal', u'although', u'eric', u'because', u'2012',\n",
        "       u'everything', u'especially', u'better', u'example', u'feel',\n",
        "       u'evidence', u'everyone', u'believe', u'executive', u'being',\n",
        "       u'biggest', u'billion', u'experience', u'face', u'big', u'behind',\n",
        "       u'black', u'ever', u'2010', u'events', u'began', u'even', u'2013',\n",
        "       u'become', u'away', u'fell', u'arent', u'13', u'full', u'future',\n",
        "       u'asking', u'george', u'get', u'gets', u'arrests', u'give',\n",
        "       u'given', u'gives', u'giving', u'area', u'friends', u'april',\n",
        "       u'approved', u'appear', u'good', u'got', u'among', u'amounts',\n",
        "       u'gov', u'government', u'100', u'governors', u'great', u'14', u'15',\n",
        "       u'ban', u'follow', u'few', u'fight', u'financial', u'bad', u'fire',\n",
        "       u'back', u'five', u'17', u'florida', u'book', u'focused', u'16',\n",
        "       u'followed', u'friday', u'following', u'authorities', u'food',\n",
        "       u'august', u'force', u'form', u'attorneys', u'attention', u'attack',\n",
        "       u'found', u'four', u'free', u'enforcement', u'effects', u'end',\n",
        "       u'else', u'de', u'columbia', u'colorados', u'dead', u'deal',\n",
        "       u'death', u'college', u'added', u'cocaine', u'decades', u'clearly',\n",
        "       u'green', u'decided', u'civil', u'democrat', u'democratic',\n",
        "       u'cities', u'children', u'democrats', u'child', u'chief',\n",
        "       u'accused', u'denver', u'ahead', u'charge', u'described',\n",
        "       u'despite', u'ago', u'adults', u'comes', u'compared', u'control',\n",
        "       u'age', u'contributed', u'continue', u'agency', u'conservative',\n",
        "       u'congressional', u'couple', u'congress', u'conference', u'court',\n",
        "       u'create', u'company', u'days', u'companies', u'criminal', u'after',\n",
        "       u'current', u'daily', u'community', u'data', u'advocates', u'david',\n",
        "       u'committee', u'coming', u'day', u'did', u'changes', u'changed',\n",
        "       u'economy', u'cannabis', u'each', u'can', u'40', u'campaign',\n",
        "       u'alaska', u'alcohol', u'called', u'economic', u'all', u'call',\n",
        "       u'allow', u'allowed', u'cant', u'buy', u'businesses', u'brought',\n",
        "       u'effect', u'brother', u'25', u'21', u'eight', u'boston', u'2016',\n",
        "       u'elected', u'allowing', u'due', u'50', u'change', u'done',\n",
        "       u'account', u'chance', u'certain', u'difficult', u'director',\n",
        "       u'central', u'access', u'caught', u'cash', u'doesnt', u'doing',\n",
        "       u'dollars', u'cases', u'car', u'abortion', u'dont', u'door',\n",
        "       u'down', u'able', u'dr', u'air', u'drive', u'driving', u'dropped',\n",
        "       u'carry', u'care', u'culture', u'youre', u'group', u'sense',\n",
        "       u'selling', u'seems', u'security', u'second', u'seattle',\n",
        "       u'schools', u'school', u'saw', u'sales', u'sale', u'saidthe',\n",
        "       u'safety', u'safe', u'run', u'room', u'rights', u'reuters',\n",
        "       u'return', u'result', u'sen', u'series', u'position', u'serious',\n",
        "       u'soon', u'son', u'sometimes', u'someone', u'smoking', u'smoked',\n",
        "       u'smoke', u'small', u'six', u'single', u'similar', u'signed',\n",
        "       u'side', u'shot', u'short', u'seven', u'set', u'services',\n",
        "       u'service', u'resources', u'residents', u'republican', u'reporting',\n",
        "       u'published', u'provide', u'prosecutors', u'project', u'programs',\n",
        "       u'program', u'professor', u'products', u'production', u'problems',\n",
        "       u'problem', u'probably', u'private', u'prison', u'pretty', u'press',\n",
        "       u'power', u'potential', u'grow', u'push', u'put', u'question',\n",
        "       u'record', u'report', u'remember', u'remain', u'released',\n",
        "       u'release', u'reform', u'red', u'recreational', u'recently',\n",
        "       u'questions', u'recent', u'reason', u'rather', u'rate', u'ran',\n",
        "       u'radio', u'races', u'quickly', u'sought', u'south', u'special',\n",
        "       u'up', u'when', u'whats', u'weve', u'west', u'went', u'well',\n",
        "       u'ways', u'way', u'wasnt', u'washington', u'wants', u'wanted',\n",
        "       u'want', u'wall', u'voting', u'voted', u'violence', u'video',\n",
        "       u'victory', u'where', u'white', u'whole', u'workers', u'young',\n",
        "       u'yes', u'years', u'wrote', u'wouldnt', u'would', u'world',\n",
        "       u'works', u'worked', u'whose', u'work', u'wont', u'won', u'without',\n",
        "       u'within', u'win', u'will', u'wife', u'us', u'united', u'spending',\n",
        "       u'understand', u'takes', u'sure', u'supporters', u'support',\n",
        "       u'summer', u'substance', u'students', u'student', u'strong',\n",
        "       u'story', u'stories', u'steve', u'step', u'stay', u'statement',\n",
        "       u'started', u'start', u'stand', u'spokesman', u'talk', u'team',\n",
        "       u'tell', u'tom', u'turned', u'turn', u'trying', u'try', u'trouble',\n",
        "       u'trial', u'treatment', u'town', u'today', u'telling', u'times',\n",
        "       u'through', u'thought', u'think', u'thing', u'theyve', u'them',\n",
        "       u'texas', u'possible', u'post', u'population', u'later', u'knew',\n",
        "       u'killing', u'killed', u'kids', u'key', u'justice', u'jury',\n",
        "       u'johnson', u'john', u'jobs', u'job', u'jail', u'ive', u'issues',\n",
        "       u'isnt', u'investigators', u'investigation', u'interview',\n",
        "       u'international', u'late', u'law', u'living', u'lawmakers',\n",
        "       u'little', u'list', u'your', u'light', u'life', u'let',\n",
        "       u'legislation', u'legalizing', u'legalized', u'legalization',\n",
        "       u'legal', u'left', u'led', u'leave', u'least', u'leaders',\n",
        "       u'leader', u'lead', u'lawyers', u'instead', u'inside',\n",
        "       u'initiative', u'information', u'high', u'hes', u'here', u'helped',\n",
        "       u'help', u'held', u'heavily', u'heard', u'hear', u'head', u'having',\n",
        "       u'hard', u'happened', u'happen', u'hands', u'hand', u'guy', u'gun',\n",
        "       u'guilty', u'higher', u'himself', u'history', u'idea', u'industry',\n",
        "       u'increase', u'includes', u'included', u'include', u'important',\n",
        "       u'im', u'illegal', u'hundreds', u'hit', u'human', u'huge', u'house',\n",
        "       u'hospital', u'hopes', u'hope', u'home', u'hold', u'popular',\n",
        "       u'lives', u'longer', u'parents', u'order', u'opposed',\n",
        "       u'opportunity', u'opening', u'opened', u'only', u'once', u'older',\n",
        "       u'old', u'often', u'official', u'officer', u'obama', u'numbers',\n",
        "       u'nothing', u'notes', u'north', u'nine', u'night', u'others',\n",
        "       u'part', u'looks', u'parts', u'poor', u'polls', u'political',\n",
        "       u'policy', u'policies', u'points', u'point', u'play', u'plans',\n",
        "       u'plan', u'places', u'place', u'personal', u'person', u'period',\n",
        "       u'per', u'pay', u'paul', u'pass', u'next', u'new', u'needs',\n",
        "       u'michael', u'members', u'member', u'medical', u'means', u'mean',\n",
        "       u'me', u'maybe', u'matter', u'massachusetts', u'market', u'mark',\n",
        "       u'makes', u'make', u'majority', u'major', u'main', u'lower',\n",
        "       u'love', u'lost', u'needed', u'mexico', u'middle', u'mother',\n",
        "       u'nearly', u'near', u'national', u'nation', u'named', u'must',\n",
        "       u'moving', u'might', u'moved', u'mostly', u'most', u'morning',\n",
        "       u'months', u'money', u'moment', u'minimum', u'line', u'require',\n",
        "       u'another', u'took', u'arrested'], \n",
        "      dtype='<U14')"
       ]
      }
     ],
     "prompt_number": 583
    },
    {
     "cell_type": "code",
     "collapsed": false,
     "input": [
      "al['text'] = al['text'].apply(lambda x: x.replace('npr', ' '))\n",
      "al['text'] = al['text'].apply(lambda x: x.replace('copyright', ' '))"
     ],
     "language": "python",
     "metadata": {},
     "outputs": [],
     "prompt_number": 566
    },
    {
     "cell_type": "code",
     "collapsed": false,
     "input": [
      "cross_val_score(rfc, X_mat, y)"
     ],
     "language": "python",
     "metadata": {},
     "outputs": [
      {
       "metadata": {},
       "output_type": "pyout",
       "prompt_number": 585,
       "text": [
        "array([ 0.7032967 ,  0.73626374,  0.75138122])"
       ]
      }
     ],
     "prompt_number": 585
    },
    {
     "cell_type": "code",
     "collapsed": false,
     "input": [
      "f=pd.read_csv('data/fox_marijuana_data.csv')"
     ],
     "language": "python",
     "metadata": {},
     "outputs": [],
     "prompt_number": 589
    },
    {
     "cell_type": "code",
     "collapsed": false,
     "input": [
      "f.drop_duplicates().shape"
     ],
     "language": "python",
     "metadata": {},
     "outputs": [
      {
       "metadata": {},
       "output_type": "pyout",
       "prompt_number": 591,
       "text": [
        "(251, 5)"
       ]
      }
     ],
     "prompt_number": 591
    },
    {
     "cell_type": "code",
     "collapsed": false,
     "input": [
      "nyt_m = pd.read_csv('data/nyt_marijuana_data.csv').drop_duplicates()\n",
      "nyt_a = pd.read_csv('data/nyt_abortion_data.csv').drop_duplicates()\n",
      "npr_m = pd.read_csv('data/npr_marijuana_data.csv').drop_duplicates()\n",
      "npr_a = pd.read_csv('data/npr_abortion_data.csv').drop_duplicates()\n",
      "fox_m = pd.read_csv('data/fox_marijuana_data.csv').drop_duplicates()\n",
      "fox_a =pd.read_csv('data/fox_abortion_data.csv').drop_duplicates()\n",
      "msnbc_m = pd.read_csv('data/msnbc_marijuana_data.csv').drop_duplicates()\n",
      "msnbc_a = pd.read_csv('data/msnbc_abortion_data.csv').drop_duplicates()"
     ],
     "language": "python",
     "metadata": {},
     "outputs": [],
     "prompt_number": 689
    },
    {
     "cell_type": "code",
     "collapsed": false,
     "input": [
      "nyt_m.shape, nyt_a.shape, npr_m.shape, npr_a.shape, fox_m.shape, fox_a.shape, msnbc_m.shape, msnbc_a.shape"
     ],
     "language": "python",
     "metadata": {},
     "outputs": [
      {
       "metadata": {},
       "output_type": "pyout",
       "prompt_number": 690,
       "text": [
        "((2108, 5),\n",
        " (2683, 5),\n",
        " (847, 5),\n",
        " (1381, 5),\n",
        " (1028, 5),\n",
        " (942, 5),\n",
        " (374, 5),\n",
        " (1505, 5))"
       ]
      }
     ],
     "prompt_number": 690
    },
    {
     "cell_type": "code",
     "collapsed": false,
     "input": [
      "al = pd.concat([nyt_m, nyt_a, npr_a, npr_m])"
     ],
     "language": "python",
     "metadata": {},
     "outputs": [],
     "prompt_number": 599
    },
    {
     "cell_type": "code",
     "collapsed": false,
     "input": [
      "al.groupby(['source', 'category'])['publish_date'].min()"
     ],
     "language": "python",
     "metadata": {},
     "outputs": [
      {
       "metadata": {},
       "output_type": "pyout",
       "prompt_number": 603,
       "text": [
        "source  category \n",
        "NPR     abortion     20081231\n",
        "        marijuana    20081105\n",
        "NYT     abortion     20081231\n",
        "        marijuana    20130528\n",
        "Name: publish_date, dtype: float64"
       ]
      }
     ],
     "prompt_number": 603
    },
    {
     "cell_type": "code",
     "collapsed": false,
     "input": [
      "sent = pd.read_table('data/sentiment.txt', header=None).to_dict()"
     ],
     "language": "python",
     "metadata": {},
     "outputs": [],
     "prompt_number": 610
    },
    {
     "cell_type": "code",
     "collapsed": false,
     "input": [
      "sent = {}\n",
      "with open(\"data/sentiment.txt\",\"r\") as text:\n",
      "    for line in text:\n",
      "        key, value = line.split('\\t')\n",
      "        sent[key] = int(value)"
     ],
     "language": "python",
     "metadata": {},
     "outputs": [],
     "prompt_number": 617
    },
    {
     "cell_type": "code",
     "collapsed": false,
     "input": [
      "sample_text = al['text'].values[2]"
     ],
     "language": "python",
     "metadata": {},
     "outputs": [],
     "prompt_number": 638
    },
    {
     "cell_type": "code",
     "collapsed": false,
     "input": [
      "al['text'] = al['text'].astype(str)"
     ],
     "language": "python",
     "metadata": {},
     "outputs": [],
     "prompt_number": 655
    },
    {
     "cell_type": "code",
     "collapsed": false,
     "input": [
      "al['text'][al['text'].apply(len) < 500]"
     ],
     "language": "python",
     "metadata": {},
     "outputs": [
      {
       "metadata": {},
       "output_type": "pyout",
       "prompt_number": 660,
       "text": [
        "595      Private Lives Personal essays on the news of ...\n",
        "596                                              abortion\n",
        "1438    Tom Edsall on politics inside and outside of W...\n",
        "1439                                             abortion\n",
        "1448    Tom Edsall on politics inside and outside of W...\n",
        "1449                                             abortion\n",
        "1460    Tom Edsall on politics inside and outside of W...\n",
        "1461                                             abortion\n",
        "1493    Tom Edsall on politics inside and outside of W...\n",
        "1494                                             abortion\n",
        "1530    Tom Edsall on politics inside and outside of W...\n",
        "1531                                             abortion\n",
        "1537    Tom Edsall on politics inside and outside of W...\n",
        "1538                                             abortion\n",
        "1555    Tom Edsall on politics inside and outside of W...\n",
        "1556                                             abortion\n",
        "1566    Tom Edsall on politics inside and outside of W...\n",
        "1567                                             abortion\n",
        "1976    Fixes looks at solutions to social problems an...\n",
        "1977                                                  nan\n",
        "1978                                             abortion\n",
        "1359    The future of modern medicine took a new direc...\n",
        "1375    The 36th anniversary of Roe v Wade coincides w...\n",
        "171     Part 4 of the TED Radio Hour episode Spoken An...\n",
        "726     To The San Francisco Chronicle its the Walmart...\n",
        "729     On todays Planet Money Fourteen states have ad...\n",
        "794     What Preston Sturges was to the quick witted a...\n",
        "Name: text, dtype: object"
       ]
      }
     ],
     "prompt_number": 660
    },
    {
     "cell_type": "code",
     "collapsed": false,
     "input": [
      "from __future__ import division\n",
      "def score_sentiment(text):\n",
      "    total_sent = 0\n",
      "    words = text.split()\n",
      "    for word in words:\n",
      "        total_sent += sent.get(word, 0)\n",
      "    return total_sent / len(words)"
     ],
     "language": "python",
     "metadata": {},
     "outputs": [],
     "prompt_number": 656
    },
    {
     "cell_type": "code",
     "collapsed": false,
     "input": [
      "al['text'].apply(score_sentiment)"
     ],
     "language": "python",
     "metadata": {},
     "outputs": [
      {
       "metadata": {},
       "output_type": "pyout",
       "prompt_number": 657,
       "text": [
        "0    -0.083333\n",
        "1     0.110187\n",
        "2    -0.054688\n",
        "3    -0.099256\n",
        "4    -0.002755\n",
        "5    -0.020677\n",
        "6    -0.007905\n",
        "7    -0.011364\n",
        "8    -0.083721\n",
        "9     0.038012\n",
        "10    0.001171\n",
        "11    0.033333\n",
        "12   -0.024719\n",
        "13    0.017167\n",
        "14    0.038750\n",
        "...\n",
        "837   -0.022581\n",
        "838    0.034343\n",
        "839    0.010608\n",
        "840   -0.006135\n",
        "841   -0.026616\n",
        "842   -0.021327\n",
        "843    0.000000\n",
        "844   -0.056577\n",
        "845   -0.022785\n",
        "846   -0.007036\n",
        "847   -0.072034\n",
        "848   -0.087734\n",
        "849   -0.021622\n",
        "850   -0.056314\n",
        "851   -0.034435\n",
        "Name: text, Length: 7019, dtype: float64"
       ]
      }
     ],
     "prompt_number": 657
    },
    {
     "cell_type": "code",
     "collapsed": false,
     "input": [
      "sents = pd.read_csv('data/combined_data.csv')\n",
      "sents.head()"
     ],
     "language": "python",
     "metadata": {},
     "outputs": [
      {
       "html": [
        "<div style=\"max-height:1000px;max-width:1500px;overflow:auto;\">\n",
        "<table border=\"1\" class=\"dataframe\">\n",
        "  <thead>\n",
        "    <tr style=\"text-align: right;\">\n",
        "      <th></th>\n",
        "      <th>source</th>\n",
        "      <th>url</th>\n",
        "      <th>text</th>\n",
        "      <th>publish_date</th>\n",
        "      <th>category</th>\n",
        "      <th>num_words</th>\n",
        "      <th>sentiment</th>\n",
        "      <th>sentiment_stemmed</th>\n",
        "    </tr>\n",
        "  </thead>\n",
        "  <tbody>\n",
        "    <tr>\n",
        "      <th>0</th>\n",
        "      <td> NYT</td>\n",
        "      <td> http://www.nytimes.com/aponline/2014/11/05/wor...</td>\n",
        "      <td> WELLINGTON New Zealand   The drummer for rock ...</td>\n",
        "      <td> 20141105</td>\n",
        "      <td> marijuana</td>\n",
        "      <td> 120</td>\n",
        "      <td>-0.083333</td>\n",
        "      <td>-0.025000</td>\n",
        "    </tr>\n",
        "    <tr>\n",
        "      <th>1</th>\n",
        "      <td> NYT</td>\n",
        "      <td> http://www.nytimes.com/reuters/2014/11/05/arts...</td>\n",
        "      <td> NASHVILLE Tenn Reuters  Miranda Lambert and Ka...</td>\n",
        "      <td> 20141105</td>\n",
        "      <td> marijuana</td>\n",
        "      <td> 481</td>\n",
        "      <td> 0.110187</td>\n",
        "      <td> 0.106029</td>\n",
        "    </tr>\n",
        "    <tr>\n",
        "      <th>2</th>\n",
        "      <td> NYT</td>\n",
        "      <td> http://www.nytimes.com/aponline/2014/11/05/us/...</td>\n",
        "      <td> TUSCALOOSA Ala   Tuscaloosa police have arrest...</td>\n",
        "      <td> 20141105</td>\n",
        "      <td> marijuana</td>\n",
        "      <td> 128</td>\n",
        "      <td>-0.054688</td>\n",
        "      <td> 0.007812</td>\n",
        "    </tr>\n",
        "    <tr>\n",
        "      <th>3</th>\n",
        "      <td> NYT</td>\n",
        "      <td> http://www.nytimes.com/reuters/2014/11/05/us/0...</td>\n",
        "      <td> NEW YORK   Two New York police officers have b...</td>\n",
        "      <td> 20141105</td>\n",
        "      <td> marijuana</td>\n",
        "      <td> 403</td>\n",
        "      <td>-0.099256</td>\n",
        "      <td>-0.004963</td>\n",
        "    </tr>\n",
        "    <tr>\n",
        "      <th>4</th>\n",
        "      <td> NYT</td>\n",
        "      <td> http://www.nytimes.com/aponline/2014/11/05/us/...</td>\n",
        "      <td> WASHINGTON   The national marijuana legalizati...</td>\n",
        "      <td> 20141105</td>\n",
        "      <td> marijuana</td>\n",
        "      <td> 726</td>\n",
        "      <td>-0.002755</td>\n",
        "      <td> 0.016529</td>\n",
        "    </tr>\n",
        "  </tbody>\n",
        "</table>\n",
        "</div>"
       ],
       "metadata": {},
       "output_type": "pyout",
       "prompt_number": 691,
       "text": [
        "  source                                                url  \\\n",
        "0    NYT  http://www.nytimes.com/aponline/2014/11/05/wor...   \n",
        "1    NYT  http://www.nytimes.com/reuters/2014/11/05/arts...   \n",
        "2    NYT  http://www.nytimes.com/aponline/2014/11/05/us/...   \n",
        "3    NYT  http://www.nytimes.com/reuters/2014/11/05/us/0...   \n",
        "4    NYT  http://www.nytimes.com/aponline/2014/11/05/us/...   \n",
        "\n",
        "                                                text publish_date   category  \\\n",
        "0  WELLINGTON New Zealand   The drummer for rock ...     20141105  marijuana   \n",
        "1  NASHVILLE Tenn Reuters  Miranda Lambert and Ka...     20141105  marijuana   \n",
        "2  TUSCALOOSA Ala   Tuscaloosa police have arrest...     20141105  marijuana   \n",
        "3  NEW YORK   Two New York police officers have b...     20141105  marijuana   \n",
        "4  WASHINGTON   The national marijuana legalizati...     20141105  marijuana   \n",
        "\n",
        "   num_words  sentiment  sentiment_stemmed  \n",
        "0        120  -0.083333          -0.025000  \n",
        "1        481   0.110187           0.106029  \n",
        "2        128  -0.054688           0.007812  \n",
        "3        403  -0.099256          -0.004963  \n",
        "4        726  -0.002755           0.016529  "
       ]
      }
     ],
     "prompt_number": 691
    },
    {
     "cell_type": "code",
     "collapsed": false,
     "input": [
      "sents.groupby(['source', 'category'])['sentiment'].mean()"
     ],
     "language": "python",
     "metadata": {},
     "outputs": [
      {
       "metadata": {},
       "output_type": "pyout",
       "prompt_number": 688,
       "text": [
        "source  category \n",
        "Fox     abortion    -0.004118\n",
        "        marijuana   -0.029082\n",
        "MSNBC   abortion    -0.006071\n",
        "        marijuana   -0.005333\n",
        "NPR     abortion     0.003253\n",
        "        marijuana   -0.002800\n",
        "NYT     abortion     0.005027\n",
        "        marijuana   -0.021335\n",
        "Name: sentiment, dtype: float64"
       ]
      }
     ],
     "prompt_number": 688
    },
    {
     "cell_type": "code",
     "collapsed": false,
     "input": [
      "sents.groupby(['source', 'category'])['sentiment'].std()"
     ],
     "language": "python",
     "metadata": {},
     "outputs": [
      {
       "metadata": {},
       "output_type": "pyout",
       "prompt_number": 668,
       "text": [
        "source  category \n",
        "Fox     abortion     0.030279\n",
        "        marijuana    0.050366\n",
        "MSNBC   abortion     0.034837\n",
        "        marijuana    0.042706\n",
        "NPR     abortion     0.034003\n",
        "        marijuana    0.040194\n",
        "NYT     abortion     0.035167\n",
        "        marijuana    0.045909\n",
        "Name: sentiment, dtype: float64"
       ]
      }
     ],
     "prompt_number": 668
    },
    {
     "cell_type": "code",
     "collapsed": false,
     "input": [
      "from nltk.stem.snowball import SnowballStemmer\n",
      "\n"
     ],
     "language": "python",
     "metadata": {},
     "outputs": [
      {
       "metadata": {},
       "output_type": "pyout",
       "prompt_number": 674,
       "text": [
        "u'play'"
       ]
      }
     ],
     "prompt_number": 674
    },
    {
     "cell_type": "code",
     "collapsed": false,
     "input": [
      "from nltk.stem import SnowballStemmer\n",
      "sent_dict_stemmed = {}\n",
      "for k,v in sent.iteritems():\n",
      "    try:\n",
      "        sent_dict_stemmed[snowball.stem(k)] = v\n",
      "    except:\n",
      "        print k\n",
      "    "
     ],
     "language": "python",
     "metadata": {},
     "outputs": [
      {
       "output_type": "stream",
       "stream": "stdout",
       "text": [
        "na\u00efve\n"
       ]
      }
     ],
     "prompt_number": 680
    },
    {
     "cell_type": "code",
     "collapsed": false,
     "input": [
      "[snowball.stem(word) for word in sample_text.lower().split()]\n",
      "    "
     ],
     "language": "python",
     "metadata": {},
     "outputs": [
      {
       "metadata": {},
       "output_type": "pyout",
       "prompt_number": 686,
       "text": [
        "[u'tuscaloosa',\n",
        " u'ala',\n",
        " u'tuscaloosa',\n",
        " u'polic',\n",
        " u'have',\n",
        " u'arrest',\n",
        " u'former',\n",
        " u'alabama',\n",
        " u'and',\n",
        " u'nfl',\n",
        " u'fullback',\n",
        " u'leron',\n",
        " u'mcclain',\n",
        " 'on',\n",
        " 'a',\n",
        " u'synthet',\n",
        " u'marijuana',\n",
        " u'traffick',\n",
        " u'chargepolic',\n",
        " u'spokesman',\n",
        " u'sgt',\n",
        " u'brent',\n",
        " u'blankley',\n",
        " u'say',\n",
        " u'29yearold',\n",
        " u'mcclain',\n",
        " u'was',\n",
        " u'arrest',\n",
        " u'wednesday',\n",
        " u'after',\n",
        " u'narcot',\n",
        " u'agent',\n",
        " u'recov',\n",
        " u'122',\n",
        " u'gram',\n",
        " 'of',\n",
        " u'synthet',\n",
        " u'marijuana',\n",
        " 'or',\n",
        " u'spiceag',\n",
        " u'told',\n",
        " u'mcclain',\n",
        " u'theyd',\n",
        " u'issu',\n",
        " 'a',\n",
        " u'warrant',\n",
        " u'when',\n",
        " u'test',\n",
        " u'result',\n",
        " 'on',\n",
        " u'the',\n",
        " u'substanc',\n",
        " u'came',\n",
        " u'back',\n",
        " u'later',\n",
        " 'in',\n",
        " u'the',\n",
        " u'day',\n",
        " u'the',\n",
        " u'releas',\n",
        " u'said',\n",
        " u'author',\n",
        " u'told',\n",
        " u'mcclain',\n",
        " u'not',\n",
        " 'to',\n",
        " u'leav',\n",
        " u'tuscaloosa',\n",
        " u'patrol',\n",
        " u'offic',\n",
        " u'serv',\n",
        " u'the',\n",
        " u'warrant',\n",
        " 'at',\n",
        " u'the',\n",
        " u'home',\n",
        " 'of',\n",
        " u'mcclain',\n",
        " u'mother',\n",
        " u'said',\n",
        " u'they',\n",
        " u'were',\n",
        " u'initi',\n",
        " u'told',\n",
        " u'that',\n",
        " 'he',\n",
        " u'had',\n",
        " u'left',\n",
        " u'the',\n",
        " u'stateblankley',\n",
        " u'say',\n",
        " u'mcclain',\n",
        " 'is',\n",
        " u'be',\n",
        " u'held',\n",
        " 'on',\n",
        " u'500000',\n",
        " u'bondmcclain',\n",
        " u'origin',\n",
        " 'of',\n",
        " u'fort',\n",
        " u'wayn',\n",
        " u'indiana',\n",
        " u'was',\n",
        " u'releas',\n",
        " 'in',\n",
        " u'march',\n",
        " u'after',\n",
        " u'two',\n",
        " u'season',\n",
        " u'with',\n",
        " u'the',\n",
        " u'san',\n",
        " u'diego',\n",
        " u'charger',\n",
        " 'he',\n",
        " u'also',\n",
        " u'play',\n",
        " u'with',\n",
        " u'baltimor',\n",
        " u'and',\n",
        " u'kansa',\n",
        " u'citi',\n",
        " 'in',\n",
        " 'a',\n",
        " u'sevenyear',\n",
        " u'nfl',\n",
        " u'career']"
       ]
      }
     ],
     "prompt_number": 686
    },
    {
     "cell_type": "code",
     "collapsed": false,
     "input": [
      "snowball.stem('playing.')"
     ],
     "language": "python",
     "metadata": {},
     "outputs": [
      {
       "metadata": {},
       "output_type": "pyout",
       "prompt_number": 693,
       "text": [
        "u'playing.'"
       ]
      }
     ],
     "prompt_number": 693
    },
    {
     "cell_type": "code",
     "collapsed": false,
     "input": [
      "re.sub(r'[^\\w\\s]','','playing. Playing')"
     ],
     "language": "python",
     "metadata": {},
     "outputs": [
      {
       "metadata": {},
       "output_type": "pyout",
       "prompt_number": 697,
       "text": [
        "'playing Playing'"
       ]
      }
     ],
     "prompt_number": 697
    },
    {
     "cell_type": "code",
     "collapsed": false,
     "input": [],
     "language": "python",
     "metadata": {},
     "outputs": []
    }
   ],
   "metadata": {}
  }
 ]
}