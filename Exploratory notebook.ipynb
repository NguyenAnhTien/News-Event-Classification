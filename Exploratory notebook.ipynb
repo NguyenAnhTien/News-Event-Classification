{
 "metadata": {
  "name": "",
  "signature": "sha256:782de59a20e0832dd592117fb4cd1073d92e1ffdbf94b1156d688f17cebf6934"
 },
 "nbformat": 3,
 "nbformat_minor": 0,
 "worksheets": [
  {
   "cells": [
    {
     "cell_type": "code",
     "collapsed": false,
     "input": [
      "%pylab inline\n",
      "import pandas as pd\n",
      "import numpy as np\n",
      "from sklearn.feature_extraction.text import TfidfVectorizer\n",
      "import re\n",
      "from sklearn.naive_bayes import MultinomialNB\n",
      "from sklearn.ensemble import RandomForestRegressor"
     ],
     "language": "python",
     "metadata": {},
     "outputs": [
      {
       "output_type": "stream",
       "stream": "stdout",
       "text": [
        "Populating the interactive namespace from numpy and matplotlib\n"
       ]
      }
     ],
     "prompt_number": 83
    },
    {
     "cell_type": "code",
     "collapsed": false,
     "input": [
      "data = pd.read_csv(\"prelim_data.csv\")\n",
      "data['Article'] = data['Article'].apply(lambda x: str(re.sub('[^\\w\\s]+', '', x)))\n",
      "data['Article'] = data['Article'].apply(lambda x: str(re.sub('[\\r]+', ' ', x)))"
     ],
     "language": "python",
     "metadata": {},
     "outputs": [],
     "prompt_number": 63
    },
    {
     "cell_type": "code",
     "collapsed": false,
     "input": [
      "vec = TfidfVectorizer(stop_words='english')"
     ],
     "language": "python",
     "metadata": {},
     "outputs": [],
     "prompt_number": 64
    },
    {
     "cell_type": "code",
     "collapsed": false,
     "input": [
      "X = data['Article'].values\n",
      "label = data['source'].values\n",
      "y = data['rating']\n",
      "test_indices = [0, 5, 10, 15, 20]\n",
      "train_indices = [num for num in range(25) if num not in test_indices]\n",
      "X_train, X_test = X[train_indices], X[test_indices]\n",
      "y_train, y_test = y[train_indices], y[test_indices]\n",
      "label_train, label_test = label[train_indices], label[test_indices]\n",
      "X_train_mat = vec.fit_transform(X_train).toarray()"
     ],
     "language": "python",
     "metadata": {},
     "outputs": [],
     "prompt_number": 109
    },
    {
     "cell_type": "code",
     "collapsed": false,
     "input": [
      "vec_test = TfidfVectorizer(stop_words='english', vocabulary=vec.vocabulary_)\n",
      "X_test_mat = vec_test.fit_transform(X_test).toarray()"
     ],
     "language": "python",
     "metadata": {},
     "outputs": [],
     "prompt_number": 119
    },
    {
     "cell_type": "code",
     "collapsed": false,
     "input": [
      "rf = RandomForestRegressor() \n",
      "rf.fit(X_train_mat, y_train)"
     ],
     "language": "python",
     "metadata": {},
     "outputs": [
      {
       "metadata": {},
       "output_type": "pyout",
       "prompt_number": 120,
       "text": [
        "RandomForestRegressor(bootstrap=True, compute_importances=None,\n",
        "           criterion='mse', max_depth=None, max_features='auto',\n",
        "           min_density=None, min_samples_leaf=1, min_samples_split=2,\n",
        "           n_estimators=10, n_jobs=1, oob_score=False, random_state=None,\n",
        "           verbose=0)"
       ]
      }
     ],
     "prompt_number": 120
    },
    {
     "cell_type": "code",
     "collapsed": false,
     "input": [
      "rf.predict(X_train_mat)"
     ],
     "language": "python",
     "metadata": {},
     "outputs": [
      {
       "metadata": {},
       "output_type": "pyout",
       "prompt_number": 121,
       "text": [
        "array([ 0.38,  0.24,  0.27,  0.29,  0.42,  0.43,  0.32,  0.47,  0.64,\n",
        "        0.65,  0.63,  0.62,  0.62,  0.59,  0.55,  0.47,  0.16,  0.13,\n",
        "        0.13,  0.15])"
       ]
      }
     ],
     "prompt_number": 121
    },
    {
     "cell_type": "code",
     "collapsed": false,
     "input": [
      "label_train"
     ],
     "language": "python",
     "metadata": {},
     "outputs": [
      {
       "metadata": {},
       "output_type": "pyout",
       "prompt_number": 122,
       "text": [
        "array(['npr', 'npr', 'npr', 'npr', 'cnn', 'cnn', 'cnn', 'cnn', 'fox',\n",
        "       'fox', 'fox', 'fox', 'msnbc', 'msnbc', 'msnbc', 'msnbc',\n",
        "       'wikipedia', 'wikipedia', 'wikipedia', 'wikipedia'], dtype=object)"
       ]
      }
     ],
     "prompt_number": 122
    },
    {
     "cell_type": "code",
     "collapsed": false,
     "input": [
      "rf.score(X_train_mat, y_train)"
     ],
     "language": "python",
     "metadata": {},
     "outputs": [
      {
       "metadata": {},
       "output_type": "pyout",
       "prompt_number": 123,
       "text": [
        "0.863719512195122"
       ]
      }
     ],
     "prompt_number": 123
    },
    {
     "cell_type": "code",
     "collapsed": false,
     "input": [
      "rf.score(X_test_mat, y_test)"
     ],
     "language": "python",
     "metadata": {},
     "outputs": [
      {
       "metadata": {},
       "output_type": "pyout",
       "prompt_number": 124,
       "text": [
        "0.16097560975609748"
       ]
      }
     ],
     "prompt_number": 124
    },
    {
     "cell_type": "code",
     "collapsed": false,
     "input": [
      "rf.predict(X_test_mat)"
     ],
     "language": "python",
     "metadata": {},
     "outputs": [
      {
       "metadata": {},
       "output_type": "pyout",
       "prompt_number": 125,
       "text": [
        "array([ 0.42,  0.5 ,  0.5 ,  0.42,  0.38])"
       ]
      }
     ],
     "prompt_number": 125
    },
    {
     "cell_type": "code",
     "collapsed": false,
     "input": [
      "label_test"
     ],
     "language": "python",
     "metadata": {},
     "outputs": [
      {
       "metadata": {},
       "output_type": "pyout",
       "prompt_number": 126,
       "text": [
        "array(['npr', 'cnn', 'fox', 'msnbc', 'wikipedia'], dtype=object)"
       ]
      }
     ],
     "prompt_number": 126
    },
    {
     "cell_type": "code",
     "collapsed": false,
     "input": [],
     "language": "python",
     "metadata": {},
     "outputs": []
    }
   ],
   "metadata": {}
  }
 ]
}